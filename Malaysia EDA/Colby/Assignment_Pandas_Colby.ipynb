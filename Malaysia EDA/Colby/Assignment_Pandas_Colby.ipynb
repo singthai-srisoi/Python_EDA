{
  "cells": [
    {
      "cell_type": "markdown",
      "metadata": {
        "id": "view-in-github",
        "colab_type": "text"
      },
      "source": [
        "<a href=\"https://colab.research.google.com/github/drshahizan/Python_EDA/blob/main/Malaysia%20EDA/Colby/Assignment_Pandas_Colby.ipynb\" target=\"_parent\"><img src=\"https://colab.research.google.com/assets/colab-badge.svg\" alt=\"Open In Colab\"/></a>"
      ]
    },
    {
      "cell_type": "markdown",
      "metadata": {
        "id": "7F8DQl5dVJJ0"
      },
      "source": [
        "# Malaysia GE-14 Result\n",
        "\n",
        "This project is to examine the Malaysian general election result in 2018. The dataset consists of 1647 rows and 12 columns and is acquired from https://www.kaggle.com/. From this dataset, we could investigate the election result in terms of state results by candidate via data preparation, cleaning, and visualization. "
      ]
    },
    {
      "cell_type": "markdown",
      "source": [
        "**Group members:**\n",
        "1. Chloe Racquelmae Kennedy A20EC0026\n",
        "2. Lee Cai Xuan A20EC0062"
      ],
      "metadata": {
        "id": "jwvJUDt8yg7Y"
      }
    },
    {
      "cell_type": "markdown",
      "metadata": {
        "id": "LxWzVndBVJJ1"
      },
      "source": [
        "## Downloading the Dataset\n",
        "\n",
        "* Election-Results-2018 - State_Results_By_Candidate   \n",
        "* List of each candidate's results for the parliamentary and state elections in GE14.\n",
        "* A combination of 12 columns and 1647 rows\n",
        "\n",
        "#### Attribute Information:\n",
        "<table>\n",
        "    <thead>\n",
        "        <tr>\n",
        "            <th>Attribute</th>\n",
        "            <th>Acronym</th>\n",
        "            <th>Description</th>\n",
        "        </tr>\n",
        "    </thead>\n",
        "    <tbody>\n",
        "        <tr>\n",
        "            <td rowspan=2>Gender</td>\n",
        "            <td>L</td>\n",
        "            <td>Male (Lelaki)</td>\n",
        "        </tr>\n",
        "        <tr>\n",
        "            <td>P</td>\n",
        "            <td>Female (Perempuan)</td>\n",
        "        </tr>\n",
        "        <tr>\n",
        "            <td rowspan=2>Status</td>\n",
        "            <td>MNG</td>\n",
        "            <td>Win (Menang)</td>\n",
        "        </tr>\n",
        "        <tr>\n",
        "            <td>KLH</td>\n",
        "            <td>Lose (Kalah)</td>\n",
        "        </tr>\n",
        "    </tbody>\n",
        "</table>\n"
      ]
    },
    {
      "cell_type": "markdown",
      "metadata": {
        "id": "GhhO14GEVJJ2"
      },
      "source": [
        "Let's begin by downloading the data, and listing the files within the dataset.\n",
        "\n",
        "There are 2 options:"
      ]
    },
    {
      "cell_type": "markdown",
      "source": [
        "**1. Load the dataset directly from Kaggle into Google Colab**\n",
        "\n",
        "  Download the API Credentials first and then use the code below:"
      ],
      "metadata": {
        "id": "4-Gc7BT6rwA4"
      }
    },
    {
      "cell_type": "code",
      "execution_count": null,
      "metadata": {
        "id": "90nIoWQtVJJ3",
        "colab": {
          "base_uri": "https://localhost:8080/"
        },
        "outputId": "b915b3f8-e4af-4e8c-ea32-5b456c1d0922"
      },
      "outputs": [
        {
          "output_type": "stream",
          "name": "stdout",
          "text": [
            "Looking in indexes: https://pypi.org/simple, https://us-python.pkg.dev/colab-wheels/public/simple/\n",
            "Requirement already satisfied: kaggle in /usr/local/lib/python3.8/dist-packages (1.5.12)\n",
            "Requirement already satisfied: requests in /usr/local/lib/python3.8/dist-packages (from kaggle) (2.23.0)\n",
            "Requirement already satisfied: certifi in /usr/local/lib/python3.8/dist-packages (from kaggle) (2022.12.7)\n",
            "Requirement already satisfied: six>=1.10 in /usr/local/lib/python3.8/dist-packages (from kaggle) (1.15.0)\n",
            "Requirement already satisfied: python-slugify in /usr/local/lib/python3.8/dist-packages (from kaggle) (7.0.0)\n",
            "Requirement already satisfied: urllib3 in /usr/local/lib/python3.8/dist-packages (from kaggle) (1.24.3)\n",
            "Requirement already satisfied: python-dateutil in /usr/local/lib/python3.8/dist-packages (from kaggle) (2.8.2)\n",
            "Requirement already satisfied: tqdm in /usr/local/lib/python3.8/dist-packages (from kaggle) (4.64.1)\n",
            "Requirement already satisfied: text-unidecode>=1.3 in /usr/local/lib/python3.8/dist-packages (from python-slugify->kaggle) (1.3)\n",
            "Requirement already satisfied: chardet<4,>=3.0.2 in /usr/local/lib/python3.8/dist-packages (from requests->kaggle) (3.0.4)\n",
            "Requirement already satisfied: idna<3,>=2.5 in /usr/local/lib/python3.8/dist-packages (from requests->kaggle) (2.10)\n",
            "mkdir: cannot create directory ‘/root/.kaggle’: File exists\n",
            "Downloading malaysia-ge14-election-results-parliament.zip to /content\n",
            "  0% 0.00/76.2k [00:00<?, ?B/s]\n",
            "100% 76.2k/76.2k [00:00<00:00, 55.3MB/s]\n"
          ]
        }
      ],
      "source": [
        "! pip install kaggle\n",
        "! mkdir ~/.kaggle\n",
        "! cp kaggle.json ~/.kaggle/\n",
        "! chmod 600 ~/.kaggle/kaggle.json\n",
        "! kaggle datasets download -d terenctb/malaysia-ge14-election-results-parliament"
      ]
    },
    {
      "cell_type": "markdown",
      "source": [
        "  Unzip the dataset file"
      ],
      "metadata": {
        "id": "ODA97e85srjK"
      }
    },
    {
      "cell_type": "code",
      "execution_count": null,
      "metadata": {
        "id": "oAVmLuq2VJJ3",
        "colab": {
          "base_uri": "https://localhost:8080/"
        },
        "outputId": "41e6e935-e1cc-430b-844c-2a87dc93c431"
      },
      "outputs": [
        {
          "output_type": "stream",
          "name": "stdout",
          "text": [
            "Archive:  malaysia-ge14-election-results-parliament.zip\n",
            "  inflating: Election-Results-2018 - Parlimen_Results_By_Candidate.csv  \n",
            "  inflating: Election-Results-2018 - State_Results_By_Candidate.csv  \n",
            "  inflating: Election-Results-2018 - Total_Votes_by_Seat.csv  \n"
          ]
        }
      ],
      "source": [
        "! unzip malaysia-ge14-election-results-parliament.zip"
      ]
    },
    {
      "cell_type": "markdown",
      "source": [
        "**2. Download the dataset directly from the website:**\n",
        "https://www.kaggle.com/datasets/terenctb/malaysia-ge14-election-results-parliament?select=Election-Results-2018+-+State_Results_By_Candidate.csv\n",
        "\n",
        "  From the data explorer in Kaggle, download the dataset named \"Election-Results-2018 - State_Results_By_Candidate\" (141.17kB)"
      ],
      "metadata": {
        "id": "L-wWQ6vCrMoc"
      }
    },
    {
      "cell_type": "markdown",
      "metadata": {
        "id": "XXnPmr-JVJJ3"
      },
      "source": [
        "The dataset has been downloaded and extracted."
      ]
    },
    {
      "cell_type": "markdown",
      "source": [
        "**Next step**\n",
        "\n",
        "Upload the downloaded dataset into github which could be access from this link: \n",
        "https://raw.githubusercontent.com/Racquelmae/dataset/main/Election-Results-2018%20-%20State_Results_By_Candidate.csv"
      ],
      "metadata": {
        "id": "2z163ujltoaN"
      }
    },
    {
      "cell_type": "markdown",
      "metadata": {
        "id": "u0vucnGFVJJ5"
      },
      "source": [
        "## Data Preparation and Cleaning\n",
        "\n",
        "In this process, the dataset will be clean and transform to make sure it is prepare for the analysis step and could produce great visualization. \n"
      ]
    },
    {
      "cell_type": "markdown",
      "source": [
        "**Step 1:** Load the dataset into a data frame using Pandas"
      ],
      "metadata": {
        "id": "DNGG2-XDui3B"
      }
    },
    {
      "cell_type": "code",
      "execution_count": 2,
      "metadata": {
        "id": "df5R-2s3VJJ5",
        "colab": {
          "base_uri": "https://localhost:8080/",
          "height": 206
        },
        "outputId": "7566f736-20e3-4258-ff2f-5c49ef7f3f66"
      },
      "outputs": [
        {
          "output_type": "execute_result",
          "data": {
            "text/plain": [
              "   State Seat ID    Seat Name                 Candidate Name Candidate Party  \\\n",
              "0  Johor    N.01  BULOH KASAP                   ZAHARI SARIP              BN   \n",
              "1  Johor    N.01  BULOH KASAP            NORSAMSU MOHD YUSOF             PKR   \n",
              "2  Johor    N.02     JEMENTAH                 CHIAM YOK MENG              BN   \n",
              "3  Johor    N.02     JEMENTAH                 TAN CHEN CHOON             PKR   \n",
              "4  Johor    N.02     JEMENTAH  KHAIRUL FAIZI BIN AHMAD KAMIL             PAS   \n",
              "\n",
              "  Votes for Candidate Total Votes Cast % of total Votes  Candidate Win Gender  \\\n",
              "0               9,186           17,495           52.51%              1      L   \n",
              "1               8,309           17,495           47.49%              0      L   \n",
              "2               9,335           27,657           33.75%              0      L   \n",
              "3              16,336           27,657           59.07%              1      L   \n",
              "4               1,986           27,657            7.18%              0      L   \n",
              "\n",
              "  Status Pekerjaan  \n",
              "0    MNG         0  \n",
              "1    KLH         0  \n",
              "2    KLH         0  \n",
              "3    MNG         0  \n",
              "4     HD         0  "
            ],
            "text/html": [
              "\n",
              "  <div id=\"df-a1b28470-05b9-4c4d-a504-a1cf0bc69549\">\n",
              "    <div class=\"colab-df-container\">\n",
              "      <div>\n",
              "<style scoped>\n",
              "    .dataframe tbody tr th:only-of-type {\n",
              "        vertical-align: middle;\n",
              "    }\n",
              "\n",
              "    .dataframe tbody tr th {\n",
              "        vertical-align: top;\n",
              "    }\n",
              "\n",
              "    .dataframe thead th {\n",
              "        text-align: right;\n",
              "    }\n",
              "</style>\n",
              "<table border=\"1\" class=\"dataframe\">\n",
              "  <thead>\n",
              "    <tr style=\"text-align: right;\">\n",
              "      <th></th>\n",
              "      <th>State</th>\n",
              "      <th>Seat ID</th>\n",
              "      <th>Seat Name</th>\n",
              "      <th>Candidate Name</th>\n",
              "      <th>Candidate Party</th>\n",
              "      <th>Votes for Candidate</th>\n",
              "      <th>Total Votes Cast</th>\n",
              "      <th>% of total Votes</th>\n",
              "      <th>Candidate Win</th>\n",
              "      <th>Gender</th>\n",
              "      <th>Status</th>\n",
              "      <th>Pekerjaan</th>\n",
              "    </tr>\n",
              "  </thead>\n",
              "  <tbody>\n",
              "    <tr>\n",
              "      <th>0</th>\n",
              "      <td>Johor</td>\n",
              "      <td>N.01</td>\n",
              "      <td>BULOH KASAP</td>\n",
              "      <td>ZAHARI SARIP</td>\n",
              "      <td>BN</td>\n",
              "      <td>9,186</td>\n",
              "      <td>17,495</td>\n",
              "      <td>52.51%</td>\n",
              "      <td>1</td>\n",
              "      <td>L</td>\n",
              "      <td>MNG</td>\n",
              "      <td>0</td>\n",
              "    </tr>\n",
              "    <tr>\n",
              "      <th>1</th>\n",
              "      <td>Johor</td>\n",
              "      <td>N.01</td>\n",
              "      <td>BULOH KASAP</td>\n",
              "      <td>NORSAMSU MOHD YUSOF</td>\n",
              "      <td>PKR</td>\n",
              "      <td>8,309</td>\n",
              "      <td>17,495</td>\n",
              "      <td>47.49%</td>\n",
              "      <td>0</td>\n",
              "      <td>L</td>\n",
              "      <td>KLH</td>\n",
              "      <td>0</td>\n",
              "    </tr>\n",
              "    <tr>\n",
              "      <th>2</th>\n",
              "      <td>Johor</td>\n",
              "      <td>N.02</td>\n",
              "      <td>JEMENTAH</td>\n",
              "      <td>CHIAM YOK MENG</td>\n",
              "      <td>BN</td>\n",
              "      <td>9,335</td>\n",
              "      <td>27,657</td>\n",
              "      <td>33.75%</td>\n",
              "      <td>0</td>\n",
              "      <td>L</td>\n",
              "      <td>KLH</td>\n",
              "      <td>0</td>\n",
              "    </tr>\n",
              "    <tr>\n",
              "      <th>3</th>\n",
              "      <td>Johor</td>\n",
              "      <td>N.02</td>\n",
              "      <td>JEMENTAH</td>\n",
              "      <td>TAN CHEN CHOON</td>\n",
              "      <td>PKR</td>\n",
              "      <td>16,336</td>\n",
              "      <td>27,657</td>\n",
              "      <td>59.07%</td>\n",
              "      <td>1</td>\n",
              "      <td>L</td>\n",
              "      <td>MNG</td>\n",
              "      <td>0</td>\n",
              "    </tr>\n",
              "    <tr>\n",
              "      <th>4</th>\n",
              "      <td>Johor</td>\n",
              "      <td>N.02</td>\n",
              "      <td>JEMENTAH</td>\n",
              "      <td>KHAIRUL FAIZI BIN AHMAD KAMIL</td>\n",
              "      <td>PAS</td>\n",
              "      <td>1,986</td>\n",
              "      <td>27,657</td>\n",
              "      <td>7.18%</td>\n",
              "      <td>0</td>\n",
              "      <td>L</td>\n",
              "      <td>HD</td>\n",
              "      <td>0</td>\n",
              "    </tr>\n",
              "  </tbody>\n",
              "</table>\n",
              "</div>\n",
              "      <button class=\"colab-df-convert\" onclick=\"convertToInteractive('df-a1b28470-05b9-4c4d-a504-a1cf0bc69549')\"\n",
              "              title=\"Convert this dataframe to an interactive table.\"\n",
              "              style=\"display:none;\">\n",
              "        \n",
              "  <svg xmlns=\"http://www.w3.org/2000/svg\" height=\"24px\"viewBox=\"0 0 24 24\"\n",
              "       width=\"24px\">\n",
              "    <path d=\"M0 0h24v24H0V0z\" fill=\"none\"/>\n",
              "    <path d=\"M18.56 5.44l.94 2.06.94-2.06 2.06-.94-2.06-.94-.94-2.06-.94 2.06-2.06.94zm-11 1L8.5 8.5l.94-2.06 2.06-.94-2.06-.94L8.5 2.5l-.94 2.06-2.06.94zm10 10l.94 2.06.94-2.06 2.06-.94-2.06-.94-.94-2.06-.94 2.06-2.06.94z\"/><path d=\"M17.41 7.96l-1.37-1.37c-.4-.4-.92-.59-1.43-.59-.52 0-1.04.2-1.43.59L10.3 9.45l-7.72 7.72c-.78.78-.78 2.05 0 2.83L4 21.41c.39.39.9.59 1.41.59.51 0 1.02-.2 1.41-.59l7.78-7.78 2.81-2.81c.8-.78.8-2.07 0-2.86zM5.41 20L4 18.59l7.72-7.72 1.47 1.35L5.41 20z\"/>\n",
              "  </svg>\n",
              "      </button>\n",
              "      \n",
              "  <style>\n",
              "    .colab-df-container {\n",
              "      display:flex;\n",
              "      flex-wrap:wrap;\n",
              "      gap: 12px;\n",
              "    }\n",
              "\n",
              "    .colab-df-convert {\n",
              "      background-color: #E8F0FE;\n",
              "      border: none;\n",
              "      border-radius: 50%;\n",
              "      cursor: pointer;\n",
              "      display: none;\n",
              "      fill: #1967D2;\n",
              "      height: 32px;\n",
              "      padding: 0 0 0 0;\n",
              "      width: 32px;\n",
              "    }\n",
              "\n",
              "    .colab-df-convert:hover {\n",
              "      background-color: #E2EBFA;\n",
              "      box-shadow: 0px 1px 2px rgba(60, 64, 67, 0.3), 0px 1px 3px 1px rgba(60, 64, 67, 0.15);\n",
              "      fill: #174EA6;\n",
              "    }\n",
              "\n",
              "    [theme=dark] .colab-df-convert {\n",
              "      background-color: #3B4455;\n",
              "      fill: #D2E3FC;\n",
              "    }\n",
              "\n",
              "    [theme=dark] .colab-df-convert:hover {\n",
              "      background-color: #434B5C;\n",
              "      box-shadow: 0px 1px 3px 1px rgba(0, 0, 0, 0.15);\n",
              "      filter: drop-shadow(0px 1px 2px rgba(0, 0, 0, 0.3));\n",
              "      fill: #FFFFFF;\n",
              "    }\n",
              "  </style>\n",
              "\n",
              "      <script>\n",
              "        const buttonEl =\n",
              "          document.querySelector('#df-a1b28470-05b9-4c4d-a504-a1cf0bc69549 button.colab-df-convert');\n",
              "        buttonEl.style.display =\n",
              "          google.colab.kernel.accessAllowed ? 'block' : 'none';\n",
              "\n",
              "        async function convertToInteractive(key) {\n",
              "          const element = document.querySelector('#df-a1b28470-05b9-4c4d-a504-a1cf0bc69549');\n",
              "          const dataTable =\n",
              "            await google.colab.kernel.invokeFunction('convertToInteractive',\n",
              "                                                     [key], {});\n",
              "          if (!dataTable) return;\n",
              "\n",
              "          const docLinkHtml = 'Like what you see? Visit the ' +\n",
              "            '<a target=\"_blank\" href=https://colab.research.google.com/notebooks/data_table.ipynb>data table notebook</a>'\n",
              "            + ' to learn more about interactive tables.';\n",
              "          element.innerHTML = '';\n",
              "          dataTable['output_type'] = 'display_data';\n",
              "          await google.colab.output.renderOutput(dataTable, element);\n",
              "          const docLink = document.createElement('div');\n",
              "          docLink.innerHTML = docLinkHtml;\n",
              "          element.appendChild(docLink);\n",
              "        }\n",
              "      </script>\n",
              "    </div>\n",
              "  </div>\n",
              "  "
            ]
          },
          "metadata": {},
          "execution_count": 2
        }
      ],
      "source": [
        "import pandas as pd\n",
        "df = pd.read_csv('https://raw.githubusercontent.com/Racquelmae/dataset/main/Election-Results-2018%20-%20State_Results_By_Candidate.csv')\n",
        "df.head()"
      ]
    },
    {
      "cell_type": "markdown",
      "source": [
        "**Step 2:** Explore the number of rows & columns, ranges of values etc."
      ],
      "metadata": {
        "id": "O4V6cAzLvW9k"
      }
    },
    {
      "cell_type": "code",
      "source": [
        "df.info()"
      ],
      "metadata": {
        "colab": {
          "base_uri": "https://localhost:8080/"
        },
        "id": "MUex1aODzvbZ",
        "outputId": "dd454041-e93f-46c2-82bf-e6dd1fa97acb"
      },
      "execution_count": 146,
      "outputs": [
        {
          "output_type": "stream",
          "name": "stdout",
          "text": [
            "<class 'pandas.core.frame.DataFrame'>\n",
            "RangeIndex: 1646 entries, 0 to 1645\n",
            "Data columns (total 12 columns):\n",
            " #   Column               Non-Null Count  Dtype \n",
            "---  ------               --------------  ----- \n",
            " 0   State                1646 non-null   object\n",
            " 1   Seat ID              1646 non-null   object\n",
            " 2   Seat Name            1646 non-null   object\n",
            " 3   Candidate Name       1646 non-null   object\n",
            " 4   Candidate Party      1646 non-null   object\n",
            " 5   Votes for Candidate  1646 non-null   object\n",
            " 6   Total Votes Cast     1646 non-null   object\n",
            " 7   % of total Votes     1646 non-null   object\n",
            " 8   Candidate Win        1646 non-null   int64 \n",
            " 9   Gender               1646 non-null   object\n",
            " 10  Status               1646 non-null   object\n",
            " 11  Pekerjaan            1646 non-null   object\n",
            "dtypes: int64(1), object(11)\n",
            "memory usage: 154.4+ KB\n"
          ]
        }
      ]
    },
    {
      "cell_type": "code",
      "source": [
        "df.dtypes"
      ],
      "metadata": {
        "colab": {
          "base_uri": "https://localhost:8080/"
        },
        "id": "kdV02gVxvbkh",
        "outputId": "84675d3d-74a2-41ce-b88e-91b43e1758ce"
      },
      "execution_count": 147,
      "outputs": [
        {
          "output_type": "execute_result",
          "data": {
            "text/plain": [
              "State                  object\n",
              "Seat ID                object\n",
              "Seat Name              object\n",
              "Candidate Name         object\n",
              "Candidate Party        object\n",
              "Votes for Candidate    object\n",
              "Total Votes Cast       object\n",
              "% of total Votes       object\n",
              "Candidate Win           int64\n",
              "Gender                 object\n",
              "Status                 object\n",
              "Pekerjaan              object\n",
              "dtype: object"
            ]
          },
          "metadata": {},
          "execution_count": 147
        }
      ]
    },
    {
      "cell_type": "code",
      "source": [
        "df['Candidate Party'].unique()"
      ],
      "metadata": {
        "colab": {
          "base_uri": "https://localhost:8080/"
        },
        "id": "p9ky16xF420B",
        "outputId": "3cff5dbe-8a92-4fab-c387-2ff1ad30dc8d"
      },
      "execution_count": 148,
      "outputs": [
        {
          "output_type": "execute_result",
          "data": {
            "text/plain": [
              "array(['BN', 'PKR', 'PAS', 'BEBAS - POKOK', 'BEBAS - KUDA',\n",
              "       'BEBAS - GAJAH', 'BEBAS - MOTOSIKAL', 'BEBAS - KUNCI',\n",
              "       'BEBAS - BEG', 'PRM', 'PSM', 'BEBAS - PEN', 'BEBAS - CAWAN',\n",
              "       'BEBAS - KERETA', 'BEBAS - BUKU', 'PAP', 'BEBAS - RUMAH',\n",
              "       'BEBAS - CINCIN', 'BEBAS - IKAN', 'MU', 'PFP', 'BEBAS - JAM',\n",
              "       'PCM', 'BEBAS - KAPAL TERBANG', 'BERJASA', 'PPRS', 'HR', 'WARISAN',\n",
              "       'SOLIDARITI', 'PKS', 'PCS', 'ANAKNEGERI', 'BEBAS - TRAKTOR',\n",
              "       'SAPP', 'DAP', 'STAR', 'USNO', 'AMANAH'], dtype=object)"
            ]
          },
          "metadata": {},
          "execution_count": 148
        }
      ]
    },
    {
      "cell_type": "markdown",
      "source": [
        "**Step 3:** Handle missing, incorrect and invalid data"
      ],
      "metadata": {
        "id": "2I252Hl7yc_b"
      }
    },
    {
      "cell_type": "code",
      "source": [
        "df = df.dropna()\n",
        "df"
      ],
      "metadata": {
        "colab": {
          "base_uri": "https://localhost:8080/",
          "height": 424
        },
        "id": "jrWOYMrbzLJN",
        "outputId": "0d1fcf47-7f5e-4620-f673-e106deb5ff89"
      },
      "execution_count": 149,
      "outputs": [
        {
          "output_type": "execute_result",
          "data": {
            "text/plain": [
              "      State Seat ID     Seat Name                 Candidate Name  \\\n",
              "0     Johor    N.01   BULOH KASAP                   ZAHARI SARIP   \n",
              "1     Johor    N.01   BULOH KASAP            NORSAMSU MOHD YUSOF   \n",
              "2     Johor    N.02      JEMENTAH                 CHIAM YOK MENG   \n",
              "3     Johor    N.02      JEMENTAH                 TAN CHEN CHOON   \n",
              "4     Johor    N.02      JEMENTAH  KHAIRUL FAIZI BIN AHMAD KAMIL   \n",
              "...     ...     ...           ...                            ...   \n",
              "1641  Sabah    N.59  TANJONG BATU                  ISMAIL SENANG   \n",
              "1642  Sabah    N.60       SEBATIK                 YUSRI HJ YUNUS   \n",
              "1643  Sabah    N.60       SEBATIK             USTAZ ROSLAN RAMLI   \n",
              "1644  Sabah    N.60       SEBATIK   DATUK HJ. ABD MUIS HJ. PICHO   \n",
              "1645  Sabah    N.60       SEBATIK          HASSAN A GANI PG AMIR   \n",
              "\n",
              "     Candidate Party Votes for Candidate Total Votes Cast % of total Votes  \\\n",
              "0                 BN               9,186           17,495           52.51%   \n",
              "1                PKR               8,309           17,495           47.49%   \n",
              "2                 BN               9,335           27,657           33.75%   \n",
              "3                PKR              16,336           27,657           59.07%   \n",
              "4                PAS               1,986           27,657            7.18%   \n",
              "...              ...                 ...              ...              ...   \n",
              "1641         WARISAN               6,552           16,767           39.08%   \n",
              "1642            PPRS                  38            5,285            0.72%   \n",
              "1643             PAS                 504            5,285            9.54%   \n",
              "1644              BN               2,468            5,285           46.70%   \n",
              "1645         WARISAN               2,275            5,285           43.05%   \n",
              "\n",
              "      Candidate Win Gender Status        Pekerjaan  \n",
              "0                 1      L    MNG                0  \n",
              "1                 0      L    KLH                0  \n",
              "2                 0      L    KLH                0  \n",
              "3                 1      L    MNG                0  \n",
              "4                 0      L     HD                0  \n",
              "...             ...    ...    ...              ...  \n",
              "1641              0      L    KLH  BEKERJA SENDIRI  \n",
              "1642              0      L     HD                0  \n",
              "1643              0      L     HD                0  \n",
              "1644              1      L    MNG            TIADA  \n",
              "1645              0      L    KLH  BEKERJA SENDIRI  \n",
              "\n",
              "[1646 rows x 12 columns]"
            ],
            "text/html": [
              "\n",
              "  <div id=\"df-a728fec8-83ad-47a9-b3cf-01345e9fc69f\">\n",
              "    <div class=\"colab-df-container\">\n",
              "      <div>\n",
              "<style scoped>\n",
              "    .dataframe tbody tr th:only-of-type {\n",
              "        vertical-align: middle;\n",
              "    }\n",
              "\n",
              "    .dataframe tbody tr th {\n",
              "        vertical-align: top;\n",
              "    }\n",
              "\n",
              "    .dataframe thead th {\n",
              "        text-align: right;\n",
              "    }\n",
              "</style>\n",
              "<table border=\"1\" class=\"dataframe\">\n",
              "  <thead>\n",
              "    <tr style=\"text-align: right;\">\n",
              "      <th></th>\n",
              "      <th>State</th>\n",
              "      <th>Seat ID</th>\n",
              "      <th>Seat Name</th>\n",
              "      <th>Candidate Name</th>\n",
              "      <th>Candidate Party</th>\n",
              "      <th>Votes for Candidate</th>\n",
              "      <th>Total Votes Cast</th>\n",
              "      <th>% of total Votes</th>\n",
              "      <th>Candidate Win</th>\n",
              "      <th>Gender</th>\n",
              "      <th>Status</th>\n",
              "      <th>Pekerjaan</th>\n",
              "    </tr>\n",
              "  </thead>\n",
              "  <tbody>\n",
              "    <tr>\n",
              "      <th>0</th>\n",
              "      <td>Johor</td>\n",
              "      <td>N.01</td>\n",
              "      <td>BULOH KASAP</td>\n",
              "      <td>ZAHARI SARIP</td>\n",
              "      <td>BN</td>\n",
              "      <td>9,186</td>\n",
              "      <td>17,495</td>\n",
              "      <td>52.51%</td>\n",
              "      <td>1</td>\n",
              "      <td>L</td>\n",
              "      <td>MNG</td>\n",
              "      <td>0</td>\n",
              "    </tr>\n",
              "    <tr>\n",
              "      <th>1</th>\n",
              "      <td>Johor</td>\n",
              "      <td>N.01</td>\n",
              "      <td>BULOH KASAP</td>\n",
              "      <td>NORSAMSU MOHD YUSOF</td>\n",
              "      <td>PKR</td>\n",
              "      <td>8,309</td>\n",
              "      <td>17,495</td>\n",
              "      <td>47.49%</td>\n",
              "      <td>0</td>\n",
              "      <td>L</td>\n",
              "      <td>KLH</td>\n",
              "      <td>0</td>\n",
              "    </tr>\n",
              "    <tr>\n",
              "      <th>2</th>\n",
              "      <td>Johor</td>\n",
              "      <td>N.02</td>\n",
              "      <td>JEMENTAH</td>\n",
              "      <td>CHIAM YOK MENG</td>\n",
              "      <td>BN</td>\n",
              "      <td>9,335</td>\n",
              "      <td>27,657</td>\n",
              "      <td>33.75%</td>\n",
              "      <td>0</td>\n",
              "      <td>L</td>\n",
              "      <td>KLH</td>\n",
              "      <td>0</td>\n",
              "    </tr>\n",
              "    <tr>\n",
              "      <th>3</th>\n",
              "      <td>Johor</td>\n",
              "      <td>N.02</td>\n",
              "      <td>JEMENTAH</td>\n",
              "      <td>TAN CHEN CHOON</td>\n",
              "      <td>PKR</td>\n",
              "      <td>16,336</td>\n",
              "      <td>27,657</td>\n",
              "      <td>59.07%</td>\n",
              "      <td>1</td>\n",
              "      <td>L</td>\n",
              "      <td>MNG</td>\n",
              "      <td>0</td>\n",
              "    </tr>\n",
              "    <tr>\n",
              "      <th>4</th>\n",
              "      <td>Johor</td>\n",
              "      <td>N.02</td>\n",
              "      <td>JEMENTAH</td>\n",
              "      <td>KHAIRUL FAIZI BIN AHMAD KAMIL</td>\n",
              "      <td>PAS</td>\n",
              "      <td>1,986</td>\n",
              "      <td>27,657</td>\n",
              "      <td>7.18%</td>\n",
              "      <td>0</td>\n",
              "      <td>L</td>\n",
              "      <td>HD</td>\n",
              "      <td>0</td>\n",
              "    </tr>\n",
              "    <tr>\n",
              "      <th>...</th>\n",
              "      <td>...</td>\n",
              "      <td>...</td>\n",
              "      <td>...</td>\n",
              "      <td>...</td>\n",
              "      <td>...</td>\n",
              "      <td>...</td>\n",
              "      <td>...</td>\n",
              "      <td>...</td>\n",
              "      <td>...</td>\n",
              "      <td>...</td>\n",
              "      <td>...</td>\n",
              "      <td>...</td>\n",
              "    </tr>\n",
              "    <tr>\n",
              "      <th>1641</th>\n",
              "      <td>Sabah</td>\n",
              "      <td>N.59</td>\n",
              "      <td>TANJONG BATU</td>\n",
              "      <td>ISMAIL SENANG</td>\n",
              "      <td>WARISAN</td>\n",
              "      <td>6,552</td>\n",
              "      <td>16,767</td>\n",
              "      <td>39.08%</td>\n",
              "      <td>0</td>\n",
              "      <td>L</td>\n",
              "      <td>KLH</td>\n",
              "      <td>BEKERJA SENDIRI</td>\n",
              "    </tr>\n",
              "    <tr>\n",
              "      <th>1642</th>\n",
              "      <td>Sabah</td>\n",
              "      <td>N.60</td>\n",
              "      <td>SEBATIK</td>\n",
              "      <td>YUSRI HJ YUNUS</td>\n",
              "      <td>PPRS</td>\n",
              "      <td>38</td>\n",
              "      <td>5,285</td>\n",
              "      <td>0.72%</td>\n",
              "      <td>0</td>\n",
              "      <td>L</td>\n",
              "      <td>HD</td>\n",
              "      <td>0</td>\n",
              "    </tr>\n",
              "    <tr>\n",
              "      <th>1643</th>\n",
              "      <td>Sabah</td>\n",
              "      <td>N.60</td>\n",
              "      <td>SEBATIK</td>\n",
              "      <td>USTAZ ROSLAN RAMLI</td>\n",
              "      <td>PAS</td>\n",
              "      <td>504</td>\n",
              "      <td>5,285</td>\n",
              "      <td>9.54%</td>\n",
              "      <td>0</td>\n",
              "      <td>L</td>\n",
              "      <td>HD</td>\n",
              "      <td>0</td>\n",
              "    </tr>\n",
              "    <tr>\n",
              "      <th>1644</th>\n",
              "      <td>Sabah</td>\n",
              "      <td>N.60</td>\n",
              "      <td>SEBATIK</td>\n",
              "      <td>DATUK HJ. ABD MUIS HJ. PICHO</td>\n",
              "      <td>BN</td>\n",
              "      <td>2,468</td>\n",
              "      <td>5,285</td>\n",
              "      <td>46.70%</td>\n",
              "      <td>1</td>\n",
              "      <td>L</td>\n",
              "      <td>MNG</td>\n",
              "      <td>TIADA</td>\n",
              "    </tr>\n",
              "    <tr>\n",
              "      <th>1645</th>\n",
              "      <td>Sabah</td>\n",
              "      <td>N.60</td>\n",
              "      <td>SEBATIK</td>\n",
              "      <td>HASSAN A GANI PG AMIR</td>\n",
              "      <td>WARISAN</td>\n",
              "      <td>2,275</td>\n",
              "      <td>5,285</td>\n",
              "      <td>43.05%</td>\n",
              "      <td>0</td>\n",
              "      <td>L</td>\n",
              "      <td>KLH</td>\n",
              "      <td>BEKERJA SENDIRI</td>\n",
              "    </tr>\n",
              "  </tbody>\n",
              "</table>\n",
              "<p>1646 rows × 12 columns</p>\n",
              "</div>\n",
              "      <button class=\"colab-df-convert\" onclick=\"convertToInteractive('df-a728fec8-83ad-47a9-b3cf-01345e9fc69f')\"\n",
              "              title=\"Convert this dataframe to an interactive table.\"\n",
              "              style=\"display:none;\">\n",
              "        \n",
              "  <svg xmlns=\"http://www.w3.org/2000/svg\" height=\"24px\"viewBox=\"0 0 24 24\"\n",
              "       width=\"24px\">\n",
              "    <path d=\"M0 0h24v24H0V0z\" fill=\"none\"/>\n",
              "    <path d=\"M18.56 5.44l.94 2.06.94-2.06 2.06-.94-2.06-.94-.94-2.06-.94 2.06-2.06.94zm-11 1L8.5 8.5l.94-2.06 2.06-.94-2.06-.94L8.5 2.5l-.94 2.06-2.06.94zm10 10l.94 2.06.94-2.06 2.06-.94-2.06-.94-.94-2.06-.94 2.06-2.06.94z\"/><path d=\"M17.41 7.96l-1.37-1.37c-.4-.4-.92-.59-1.43-.59-.52 0-1.04.2-1.43.59L10.3 9.45l-7.72 7.72c-.78.78-.78 2.05 0 2.83L4 21.41c.39.39.9.59 1.41.59.51 0 1.02-.2 1.41-.59l7.78-7.78 2.81-2.81c.8-.78.8-2.07 0-2.86zM5.41 20L4 18.59l7.72-7.72 1.47 1.35L5.41 20z\"/>\n",
              "  </svg>\n",
              "      </button>\n",
              "      \n",
              "  <style>\n",
              "    .colab-df-container {\n",
              "      display:flex;\n",
              "      flex-wrap:wrap;\n",
              "      gap: 12px;\n",
              "    }\n",
              "\n",
              "    .colab-df-convert {\n",
              "      background-color: #E8F0FE;\n",
              "      border: none;\n",
              "      border-radius: 50%;\n",
              "      cursor: pointer;\n",
              "      display: none;\n",
              "      fill: #1967D2;\n",
              "      height: 32px;\n",
              "      padding: 0 0 0 0;\n",
              "      width: 32px;\n",
              "    }\n",
              "\n",
              "    .colab-df-convert:hover {\n",
              "      background-color: #E2EBFA;\n",
              "      box-shadow: 0px 1px 2px rgba(60, 64, 67, 0.3), 0px 1px 3px 1px rgba(60, 64, 67, 0.15);\n",
              "      fill: #174EA6;\n",
              "    }\n",
              "\n",
              "    [theme=dark] .colab-df-convert {\n",
              "      background-color: #3B4455;\n",
              "      fill: #D2E3FC;\n",
              "    }\n",
              "\n",
              "    [theme=dark] .colab-df-convert:hover {\n",
              "      background-color: #434B5C;\n",
              "      box-shadow: 0px 1px 3px 1px rgba(0, 0, 0, 0.15);\n",
              "      filter: drop-shadow(0px 1px 2px rgba(0, 0, 0, 0.3));\n",
              "      fill: #FFFFFF;\n",
              "    }\n",
              "  </style>\n",
              "\n",
              "      <script>\n",
              "        const buttonEl =\n",
              "          document.querySelector('#df-a728fec8-83ad-47a9-b3cf-01345e9fc69f button.colab-df-convert');\n",
              "        buttonEl.style.display =\n",
              "          google.colab.kernel.accessAllowed ? 'block' : 'none';\n",
              "\n",
              "        async function convertToInteractive(key) {\n",
              "          const element = document.querySelector('#df-a728fec8-83ad-47a9-b3cf-01345e9fc69f');\n",
              "          const dataTable =\n",
              "            await google.colab.kernel.invokeFunction('convertToInteractive',\n",
              "                                                     [key], {});\n",
              "          if (!dataTable) return;\n",
              "\n",
              "          const docLinkHtml = 'Like what you see? Visit the ' +\n",
              "            '<a target=\"_blank\" href=https://colab.research.google.com/notebooks/data_table.ipynb>data table notebook</a>'\n",
              "            + ' to learn more about interactive tables.';\n",
              "          element.innerHTML = '';\n",
              "          dataTable['output_type'] = 'display_data';\n",
              "          await google.colab.output.renderOutput(dataTable, element);\n",
              "          const docLink = document.createElement('div');\n",
              "          docLink.innerHTML = docLinkHtml;\n",
              "          element.appendChild(docLink);\n",
              "        }\n",
              "      </script>\n",
              "    </div>\n",
              "  </div>\n",
              "  "
            ]
          },
          "metadata": {},
          "execution_count": 149
        }
      ]
    },
    {
      "cell_type": "markdown",
      "source": [
        "From the output above, it shows that there are still 1646 rows with 12 columns. Therefore, it means that there is no missing values in this dataset.\n",
        "\n"
      ],
      "metadata": {
        "id": "XT1XD1SV0Gj2"
      }
    },
    {
      "cell_type": "code",
      "source": [
        "df = df[df['Total Votes Cast'] != '0']\n",
        "df"
      ],
      "metadata": {
        "colab": {
          "base_uri": "https://localhost:8080/",
          "height": 424
        },
        "id": "7XTOsMvIxH8F",
        "outputId": "14c296cb-624f-4784-cc06-f4b7daf493b0"
      },
      "execution_count": 3,
      "outputs": [
        {
          "output_type": "execute_result",
          "data": {
            "text/plain": [
              "      State Seat ID     Seat Name                 Candidate Name  \\\n",
              "0     Johor    N.01   BULOH KASAP                   ZAHARI SARIP   \n",
              "1     Johor    N.01   BULOH KASAP            NORSAMSU MOHD YUSOF   \n",
              "2     Johor    N.02      JEMENTAH                 CHIAM YOK MENG   \n",
              "3     Johor    N.02      JEMENTAH                 TAN CHEN CHOON   \n",
              "4     Johor    N.02      JEMENTAH  KHAIRUL FAIZI BIN AHMAD KAMIL   \n",
              "...     ...     ...           ...                            ...   \n",
              "1641  Sabah    N.59  TANJONG BATU                  ISMAIL SENANG   \n",
              "1642  Sabah    N.60       SEBATIK                 YUSRI HJ YUNUS   \n",
              "1643  Sabah    N.60       SEBATIK             USTAZ ROSLAN RAMLI   \n",
              "1644  Sabah    N.60       SEBATIK   DATUK HJ. ABD MUIS HJ. PICHO   \n",
              "1645  Sabah    N.60       SEBATIK          HASSAN A GANI PG AMIR   \n",
              "\n",
              "     Candidate Party Votes for Candidate Total Votes Cast % of total Votes  \\\n",
              "0                 BN               9,186           17,495           52.51%   \n",
              "1                PKR               8,309           17,495           47.49%   \n",
              "2                 BN               9,335           27,657           33.75%   \n",
              "3                PKR              16,336           27,657           59.07%   \n",
              "4                PAS               1,986           27,657            7.18%   \n",
              "...              ...                 ...              ...              ...   \n",
              "1641         WARISAN               6,552           16,767           39.08%   \n",
              "1642            PPRS                  38            5,285            0.72%   \n",
              "1643             PAS                 504            5,285            9.54%   \n",
              "1644              BN               2,468            5,285           46.70%   \n",
              "1645         WARISAN               2,275            5,285           43.05%   \n",
              "\n",
              "      Candidate Win Gender Status        Pekerjaan  \n",
              "0                 1      L    MNG                0  \n",
              "1                 0      L    KLH                0  \n",
              "2                 0      L    KLH                0  \n",
              "3                 1      L    MNG                0  \n",
              "4                 0      L     HD                0  \n",
              "...             ...    ...    ...              ...  \n",
              "1641              0      L    KLH  BEKERJA SENDIRI  \n",
              "1642              0      L     HD                0  \n",
              "1643              0      L     HD                0  \n",
              "1644              1      L    MNG            TIADA  \n",
              "1645              0      L    KLH  BEKERJA SENDIRI  \n",
              "\n",
              "[1645 rows x 12 columns]"
            ],
            "text/html": [
              "\n",
              "  <div id=\"df-2482f9c5-38c6-4af0-b9b6-5ccc16d911d9\">\n",
              "    <div class=\"colab-df-container\">\n",
              "      <div>\n",
              "<style scoped>\n",
              "    .dataframe tbody tr th:only-of-type {\n",
              "        vertical-align: middle;\n",
              "    }\n",
              "\n",
              "    .dataframe tbody tr th {\n",
              "        vertical-align: top;\n",
              "    }\n",
              "\n",
              "    .dataframe thead th {\n",
              "        text-align: right;\n",
              "    }\n",
              "</style>\n",
              "<table border=\"1\" class=\"dataframe\">\n",
              "  <thead>\n",
              "    <tr style=\"text-align: right;\">\n",
              "      <th></th>\n",
              "      <th>State</th>\n",
              "      <th>Seat ID</th>\n",
              "      <th>Seat Name</th>\n",
              "      <th>Candidate Name</th>\n",
              "      <th>Candidate Party</th>\n",
              "      <th>Votes for Candidate</th>\n",
              "      <th>Total Votes Cast</th>\n",
              "      <th>% of total Votes</th>\n",
              "      <th>Candidate Win</th>\n",
              "      <th>Gender</th>\n",
              "      <th>Status</th>\n",
              "      <th>Pekerjaan</th>\n",
              "    </tr>\n",
              "  </thead>\n",
              "  <tbody>\n",
              "    <tr>\n",
              "      <th>0</th>\n",
              "      <td>Johor</td>\n",
              "      <td>N.01</td>\n",
              "      <td>BULOH KASAP</td>\n",
              "      <td>ZAHARI SARIP</td>\n",
              "      <td>BN</td>\n",
              "      <td>9,186</td>\n",
              "      <td>17,495</td>\n",
              "      <td>52.51%</td>\n",
              "      <td>1</td>\n",
              "      <td>L</td>\n",
              "      <td>MNG</td>\n",
              "      <td>0</td>\n",
              "    </tr>\n",
              "    <tr>\n",
              "      <th>1</th>\n",
              "      <td>Johor</td>\n",
              "      <td>N.01</td>\n",
              "      <td>BULOH KASAP</td>\n",
              "      <td>NORSAMSU MOHD YUSOF</td>\n",
              "      <td>PKR</td>\n",
              "      <td>8,309</td>\n",
              "      <td>17,495</td>\n",
              "      <td>47.49%</td>\n",
              "      <td>0</td>\n",
              "      <td>L</td>\n",
              "      <td>KLH</td>\n",
              "      <td>0</td>\n",
              "    </tr>\n",
              "    <tr>\n",
              "      <th>2</th>\n",
              "      <td>Johor</td>\n",
              "      <td>N.02</td>\n",
              "      <td>JEMENTAH</td>\n",
              "      <td>CHIAM YOK MENG</td>\n",
              "      <td>BN</td>\n",
              "      <td>9,335</td>\n",
              "      <td>27,657</td>\n",
              "      <td>33.75%</td>\n",
              "      <td>0</td>\n",
              "      <td>L</td>\n",
              "      <td>KLH</td>\n",
              "      <td>0</td>\n",
              "    </tr>\n",
              "    <tr>\n",
              "      <th>3</th>\n",
              "      <td>Johor</td>\n",
              "      <td>N.02</td>\n",
              "      <td>JEMENTAH</td>\n",
              "      <td>TAN CHEN CHOON</td>\n",
              "      <td>PKR</td>\n",
              "      <td>16,336</td>\n",
              "      <td>27,657</td>\n",
              "      <td>59.07%</td>\n",
              "      <td>1</td>\n",
              "      <td>L</td>\n",
              "      <td>MNG</td>\n",
              "      <td>0</td>\n",
              "    </tr>\n",
              "    <tr>\n",
              "      <th>4</th>\n",
              "      <td>Johor</td>\n",
              "      <td>N.02</td>\n",
              "      <td>JEMENTAH</td>\n",
              "      <td>KHAIRUL FAIZI BIN AHMAD KAMIL</td>\n",
              "      <td>PAS</td>\n",
              "      <td>1,986</td>\n",
              "      <td>27,657</td>\n",
              "      <td>7.18%</td>\n",
              "      <td>0</td>\n",
              "      <td>L</td>\n",
              "      <td>HD</td>\n",
              "      <td>0</td>\n",
              "    </tr>\n",
              "    <tr>\n",
              "      <th>...</th>\n",
              "      <td>...</td>\n",
              "      <td>...</td>\n",
              "      <td>...</td>\n",
              "      <td>...</td>\n",
              "      <td>...</td>\n",
              "      <td>...</td>\n",
              "      <td>...</td>\n",
              "      <td>...</td>\n",
              "      <td>...</td>\n",
              "      <td>...</td>\n",
              "      <td>...</td>\n",
              "      <td>...</td>\n",
              "    </tr>\n",
              "    <tr>\n",
              "      <th>1641</th>\n",
              "      <td>Sabah</td>\n",
              "      <td>N.59</td>\n",
              "      <td>TANJONG BATU</td>\n",
              "      <td>ISMAIL SENANG</td>\n",
              "      <td>WARISAN</td>\n",
              "      <td>6,552</td>\n",
              "      <td>16,767</td>\n",
              "      <td>39.08%</td>\n",
              "      <td>0</td>\n",
              "      <td>L</td>\n",
              "      <td>KLH</td>\n",
              "      <td>BEKERJA SENDIRI</td>\n",
              "    </tr>\n",
              "    <tr>\n",
              "      <th>1642</th>\n",
              "      <td>Sabah</td>\n",
              "      <td>N.60</td>\n",
              "      <td>SEBATIK</td>\n",
              "      <td>YUSRI HJ YUNUS</td>\n",
              "      <td>PPRS</td>\n",
              "      <td>38</td>\n",
              "      <td>5,285</td>\n",
              "      <td>0.72%</td>\n",
              "      <td>0</td>\n",
              "      <td>L</td>\n",
              "      <td>HD</td>\n",
              "      <td>0</td>\n",
              "    </tr>\n",
              "    <tr>\n",
              "      <th>1643</th>\n",
              "      <td>Sabah</td>\n",
              "      <td>N.60</td>\n",
              "      <td>SEBATIK</td>\n",
              "      <td>USTAZ ROSLAN RAMLI</td>\n",
              "      <td>PAS</td>\n",
              "      <td>504</td>\n",
              "      <td>5,285</td>\n",
              "      <td>9.54%</td>\n",
              "      <td>0</td>\n",
              "      <td>L</td>\n",
              "      <td>HD</td>\n",
              "      <td>0</td>\n",
              "    </tr>\n",
              "    <tr>\n",
              "      <th>1644</th>\n",
              "      <td>Sabah</td>\n",
              "      <td>N.60</td>\n",
              "      <td>SEBATIK</td>\n",
              "      <td>DATUK HJ. ABD MUIS HJ. PICHO</td>\n",
              "      <td>BN</td>\n",
              "      <td>2,468</td>\n",
              "      <td>5,285</td>\n",
              "      <td>46.70%</td>\n",
              "      <td>1</td>\n",
              "      <td>L</td>\n",
              "      <td>MNG</td>\n",
              "      <td>TIADA</td>\n",
              "    </tr>\n",
              "    <tr>\n",
              "      <th>1645</th>\n",
              "      <td>Sabah</td>\n",
              "      <td>N.60</td>\n",
              "      <td>SEBATIK</td>\n",
              "      <td>HASSAN A GANI PG AMIR</td>\n",
              "      <td>WARISAN</td>\n",
              "      <td>2,275</td>\n",
              "      <td>5,285</td>\n",
              "      <td>43.05%</td>\n",
              "      <td>0</td>\n",
              "      <td>L</td>\n",
              "      <td>KLH</td>\n",
              "      <td>BEKERJA SENDIRI</td>\n",
              "    </tr>\n",
              "  </tbody>\n",
              "</table>\n",
              "<p>1645 rows × 12 columns</p>\n",
              "</div>\n",
              "      <button class=\"colab-df-convert\" onclick=\"convertToInteractive('df-2482f9c5-38c6-4af0-b9b6-5ccc16d911d9')\"\n",
              "              title=\"Convert this dataframe to an interactive table.\"\n",
              "              style=\"display:none;\">\n",
              "        \n",
              "  <svg xmlns=\"http://www.w3.org/2000/svg\" height=\"24px\"viewBox=\"0 0 24 24\"\n",
              "       width=\"24px\">\n",
              "    <path d=\"M0 0h24v24H0V0z\" fill=\"none\"/>\n",
              "    <path d=\"M18.56 5.44l.94 2.06.94-2.06 2.06-.94-2.06-.94-.94-2.06-.94 2.06-2.06.94zm-11 1L8.5 8.5l.94-2.06 2.06-.94-2.06-.94L8.5 2.5l-.94 2.06-2.06.94zm10 10l.94 2.06.94-2.06 2.06-.94-2.06-.94-.94-2.06-.94 2.06-2.06.94z\"/><path d=\"M17.41 7.96l-1.37-1.37c-.4-.4-.92-.59-1.43-.59-.52 0-1.04.2-1.43.59L10.3 9.45l-7.72 7.72c-.78.78-.78 2.05 0 2.83L4 21.41c.39.39.9.59 1.41.59.51 0 1.02-.2 1.41-.59l7.78-7.78 2.81-2.81c.8-.78.8-2.07 0-2.86zM5.41 20L4 18.59l7.72-7.72 1.47 1.35L5.41 20z\"/>\n",
              "  </svg>\n",
              "      </button>\n",
              "      \n",
              "  <style>\n",
              "    .colab-df-container {\n",
              "      display:flex;\n",
              "      flex-wrap:wrap;\n",
              "      gap: 12px;\n",
              "    }\n",
              "\n",
              "    .colab-df-convert {\n",
              "      background-color: #E8F0FE;\n",
              "      border: none;\n",
              "      border-radius: 50%;\n",
              "      cursor: pointer;\n",
              "      display: none;\n",
              "      fill: #1967D2;\n",
              "      height: 32px;\n",
              "      padding: 0 0 0 0;\n",
              "      width: 32px;\n",
              "    }\n",
              "\n",
              "    .colab-df-convert:hover {\n",
              "      background-color: #E2EBFA;\n",
              "      box-shadow: 0px 1px 2px rgba(60, 64, 67, 0.3), 0px 1px 3px 1px rgba(60, 64, 67, 0.15);\n",
              "      fill: #174EA6;\n",
              "    }\n",
              "\n",
              "    [theme=dark] .colab-df-convert {\n",
              "      background-color: #3B4455;\n",
              "      fill: #D2E3FC;\n",
              "    }\n",
              "\n",
              "    [theme=dark] .colab-df-convert:hover {\n",
              "      background-color: #434B5C;\n",
              "      box-shadow: 0px 1px 3px 1px rgba(0, 0, 0, 0.15);\n",
              "      filter: drop-shadow(0px 1px 2px rgba(0, 0, 0, 0.3));\n",
              "      fill: #FFFFFF;\n",
              "    }\n",
              "  </style>\n",
              "\n",
              "      <script>\n",
              "        const buttonEl =\n",
              "          document.querySelector('#df-2482f9c5-38c6-4af0-b9b6-5ccc16d911d9 button.colab-df-convert');\n",
              "        buttonEl.style.display =\n",
              "          google.colab.kernel.accessAllowed ? 'block' : 'none';\n",
              "\n",
              "        async function convertToInteractive(key) {\n",
              "          const element = document.querySelector('#df-2482f9c5-38c6-4af0-b9b6-5ccc16d911d9');\n",
              "          const dataTable =\n",
              "            await google.colab.kernel.invokeFunction('convertToInteractive',\n",
              "                                                     [key], {});\n",
              "          if (!dataTable) return;\n",
              "\n",
              "          const docLinkHtml = 'Like what you see? Visit the ' +\n",
              "            '<a target=\"_blank\" href=https://colab.research.google.com/notebooks/data_table.ipynb>data table notebook</a>'\n",
              "            + ' to learn more about interactive tables.';\n",
              "          element.innerHTML = '';\n",
              "          dataTable['output_type'] = 'display_data';\n",
              "          await google.colab.output.renderOutput(dataTable, element);\n",
              "          const docLink = document.createElement('div');\n",
              "          docLink.innerHTML = docLinkHtml;\n",
              "          element.appendChild(docLink);\n",
              "        }\n",
              "      </script>\n",
              "    </div>\n",
              "  </div>\n",
              "  "
            ]
          },
          "metadata": {},
          "execution_count": 3
        }
      ]
    },
    {
      "cell_type": "markdown",
      "source": [
        "Based on the output above, a candidate with zero votes has been removed from the dataset and now the dataset is left with 1645 rows."
      ],
      "metadata": {
        "id": "OPsrDIDtyYKE"
      }
    },
    {
      "cell_type": "markdown",
      "source": [
        "**Step 4:** Perform any additional steps"
      ],
      "metadata": {
        "id": "A2OzGJVqvCGO"
      }
    },
    {
      "cell_type": "markdown",
      "source": [
        "Drop columns that are not useful:\n",
        "\n",
        "The \"Candidate Name\" column will be removed."
      ],
      "metadata": {
        "id": "6R2aZPmU1ENl"
      }
    },
    {
      "cell_type": "code",
      "execution_count": 4,
      "metadata": {
        "id": "t26lvNVLVJJ5",
        "colab": {
          "base_uri": "https://localhost:8080/",
          "height": 206
        },
        "outputId": "6402f07b-62b7-4443-8c5a-e10372d95009"
      },
      "outputs": [
        {
          "output_type": "execute_result",
          "data": {
            "text/plain": [
              "   State Seat ID    Seat Name Candidate Party Votes for Candidate  \\\n",
              "0  Johor    N.01  BULOH KASAP              BN               9,186   \n",
              "1  Johor    N.01  BULOH KASAP             PKR               8,309   \n",
              "2  Johor    N.02     JEMENTAH              BN               9,335   \n",
              "3  Johor    N.02     JEMENTAH             PKR              16,336   \n",
              "4  Johor    N.02     JEMENTAH             PAS               1,986   \n",
              "\n",
              "  Total Votes Cast % of total Votes  Candidate Win Gender Status Pekerjaan  \n",
              "0           17,495           52.51%              1      L    MNG         0  \n",
              "1           17,495           47.49%              0      L    KLH         0  \n",
              "2           27,657           33.75%              0      L    KLH         0  \n",
              "3           27,657           59.07%              1      L    MNG         0  \n",
              "4           27,657            7.18%              0      L     HD         0  "
            ],
            "text/html": [
              "\n",
              "  <div id=\"df-18fca83e-105d-42d4-a331-a74fb6971ee9\">\n",
              "    <div class=\"colab-df-container\">\n",
              "      <div>\n",
              "<style scoped>\n",
              "    .dataframe tbody tr th:only-of-type {\n",
              "        vertical-align: middle;\n",
              "    }\n",
              "\n",
              "    .dataframe tbody tr th {\n",
              "        vertical-align: top;\n",
              "    }\n",
              "\n",
              "    .dataframe thead th {\n",
              "        text-align: right;\n",
              "    }\n",
              "</style>\n",
              "<table border=\"1\" class=\"dataframe\">\n",
              "  <thead>\n",
              "    <tr style=\"text-align: right;\">\n",
              "      <th></th>\n",
              "      <th>State</th>\n",
              "      <th>Seat ID</th>\n",
              "      <th>Seat Name</th>\n",
              "      <th>Candidate Party</th>\n",
              "      <th>Votes for Candidate</th>\n",
              "      <th>Total Votes Cast</th>\n",
              "      <th>% of total Votes</th>\n",
              "      <th>Candidate Win</th>\n",
              "      <th>Gender</th>\n",
              "      <th>Status</th>\n",
              "      <th>Pekerjaan</th>\n",
              "    </tr>\n",
              "  </thead>\n",
              "  <tbody>\n",
              "    <tr>\n",
              "      <th>0</th>\n",
              "      <td>Johor</td>\n",
              "      <td>N.01</td>\n",
              "      <td>BULOH KASAP</td>\n",
              "      <td>BN</td>\n",
              "      <td>9,186</td>\n",
              "      <td>17,495</td>\n",
              "      <td>52.51%</td>\n",
              "      <td>1</td>\n",
              "      <td>L</td>\n",
              "      <td>MNG</td>\n",
              "      <td>0</td>\n",
              "    </tr>\n",
              "    <tr>\n",
              "      <th>1</th>\n",
              "      <td>Johor</td>\n",
              "      <td>N.01</td>\n",
              "      <td>BULOH KASAP</td>\n",
              "      <td>PKR</td>\n",
              "      <td>8,309</td>\n",
              "      <td>17,495</td>\n",
              "      <td>47.49%</td>\n",
              "      <td>0</td>\n",
              "      <td>L</td>\n",
              "      <td>KLH</td>\n",
              "      <td>0</td>\n",
              "    </tr>\n",
              "    <tr>\n",
              "      <th>2</th>\n",
              "      <td>Johor</td>\n",
              "      <td>N.02</td>\n",
              "      <td>JEMENTAH</td>\n",
              "      <td>BN</td>\n",
              "      <td>9,335</td>\n",
              "      <td>27,657</td>\n",
              "      <td>33.75%</td>\n",
              "      <td>0</td>\n",
              "      <td>L</td>\n",
              "      <td>KLH</td>\n",
              "      <td>0</td>\n",
              "    </tr>\n",
              "    <tr>\n",
              "      <th>3</th>\n",
              "      <td>Johor</td>\n",
              "      <td>N.02</td>\n",
              "      <td>JEMENTAH</td>\n",
              "      <td>PKR</td>\n",
              "      <td>16,336</td>\n",
              "      <td>27,657</td>\n",
              "      <td>59.07%</td>\n",
              "      <td>1</td>\n",
              "      <td>L</td>\n",
              "      <td>MNG</td>\n",
              "      <td>0</td>\n",
              "    </tr>\n",
              "    <tr>\n",
              "      <th>4</th>\n",
              "      <td>Johor</td>\n",
              "      <td>N.02</td>\n",
              "      <td>JEMENTAH</td>\n",
              "      <td>PAS</td>\n",
              "      <td>1,986</td>\n",
              "      <td>27,657</td>\n",
              "      <td>7.18%</td>\n",
              "      <td>0</td>\n",
              "      <td>L</td>\n",
              "      <td>HD</td>\n",
              "      <td>0</td>\n",
              "    </tr>\n",
              "  </tbody>\n",
              "</table>\n",
              "</div>\n",
              "      <button class=\"colab-df-convert\" onclick=\"convertToInteractive('df-18fca83e-105d-42d4-a331-a74fb6971ee9')\"\n",
              "              title=\"Convert this dataframe to an interactive table.\"\n",
              "              style=\"display:none;\">\n",
              "        \n",
              "  <svg xmlns=\"http://www.w3.org/2000/svg\" height=\"24px\"viewBox=\"0 0 24 24\"\n",
              "       width=\"24px\">\n",
              "    <path d=\"M0 0h24v24H0V0z\" fill=\"none\"/>\n",
              "    <path d=\"M18.56 5.44l.94 2.06.94-2.06 2.06-.94-2.06-.94-.94-2.06-.94 2.06-2.06.94zm-11 1L8.5 8.5l.94-2.06 2.06-.94-2.06-.94L8.5 2.5l-.94 2.06-2.06.94zm10 10l.94 2.06.94-2.06 2.06-.94-2.06-.94-.94-2.06-.94 2.06-2.06.94z\"/><path d=\"M17.41 7.96l-1.37-1.37c-.4-.4-.92-.59-1.43-.59-.52 0-1.04.2-1.43.59L10.3 9.45l-7.72 7.72c-.78.78-.78 2.05 0 2.83L4 21.41c.39.39.9.59 1.41.59.51 0 1.02-.2 1.41-.59l7.78-7.78 2.81-2.81c.8-.78.8-2.07 0-2.86zM5.41 20L4 18.59l7.72-7.72 1.47 1.35L5.41 20z\"/>\n",
              "  </svg>\n",
              "      </button>\n",
              "      \n",
              "  <style>\n",
              "    .colab-df-container {\n",
              "      display:flex;\n",
              "      flex-wrap:wrap;\n",
              "      gap: 12px;\n",
              "    }\n",
              "\n",
              "    .colab-df-convert {\n",
              "      background-color: #E8F0FE;\n",
              "      border: none;\n",
              "      border-radius: 50%;\n",
              "      cursor: pointer;\n",
              "      display: none;\n",
              "      fill: #1967D2;\n",
              "      height: 32px;\n",
              "      padding: 0 0 0 0;\n",
              "      width: 32px;\n",
              "    }\n",
              "\n",
              "    .colab-df-convert:hover {\n",
              "      background-color: #E2EBFA;\n",
              "      box-shadow: 0px 1px 2px rgba(60, 64, 67, 0.3), 0px 1px 3px 1px rgba(60, 64, 67, 0.15);\n",
              "      fill: #174EA6;\n",
              "    }\n",
              "\n",
              "    [theme=dark] .colab-df-convert {\n",
              "      background-color: #3B4455;\n",
              "      fill: #D2E3FC;\n",
              "    }\n",
              "\n",
              "    [theme=dark] .colab-df-convert:hover {\n",
              "      background-color: #434B5C;\n",
              "      box-shadow: 0px 1px 3px 1px rgba(0, 0, 0, 0.15);\n",
              "      filter: drop-shadow(0px 1px 2px rgba(0, 0, 0, 0.3));\n",
              "      fill: #FFFFFF;\n",
              "    }\n",
              "  </style>\n",
              "\n",
              "      <script>\n",
              "        const buttonEl =\n",
              "          document.querySelector('#df-18fca83e-105d-42d4-a331-a74fb6971ee9 button.colab-df-convert');\n",
              "        buttonEl.style.display =\n",
              "          google.colab.kernel.accessAllowed ? 'block' : 'none';\n",
              "\n",
              "        async function convertToInteractive(key) {\n",
              "          const element = document.querySelector('#df-18fca83e-105d-42d4-a331-a74fb6971ee9');\n",
              "          const dataTable =\n",
              "            await google.colab.kernel.invokeFunction('convertToInteractive',\n",
              "                                                     [key], {});\n",
              "          if (!dataTable) return;\n",
              "\n",
              "          const docLinkHtml = 'Like what you see? Visit the ' +\n",
              "            '<a target=\"_blank\" href=https://colab.research.google.com/notebooks/data_table.ipynb>data table notebook</a>'\n",
              "            + ' to learn more about interactive tables.';\n",
              "          element.innerHTML = '';\n",
              "          dataTable['output_type'] = 'display_data';\n",
              "          await google.colab.output.renderOutput(dataTable, element);\n",
              "          const docLink = document.createElement('div');\n",
              "          docLink.innerHTML = docLinkHtml;\n",
              "          element.appendChild(docLink);\n",
              "        }\n",
              "      </script>\n",
              "    </div>\n",
              "  </div>\n",
              "  "
            ]
          },
          "metadata": {},
          "execution_count": 4
        }
      ],
      "source": [
        "cols = ['Candidate Name']\n",
        "df = df.drop(cols, axis=1)\n",
        "df.head()"
      ]
    },
    {
      "cell_type": "markdown",
      "source": [
        "Remove the comma (,) from the data values in the columns of \"Votes for Candidate\" and \"Total Votes Cast\"."
      ],
      "metadata": {
        "id": "JgmSqFxT3KkP"
      }
    },
    {
      "cell_type": "code",
      "execution_count": 5,
      "metadata": {
        "id": "KribcC_XVJJ5",
        "colab": {
          "base_uri": "https://localhost:8080/",
          "height": 206
        },
        "outputId": "a5d00b74-ff1d-4f4b-81ff-d7951d56b2e8"
      },
      "outputs": [
        {
          "output_type": "execute_result",
          "data": {
            "text/plain": [
              "   State Seat ID    Seat Name Candidate Party Votes for Candidate  \\\n",
              "0  Johor    N.01  BULOH KASAP              BN                9186   \n",
              "1  Johor    N.01  BULOH KASAP             PKR                8309   \n",
              "2  Johor    N.02     JEMENTAH              BN                9335   \n",
              "3  Johor    N.02     JEMENTAH             PKR               16336   \n",
              "4  Johor    N.02     JEMENTAH             PAS                1986   \n",
              "\n",
              "  Total Votes Cast % of total Votes  Candidate Win Gender Status Pekerjaan  \n",
              "0            17495           52.51%              1      L    MNG         0  \n",
              "1            17495           47.49%              0      L    KLH         0  \n",
              "2            27657           33.75%              0      L    KLH         0  \n",
              "3            27657           59.07%              1      L    MNG         0  \n",
              "4            27657            7.18%              0      L     HD         0  "
            ],
            "text/html": [
              "\n",
              "  <div id=\"df-ffbbde15-d3db-4d57-8307-8c9f98276701\">\n",
              "    <div class=\"colab-df-container\">\n",
              "      <div>\n",
              "<style scoped>\n",
              "    .dataframe tbody tr th:only-of-type {\n",
              "        vertical-align: middle;\n",
              "    }\n",
              "\n",
              "    .dataframe tbody tr th {\n",
              "        vertical-align: top;\n",
              "    }\n",
              "\n",
              "    .dataframe thead th {\n",
              "        text-align: right;\n",
              "    }\n",
              "</style>\n",
              "<table border=\"1\" class=\"dataframe\">\n",
              "  <thead>\n",
              "    <tr style=\"text-align: right;\">\n",
              "      <th></th>\n",
              "      <th>State</th>\n",
              "      <th>Seat ID</th>\n",
              "      <th>Seat Name</th>\n",
              "      <th>Candidate Party</th>\n",
              "      <th>Votes for Candidate</th>\n",
              "      <th>Total Votes Cast</th>\n",
              "      <th>% of total Votes</th>\n",
              "      <th>Candidate Win</th>\n",
              "      <th>Gender</th>\n",
              "      <th>Status</th>\n",
              "      <th>Pekerjaan</th>\n",
              "    </tr>\n",
              "  </thead>\n",
              "  <tbody>\n",
              "    <tr>\n",
              "      <th>0</th>\n",
              "      <td>Johor</td>\n",
              "      <td>N.01</td>\n",
              "      <td>BULOH KASAP</td>\n",
              "      <td>BN</td>\n",
              "      <td>9186</td>\n",
              "      <td>17495</td>\n",
              "      <td>52.51%</td>\n",
              "      <td>1</td>\n",
              "      <td>L</td>\n",
              "      <td>MNG</td>\n",
              "      <td>0</td>\n",
              "    </tr>\n",
              "    <tr>\n",
              "      <th>1</th>\n",
              "      <td>Johor</td>\n",
              "      <td>N.01</td>\n",
              "      <td>BULOH KASAP</td>\n",
              "      <td>PKR</td>\n",
              "      <td>8309</td>\n",
              "      <td>17495</td>\n",
              "      <td>47.49%</td>\n",
              "      <td>0</td>\n",
              "      <td>L</td>\n",
              "      <td>KLH</td>\n",
              "      <td>0</td>\n",
              "    </tr>\n",
              "    <tr>\n",
              "      <th>2</th>\n",
              "      <td>Johor</td>\n",
              "      <td>N.02</td>\n",
              "      <td>JEMENTAH</td>\n",
              "      <td>BN</td>\n",
              "      <td>9335</td>\n",
              "      <td>27657</td>\n",
              "      <td>33.75%</td>\n",
              "      <td>0</td>\n",
              "      <td>L</td>\n",
              "      <td>KLH</td>\n",
              "      <td>0</td>\n",
              "    </tr>\n",
              "    <tr>\n",
              "      <th>3</th>\n",
              "      <td>Johor</td>\n",
              "      <td>N.02</td>\n",
              "      <td>JEMENTAH</td>\n",
              "      <td>PKR</td>\n",
              "      <td>16336</td>\n",
              "      <td>27657</td>\n",
              "      <td>59.07%</td>\n",
              "      <td>1</td>\n",
              "      <td>L</td>\n",
              "      <td>MNG</td>\n",
              "      <td>0</td>\n",
              "    </tr>\n",
              "    <tr>\n",
              "      <th>4</th>\n",
              "      <td>Johor</td>\n",
              "      <td>N.02</td>\n",
              "      <td>JEMENTAH</td>\n",
              "      <td>PAS</td>\n",
              "      <td>1986</td>\n",
              "      <td>27657</td>\n",
              "      <td>7.18%</td>\n",
              "      <td>0</td>\n",
              "      <td>L</td>\n",
              "      <td>HD</td>\n",
              "      <td>0</td>\n",
              "    </tr>\n",
              "  </tbody>\n",
              "</table>\n",
              "</div>\n",
              "      <button class=\"colab-df-convert\" onclick=\"convertToInteractive('df-ffbbde15-d3db-4d57-8307-8c9f98276701')\"\n",
              "              title=\"Convert this dataframe to an interactive table.\"\n",
              "              style=\"display:none;\">\n",
              "        \n",
              "  <svg xmlns=\"http://www.w3.org/2000/svg\" height=\"24px\"viewBox=\"0 0 24 24\"\n",
              "       width=\"24px\">\n",
              "    <path d=\"M0 0h24v24H0V0z\" fill=\"none\"/>\n",
              "    <path d=\"M18.56 5.44l.94 2.06.94-2.06 2.06-.94-2.06-.94-.94-2.06-.94 2.06-2.06.94zm-11 1L8.5 8.5l.94-2.06 2.06-.94-2.06-.94L8.5 2.5l-.94 2.06-2.06.94zm10 10l.94 2.06.94-2.06 2.06-.94-2.06-.94-.94-2.06-.94 2.06-2.06.94z\"/><path d=\"M17.41 7.96l-1.37-1.37c-.4-.4-.92-.59-1.43-.59-.52 0-1.04.2-1.43.59L10.3 9.45l-7.72 7.72c-.78.78-.78 2.05 0 2.83L4 21.41c.39.39.9.59 1.41.59.51 0 1.02-.2 1.41-.59l7.78-7.78 2.81-2.81c.8-.78.8-2.07 0-2.86zM5.41 20L4 18.59l7.72-7.72 1.47 1.35L5.41 20z\"/>\n",
              "  </svg>\n",
              "      </button>\n",
              "      \n",
              "  <style>\n",
              "    .colab-df-container {\n",
              "      display:flex;\n",
              "      flex-wrap:wrap;\n",
              "      gap: 12px;\n",
              "    }\n",
              "\n",
              "    .colab-df-convert {\n",
              "      background-color: #E8F0FE;\n",
              "      border: none;\n",
              "      border-radius: 50%;\n",
              "      cursor: pointer;\n",
              "      display: none;\n",
              "      fill: #1967D2;\n",
              "      height: 32px;\n",
              "      padding: 0 0 0 0;\n",
              "      width: 32px;\n",
              "    }\n",
              "\n",
              "    .colab-df-convert:hover {\n",
              "      background-color: #E2EBFA;\n",
              "      box-shadow: 0px 1px 2px rgba(60, 64, 67, 0.3), 0px 1px 3px 1px rgba(60, 64, 67, 0.15);\n",
              "      fill: #174EA6;\n",
              "    }\n",
              "\n",
              "    [theme=dark] .colab-df-convert {\n",
              "      background-color: #3B4455;\n",
              "      fill: #D2E3FC;\n",
              "    }\n",
              "\n",
              "    [theme=dark] .colab-df-convert:hover {\n",
              "      background-color: #434B5C;\n",
              "      box-shadow: 0px 1px 3px 1px rgba(0, 0, 0, 0.15);\n",
              "      filter: drop-shadow(0px 1px 2px rgba(0, 0, 0, 0.3));\n",
              "      fill: #FFFFFF;\n",
              "    }\n",
              "  </style>\n",
              "\n",
              "      <script>\n",
              "        const buttonEl =\n",
              "          document.querySelector('#df-ffbbde15-d3db-4d57-8307-8c9f98276701 button.colab-df-convert');\n",
              "        buttonEl.style.display =\n",
              "          google.colab.kernel.accessAllowed ? 'block' : 'none';\n",
              "\n",
              "        async function convertToInteractive(key) {\n",
              "          const element = document.querySelector('#df-ffbbde15-d3db-4d57-8307-8c9f98276701');\n",
              "          const dataTable =\n",
              "            await google.colab.kernel.invokeFunction('convertToInteractive',\n",
              "                                                     [key], {});\n",
              "          if (!dataTable) return;\n",
              "\n",
              "          const docLinkHtml = 'Like what you see? Visit the ' +\n",
              "            '<a target=\"_blank\" href=https://colab.research.google.com/notebooks/data_table.ipynb>data table notebook</a>'\n",
              "            + ' to learn more about interactive tables.';\n",
              "          element.innerHTML = '';\n",
              "          dataTable['output_type'] = 'display_data';\n",
              "          await google.colab.output.renderOutput(dataTable, element);\n",
              "          const docLink = document.createElement('div');\n",
              "          docLink.innerHTML = docLinkHtml;\n",
              "          element.appendChild(docLink);\n",
              "        }\n",
              "      </script>\n",
              "    </div>\n",
              "  </div>\n",
              "  "
            ]
          },
          "metadata": {},
          "execution_count": 5
        }
      ],
      "source": [
        "df['Votes for Candidate'] = df['Votes for Candidate'].str.replace(',','')\n",
        "df['Total Votes Cast'] = df['Total Votes Cast'].str.replace(',','')\n",
        "df.head()"
      ]
    },
    {
      "cell_type": "markdown",
      "source": [
        "Change the data type of \"Votes for Candidate\", \"Total Votes Cast\" columns to int64 data type."
      ],
      "metadata": {
        "id": "7ExS0_mX3YZb"
      }
    },
    {
      "cell_type": "code",
      "execution_count": 6,
      "metadata": {
        "id": "7mUpY22aVJJ6",
        "colab": {
          "base_uri": "https://localhost:8080/"
        },
        "outputId": "e86ae11e-b405-4367-b1d1-827aab8a7191"
      },
      "outputs": [
        {
          "output_type": "execute_result",
          "data": {
            "text/plain": [
              "State                  object\n",
              "Seat ID                object\n",
              "Seat Name              object\n",
              "Candidate Party        object\n",
              "Votes for Candidate     Int64\n",
              "Total Votes Cast        int64\n",
              "% of total Votes       object\n",
              "Candidate Win           int64\n",
              "Gender                 object\n",
              "Status                 object\n",
              "Pekerjaan              object\n",
              "dtype: object"
            ]
          },
          "metadata": {},
          "execution_count": 6
        }
      ],
      "source": [
        "df['Votes for Candidate'] = df['Votes for Candidate'].apply(pd.to_numeric, errors='coerce').fillna(0.0)\n",
        "df['Total Votes Cast'] = df['Total Votes Cast'].apply(pd.to_numeric, errors='coerce').fillna(0.0)\n",
        "df['Votes for Candidate'] = df['Votes for Candidate'].astype('Int64')\n",
        "df.dtypes"
      ]
    },
    {
      "cell_type": "markdown",
      "source": [
        "Remove (%) from the \"% for total Votes\" columns and convert the data type from object to float64."
      ],
      "metadata": {
        "id": "LUNvk5xn36Uf"
      }
    },
    {
      "cell_type": "code",
      "execution_count": 7,
      "metadata": {
        "id": "h46ilQakVJJ6",
        "colab": {
          "base_uri": "https://localhost:8080/"
        },
        "outputId": "b5d680f5-1d52-4beb-de8f-4164dbe028b9"
      },
      "outputs": [
        {
          "output_type": "execute_result",
          "data": {
            "text/plain": [
              "State                   object\n",
              "Seat ID                 object\n",
              "Seat Name               object\n",
              "Candidate Party         object\n",
              "Votes for Candidate      Int64\n",
              "Total Votes Cast         int64\n",
              "% of total Votes       float64\n",
              "Candidate Win            int64\n",
              "Gender                  object\n",
              "Status                  object\n",
              "Pekerjaan               object\n",
              "dtype: object"
            ]
          },
          "metadata": {},
          "execution_count": 7
        }
      ],
      "source": [
        "df['% of total Votes'] = (df['% of total Votes'].str[:-1].apply(pd.to_numeric, errors='coerce').fillna(0.0))\n",
        "df.dtypes"
      ]
    },
    {
      "cell_type": "markdown",
      "source": [
        "Convert all the strings in the \"State\" column to upper letter."
      ],
      "metadata": {
        "id": "1AaCgTfr4KQy"
      }
    },
    {
      "cell_type": "code",
      "execution_count": 8,
      "metadata": {
        "id": "cfcSY6YSVJJ6",
        "colab": {
          "base_uri": "https://localhost:8080/",
          "height": 206
        },
        "outputId": "0df9354f-b85f-4acd-c650-65c87c598a8b"
      },
      "outputs": [
        {
          "output_type": "execute_result",
          "data": {
            "text/plain": [
              "   State Seat ID    Seat Name Candidate Party  Votes for Candidate  \\\n",
              "0  JOHOR    N.01  BULOH KASAP              BN                 9186   \n",
              "1  JOHOR    N.01  BULOH KASAP             PKR                 8309   \n",
              "2  JOHOR    N.02     JEMENTAH              BN                 9335   \n",
              "3  JOHOR    N.02     JEMENTAH             PKR                16336   \n",
              "4  JOHOR    N.02     JEMENTAH             PAS                 1986   \n",
              "\n",
              "   Total Votes Cast  % of total Votes  Candidate Win Gender Status Pekerjaan  \n",
              "0             17495             52.51              1      L    MNG         0  \n",
              "1             17495             47.49              0      L    KLH         0  \n",
              "2             27657             33.75              0      L    KLH         0  \n",
              "3             27657             59.07              1      L    MNG         0  \n",
              "4             27657              7.18              0      L     HD         0  "
            ],
            "text/html": [
              "\n",
              "  <div id=\"df-e370e9c6-f007-4a0c-8372-4871f499cdc0\">\n",
              "    <div class=\"colab-df-container\">\n",
              "      <div>\n",
              "<style scoped>\n",
              "    .dataframe tbody tr th:only-of-type {\n",
              "        vertical-align: middle;\n",
              "    }\n",
              "\n",
              "    .dataframe tbody tr th {\n",
              "        vertical-align: top;\n",
              "    }\n",
              "\n",
              "    .dataframe thead th {\n",
              "        text-align: right;\n",
              "    }\n",
              "</style>\n",
              "<table border=\"1\" class=\"dataframe\">\n",
              "  <thead>\n",
              "    <tr style=\"text-align: right;\">\n",
              "      <th></th>\n",
              "      <th>State</th>\n",
              "      <th>Seat ID</th>\n",
              "      <th>Seat Name</th>\n",
              "      <th>Candidate Party</th>\n",
              "      <th>Votes for Candidate</th>\n",
              "      <th>Total Votes Cast</th>\n",
              "      <th>% of total Votes</th>\n",
              "      <th>Candidate Win</th>\n",
              "      <th>Gender</th>\n",
              "      <th>Status</th>\n",
              "      <th>Pekerjaan</th>\n",
              "    </tr>\n",
              "  </thead>\n",
              "  <tbody>\n",
              "    <tr>\n",
              "      <th>0</th>\n",
              "      <td>JOHOR</td>\n",
              "      <td>N.01</td>\n",
              "      <td>BULOH KASAP</td>\n",
              "      <td>BN</td>\n",
              "      <td>9186</td>\n",
              "      <td>17495</td>\n",
              "      <td>52.51</td>\n",
              "      <td>1</td>\n",
              "      <td>L</td>\n",
              "      <td>MNG</td>\n",
              "      <td>0</td>\n",
              "    </tr>\n",
              "    <tr>\n",
              "      <th>1</th>\n",
              "      <td>JOHOR</td>\n",
              "      <td>N.01</td>\n",
              "      <td>BULOH KASAP</td>\n",
              "      <td>PKR</td>\n",
              "      <td>8309</td>\n",
              "      <td>17495</td>\n",
              "      <td>47.49</td>\n",
              "      <td>0</td>\n",
              "      <td>L</td>\n",
              "      <td>KLH</td>\n",
              "      <td>0</td>\n",
              "    </tr>\n",
              "    <tr>\n",
              "      <th>2</th>\n",
              "      <td>JOHOR</td>\n",
              "      <td>N.02</td>\n",
              "      <td>JEMENTAH</td>\n",
              "      <td>BN</td>\n",
              "      <td>9335</td>\n",
              "      <td>27657</td>\n",
              "      <td>33.75</td>\n",
              "      <td>0</td>\n",
              "      <td>L</td>\n",
              "      <td>KLH</td>\n",
              "      <td>0</td>\n",
              "    </tr>\n",
              "    <tr>\n",
              "      <th>3</th>\n",
              "      <td>JOHOR</td>\n",
              "      <td>N.02</td>\n",
              "      <td>JEMENTAH</td>\n",
              "      <td>PKR</td>\n",
              "      <td>16336</td>\n",
              "      <td>27657</td>\n",
              "      <td>59.07</td>\n",
              "      <td>1</td>\n",
              "      <td>L</td>\n",
              "      <td>MNG</td>\n",
              "      <td>0</td>\n",
              "    </tr>\n",
              "    <tr>\n",
              "      <th>4</th>\n",
              "      <td>JOHOR</td>\n",
              "      <td>N.02</td>\n",
              "      <td>JEMENTAH</td>\n",
              "      <td>PAS</td>\n",
              "      <td>1986</td>\n",
              "      <td>27657</td>\n",
              "      <td>7.18</td>\n",
              "      <td>0</td>\n",
              "      <td>L</td>\n",
              "      <td>HD</td>\n",
              "      <td>0</td>\n",
              "    </tr>\n",
              "  </tbody>\n",
              "</table>\n",
              "</div>\n",
              "      <button class=\"colab-df-convert\" onclick=\"convertToInteractive('df-e370e9c6-f007-4a0c-8372-4871f499cdc0')\"\n",
              "              title=\"Convert this dataframe to an interactive table.\"\n",
              "              style=\"display:none;\">\n",
              "        \n",
              "  <svg xmlns=\"http://www.w3.org/2000/svg\" height=\"24px\"viewBox=\"0 0 24 24\"\n",
              "       width=\"24px\">\n",
              "    <path d=\"M0 0h24v24H0V0z\" fill=\"none\"/>\n",
              "    <path d=\"M18.56 5.44l.94 2.06.94-2.06 2.06-.94-2.06-.94-.94-2.06-.94 2.06-2.06.94zm-11 1L8.5 8.5l.94-2.06 2.06-.94-2.06-.94L8.5 2.5l-.94 2.06-2.06.94zm10 10l.94 2.06.94-2.06 2.06-.94-2.06-.94-.94-2.06-.94 2.06-2.06.94z\"/><path d=\"M17.41 7.96l-1.37-1.37c-.4-.4-.92-.59-1.43-.59-.52 0-1.04.2-1.43.59L10.3 9.45l-7.72 7.72c-.78.78-.78 2.05 0 2.83L4 21.41c.39.39.9.59 1.41.59.51 0 1.02-.2 1.41-.59l7.78-7.78 2.81-2.81c.8-.78.8-2.07 0-2.86zM5.41 20L4 18.59l7.72-7.72 1.47 1.35L5.41 20z\"/>\n",
              "  </svg>\n",
              "      </button>\n",
              "      \n",
              "  <style>\n",
              "    .colab-df-container {\n",
              "      display:flex;\n",
              "      flex-wrap:wrap;\n",
              "      gap: 12px;\n",
              "    }\n",
              "\n",
              "    .colab-df-convert {\n",
              "      background-color: #E8F0FE;\n",
              "      border: none;\n",
              "      border-radius: 50%;\n",
              "      cursor: pointer;\n",
              "      display: none;\n",
              "      fill: #1967D2;\n",
              "      height: 32px;\n",
              "      padding: 0 0 0 0;\n",
              "      width: 32px;\n",
              "    }\n",
              "\n",
              "    .colab-df-convert:hover {\n",
              "      background-color: #E2EBFA;\n",
              "      box-shadow: 0px 1px 2px rgba(60, 64, 67, 0.3), 0px 1px 3px 1px rgba(60, 64, 67, 0.15);\n",
              "      fill: #174EA6;\n",
              "    }\n",
              "\n",
              "    [theme=dark] .colab-df-convert {\n",
              "      background-color: #3B4455;\n",
              "      fill: #D2E3FC;\n",
              "    }\n",
              "\n",
              "    [theme=dark] .colab-df-convert:hover {\n",
              "      background-color: #434B5C;\n",
              "      box-shadow: 0px 1px 3px 1px rgba(0, 0, 0, 0.15);\n",
              "      filter: drop-shadow(0px 1px 2px rgba(0, 0, 0, 0.3));\n",
              "      fill: #FFFFFF;\n",
              "    }\n",
              "  </style>\n",
              "\n",
              "      <script>\n",
              "        const buttonEl =\n",
              "          document.querySelector('#df-e370e9c6-f007-4a0c-8372-4871f499cdc0 button.colab-df-convert');\n",
              "        buttonEl.style.display =\n",
              "          google.colab.kernel.accessAllowed ? 'block' : 'none';\n",
              "\n",
              "        async function convertToInteractive(key) {\n",
              "          const element = document.querySelector('#df-e370e9c6-f007-4a0c-8372-4871f499cdc0');\n",
              "          const dataTable =\n",
              "            await google.colab.kernel.invokeFunction('convertToInteractive',\n",
              "                                                     [key], {});\n",
              "          if (!dataTable) return;\n",
              "\n",
              "          const docLinkHtml = 'Like what you see? Visit the ' +\n",
              "            '<a target=\"_blank\" href=https://colab.research.google.com/notebooks/data_table.ipynb>data table notebook</a>'\n",
              "            + ' to learn more about interactive tables.';\n",
              "          element.innerHTML = '';\n",
              "          dataTable['output_type'] = 'display_data';\n",
              "          await google.colab.output.renderOutput(dataTable, element);\n",
              "          const docLink = document.createElement('div');\n",
              "          docLink.innerHTML = docLinkHtml;\n",
              "          element.appendChild(docLink);\n",
              "        }\n",
              "      </script>\n",
              "    </div>\n",
              "  </div>\n",
              "  "
            ]
          },
          "metadata": {},
          "execution_count": 8
        }
      ],
      "source": [
        "df['State'] = df['State'].str.upper()\n",
        "df.head()"
      ]
    },
    {
      "cell_type": "markdown",
      "source": [
        "Convert the data type of \"Pekerjaan\" column to string and replace the \"-\", \"0\", \"TIADA\" to same value \"NaN\"."
      ],
      "metadata": {
        "id": "7bF5Kf2y4Ql-"
      }
    },
    {
      "cell_type": "code",
      "execution_count": 9,
      "metadata": {
        "id": "HsDyuPIgVJJ6",
        "colab": {
          "base_uri": "https://localhost:8080/",
          "height": 206
        },
        "outputId": "50dc126d-8499-4b59-9f8b-a375c2c2a1de"
      },
      "outputs": [
        {
          "output_type": "execute_result",
          "data": {
            "text/plain": [
              "   State Seat ID    Seat Name Candidate Party  Votes for Candidate  \\\n",
              "0  JOHOR    N.01  BULOH KASAP              BN                 9186   \n",
              "1  JOHOR    N.01  BULOH KASAP             PKR                 8309   \n",
              "2  JOHOR    N.02     JEMENTAH              BN                 9335   \n",
              "3  JOHOR    N.02     JEMENTAH             PKR                16336   \n",
              "4  JOHOR    N.02     JEMENTAH             PAS                 1986   \n",
              "\n",
              "   Total Votes Cast  % of total Votes  Candidate Win Gender Status Pekerjaan  \n",
              "0             17495             52.51              1      L    MNG       NaN  \n",
              "1             17495             47.49              0      L    KLH       NaN  \n",
              "2             27657             33.75              0      L    KLH       NaN  \n",
              "3             27657             59.07              1      L    MNG       NaN  \n",
              "4             27657              7.18              0      L     HD       NaN  "
            ],
            "text/html": [
              "\n",
              "  <div id=\"df-52d40598-8ec9-4c1b-8576-a4fb12c9fb49\">\n",
              "    <div class=\"colab-df-container\">\n",
              "      <div>\n",
              "<style scoped>\n",
              "    .dataframe tbody tr th:only-of-type {\n",
              "        vertical-align: middle;\n",
              "    }\n",
              "\n",
              "    .dataframe tbody tr th {\n",
              "        vertical-align: top;\n",
              "    }\n",
              "\n",
              "    .dataframe thead th {\n",
              "        text-align: right;\n",
              "    }\n",
              "</style>\n",
              "<table border=\"1\" class=\"dataframe\">\n",
              "  <thead>\n",
              "    <tr style=\"text-align: right;\">\n",
              "      <th></th>\n",
              "      <th>State</th>\n",
              "      <th>Seat ID</th>\n",
              "      <th>Seat Name</th>\n",
              "      <th>Candidate Party</th>\n",
              "      <th>Votes for Candidate</th>\n",
              "      <th>Total Votes Cast</th>\n",
              "      <th>% of total Votes</th>\n",
              "      <th>Candidate Win</th>\n",
              "      <th>Gender</th>\n",
              "      <th>Status</th>\n",
              "      <th>Pekerjaan</th>\n",
              "    </tr>\n",
              "  </thead>\n",
              "  <tbody>\n",
              "    <tr>\n",
              "      <th>0</th>\n",
              "      <td>JOHOR</td>\n",
              "      <td>N.01</td>\n",
              "      <td>BULOH KASAP</td>\n",
              "      <td>BN</td>\n",
              "      <td>9186</td>\n",
              "      <td>17495</td>\n",
              "      <td>52.51</td>\n",
              "      <td>1</td>\n",
              "      <td>L</td>\n",
              "      <td>MNG</td>\n",
              "      <td>NaN</td>\n",
              "    </tr>\n",
              "    <tr>\n",
              "      <th>1</th>\n",
              "      <td>JOHOR</td>\n",
              "      <td>N.01</td>\n",
              "      <td>BULOH KASAP</td>\n",
              "      <td>PKR</td>\n",
              "      <td>8309</td>\n",
              "      <td>17495</td>\n",
              "      <td>47.49</td>\n",
              "      <td>0</td>\n",
              "      <td>L</td>\n",
              "      <td>KLH</td>\n",
              "      <td>NaN</td>\n",
              "    </tr>\n",
              "    <tr>\n",
              "      <th>2</th>\n",
              "      <td>JOHOR</td>\n",
              "      <td>N.02</td>\n",
              "      <td>JEMENTAH</td>\n",
              "      <td>BN</td>\n",
              "      <td>9335</td>\n",
              "      <td>27657</td>\n",
              "      <td>33.75</td>\n",
              "      <td>0</td>\n",
              "      <td>L</td>\n",
              "      <td>KLH</td>\n",
              "      <td>NaN</td>\n",
              "    </tr>\n",
              "    <tr>\n",
              "      <th>3</th>\n",
              "      <td>JOHOR</td>\n",
              "      <td>N.02</td>\n",
              "      <td>JEMENTAH</td>\n",
              "      <td>PKR</td>\n",
              "      <td>16336</td>\n",
              "      <td>27657</td>\n",
              "      <td>59.07</td>\n",
              "      <td>1</td>\n",
              "      <td>L</td>\n",
              "      <td>MNG</td>\n",
              "      <td>NaN</td>\n",
              "    </tr>\n",
              "    <tr>\n",
              "      <th>4</th>\n",
              "      <td>JOHOR</td>\n",
              "      <td>N.02</td>\n",
              "      <td>JEMENTAH</td>\n",
              "      <td>PAS</td>\n",
              "      <td>1986</td>\n",
              "      <td>27657</td>\n",
              "      <td>7.18</td>\n",
              "      <td>0</td>\n",
              "      <td>L</td>\n",
              "      <td>HD</td>\n",
              "      <td>NaN</td>\n",
              "    </tr>\n",
              "  </tbody>\n",
              "</table>\n",
              "</div>\n",
              "      <button class=\"colab-df-convert\" onclick=\"convertToInteractive('df-52d40598-8ec9-4c1b-8576-a4fb12c9fb49')\"\n",
              "              title=\"Convert this dataframe to an interactive table.\"\n",
              "              style=\"display:none;\">\n",
              "        \n",
              "  <svg xmlns=\"http://www.w3.org/2000/svg\" height=\"24px\"viewBox=\"0 0 24 24\"\n",
              "       width=\"24px\">\n",
              "    <path d=\"M0 0h24v24H0V0z\" fill=\"none\"/>\n",
              "    <path d=\"M18.56 5.44l.94 2.06.94-2.06 2.06-.94-2.06-.94-.94-2.06-.94 2.06-2.06.94zm-11 1L8.5 8.5l.94-2.06 2.06-.94-2.06-.94L8.5 2.5l-.94 2.06-2.06.94zm10 10l.94 2.06.94-2.06 2.06-.94-2.06-.94-.94-2.06-.94 2.06-2.06.94z\"/><path d=\"M17.41 7.96l-1.37-1.37c-.4-.4-.92-.59-1.43-.59-.52 0-1.04.2-1.43.59L10.3 9.45l-7.72 7.72c-.78.78-.78 2.05 0 2.83L4 21.41c.39.39.9.59 1.41.59.51 0 1.02-.2 1.41-.59l7.78-7.78 2.81-2.81c.8-.78.8-2.07 0-2.86zM5.41 20L4 18.59l7.72-7.72 1.47 1.35L5.41 20z\"/>\n",
              "  </svg>\n",
              "      </button>\n",
              "      \n",
              "  <style>\n",
              "    .colab-df-container {\n",
              "      display:flex;\n",
              "      flex-wrap:wrap;\n",
              "      gap: 12px;\n",
              "    }\n",
              "\n",
              "    .colab-df-convert {\n",
              "      background-color: #E8F0FE;\n",
              "      border: none;\n",
              "      border-radius: 50%;\n",
              "      cursor: pointer;\n",
              "      display: none;\n",
              "      fill: #1967D2;\n",
              "      height: 32px;\n",
              "      padding: 0 0 0 0;\n",
              "      width: 32px;\n",
              "    }\n",
              "\n",
              "    .colab-df-convert:hover {\n",
              "      background-color: #E2EBFA;\n",
              "      box-shadow: 0px 1px 2px rgba(60, 64, 67, 0.3), 0px 1px 3px 1px rgba(60, 64, 67, 0.15);\n",
              "      fill: #174EA6;\n",
              "    }\n",
              "\n",
              "    [theme=dark] .colab-df-convert {\n",
              "      background-color: #3B4455;\n",
              "      fill: #D2E3FC;\n",
              "    }\n",
              "\n",
              "    [theme=dark] .colab-df-convert:hover {\n",
              "      background-color: #434B5C;\n",
              "      box-shadow: 0px 1px 3px 1px rgba(0, 0, 0, 0.15);\n",
              "      filter: drop-shadow(0px 1px 2px rgba(0, 0, 0, 0.3));\n",
              "      fill: #FFFFFF;\n",
              "    }\n",
              "  </style>\n",
              "\n",
              "      <script>\n",
              "        const buttonEl =\n",
              "          document.querySelector('#df-52d40598-8ec9-4c1b-8576-a4fb12c9fb49 button.colab-df-convert');\n",
              "        buttonEl.style.display =\n",
              "          google.colab.kernel.accessAllowed ? 'block' : 'none';\n",
              "\n",
              "        async function convertToInteractive(key) {\n",
              "          const element = document.querySelector('#df-52d40598-8ec9-4c1b-8576-a4fb12c9fb49');\n",
              "          const dataTable =\n",
              "            await google.colab.kernel.invokeFunction('convertToInteractive',\n",
              "                                                     [key], {});\n",
              "          if (!dataTable) return;\n",
              "\n",
              "          const docLinkHtml = 'Like what you see? Visit the ' +\n",
              "            '<a target=\"_blank\" href=https://colab.research.google.com/notebooks/data_table.ipynb>data table notebook</a>'\n",
              "            + ' to learn more about interactive tables.';\n",
              "          element.innerHTML = '';\n",
              "          dataTable['output_type'] = 'display_data';\n",
              "          await google.colab.output.renderOutput(dataTable, element);\n",
              "          const docLink = document.createElement('div');\n",
              "          docLink.innerHTML = docLinkHtml;\n",
              "          element.appendChild(docLink);\n",
              "        }\n",
              "      </script>\n",
              "    </div>\n",
              "  </div>\n",
              "  "
            ]
          },
          "metadata": {},
          "execution_count": 9
        }
      ],
      "source": [
        "df['Pekerjaan'] = df['Pekerjaan'].replace(['0', '-', 'TIADA'], 'NaN')\n",
        "df.head()"
      ]
    },
    {
      "cell_type": "markdown",
      "metadata": {
        "id": "_0m5LkbVVJJ6"
      },
      "source": [
        "## Exploratory Analysis and Visualization\n",
        "\n",
        "**TODO** - write some explanation here.\n",
        "\n"
      ]
    },
    {
      "cell_type": "markdown",
      "metadata": {
        "id": "RuPTpsGWVJJ7"
      },
      "source": [
        "Let's begin by importing`matplotlib.pyplot` and `seaborn`."
      ]
    },
    {
      "cell_type": "code",
      "execution_count": 10,
      "metadata": {
        "id": "zOTtwqAMVJJ7"
      },
      "outputs": [],
      "source": [
        "import seaborn as sns\n",
        "import matplotlib\n",
        "import matplotlib.pyplot as plt\n",
        "%matplotlib inline\n",
        "\n",
        "sns.set_style('darkgrid')\n",
        "matplotlib.rcParams['font.size'] = 14\n",
        "matplotlib.rcParams['figure.figsize'] = (9, 5)\n",
        "matplotlib.rcParams['figure.facecolor'] = '#00000000'"
      ]
    },
    {
      "cell_type": "markdown",
      "source": [
        "Total number of votes for all candidate party"
      ],
      "metadata": {
        "id": "7JLqlprPQjN6"
      }
    },
    {
      "cell_type": "code",
      "source": [
        "party = df.groupby(['Candidate Party'])['Votes for Candidate'].sum()\n",
        "party"
      ],
      "metadata": {
        "colab": {
          "base_uri": "https://localhost:8080/"
        },
        "id": "Cp8j1UirQuMD",
        "outputId": "3cfc9901-d8c7-4e5d-9190-a3a3463c995f"
      },
      "execution_count": 215,
      "outputs": [
        {
          "output_type": "execute_result",
          "data": {
            "text/plain": [
              "Candidate Party\n",
              "AMANAH                       193\n",
              "ANAKNEGERI                  3059\n",
              "BEBAS - BEG                  444\n",
              "BEBAS - BUKU                 905\n",
              "BEBAS - CAWAN               2817\n",
              "BEBAS - CINCIN                42\n",
              "BEBAS - GAJAH               1060\n",
              "BEBAS - IKAN                 145\n",
              "BEBAS - JAM                   23\n",
              "BEBAS - KAPAL TERBANG        189\n",
              "BEBAS - KERETA                25\n",
              "BEBAS - KUDA                 364\n",
              "BEBAS - KUNCI               3904\n",
              "BEBAS - MOTOSIKAL            544\n",
              "BEBAS - PEN                  389\n",
              "BEBAS - POKOK               2927\n",
              "BEBAS - RUMAH                 15\n",
              "BEBAS - TRAKTOR               85\n",
              "BERJASA                      211\n",
              "BN                       3471044\n",
              "DAP                        78901\n",
              "HR                         17713\n",
              "MU                          2366\n",
              "PAP                          933\n",
              "PAS                      2058818\n",
              "PCM                           83\n",
              "PCS                         9311\n",
              "PFP                          631\n",
              "PKR                      4455338\n",
              "PKS                         2018\n",
              "PPRS                        1491\n",
              "PRM                         3505\n",
              "PSM                         5139\n",
              "SAPP                        5031\n",
              "SOLIDARITI                 39803\n",
              "STAR                         109\n",
              "USNO                         147\n",
              "WARISAN                   271446\n",
              "Name: Votes for Candidate, dtype: Int64"
            ]
          },
          "metadata": {},
          "execution_count": 215
        }
      ]
    },
    {
      "cell_type": "markdown",
      "source": [
        "Votes for each winning candidate party"
      ],
      "metadata": {
        "id": "SELL_pHf5zoc"
      }
    },
    {
      "cell_type": "code",
      "execution_count": 216,
      "metadata": {
        "id": "c7fugjWzVJJ7",
        "colab": {
          "base_uri": "https://localhost:8080/",
          "height": 269
        },
        "outputId": "69b63d5a-cadf-43c8-d208-07fdec2d9a99"
      },
      "outputs": [
        {
          "output_type": "execute_result",
          "data": {
            "text/plain": [
              "                 Votes for Candidate  Total Votes Cast  % of total Votes  \\\n",
              "Candidate Party                                                            \n",
              "PKR                          3630863           5786569          13580.60   \n",
              "BN                           1201287           2420456           8208.73   \n",
              "PAS                           906151           1816453           4514.83   \n",
              "WARISAN                       161579            288571           1179.27   \n",
              "DAP                            74668            102288            435.78   \n",
              "SOLIDARITI                     10688             26831             79.97   \n",
              "\n",
              "                 Candidate Win  \n",
              "Candidate Party                 \n",
              "PKR                        220  \n",
              "BN                         166  \n",
              "PAS                         90  \n",
              "WARISAN                     21  \n",
              "DAP                          6  \n",
              "SOLIDARITI                   2  "
            ],
            "text/html": [
              "\n",
              "  <div id=\"df-f50661ab-e3cf-40d6-ad98-3e70b51ff9a5\">\n",
              "    <div class=\"colab-df-container\">\n",
              "      <div>\n",
              "<style scoped>\n",
              "    .dataframe tbody tr th:only-of-type {\n",
              "        vertical-align: middle;\n",
              "    }\n",
              "\n",
              "    .dataframe tbody tr th {\n",
              "        vertical-align: top;\n",
              "    }\n",
              "\n",
              "    .dataframe thead th {\n",
              "        text-align: right;\n",
              "    }\n",
              "</style>\n",
              "<table border=\"1\" class=\"dataframe\">\n",
              "  <thead>\n",
              "    <tr style=\"text-align: right;\">\n",
              "      <th></th>\n",
              "      <th>Votes for Candidate</th>\n",
              "      <th>Total Votes Cast</th>\n",
              "      <th>% of total Votes</th>\n",
              "      <th>Candidate Win</th>\n",
              "    </tr>\n",
              "    <tr>\n",
              "      <th>Candidate Party</th>\n",
              "      <th></th>\n",
              "      <th></th>\n",
              "      <th></th>\n",
              "      <th></th>\n",
              "    </tr>\n",
              "  </thead>\n",
              "  <tbody>\n",
              "    <tr>\n",
              "      <th>PKR</th>\n",
              "      <td>3630863</td>\n",
              "      <td>5786569</td>\n",
              "      <td>13580.60</td>\n",
              "      <td>220</td>\n",
              "    </tr>\n",
              "    <tr>\n",
              "      <th>BN</th>\n",
              "      <td>1201287</td>\n",
              "      <td>2420456</td>\n",
              "      <td>8208.73</td>\n",
              "      <td>166</td>\n",
              "    </tr>\n",
              "    <tr>\n",
              "      <th>PAS</th>\n",
              "      <td>906151</td>\n",
              "      <td>1816453</td>\n",
              "      <td>4514.83</td>\n",
              "      <td>90</td>\n",
              "    </tr>\n",
              "    <tr>\n",
              "      <th>WARISAN</th>\n",
              "      <td>161579</td>\n",
              "      <td>288571</td>\n",
              "      <td>1179.27</td>\n",
              "      <td>21</td>\n",
              "    </tr>\n",
              "    <tr>\n",
              "      <th>DAP</th>\n",
              "      <td>74668</td>\n",
              "      <td>102288</td>\n",
              "      <td>435.78</td>\n",
              "      <td>6</td>\n",
              "    </tr>\n",
              "    <tr>\n",
              "      <th>SOLIDARITI</th>\n",
              "      <td>10688</td>\n",
              "      <td>26831</td>\n",
              "      <td>79.97</td>\n",
              "      <td>2</td>\n",
              "    </tr>\n",
              "  </tbody>\n",
              "</table>\n",
              "</div>\n",
              "      <button class=\"colab-df-convert\" onclick=\"convertToInteractive('df-f50661ab-e3cf-40d6-ad98-3e70b51ff9a5')\"\n",
              "              title=\"Convert this dataframe to an interactive table.\"\n",
              "              style=\"display:none;\">\n",
              "        \n",
              "  <svg xmlns=\"http://www.w3.org/2000/svg\" height=\"24px\"viewBox=\"0 0 24 24\"\n",
              "       width=\"24px\">\n",
              "    <path d=\"M0 0h24v24H0V0z\" fill=\"none\"/>\n",
              "    <path d=\"M18.56 5.44l.94 2.06.94-2.06 2.06-.94-2.06-.94-.94-2.06-.94 2.06-2.06.94zm-11 1L8.5 8.5l.94-2.06 2.06-.94-2.06-.94L8.5 2.5l-.94 2.06-2.06.94zm10 10l.94 2.06.94-2.06 2.06-.94-2.06-.94-.94-2.06-.94 2.06-2.06.94z\"/><path d=\"M17.41 7.96l-1.37-1.37c-.4-.4-.92-.59-1.43-.59-.52 0-1.04.2-1.43.59L10.3 9.45l-7.72 7.72c-.78.78-.78 2.05 0 2.83L4 21.41c.39.39.9.59 1.41.59.51 0 1.02-.2 1.41-.59l7.78-7.78 2.81-2.81c.8-.78.8-2.07 0-2.86zM5.41 20L4 18.59l7.72-7.72 1.47 1.35L5.41 20z\"/>\n",
              "  </svg>\n",
              "      </button>\n",
              "      \n",
              "  <style>\n",
              "    .colab-df-container {\n",
              "      display:flex;\n",
              "      flex-wrap:wrap;\n",
              "      gap: 12px;\n",
              "    }\n",
              "\n",
              "    .colab-df-convert {\n",
              "      background-color: #E8F0FE;\n",
              "      border: none;\n",
              "      border-radius: 50%;\n",
              "      cursor: pointer;\n",
              "      display: none;\n",
              "      fill: #1967D2;\n",
              "      height: 32px;\n",
              "      padding: 0 0 0 0;\n",
              "      width: 32px;\n",
              "    }\n",
              "\n",
              "    .colab-df-convert:hover {\n",
              "      background-color: #E2EBFA;\n",
              "      box-shadow: 0px 1px 2px rgba(60, 64, 67, 0.3), 0px 1px 3px 1px rgba(60, 64, 67, 0.15);\n",
              "      fill: #174EA6;\n",
              "    }\n",
              "\n",
              "    [theme=dark] .colab-df-convert {\n",
              "      background-color: #3B4455;\n",
              "      fill: #D2E3FC;\n",
              "    }\n",
              "\n",
              "    [theme=dark] .colab-df-convert:hover {\n",
              "      background-color: #434B5C;\n",
              "      box-shadow: 0px 1px 3px 1px rgba(0, 0, 0, 0.15);\n",
              "      filter: drop-shadow(0px 1px 2px rgba(0, 0, 0, 0.3));\n",
              "      fill: #FFFFFF;\n",
              "    }\n",
              "  </style>\n",
              "\n",
              "      <script>\n",
              "        const buttonEl =\n",
              "          document.querySelector('#df-f50661ab-e3cf-40d6-ad98-3e70b51ff9a5 button.colab-df-convert');\n",
              "        buttonEl.style.display =\n",
              "          google.colab.kernel.accessAllowed ? 'block' : 'none';\n",
              "\n",
              "        async function convertToInteractive(key) {\n",
              "          const element = document.querySelector('#df-f50661ab-e3cf-40d6-ad98-3e70b51ff9a5');\n",
              "          const dataTable =\n",
              "            await google.colab.kernel.invokeFunction('convertToInteractive',\n",
              "                                                     [key], {});\n",
              "          if (!dataTable) return;\n",
              "\n",
              "          const docLinkHtml = 'Like what you see? Visit the ' +\n",
              "            '<a target=\"_blank\" href=https://colab.research.google.com/notebooks/data_table.ipynb>data table notebook</a>'\n",
              "            + ' to learn more about interactive tables.';\n",
              "          element.innerHTML = '';\n",
              "          dataTable['output_type'] = 'display_data';\n",
              "          await google.colab.output.renderOutput(dataTable, element);\n",
              "          const docLink = document.createElement('div');\n",
              "          docLink.innerHTML = docLinkHtml;\n",
              "          element.appendChild(docLink);\n",
              "        }\n",
              "      </script>\n",
              "    </div>\n",
              "  </div>\n",
              "  "
            ]
          },
          "metadata": {},
          "execution_count": 216
        }
      ],
      "source": [
        "win_party = df[(df['Candidate Win'] == 1)]\n",
        "win_party = win_party.groupby('Candidate Party').sum()\n",
        "win_party.sort_values(by=['Candidate Win'], ascending = False)"
      ]
    },
    {
      "cell_type": "markdown",
      "source": [
        "Statistics for top 1 candidate party with most votes: PKR"
      ],
      "metadata": {
        "id": "sOQqkm2RGRzH"
      }
    },
    {
      "cell_type": "code",
      "source": [
        "PKR_party = df[(df['Candidate Party'] == 'PKR')]\n",
        "PKR_party.describe().apply(lambda x: round(x, 2))"
      ],
      "metadata": {
        "colab": {
          "base_uri": "https://localhost:8080/",
          "height": 300
        },
        "id": "nijDfXMjEOO0",
        "outputId": "c5641d2e-705a-4a6e-d788-6b887dbcc90f"
      },
      "execution_count": 171,
      "outputs": [
        {
          "output_type": "execute_result",
          "data": {
            "text/plain": [
              "       Votes for Candidate  Total Votes Cast  % of total Votes  Candidate Win\n",
              "count               448.00            448.00            448.00         448.00\n",
              "mean               9944.95          21537.86             41.53           0.49\n",
              "std                9491.20          10621.20             24.39           0.50\n",
              "min                 417.00           6164.00              2.81           0.00\n",
              "25%                2939.00          15001.00             23.14           0.00\n",
              "50%                7086.00          19136.00             41.94           0.00\n",
              "75%               13636.50          24239.50             57.80           1.00\n",
              "max               55354.00          62934.00             92.06           1.00"
            ],
            "text/html": [
              "\n",
              "  <div id=\"df-17ec39d8-8ec2-490b-8a47-4b9ff88d3333\">\n",
              "    <div class=\"colab-df-container\">\n",
              "      <div>\n",
              "<style scoped>\n",
              "    .dataframe tbody tr th:only-of-type {\n",
              "        vertical-align: middle;\n",
              "    }\n",
              "\n",
              "    .dataframe tbody tr th {\n",
              "        vertical-align: top;\n",
              "    }\n",
              "\n",
              "    .dataframe thead th {\n",
              "        text-align: right;\n",
              "    }\n",
              "</style>\n",
              "<table border=\"1\" class=\"dataframe\">\n",
              "  <thead>\n",
              "    <tr style=\"text-align: right;\">\n",
              "      <th></th>\n",
              "      <th>Votes for Candidate</th>\n",
              "      <th>Total Votes Cast</th>\n",
              "      <th>% of total Votes</th>\n",
              "      <th>Candidate Win</th>\n",
              "    </tr>\n",
              "  </thead>\n",
              "  <tbody>\n",
              "    <tr>\n",
              "      <th>count</th>\n",
              "      <td>448.00</td>\n",
              "      <td>448.00</td>\n",
              "      <td>448.00</td>\n",
              "      <td>448.00</td>\n",
              "    </tr>\n",
              "    <tr>\n",
              "      <th>mean</th>\n",
              "      <td>9944.95</td>\n",
              "      <td>21537.86</td>\n",
              "      <td>41.53</td>\n",
              "      <td>0.49</td>\n",
              "    </tr>\n",
              "    <tr>\n",
              "      <th>std</th>\n",
              "      <td>9491.20</td>\n",
              "      <td>10621.20</td>\n",
              "      <td>24.39</td>\n",
              "      <td>0.50</td>\n",
              "    </tr>\n",
              "    <tr>\n",
              "      <th>min</th>\n",
              "      <td>417.00</td>\n",
              "      <td>6164.00</td>\n",
              "      <td>2.81</td>\n",
              "      <td>0.00</td>\n",
              "    </tr>\n",
              "    <tr>\n",
              "      <th>25%</th>\n",
              "      <td>2939.00</td>\n",
              "      <td>15001.00</td>\n",
              "      <td>23.14</td>\n",
              "      <td>0.00</td>\n",
              "    </tr>\n",
              "    <tr>\n",
              "      <th>50%</th>\n",
              "      <td>7086.00</td>\n",
              "      <td>19136.00</td>\n",
              "      <td>41.94</td>\n",
              "      <td>0.00</td>\n",
              "    </tr>\n",
              "    <tr>\n",
              "      <th>75%</th>\n",
              "      <td>13636.50</td>\n",
              "      <td>24239.50</td>\n",
              "      <td>57.80</td>\n",
              "      <td>1.00</td>\n",
              "    </tr>\n",
              "    <tr>\n",
              "      <th>max</th>\n",
              "      <td>55354.00</td>\n",
              "      <td>62934.00</td>\n",
              "      <td>92.06</td>\n",
              "      <td>1.00</td>\n",
              "    </tr>\n",
              "  </tbody>\n",
              "</table>\n",
              "</div>\n",
              "      <button class=\"colab-df-convert\" onclick=\"convertToInteractive('df-17ec39d8-8ec2-490b-8a47-4b9ff88d3333')\"\n",
              "              title=\"Convert this dataframe to an interactive table.\"\n",
              "              style=\"display:none;\">\n",
              "        \n",
              "  <svg xmlns=\"http://www.w3.org/2000/svg\" height=\"24px\"viewBox=\"0 0 24 24\"\n",
              "       width=\"24px\">\n",
              "    <path d=\"M0 0h24v24H0V0z\" fill=\"none\"/>\n",
              "    <path d=\"M18.56 5.44l.94 2.06.94-2.06 2.06-.94-2.06-.94-.94-2.06-.94 2.06-2.06.94zm-11 1L8.5 8.5l.94-2.06 2.06-.94-2.06-.94L8.5 2.5l-.94 2.06-2.06.94zm10 10l.94 2.06.94-2.06 2.06-.94-2.06-.94-.94-2.06-.94 2.06-2.06.94z\"/><path d=\"M17.41 7.96l-1.37-1.37c-.4-.4-.92-.59-1.43-.59-.52 0-1.04.2-1.43.59L10.3 9.45l-7.72 7.72c-.78.78-.78 2.05 0 2.83L4 21.41c.39.39.9.59 1.41.59.51 0 1.02-.2 1.41-.59l7.78-7.78 2.81-2.81c.8-.78.8-2.07 0-2.86zM5.41 20L4 18.59l7.72-7.72 1.47 1.35L5.41 20z\"/>\n",
              "  </svg>\n",
              "      </button>\n",
              "      \n",
              "  <style>\n",
              "    .colab-df-container {\n",
              "      display:flex;\n",
              "      flex-wrap:wrap;\n",
              "      gap: 12px;\n",
              "    }\n",
              "\n",
              "    .colab-df-convert {\n",
              "      background-color: #E8F0FE;\n",
              "      border: none;\n",
              "      border-radius: 50%;\n",
              "      cursor: pointer;\n",
              "      display: none;\n",
              "      fill: #1967D2;\n",
              "      height: 32px;\n",
              "      padding: 0 0 0 0;\n",
              "      width: 32px;\n",
              "    }\n",
              "\n",
              "    .colab-df-convert:hover {\n",
              "      background-color: #E2EBFA;\n",
              "      box-shadow: 0px 1px 2px rgba(60, 64, 67, 0.3), 0px 1px 3px 1px rgba(60, 64, 67, 0.15);\n",
              "      fill: #174EA6;\n",
              "    }\n",
              "\n",
              "    [theme=dark] .colab-df-convert {\n",
              "      background-color: #3B4455;\n",
              "      fill: #D2E3FC;\n",
              "    }\n",
              "\n",
              "    [theme=dark] .colab-df-convert:hover {\n",
              "      background-color: #434B5C;\n",
              "      box-shadow: 0px 1px 3px 1px rgba(0, 0, 0, 0.15);\n",
              "      filter: drop-shadow(0px 1px 2px rgba(0, 0, 0, 0.3));\n",
              "      fill: #FFFFFF;\n",
              "    }\n",
              "  </style>\n",
              "\n",
              "      <script>\n",
              "        const buttonEl =\n",
              "          document.querySelector('#df-17ec39d8-8ec2-490b-8a47-4b9ff88d3333 button.colab-df-convert');\n",
              "        buttonEl.style.display =\n",
              "          google.colab.kernel.accessAllowed ? 'block' : 'none';\n",
              "\n",
              "        async function convertToInteractive(key) {\n",
              "          const element = document.querySelector('#df-17ec39d8-8ec2-490b-8a47-4b9ff88d3333');\n",
              "          const dataTable =\n",
              "            await google.colab.kernel.invokeFunction('convertToInteractive',\n",
              "                                                     [key], {});\n",
              "          if (!dataTable) return;\n",
              "\n",
              "          const docLinkHtml = 'Like what you see? Visit the ' +\n",
              "            '<a target=\"_blank\" href=https://colab.research.google.com/notebooks/data_table.ipynb>data table notebook</a>'\n",
              "            + ' to learn more about interactive tables.';\n",
              "          element.innerHTML = '';\n",
              "          dataTable['output_type'] = 'display_data';\n",
              "          await google.colab.output.renderOutput(dataTable, element);\n",
              "          const docLink = document.createElement('div');\n",
              "          docLink.innerHTML = docLinkHtml;\n",
              "          element.appendChild(docLink);\n",
              "        }\n",
              "      </script>\n",
              "    </div>\n",
              "  </div>\n",
              "  "
            ]
          },
          "metadata": {},
          "execution_count": 171
        }
      ]
    },
    {
      "cell_type": "markdown",
      "source": [
        "Type of job titles among candidates"
      ],
      "metadata": {
        "id": "r5Ci1obXT4Q4"
      }
    },
    {
      "cell_type": "code",
      "source": [
        "job = pd.DataFrame(df[\"Pekerjaan\"].value_counts())\n",
        "job = job[(job[\"Pekerjaan\"]>5)]\n",
        "job"
      ],
      "metadata": {
        "colab": {
          "base_uri": "https://localhost:8080/",
          "height": 488
        },
        "id": "NxH966Oe7OxJ",
        "outputId": "7ec0f4d8-f45e-4b68-cdfc-d7ee4d668061"
      },
      "execution_count": 172,
      "outputs": [
        {
          "output_type": "execute_result",
          "data": {
            "text/plain": [
              "                                                  Pekerjaan\n",
              "NaN                                                    1126\n",
              "AHLI PERNIAGAAN                                          94\n",
              "BERNIAGA                                                 49\n",
              "PENIAGA                                                  40\n",
              "PESARA                                                   38\n",
              "PEGUAM                                                   31\n",
              "BEKERJA SENDIRI                                          26\n",
              "BERNIAGA SENDIRI                                         20\n",
              "USAHAWAN                                                 14\n",
              "KERJA SENDIRI                                            14\n",
              "AHLI POLITIK                                             13\n",
              "SENDIRI                                                  11\n",
              "BEKAS ADUN                                               11\n",
              "AHLI MAJLIS MESYUARAT KERAJAAN NEGERI TERENGGANU          7"
            ],
            "text/html": [
              "\n",
              "  <div id=\"df-962d286a-2739-421f-ae6d-2e71e5f963e6\">\n",
              "    <div class=\"colab-df-container\">\n",
              "      <div>\n",
              "<style scoped>\n",
              "    .dataframe tbody tr th:only-of-type {\n",
              "        vertical-align: middle;\n",
              "    }\n",
              "\n",
              "    .dataframe tbody tr th {\n",
              "        vertical-align: top;\n",
              "    }\n",
              "\n",
              "    .dataframe thead th {\n",
              "        text-align: right;\n",
              "    }\n",
              "</style>\n",
              "<table border=\"1\" class=\"dataframe\">\n",
              "  <thead>\n",
              "    <tr style=\"text-align: right;\">\n",
              "      <th></th>\n",
              "      <th>Pekerjaan</th>\n",
              "    </tr>\n",
              "  </thead>\n",
              "  <tbody>\n",
              "    <tr>\n",
              "      <th>NaN</th>\n",
              "      <td>1126</td>\n",
              "    </tr>\n",
              "    <tr>\n",
              "      <th>AHLI PERNIAGAAN</th>\n",
              "      <td>94</td>\n",
              "    </tr>\n",
              "    <tr>\n",
              "      <th>BERNIAGA</th>\n",
              "      <td>49</td>\n",
              "    </tr>\n",
              "    <tr>\n",
              "      <th>PENIAGA</th>\n",
              "      <td>40</td>\n",
              "    </tr>\n",
              "    <tr>\n",
              "      <th>PESARA</th>\n",
              "      <td>38</td>\n",
              "    </tr>\n",
              "    <tr>\n",
              "      <th>PEGUAM</th>\n",
              "      <td>31</td>\n",
              "    </tr>\n",
              "    <tr>\n",
              "      <th>BEKERJA SENDIRI</th>\n",
              "      <td>26</td>\n",
              "    </tr>\n",
              "    <tr>\n",
              "      <th>BERNIAGA SENDIRI</th>\n",
              "      <td>20</td>\n",
              "    </tr>\n",
              "    <tr>\n",
              "      <th>USAHAWAN</th>\n",
              "      <td>14</td>\n",
              "    </tr>\n",
              "    <tr>\n",
              "      <th>KERJA SENDIRI</th>\n",
              "      <td>14</td>\n",
              "    </tr>\n",
              "    <tr>\n",
              "      <th>AHLI POLITIK</th>\n",
              "      <td>13</td>\n",
              "    </tr>\n",
              "    <tr>\n",
              "      <th>SENDIRI</th>\n",
              "      <td>11</td>\n",
              "    </tr>\n",
              "    <tr>\n",
              "      <th>BEKAS ADUN</th>\n",
              "      <td>11</td>\n",
              "    </tr>\n",
              "    <tr>\n",
              "      <th>AHLI MAJLIS MESYUARAT KERAJAAN NEGERI TERENGGANU</th>\n",
              "      <td>7</td>\n",
              "    </tr>\n",
              "  </tbody>\n",
              "</table>\n",
              "</div>\n",
              "      <button class=\"colab-df-convert\" onclick=\"convertToInteractive('df-962d286a-2739-421f-ae6d-2e71e5f963e6')\"\n",
              "              title=\"Convert this dataframe to an interactive table.\"\n",
              "              style=\"display:none;\">\n",
              "        \n",
              "  <svg xmlns=\"http://www.w3.org/2000/svg\" height=\"24px\"viewBox=\"0 0 24 24\"\n",
              "       width=\"24px\">\n",
              "    <path d=\"M0 0h24v24H0V0z\" fill=\"none\"/>\n",
              "    <path d=\"M18.56 5.44l.94 2.06.94-2.06 2.06-.94-2.06-.94-.94-2.06-.94 2.06-2.06.94zm-11 1L8.5 8.5l.94-2.06 2.06-.94-2.06-.94L8.5 2.5l-.94 2.06-2.06.94zm10 10l.94 2.06.94-2.06 2.06-.94-2.06-.94-.94-2.06-.94 2.06-2.06.94z\"/><path d=\"M17.41 7.96l-1.37-1.37c-.4-.4-.92-.59-1.43-.59-.52 0-1.04.2-1.43.59L10.3 9.45l-7.72 7.72c-.78.78-.78 2.05 0 2.83L4 21.41c.39.39.9.59 1.41.59.51 0 1.02-.2 1.41-.59l7.78-7.78 2.81-2.81c.8-.78.8-2.07 0-2.86zM5.41 20L4 18.59l7.72-7.72 1.47 1.35L5.41 20z\"/>\n",
              "  </svg>\n",
              "      </button>\n",
              "      \n",
              "  <style>\n",
              "    .colab-df-container {\n",
              "      display:flex;\n",
              "      flex-wrap:wrap;\n",
              "      gap: 12px;\n",
              "    }\n",
              "\n",
              "    .colab-df-convert {\n",
              "      background-color: #E8F0FE;\n",
              "      border: none;\n",
              "      border-radius: 50%;\n",
              "      cursor: pointer;\n",
              "      display: none;\n",
              "      fill: #1967D2;\n",
              "      height: 32px;\n",
              "      padding: 0 0 0 0;\n",
              "      width: 32px;\n",
              "    }\n",
              "\n",
              "    .colab-df-convert:hover {\n",
              "      background-color: #E2EBFA;\n",
              "      box-shadow: 0px 1px 2px rgba(60, 64, 67, 0.3), 0px 1px 3px 1px rgba(60, 64, 67, 0.15);\n",
              "      fill: #174EA6;\n",
              "    }\n",
              "\n",
              "    [theme=dark] .colab-df-convert {\n",
              "      background-color: #3B4455;\n",
              "      fill: #D2E3FC;\n",
              "    }\n",
              "\n",
              "    [theme=dark] .colab-df-convert:hover {\n",
              "      background-color: #434B5C;\n",
              "      box-shadow: 0px 1px 3px 1px rgba(0, 0, 0, 0.15);\n",
              "      filter: drop-shadow(0px 1px 2px rgba(0, 0, 0, 0.3));\n",
              "      fill: #FFFFFF;\n",
              "    }\n",
              "  </style>\n",
              "\n",
              "      <script>\n",
              "        const buttonEl =\n",
              "          document.querySelector('#df-962d286a-2739-421f-ae6d-2e71e5f963e6 button.colab-df-convert');\n",
              "        buttonEl.style.display =\n",
              "          google.colab.kernel.accessAllowed ? 'block' : 'none';\n",
              "\n",
              "        async function convertToInteractive(key) {\n",
              "          const element = document.querySelector('#df-962d286a-2739-421f-ae6d-2e71e5f963e6');\n",
              "          const dataTable =\n",
              "            await google.colab.kernel.invokeFunction('convertToInteractive',\n",
              "                                                     [key], {});\n",
              "          if (!dataTable) return;\n",
              "\n",
              "          const docLinkHtml = 'Like what you see? Visit the ' +\n",
              "            '<a target=\"_blank\" href=https://colab.research.google.com/notebooks/data_table.ipynb>data table notebook</a>'\n",
              "            + ' to learn more about interactive tables.';\n",
              "          element.innerHTML = '';\n",
              "          dataTable['output_type'] = 'display_data';\n",
              "          await google.colab.output.renderOutput(dataTable, element);\n",
              "          const docLink = document.createElement('div');\n",
              "          docLink.innerHTML = docLinkHtml;\n",
              "          element.appendChild(docLink);\n",
              "        }\n",
              "      </script>\n",
              "    </div>\n",
              "  </div>\n",
              "  "
            ]
          },
          "metadata": {},
          "execution_count": 172
        }
      ]
    },
    {
      "cell_type": "markdown",
      "source": [
        "The **Histogram** below displays the frequency values of PKR party's votes during the general election in 2018."
      ],
      "metadata": {
        "id": "JtpuWGVbXlKf"
      }
    },
    {
      "cell_type": "code",
      "source": [
        "PKR_party.hist(bins = 20, figsize = (20,15))\n",
        "plt.show()"
      ],
      "metadata": {
        "colab": {
          "base_uri": "https://localhost:8080/",
          "height": 887
        },
        "id": "WkxPCEolX-cj",
        "outputId": "7ffdba0c-1f2b-440a-f923-757f8553f977"
      },
      "execution_count": 173,
      "outputs": [
        {
          "output_type": "display_data",
          "data": {
            "text/plain": [
              "<Figure size 1440x1080 with 4 Axes>"
            ],
            "image/png": "[encoded data removed]"
          },
          "metadata": {
            "needs_background": "light"
          }
        }
      ]
    },
    {
      "cell_type": "markdown",
      "metadata": {
        "id": "Dn_AW-5uVJJ7"
      },
      "source": [
        "This **Pie Chart** presents the percentage of winning candidate in each party and PKR has the most number of winning candidates (43.6%)."
      ]
    },
    {
      "cell_type": "code",
      "source": [
        "plt.pie(win_party['Candidate Win'], labels=win_party.index, autopct='%1.1f%%')\n",
        "plt.legend(win_party.index, loc='right', bbox_to_anchor=(2,0.5))\n",
        "plt.title('Percentage of Winning Candidate in Each Party')\n",
        "plt.show()"
      ],
      "metadata": {
        "colab": {
          "base_uri": "https://localhost:8080/",
          "height": 323
        },
        "id": "mxlfchzghapF",
        "outputId": "be6fbb3b-3d05-44cf-e667-ea7f40a236ac"
      },
      "execution_count": 174,
      "outputs": [
        {
          "output_type": "display_data",
          "data": {
            "text/plain": [
              "<Figure size 648x360 with 1 Axes>"
            ],
            "image/png": "[encoded data removed]"
          },
          "metadata": {}
        }
      ]
    },
    {
      "cell_type": "markdown",
      "metadata": {
        "id": "Fv4NPHasVJJ7"
      },
      "source": [
        "The **bar chart** shows the total number of votes cast in each states where Sabah has the highest number of votes cast."
      ]
    },
    {
      "cell_type": "code",
      "source": [
        "df.State.value_counts().plot.bar(figsize = (10,5))\n",
        "plt.title('Votes Cast by State')\n",
        "plt.ylabel('Number of Votes Cast')\n",
        "plt.xlabel('States')"
      ],
      "metadata": {
        "colab": {
          "base_uri": "https://localhost:8080/",
          "height": 495
        },
        "id": "X0oTJBAcVTWt",
        "outputId": "482dd7ea-1ebd-4842-dbf0-870c415087e7"
      },
      "execution_count": 175,
      "outputs": [
        {
          "output_type": "execute_result",
          "data": {
            "text/plain": [
              "Text(0.5, 0, 'States')"
            ]
          },
          "metadata": {},
          "execution_count": 175
        },
        {
          "output_type": "display_data",
          "data": {
            "text/plain": [
              "<Figure size 720x360 with 1 Axes>"
            ],
            "image/png": "[encoded data removed]"
          },
          "metadata": {
            "needs_background": "light"
          }
        }
      ]
    },
    {
      "cell_type": "markdown",
      "metadata": {
        "id": "tLNLw0EOVJJ8"
      },
      "source": [
        "This **boxplot** demonstrates the percentage of total votes for each candidate party where it is positively skewed with no outliers."
      ]
    },
    {
      "cell_type": "code",
      "execution_count": 176,
      "metadata": {
        "id": "61sgf555VJJ8",
        "colab": {
          "base_uri": "https://localhost:8080/",
          "height": 360
        },
        "outputId": "0dcf5bb5-fb31-45c9-8bb1-f03d554ce949"
      },
      "outputs": [
        {
          "output_type": "execute_result",
          "data": {
            "text/plain": [
              "<matplotlib.axes._subplots.AxesSubplot at 0x7f1ad6a9f880>"
            ]
          },
          "metadata": {},
          "execution_count": 176
        },
        {
          "output_type": "display_data",
          "data": {
            "text/plain": [
              "<Figure size 648x360 with 1 Axes>"
            ],
            "image/png": "[encoded data removed]"
          },
          "metadata": {
            "needs_background": "light"
          }
        }
      ],
      "source": [
        "sns.boxplot(x=df['% of total Votes'])"
      ]
    },
    {
      "cell_type": "markdown",
      "metadata": {
        "id": "nt_CVhi-VJJ8"
      },
      "source": [
        "The **scatterplot** exhibits the correlation between votes for candidate and total votes cast.\n"
      ]
    },
    {
      "cell_type": "code",
      "execution_count": 177,
      "metadata": {
        "id": "Zatc4Si_VJJ8",
        "colab": {
          "base_uri": "https://localhost:8080/",
          "height": 396
        },
        "outputId": "0e779d5a-ad6f-4739-a8d5-982956571daf"
      },
      "outputs": [
        {
          "output_type": "display_data",
          "data": {
            "text/plain": [
              "<Figure size 720x432 with 1 Axes>"
            ],
            "image/png": "[encoded data removed]"
          },
          "metadata": {
            "needs_background": "light"
          }
        }
      ],
      "source": [
        "fig, ax = plt.subplots(figsize=(10,6))\n",
        "ax.scatter(df['Total Votes Cast'], df['Votes for Candidate'])\n",
        "ax.set_xlabel('Votes for Candidate')\n",
        "ax.set_ylabel('Total Votes Cast')\n",
        "plt.show()"
      ]
    },
    {
      "cell_type": "markdown",
      "metadata": {
        "id": "E0U3IWm8VJJ9"
      },
      "source": [
        "## Asking and Answering Questions\n",
        "\n",
        "5 questions about this dataset will be asked and answered by using Pandas, Matplotlib and Seaborn. \n"
      ]
    },
    {
      "cell_type": "markdown",
      "metadata": {
        "id": "7Lor5rHMVJJ9"
      },
      "source": [
        "#### Q1: What is the percentage of male and female among the candidates?"
      ]
    },
    {
      "cell_type": "code",
      "execution_count": 27,
      "metadata": {
        "id": "pR1HdQ4JVJJ9",
        "colab": {
          "base_uri": "https://localhost:8080/",
          "height": 323
        },
        "outputId": "6aeca30c-8e17-48be-c084-09255eb6f1f5"
      },
      "outputs": [
        {
          "output_type": "display_data",
          "data": {
            "text/plain": [
              "<Figure size 648x360 with 1 Axes>"
            ],
            "image/png": "[encoded data removed]"
          },
          "metadata": {}
        }
      ],
      "source": [
        "label = ['Male', 'Female']\n",
        "plt.pie(df['Gender'].value_counts(), labels=label, autopct='%1.1f%%')\n",
        "plt.legend(labels=label, loc='right', bbox_to_anchor=(2,0.5))\n",
        "plt.title('Percentage of Gender among Candidates')\n",
        "plt.show()"
      ]
    },
    {
      "cell_type": "markdown",
      "source": [
        "**Answer:** There are 89.3% of male candidates and 10.7% of female candidates in the general election of 2018."
      ],
      "metadata": {
        "id": "D1m-Ox_NMJTg"
      }
    },
    {
      "cell_type": "markdown",
      "metadata": {
        "id": "c_REVnrhVJJ-"
      },
      "source": [
        "#### Q2: From the winning candidates, what are number of male and female in each party? "
      ]
    },
    {
      "cell_type": "code",
      "execution_count": 28,
      "metadata": {
        "id": "ShA3QyQpVJJ-",
        "colab": {
          "base_uri": "https://localhost:8080/",
          "height": 444
        },
        "outputId": "44269c12-9387-4b90-f114-6d1537d01ae9"
      },
      "outputs": [
        {
          "output_type": "execute_result",
          "data": {
            "text/plain": [
              "<matplotlib.legend.Legend at 0x7fea2a949e80>"
            ]
          },
          "metadata": {},
          "execution_count": 28
        },
        {
          "output_type": "display_data",
          "data": {
            "text/plain": [
              "<Figure size 648x360 with 1 Axes>"
            ],
            "image/png": "[encoded data removed]"
          },
          "metadata": {
            "needs_background": "light"
          }
        }
      ],
      "source": [
        "win_candidate = df[(df['Candidate Win'] == 1)]\n",
        "ax = win_candidate.groupby(['Candidate Party', 'Gender']).size().unstack().plot(kind='bar', stacked=False)\n",
        "for bar in ax.patches:\n",
        "  ax.annotate(format(bar.get_height(), '.0f'),\n",
        "                   (bar.get_x() + bar.get_width() / 2,\n",
        "                    bar.get_height()), ha='center', va='center',\n",
        "                   size=15, xytext=(0, 8),\n",
        "                   textcoords='offset points')\n",
        "plt.title('Winning Candidates in each Party by Gender')\n",
        "plt.ylabel('Number of Candidates')\n",
        "plt.legend(labels=label)"
      ]
    },
    {
      "cell_type": "markdown",
      "source": [
        "**Answer:** Among the winning candidates, BN has 144 male and 22 female candidates; \n",
        "\n",
        "DAP has 5 male and 1 female candidates; \n",
        "\n",
        "PAS has 87 male and 3 female candidates; \n",
        "\n",
        "PKR has 188 male and 32 female candidates; \n",
        "\n",
        "SOLIDARITI has 2 male and 0 female candidates; \n",
        "\n",
        "Warisan has 18 male and 3 female candidates. "
      ],
      "metadata": {
        "id": "l9P21u3NRxPX"
      }
    },
    {
      "cell_type": "markdown",
      "metadata": {
        "id": "ya3o0SurVJJ-"
      },
      "source": [
        "#### Q3: Among the candidates from ANAKNEGERI party, what is the job title with most percentage?"
      ]
    },
    {
      "cell_type": "code",
      "source": [
        "AN_party = df[(df['Candidate Party'] == 'ANAKNEGERI')]\n",
        "plt.pie(AN_party['Pekerjaan'].value_counts(),autopct='%1.1f%%')\n",
        "label = ['Businessman', 'Self-work','Politicians','Retired']\n",
        "plt.legend(labels=label, loc='right', bbox_to_anchor=(2,0.5))\n",
        "plt.title('Job Titles in ANAKNEGERI Party')\n"
      ],
      "metadata": {
        "colab": {
          "base_uri": "https://localhost:8080/",
          "height": 341
        },
        "id": "vJgzedxYHx14",
        "outputId": "85f3cd5e-d3b0-4729-c31d-d9a0e5ce056f"
      },
      "execution_count": 72,
      "outputs": [
        {
          "output_type": "execute_result",
          "data": {
            "text/plain": [
              "Text(0.5, 1.0, 'Job Titles in ANAKNEGERI Party')"
            ]
          },
          "metadata": {},
          "execution_count": 72
        },
        {
          "output_type": "display_data",
          "data": {
            "text/plain": [
              "<Figure size 648x360 with 1 Axes>"
            ],
            "image/png": "[encoded data removed]"
          },
          "metadata": {}
        }
      ]
    },
    {
      "cell_type": "markdown",
      "source": [
        "**Answer:** In ANAKNEGERI party, most candidates are businessman."
      ],
      "metadata": {
        "id": "wThdIIvrR_XT"
      }
    },
    {
      "cell_type": "markdown",
      "metadata": {
        "id": "p4CcVO1TVJJ-"
      },
      "source": [
        "#### Q4: In Johor, which seat name did most people voted in during the election?"
      ]
    },
    {
      "cell_type": "code",
      "execution_count": 39,
      "metadata": {
        "id": "1y8gWqGcVJJ-",
        "colab": {
          "base_uri": "https://localhost:8080/",
          "height": 1000
        },
        "outputId": "34f7724a-09ca-45d0-e1b4-2deabc306716"
      },
      "outputs": [
        {
          "output_type": "execute_result",
          "data": {
            "text/plain": [
              "Text(0, 0.5, 'Seat Name')"
            ]
          },
          "metadata": {},
          "execution_count": 39
        },
        {
          "output_type": "display_data",
          "data": {
            "text/plain": [
              "<Figure size 1080x1440 with 1 Axes>"
            ],
            "image/png": "[encoded data removed]"
          },
          "metadata": {
            "needs_background": "light"
          }
        }
      ],
      "source": [
        "johor_state = df[(df['State'] == 'JOHOR')]\n",
        "johor_state = johor_state.groupby('Seat Name')\n",
        "total_state = johor_state['Votes for Candidate'].sum().sort_values(ascending = True)\n",
        "ts = total_state[1:]\n",
        "plt.figure(figsize=(15,20))\n",
        "plt.barh(ts.index, ts.values)\n",
        "plt.title('Total Votes for Candidate by Seat Name')\n",
        "plt.xlabel('Votes for Candidate')\n",
        "plt.ylabel('Seat Name')"
      ]
    },
    {
      "cell_type": "markdown",
      "source": [
        "**Answer:** In Johor, most people participated the voting for election in seat name Skudai. "
      ],
      "metadata": {
        "id": "14wNU1ADF7xx"
      }
    },
    {
      "cell_type": "markdown",
      "metadata": {
        "id": "uFuZBqX1VJJ_"
      },
      "source": [
        "#### Q5: In Perlis, Beseri area, what is the votes for the each candidate party?"
      ]
    },
    {
      "cell_type": "code",
      "execution_count": 58,
      "metadata": {
        "id": "xZWIg8jJVJJ_",
        "colab": {
          "base_uri": "https://localhost:8080/",
          "height": 380
        },
        "outputId": "70a63c0b-e4ff-448a-c569-65adcaf5dab0"
      },
      "outputs": [
        {
          "output_type": "execute_result",
          "data": {
            "text/plain": [
              "Text(0, 0.5, 'Votes for Candidate')"
            ]
          },
          "metadata": {},
          "execution_count": 58
        },
        {
          "output_type": "display_data",
          "data": {
            "text/plain": [
              "<Figure size 648x360 with 1 Axes>"
            ],
            "image/png": "[encoded data removed]"
          },
          "metadata": {
            "needs_background": "light"
          }
        }
      ],
      "source": [
        "perlis_votes = df[(df['State']=='PERLIS') & (df['Seat Name'] == 'BESERI')]\n",
        "perlis_votes = perlis_votes.groupby('Candidate Party')\n",
        "votes = perlis_votes['Votes for Candidate'].sum()\n",
        "splot = sns.barplot(x=votes.index, y=votes.values)\n",
        "for bar in splot.patches:\n",
        "  splot.annotate(format(bar.get_height(), '.0f'),\n",
        "                   (bar.get_x() + bar.get_width() / 2,\n",
        "                    bar.get_height()), ha='center', va='center',\n",
        "                   size=15, xytext=(0, 8),\n",
        "                   textcoords='offset points')\n",
        "plt.title('Votes for Candidate by Party')\n",
        "plt.xlabel('Candidate Party')\n",
        "plt.ylabel('Votes for Candidate')"
      ]
    },
    {
      "cell_type": "markdown",
      "source": [
        "**Answer:** In Perlis, Beseri area, BN has the most votes with a total of 2879 votes, followed by PAS with 1523 votes and PKR 2463 votes."
      ],
      "metadata": {
        "id": "Bg4-2w5LI3eZ"
      }
    },
    {
      "cell_type": "markdown",
      "metadata": {
        "id": "VxoO755tVJJ_"
      },
      "source": [
        "## Inferences and Conclusion\n",
        "\n",
        "The process of cleaning, analyzing, and visualizing the data has been completed. From the questions answered above, we can observe that most of the candidates are male. This shows that men show more interest in politics than women. \n",
        "\n",
        "Moving on, the PKR party has won the majority of votes during the general election with a total of 220 winning candidates, followed by the BN party with the second highest number of winning candidates (166 people) and the PAS party with the third highest number of winning candidates (90 people). \n",
        "\n",
        "Furthermore, 1126 of the candidates have no occupation, which is considered the majority in this dataset. This means that most of the candidates only work as politicians. \n",
        "\n",
        "Besides, throughout this analysis, we found out that the total votes cast in each state has a big difference depends on the the number of citizens in each state. For example, Selangor ia city which near Putrajaya and Kuala Lumpur, the number of total votes cast is the highest among all the states. Compare to Perlis, it is a small state, the number of total votes cast is the lowest among all the states. From this analysis, we can see that a bigger city has a higher population and the small city has a lower population and this factor affects the number of total votes cast. "
      ]
    },
    {
      "cell_type": "markdown",
      "metadata": {
        "id": "xfuc6sJgVJKA"
      },
      "source": [
        "## References and Future Work\n",
        "\n",
        "Future projects related to the general election of Malaysia could use this dataset to investigate the results and predict the future parliment for the upcoming elections.\n",
        "\n",
        "**Resources**\n",
        "\n",
        "[Exploratory Data Analysis](https://colab.research.google.com/drive/1E99RyuEAZM8j2dvoxRqV8oWpg3kjqfBg#scrollTo=dB_j6LtTTO5j)\n",
        "\n",
        "[Introduction to Exploratory Data Analysis](https://colab.research.google.com/drive/1DjKNfvPGkYyHQWpiEdyK4ozm-nXVa43D#scrollTo=nzh3zNvXEOOn)\n",
        "\n",
        "[Matplotlib](https://colab.research.google.com/drive/1Sk44p68l7wwrldwtZ_jpQ9-CTeDDcpTH)\n",
        "\n",
        "[Seaborn](https://colab.research.google.com/drive/1GWKtrW5GqZ8ifOh2deHLThxCpBE14A2c)\n",
        "\n",
        "[UNDC](https://colab.research.google.com/drive/1bMSLUmU-gSVJh0SF6CVWx1ddM17uBe_n)\n",
        "\n",
        "\n"
      ]
    }
  ],
  "metadata": {
    "kernelspec": {
      "display_name": "Python 3",
      "language": "python",
      "name": "python3"
    },
    "language_info": {
      "codemirror_mode": {
        "name": "ipython",
        "version": 3
      },
      "file_extension": ".py",
      "mimetype": "text/x-python",
      "name": "python",
      "nbconvert_exporter": "python",
      "pygments_lexer": "ipython3",
      "version": "3.8.5"
    },
    "colab": {
      "provenance": [],
      "include_colab_link": true
    }
  },
  "nbformat": 4,
  "nbformat_minor": 0
}