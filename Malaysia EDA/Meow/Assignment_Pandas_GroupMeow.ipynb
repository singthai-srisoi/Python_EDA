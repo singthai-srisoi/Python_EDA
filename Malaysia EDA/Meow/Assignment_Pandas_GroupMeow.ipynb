{
  "cells": [
    {
      "cell_type": "markdown",
      "metadata": {
        "id": "view-in-github",
        "colab_type": "text"
      },
      "source": [
        "<a href=\"https://colab.research.google.com/github/drshahizan/Python_EDA/blob/main/Assignment_Pandas_GroupMeow.ipynb\" target=\"_parent\"><img src=\"https://colab.research.google.com/assets/colab-badge.svg\" alt=\"Open In Colab\"/></a>"
      ]
    },
    {
      "cell_type": "markdown",
      "metadata": {
        "id": "7F8DQl5dVJJ0"
      },
      "source": [
        "# Title: **Capacity and utilisation of Intensive Care Unit (ICU) beds during COVID-19**\n",
        "\n",
        "### Group Members: \n",
        "*   MADINA SURAYA BINTI ZHARIN (A20EC0203)\n",
        "*   ADRINA ASYIQIN BINTI MD ADHA (A20EC0174)\n",
        "\n",
        "\n",
        "One of the challenges that the Ministry of Health suffer during the peak season of COVID-19 was managing the Intensive Care Unit (ICU) for critical patients. They always need to make sure that the capacity and the utilisation of ICU were enough. This dataset was found from the MoH (Ministry of Health Malaysia) official Github account which presently focused on COVID-19 data, in collaboration with the COVID-19 Immunisation Task Force.\n",
        "\n",
        "This dataset contains 15656 records and 16 columns which are:\n",
        "1. **date:** yyyy-mm-dd format; data correct as of 2359hrs on that date\n",
        "2. **state:**name of state, with similar \n",
        "qualification on exhaustiveness of \n",
        "date-state combos as PKRC data\n",
        "3. **beds_icu_total**: total critical care beds available (with related medical infrastructure)\n",
        "4. **beds_icu_covid**: total critical care beds dedicated for COVID-19\n",
        "5. **vent**: total available ventilators\n",
        "6. **vent_port**: total available portable ventilators\n",
        "7. **icu_x**: total number of individuals in category x under intensive care, where x can be suspected/probable(**icu_pui**), COVID-19 positive(**icu_covid**), or non-COVID(**icu_noncovid**); this is a stock variable\n",
        "8. **vent_x**: total number of individuals in category x on mechanical ventilation, where x can be suspected/probable(**vent_pui**), COVID-19 positive (**vent_covid**), or non-COVID(**vent_noncovid**); this is a stock variable\n",
        "\n",
        "\n"
      ]
    },
    {
      "cell_type": "markdown",
      "metadata": {
        "id": "LxWzVndBVJJ1"
      },
      "source": [
        "## Downloading the Dataset\n",
        "\n"
      ]
    },
    {
      "cell_type": "markdown",
      "source": [
        "Below are the libraries used for this EDA. Some of it are for basic python such as pandas and numpy and also visualisation libraries which are seaborn and matplotlib."
      ],
      "metadata": {
        "id": "dZr3NSrAet7M"
      }
    },
    {
      "cell_type": "code",
      "execution_count": null,
      "metadata": {
        "id": "_s6ZSPWYVJJ2"
      },
      "outputs": [],
      "source": [
        "#Importing libraries\n",
        "import pandas as pd\n",
        "import numpy as np"
      ]
    },
    {
      "cell_type": "markdown",
      "source": [
        "Next, we load the dataset by firstly, store it in our github account and then copy the link and paste here. There is only one file of dataset we use which is in csv form."
      ],
      "metadata": {
        "id": "L3c0nN4jfVSF"
      }
    },
    {
      "cell_type": "markdown",
      "metadata": {
        "id": "GhhO14GEVJJ2"
      },
      "source": [
        "Let's begin by downloading the data, and listing the files within the dataset."
      ]
    },
    {
      "cell_type": "code",
      "execution_count": null,
      "metadata": {
        "id": "90nIoWQtVJJ3"
      },
      "outputs": [],
      "source": [
        "#Loading data from a cvs file\n",
        "data = pd.read_csv('https://raw.githubusercontent.com/madinasuraya/EDA/main/icu.csv')"
      ]
    },
    {
      "cell_type": "code",
      "execution_count": null,
      "metadata": {
        "id": "oAVmLuq2VJJ3",
        "colab": {
          "base_uri": "https://localhost:8080/",
          "height": 357
        },
        "outputId": "6d4f25c4-0422-4b2e-96a7-736192954fa9"
      },
      "outputs": [
        {
          "output_type": "execute_result",
          "data": {
            "text/plain": [
              "         date            state  beds_icu  beds_icu_rep  beds_icu_total  \\\n",
              "0  2020-03-24            Johor        10            22              32   \n",
              "1  2020-03-24            Kedah        35             0              35   \n",
              "2  2020-03-24         Kelantan        39             0              39   \n",
              "3  2020-03-24           Melaka        26             0              26   \n",
              "4  2020-03-24  Negeri Sembilan        18             0              18   \n",
              "\n",
              "   beds_icu_covid  vent  vent_port  icu_covid  icu_pui  icu_noncovid  \\\n",
              "0              10    11          2          0        0             1   \n",
              "1              16    34          0          2        1            12   \n",
              "2              20    42          4          1        0            20   \n",
              "3              12    23          4          0        2            12   \n",
              "4              10    14          9          0        0             8   \n",
              "\n",
              "   vent_covid  vent_pui  vent_noncovid  vent_used  vent_port_used  \n",
              "0           0         0              0          8               0  \n",
              "1           1         1              0         19               0  \n",
              "2           1         0              0         26               0  \n",
              "3           0         1              0         13               5  \n",
              "4           0         0              0          1               6  "
            ],
            "text/html": [
              "\n",
              "  <div id=\"df-a5e9f279-21fe-4b79-b6e1-46f89ff43a60\">\n",
              "    <div class=\"colab-df-container\">\n",
              "      <div>\n",
              "<style scoped>\n",
              "    .dataframe tbody tr th:only-of-type {\n",
              "        vertical-align: middle;\n",
              "    }\n",
              "\n",
              "    .dataframe tbody tr th {\n",
              "        vertical-align: top;\n",
              "    }\n",
              "\n",
              "    .dataframe thead th {\n",
              "        text-align: right;\n",
              "    }\n",
              "</style>\n",
              "<table border=\"1\" class=\"dataframe\">\n",
              "  <thead>\n",
              "    <tr style=\"text-align: right;\">\n",
              "      <th></th>\n",
              "      <th>date</th>\n",
              "      <th>state</th>\n",
              "      <th>beds_icu</th>\n",
              "      <th>beds_icu_rep</th>\n",
              "      <th>beds_icu_total</th>\n",
              "      <th>beds_icu_covid</th>\n",
              "      <th>vent</th>\n",
              "      <th>vent_port</th>\n",
              "      <th>icu_covid</th>\n",
              "      <th>icu_pui</th>\n",
              "      <th>icu_noncovid</th>\n",
              "      <th>vent_covid</th>\n",
              "      <th>vent_pui</th>\n",
              "      <th>vent_noncovid</th>\n",
              "      <th>vent_used</th>\n",
              "      <th>vent_port_used</th>\n",
              "    </tr>\n",
              "  </thead>\n",
              "  <tbody>\n",
              "    <tr>\n",
              "      <th>0</th>\n",
              "      <td>2020-03-24</td>\n",
              "      <td>Johor</td>\n",
              "      <td>10</td>\n",
              "      <td>22</td>\n",
              "      <td>32</td>\n",
              "      <td>10</td>\n",
              "      <td>11</td>\n",
              "      <td>2</td>\n",
              "      <td>0</td>\n",
              "      <td>0</td>\n",
              "      <td>1</td>\n",
              "      <td>0</td>\n",
              "      <td>0</td>\n",
              "      <td>0</td>\n",
              "      <td>8</td>\n",
              "      <td>0</td>\n",
              "    </tr>\n",
              "    <tr>\n",
              "      <th>1</th>\n",
              "      <td>2020-03-24</td>\n",
              "      <td>Kedah</td>\n",
              "      <td>35</td>\n",
              "      <td>0</td>\n",
              "      <td>35</td>\n",
              "      <td>16</td>\n",
              "      <td>34</td>\n",
              "      <td>0</td>\n",
              "      <td>2</td>\n",
              "      <td>1</td>\n",
              "      <td>12</td>\n",
              "      <td>1</td>\n",
              "      <td>1</td>\n",
              "      <td>0</td>\n",
              "      <td>19</td>\n",
              "      <td>0</td>\n",
              "    </tr>\n",
              "    <tr>\n",
              "      <th>2</th>\n",
              "      <td>2020-03-24</td>\n",
              "      <td>Kelantan</td>\n",
              "      <td>39</td>\n",
              "      <td>0</td>\n",
              "      <td>39</td>\n",
              "      <td>20</td>\n",
              "      <td>42</td>\n",
              "      <td>4</td>\n",
              "      <td>1</td>\n",
              "      <td>0</td>\n",
              "      <td>20</td>\n",
              "      <td>1</td>\n",
              "      <td>0</td>\n",
              "      <td>0</td>\n",
              "      <td>26</td>\n",
              "      <td>0</td>\n",
              "    </tr>\n",
              "    <tr>\n",
              "      <th>3</th>\n",
              "      <td>2020-03-24</td>\n",
              "      <td>Melaka</td>\n",
              "      <td>26</td>\n",
              "      <td>0</td>\n",
              "      <td>26</td>\n",
              "      <td>12</td>\n",
              "      <td>23</td>\n",
              "      <td>4</td>\n",
              "      <td>0</td>\n",
              "      <td>2</td>\n",
              "      <td>12</td>\n",
              "      <td>0</td>\n",
              "      <td>1</td>\n",
              "      <td>0</td>\n",
              "      <td>13</td>\n",
              "      <td>5</td>\n",
              "    </tr>\n",
              "    <tr>\n",
              "      <th>4</th>\n",
              "      <td>2020-03-24</td>\n",
              "      <td>Negeri Sembilan</td>\n",
              "      <td>18</td>\n",
              "      <td>0</td>\n",
              "      <td>18</td>\n",
              "      <td>10</td>\n",
              "      <td>14</td>\n",
              "      <td>9</td>\n",
              "      <td>0</td>\n",
              "      <td>0</td>\n",
              "      <td>8</td>\n",
              "      <td>0</td>\n",
              "      <td>0</td>\n",
              "      <td>0</td>\n",
              "      <td>1</td>\n",
              "      <td>6</td>\n",
              "    </tr>\n",
              "  </tbody>\n",
              "</table>\n",
              "</div>\n",
              "      <button class=\"colab-df-convert\" onclick=\"convertToInteractive('df-a5e9f279-21fe-4b79-b6e1-46f89ff43a60')\"\n",
              "              title=\"Convert this dataframe to an interactive table.\"\n",
              "              style=\"display:none;\">\n",
              "        \n",
              "  <svg xmlns=\"http://www.w3.org/2000/svg\" height=\"24px\"viewBox=\"0 0 24 24\"\n",
              "       width=\"24px\">\n",
              "    <path d=\"M0 0h24v24H0V0z\" fill=\"none\"/>\n",
              "    <path d=\"M18.56 5.44l.94 2.06.94-2.06 2.06-.94-2.06-.94-.94-2.06-.94 2.06-2.06.94zm-11 1L8.5 8.5l.94-2.06 2.06-.94-2.06-.94L8.5 2.5l-.94 2.06-2.06.94zm10 10l.94 2.06.94-2.06 2.06-.94-2.06-.94-.94-2.06-.94 2.06-2.06.94z\"/><path d=\"M17.41 7.96l-1.37-1.37c-.4-.4-.92-.59-1.43-.59-.52 0-1.04.2-1.43.59L10.3 9.45l-7.72 7.72c-.78.78-.78 2.05 0 2.83L4 21.41c.39.39.9.59 1.41.59.51 0 1.02-.2 1.41-.59l7.78-7.78 2.81-2.81c.8-.78.8-2.07 0-2.86zM5.41 20L4 18.59l7.72-7.72 1.47 1.35L5.41 20z\"/>\n",
              "  </svg>\n",
              "      </button>\n",
              "      \n",
              "  <style>\n",
              "    .colab-df-container {\n",
              "      display:flex;\n",
              "      flex-wrap:wrap;\n",
              "      gap: 12px;\n",
              "    }\n",
              "\n",
              "    .colab-df-convert {\n",
              "      background-color: #E8F0FE;\n",
              "      border: none;\n",
              "      border-radius: 50%;\n",
              "      cursor: pointer;\n",
              "      display: none;\n",
              "      fill: #1967D2;\n",
              "      height: 32px;\n",
              "      padding: 0 0 0 0;\n",
              "      width: 32px;\n",
              "    }\n",
              "\n",
              "    .colab-df-convert:hover {\n",
              "      background-color: #E2EBFA;\n",
              "      box-shadow: 0px 1px 2px rgba(60, 64, 67, 0.3), 0px 1px 3px 1px rgba(60, 64, 67, 0.15);\n",
              "      fill: #174EA6;\n",
              "    }\n",
              "\n",
              "    [theme=dark] .colab-df-convert {\n",
              "      background-color: #3B4455;\n",
              "      fill: #D2E3FC;\n",
              "    }\n",
              "\n",
              "    [theme=dark] .colab-df-convert:hover {\n",
              "      background-color: #434B5C;\n",
              "      box-shadow: 0px 1px 3px 1px rgba(0, 0, 0, 0.15);\n",
              "      filter: drop-shadow(0px 1px 2px rgba(0, 0, 0, 0.3));\n",
              "      fill: #FFFFFF;\n",
              "    }\n",
              "  </style>\n",
              "\n",
              "      <script>\n",
              "        const buttonEl =\n",
              "          document.querySelector('#df-a5e9f279-21fe-4b79-b6e1-46f89ff43a60 button.colab-df-convert');\n",
              "        buttonEl.style.display =\n",
              "          google.colab.kernel.accessAllowed ? 'block' : 'none';\n",
              "\n",
              "        async function convertToInteractive(key) {\n",
              "          const element = document.querySelector('#df-a5e9f279-21fe-4b79-b6e1-46f89ff43a60');\n",
              "          const dataTable =\n",
              "            await google.colab.kernel.invokeFunction('convertToInteractive',\n",
              "                                                     [key], {});\n",
              "          if (!dataTable) return;\n",
              "\n",
              "          const docLinkHtml = 'Like what you see? Visit the ' +\n",
              "            '<a target=\"_blank\" href=https://colab.research.google.com/notebooks/data_table.ipynb>data table notebook</a>'\n",
              "            + ' to learn more about interactive tables.';\n",
              "          element.innerHTML = '';\n",
              "          dataTable['output_type'] = 'display_data';\n",
              "          await google.colab.output.renderOutput(dataTable, element);\n",
              "          const docLink = document.createElement('div');\n",
              "          docLink.innerHTML = docLinkHtml;\n",
              "          element.appendChild(docLink);\n",
              "        }\n",
              "      </script>\n",
              "    </div>\n",
              "  </div>\n",
              "  "
            ]
          },
          "metadata": {},
          "execution_count": 38
        }
      ],
      "source": [
        "data.head()"
      ]
    },
    {
      "cell_type": "code",
      "source": [
        "data.tail()"
      ],
      "metadata": {
        "colab": {
          "base_uri": "https://localhost:8080/",
          "height": 357
        },
        "id": "bl4TNsDckCB3",
        "outputId": "902850a3-77ac-4c6f-b97d-5dc0d5121eb2"
      },
      "execution_count": null,
      "outputs": [
        {
          "output_type": "execute_result",
          "data": {
            "text/plain": [
              "             date              state  beds_icu  beds_icu_rep  beds_icu_total  \\\n",
              "15650  2022-12-21           Selangor       136             6             142   \n",
              "15651  2022-12-21         Terengganu        40             1              41   \n",
              "15652  2022-12-21  W.P. Kuala Lumpur        30            16              46   \n",
              "15653  2022-12-21        W.P. Labuan         5             7              12   \n",
              "15654  2022-12-21     W.P. Putrajaya        14             0              14   \n",
              "\n",
              "       beds_icu_covid  vent  vent_port  icu_covid  icu_pui  icu_noncovid  \\\n",
              "15650              24   465         14          3        0           111   \n",
              "15651               7    66         40          1        0            29   \n",
              "15652               4    92          0          3        0            28   \n",
              "15653               7    22         12          0        0             1   \n",
              "15654               3    37          0          0        0             9   \n",
              "\n",
              "       vent_covid  vent_pui  vent_noncovid  vent_used  vent_port_used  \n",
              "15650           1         0             75        161              17  \n",
              "15651           1         0             23         28              18  \n",
              "15652           2         0             21         26               0  \n",
              "15653           0         0              0          0               0  \n",
              "15654           0         0              6          6               0  "
            ],
            "text/html": [
              "\n",
              "  <div id=\"df-fe38f2f6-02fc-472f-87ea-5c0966b29a63\">\n",
              "    <div class=\"colab-df-container\">\n",
              "      <div>\n",
              "<style scoped>\n",
              "    .dataframe tbody tr th:only-of-type {\n",
              "        vertical-align: middle;\n",
              "    }\n",
              "\n",
              "    .dataframe tbody tr th {\n",
              "        vertical-align: top;\n",
              "    }\n",
              "\n",
              "    .dataframe thead th {\n",
              "        text-align: right;\n",
              "    }\n",
              "</style>\n",
              "<table border=\"1\" class=\"dataframe\">\n",
              "  <thead>\n",
              "    <tr style=\"text-align: right;\">\n",
              "      <th></th>\n",
              "      <th>date</th>\n",
              "      <th>state</th>\n",
              "      <th>beds_icu</th>\n",
              "      <th>beds_icu_rep</th>\n",
              "      <th>beds_icu_total</th>\n",
              "      <th>beds_icu_covid</th>\n",
              "      <th>vent</th>\n",
              "      <th>vent_port</th>\n",
              "      <th>icu_covid</th>\n",
              "      <th>icu_pui</th>\n",
              "      <th>icu_noncovid</th>\n",
              "      <th>vent_covid</th>\n",
              "      <th>vent_pui</th>\n",
              "      <th>vent_noncovid</th>\n",
              "      <th>vent_used</th>\n",
              "      <th>vent_port_used</th>\n",
              "    </tr>\n",
              "  </thead>\n",
              "  <tbody>\n",
              "    <tr>\n",
              "      <th>15650</th>\n",
              "      <td>2022-12-21</td>\n",
              "      <td>Selangor</td>\n",
              "      <td>136</td>\n",
              "      <td>6</td>\n",
              "      <td>142</td>\n",
              "      <td>24</td>\n",
              "      <td>465</td>\n",
              "      <td>14</td>\n",
              "      <td>3</td>\n",
              "      <td>0</td>\n",
              "      <td>111</td>\n",
              "      <td>1</td>\n",
              "      <td>0</td>\n",
              "      <td>75</td>\n",
              "      <td>161</td>\n",
              "      <td>17</td>\n",
              "    </tr>\n",
              "    <tr>\n",
              "      <th>15651</th>\n",
              "      <td>2022-12-21</td>\n",
              "      <td>Terengganu</td>\n",
              "      <td>40</td>\n",
              "      <td>1</td>\n",
              "      <td>41</td>\n",
              "      <td>7</td>\n",
              "      <td>66</td>\n",
              "      <td>40</td>\n",
              "      <td>1</td>\n",
              "      <td>0</td>\n",
              "      <td>29</td>\n",
              "      <td>1</td>\n",
              "      <td>0</td>\n",
              "      <td>23</td>\n",
              "      <td>28</td>\n",
              "      <td>18</td>\n",
              "    </tr>\n",
              "    <tr>\n",
              "      <th>15652</th>\n",
              "      <td>2022-12-21</td>\n",
              "      <td>W.P. Kuala Lumpur</td>\n",
              "      <td>30</td>\n",
              "      <td>16</td>\n",
              "      <td>46</td>\n",
              "      <td>4</td>\n",
              "      <td>92</td>\n",
              "      <td>0</td>\n",
              "      <td>3</td>\n",
              "      <td>0</td>\n",
              "      <td>28</td>\n",
              "      <td>2</td>\n",
              "      <td>0</td>\n",
              "      <td>21</td>\n",
              "      <td>26</td>\n",
              "      <td>0</td>\n",
              "    </tr>\n",
              "    <tr>\n",
              "      <th>15653</th>\n",
              "      <td>2022-12-21</td>\n",
              "      <td>W.P. Labuan</td>\n",
              "      <td>5</td>\n",
              "      <td>7</td>\n",
              "      <td>12</td>\n",
              "      <td>7</td>\n",
              "      <td>22</td>\n",
              "      <td>12</td>\n",
              "      <td>0</td>\n",
              "      <td>0</td>\n",
              "      <td>1</td>\n",
              "      <td>0</td>\n",
              "      <td>0</td>\n",
              "      <td>0</td>\n",
              "      <td>0</td>\n",
              "      <td>0</td>\n",
              "    </tr>\n",
              "    <tr>\n",
              "      <th>15654</th>\n",
              "      <td>2022-12-21</td>\n",
              "      <td>W.P. Putrajaya</td>\n",
              "      <td>14</td>\n",
              "      <td>0</td>\n",
              "      <td>14</td>\n",
              "      <td>3</td>\n",
              "      <td>37</td>\n",
              "      <td>0</td>\n",
              "      <td>0</td>\n",
              "      <td>0</td>\n",
              "      <td>9</td>\n",
              "      <td>0</td>\n",
              "      <td>0</td>\n",
              "      <td>6</td>\n",
              "      <td>6</td>\n",
              "      <td>0</td>\n",
              "    </tr>\n",
              "  </tbody>\n",
              "</table>\n",
              "</div>\n",
              "      <button class=\"colab-df-convert\" onclick=\"convertToInteractive('df-fe38f2f6-02fc-472f-87ea-5c0966b29a63')\"\n",
              "              title=\"Convert this dataframe to an interactive table.\"\n",
              "              style=\"display:none;\">\n",
              "        \n",
              "  <svg xmlns=\"http://www.w3.org/2000/svg\" height=\"24px\"viewBox=\"0 0 24 24\"\n",
              "       width=\"24px\">\n",
              "    <path d=\"M0 0h24v24H0V0z\" fill=\"none\"/>\n",
              "    <path d=\"M18.56 5.44l.94 2.06.94-2.06 2.06-.94-2.06-.94-.94-2.06-.94 2.06-2.06.94zm-11 1L8.5 8.5l.94-2.06 2.06-.94-2.06-.94L8.5 2.5l-.94 2.06-2.06.94zm10 10l.94 2.06.94-2.06 2.06-.94-2.06-.94-.94-2.06-.94 2.06-2.06.94z\"/><path d=\"M17.41 7.96l-1.37-1.37c-.4-.4-.92-.59-1.43-.59-.52 0-1.04.2-1.43.59L10.3 9.45l-7.72 7.72c-.78.78-.78 2.05 0 2.83L4 21.41c.39.39.9.59 1.41.59.51 0 1.02-.2 1.41-.59l7.78-7.78 2.81-2.81c.8-.78.8-2.07 0-2.86zM5.41 20L4 18.59l7.72-7.72 1.47 1.35L5.41 20z\"/>\n",
              "  </svg>\n",
              "      </button>\n",
              "      \n",
              "  <style>\n",
              "    .colab-df-container {\n",
              "      display:flex;\n",
              "      flex-wrap:wrap;\n",
              "      gap: 12px;\n",
              "    }\n",
              "\n",
              "    .colab-df-convert {\n",
              "      background-color: #E8F0FE;\n",
              "      border: none;\n",
              "      border-radius: 50%;\n",
              "      cursor: pointer;\n",
              "      display: none;\n",
              "      fill: #1967D2;\n",
              "      height: 32px;\n",
              "      padding: 0 0 0 0;\n",
              "      width: 32px;\n",
              "    }\n",
              "\n",
              "    .colab-df-convert:hover {\n",
              "      background-color: #E2EBFA;\n",
              "      box-shadow: 0px 1px 2px rgba(60, 64, 67, 0.3), 0px 1px 3px 1px rgba(60, 64, 67, 0.15);\n",
              "      fill: #174EA6;\n",
              "    }\n",
              "\n",
              "    [theme=dark] .colab-df-convert {\n",
              "      background-color: #3B4455;\n",
              "      fill: #D2E3FC;\n",
              "    }\n",
              "\n",
              "    [theme=dark] .colab-df-convert:hover {\n",
              "      background-color: #434B5C;\n",
              "      box-shadow: 0px 1px 3px 1px rgba(0, 0, 0, 0.15);\n",
              "      filter: drop-shadow(0px 1px 2px rgba(0, 0, 0, 0.3));\n",
              "      fill: #FFFFFF;\n",
              "    }\n",
              "  </style>\n",
              "\n",
              "      <script>\n",
              "        const buttonEl =\n",
              "          document.querySelector('#df-fe38f2f6-02fc-472f-87ea-5c0966b29a63 button.colab-df-convert');\n",
              "        buttonEl.style.display =\n",
              "          google.colab.kernel.accessAllowed ? 'block' : 'none';\n",
              "\n",
              "        async function convertToInteractive(key) {\n",
              "          const element = document.querySelector('#df-fe38f2f6-02fc-472f-87ea-5c0966b29a63');\n",
              "          const dataTable =\n",
              "            await google.colab.kernel.invokeFunction('convertToInteractive',\n",
              "                                                     [key], {});\n",
              "          if (!dataTable) return;\n",
              "\n",
              "          const docLinkHtml = 'Like what you see? Visit the ' +\n",
              "            '<a target=\"_blank\" href=https://colab.research.google.com/notebooks/data_table.ipynb>data table notebook</a>'\n",
              "            + ' to learn more about interactive tables.';\n",
              "          element.innerHTML = '';\n",
              "          dataTable['output_type'] = 'display_data';\n",
              "          await google.colab.output.renderOutput(dataTable, element);\n",
              "          const docLink = document.createElement('div');\n",
              "          docLink.innerHTML = docLinkHtml;\n",
              "          element.appendChild(docLink);\n",
              "        }\n",
              "      </script>\n",
              "    </div>\n",
              "  </div>\n",
              "  "
            ]
          },
          "metadata": {},
          "execution_count": 39
        }
      ]
    },
    {
      "cell_type": "markdown",
      "metadata": {
        "id": "XXnPmr-JVJJ3"
      },
      "source": [
        "The dataset has been downloaded and extracted."
      ]
    },
    {
      "cell_type": "markdown",
      "metadata": {
        "id": "Jnx4zelxVJJ4"
      },
      "source": [
        "Next step, observe the data type of each fields."
      ]
    },
    {
      "cell_type": "code",
      "execution_count": null,
      "metadata": {
        "id": "uowAPeffVJJ4",
        "colab": {
          "base_uri": "https://localhost:8080/"
        },
        "outputId": "123bd819-d1a4-4a49-d262-0be486a2a2ea"
      },
      "outputs": [
        {
          "output_type": "execute_result",
          "data": {
            "text/plain": [
              "date              object\n",
              "state             object\n",
              "beds_icu           int64\n",
              "beds_icu_rep       int64\n",
              "beds_icu_total     int64\n",
              "beds_icu_covid     int64\n",
              "vent               int64\n",
              "vent_port          int64\n",
              "icu_covid          int64\n",
              "icu_pui            int64\n",
              "icu_noncovid       int64\n",
              "vent_covid         int64\n",
              "vent_pui           int64\n",
              "vent_noncovid      int64\n",
              "vent_used          int64\n",
              "vent_port_used     int64\n",
              "dtype: object"
            ]
          },
          "metadata": {},
          "execution_count": 40
        }
      ],
      "source": [
        "data.dtypes"
      ]
    },
    {
      "cell_type": "markdown",
      "metadata": {
        "id": "u0vucnGFVJJ5"
      },
      "source": [
        "## Data Preparation and Cleaning\n",
        "\n",
        "\n"
      ]
    },
    {
      "cell_type": "markdown",
      "source": [
        "Drop some columns that will not be use."
      ],
      "metadata": {
        "id": "mLza9KFw5_H4"
      }
    },
    {
      "cell_type": "code",
      "source": [
        "columns = ['beds_icu', 'beds_icu_rep', 'vent_used', 'vent_port_used']\n",
        "data.drop(columns, inplace=True, axis=1)"
      ],
      "metadata": {
        "id": "OkyfLSLh1kX-"
      },
      "execution_count": null,
      "outputs": []
    },
    {
      "cell_type": "code",
      "source": [
        "data.head()"
      ],
      "metadata": {
        "colab": {
          "base_uri": "https://localhost:8080/",
          "height": 206
        },
        "id": "1T306CfU6LOz",
        "outputId": "6731dbb3-3700-499f-a4e9-5bcf19353270"
      },
      "execution_count": null,
      "outputs": [
        {
          "output_type": "execute_result",
          "data": {
            "text/plain": [
              "         date            state  beds_icu_total  beds_icu_covid  vent  \\\n",
              "0  2020-03-24            Johor              32              10    11   \n",
              "1  2020-03-24            Kedah              35              16    34   \n",
              "2  2020-03-24         Kelantan              39              20    42   \n",
              "3  2020-03-24           Melaka              26              12    23   \n",
              "4  2020-03-24  Negeri Sembilan              18              10    14   \n",
              "\n",
              "   vent_port  icu_covid  icu_pui  icu_noncovid  vent_covid  vent_pui  \\\n",
              "0          2          0        0             1           0         0   \n",
              "1          0          2        1            12           1         1   \n",
              "2          4          1        0            20           1         0   \n",
              "3          4          0        2            12           0         1   \n",
              "4          9          0        0             8           0         0   \n",
              "\n",
              "   vent_noncovid  \n",
              "0              0  \n",
              "1              0  \n",
              "2              0  \n",
              "3              0  \n",
              "4              0  "
            ],
            "text/html": [
              "\n",
              "  <div id=\"df-c97b09a1-458f-406e-8c99-657a0a593896\">\n",
              "    <div class=\"colab-df-container\">\n",
              "      <div>\n",
              "<style scoped>\n",
              "    .dataframe tbody tr th:only-of-type {\n",
              "        vertical-align: middle;\n",
              "    }\n",
              "\n",
              "    .dataframe tbody tr th {\n",
              "        vertical-align: top;\n",
              "    }\n",
              "\n",
              "    .dataframe thead th {\n",
              "        text-align: right;\n",
              "    }\n",
              "</style>\n",
              "<table border=\"1\" class=\"dataframe\">\n",
              "  <thead>\n",
              "    <tr style=\"text-align: right;\">\n",
              "      <th></th>\n",
              "      <th>date</th>\n",
              "      <th>state</th>\n",
              "      <th>beds_icu_total</th>\n",
              "      <th>beds_icu_covid</th>\n",
              "      <th>vent</th>\n",
              "      <th>vent_port</th>\n",
              "      <th>icu_covid</th>\n",
              "      <th>icu_pui</th>\n",
              "      <th>icu_noncovid</th>\n",
              "      <th>vent_covid</th>\n",
              "      <th>vent_pui</th>\n",
              "      <th>vent_noncovid</th>\n",
              "    </tr>\n",
              "  </thead>\n",
              "  <tbody>\n",
              "    <tr>\n",
              "      <th>0</th>\n",
              "      <td>2020-03-24</td>\n",
              "      <td>Johor</td>\n",
              "      <td>32</td>\n",
              "      <td>10</td>\n",
              "      <td>11</td>\n",
              "      <td>2</td>\n",
              "      <td>0</td>\n",
              "      <td>0</td>\n",
              "      <td>1</td>\n",
              "      <td>0</td>\n",
              "      <td>0</td>\n",
              "      <td>0</td>\n",
              "    </tr>\n",
              "    <tr>\n",
              "      <th>1</th>\n",
              "      <td>2020-03-24</td>\n",
              "      <td>Kedah</td>\n",
              "      <td>35</td>\n",
              "      <td>16</td>\n",
              "      <td>34</td>\n",
              "      <td>0</td>\n",
              "      <td>2</td>\n",
              "      <td>1</td>\n",
              "      <td>12</td>\n",
              "      <td>1</td>\n",
              "      <td>1</td>\n",
              "      <td>0</td>\n",
              "    </tr>\n",
              "    <tr>\n",
              "      <th>2</th>\n",
              "      <td>2020-03-24</td>\n",
              "      <td>Kelantan</td>\n",
              "      <td>39</td>\n",
              "      <td>20</td>\n",
              "      <td>42</td>\n",
              "      <td>4</td>\n",
              "      <td>1</td>\n",
              "      <td>0</td>\n",
              "      <td>20</td>\n",
              "      <td>1</td>\n",
              "      <td>0</td>\n",
              "      <td>0</td>\n",
              "    </tr>\n",
              "    <tr>\n",
              "      <th>3</th>\n",
              "      <td>2020-03-24</td>\n",
              "      <td>Melaka</td>\n",
              "      <td>26</td>\n",
              "      <td>12</td>\n",
              "      <td>23</td>\n",
              "      <td>4</td>\n",
              "      <td>0</td>\n",
              "      <td>2</td>\n",
              "      <td>12</td>\n",
              "      <td>0</td>\n",
              "      <td>1</td>\n",
              "      <td>0</td>\n",
              "    </tr>\n",
              "    <tr>\n",
              "      <th>4</th>\n",
              "      <td>2020-03-24</td>\n",
              "      <td>Negeri Sembilan</td>\n",
              "      <td>18</td>\n",
              "      <td>10</td>\n",
              "      <td>14</td>\n",
              "      <td>9</td>\n",
              "      <td>0</td>\n",
              "      <td>0</td>\n",
              "      <td>8</td>\n",
              "      <td>0</td>\n",
              "      <td>0</td>\n",
              "      <td>0</td>\n",
              "    </tr>\n",
              "  </tbody>\n",
              "</table>\n",
              "</div>\n",
              "      <button class=\"colab-df-convert\" onclick=\"convertToInteractive('df-c97b09a1-458f-406e-8c99-657a0a593896')\"\n",
              "              title=\"Convert this dataframe to an interactive table.\"\n",
              "              style=\"display:none;\">\n",
              "        \n",
              "  <svg xmlns=\"http://www.w3.org/2000/svg\" height=\"24px\"viewBox=\"0 0 24 24\"\n",
              "       width=\"24px\">\n",
              "    <path d=\"M0 0h24v24H0V0z\" fill=\"none\"/>\n",
              "    <path d=\"M18.56 5.44l.94 2.06.94-2.06 2.06-.94-2.06-.94-.94-2.06-.94 2.06-2.06.94zm-11 1L8.5 8.5l.94-2.06 2.06-.94-2.06-.94L8.5 2.5l-.94 2.06-2.06.94zm10 10l.94 2.06.94-2.06 2.06-.94-2.06-.94-.94-2.06-.94 2.06-2.06.94z\"/><path d=\"M17.41 7.96l-1.37-1.37c-.4-.4-.92-.59-1.43-.59-.52 0-1.04.2-1.43.59L10.3 9.45l-7.72 7.72c-.78.78-.78 2.05 0 2.83L4 21.41c.39.39.9.59 1.41.59.51 0 1.02-.2 1.41-.59l7.78-7.78 2.81-2.81c.8-.78.8-2.07 0-2.86zM5.41 20L4 18.59l7.72-7.72 1.47 1.35L5.41 20z\"/>\n",
              "  </svg>\n",
              "      </button>\n",
              "      \n",
              "  <style>\n",
              "    .colab-df-container {\n",
              "      display:flex;\n",
              "      flex-wrap:wrap;\n",
              "      gap: 12px;\n",
              "    }\n",
              "\n",
              "    .colab-df-convert {\n",
              "      background-color: #E8F0FE;\n",
              "      border: none;\n",
              "      border-radius: 50%;\n",
              "      cursor: pointer;\n",
              "      display: none;\n",
              "      fill: #1967D2;\n",
              "      height: 32px;\n",
              "      padding: 0 0 0 0;\n",
              "      width: 32px;\n",
              "    }\n",
              "\n",
              "    .colab-df-convert:hover {\n",
              "      background-color: #E2EBFA;\n",
              "      box-shadow: 0px 1px 2px rgba(60, 64, 67, 0.3), 0px 1px 3px 1px rgba(60, 64, 67, 0.15);\n",
              "      fill: #174EA6;\n",
              "    }\n",
              "\n",
              "    [theme=dark] .colab-df-convert {\n",
              "      background-color: #3B4455;\n",
              "      fill: #D2E3FC;\n",
              "    }\n",
              "\n",
              "    [theme=dark] .colab-df-convert:hover {\n",
              "      background-color: #434B5C;\n",
              "      box-shadow: 0px 1px 3px 1px rgba(0, 0, 0, 0.15);\n",
              "      filter: drop-shadow(0px 1px 2px rgba(0, 0, 0, 0.3));\n",
              "      fill: #FFFFFF;\n",
              "    }\n",
              "  </style>\n",
              "\n",
              "      <script>\n",
              "        const buttonEl =\n",
              "          document.querySelector('#df-c97b09a1-458f-406e-8c99-657a0a593896 button.colab-df-convert');\n",
              "        buttonEl.style.display =\n",
              "          google.colab.kernel.accessAllowed ? 'block' : 'none';\n",
              "\n",
              "        async function convertToInteractive(key) {\n",
              "          const element = document.querySelector('#df-c97b09a1-458f-406e-8c99-657a0a593896');\n",
              "          const dataTable =\n",
              "            await google.colab.kernel.invokeFunction('convertToInteractive',\n",
              "                                                     [key], {});\n",
              "          if (!dataTable) return;\n",
              "\n",
              "          const docLinkHtml = 'Like what you see? Visit the ' +\n",
              "            '<a target=\"_blank\" href=https://colab.research.google.com/notebooks/data_table.ipynb>data table notebook</a>'\n",
              "            + ' to learn more about interactive tables.';\n",
              "          element.innerHTML = '';\n",
              "          dataTable['output_type'] = 'display_data';\n",
              "          await google.colab.output.renderOutput(dataTable, element);\n",
              "          const docLink = document.createElement('div');\n",
              "          docLink.innerHTML = docLinkHtml;\n",
              "          element.appendChild(docLink);\n",
              "        }\n",
              "      </script>\n",
              "    </div>\n",
              "  </div>\n",
              "  "
            ]
          },
          "metadata": {},
          "execution_count": 42
        }
      ]
    },
    {
      "cell_type": "code",
      "source": [
        "data.tail()"
      ],
      "metadata": {
        "colab": {
          "base_uri": "https://localhost:8080/",
          "height": 206
        },
        "id": "8sBDxcEc7V74",
        "outputId": "8b196a46-3505-451a-ba08-5f277981c059"
      },
      "execution_count": null,
      "outputs": [
        {
          "output_type": "execute_result",
          "data": {
            "text/plain": [
              "             date              state  beds_icu_total  beds_icu_covid  vent  \\\n",
              "15650  2022-12-21           Selangor             142              24   465   \n",
              "15651  2022-12-21         Terengganu              41               7    66   \n",
              "15652  2022-12-21  W.P. Kuala Lumpur              46               4    92   \n",
              "15653  2022-12-21        W.P. Labuan              12               7    22   \n",
              "15654  2022-12-21     W.P. Putrajaya              14               3    37   \n",
              "\n",
              "       vent_port  icu_covid  icu_pui  icu_noncovid  vent_covid  vent_pui  \\\n",
              "15650         14          3        0           111           1         0   \n",
              "15651         40          1        0            29           1         0   \n",
              "15652          0          3        0            28           2         0   \n",
              "15653         12          0        0             1           0         0   \n",
              "15654          0          0        0             9           0         0   \n",
              "\n",
              "       vent_noncovid  \n",
              "15650             75  \n",
              "15651             23  \n",
              "15652             21  \n",
              "15653              0  \n",
              "15654              6  "
            ],
            "text/html": [
              "\n",
              "  <div id=\"df-dae19814-bc56-4a30-b4f3-48a48fb87262\">\n",
              "    <div class=\"colab-df-container\">\n",
              "      <div>\n",
              "<style scoped>\n",
              "    .dataframe tbody tr th:only-of-type {\n",
              "        vertical-align: middle;\n",
              "    }\n",
              "\n",
              "    .dataframe tbody tr th {\n",
              "        vertical-align: top;\n",
              "    }\n",
              "\n",
              "    .dataframe thead th {\n",
              "        text-align: right;\n",
              "    }\n",
              "</style>\n",
              "<table border=\"1\" class=\"dataframe\">\n",
              "  <thead>\n",
              "    <tr style=\"text-align: right;\">\n",
              "      <th></th>\n",
              "      <th>date</th>\n",
              "      <th>state</th>\n",
              "      <th>beds_icu_total</th>\n",
              "      <th>beds_icu_covid</th>\n",
              "      <th>vent</th>\n",
              "      <th>vent_port</th>\n",
              "      <th>icu_covid</th>\n",
              "      <th>icu_pui</th>\n",
              "      <th>icu_noncovid</th>\n",
              "      <th>vent_covid</th>\n",
              "      <th>vent_pui</th>\n",
              "      <th>vent_noncovid</th>\n",
              "    </tr>\n",
              "  </thead>\n",
              "  <tbody>\n",
              "    <tr>\n",
              "      <th>15650</th>\n",
              "      <td>2022-12-21</td>\n",
              "      <td>Selangor</td>\n",
              "      <td>142</td>\n",
              "      <td>24</td>\n",
              "      <td>465</td>\n",
              "      <td>14</td>\n",
              "      <td>3</td>\n",
              "      <td>0</td>\n",
              "      <td>111</td>\n",
              "      <td>1</td>\n",
              "      <td>0</td>\n",
              "      <td>75</td>\n",
              "    </tr>\n",
              "    <tr>\n",
              "      <th>15651</th>\n",
              "      <td>2022-12-21</td>\n",
              "      <td>Terengganu</td>\n",
              "      <td>41</td>\n",
              "      <td>7</td>\n",
              "      <td>66</td>\n",
              "      <td>40</td>\n",
              "      <td>1</td>\n",
              "      <td>0</td>\n",
              "      <td>29</td>\n",
              "      <td>1</td>\n",
              "      <td>0</td>\n",
              "      <td>23</td>\n",
              "    </tr>\n",
              "    <tr>\n",
              "      <th>15652</th>\n",
              "      <td>2022-12-21</td>\n",
              "      <td>W.P. Kuala Lumpur</td>\n",
              "      <td>46</td>\n",
              "      <td>4</td>\n",
              "      <td>92</td>\n",
              "      <td>0</td>\n",
              "      <td>3</td>\n",
              "      <td>0</td>\n",
              "      <td>28</td>\n",
              "      <td>2</td>\n",
              "      <td>0</td>\n",
              "      <td>21</td>\n",
              "    </tr>\n",
              "    <tr>\n",
              "      <th>15653</th>\n",
              "      <td>2022-12-21</td>\n",
              "      <td>W.P. Labuan</td>\n",
              "      <td>12</td>\n",
              "      <td>7</td>\n",
              "      <td>22</td>\n",
              "      <td>12</td>\n",
              "      <td>0</td>\n",
              "      <td>0</td>\n",
              "      <td>1</td>\n",
              "      <td>0</td>\n",
              "      <td>0</td>\n",
              "      <td>0</td>\n",
              "    </tr>\n",
              "    <tr>\n",
              "      <th>15654</th>\n",
              "      <td>2022-12-21</td>\n",
              "      <td>W.P. Putrajaya</td>\n",
              "      <td>14</td>\n",
              "      <td>3</td>\n",
              "      <td>37</td>\n",
              "      <td>0</td>\n",
              "      <td>0</td>\n",
              "      <td>0</td>\n",
              "      <td>9</td>\n",
              "      <td>0</td>\n",
              "      <td>0</td>\n",
              "      <td>6</td>\n",
              "    </tr>\n",
              "  </tbody>\n",
              "</table>\n",
              "</div>\n",
              "      <button class=\"colab-df-convert\" onclick=\"convertToInteractive('df-dae19814-bc56-4a30-b4f3-48a48fb87262')\"\n",
              "              title=\"Convert this dataframe to an interactive table.\"\n",
              "              style=\"display:none;\">\n",
              "        \n",
              "  <svg xmlns=\"http://www.w3.org/2000/svg\" height=\"24px\"viewBox=\"0 0 24 24\"\n",
              "       width=\"24px\">\n",
              "    <path d=\"M0 0h24v24H0V0z\" fill=\"none\"/>\n",
              "    <path d=\"M18.56 5.44l.94 2.06.94-2.06 2.06-.94-2.06-.94-.94-2.06-.94 2.06-2.06.94zm-11 1L8.5 8.5l.94-2.06 2.06-.94-2.06-.94L8.5 2.5l-.94 2.06-2.06.94zm10 10l.94 2.06.94-2.06 2.06-.94-2.06-.94-.94-2.06-.94 2.06-2.06.94z\"/><path d=\"M17.41 7.96l-1.37-1.37c-.4-.4-.92-.59-1.43-.59-.52 0-1.04.2-1.43.59L10.3 9.45l-7.72 7.72c-.78.78-.78 2.05 0 2.83L4 21.41c.39.39.9.59 1.41.59.51 0 1.02-.2 1.41-.59l7.78-7.78 2.81-2.81c.8-.78.8-2.07 0-2.86zM5.41 20L4 18.59l7.72-7.72 1.47 1.35L5.41 20z\"/>\n",
              "  </svg>\n",
              "      </button>\n",
              "      \n",
              "  <style>\n",
              "    .colab-df-container {\n",
              "      display:flex;\n",
              "      flex-wrap:wrap;\n",
              "      gap: 12px;\n",
              "    }\n",
              "\n",
              "    .colab-df-convert {\n",
              "      background-color: #E8F0FE;\n",
              "      border: none;\n",
              "      border-radius: 50%;\n",
              "      cursor: pointer;\n",
              "      display: none;\n",
              "      fill: #1967D2;\n",
              "      height: 32px;\n",
              "      padding: 0 0 0 0;\n",
              "      width: 32px;\n",
              "    }\n",
              "\n",
              "    .colab-df-convert:hover {\n",
              "      background-color: #E2EBFA;\n",
              "      box-shadow: 0px 1px 2px rgba(60, 64, 67, 0.3), 0px 1px 3px 1px rgba(60, 64, 67, 0.15);\n",
              "      fill: #174EA6;\n",
              "    }\n",
              "\n",
              "    [theme=dark] .colab-df-convert {\n",
              "      background-color: #3B4455;\n",
              "      fill: #D2E3FC;\n",
              "    }\n",
              "\n",
              "    [theme=dark] .colab-df-convert:hover {\n",
              "      background-color: #434B5C;\n",
              "      box-shadow: 0px 1px 3px 1px rgba(0, 0, 0, 0.15);\n",
              "      filter: drop-shadow(0px 1px 2px rgba(0, 0, 0, 0.3));\n",
              "      fill: #FFFFFF;\n",
              "    }\n",
              "  </style>\n",
              "\n",
              "      <script>\n",
              "        const buttonEl =\n",
              "          document.querySelector('#df-dae19814-bc56-4a30-b4f3-48a48fb87262 button.colab-df-convert');\n",
              "        buttonEl.style.display =\n",
              "          google.colab.kernel.accessAllowed ? 'block' : 'none';\n",
              "\n",
              "        async function convertToInteractive(key) {\n",
              "          const element = document.querySelector('#df-dae19814-bc56-4a30-b4f3-48a48fb87262');\n",
              "          const dataTable =\n",
              "            await google.colab.kernel.invokeFunction('convertToInteractive',\n",
              "                                                     [key], {});\n",
              "          if (!dataTable) return;\n",
              "\n",
              "          const docLinkHtml = 'Like what you see? Visit the ' +\n",
              "            '<a target=\"_blank\" href=https://colab.research.google.com/notebooks/data_table.ipynb>data table notebook</a>'\n",
              "            + ' to learn more about interactive tables.';\n",
              "          element.innerHTML = '';\n",
              "          dataTable['output_type'] = 'display_data';\n",
              "          await google.colab.output.renderOutput(dataTable, element);\n",
              "          const docLink = document.createElement('div');\n",
              "          docLink.innerHTML = docLinkHtml;\n",
              "          element.appendChild(docLink);\n",
              "        }\n",
              "      </script>\n",
              "    </div>\n",
              "  </div>\n",
              "  "
            ]
          },
          "metadata": {},
          "execution_count": 43
        }
      ]
    },
    {
      "cell_type": "markdown",
      "source": [
        "Get the shape or number of columns and rows of the data."
      ],
      "metadata": {
        "id": "iVio23N7uwt3"
      }
    },
    {
      "cell_type": "code",
      "execution_count": null,
      "metadata": {
        "id": "nqciugWLVJJ4",
        "colab": {
          "base_uri": "https://localhost:8080/"
        },
        "outputId": "3d4701f9-4f93-4bf9-8d0a-c7846e5e407f"
      },
      "outputs": [
        {
          "output_type": "execute_result",
          "data": {
            "text/plain": [
              "(15655, 12)"
            ]
          },
          "metadata": {},
          "execution_count": 44
        }
      ],
      "source": [
        "data.shape"
      ]
    },
    {
      "cell_type": "markdown",
      "source": [
        "Now, we see if there are any duplicated rows."
      ],
      "metadata": {
        "id": "sN247-zivjqW"
      }
    },
    {
      "cell_type": "code",
      "source": [
        "duplicate_rows_data = data[data.duplicated()]\n",
        "print(\"Number of duplicate rows: \", duplicate_rows_data.shape)"
      ],
      "metadata": {
        "colab": {
          "base_uri": "https://localhost:8080/"
        },
        "id": "pu2JbsuuuwN-",
        "outputId": "526b7d26-a381-4691-c427-c4e85ddd0240"
      },
      "execution_count": null,
      "outputs": [
        {
          "output_type": "stream",
          "name": "stdout",
          "text": [
            "Number of duplicate rows:  (0, 12)\n"
          ]
        }
      ]
    },
    {
      "cell_type": "code",
      "execution_count": null,
      "metadata": {
        "id": "df5R-2s3VJJ5",
        "colab": {
          "base_uri": "https://localhost:8080/"
        },
        "outputId": "4128d9e0-6663-46c8-df38-7966b05f1e50"
      },
      "outputs": [
        {
          "output_type": "execute_result",
          "data": {
            "text/plain": [
              "date              15655\n",
              "state             15655\n",
              "beds_icu_total    15655\n",
              "beds_icu_covid    15655\n",
              "vent              15655\n",
              "vent_port         15655\n",
              "icu_covid         15655\n",
              "icu_pui           15655\n",
              "icu_noncovid      15655\n",
              "vent_covid        15655\n",
              "vent_pui          15655\n",
              "vent_noncovid     15655\n",
              "dtype: int64"
            ]
          },
          "metadata": {},
          "execution_count": 46
        }
      ],
      "source": [
        "data.count()"
      ]
    },
    {
      "cell_type": "code",
      "execution_count": null,
      "metadata": {
        "id": "t26lvNVLVJJ5"
      },
      "outputs": [],
      "source": [
        "data = data.drop_duplicates()"
      ]
    },
    {
      "cell_type": "code",
      "execution_count": null,
      "metadata": {
        "id": "KribcC_XVJJ5",
        "colab": {
          "base_uri": "https://localhost:8080/"
        },
        "outputId": "89dff255-6bfe-4c19-955d-7a75d83d19c7"
      },
      "outputs": [
        {
          "output_type": "execute_result",
          "data": {
            "text/plain": [
              "date              15655\n",
              "state             15655\n",
              "beds_icu_total    15655\n",
              "beds_icu_covid    15655\n",
              "vent              15655\n",
              "vent_port         15655\n",
              "icu_covid         15655\n",
              "icu_pui           15655\n",
              "icu_noncovid      15655\n",
              "vent_covid        15655\n",
              "vent_pui          15655\n",
              "vent_noncovid     15655\n",
              "dtype: int64"
            ]
          },
          "metadata": {},
          "execution_count": 48
        }
      ],
      "source": [
        "data.count()"
      ]
    },
    {
      "cell_type": "markdown",
      "source": [
        "As we can see, there are no duplicated data."
      ],
      "metadata": {
        "id": "zrvmrWEbvq_l"
      }
    },
    {
      "cell_type": "markdown",
      "source": [
        "Since the date are in object/string type, we now convert it into datetime type."
      ],
      "metadata": {
        "id": "u52luVBewKGN"
      }
    },
    {
      "cell_type": "code",
      "execution_count": null,
      "metadata": {
        "id": "7mUpY22aVJJ6"
      },
      "outputs": [],
      "source": [
        "data['date']= pd.to_datetime(data['date'])"
      ]
    },
    {
      "cell_type": "code",
      "execution_count": null,
      "metadata": {
        "id": "h46ilQakVJJ6",
        "colab": {
          "base_uri": "https://localhost:8080/"
        },
        "outputId": "668cc204-8b4c-4b1b-d7ce-7bf9ebcefbab"
      },
      "outputs": [
        {
          "output_type": "execute_result",
          "data": {
            "text/plain": [
              "date              datetime64[ns]\n",
              "state                     object\n",
              "beds_icu_total             int64\n",
              "beds_icu_covid             int64\n",
              "vent                       int64\n",
              "vent_port                  int64\n",
              "icu_covid                  int64\n",
              "icu_pui                    int64\n",
              "icu_noncovid               int64\n",
              "vent_covid                 int64\n",
              "vent_pui                   int64\n",
              "vent_noncovid              int64\n",
              "dtype: object"
            ]
          },
          "metadata": {},
          "execution_count": 50
        }
      ],
      "source": [
        "data.dtypes"
      ]
    },
    {
      "cell_type": "markdown",
      "source": [
        "Now, we identify if there are any rows with missing values in date and state columns. If so, we drop it."
      ],
      "metadata": {
        "id": "dowDKUGQx-LT"
      }
    },
    {
      "cell_type": "code",
      "source": [
        "data = data.dropna(subset=['date', 'state'])"
      ],
      "metadata": {
        "id": "IRunpMt1yrG2"
      },
      "execution_count": null,
      "outputs": []
    },
    {
      "cell_type": "code",
      "source": [
        "data.count()"
      ],
      "metadata": {
        "colab": {
          "base_uri": "https://localhost:8080/"
        },
        "id": "ppb4l6ub7o9r",
        "outputId": "4168973e-fcef-4346-b7cd-821a0400140c"
      },
      "execution_count": null,
      "outputs": [
        {
          "output_type": "execute_result",
          "data": {
            "text/plain": [
              "date              15655\n",
              "state             15655\n",
              "beds_icu_total    15655\n",
              "beds_icu_covid    15655\n",
              "vent              15655\n",
              "vent_port         15655\n",
              "icu_covid         15655\n",
              "icu_pui           15655\n",
              "icu_noncovid      15655\n",
              "vent_covid        15655\n",
              "vent_pui          15655\n",
              "vent_noncovid     15655\n",
              "dtype: int64"
            ]
          },
          "metadata": {},
          "execution_count": 52
        }
      ]
    },
    {
      "cell_type": "markdown",
      "source": [
        "As we can see, there are no missing values in date and state columns."
      ],
      "metadata": {
        "id": "SbP7DYMj7r4s"
      }
    },
    {
      "cell_type": "markdown",
      "source": [
        "Now, we identify the unique value from date and state columns."
      ],
      "metadata": {
        "id": "uZ5KQOlT8hfY"
      }
    },
    {
      "cell_type": "code",
      "source": [
        "data['date'].unique()"
      ],
      "metadata": {
        "colab": {
          "base_uri": "https://localhost:8080/"
        },
        "id": "8QKvkJNd8g2a",
        "outputId": "6eac113d-2640-47b1-c53d-df6a261b6a6f"
      },
      "execution_count": null,
      "outputs": [
        {
          "output_type": "execute_result",
          "data": {
            "text/plain": [
              "array(['2020-03-24T00:00:00.000000000', '2020-03-25T00:00:00.000000000',\n",
              "       '2020-03-26T00:00:00.000000000', ...,\n",
              "       '2022-12-19T00:00:00.000000000', '2022-12-20T00:00:00.000000000',\n",
              "       '2022-12-21T00:00:00.000000000'], dtype='datetime64[ns]')"
            ]
          },
          "metadata": {},
          "execution_count": 53
        }
      ]
    },
    {
      "cell_type": "code",
      "source": [
        "data['state'].unique()"
      ],
      "metadata": {
        "colab": {
          "base_uri": "https://localhost:8080/"
        },
        "id": "Y_1Mx_Rf9C5i",
        "outputId": "242512d2-579a-40b4-aba1-9a03a63beab3"
      },
      "execution_count": null,
      "outputs": [
        {
          "output_type": "execute_result",
          "data": {
            "text/plain": [
              "array(['Johor', 'Kedah', 'Kelantan', 'Melaka', 'Negeri Sembilan',\n",
              "       'Pahang', 'Perak', 'Perlis', 'Pulau Pinang', 'Sabah', 'Sarawak',\n",
              "       'Selangor', 'Terengganu', 'W.P. Kuala Lumpur', 'W.P. Labuan',\n",
              "       'W.P. Putrajaya'], dtype=object)"
            ]
          },
          "metadata": {},
          "execution_count": 54
        }
      ]
    },
    {
      "cell_type": "markdown",
      "metadata": {
        "id": "_0m5LkbVVJJ6"
      },
      "source": [
        "## Exploratory Analysis and Visualization\n",
        "\n",
        "\n"
      ]
    },
    {
      "cell_type": "markdown",
      "metadata": {
        "id": "RuPTpsGWVJJ7"
      },
      "source": [
        "Let's begin by importing`matplotlib.pyplot` and `seaborn`."
      ]
    },
    {
      "cell_type": "code",
      "execution_count": null,
      "metadata": {
        "id": "zOTtwqAMVJJ7"
      },
      "outputs": [],
      "source": [
        "import seaborn as sns\n",
        "import matplotlib\n",
        "import matplotlib.pyplot as plt\n",
        "%matplotlib inline\n",
        "\n",
        "sns.set_style('darkgrid')\n",
        "matplotlib.rcParams['font.size'] = 14\n",
        "matplotlib.rcParams['figure.figsize'] = (9, 5)\n",
        "matplotlib.rcParams['figure.facecolor'] = '#00000000'"
      ]
    },
    {
      "cell_type": "markdown",
      "metadata": {
        "id": "Fv4NPHasVJJ7"
      },
      "source": [
        "**Descriptive Statistics**"
      ]
    },
    {
      "cell_type": "code",
      "execution_count": null,
      "metadata": {
        "id": "NKN6RIplVJJ7",
        "colab": {
          "base_uri": "https://localhost:8080/",
          "height": 300
        },
        "outputId": "e73b642c-5933-4569-a286-136b85502704"
      },
      "outputs": [
        {
          "output_type": "execute_result",
          "data": {
            "text/plain": [
              "       beds_icu_total  beds_icu_covid          vent     vent_port  \\\n",
              "count    15655.000000    15655.000000  15655.000000  15655.000000   \n",
              "mean        84.886362       45.149026    110.632322     30.391696   \n",
              "std         61.245274       46.151837     92.150185     30.094114   \n",
              "min          5.000000        0.000000      5.000000      0.000000   \n",
              "25%         39.000000       12.000000     47.000000      8.000000   \n",
              "50%         73.000000       30.000000     92.000000     22.000000   \n",
              "75%        120.000000       65.000000    161.000000     44.000000   \n",
              "max        455.000000      380.000000    534.000000    196.000000   \n",
              "\n",
              "          icu_covid       icu_pui  icu_noncovid    vent_covid      vent_pui  \\\n",
              "count  15655.000000  15655.000000  15655.000000  15655.000000  15655.000000   \n",
              "mean      20.380006      0.369467     33.680166     11.090323      0.175088   \n",
              "std       42.013500      3.125081     24.498955     24.564109      0.813875   \n",
              "min        0.000000      0.000000      0.000000      0.000000      0.000000   \n",
              "25%        1.000000      0.000000     13.000000      0.000000      0.000000   \n",
              "50%        5.000000      0.000000     30.000000      3.000000      0.000000   \n",
              "75%       21.000000      0.000000     48.000000     11.000000      0.000000   \n",
              "max      532.000000     80.000000    135.000000    294.000000     41.000000   \n",
              "\n",
              "       vent_noncovid  \n",
              "count   15655.000000  \n",
              "mean       14.952411  \n",
              "std        19.706301  \n",
              "min         0.000000  \n",
              "25%         0.000000  \n",
              "50%         3.000000  \n",
              "75%        26.000000  \n",
              "max       139.000000  "
            ],
            "text/html": [
              "\n",
              "  <div id=\"df-ce444355-bc54-4f48-acc6-ac7990d45883\">\n",
              "    <div class=\"colab-df-container\">\n",
              "      <div>\n",
              "<style scoped>\n",
              "    .dataframe tbody tr th:only-of-type {\n",
              "        vertical-align: middle;\n",
              "    }\n",
              "\n",
              "    .dataframe tbody tr th {\n",
              "        vertical-align: top;\n",
              "    }\n",
              "\n",
              "    .dataframe thead th {\n",
              "        text-align: right;\n",
              "    }\n",
              "</style>\n",
              "<table border=\"1\" class=\"dataframe\">\n",
              "  <thead>\n",
              "    <tr style=\"text-align: right;\">\n",
              "      <th></th>\n",
              "      <th>beds_icu_total</th>\n",
              "      <th>beds_icu_covid</th>\n",
              "      <th>vent</th>\n",
              "      <th>vent_port</th>\n",
              "      <th>icu_covid</th>\n",
              "      <th>icu_pui</th>\n",
              "      <th>icu_noncovid</th>\n",
              "      <th>vent_covid</th>\n",
              "      <th>vent_pui</th>\n",
              "      <th>vent_noncovid</th>\n",
              "    </tr>\n",
              "  </thead>\n",
              "  <tbody>\n",
              "    <tr>\n",
              "      <th>count</th>\n",
              "      <td>15655.000000</td>\n",
              "      <td>15655.000000</td>\n",
              "      <td>15655.000000</td>\n",
              "      <td>15655.000000</td>\n",
              "      <td>15655.000000</td>\n",
              "      <td>15655.000000</td>\n",
              "      <td>15655.000000</td>\n",
              "      <td>15655.000000</td>\n",
              "      <td>15655.000000</td>\n",
              "      <td>15655.000000</td>\n",
              "    </tr>\n",
              "    <tr>\n",
              "      <th>mean</th>\n",
              "      <td>84.886362</td>\n",
              "      <td>45.149026</td>\n",
              "      <td>110.632322</td>\n",
              "      <td>30.391696</td>\n",
              "      <td>20.380006</td>\n",
              "      <td>0.369467</td>\n",
              "      <td>33.680166</td>\n",
              "      <td>11.090323</td>\n",
              "      <td>0.175088</td>\n",
              "      <td>14.952411</td>\n",
              "    </tr>\n",
              "    <tr>\n",
              "      <th>std</th>\n",
              "      <td>61.245274</td>\n",
              "      <td>46.151837</td>\n",
              "      <td>92.150185</td>\n",
              "      <td>30.094114</td>\n",
              "      <td>42.013500</td>\n",
              "      <td>3.125081</td>\n",
              "      <td>24.498955</td>\n",
              "      <td>24.564109</td>\n",
              "      <td>0.813875</td>\n",
              "      <td>19.706301</td>\n",
              "    </tr>\n",
              "    <tr>\n",
              "      <th>min</th>\n",
              "      <td>5.000000</td>\n",
              "      <td>0.000000</td>\n",
              "      <td>5.000000</td>\n",
              "      <td>0.000000</td>\n",
              "      <td>0.000000</td>\n",
              "      <td>0.000000</td>\n",
              "      <td>0.000000</td>\n",
              "      <td>0.000000</td>\n",
              "      <td>0.000000</td>\n",
              "      <td>0.000000</td>\n",
              "    </tr>\n",
              "    <tr>\n",
              "      <th>25%</th>\n",
              "      <td>39.000000</td>\n",
              "      <td>12.000000</td>\n",
              "      <td>47.000000</td>\n",
              "      <td>8.000000</td>\n",
              "      <td>1.000000</td>\n",
              "      <td>0.000000</td>\n",
              "      <td>13.000000</td>\n",
              "      <td>0.000000</td>\n",
              "      <td>0.000000</td>\n",
              "      <td>0.000000</td>\n",
              "    </tr>\n",
              "    <tr>\n",
              "      <th>50%</th>\n",
              "      <td>73.000000</td>\n",
              "      <td>30.000000</td>\n",
              "      <td>92.000000</td>\n",
              "      <td>22.000000</td>\n",
              "      <td>5.000000</td>\n",
              "      <td>0.000000</td>\n",
              "      <td>30.000000</td>\n",
              "      <td>3.000000</td>\n",
              "      <td>0.000000</td>\n",
              "      <td>3.000000</td>\n",
              "    </tr>\n",
              "    <tr>\n",
              "      <th>75%</th>\n",
              "      <td>120.000000</td>\n",
              "      <td>65.000000</td>\n",
              "      <td>161.000000</td>\n",
              "      <td>44.000000</td>\n",
              "      <td>21.000000</td>\n",
              "      <td>0.000000</td>\n",
              "      <td>48.000000</td>\n",
              "      <td>11.000000</td>\n",
              "      <td>0.000000</td>\n",
              "      <td>26.000000</td>\n",
              "    </tr>\n",
              "    <tr>\n",
              "      <th>max</th>\n",
              "      <td>455.000000</td>\n",
              "      <td>380.000000</td>\n",
              "      <td>534.000000</td>\n",
              "      <td>196.000000</td>\n",
              "      <td>532.000000</td>\n",
              "      <td>80.000000</td>\n",
              "      <td>135.000000</td>\n",
              "      <td>294.000000</td>\n",
              "      <td>41.000000</td>\n",
              "      <td>139.000000</td>\n",
              "    </tr>\n",
              "  </tbody>\n",
              "</table>\n",
              "</div>\n",
              "      <button class=\"colab-df-convert\" onclick=\"convertToInteractive('df-ce444355-bc54-4f48-acc6-ac7990d45883')\"\n",
              "              title=\"Convert this dataframe to an interactive table.\"\n",
              "              style=\"display:none;\">\n",
              "        \n",
              "  <svg xmlns=\"http://www.w3.org/2000/svg\" height=\"24px\"viewBox=\"0 0 24 24\"\n",
              "       width=\"24px\">\n",
              "    <path d=\"M0 0h24v24H0V0z\" fill=\"none\"/>\n",
              "    <path d=\"M18.56 5.44l.94 2.06.94-2.06 2.06-.94-2.06-.94-.94-2.06-.94 2.06-2.06.94zm-11 1L8.5 8.5l.94-2.06 2.06-.94-2.06-.94L8.5 2.5l-.94 2.06-2.06.94zm10 10l.94 2.06.94-2.06 2.06-.94-2.06-.94-.94-2.06-.94 2.06-2.06.94z\"/><path d=\"M17.41 7.96l-1.37-1.37c-.4-.4-.92-.59-1.43-.59-.52 0-1.04.2-1.43.59L10.3 9.45l-7.72 7.72c-.78.78-.78 2.05 0 2.83L4 21.41c.39.39.9.59 1.41.59.51 0 1.02-.2 1.41-.59l7.78-7.78 2.81-2.81c.8-.78.8-2.07 0-2.86zM5.41 20L4 18.59l7.72-7.72 1.47 1.35L5.41 20z\"/>\n",
              "  </svg>\n",
              "      </button>\n",
              "      \n",
              "  <style>\n",
              "    .colab-df-container {\n",
              "      display:flex;\n",
              "      flex-wrap:wrap;\n",
              "      gap: 12px;\n",
              "    }\n",
              "\n",
              "    .colab-df-convert {\n",
              "      background-color: #E8F0FE;\n",
              "      border: none;\n",
              "      border-radius: 50%;\n",
              "      cursor: pointer;\n",
              "      display: none;\n",
              "      fill: #1967D2;\n",
              "      height: 32px;\n",
              "      padding: 0 0 0 0;\n",
              "      width: 32px;\n",
              "    }\n",
              "\n",
              "    .colab-df-convert:hover {\n",
              "      background-color: #E2EBFA;\n",
              "      box-shadow: 0px 1px 2px rgba(60, 64, 67, 0.3), 0px 1px 3px 1px rgba(60, 64, 67, 0.15);\n",
              "      fill: #174EA6;\n",
              "    }\n",
              "\n",
              "    [theme=dark] .colab-df-convert {\n",
              "      background-color: #3B4455;\n",
              "      fill: #D2E3FC;\n",
              "    }\n",
              "\n",
              "    [theme=dark] .colab-df-convert:hover {\n",
              "      background-color: #434B5C;\n",
              "      box-shadow: 0px 1px 3px 1px rgba(0, 0, 0, 0.15);\n",
              "      filter: drop-shadow(0px 1px 2px rgba(0, 0, 0, 0.3));\n",
              "      fill: #FFFFFF;\n",
              "    }\n",
              "  </style>\n",
              "\n",
              "      <script>\n",
              "        const buttonEl =\n",
              "          document.querySelector('#df-ce444355-bc54-4f48-acc6-ac7990d45883 button.colab-df-convert');\n",
              "        buttonEl.style.display =\n",
              "          google.colab.kernel.accessAllowed ? 'block' : 'none';\n",
              "\n",
              "        async function convertToInteractive(key) {\n",
              "          const element = document.querySelector('#df-ce444355-bc54-4f48-acc6-ac7990d45883');\n",
              "          const dataTable =\n",
              "            await google.colab.kernel.invokeFunction('convertToInteractive',\n",
              "                                                     [key], {});\n",
              "          if (!dataTable) return;\n",
              "\n",
              "          const docLinkHtml = 'Like what you see? Visit the ' +\n",
              "            '<a target=\"_blank\" href=https://colab.research.google.com/notebooks/data_table.ipynb>data table notebook</a>'\n",
              "            + ' to learn more about interactive tables.';\n",
              "          element.innerHTML = '';\n",
              "          dataTable['output_type'] = 'display_data';\n",
              "          await google.colab.output.renderOutput(dataTable, element);\n",
              "          const docLink = document.createElement('div');\n",
              "          docLink.innerHTML = docLinkHtml;\n",
              "          element.appendChild(docLink);\n",
              "        }\n",
              "      </script>\n",
              "    </div>\n",
              "  </div>\n",
              "  "
            ]
          },
          "metadata": {},
          "execution_count": 56
        }
      ],
      "source": [
        "data.describe()"
      ]
    },
    {
      "cell_type": "markdown",
      "source": [
        "Based on the descriptive statistics above, there are a total of 15655 records for each numerical fields. The **mean** value of the total number of ventilator available (vent) recorded the highest followed by the total amount of icu's bed available (beds_icu_total). Next, the data are more spread out since the value of **standard deviation** are high. Moreover, beds_icu_total and vent are always available considering the **minimum** value of 5. Lastly, the **maximum** amount of covid patient who stay in the icu in a particular date in 532."
      ],
      "metadata": {
        "id": "92xrh2W3PaAl"
      }
    },
    {
      "cell_type": "markdown",
      "source": [
        "**Histogram**"
      ],
      "metadata": {
        "id": "O_BRDiz4StyO"
      }
    },
    {
      "cell_type": "code",
      "execution_count": null,
      "metadata": {
        "id": "-Scf_lKnVJJ7",
        "colab": {
          "base_uri": "https://localhost:8080/",
          "height": 887
        },
        "outputId": "8487f3b0-b28f-4392-d347-23877e5e5da2"
      },
      "outputs": [
        {
          "output_type": "display_data",
          "data": {
            "text/plain": [
              "<Figure size 1440x1080 with 12 Axes>"
            ],
            "image/png": "[encoded data removed]"
          },
          "metadata": {
            "needs_background": "light"
          }
        }
      ],
      "source": [
        "data.hist(bins=50, figsize=(20,15))\n",
        "plt.show()"
      ]
    },
    {
      "cell_type": "markdown",
      "source": [
        "From above histograms, we can see that there are a record where the total number of beds in the icu (beds_icu_total) reached 400. There are also some records shows that the amount of icu beds dedicated for covid patients (beds_icu_covid) reached 240. Next, if we combine the number of ventilator (vent) and portable ventilator (vent_port) there are almost 700 of it available in certain records.\n",
        "\n",
        "Moreover, the amount of covid patients who stays in the icu (icu_covid) and requires ventilator (vent_covid) reached 120 and 70 respectively. However, person under investigation (x_pui) does not depend much on icu and ventilators.After that, we can see that majority of non-covid patients used more beds and ventilators rather than covid patients.\n",
        "\n",
        "Generally, we get to see that the above utilities available were actually enough for all covid, non-covid and person under investigation. However, there might be some day and state where the total amount needed are more than the amount of available."
      ],
      "metadata": {
        "id": "f5ceS0REwk1S"
      }
    },
    {
      "cell_type": "markdown",
      "metadata": {
        "id": "Dn_AW-5uVJJ7"
      },
      "source": [
        "**Boxplot**"
      ]
    },
    {
      "cell_type": "code",
      "execution_count": null,
      "metadata": {
        "id": "c7fugjWzVJJ7",
        "colab": {
          "base_uri": "https://localhost:8080/",
          "height": 359
        },
        "outputId": "11784da1-c73b-40db-bb7a-9a239f562059"
      },
      "outputs": [
        {
          "output_type": "execute_result",
          "data": {
            "text/plain": [
              "<matplotlib.axes._subplots.AxesSubplot at 0x7f6576e0d880>"
            ]
          },
          "metadata": {},
          "execution_count": 58
        },
        {
          "output_type": "display_data",
          "data": {
            "text/plain": [
              "<Figure size 648x360 with 1 Axes>"
            ],
            "image/png": "[encoded data removed]"
          },
          "metadata": {
            "needs_background": "light"
          }
        }
      ],
      "source": [
        "sns.boxplot(x=data['icu_covid'])"
      ]
    },
    {
      "cell_type": "markdown",
      "source": [
        "There are lots of outlier show, as the number of covid patient in the icu are varied. We can conclude that most of the covid patient who stays in the icu were not that much considering the peak and non-peak season of covid-19."
      ],
      "metadata": {
        "id": "6u1dZK7bYJR5"
      }
    },
    {
      "cell_type": "code",
      "execution_count": null,
      "metadata": {
        "colab": {
          "base_uri": "https://localhost:8080/",
          "height": 359
        },
        "outputId": "b7a13a61-0d85-47f9-bf47-758375c4e076",
        "id": "ky7PWAc307ev"
      },
      "outputs": [
        {
          "output_type": "execute_result",
          "data": {
            "text/plain": [
              "<matplotlib.axes._subplots.AxesSubplot at 0x7f657b507730>"
            ]
          },
          "metadata": {},
          "execution_count": 59
        },
        {
          "output_type": "display_data",
          "data": {
            "text/plain": [
              "<Figure size 648x360 with 1 Axes>"
            ],
            "image/png": "[encoded data removed]"
          },
          "metadata": {
            "needs_background": "light"
          }
        }
      ],
      "source": [
        "sns.boxplot(x=data['vent_covid'])"
      ]
    },
    {
      "cell_type": "markdown",
      "source": [
        "Same goes to the amount of covid patient who use ventilator. The number are varied hence, lots of outliers."
      ],
      "metadata": {
        "id": "0Rm0Yc5r1MPz"
      }
    },
    {
      "cell_type": "markdown",
      "metadata": {
        "id": "rN1bUu8RVJJ7"
      },
      "source": [
        "**Heatmap** "
      ]
    },
    {
      "cell_type": "code",
      "execution_count": null,
      "metadata": {
        "id": "kMrm6CiAVJJ8",
        "colab": {
          "base_uri": "https://localhost:8080/",
          "height": 767
        },
        "outputId": "eb17f759-7d14-42c4-9ac0-0fa39b160f90"
      },
      "outputs": [
        {
          "output_type": "execute_result",
          "data": {
            "text/plain": [
              "                beds_icu_total  beds_icu_covid      vent  vent_port  \\\n",
              "beds_icu_total        1.000000        0.866520  0.756526   0.557351   \n",
              "beds_icu_covid        0.866520        1.000000  0.523890   0.517336   \n",
              "vent                  0.756526        0.523890  1.000000   0.236281   \n",
              "vent_port             0.557351        0.517336  0.236281   1.000000   \n",
              "icu_covid             0.706782        0.801719  0.369157   0.556849   \n",
              "icu_pui               0.352768        0.415003  0.209039   0.304705   \n",
              "icu_noncovid          0.633814        0.275825  0.749397   0.260139   \n",
              "vent_covid            0.672743        0.753607  0.370120   0.551177   \n",
              "vent_pui              0.246536        0.293210  0.084821   0.298532   \n",
              "vent_noncovid         0.495218        0.215005  0.660859   0.099029   \n",
              "\n",
              "                icu_covid   icu_pui  icu_noncovid  vent_covid  vent_pui  \\\n",
              "beds_icu_total   0.706782  0.352768      0.633814    0.672743  0.246536   \n",
              "beds_icu_covid   0.801719  0.415003      0.275825    0.753607  0.293210   \n",
              "vent             0.369157  0.209039      0.749397    0.370120  0.084821   \n",
              "vent_port        0.556849  0.304705      0.260139    0.551177  0.298532   \n",
              "icu_covid        1.000000  0.496913      0.077511    0.966285  0.352052   \n",
              "icu_pui          0.496913  1.000000      0.006380    0.498856  0.392173   \n",
              "icu_noncovid     0.077511  0.006380      1.000000    0.079276 -0.034997   \n",
              "vent_covid       0.966285  0.498856      0.079276    1.000000  0.320407   \n",
              "vent_pui         0.352052  0.392173     -0.034997    0.320407  1.000000   \n",
              "vent_noncovid    0.067504  0.010719      0.754008    0.074672 -0.112590   \n",
              "\n",
              "                vent_noncovid  \n",
              "beds_icu_total       0.495218  \n",
              "beds_icu_covid       0.215005  \n",
              "vent                 0.660859  \n",
              "vent_port            0.099029  \n",
              "icu_covid            0.067504  \n",
              "icu_pui              0.010719  \n",
              "icu_noncovid         0.754008  \n",
              "vent_covid           0.074672  \n",
              "vent_pui            -0.112590  \n",
              "vent_noncovid        1.000000  "
            ],
            "text/html": [
              "\n",
              "  <div id=\"df-1eb5d588-c043-462a-8a67-7530c8e4a054\">\n",
              "    <div class=\"colab-df-container\">\n",
              "      <div>\n",
              "<style scoped>\n",
              "    .dataframe tbody tr th:only-of-type {\n",
              "        vertical-align: middle;\n",
              "    }\n",
              "\n",
              "    .dataframe tbody tr th {\n",
              "        vertical-align: top;\n",
              "    }\n",
              "\n",
              "    .dataframe thead th {\n",
              "        text-align: right;\n",
              "    }\n",
              "</style>\n",
              "<table border=\"1\" class=\"dataframe\">\n",
              "  <thead>\n",
              "    <tr style=\"text-align: right;\">\n",
              "      <th></th>\n",
              "      <th>beds_icu_total</th>\n",
              "      <th>beds_icu_covid</th>\n",
              "      <th>vent</th>\n",
              "      <th>vent_port</th>\n",
              "      <th>icu_covid</th>\n",
              "      <th>icu_pui</th>\n",
              "      <th>icu_noncovid</th>\n",
              "      <th>vent_covid</th>\n",
              "      <th>vent_pui</th>\n",
              "      <th>vent_noncovid</th>\n",
              "    </tr>\n",
              "  </thead>\n",
              "  <tbody>\n",
              "    <tr>\n",
              "      <th>beds_icu_total</th>\n",
              "      <td>1.000000</td>\n",
              "      <td>0.866520</td>\n",
              "      <td>0.756526</td>\n",
              "      <td>0.557351</td>\n",
              "      <td>0.706782</td>\n",
              "      <td>0.352768</td>\n",
              "      <td>0.633814</td>\n",
              "      <td>0.672743</td>\n",
              "      <td>0.246536</td>\n",
              "      <td>0.495218</td>\n",
              "    </tr>\n",
              "    <tr>\n",
              "      <th>beds_icu_covid</th>\n",
              "      <td>0.866520</td>\n",
              "      <td>1.000000</td>\n",
              "      <td>0.523890</td>\n",
              "      <td>0.517336</td>\n",
              "      <td>0.801719</td>\n",
              "      <td>0.415003</td>\n",
              "      <td>0.275825</td>\n",
              "      <td>0.753607</td>\n",
              "      <td>0.293210</td>\n",
              "      <td>0.215005</td>\n",
              "    </tr>\n",
              "    <tr>\n",
              "      <th>vent</th>\n",
              "      <td>0.756526</td>\n",
              "      <td>0.523890</td>\n",
              "      <td>1.000000</td>\n",
              "      <td>0.236281</td>\n",
              "      <td>0.369157</td>\n",
              "      <td>0.209039</td>\n",
              "      <td>0.749397</td>\n",
              "      <td>0.370120</td>\n",
              "      <td>0.084821</td>\n",
              "      <td>0.660859</td>\n",
              "    </tr>\n",
              "    <tr>\n",
              "      <th>vent_port</th>\n",
              "      <td>0.557351</td>\n",
              "      <td>0.517336</td>\n",
              "      <td>0.236281</td>\n",
              "      <td>1.000000</td>\n",
              "      <td>0.556849</td>\n",
              "      <td>0.304705</td>\n",
              "      <td>0.260139</td>\n",
              "      <td>0.551177</td>\n",
              "      <td>0.298532</td>\n",
              "      <td>0.099029</td>\n",
              "    </tr>\n",
              "    <tr>\n",
              "      <th>icu_covid</th>\n",
              "      <td>0.706782</td>\n",
              "      <td>0.801719</td>\n",
              "      <td>0.369157</td>\n",
              "      <td>0.556849</td>\n",
              "      <td>1.000000</td>\n",
              "      <td>0.496913</td>\n",
              "      <td>0.077511</td>\n",
              "      <td>0.966285</td>\n",
              "      <td>0.352052</td>\n",
              "      <td>0.067504</td>\n",
              "    </tr>\n",
              "    <tr>\n",
              "      <th>icu_pui</th>\n",
              "      <td>0.352768</td>\n",
              "      <td>0.415003</td>\n",
              "      <td>0.209039</td>\n",
              "      <td>0.304705</td>\n",
              "      <td>0.496913</td>\n",
              "      <td>1.000000</td>\n",
              "      <td>0.006380</td>\n",
              "      <td>0.498856</td>\n",
              "      <td>0.392173</td>\n",
              "      <td>0.010719</td>\n",
              "    </tr>\n",
              "    <tr>\n",
              "      <th>icu_noncovid</th>\n",
              "      <td>0.633814</td>\n",
              "      <td>0.275825</td>\n",
              "      <td>0.749397</td>\n",
              "      <td>0.260139</td>\n",
              "      <td>0.077511</td>\n",
              "      <td>0.006380</td>\n",
              "      <td>1.000000</td>\n",
              "      <td>0.079276</td>\n",
              "      <td>-0.034997</td>\n",
              "      <td>0.754008</td>\n",
              "    </tr>\n",
              "    <tr>\n",
              "      <th>vent_covid</th>\n",
              "      <td>0.672743</td>\n",
              "      <td>0.753607</td>\n",
              "      <td>0.370120</td>\n",
              "      <td>0.551177</td>\n",
              "      <td>0.966285</td>\n",
              "      <td>0.498856</td>\n",
              "      <td>0.079276</td>\n",
              "      <td>1.000000</td>\n",
              "      <td>0.320407</td>\n",
              "      <td>0.074672</td>\n",
              "    </tr>\n",
              "    <tr>\n",
              "      <th>vent_pui</th>\n",
              "      <td>0.246536</td>\n",
              "      <td>0.293210</td>\n",
              "      <td>0.084821</td>\n",
              "      <td>0.298532</td>\n",
              "      <td>0.352052</td>\n",
              "      <td>0.392173</td>\n",
              "      <td>-0.034997</td>\n",
              "      <td>0.320407</td>\n",
              "      <td>1.000000</td>\n",
              "      <td>-0.112590</td>\n",
              "    </tr>\n",
              "    <tr>\n",
              "      <th>vent_noncovid</th>\n",
              "      <td>0.495218</td>\n",
              "      <td>0.215005</td>\n",
              "      <td>0.660859</td>\n",
              "      <td>0.099029</td>\n",
              "      <td>0.067504</td>\n",
              "      <td>0.010719</td>\n",
              "      <td>0.754008</td>\n",
              "      <td>0.074672</td>\n",
              "      <td>-0.112590</td>\n",
              "      <td>1.000000</td>\n",
              "    </tr>\n",
              "  </tbody>\n",
              "</table>\n",
              "</div>\n",
              "      <button class=\"colab-df-convert\" onclick=\"convertToInteractive('df-1eb5d588-c043-462a-8a67-7530c8e4a054')\"\n",
              "              title=\"Convert this dataframe to an interactive table.\"\n",
              "              style=\"display:none;\">\n",
              "        \n",
              "  <svg xmlns=\"http://www.w3.org/2000/svg\" height=\"24px\"viewBox=\"0 0 24 24\"\n",
              "       width=\"24px\">\n",
              "    <path d=\"M0 0h24v24H0V0z\" fill=\"none\"/>\n",
              "    <path d=\"M18.56 5.44l.94 2.06.94-2.06 2.06-.94-2.06-.94-.94-2.06-.94 2.06-2.06.94zm-11 1L8.5 8.5l.94-2.06 2.06-.94-2.06-.94L8.5 2.5l-.94 2.06-2.06.94zm10 10l.94 2.06.94-2.06 2.06-.94-2.06-.94-.94-2.06-.94 2.06-2.06.94z\"/><path d=\"M17.41 7.96l-1.37-1.37c-.4-.4-.92-.59-1.43-.59-.52 0-1.04.2-1.43.59L10.3 9.45l-7.72 7.72c-.78.78-.78 2.05 0 2.83L4 21.41c.39.39.9.59 1.41.59.51 0 1.02-.2 1.41-.59l7.78-7.78 2.81-2.81c.8-.78.8-2.07 0-2.86zM5.41 20L4 18.59l7.72-7.72 1.47 1.35L5.41 20z\"/>\n",
              "  </svg>\n",
              "      </button>\n",
              "      \n",
              "  <style>\n",
              "    .colab-df-container {\n",
              "      display:flex;\n",
              "      flex-wrap:wrap;\n",
              "      gap: 12px;\n",
              "    }\n",
              "\n",
              "    .colab-df-convert {\n",
              "      background-color: #E8F0FE;\n",
              "      border: none;\n",
              "      border-radius: 50%;\n",
              "      cursor: pointer;\n",
              "      display: none;\n",
              "      fill: #1967D2;\n",
              "      height: 32px;\n",
              "      padding: 0 0 0 0;\n",
              "      width: 32px;\n",
              "    }\n",
              "\n",
              "    .colab-df-convert:hover {\n",
              "      background-color: #E2EBFA;\n",
              "      box-shadow: 0px 1px 2px rgba(60, 64, 67, 0.3), 0px 1px 3px 1px rgba(60, 64, 67, 0.15);\n",
              "      fill: #174EA6;\n",
              "    }\n",
              "\n",
              "    [theme=dark] .colab-df-convert {\n",
              "      background-color: #3B4455;\n",
              "      fill: #D2E3FC;\n",
              "    }\n",
              "\n",
              "    [theme=dark] .colab-df-convert:hover {\n",
              "      background-color: #434B5C;\n",
              "      box-shadow: 0px 1px 3px 1px rgba(0, 0, 0, 0.15);\n",
              "      filter: drop-shadow(0px 1px 2px rgba(0, 0, 0, 0.3));\n",
              "      fill: #FFFFFF;\n",
              "    }\n",
              "  </style>\n",
              "\n",
              "      <script>\n",
              "        const buttonEl =\n",
              "          document.querySelector('#df-1eb5d588-c043-462a-8a67-7530c8e4a054 button.colab-df-convert');\n",
              "        buttonEl.style.display =\n",
              "          google.colab.kernel.accessAllowed ? 'block' : 'none';\n",
              "\n",
              "        async function convertToInteractive(key) {\n",
              "          const element = document.querySelector('#df-1eb5d588-c043-462a-8a67-7530c8e4a054');\n",
              "          const dataTable =\n",
              "            await google.colab.kernel.invokeFunction('convertToInteractive',\n",
              "                                                     [key], {});\n",
              "          if (!dataTable) return;\n",
              "\n",
              "          const docLinkHtml = 'Like what you see? Visit the ' +\n",
              "            '<a target=\"_blank\" href=https://colab.research.google.com/notebooks/data_table.ipynb>data table notebook</a>'\n",
              "            + ' to learn more about interactive tables.';\n",
              "          element.innerHTML = '';\n",
              "          dataTable['output_type'] = 'display_data';\n",
              "          await google.colab.output.renderOutput(dataTable, element);\n",
              "          const docLink = document.createElement('div');\n",
              "          docLink.innerHTML = docLinkHtml;\n",
              "          element.appendChild(docLink);\n",
              "        }\n",
              "      </script>\n",
              "    </div>\n",
              "  </div>\n",
              "  "
            ]
          },
          "metadata": {},
          "execution_count": 60
        },
        {
          "output_type": "display_data",
          "data": {
            "text/plain": [
              "<Figure size 720x360 with 2 Axes>"
            ],
            "image/png": "[encoded data removed]"
          },
          "metadata": {
            "needs_background": "light"
          }
        }
      ],
      "source": [
        "plt.figure(figsize=(10,5))\n",
        "c= data.corr()\n",
        "sns.heatmap(c,cmap=\"BrBG\",annot=True)\n",
        "c"
      ]
    },
    {
      "cell_type": "markdown",
      "source": [
        "From the heatmap above, data that collerate the most are vent_covid and icu_covid as most patient who use the ventilators are the covid patient who stay in the icu. Next, we can see that beds_icu_covid depends much on the beds_icu_total. Other than that shows that there are not much correlation between them especially those with value less thatn 0.5."
      ],
      "metadata": {
        "id": "djEwQqua3Oqf"
      }
    },
    {
      "cell_type": "markdown",
      "metadata": {
        "id": "tLNLw0EOVJJ8"
      },
      "source": [
        "**Scatterplot** "
      ]
    },
    {
      "cell_type": "code",
      "source": [
        "data['month'] = pd.DatetimeIndex(data['date']).month\n",
        "data['year'] = pd.DatetimeIndex(data['date']).year\n",
        "data['month_year'] = pd.DatetimeIndex(data['date']).to_period('M')\n",
        "data = data[['date','month','year','month_year','state','beds_icu_total','beds_icu_covid',\t'vent','vent_port','icu_covid','icu_pui','icu_noncovid','vent_covid','vent_pui','vent_noncovid']]\n",
        "data"
      ],
      "metadata": {
        "colab": {
          "base_uri": "https://localhost:8080/",
          "height": 424
        },
        "id": "mRa6Z6Ms_Fjm",
        "outputId": "c556c25f-5dc8-4a4d-b327-6e40ae922e87"
      },
      "execution_count": null,
      "outputs": [
        {
          "output_type": "execute_result",
          "data": {
            "text/plain": [
              "            date  month  year month_year              state  beds_icu_total  \\\n",
              "0     2020-03-24      3  2020    2020-03              Johor              32   \n",
              "1     2020-03-24      3  2020    2020-03              Kedah              35   \n",
              "2     2020-03-24      3  2020    2020-03           Kelantan              39   \n",
              "3     2020-03-24      3  2020    2020-03             Melaka              26   \n",
              "4     2020-03-24      3  2020    2020-03    Negeri Sembilan              18   \n",
              "...          ...    ...   ...        ...                ...             ...   \n",
              "15650 2022-12-21     12  2022    2022-12           Selangor             142   \n",
              "15651 2022-12-21     12  2022    2022-12         Terengganu              41   \n",
              "15652 2022-12-21     12  2022    2022-12  W.P. Kuala Lumpur              46   \n",
              "15653 2022-12-21     12  2022    2022-12        W.P. Labuan              12   \n",
              "15654 2022-12-21     12  2022    2022-12     W.P. Putrajaya              14   \n",
              "\n",
              "       beds_icu_covid  vent  vent_port  icu_covid  icu_pui  icu_noncovid  \\\n",
              "0                  10    11          2          0        0             1   \n",
              "1                  16    34          0          2        1            12   \n",
              "2                  20    42          4          1        0            20   \n",
              "3                  12    23          4          0        2            12   \n",
              "4                  10    14          9          0        0             8   \n",
              "...               ...   ...        ...        ...      ...           ...   \n",
              "15650              24   465         14          3        0           111   \n",
              "15651               7    66         40          1        0            29   \n",
              "15652               4    92          0          3        0            28   \n",
              "15653               7    22         12          0        0             1   \n",
              "15654               3    37          0          0        0             9   \n",
              "\n",
              "       vent_covid  vent_pui  vent_noncovid  \n",
              "0               0         0              0  \n",
              "1               1         1              0  \n",
              "2               1         0              0  \n",
              "3               0         1              0  \n",
              "4               0         0              0  \n",
              "...           ...       ...            ...  \n",
              "15650           1         0             75  \n",
              "15651           1         0             23  \n",
              "15652           2         0             21  \n",
              "15653           0         0              0  \n",
              "15654           0         0              6  \n",
              "\n",
              "[15655 rows x 15 columns]"
            ],
            "text/html": [
              "\n",
              "  <div id=\"df-1b5b5c62-3632-4c69-b762-5dc44cd1c7c1\">\n",
              "    <div class=\"colab-df-container\">\n",
              "      <div>\n",
              "<style scoped>\n",
              "    .dataframe tbody tr th:only-of-type {\n",
              "        vertical-align: middle;\n",
              "    }\n",
              "\n",
              "    .dataframe tbody tr th {\n",
              "        vertical-align: top;\n",
              "    }\n",
              "\n",
              "    .dataframe thead th {\n",
              "        text-align: right;\n",
              "    }\n",
              "</style>\n",
              "<table border=\"1\" class=\"dataframe\">\n",
              "  <thead>\n",
              "    <tr style=\"text-align: right;\">\n",
              "      <th></th>\n",
              "      <th>date</th>\n",
              "      <th>month</th>\n",
              "      <th>year</th>\n",
              "      <th>month_year</th>\n",
              "      <th>state</th>\n",
              "      <th>beds_icu_total</th>\n",
              "      <th>beds_icu_covid</th>\n",
              "      <th>vent</th>\n",
              "      <th>vent_port</th>\n",
              "      <th>icu_covid</th>\n",
              "      <th>icu_pui</th>\n",
              "      <th>icu_noncovid</th>\n",
              "      <th>vent_covid</th>\n",
              "      <th>vent_pui</th>\n",
              "      <th>vent_noncovid</th>\n",
              "    </tr>\n",
              "  </thead>\n",
              "  <tbody>\n",
              "    <tr>\n",
              "      <th>0</th>\n",
              "      <td>2020-03-24</td>\n",
              "      <td>3</td>\n",
              "      <td>2020</td>\n",
              "      <td>2020-03</td>\n",
              "      <td>Johor</td>\n",
              "      <td>32</td>\n",
              "      <td>10</td>\n",
              "      <td>11</td>\n",
              "      <td>2</td>\n",
              "      <td>0</td>\n",
              "      <td>0</td>\n",
              "      <td>1</td>\n",
              "      <td>0</td>\n",
              "      <td>0</td>\n",
              "      <td>0</td>\n",
              "    </tr>\n",
              "    <tr>\n",
              "      <th>1</th>\n",
              "      <td>2020-03-24</td>\n",
              "      <td>3</td>\n",
              "      <td>2020</td>\n",
              "      <td>2020-03</td>\n",
              "      <td>Kedah</td>\n",
              "      <td>35</td>\n",
              "      <td>16</td>\n",
              "      <td>34</td>\n",
              "      <td>0</td>\n",
              "      <td>2</td>\n",
              "      <td>1</td>\n",
              "      <td>12</td>\n",
              "      <td>1</td>\n",
              "      <td>1</td>\n",
              "      <td>0</td>\n",
              "    </tr>\n",
              "    <tr>\n",
              "      <th>2</th>\n",
              "      <td>2020-03-24</td>\n",
              "      <td>3</td>\n",
              "      <td>2020</td>\n",
              "      <td>2020-03</td>\n",
              "      <td>Kelantan</td>\n",
              "      <td>39</td>\n",
              "      <td>20</td>\n",
              "      <td>42</td>\n",
              "      <td>4</td>\n",
              "      <td>1</td>\n",
              "      <td>0</td>\n",
              "      <td>20</td>\n",
              "      <td>1</td>\n",
              "      <td>0</td>\n",
              "      <td>0</td>\n",
              "    </tr>\n",
              "    <tr>\n",
              "      <th>3</th>\n",
              "      <td>2020-03-24</td>\n",
              "      <td>3</td>\n",
              "      <td>2020</td>\n",
              "      <td>2020-03</td>\n",
              "      <td>Melaka</td>\n",
              "      <td>26</td>\n",
              "      <td>12</td>\n",
              "      <td>23</td>\n",
              "      <td>4</td>\n",
              "      <td>0</td>\n",
              "      <td>2</td>\n",
              "      <td>12</td>\n",
              "      <td>0</td>\n",
              "      <td>1</td>\n",
              "      <td>0</td>\n",
              "    </tr>\n",
              "    <tr>\n",
              "      <th>4</th>\n",
              "      <td>2020-03-24</td>\n",
              "      <td>3</td>\n",
              "      <td>2020</td>\n",
              "      <td>2020-03</td>\n",
              "      <td>Negeri Sembilan</td>\n",
              "      <td>18</td>\n",
              "      <td>10</td>\n",
              "      <td>14</td>\n",
              "      <td>9</td>\n",
              "      <td>0</td>\n",
              "      <td>0</td>\n",
              "      <td>8</td>\n",
              "      <td>0</td>\n",
              "      <td>0</td>\n",
              "      <td>0</td>\n",
              "    </tr>\n",
              "    <tr>\n",
              "      <th>...</th>\n",
              "      <td>...</td>\n",
              "      <td>...</td>\n",
              "      <td>...</td>\n",
              "      <td>...</td>\n",
              "      <td>...</td>\n",
              "      <td>...</td>\n",
              "      <td>...</td>\n",
              "      <td>...</td>\n",
              "      <td>...</td>\n",
              "      <td>...</td>\n",
              "      <td>...</td>\n",
              "      <td>...</td>\n",
              "      <td>...</td>\n",
              "      <td>...</td>\n",
              "      <td>...</td>\n",
              "    </tr>\n",
              "    <tr>\n",
              "      <th>15650</th>\n",
              "      <td>2022-12-21</td>\n",
              "      <td>12</td>\n",
              "      <td>2022</td>\n",
              "      <td>2022-12</td>\n",
              "      <td>Selangor</td>\n",
              "      <td>142</td>\n",
              "      <td>24</td>\n",
              "      <td>465</td>\n",
              "      <td>14</td>\n",
              "      <td>3</td>\n",
              "      <td>0</td>\n",
              "      <td>111</td>\n",
              "      <td>1</td>\n",
              "      <td>0</td>\n",
              "      <td>75</td>\n",
              "    </tr>\n",
              "    <tr>\n",
              "      <th>15651</th>\n",
              "      <td>2022-12-21</td>\n",
              "      <td>12</td>\n",
              "      <td>2022</td>\n",
              "      <td>2022-12</td>\n",
              "      <td>Terengganu</td>\n",
              "      <td>41</td>\n",
              "      <td>7</td>\n",
              "      <td>66</td>\n",
              "      <td>40</td>\n",
              "      <td>1</td>\n",
              "      <td>0</td>\n",
              "      <td>29</td>\n",
              "      <td>1</td>\n",
              "      <td>0</td>\n",
              "      <td>23</td>\n",
              "    </tr>\n",
              "    <tr>\n",
              "      <th>15652</th>\n",
              "      <td>2022-12-21</td>\n",
              "      <td>12</td>\n",
              "      <td>2022</td>\n",
              "      <td>2022-12</td>\n",
              "      <td>W.P. Kuala Lumpur</td>\n",
              "      <td>46</td>\n",
              "      <td>4</td>\n",
              "      <td>92</td>\n",
              "      <td>0</td>\n",
              "      <td>3</td>\n",
              "      <td>0</td>\n",
              "      <td>28</td>\n",
              "      <td>2</td>\n",
              "      <td>0</td>\n",
              "      <td>21</td>\n",
              "    </tr>\n",
              "    <tr>\n",
              "      <th>15653</th>\n",
              "      <td>2022-12-21</td>\n",
              "      <td>12</td>\n",
              "      <td>2022</td>\n",
              "      <td>2022-12</td>\n",
              "      <td>W.P. Labuan</td>\n",
              "      <td>12</td>\n",
              "      <td>7</td>\n",
              "      <td>22</td>\n",
              "      <td>12</td>\n",
              "      <td>0</td>\n",
              "      <td>0</td>\n",
              "      <td>1</td>\n",
              "      <td>0</td>\n",
              "      <td>0</td>\n",
              "      <td>0</td>\n",
              "    </tr>\n",
              "    <tr>\n",
              "      <th>15654</th>\n",
              "      <td>2022-12-21</td>\n",
              "      <td>12</td>\n",
              "      <td>2022</td>\n",
              "      <td>2022-12</td>\n",
              "      <td>W.P. Putrajaya</td>\n",
              "      <td>14</td>\n",
              "      <td>3</td>\n",
              "      <td>37</td>\n",
              "      <td>0</td>\n",
              "      <td>0</td>\n",
              "      <td>0</td>\n",
              "      <td>9</td>\n",
              "      <td>0</td>\n",
              "      <td>0</td>\n",
              "      <td>6</td>\n",
              "    </tr>\n",
              "  </tbody>\n",
              "</table>\n",
              "<p>15655 rows × 15 columns</p>\n",
              "</div>\n",
              "      <button class=\"colab-df-convert\" onclick=\"convertToInteractive('df-1b5b5c62-3632-4c69-b762-5dc44cd1c7c1')\"\n",
              "              title=\"Convert this dataframe to an interactive table.\"\n",
              "              style=\"display:none;\">\n",
              "        \n",
              "  <svg xmlns=\"http://www.w3.org/2000/svg\" height=\"24px\"viewBox=\"0 0 24 24\"\n",
              "       width=\"24px\">\n",
              "    <path d=\"M0 0h24v24H0V0z\" fill=\"none\"/>\n",
              "    <path d=\"M18.56 5.44l.94 2.06.94-2.06 2.06-.94-2.06-.94-.94-2.06-.94 2.06-2.06.94zm-11 1L8.5 8.5l.94-2.06 2.06-.94-2.06-.94L8.5 2.5l-.94 2.06-2.06.94zm10 10l.94 2.06.94-2.06 2.06-.94-2.06-.94-.94-2.06-.94 2.06-2.06.94z\"/><path d=\"M17.41 7.96l-1.37-1.37c-.4-.4-.92-.59-1.43-.59-.52 0-1.04.2-1.43.59L10.3 9.45l-7.72 7.72c-.78.78-.78 2.05 0 2.83L4 21.41c.39.39.9.59 1.41.59.51 0 1.02-.2 1.41-.59l7.78-7.78 2.81-2.81c.8-.78.8-2.07 0-2.86zM5.41 20L4 18.59l7.72-7.72 1.47 1.35L5.41 20z\"/>\n",
              "  </svg>\n",
              "      </button>\n",
              "      \n",
              "  <style>\n",
              "    .colab-df-container {\n",
              "      display:flex;\n",
              "      flex-wrap:wrap;\n",
              "      gap: 12px;\n",
              "    }\n",
              "\n",
              "    .colab-df-convert {\n",
              "      background-color: #E8F0FE;\n",
              "      border: none;\n",
              "      border-radius: 50%;\n",
              "      cursor: pointer;\n",
              "      display: none;\n",
              "      fill: #1967D2;\n",
              "      height: 32px;\n",
              "      padding: 0 0 0 0;\n",
              "      width: 32px;\n",
              "    }\n",
              "\n",
              "    .colab-df-convert:hover {\n",
              "      background-color: #E2EBFA;\n",
              "      box-shadow: 0px 1px 2px rgba(60, 64, 67, 0.3), 0px 1px 3px 1px rgba(60, 64, 67, 0.15);\n",
              "      fill: #174EA6;\n",
              "    }\n",
              "\n",
              "    [theme=dark] .colab-df-convert {\n",
              "      background-color: #3B4455;\n",
              "      fill: #D2E3FC;\n",
              "    }\n",
              "\n",
              "    [theme=dark] .colab-df-convert:hover {\n",
              "      background-color: #434B5C;\n",
              "      box-shadow: 0px 1px 3px 1px rgba(0, 0, 0, 0.15);\n",
              "      filter: drop-shadow(0px 1px 2px rgba(0, 0, 0, 0.3));\n",
              "      fill: #FFFFFF;\n",
              "    }\n",
              "  </style>\n",
              "\n",
              "      <script>\n",
              "        const buttonEl =\n",
              "          document.querySelector('#df-1b5b5c62-3632-4c69-b762-5dc44cd1c7c1 button.colab-df-convert');\n",
              "        buttonEl.style.display =\n",
              "          google.colab.kernel.accessAllowed ? 'block' : 'none';\n",
              "\n",
              "        async function convertToInteractive(key) {\n",
              "          const element = document.querySelector('#df-1b5b5c62-3632-4c69-b762-5dc44cd1c7c1');\n",
              "          const dataTable =\n",
              "            await google.colab.kernel.invokeFunction('convertToInteractive',\n",
              "                                                     [key], {});\n",
              "          if (!dataTable) return;\n",
              "\n",
              "          const docLinkHtml = 'Like what you see? Visit the ' +\n",
              "            '<a target=\"_blank\" href=https://colab.research.google.com/notebooks/data_table.ipynb>data table notebook</a>'\n",
              "            + ' to learn more about interactive tables.';\n",
              "          element.innerHTML = '';\n",
              "          dataTable['output_type'] = 'display_data';\n",
              "          await google.colab.output.renderOutput(dataTable, element);\n",
              "          const docLink = document.createElement('div');\n",
              "          docLink.innerHTML = docLinkHtml;\n",
              "          element.appendChild(docLink);\n",
              "        }\n",
              "      </script>\n",
              "    </div>\n",
              "  </div>\n",
              "  "
            ]
          },
          "metadata": {},
          "execution_count": 61
        }
      ]
    },
    {
      "cell_type": "code",
      "source": [
        "data['month_year'] = data['month_year'].astype(str)\n",
        "data['month_year'] = pd.to_datetime(data['month_year'])\n",
        "data.dtypes"
      ],
      "metadata": {
        "id": "kHAPxlxfBqQ-",
        "colab": {
          "base_uri": "https://localhost:8080/"
        },
        "outputId": "8ea51e9d-103d-4623-fe91-59845deb5ece"
      },
      "execution_count": null,
      "outputs": [
        {
          "output_type": "execute_result",
          "data": {
            "text/plain": [
              "date              datetime64[ns]\n",
              "month                      int64\n",
              "year                       int64\n",
              "month_year        datetime64[ns]\n",
              "state                     object\n",
              "beds_icu_total             int64\n",
              "beds_icu_covid             int64\n",
              "vent                       int64\n",
              "vent_port                  int64\n",
              "icu_covid                  int64\n",
              "icu_pui                    int64\n",
              "icu_noncovid               int64\n",
              "vent_covid                 int64\n",
              "vent_pui                   int64\n",
              "vent_noncovid              int64\n",
              "dtype: object"
            ]
          },
          "metadata": {},
          "execution_count": 62
        }
      ]
    },
    {
      "cell_type": "code",
      "execution_count": null,
      "metadata": {
        "id": "61sgf555VJJ8",
        "colab": {
          "base_uri": "https://localhost:8080/",
          "height": 536
        },
        "outputId": "31481494-2dbb-4622-891d-ffaf212ac73e"
      },
      "outputs": [
        {
          "output_type": "execute_result",
          "data": {
            "text/plain": [
              "[<matplotlib.lines.Line2D at 0x7f657bd37e80>]"
            ]
          },
          "metadata": {},
          "execution_count": 63
        },
        {
          "output_type": "display_data",
          "data": {
            "text/plain": [
              "<Figure size 2160x720 with 1 Axes>"
            ],
            "image/png": "[encoded data removed]"
          },
          "metadata": {
            "needs_background": "light"
          }
        }
      ],
      "source": [
        "plt.figure(figsize=(30,10))\n",
        "plt.title(\"Period over amount of covid patient in ICU\")\n",
        "plt.ylabel('icu_covid')\n",
        "plt.xlabel('Period');\n",
        "plt.plot_date(data['month_year'], data['icu_covid'])"
      ]
    },
    {
      "cell_type": "markdown",
      "source": [
        "In mid 2021, the scatter plot shows the highest amount of covid-19 patient in ICU. Thus, we can conclude that the peak season of covid-19 falls under this period."
      ],
      "metadata": {
        "id": "jOTUHwXbHjny"
      }
    },
    {
      "cell_type": "markdown",
      "metadata": {
        "id": "E0U3IWm8VJJ9"
      },
      "source": [
        "## Asking and Answering Questions\n",
        "\n"
      ]
    },
    {
      "cell_type": "markdown",
      "metadata": {
        "id": "7Lor5rHMVJJ9"
      },
      "source": [
        "#### Q1: Does the amount of ventilator used by covid patient were the highest during the peak season of covid-19?"
      ]
    },
    {
      "cell_type": "code",
      "execution_count": null,
      "metadata": {
        "id": "D-PdOKqCVJJ9",
        "colab": {
          "base_uri": "https://localhost:8080/"
        },
        "outputId": "f6896fd2-ce65-49d0-c8b8-7b768c8693a0"
      },
      "outputs": [
        {
          "output_type": "execute_result",
          "data": {
            "text/plain": [
              "month_year\n",
              "2021-08-01    26959\n",
              "2021-07-01    22827\n",
              "2021-09-01    20103\n",
              "2021-06-01    18069\n",
              "2021-05-01    13073\n",
              "2021-10-01    11360\n",
              "2021-11-01     8104\n",
              "2021-12-01     6472\n",
              "2022-03-01     6425\n",
              "2021-02-01     4882\n",
              "2021-01-01     4574\n",
              "2021-04-01     4323\n",
              "2022-02-01     3374\n",
              "2021-03-01     3102\n",
              "2022-01-01     2924\n",
              "2022-04-01     2703\n",
              "2020-12-01     2210\n",
              "2022-11-01     1628\n",
              "2020-11-01     1334\n",
              "2022-08-01     1290\n",
              "2022-09-01     1111\n",
              "2022-12-01     1000\n",
              "2022-07-01      937\n",
              "2020-04-01      924\n",
              "2022-05-01      899\n",
              "2020-10-01      887\n",
              "2022-10-01      726\n",
              "2022-06-01      516\n",
              "2020-03-01      422\n",
              "2020-05-01      199\n",
              "2020-09-01      128\n",
              "2020-08-01       79\n",
              "2020-07-01       37\n",
              "2020-06-01       18\n",
              "Name: vent_covid, dtype: int64"
            ]
          },
          "metadata": {},
          "execution_count": 64
        }
      ],
      "source": [
        "max_vent = data.groupby(by=\"month_year\")[\"vent_covid\"].sum()\n",
        "max_vent.sort_values(ascending=False)"
      ]
    },
    {
      "cell_type": "markdown",
      "source": [
        "We know that the peak season of covid-19 falls between July to September 2021 and based on this, we wanted to prove if there is also an increasing amount of ventilator used during the season. Thus, we use pandas by finding the sum of vent_covid and group it by year and month. To easily see the result, we sort it."
      ],
      "metadata": {
        "id": "rNZ-iq5lN9sH"
      }
    },
    {
      "cell_type": "markdown",
      "source": [
        "**Ans1:** Yes, the amount of ventilators used by covid patients are the highest during the peak season of covid-19 which is 26959 ventilators in August 2021."
      ],
      "metadata": {
        "id": "gtitaLyLc8g2"
      }
    },
    {
      "cell_type": "markdown",
      "metadata": {
        "id": "c_REVnrhVJJ-"
      },
      "source": [
        "#### Q2: Which state provides the most amount of ICU bed?"
      ]
    },
    {
      "cell_type": "code",
      "execution_count": null,
      "metadata": {
        "id": "ShA3QyQpVJJ-",
        "colab": {
          "base_uri": "https://localhost:8080/"
        },
        "outputId": "1bbcfa61-eeec-401c-d53c-95da3dd95969"
      },
      "outputs": [
        {
          "output_type": "execute_result",
          "data": {
            "text/plain": [
              "state\n",
              "Selangor             186809\n",
              "Sabah                138427\n",
              "Sarawak              128918\n",
              "Kelantan             124687\n",
              "Johor                112438\n",
              "W.P. Kuala Lumpur    108799\n",
              "Perak                 90395\n",
              "Kedah                 82854\n",
              "Pahang                80900\n",
              "Melaka                76413\n",
              "Pulau Pinang          62995\n",
              "Negeri Sembilan       55356\n",
              "Terengganu            39911\n",
              "Perlis                16515\n",
              "W.P. Putrajaya        12368\n",
              "W.P. Labuan           11111\n",
              "Name: beds_icu_total, dtype: int64"
            ]
          },
          "metadata": {},
          "execution_count": 65
        }
      ],
      "source": [
        "max_icu = data.groupby(by=\"state\")[\"beds_icu_total\"].sum()\n",
        "max_icu.sort_values(ascending=False)"
      ]
    },
    {
      "cell_type": "markdown",
      "source": [
        "We also wanted to know what state provides the most amount of bed in the ICU. To do this, we sum up the total ICU beds by grouping them into state. Lastly, sort the value decreasingly to see the results."
      ],
      "metadata": {
        "id": "8VZ3T_PWeJpM"
      }
    },
    {
      "cell_type": "markdown",
      "source": [
        "**Ans2:** Selangor provides the most ICU beds. It is a state on the west coast of Peninsular Malaysia, encircling the capital Kuala Lumpur hence, the amount of population is high since most offices are located here."
      ],
      "metadata": {
        "id": "GFq5v03lPcDV"
      }
    },
    {
      "cell_type": "markdown",
      "metadata": {
        "id": "ya3o0SurVJJ-"
      },
      "source": [
        "#### Q3: Is there any strong correlation between the ICU and ventilator used by the covid patient?"
      ]
    },
    {
      "cell_type": "code",
      "source": [
        "num_data = data[['beds_icu_total','beds_icu_covid',\t'vent','vent_port','icu_covid','icu_pui','icu_noncovid','vent_covid','vent_pui','vent_noncovid']]\n",
        "num_data"
      ],
      "metadata": {
        "colab": {
          "base_uri": "https://localhost:8080/",
          "height": 424
        },
        "id": "frrqtRGUg16u",
        "outputId": "32970f70-d08f-4198-9187-998db0f971ad"
      },
      "execution_count": null,
      "outputs": [
        {
          "output_type": "execute_result",
          "data": {
            "text/plain": [
              "       beds_icu_total  beds_icu_covid  vent  vent_port  icu_covid  icu_pui  \\\n",
              "0                  32              10    11          2          0        0   \n",
              "1                  35              16    34          0          2        1   \n",
              "2                  39              20    42          4          1        0   \n",
              "3                  26              12    23          4          0        2   \n",
              "4                  18              10    14          9          0        0   \n",
              "...               ...             ...   ...        ...        ...      ...   \n",
              "15650             142              24   465         14          3        0   \n",
              "15651              41               7    66         40          1        0   \n",
              "15652              46               4    92          0          3        0   \n",
              "15653              12               7    22         12          0        0   \n",
              "15654              14               3    37          0          0        0   \n",
              "\n",
              "       icu_noncovid  vent_covid  vent_pui  vent_noncovid  \n",
              "0                 1           0         0              0  \n",
              "1                12           1         1              0  \n",
              "2                20           1         0              0  \n",
              "3                12           0         1              0  \n",
              "4                 8           0         0              0  \n",
              "...             ...         ...       ...            ...  \n",
              "15650           111           1         0             75  \n",
              "15651            29           1         0             23  \n",
              "15652            28           2         0             21  \n",
              "15653             1           0         0              0  \n",
              "15654             9           0         0              6  \n",
              "\n",
              "[15655 rows x 10 columns]"
            ],
            "text/html": [
              "\n",
              "  <div id=\"df-36edecc1-dc23-4f69-b01b-f31186a1257f\">\n",
              "    <div class=\"colab-df-container\">\n",
              "      <div>\n",
              "<style scoped>\n",
              "    .dataframe tbody tr th:only-of-type {\n",
              "        vertical-align: middle;\n",
              "    }\n",
              "\n",
              "    .dataframe tbody tr th {\n",
              "        vertical-align: top;\n",
              "    }\n",
              "\n",
              "    .dataframe thead th {\n",
              "        text-align: right;\n",
              "    }\n",
              "</style>\n",
              "<table border=\"1\" class=\"dataframe\">\n",
              "  <thead>\n",
              "    <tr style=\"text-align: right;\">\n",
              "      <th></th>\n",
              "      <th>beds_icu_total</th>\n",
              "      <th>beds_icu_covid</th>\n",
              "      <th>vent</th>\n",
              "      <th>vent_port</th>\n",
              "      <th>icu_covid</th>\n",
              "      <th>icu_pui</th>\n",
              "      <th>icu_noncovid</th>\n",
              "      <th>vent_covid</th>\n",
              "      <th>vent_pui</th>\n",
              "      <th>vent_noncovid</th>\n",
              "    </tr>\n",
              "  </thead>\n",
              "  <tbody>\n",
              "    <tr>\n",
              "      <th>0</th>\n",
              "      <td>32</td>\n",
              "      <td>10</td>\n",
              "      <td>11</td>\n",
              "      <td>2</td>\n",
              "      <td>0</td>\n",
              "      <td>0</td>\n",
              "      <td>1</td>\n",
              "      <td>0</td>\n",
              "      <td>0</td>\n",
              "      <td>0</td>\n",
              "    </tr>\n",
              "    <tr>\n",
              "      <th>1</th>\n",
              "      <td>35</td>\n",
              "      <td>16</td>\n",
              "      <td>34</td>\n",
              "      <td>0</td>\n",
              "      <td>2</td>\n",
              "      <td>1</td>\n",
              "      <td>12</td>\n",
              "      <td>1</td>\n",
              "      <td>1</td>\n",
              "      <td>0</td>\n",
              "    </tr>\n",
              "    <tr>\n",
              "      <th>2</th>\n",
              "      <td>39</td>\n",
              "      <td>20</td>\n",
              "      <td>42</td>\n",
              "      <td>4</td>\n",
              "      <td>1</td>\n",
              "      <td>0</td>\n",
              "      <td>20</td>\n",
              "      <td>1</td>\n",
              "      <td>0</td>\n",
              "      <td>0</td>\n",
              "    </tr>\n",
              "    <tr>\n",
              "      <th>3</th>\n",
              "      <td>26</td>\n",
              "      <td>12</td>\n",
              "      <td>23</td>\n",
              "      <td>4</td>\n",
              "      <td>0</td>\n",
              "      <td>2</td>\n",
              "      <td>12</td>\n",
              "      <td>0</td>\n",
              "      <td>1</td>\n",
              "      <td>0</td>\n",
              "    </tr>\n",
              "    <tr>\n",
              "      <th>4</th>\n",
              "      <td>18</td>\n",
              "      <td>10</td>\n",
              "      <td>14</td>\n",
              "      <td>9</td>\n",
              "      <td>0</td>\n",
              "      <td>0</td>\n",
              "      <td>8</td>\n",
              "      <td>0</td>\n",
              "      <td>0</td>\n",
              "      <td>0</td>\n",
              "    </tr>\n",
              "    <tr>\n",
              "      <th>...</th>\n",
              "      <td>...</td>\n",
              "      <td>...</td>\n",
              "      <td>...</td>\n",
              "      <td>...</td>\n",
              "      <td>...</td>\n",
              "      <td>...</td>\n",
              "      <td>...</td>\n",
              "      <td>...</td>\n",
              "      <td>...</td>\n",
              "      <td>...</td>\n",
              "    </tr>\n",
              "    <tr>\n",
              "      <th>15650</th>\n",
              "      <td>142</td>\n",
              "      <td>24</td>\n",
              "      <td>465</td>\n",
              "      <td>14</td>\n",
              "      <td>3</td>\n",
              "      <td>0</td>\n",
              "      <td>111</td>\n",
              "      <td>1</td>\n",
              "      <td>0</td>\n",
              "      <td>75</td>\n",
              "    </tr>\n",
              "    <tr>\n",
              "      <th>15651</th>\n",
              "      <td>41</td>\n",
              "      <td>7</td>\n",
              "      <td>66</td>\n",
              "      <td>40</td>\n",
              "      <td>1</td>\n",
              "      <td>0</td>\n",
              "      <td>29</td>\n",
              "      <td>1</td>\n",
              "      <td>0</td>\n",
              "      <td>23</td>\n",
              "    </tr>\n",
              "    <tr>\n",
              "      <th>15652</th>\n",
              "      <td>46</td>\n",
              "      <td>4</td>\n",
              "      <td>92</td>\n",
              "      <td>0</td>\n",
              "      <td>3</td>\n",
              "      <td>0</td>\n",
              "      <td>28</td>\n",
              "      <td>2</td>\n",
              "      <td>0</td>\n",
              "      <td>21</td>\n",
              "    </tr>\n",
              "    <tr>\n",
              "      <th>15653</th>\n",
              "      <td>12</td>\n",
              "      <td>7</td>\n",
              "      <td>22</td>\n",
              "      <td>12</td>\n",
              "      <td>0</td>\n",
              "      <td>0</td>\n",
              "      <td>1</td>\n",
              "      <td>0</td>\n",
              "      <td>0</td>\n",
              "      <td>0</td>\n",
              "    </tr>\n",
              "    <tr>\n",
              "      <th>15654</th>\n",
              "      <td>14</td>\n",
              "      <td>3</td>\n",
              "      <td>37</td>\n",
              "      <td>0</td>\n",
              "      <td>0</td>\n",
              "      <td>0</td>\n",
              "      <td>9</td>\n",
              "      <td>0</td>\n",
              "      <td>0</td>\n",
              "      <td>6</td>\n",
              "    </tr>\n",
              "  </tbody>\n",
              "</table>\n",
              "<p>15655 rows × 10 columns</p>\n",
              "</div>\n",
              "      <button class=\"colab-df-convert\" onclick=\"convertToInteractive('df-36edecc1-dc23-4f69-b01b-f31186a1257f')\"\n",
              "              title=\"Convert this dataframe to an interactive table.\"\n",
              "              style=\"display:none;\">\n",
              "        \n",
              "  <svg xmlns=\"http://www.w3.org/2000/svg\" height=\"24px\"viewBox=\"0 0 24 24\"\n",
              "       width=\"24px\">\n",
              "    <path d=\"M0 0h24v24H0V0z\" fill=\"none\"/>\n",
              "    <path d=\"M18.56 5.44l.94 2.06.94-2.06 2.06-.94-2.06-.94-.94-2.06-.94 2.06-2.06.94zm-11 1L8.5 8.5l.94-2.06 2.06-.94-2.06-.94L8.5 2.5l-.94 2.06-2.06.94zm10 10l.94 2.06.94-2.06 2.06-.94-2.06-.94-.94-2.06-.94 2.06-2.06.94z\"/><path d=\"M17.41 7.96l-1.37-1.37c-.4-.4-.92-.59-1.43-.59-.52 0-1.04.2-1.43.59L10.3 9.45l-7.72 7.72c-.78.78-.78 2.05 0 2.83L4 21.41c.39.39.9.59 1.41.59.51 0 1.02-.2 1.41-.59l7.78-7.78 2.81-2.81c.8-.78.8-2.07 0-2.86zM5.41 20L4 18.59l7.72-7.72 1.47 1.35L5.41 20z\"/>\n",
              "  </svg>\n",
              "      </button>\n",
              "      \n",
              "  <style>\n",
              "    .colab-df-container {\n",
              "      display:flex;\n",
              "      flex-wrap:wrap;\n",
              "      gap: 12px;\n",
              "    }\n",
              "\n",
              "    .colab-df-convert {\n",
              "      background-color: #E8F0FE;\n",
              "      border: none;\n",
              "      border-radius: 50%;\n",
              "      cursor: pointer;\n",
              "      display: none;\n",
              "      fill: #1967D2;\n",
              "      height: 32px;\n",
              "      padding: 0 0 0 0;\n",
              "      width: 32px;\n",
              "    }\n",
              "\n",
              "    .colab-df-convert:hover {\n",
              "      background-color: #E2EBFA;\n",
              "      box-shadow: 0px 1px 2px rgba(60, 64, 67, 0.3), 0px 1px 3px 1px rgba(60, 64, 67, 0.15);\n",
              "      fill: #174EA6;\n",
              "    }\n",
              "\n",
              "    [theme=dark] .colab-df-convert {\n",
              "      background-color: #3B4455;\n",
              "      fill: #D2E3FC;\n",
              "    }\n",
              "\n",
              "    [theme=dark] .colab-df-convert:hover {\n",
              "      background-color: #434B5C;\n",
              "      box-shadow: 0px 1px 3px 1px rgba(0, 0, 0, 0.15);\n",
              "      filter: drop-shadow(0px 1px 2px rgba(0, 0, 0, 0.3));\n",
              "      fill: #FFFFFF;\n",
              "    }\n",
              "  </style>\n",
              "\n",
              "      <script>\n",
              "        const buttonEl =\n",
              "          document.querySelector('#df-36edecc1-dc23-4f69-b01b-f31186a1257f button.colab-df-convert');\n",
              "        buttonEl.style.display =\n",
              "          google.colab.kernel.accessAllowed ? 'block' : 'none';\n",
              "\n",
              "        async function convertToInteractive(key) {\n",
              "          const element = document.querySelector('#df-36edecc1-dc23-4f69-b01b-f31186a1257f');\n",
              "          const dataTable =\n",
              "            await google.colab.kernel.invokeFunction('convertToInteractive',\n",
              "                                                     [key], {});\n",
              "          if (!dataTable) return;\n",
              "\n",
              "          const docLinkHtml = 'Like what you see? Visit the ' +\n",
              "            '<a target=\"_blank\" href=https://colab.research.google.com/notebooks/data_table.ipynb>data table notebook</a>'\n",
              "            + ' to learn more about interactive tables.';\n",
              "          element.innerHTML = '';\n",
              "          dataTable['output_type'] = 'display_data';\n",
              "          await google.colab.output.renderOutput(dataTable, element);\n",
              "          const docLink = document.createElement('div');\n",
              "          docLink.innerHTML = docLinkHtml;\n",
              "          element.appendChild(docLink);\n",
              "        }\n",
              "      </script>\n",
              "    </div>\n",
              "  </div>\n",
              "  "
            ]
          },
          "metadata": {},
          "execution_count": 66
        }
      ]
    },
    {
      "cell_type": "code",
      "execution_count": null,
      "metadata": {
        "id": "CaF9SiPeVJJ-",
        "colab": {
          "base_uri": "https://localhost:8080/",
          "height": 767
        },
        "outputId": "18a69293-653a-4adf-8136-b72abb4d3f21"
      },
      "outputs": [
        {
          "output_type": "execute_result",
          "data": {
            "text/plain": [
              "                beds_icu_total  beds_icu_covid      vent  vent_port  \\\n",
              "beds_icu_total        1.000000        0.866520  0.756526   0.557351   \n",
              "beds_icu_covid        0.866520        1.000000  0.523890   0.517336   \n",
              "vent                  0.756526        0.523890  1.000000   0.236281   \n",
              "vent_port             0.557351        0.517336  0.236281   1.000000   \n",
              "icu_covid             0.706782        0.801719  0.369157   0.556849   \n",
              "icu_pui               0.352768        0.415003  0.209039   0.304705   \n",
              "icu_noncovid          0.633814        0.275825  0.749397   0.260139   \n",
              "vent_covid            0.672743        0.753607  0.370120   0.551177   \n",
              "vent_pui              0.246536        0.293210  0.084821   0.298532   \n",
              "vent_noncovid         0.495218        0.215005  0.660859   0.099029   \n",
              "\n",
              "                icu_covid   icu_pui  icu_noncovid  vent_covid  vent_pui  \\\n",
              "beds_icu_total   0.706782  0.352768      0.633814    0.672743  0.246536   \n",
              "beds_icu_covid   0.801719  0.415003      0.275825    0.753607  0.293210   \n",
              "vent             0.369157  0.209039      0.749397    0.370120  0.084821   \n",
              "vent_port        0.556849  0.304705      0.260139    0.551177  0.298532   \n",
              "icu_covid        1.000000  0.496913      0.077511    0.966285  0.352052   \n",
              "icu_pui          0.496913  1.000000      0.006380    0.498856  0.392173   \n",
              "icu_noncovid     0.077511  0.006380      1.000000    0.079276 -0.034997   \n",
              "vent_covid       0.966285  0.498856      0.079276    1.000000  0.320407   \n",
              "vent_pui         0.352052  0.392173     -0.034997    0.320407  1.000000   \n",
              "vent_noncovid    0.067504  0.010719      0.754008    0.074672 -0.112590   \n",
              "\n",
              "                vent_noncovid  \n",
              "beds_icu_total       0.495218  \n",
              "beds_icu_covid       0.215005  \n",
              "vent                 0.660859  \n",
              "vent_port            0.099029  \n",
              "icu_covid            0.067504  \n",
              "icu_pui              0.010719  \n",
              "icu_noncovid         0.754008  \n",
              "vent_covid           0.074672  \n",
              "vent_pui            -0.112590  \n",
              "vent_noncovid        1.000000  "
            ],
            "text/html": [
              "\n",
              "  <div id=\"df-abc85562-f955-4452-8171-b64cef7b6142\">\n",
              "    <div class=\"colab-df-container\">\n",
              "      <div>\n",
              "<style scoped>\n",
              "    .dataframe tbody tr th:only-of-type {\n",
              "        vertical-align: middle;\n",
              "    }\n",
              "\n",
              "    .dataframe tbody tr th {\n",
              "        vertical-align: top;\n",
              "    }\n",
              "\n",
              "    .dataframe thead th {\n",
              "        text-align: right;\n",
              "    }\n",
              "</style>\n",
              "<table border=\"1\" class=\"dataframe\">\n",
              "  <thead>\n",
              "    <tr style=\"text-align: right;\">\n",
              "      <th></th>\n",
              "      <th>beds_icu_total</th>\n",
              "      <th>beds_icu_covid</th>\n",
              "      <th>vent</th>\n",
              "      <th>vent_port</th>\n",
              "      <th>icu_covid</th>\n",
              "      <th>icu_pui</th>\n",
              "      <th>icu_noncovid</th>\n",
              "      <th>vent_covid</th>\n",
              "      <th>vent_pui</th>\n",
              "      <th>vent_noncovid</th>\n",
              "    </tr>\n",
              "  </thead>\n",
              "  <tbody>\n",
              "    <tr>\n",
              "      <th>beds_icu_total</th>\n",
              "      <td>1.000000</td>\n",
              "      <td>0.866520</td>\n",
              "      <td>0.756526</td>\n",
              "      <td>0.557351</td>\n",
              "      <td>0.706782</td>\n",
              "      <td>0.352768</td>\n",
              "      <td>0.633814</td>\n",
              "      <td>0.672743</td>\n",
              "      <td>0.246536</td>\n",
              "      <td>0.495218</td>\n",
              "    </tr>\n",
              "    <tr>\n",
              "      <th>beds_icu_covid</th>\n",
              "      <td>0.866520</td>\n",
              "      <td>1.000000</td>\n",
              "      <td>0.523890</td>\n",
              "      <td>0.517336</td>\n",
              "      <td>0.801719</td>\n",
              "      <td>0.415003</td>\n",
              "      <td>0.275825</td>\n",
              "      <td>0.753607</td>\n",
              "      <td>0.293210</td>\n",
              "      <td>0.215005</td>\n",
              "    </tr>\n",
              "    <tr>\n",
              "      <th>vent</th>\n",
              "      <td>0.756526</td>\n",
              "      <td>0.523890</td>\n",
              "      <td>1.000000</td>\n",
              "      <td>0.236281</td>\n",
              "      <td>0.369157</td>\n",
              "      <td>0.209039</td>\n",
              "      <td>0.749397</td>\n",
              "      <td>0.370120</td>\n",
              "      <td>0.084821</td>\n",
              "      <td>0.660859</td>\n",
              "    </tr>\n",
              "    <tr>\n",
              "      <th>vent_port</th>\n",
              "      <td>0.557351</td>\n",
              "      <td>0.517336</td>\n",
              "      <td>0.236281</td>\n",
              "      <td>1.000000</td>\n",
              "      <td>0.556849</td>\n",
              "      <td>0.304705</td>\n",
              "      <td>0.260139</td>\n",
              "      <td>0.551177</td>\n",
              "      <td>0.298532</td>\n",
              "      <td>0.099029</td>\n",
              "    </tr>\n",
              "    <tr>\n",
              "      <th>icu_covid</th>\n",
              "      <td>0.706782</td>\n",
              "      <td>0.801719</td>\n",
              "      <td>0.369157</td>\n",
              "      <td>0.556849</td>\n",
              "      <td>1.000000</td>\n",
              "      <td>0.496913</td>\n",
              "      <td>0.077511</td>\n",
              "      <td>0.966285</td>\n",
              "      <td>0.352052</td>\n",
              "      <td>0.067504</td>\n",
              "    </tr>\n",
              "    <tr>\n",
              "      <th>icu_pui</th>\n",
              "      <td>0.352768</td>\n",
              "      <td>0.415003</td>\n",
              "      <td>0.209039</td>\n",
              "      <td>0.304705</td>\n",
              "      <td>0.496913</td>\n",
              "      <td>1.000000</td>\n",
              "      <td>0.006380</td>\n",
              "      <td>0.498856</td>\n",
              "      <td>0.392173</td>\n",
              "      <td>0.010719</td>\n",
              "    </tr>\n",
              "    <tr>\n",
              "      <th>icu_noncovid</th>\n",
              "      <td>0.633814</td>\n",
              "      <td>0.275825</td>\n",
              "      <td>0.749397</td>\n",
              "      <td>0.260139</td>\n",
              "      <td>0.077511</td>\n",
              "      <td>0.006380</td>\n",
              "      <td>1.000000</td>\n",
              "      <td>0.079276</td>\n",
              "      <td>-0.034997</td>\n",
              "      <td>0.754008</td>\n",
              "    </tr>\n",
              "    <tr>\n",
              "      <th>vent_covid</th>\n",
              "      <td>0.672743</td>\n",
              "      <td>0.753607</td>\n",
              "      <td>0.370120</td>\n",
              "      <td>0.551177</td>\n",
              "      <td>0.966285</td>\n",
              "      <td>0.498856</td>\n",
              "      <td>0.079276</td>\n",
              "      <td>1.000000</td>\n",
              "      <td>0.320407</td>\n",
              "      <td>0.074672</td>\n",
              "    </tr>\n",
              "    <tr>\n",
              "      <th>vent_pui</th>\n",
              "      <td>0.246536</td>\n",
              "      <td>0.293210</td>\n",
              "      <td>0.084821</td>\n",
              "      <td>0.298532</td>\n",
              "      <td>0.352052</td>\n",
              "      <td>0.392173</td>\n",
              "      <td>-0.034997</td>\n",
              "      <td>0.320407</td>\n",
              "      <td>1.000000</td>\n",
              "      <td>-0.112590</td>\n",
              "    </tr>\n",
              "    <tr>\n",
              "      <th>vent_noncovid</th>\n",
              "      <td>0.495218</td>\n",
              "      <td>0.215005</td>\n",
              "      <td>0.660859</td>\n",
              "      <td>0.099029</td>\n",
              "      <td>0.067504</td>\n",
              "      <td>0.010719</td>\n",
              "      <td>0.754008</td>\n",
              "      <td>0.074672</td>\n",
              "      <td>-0.112590</td>\n",
              "      <td>1.000000</td>\n",
              "    </tr>\n",
              "  </tbody>\n",
              "</table>\n",
              "</div>\n",
              "      <button class=\"colab-df-convert\" onclick=\"convertToInteractive('df-abc85562-f955-4452-8171-b64cef7b6142')\"\n",
              "              title=\"Convert this dataframe to an interactive table.\"\n",
              "              style=\"display:none;\">\n",
              "        \n",
              "  <svg xmlns=\"http://www.w3.org/2000/svg\" height=\"24px\"viewBox=\"0 0 24 24\"\n",
              "       width=\"24px\">\n",
              "    <path d=\"M0 0h24v24H0V0z\" fill=\"none\"/>\n",
              "    <path d=\"M18.56 5.44l.94 2.06.94-2.06 2.06-.94-2.06-.94-.94-2.06-.94 2.06-2.06.94zm-11 1L8.5 8.5l.94-2.06 2.06-.94-2.06-.94L8.5 2.5l-.94 2.06-2.06.94zm10 10l.94 2.06.94-2.06 2.06-.94-2.06-.94-.94-2.06-.94 2.06-2.06.94z\"/><path d=\"M17.41 7.96l-1.37-1.37c-.4-.4-.92-.59-1.43-.59-.52 0-1.04.2-1.43.59L10.3 9.45l-7.72 7.72c-.78.78-.78 2.05 0 2.83L4 21.41c.39.39.9.59 1.41.59.51 0 1.02-.2 1.41-.59l7.78-7.78 2.81-2.81c.8-.78.8-2.07 0-2.86zM5.41 20L4 18.59l7.72-7.72 1.47 1.35L5.41 20z\"/>\n",
              "  </svg>\n",
              "      </button>\n",
              "      \n",
              "  <style>\n",
              "    .colab-df-container {\n",
              "      display:flex;\n",
              "      flex-wrap:wrap;\n",
              "      gap: 12px;\n",
              "    }\n",
              "\n",
              "    .colab-df-convert {\n",
              "      background-color: #E8F0FE;\n",
              "      border: none;\n",
              "      border-radius: 50%;\n",
              "      cursor: pointer;\n",
              "      display: none;\n",
              "      fill: #1967D2;\n",
              "      height: 32px;\n",
              "      padding: 0 0 0 0;\n",
              "      width: 32px;\n",
              "    }\n",
              "\n",
              "    .colab-df-convert:hover {\n",
              "      background-color: #E2EBFA;\n",
              "      box-shadow: 0px 1px 2px rgba(60, 64, 67, 0.3), 0px 1px 3px 1px rgba(60, 64, 67, 0.15);\n",
              "      fill: #174EA6;\n",
              "    }\n",
              "\n",
              "    [theme=dark] .colab-df-convert {\n",
              "      background-color: #3B4455;\n",
              "      fill: #D2E3FC;\n",
              "    }\n",
              "\n",
              "    [theme=dark] .colab-df-convert:hover {\n",
              "      background-color: #434B5C;\n",
              "      box-shadow: 0px 1px 3px 1px rgba(0, 0, 0, 0.15);\n",
              "      filter: drop-shadow(0px 1px 2px rgba(0, 0, 0, 0.3));\n",
              "      fill: #FFFFFF;\n",
              "    }\n",
              "  </style>\n",
              "\n",
              "      <script>\n",
              "        const buttonEl =\n",
              "          document.querySelector('#df-abc85562-f955-4452-8171-b64cef7b6142 button.colab-df-convert');\n",
              "        buttonEl.style.display =\n",
              "          google.colab.kernel.accessAllowed ? 'block' : 'none';\n",
              "\n",
              "        async function convertToInteractive(key) {\n",
              "          const element = document.querySelector('#df-abc85562-f955-4452-8171-b64cef7b6142');\n",
              "          const dataTable =\n",
              "            await google.colab.kernel.invokeFunction('convertToInteractive',\n",
              "                                                     [key], {});\n",
              "          if (!dataTable) return;\n",
              "\n",
              "          const docLinkHtml = 'Like what you see? Visit the ' +\n",
              "            '<a target=\"_blank\" href=https://colab.research.google.com/notebooks/data_table.ipynb>data table notebook</a>'\n",
              "            + ' to learn more about interactive tables.';\n",
              "          element.innerHTML = '';\n",
              "          dataTable['output_type'] = 'display_data';\n",
              "          await google.colab.output.renderOutput(dataTable, element);\n",
              "          const docLink = document.createElement('div');\n",
              "          docLink.innerHTML = docLinkHtml;\n",
              "          element.appendChild(docLink);\n",
              "        }\n",
              "      </script>\n",
              "    </div>\n",
              "  </div>\n",
              "  "
            ]
          },
          "metadata": {},
          "execution_count": 67
        },
        {
          "output_type": "display_data",
          "data": {
            "text/plain": [
              "<Figure size 720x360 with 2 Axes>"
            ],
            "image/png": "[encoded data removed]"
          },
          "metadata": {
            "needs_background": "light"
          }
        }
      ],
      "source": [
        "plt.figure(figsize=(10,5))\n",
        "c= num_data.corr()\n",
        "sns.heatmap(c,cmap=\"BrBG\",annot=True)\n",
        "c"
      ]
    },
    {
      "cell_type": "markdown",
      "source": [
        "Ventilator is a machine that helps lungs to work. Covid patients who have difficulties breathing with a critical condition will be placed inside the ICU and some of them require a ventilator to breathe normally. As we know, Covid-19 attacks the lungs. Thus, we build a heatmap to see if there is any strong correlation between the numerical value of the ICU and ventilator used."
      ],
      "metadata": {
        "id": "2m7ZJi4whHGm"
      }
    },
    {
      "cell_type": "markdown",
      "source": [
        "**Ans3:** The highest correlation recorded here is 0.97 which is vent_covid vs icu_covid. Thus, we can conclude that covid patients who stay in the ICU are someone who are truly in a critical condition hence, using the ventilator will help them to breath."
      ],
      "metadata": {
        "id": "ALkTgbxniVum"
      }
    },
    {
      "cell_type": "markdown",
      "metadata": {
        "id": "p4CcVO1TVJJ-"
      },
      "source": [
        "#### Q4: List out the percentage of covid-19 patients in ICU every year"
      ]
    },
    {
      "cell_type": "code",
      "source": [
        "patients = data.groupby(by=\"year\")[\"icu_covid\"].sum()\n",
        "patients\n",
        "\n",
        "plt.title('Percentages of covid-19 patients in ICU')\n",
        "patients.plot.pie(autopct=\"%.1f%%\")"
      ],
      "metadata": {
        "colab": {
          "base_uri": "https://localhost:8080/",
          "height": 340
        },
        "id": "CNxpErHnvvYf",
        "outputId": "cb35b54c-2b62-44e7-e196-b00b62f10290"
      },
      "execution_count": null,
      "outputs": [
        {
          "output_type": "execute_result",
          "data": {
            "text/plain": [
              "<matplotlib.axes._subplots.AxesSubplot at 0x7f6576e46460>"
            ]
          },
          "metadata": {},
          "execution_count": 68
        },
        {
          "output_type": "display_data",
          "data": {
            "text/plain": [
              "<Figure size 648x360 with 1 Axes>"
            ],
            "image/png": "[encoded data removed]"
          },
          "metadata": {}
        }
      ]
    },
    {
      "cell_type": "code",
      "source": [
        "patients"
      ],
      "metadata": {
        "colab": {
          "base_uri": "https://localhost:8080/"
        },
        "id": "mvCvOUcUx9Qs",
        "outputId": "cffa2799-9005-46b2-8341-078686cd4348"
      },
      "execution_count": null,
      "outputs": [
        {
          "output_type": "execute_result",
          "data": {
            "text/plain": [
              "year\n",
              "2020     14736\n",
              "2021    263646\n",
              "2022     40667\n",
              "Name: icu_covid, dtype: int64"
            ]
          },
          "metadata": {},
          "execution_count": 69
        }
      ]
    },
    {
      "cell_type": "markdown",
      "source": [
        "In the year 2021, it has the largest patients in ICU. Meanwhile, 2022 only has 12.7% which is significantly less then the previous year. In 2020, the disease had just began to spread and rise hence the low in percentage."
      ],
      "metadata": {
        "id": "SEOdZt9IIcYh"
      }
    },
    {
      "cell_type": "markdown",
      "metadata": {
        "id": "uFuZBqX1VJJ_"
      },
      "source": [
        "#### Q5: List the values for Sabah"
      ]
    },
    {
      "cell_type": "code",
      "execution_count": null,
      "metadata": {
        "id": "0XCOkgIHVJJ_",
        "colab": {
          "base_uri": "https://localhost:8080/",
          "height": 617
        },
        "outputId": "75e8cfcf-ff42-4f60-a387-006fbb2f1d3b"
      },
      "outputs": [
        {
          "output_type": "stream",
          "name": "stderr",
          "text": [
            "<ipython-input-70-ec98ceb7b470>:1: FutureWarning: Indexing with multiple keys (implicitly converted to a tuple of keys) will be deprecated, use a list instead.\n",
            "  sabah_covid = pd.DataFrame(data.groupby(\"state\")['beds_icu_covid','icu_covid','vent_covid'].sum() )\n"
          ]
        },
        {
          "output_type": "execute_result",
          "data": {
            "text/plain": [
              "                   beds_icu_covid  icu_covid  vent_covid\n",
              "state                                                   \n",
              "Johor                       54426      29397       21246\n",
              "Kedah                       54145      22664       10144\n",
              "Kelantan                    41133      16150        8824\n",
              "Melaka                      28742      14460        4843\n",
              "Negeri Sembilan             31026      12204        7753\n",
              "Pahang                      46765      10137        6195\n",
              "Perak                       49555      20166       12280\n",
              "Perlis                       8094       1698         795\n",
              "Pulau Pinang                28693      15975        8944\n",
              "Sabah                      107516      39196       14048\n",
              "Sarawak                     69742      25619       10184\n",
              "Selangor                   110251      72372       42340\n",
              "Terengganu                  19149       6594        4685\n",
              "W.P. Kuala Lumpur           47237      28521       18435\n",
              "W.P. Labuan                  6052       1402         845\n",
              "W.P. Putrajaya               4282       2494        2058"
            ],
            "text/html": [
              "\n",
              "  <div id=\"df-11af37e5-ec90-4738-ace1-d3eb0f5e113f\">\n",
              "    <div class=\"colab-df-container\">\n",
              "      <div>\n",
              "<style scoped>\n",
              "    .dataframe tbody tr th:only-of-type {\n",
              "        vertical-align: middle;\n",
              "    }\n",
              "\n",
              "    .dataframe tbody tr th {\n",
              "        vertical-align: top;\n",
              "    }\n",
              "\n",
              "    .dataframe thead th {\n",
              "        text-align: right;\n",
              "    }\n",
              "</style>\n",
              "<table border=\"1\" class=\"dataframe\">\n",
              "  <thead>\n",
              "    <tr style=\"text-align: right;\">\n",
              "      <th></th>\n",
              "      <th>beds_icu_covid</th>\n",
              "      <th>icu_covid</th>\n",
              "      <th>vent_covid</th>\n",
              "    </tr>\n",
              "    <tr>\n",
              "      <th>state</th>\n",
              "      <th></th>\n",
              "      <th></th>\n",
              "      <th></th>\n",
              "    </tr>\n",
              "  </thead>\n",
              "  <tbody>\n",
              "    <tr>\n",
              "      <th>Johor</th>\n",
              "      <td>54426</td>\n",
              "      <td>29397</td>\n",
              "      <td>21246</td>\n",
              "    </tr>\n",
              "    <tr>\n",
              "      <th>Kedah</th>\n",
              "      <td>54145</td>\n",
              "      <td>22664</td>\n",
              "      <td>10144</td>\n",
              "    </tr>\n",
              "    <tr>\n",
              "      <th>Kelantan</th>\n",
              "      <td>41133</td>\n",
              "      <td>16150</td>\n",
              "      <td>8824</td>\n",
              "    </tr>\n",
              "    <tr>\n",
              "      <th>Melaka</th>\n",
              "      <td>28742</td>\n",
              "      <td>14460</td>\n",
              "      <td>4843</td>\n",
              "    </tr>\n",
              "    <tr>\n",
              "      <th>Negeri Sembilan</th>\n",
              "      <td>31026</td>\n",
              "      <td>12204</td>\n",
              "      <td>7753</td>\n",
              "    </tr>\n",
              "    <tr>\n",
              "      <th>Pahang</th>\n",
              "      <td>46765</td>\n",
              "      <td>10137</td>\n",
              "      <td>6195</td>\n",
              "    </tr>\n",
              "    <tr>\n",
              "      <th>Perak</th>\n",
              "      <td>49555</td>\n",
              "      <td>20166</td>\n",
              "      <td>12280</td>\n",
              "    </tr>\n",
              "    <tr>\n",
              "      <th>Perlis</th>\n",
              "      <td>8094</td>\n",
              "      <td>1698</td>\n",
              "      <td>795</td>\n",
              "    </tr>\n",
              "    <tr>\n",
              "      <th>Pulau Pinang</th>\n",
              "      <td>28693</td>\n",
              "      <td>15975</td>\n",
              "      <td>8944</td>\n",
              "    </tr>\n",
              "    <tr>\n",
              "      <th>Sabah</th>\n",
              "      <td>107516</td>\n",
              "      <td>39196</td>\n",
              "      <td>14048</td>\n",
              "    </tr>\n",
              "    <tr>\n",
              "      <th>Sarawak</th>\n",
              "      <td>69742</td>\n",
              "      <td>25619</td>\n",
              "      <td>10184</td>\n",
              "    </tr>\n",
              "    <tr>\n",
              "      <th>Selangor</th>\n",
              "      <td>110251</td>\n",
              "      <td>72372</td>\n",
              "      <td>42340</td>\n",
              "    </tr>\n",
              "    <tr>\n",
              "      <th>Terengganu</th>\n",
              "      <td>19149</td>\n",
              "      <td>6594</td>\n",
              "      <td>4685</td>\n",
              "    </tr>\n",
              "    <tr>\n",
              "      <th>W.P. Kuala Lumpur</th>\n",
              "      <td>47237</td>\n",
              "      <td>28521</td>\n",
              "      <td>18435</td>\n",
              "    </tr>\n",
              "    <tr>\n",
              "      <th>W.P. Labuan</th>\n",
              "      <td>6052</td>\n",
              "      <td>1402</td>\n",
              "      <td>845</td>\n",
              "    </tr>\n",
              "    <tr>\n",
              "      <th>W.P. Putrajaya</th>\n",
              "      <td>4282</td>\n",
              "      <td>2494</td>\n",
              "      <td>2058</td>\n",
              "    </tr>\n",
              "  </tbody>\n",
              "</table>\n",
              "</div>\n",
              "      <button class=\"colab-df-convert\" onclick=\"convertToInteractive('df-11af37e5-ec90-4738-ace1-d3eb0f5e113f')\"\n",
              "              title=\"Convert this dataframe to an interactive table.\"\n",
              "              style=\"display:none;\">\n",
              "        \n",
              "  <svg xmlns=\"http://www.w3.org/2000/svg\" height=\"24px\"viewBox=\"0 0 24 24\"\n",
              "       width=\"24px\">\n",
              "    <path d=\"M0 0h24v24H0V0z\" fill=\"none\"/>\n",
              "    <path d=\"M18.56 5.44l.94 2.06.94-2.06 2.06-.94-2.06-.94-.94-2.06-.94 2.06-2.06.94zm-11 1L8.5 8.5l.94-2.06 2.06-.94-2.06-.94L8.5 2.5l-.94 2.06-2.06.94zm10 10l.94 2.06.94-2.06 2.06-.94-2.06-.94-.94-2.06-.94 2.06-2.06.94z\"/><path d=\"M17.41 7.96l-1.37-1.37c-.4-.4-.92-.59-1.43-.59-.52 0-1.04.2-1.43.59L10.3 9.45l-7.72 7.72c-.78.78-.78 2.05 0 2.83L4 21.41c.39.39.9.59 1.41.59.51 0 1.02-.2 1.41-.59l7.78-7.78 2.81-2.81c.8-.78.8-2.07 0-2.86zM5.41 20L4 18.59l7.72-7.72 1.47 1.35L5.41 20z\"/>\n",
              "  </svg>\n",
              "      </button>\n",
              "      \n",
              "  <style>\n",
              "    .colab-df-container {\n",
              "      display:flex;\n",
              "      flex-wrap:wrap;\n",
              "      gap: 12px;\n",
              "    }\n",
              "\n",
              "    .colab-df-convert {\n",
              "      background-color: #E8F0FE;\n",
              "      border: none;\n",
              "      border-radius: 50%;\n",
              "      cursor: pointer;\n",
              "      display: none;\n",
              "      fill: #1967D2;\n",
              "      height: 32px;\n",
              "      padding: 0 0 0 0;\n",
              "      width: 32px;\n",
              "    }\n",
              "\n",
              "    .colab-df-convert:hover {\n",
              "      background-color: #E2EBFA;\n",
              "      box-shadow: 0px 1px 2px rgba(60, 64, 67, 0.3), 0px 1px 3px 1px rgba(60, 64, 67, 0.15);\n",
              "      fill: #174EA6;\n",
              "    }\n",
              "\n",
              "    [theme=dark] .colab-df-convert {\n",
              "      background-color: #3B4455;\n",
              "      fill: #D2E3FC;\n",
              "    }\n",
              "\n",
              "    [theme=dark] .colab-df-convert:hover {\n",
              "      background-color: #434B5C;\n",
              "      box-shadow: 0px 1px 3px 1px rgba(0, 0, 0, 0.15);\n",
              "      filter: drop-shadow(0px 1px 2px rgba(0, 0, 0, 0.3));\n",
              "      fill: #FFFFFF;\n",
              "    }\n",
              "  </style>\n",
              "\n",
              "      <script>\n",
              "        const buttonEl =\n",
              "          document.querySelector('#df-11af37e5-ec90-4738-ace1-d3eb0f5e113f button.colab-df-convert');\n",
              "        buttonEl.style.display =\n",
              "          google.colab.kernel.accessAllowed ? 'block' : 'none';\n",
              "\n",
              "        async function convertToInteractive(key) {\n",
              "          const element = document.querySelector('#df-11af37e5-ec90-4738-ace1-d3eb0f5e113f');\n",
              "          const dataTable =\n",
              "            await google.colab.kernel.invokeFunction('convertToInteractive',\n",
              "                                                     [key], {});\n",
              "          if (!dataTable) return;\n",
              "\n",
              "          const docLinkHtml = 'Like what you see? Visit the ' +\n",
              "            '<a target=\"_blank\" href=https://colab.research.google.com/notebooks/data_table.ipynb>data table notebook</a>'\n",
              "            + ' to learn more about interactive tables.';\n",
              "          element.innerHTML = '';\n",
              "          dataTable['output_type'] = 'display_data';\n",
              "          await google.colab.output.renderOutput(dataTable, element);\n",
              "          const docLink = document.createElement('div');\n",
              "          docLink.innerHTML = docLinkHtml;\n",
              "          element.appendChild(docLink);\n",
              "        }\n",
              "      </script>\n",
              "    </div>\n",
              "  </div>\n",
              "  "
            ]
          },
          "metadata": {},
          "execution_count": 70
        }
      ],
      "source": [
        "sabah_covid = pd.DataFrame(data.groupby(\"state\")['beds_icu_covid','icu_covid','vent_covid'].sum() )\n",
        "sabah_covid \n"
      ]
    },
    {
      "cell_type": "markdown",
      "source": [
        "To filter the dataset for Sabah, click on the interactive table and filter the State to Sabah. All the values will be displayed in the output box. "
      ],
      "metadata": {
        "id": "oK9HxWvlA5fy"
      }
    },
    {
      "cell_type": "markdown",
      "metadata": {
        "id": "VxoO755tVJJ_"
      },
      "source": [
        "## Inferences and Conclusion\n",
        "\n"
      ]
    },
    {
      "cell_type": "markdown",
      "source": [
        "Based on the previous analysis, it is known that Selangor takes the highest spot on treating covid-19 patients because it has the most ventilators and icu beds allocated for them. Along the years, Selangor had an increasing trend where patients of covid-19 increases every year. \n",
        "\n",
        "2020-06-01 \n",
        "During this date, it has the least amount of ventilators used. This could be becuse the covid-19 disease had just started to spread and the patients is among the earliest to catch the disease.       \n",
        "\n",
        "We can also observe in 2021, it has the highest percentage of covid-19 patients cumulative with all states. Then 2022 the percentage decrease drasctically. It is best to assume the effectiveness of the vaccines that was mandatory then.  "
      ],
      "metadata": {
        "id": "HOKnbcT0Dupi"
      }
    },
    {
      "cell_type": "markdown",
      "source": [
        "Based on the analysis, it is known that Perlis has the least amount of ventilation for COVID-19 patientsThis is due to the amount of residence in Perlis which is small compared to other states.\n",
        "\n",
        "It is also noticeably shown that Perlis is among the top of the states with the least amount ICU for COVID-19 patients.\n",
        "\n",
        "In opposition. Selangor takes place with the highest amount of ICU and ventilation for COVID-19 patients. This could be resulted by the incredibaly large amount of people getting positive covid in that state."
      ],
      "metadata": {
        "id": "ziBOagfNuKr2"
      }
    },
    {
      "cell_type": "markdown",
      "metadata": {
        "id": "xfuc6sJgVJKA"
      },
      "source": [
        "## References and Future Work\n",
        "\n"
      ]
    },
    {
      "cell_type": "markdown",
      "source": [
        "https://stephenallwright.com/pandas-groupby-sum-another-column/\n",
        "\n",
        "https://realpython.com/\n",
        "\n",
        "https://github.com/MoH-Malaysia/covid19-public\n",
        "\n",
        "https://cmdlinetips.com/"
      ],
      "metadata": {
        "id": "3ZA63Z1kL5ra"
      }
    }
  ],
  "metadata": {
    "kernelspec": {
      "display_name": "Python 3",
      "language": "python",
      "name": "python3"
    },
    "language_info": {
      "codemirror_mode": {
        "name": "ipython",
        "version": 3
      },
      "file_extension": ".py",
      "mimetype": "text/x-python",
      "name": "python",
      "nbconvert_exporter": "python",
      "pygments_lexer": "ipython3",
      "version": "3.8.5"
    },
    "colab": {
      "provenance": [],
      "include_colab_link": true
    }
  },
  "nbformat": 4,
  "nbformat_minor": 0
}
