{
  "cells": [
    {
      "cell_type": "markdown",
      "metadata": {
        "id": "view-in-github",
        "colab_type": "text"
      },
      "source": [
        "<a href=\"https://colab.research.google.com/github/drshahizan/Python_EDA/blob/main/Malaysia%20EDA/SQ/Number_and_Rate_Incidents_of_Communicable_Disease_by_State.ipynb\" target=\"_parent\"><img src=\"https://colab.research.google.com/assets/colab-badge.svg\" alt=\"Open In Colab\"/></a>"
      ]
    },
    {
      "cell_type": "markdown",
      "metadata": {
        "id": "7F8DQl5dVJJ0"
      },
      "source": [
        "# **Number of Cases and Incidents Rate of Communicable Disease by State** \n",
        "\n",
        "For this assignment, Syamalia and I agreed to use the dataset called **'Number of Cases and Incidents Rate of Communicable Disease by State'** retrieved from Malaysia's Department of Statistics. \n",
        "\n",
        "\n",
        "Communicable diseases are illnesses that can be passed from one person to another, from an animal to another, from a surface or food, or from one person to another. The Ministry of Health's (MoH) objective is to raise the standard and reliability of medical care. As a result, they will always provide current data for observation. This dataset on the number of cases and incidents of infectious diseases by state would undoubtedly be useful for tracking the most recent cases of communicable diseases in Malaysia.\n",
        "\n",
        "This dataset have 2384 records and 5 columns which contains:\n",
        "\n",
        "   - **Year** : Indicates the year of incident rate of communicable disease in Malaysia\n",
        "   - **State** : Represents the state where the communicable disease took place\n",
        "   - **Communicable Disease** : Displays the name of communicable disease\n",
        "   - **Number** : Displays how frequent the communicable disease is found in patients throughout the state and year\n",
        "   - **Rate** : Calculates the incident rate of communicable disease"
      ]
    },
    {
      "cell_type": "markdown",
      "metadata": {
        "id": "LxWzVndBVJJ1"
      },
      "source": [
        "## Downloading the Dataset\n",
        "\n",
        "Below are the steps of retrieving the dataset:\n",
        "\n",
        "1. The dataset of **'Number of Cases and Incidents Rate of Communicable Disease by State'** can be downloaded from the [Department of Statistics Malaysia](https://www.dosm.gov.my/v1/index.php?r=column/cone&menu_id=dC9JU2RhZk9HNmxQS3hTOStuMVVLdz09) under the **Population & Demography** category.\n",
        "\n",
        "2. The following excel sheet (.xlsx) is then converted to a comma delimited (.csv) file type.\n",
        "\n",
        "3. We have uploaded the dataset onto a public github repository. The github dataset can be accessed [here](https://raw.githubusercontent.com/nursyamalia/dataset/main/Number_of_cases_and_incidence_rate_of_communicable_disease_by_state_Malaysia_2013-2018.csv)."
      ]
    },
    {
      "cell_type": "code",
      "execution_count": null,
      "metadata": {
        "id": "_s6ZSPWYVJJ2"
      },
      "outputs": [],
      "source": [
        "#Importing libraries \n",
        "import pandas as pd\n",
        "import numpy as np"
      ]
    },
    {
      "cell_type": "markdown",
      "source": [
        "# **Downloading the Data**\n",
        "\n"
      ],
      "metadata": {
        "id": "w5ynsiZgGey6"
      }
    },
    {
      "cell_type": "markdown",
      "metadata": {
        "id": "XXnPmr-JVJJ3"
      },
      "source": [
        "The dataset has been downloaded and extracted."
      ]
    },
    {
      "cell_type": "code",
      "execution_count": null,
      "metadata": {
        "id": "90nIoWQtVJJ3",
        "outputId": "28729c4e-4ab0-482f-dcba-7c631196cdf1",
        "colab": {
          "base_uri": "https://localhost:8080/",
          "height": 423
        }
      },
      "outputs": [
        {
          "output_type": "execute_result",
          "data": {
            "text/plain": [
              "      Year        State      Communicable diseases Number    Rate\n",
              "0     2013        Johor                    Cholera    NaN     NaN\n",
              "1     2013        Johor               Dengue fever   4750   136.6\n",
              "2     2013        Johor  Dengue haemorrhagic fever     78    2.24\n",
              "3     2013        Johor                  Dysentry       1    0.03\n",
              "4     2013        Johor             Food poisoning   1447   41.61\n",
              "...    ...          ...                        ...    ...     ...\n",
              "2379  2016  W.P. Labuan                  Syphillis      7    7.16\n",
              "2380  2016  W.P. Labuan               Tuberculosis    133  135.99\n",
              "2381  2016  W.P. Labuan                    Typhoid      4    4.09\n",
              "2382  2016  W.P. Labuan                     Typhus      -       -\n",
              "2383  2016  W.P. Labuan         Viral encephalitis      -       -\n",
              "\n",
              "[2384 rows x 5 columns]"
            ],
            "text/html": [
              "\n",
              "  <div id=\"df-06a3b970-85ff-4076-8749-52a6bb66ecf2\">\n",
              "    <div class=\"colab-df-container\">\n",
              "      <div>\n",
              "<style scoped>\n",
              "    .dataframe tbody tr th:only-of-type {\n",
              "        vertical-align: middle;\n",
              "    }\n",
              "\n",
              "    .dataframe tbody tr th {\n",
              "        vertical-align: top;\n",
              "    }\n",
              "\n",
              "    .dataframe thead th {\n",
              "        text-align: right;\n",
              "    }\n",
              "</style>\n",
              "<table border=\"1\" class=\"dataframe\">\n",
              "  <thead>\n",
              "    <tr style=\"text-align: right;\">\n",
              "      <th></th>\n",
              "      <th>Year</th>\n",
              "      <th>State</th>\n",
              "      <th>Communicable diseases</th>\n",
              "      <th>Number</th>\n",
              "      <th>Rate</th>\n",
              "    </tr>\n",
              "  </thead>\n",
              "  <tbody>\n",
              "    <tr>\n",
              "      <th>0</th>\n",
              "      <td>2013</td>\n",
              "      <td>Johor</td>\n",
              "      <td>Cholera</td>\n",
              "      <td>NaN</td>\n",
              "      <td>NaN</td>\n",
              "    </tr>\n",
              "    <tr>\n",
              "      <th>1</th>\n",
              "      <td>2013</td>\n",
              "      <td>Johor</td>\n",
              "      <td>Dengue fever</td>\n",
              "      <td>4750</td>\n",
              "      <td>136.6</td>\n",
              "    </tr>\n",
              "    <tr>\n",
              "      <th>2</th>\n",
              "      <td>2013</td>\n",
              "      <td>Johor</td>\n",
              "      <td>Dengue haemorrhagic fever</td>\n",
              "      <td>78</td>\n",
              "      <td>2.24</td>\n",
              "    </tr>\n",
              "    <tr>\n",
              "      <th>3</th>\n",
              "      <td>2013</td>\n",
              "      <td>Johor</td>\n",
              "      <td>Dysentry</td>\n",
              "      <td>1</td>\n",
              "      <td>0.03</td>\n",
              "    </tr>\n",
              "    <tr>\n",
              "      <th>4</th>\n",
              "      <td>2013</td>\n",
              "      <td>Johor</td>\n",
              "      <td>Food poisoning</td>\n",
              "      <td>1447</td>\n",
              "      <td>41.61</td>\n",
              "    </tr>\n",
              "    <tr>\n",
              "      <th>...</th>\n",
              "      <td>...</td>\n",
              "      <td>...</td>\n",
              "      <td>...</td>\n",
              "      <td>...</td>\n",
              "      <td>...</td>\n",
              "    </tr>\n",
              "    <tr>\n",
              "      <th>2379</th>\n",
              "      <td>2016</td>\n",
              "      <td>W.P. Labuan</td>\n",
              "      <td>Syphillis</td>\n",
              "      <td>7</td>\n",
              "      <td>7.16</td>\n",
              "    </tr>\n",
              "    <tr>\n",
              "      <th>2380</th>\n",
              "      <td>2016</td>\n",
              "      <td>W.P. Labuan</td>\n",
              "      <td>Tuberculosis</td>\n",
              "      <td>133</td>\n",
              "      <td>135.99</td>\n",
              "    </tr>\n",
              "    <tr>\n",
              "      <th>2381</th>\n",
              "      <td>2016</td>\n",
              "      <td>W.P. Labuan</td>\n",
              "      <td>Typhoid</td>\n",
              "      <td>4</td>\n",
              "      <td>4.09</td>\n",
              "    </tr>\n",
              "    <tr>\n",
              "      <th>2382</th>\n",
              "      <td>2016</td>\n",
              "      <td>W.P. Labuan</td>\n",
              "      <td>Typhus</td>\n",
              "      <td>-</td>\n",
              "      <td>-</td>\n",
              "    </tr>\n",
              "    <tr>\n",
              "      <th>2383</th>\n",
              "      <td>2016</td>\n",
              "      <td>W.P. Labuan</td>\n",
              "      <td>Viral encephalitis</td>\n",
              "      <td>-</td>\n",
              "      <td>-</td>\n",
              "    </tr>\n",
              "  </tbody>\n",
              "</table>\n",
              "<p>2384 rows × 5 columns</p>\n",
              "</div>\n",
              "      <button class=\"colab-df-convert\" onclick=\"convertToInteractive('df-06a3b970-85ff-4076-8749-52a6bb66ecf2')\"\n",
              "              title=\"Convert this dataframe to an interactive table.\"\n",
              "              style=\"display:none;\">\n",
              "        \n",
              "  <svg xmlns=\"http://www.w3.org/2000/svg\" height=\"24px\"viewBox=\"0 0 24 24\"\n",
              "       width=\"24px\">\n",
              "    <path d=\"M0 0h24v24H0V0z\" fill=\"none\"/>\n",
              "    <path d=\"M18.56 5.44l.94 2.06.94-2.06 2.06-.94-2.06-.94-.94-2.06-.94 2.06-2.06.94zm-11 1L8.5 8.5l.94-2.06 2.06-.94-2.06-.94L8.5 2.5l-.94 2.06-2.06.94zm10 10l.94 2.06.94-2.06 2.06-.94-2.06-.94-.94-2.06-.94 2.06-2.06.94z\"/><path d=\"M17.41 7.96l-1.37-1.37c-.4-.4-.92-.59-1.43-.59-.52 0-1.04.2-1.43.59L10.3 9.45l-7.72 7.72c-.78.78-.78 2.05 0 2.83L4 21.41c.39.39.9.59 1.41.59.51 0 1.02-.2 1.41-.59l7.78-7.78 2.81-2.81c.8-.78.8-2.07 0-2.86zM5.41 20L4 18.59l7.72-7.72 1.47 1.35L5.41 20z\"/>\n",
              "  </svg>\n",
              "      </button>\n",
              "      \n",
              "  <style>\n",
              "    .colab-df-container {\n",
              "      display:flex;\n",
              "      flex-wrap:wrap;\n",
              "      gap: 12px;\n",
              "    }\n",
              "\n",
              "    .colab-df-convert {\n",
              "      background-color: #E8F0FE;\n",
              "      border: none;\n",
              "      border-radius: 50%;\n",
              "      cursor: pointer;\n",
              "      display: none;\n",
              "      fill: #1967D2;\n",
              "      height: 32px;\n",
              "      padding: 0 0 0 0;\n",
              "      width: 32px;\n",
              "    }\n",
              "\n",
              "    .colab-df-convert:hover {\n",
              "      background-color: #E2EBFA;\n",
              "      box-shadow: 0px 1px 2px rgba(60, 64, 67, 0.3), 0px 1px 3px 1px rgba(60, 64, 67, 0.15);\n",
              "      fill: #174EA6;\n",
              "    }\n",
              "\n",
              "    [theme=dark] .colab-df-convert {\n",
              "      background-color: #3B4455;\n",
              "      fill: #D2E3FC;\n",
              "    }\n",
              "\n",
              "    [theme=dark] .colab-df-convert:hover {\n",
              "      background-color: #434B5C;\n",
              "      box-shadow: 0px 1px 3px 1px rgba(0, 0, 0, 0.15);\n",
              "      filter: drop-shadow(0px 1px 2px rgba(0, 0, 0, 0.3));\n",
              "      fill: #FFFFFF;\n",
              "    }\n",
              "  </style>\n",
              "\n",
              "      <script>\n",
              "        const buttonEl =\n",
              "          document.querySelector('#df-06a3b970-85ff-4076-8749-52a6bb66ecf2 button.colab-df-convert');\n",
              "        buttonEl.style.display =\n",
              "          google.colab.kernel.accessAllowed ? 'block' : 'none';\n",
              "\n",
              "        async function convertToInteractive(key) {\n",
              "          const element = document.querySelector('#df-06a3b970-85ff-4076-8749-52a6bb66ecf2');\n",
              "          const dataTable =\n",
              "            await google.colab.kernel.invokeFunction('convertToInteractive',\n",
              "                                                     [key], {});\n",
              "          if (!dataTable) return;\n",
              "\n",
              "          const docLinkHtml = 'Like what you see? Visit the ' +\n",
              "            '<a target=\"_blank\" href=https://colab.research.google.com/notebooks/data_table.ipynb>data table notebook</a>'\n",
              "            + ' to learn more about interactive tables.';\n",
              "          element.innerHTML = '';\n",
              "          dataTable['output_type'] = 'display_data';\n",
              "          await google.colab.output.renderOutput(dataTable, element);\n",
              "          const docLink = document.createElement('div');\n",
              "          docLink.innerHTML = docLinkHtml;\n",
              "          element.appendChild(docLink);\n",
              "        }\n",
              "      </script>\n",
              "    </div>\n",
              "  </div>\n",
              "  "
            ]
          },
          "metadata": {},
          "execution_count": 2
        }
      ],
      "source": [
        "#Loading data from a cvs file\n",
        "data = pd.read_csv('https://raw.githubusercontent.com/nursyamalia/dataset/main/Number_of_cases_and_incidence_rate_of_communicable_disease_by_state_Malaysia_2013-2018.csv')\n",
        "\n",
        "#Print entire dataset\n",
        "data "
      ]
    },
    {
      "cell_type": "markdown",
      "metadata": {
        "id": "u0vucnGFVJJ5"
      },
      "source": [
        "## Data Preparation and Cleaning\n",
        "\n",
        "Data cleaning and preparation is the process of correcting or eradicating inaccurate, corrupted, improperly formatted, duplicate, or insufficient data from a dataset. There are numerous potential for data duplication or labelling errors when merging various data sources.\n",
        "\n"
      ]
    },
    {
      "cell_type": "code",
      "execution_count": null,
      "metadata": {
        "id": "df5R-2s3VJJ5",
        "colab": {
          "base_uri": "https://localhost:8080/",
          "height": 423
        },
        "outputId": "2c2f471a-dbfc-4f68-e3ea-ff1efa0e4f70"
      },
      "outputs": [
        {
          "output_type": "execute_result",
          "data": {
            "text/plain": [
              "      Year        State      Communicable diseases Number    Rate\n",
              "0     2013        Johor                    Cholera    NaN     NaN\n",
              "1     2013        Johor               Dengue fever   4750   136.6\n",
              "2     2013        Johor  Dengue haemorrhagic fever     78    2.24\n",
              "3     2013        Johor                  Dysentry       1    0.03\n",
              "4     2013        Johor             Food poisoning   1447   41.61\n",
              "...    ...          ...                        ...    ...     ...\n",
              "2379  2016  W.P. Labuan                  Syphillis      7    7.16\n",
              "2380  2016  W.P. Labuan               Tuberculosis    133  135.99\n",
              "2381  2016  W.P. Labuan                    Typhoid      4    4.09\n",
              "2382  2016  W.P. Labuan                     Typhus      -       -\n",
              "2383  2016  W.P. Labuan         Viral encephalitis      -       -\n",
              "\n",
              "[2384 rows x 5 columns]"
            ],
            "text/html": [
              "\n",
              "  <div id=\"df-ebbb27de-aef8-45bf-a5eb-ccae40566ed9\">\n",
              "    <div class=\"colab-df-container\">\n",
              "      <div>\n",
              "<style scoped>\n",
              "    .dataframe tbody tr th:only-of-type {\n",
              "        vertical-align: middle;\n",
              "    }\n",
              "\n",
              "    .dataframe tbody tr th {\n",
              "        vertical-align: top;\n",
              "    }\n",
              "\n",
              "    .dataframe thead th {\n",
              "        text-align: right;\n",
              "    }\n",
              "</style>\n",
              "<table border=\"1\" class=\"dataframe\">\n",
              "  <thead>\n",
              "    <tr style=\"text-align: right;\">\n",
              "      <th></th>\n",
              "      <th>Year</th>\n",
              "      <th>State</th>\n",
              "      <th>Communicable diseases</th>\n",
              "      <th>Number</th>\n",
              "      <th>Rate</th>\n",
              "    </tr>\n",
              "  </thead>\n",
              "  <tbody>\n",
              "    <tr>\n",
              "      <th>0</th>\n",
              "      <td>2013</td>\n",
              "      <td>Johor</td>\n",
              "      <td>Cholera</td>\n",
              "      <td>NaN</td>\n",
              "      <td>NaN</td>\n",
              "    </tr>\n",
              "    <tr>\n",
              "      <th>1</th>\n",
              "      <td>2013</td>\n",
              "      <td>Johor</td>\n",
              "      <td>Dengue fever</td>\n",
              "      <td>4750</td>\n",
              "      <td>136.6</td>\n",
              "    </tr>\n",
              "    <tr>\n",
              "      <th>2</th>\n",
              "      <td>2013</td>\n",
              "      <td>Johor</td>\n",
              "      <td>Dengue haemorrhagic fever</td>\n",
              "      <td>78</td>\n",
              "      <td>2.24</td>\n",
              "    </tr>\n",
              "    <tr>\n",
              "      <th>3</th>\n",
              "      <td>2013</td>\n",
              "      <td>Johor</td>\n",
              "      <td>Dysentry</td>\n",
              "      <td>1</td>\n",
              "      <td>0.03</td>\n",
              "    </tr>\n",
              "    <tr>\n",
              "      <th>4</th>\n",
              "      <td>2013</td>\n",
              "      <td>Johor</td>\n",
              "      <td>Food poisoning</td>\n",
              "      <td>1447</td>\n",
              "      <td>41.61</td>\n",
              "    </tr>\n",
              "    <tr>\n",
              "      <th>...</th>\n",
              "      <td>...</td>\n",
              "      <td>...</td>\n",
              "      <td>...</td>\n",
              "      <td>...</td>\n",
              "      <td>...</td>\n",
              "    </tr>\n",
              "    <tr>\n",
              "      <th>2379</th>\n",
              "      <td>2016</td>\n",
              "      <td>W.P. Labuan</td>\n",
              "      <td>Syphillis</td>\n",
              "      <td>7</td>\n",
              "      <td>7.16</td>\n",
              "    </tr>\n",
              "    <tr>\n",
              "      <th>2380</th>\n",
              "      <td>2016</td>\n",
              "      <td>W.P. Labuan</td>\n",
              "      <td>Tuberculosis</td>\n",
              "      <td>133</td>\n",
              "      <td>135.99</td>\n",
              "    </tr>\n",
              "    <tr>\n",
              "      <th>2381</th>\n",
              "      <td>2016</td>\n",
              "      <td>W.P. Labuan</td>\n",
              "      <td>Typhoid</td>\n",
              "      <td>4</td>\n",
              "      <td>4.09</td>\n",
              "    </tr>\n",
              "    <tr>\n",
              "      <th>2382</th>\n",
              "      <td>2016</td>\n",
              "      <td>W.P. Labuan</td>\n",
              "      <td>Typhus</td>\n",
              "      <td>-</td>\n",
              "      <td>-</td>\n",
              "    </tr>\n",
              "    <tr>\n",
              "      <th>2383</th>\n",
              "      <td>2016</td>\n",
              "      <td>W.P. Labuan</td>\n",
              "      <td>Viral encephalitis</td>\n",
              "      <td>-</td>\n",
              "      <td>-</td>\n",
              "    </tr>\n",
              "  </tbody>\n",
              "</table>\n",
              "<p>2384 rows × 5 columns</p>\n",
              "</div>\n",
              "      <button class=\"colab-df-convert\" onclick=\"convertToInteractive('df-ebbb27de-aef8-45bf-a5eb-ccae40566ed9')\"\n",
              "              title=\"Convert this dataframe to an interactive table.\"\n",
              "              style=\"display:none;\">\n",
              "        \n",
              "  <svg xmlns=\"http://www.w3.org/2000/svg\" height=\"24px\"viewBox=\"0 0 24 24\"\n",
              "       width=\"24px\">\n",
              "    <path d=\"M0 0h24v24H0V0z\" fill=\"none\"/>\n",
              "    <path d=\"M18.56 5.44l.94 2.06.94-2.06 2.06-.94-2.06-.94-.94-2.06-.94 2.06-2.06.94zm-11 1L8.5 8.5l.94-2.06 2.06-.94-2.06-.94L8.5 2.5l-.94 2.06-2.06.94zm10 10l.94 2.06.94-2.06 2.06-.94-2.06-.94-.94-2.06-.94 2.06-2.06.94z\"/><path d=\"M17.41 7.96l-1.37-1.37c-.4-.4-.92-.59-1.43-.59-.52 0-1.04.2-1.43.59L10.3 9.45l-7.72 7.72c-.78.78-.78 2.05 0 2.83L4 21.41c.39.39.9.59 1.41.59.51 0 1.02-.2 1.41-.59l7.78-7.78 2.81-2.81c.8-.78.8-2.07 0-2.86zM5.41 20L4 18.59l7.72-7.72 1.47 1.35L5.41 20z\"/>\n",
              "  </svg>\n",
              "      </button>\n",
              "      \n",
              "  <style>\n",
              "    .colab-df-container {\n",
              "      display:flex;\n",
              "      flex-wrap:wrap;\n",
              "      gap: 12px;\n",
              "    }\n",
              "\n",
              "    .colab-df-convert {\n",
              "      background-color: #E8F0FE;\n",
              "      border: none;\n",
              "      border-radius: 50%;\n",
              "      cursor: pointer;\n",
              "      display: none;\n",
              "      fill: #1967D2;\n",
              "      height: 32px;\n",
              "      padding: 0 0 0 0;\n",
              "      width: 32px;\n",
              "    }\n",
              "\n",
              "    .colab-df-convert:hover {\n",
              "      background-color: #E2EBFA;\n",
              "      box-shadow: 0px 1px 2px rgba(60, 64, 67, 0.3), 0px 1px 3px 1px rgba(60, 64, 67, 0.15);\n",
              "      fill: #174EA6;\n",
              "    }\n",
              "\n",
              "    [theme=dark] .colab-df-convert {\n",
              "      background-color: #3B4455;\n",
              "      fill: #D2E3FC;\n",
              "    }\n",
              "\n",
              "    [theme=dark] .colab-df-convert:hover {\n",
              "      background-color: #434B5C;\n",
              "      box-shadow: 0px 1px 3px 1px rgba(0, 0, 0, 0.15);\n",
              "      filter: drop-shadow(0px 1px 2px rgba(0, 0, 0, 0.3));\n",
              "      fill: #FFFFFF;\n",
              "    }\n",
              "  </style>\n",
              "\n",
              "      <script>\n",
              "        const buttonEl =\n",
              "          document.querySelector('#df-ebbb27de-aef8-45bf-a5eb-ccae40566ed9 button.colab-df-convert');\n",
              "        buttonEl.style.display =\n",
              "          google.colab.kernel.accessAllowed ? 'block' : 'none';\n",
              "\n",
              "        async function convertToInteractive(key) {\n",
              "          const element = document.querySelector('#df-ebbb27de-aef8-45bf-a5eb-ccae40566ed9');\n",
              "          const dataTable =\n",
              "            await google.colab.kernel.invokeFunction('convertToInteractive',\n",
              "                                                     [key], {});\n",
              "          if (!dataTable) return;\n",
              "\n",
              "          const docLinkHtml = 'Like what you see? Visit the ' +\n",
              "            '<a target=\"_blank\" href=https://colab.research.google.com/notebooks/data_table.ipynb>data table notebook</a>'\n",
              "            + ' to learn more about interactive tables.';\n",
              "          element.innerHTML = '';\n",
              "          dataTable['output_type'] = 'display_data';\n",
              "          await google.colab.output.renderOutput(dataTable, element);\n",
              "          const docLink = document.createElement('div');\n",
              "          docLink.innerHTML = docLinkHtml;\n",
              "          element.appendChild(docLink);\n",
              "        }\n",
              "      </script>\n",
              "    </div>\n",
              "  </div>\n",
              "  "
            ]
          },
          "metadata": {},
          "execution_count": 3
        }
      ],
      "source": [
        "#load data into a DataFrame object:\n",
        "df = pd.DataFrame(data)\n",
        "df"
      ]
    },
    {
      "cell_type": "markdown",
      "source": [
        "Explore the number of rows & columns, ranges of values etc. using **.info()**"
      ],
      "metadata": {
        "id": "WbPdsLCtdFGn"
      }
    },
    {
      "cell_type": "code",
      "execution_count": null,
      "metadata": {
        "id": "KribcC_XVJJ5",
        "colab": {
          "base_uri": "https://localhost:8080/"
        },
        "outputId": "24c696e1-20b5-47fa-ec7a-bcbdf984cd29"
      },
      "outputs": [
        {
          "output_type": "stream",
          "name": "stdout",
          "text": [
            "<class 'pandas.core.frame.DataFrame'>\n",
            "RangeIndex: 2384 entries, 0 to 2383\n",
            "Data columns (total 5 columns):\n",
            " #   Column                 Non-Null Count  Dtype \n",
            "---  ------                 --------------  ----- \n",
            " 0   Year                   2384 non-null   int64 \n",
            " 1   State                  2384 non-null   object\n",
            " 2   Communicable diseases  2384 non-null   object\n",
            " 3   Number                 1960 non-null   object\n",
            " 4   Rate                   1960 non-null   object\n",
            "dtypes: int64(1), object(4)\n",
            "memory usage: 93.2+ KB\n"
          ]
        }
      ],
      "source": [
        "df.info()"
      ]
    },
    {
      "cell_type": "markdown",
      "source": [
        "Handle missing, incorrect and invalid data"
      ],
      "metadata": {
        "id": "qqhHrDBMfjex"
      }
    },
    {
      "cell_type": "code",
      "execution_count": null,
      "metadata": {
        "id": "h46ilQakVJJ6",
        "colab": {
          "base_uri": "https://localhost:8080/"
        },
        "outputId": "1eca4a40-6556-4d81-e3af-fde603fdc2b6"
      },
      "outputs": [
        {
          "output_type": "execute_result",
          "data": {
            "text/plain": [
              "Year                       0\n",
              "State                      0\n",
              "Communicable diseases      0\n",
              "Number                   424\n",
              "Rate                     424\n",
              "dtype: int64"
            ]
          },
          "metadata": {},
          "execution_count": 5
        }
      ],
      "source": [
        "# identify missing value\n",
        "df.isna().sum()"
      ]
    },
    {
      "cell_type": "code",
      "execution_count": null,
      "metadata": {
        "id": "cfcSY6YSVJJ6"
      },
      "outputs": [],
      "source": [
        "# Replace Nan to mean values and change datatypes in columns Number and Rate\n",
        "\n",
        "df['Number'] = pd.to_numeric(df['Number'],errors='coerce')\n",
        "df['Number'].fillna(int(df['Number'].mean()), inplace=True)\n",
        "df['Number'] = df['Number'].astype(int)"
      ]
    },
    {
      "cell_type": "code",
      "source": [
        "df['Rate'] = pd.to_numeric(df['Rate'],errors='coerce')\n",
        "df['Rate'].fillna(float(df['Rate'].mean()), inplace=True)"
      ],
      "metadata": {
        "id": "0QBtepNPnVgF"
      },
      "execution_count": null,
      "outputs": []
    },
    {
      "cell_type": "code",
      "source": [
        "#Checking the clean dataset\n",
        "df.isna().sum()"
      ],
      "metadata": {
        "id": "arhNqbJrh1uP",
        "colab": {
          "base_uri": "https://localhost:8080/"
        },
        "outputId": "e6dde4f4-ec63-4dd3-a066-5ae676dd2622"
      },
      "execution_count": null,
      "outputs": [
        {
          "output_type": "execute_result",
          "data": {
            "text/plain": [
              "Year                     0\n",
              "State                    0\n",
              "Communicable diseases    0\n",
              "Number                   0\n",
              "Rate                     0\n",
              "dtype: int64"
            ]
          },
          "metadata": {},
          "execution_count": 8
        }
      ]
    },
    {
      "cell_type": "code",
      "source": [
        "#Checking the newest dataset info\n",
        "df.info()"
      ],
      "metadata": {
        "colab": {
          "base_uri": "https://localhost:8080/"
        },
        "id": "Vm1GIOcanOJG",
        "outputId": "9582d965-cf52-4174-d0b3-fa5aa15accc1"
      },
      "execution_count": null,
      "outputs": [
        {
          "output_type": "stream",
          "name": "stdout",
          "text": [
            "<class 'pandas.core.frame.DataFrame'>\n",
            "RangeIndex: 2384 entries, 0 to 2383\n",
            "Data columns (total 5 columns):\n",
            " #   Column                 Non-Null Count  Dtype  \n",
            "---  ------                 --------------  -----  \n",
            " 0   Year                   2384 non-null   int64  \n",
            " 1   State                  2384 non-null   object \n",
            " 2   Communicable diseases  2384 non-null   object \n",
            " 3   Number                 2384 non-null   int64  \n",
            " 4   Rate                   2384 non-null   float64\n",
            "dtypes: float64(1), int64(2), object(2)\n",
            "memory usage: 93.2+ KB\n"
          ]
        }
      ]
    },
    {
      "cell_type": "code",
      "source": [
        "# Check duplicate rows\n",
        "# If there is no missing data, then check for the presence of duplicates.\n",
        "df.duplicated().sum()"
      ],
      "metadata": {
        "colab": {
          "base_uri": "https://localhost:8080/"
        },
        "id": "NfWINy5zyUhI",
        "outputId": "fe9fa222-6a5a-4cc5-ae38-948240d08535"
      },
      "execution_count": null,
      "outputs": [
        {
          "output_type": "execute_result",
          "data": {
            "text/plain": [
              "0"
            ]
          },
          "metadata": {},
          "execution_count": 10
        }
      ]
    },
    {
      "cell_type": "code",
      "source": [
        "#view the dataset\n",
        "\n",
        "df"
      ],
      "metadata": {
        "colab": {
          "base_uri": "https://localhost:8080/",
          "height": 423
        },
        "id": "hzDcvUwb1fZH",
        "outputId": "badfad51-b102-4ecb-88a4-9c4d53672eef"
      },
      "execution_count": null,
      "outputs": [
        {
          "output_type": "execute_result",
          "data": {
            "text/plain": [
              "      Year        State      Communicable diseases  Number        Rate\n",
              "0     2013        Johor                    Cholera    1164   27.519205\n",
              "1     2013        Johor               Dengue fever    4750  136.600000\n",
              "2     2013        Johor  Dengue haemorrhagic fever      78    2.240000\n",
              "3     2013        Johor                  Dysentry        1    0.030000\n",
              "4     2013        Johor             Food poisoning    1447   41.610000\n",
              "...    ...          ...                        ...     ...         ...\n",
              "2379  2016  W.P. Labuan                  Syphillis       7    7.160000\n",
              "2380  2016  W.P. Labuan               Tuberculosis     133  135.990000\n",
              "2381  2016  W.P. Labuan                    Typhoid       4    4.090000\n",
              "2382  2016  W.P. Labuan                     Typhus    1164   27.519205\n",
              "2383  2016  W.P. Labuan         Viral encephalitis    1164   27.519205\n",
              "\n",
              "[2384 rows x 5 columns]"
            ],
            "text/html": [
              "\n",
              "  <div id=\"df-bccbacba-685e-464e-a4aa-a4703099e862\">\n",
              "    <div class=\"colab-df-container\">\n",
              "      <div>\n",
              "<style scoped>\n",
              "    .dataframe tbody tr th:only-of-type {\n",
              "        vertical-align: middle;\n",
              "    }\n",
              "\n",
              "    .dataframe tbody tr th {\n",
              "        vertical-align: top;\n",
              "    }\n",
              "\n",
              "    .dataframe thead th {\n",
              "        text-align: right;\n",
              "    }\n",
              "</style>\n",
              "<table border=\"1\" class=\"dataframe\">\n",
              "  <thead>\n",
              "    <tr style=\"text-align: right;\">\n",
              "      <th></th>\n",
              "      <th>Year</th>\n",
              "      <th>State</th>\n",
              "      <th>Communicable diseases</th>\n",
              "      <th>Number</th>\n",
              "      <th>Rate</th>\n",
              "    </tr>\n",
              "  </thead>\n",
              "  <tbody>\n",
              "    <tr>\n",
              "      <th>0</th>\n",
              "      <td>2013</td>\n",
              "      <td>Johor</td>\n",
              "      <td>Cholera</td>\n",
              "      <td>1164</td>\n",
              "      <td>27.519205</td>\n",
              "    </tr>\n",
              "    <tr>\n",
              "      <th>1</th>\n",
              "      <td>2013</td>\n",
              "      <td>Johor</td>\n",
              "      <td>Dengue fever</td>\n",
              "      <td>4750</td>\n",
              "      <td>136.600000</td>\n",
              "    </tr>\n",
              "    <tr>\n",
              "      <th>2</th>\n",
              "      <td>2013</td>\n",
              "      <td>Johor</td>\n",
              "      <td>Dengue haemorrhagic fever</td>\n",
              "      <td>78</td>\n",
              "      <td>2.240000</td>\n",
              "    </tr>\n",
              "    <tr>\n",
              "      <th>3</th>\n",
              "      <td>2013</td>\n",
              "      <td>Johor</td>\n",
              "      <td>Dysentry</td>\n",
              "      <td>1</td>\n",
              "      <td>0.030000</td>\n",
              "    </tr>\n",
              "    <tr>\n",
              "      <th>4</th>\n",
              "      <td>2013</td>\n",
              "      <td>Johor</td>\n",
              "      <td>Food poisoning</td>\n",
              "      <td>1447</td>\n",
              "      <td>41.610000</td>\n",
              "    </tr>\n",
              "    <tr>\n",
              "      <th>...</th>\n",
              "      <td>...</td>\n",
              "      <td>...</td>\n",
              "      <td>...</td>\n",
              "      <td>...</td>\n",
              "      <td>...</td>\n",
              "    </tr>\n",
              "    <tr>\n",
              "      <th>2379</th>\n",
              "      <td>2016</td>\n",
              "      <td>W.P. Labuan</td>\n",
              "      <td>Syphillis</td>\n",
              "      <td>7</td>\n",
              "      <td>7.160000</td>\n",
              "    </tr>\n",
              "    <tr>\n",
              "      <th>2380</th>\n",
              "      <td>2016</td>\n",
              "      <td>W.P. Labuan</td>\n",
              "      <td>Tuberculosis</td>\n",
              "      <td>133</td>\n",
              "      <td>135.990000</td>\n",
              "    </tr>\n",
              "    <tr>\n",
              "      <th>2381</th>\n",
              "      <td>2016</td>\n",
              "      <td>W.P. Labuan</td>\n",
              "      <td>Typhoid</td>\n",
              "      <td>4</td>\n",
              "      <td>4.090000</td>\n",
              "    </tr>\n",
              "    <tr>\n",
              "      <th>2382</th>\n",
              "      <td>2016</td>\n",
              "      <td>W.P. Labuan</td>\n",
              "      <td>Typhus</td>\n",
              "      <td>1164</td>\n",
              "      <td>27.519205</td>\n",
              "    </tr>\n",
              "    <tr>\n",
              "      <th>2383</th>\n",
              "      <td>2016</td>\n",
              "      <td>W.P. Labuan</td>\n",
              "      <td>Viral encephalitis</td>\n",
              "      <td>1164</td>\n",
              "      <td>27.519205</td>\n",
              "    </tr>\n",
              "  </tbody>\n",
              "</table>\n",
              "<p>2384 rows × 5 columns</p>\n",
              "</div>\n",
              "      <button class=\"colab-df-convert\" onclick=\"convertToInteractive('df-bccbacba-685e-464e-a4aa-a4703099e862')\"\n",
              "              title=\"Convert this dataframe to an interactive table.\"\n",
              "              style=\"display:none;\">\n",
              "        \n",
              "  <svg xmlns=\"http://www.w3.org/2000/svg\" height=\"24px\"viewBox=\"0 0 24 24\"\n",
              "       width=\"24px\">\n",
              "    <path d=\"M0 0h24v24H0V0z\" fill=\"none\"/>\n",
              "    <path d=\"M18.56 5.44l.94 2.06.94-2.06 2.06-.94-2.06-.94-.94-2.06-.94 2.06-2.06.94zm-11 1L8.5 8.5l.94-2.06 2.06-.94-2.06-.94L8.5 2.5l-.94 2.06-2.06.94zm10 10l.94 2.06.94-2.06 2.06-.94-2.06-.94-.94-2.06-.94 2.06-2.06.94z\"/><path d=\"M17.41 7.96l-1.37-1.37c-.4-.4-.92-.59-1.43-.59-.52 0-1.04.2-1.43.59L10.3 9.45l-7.72 7.72c-.78.78-.78 2.05 0 2.83L4 21.41c.39.39.9.59 1.41.59.51 0 1.02-.2 1.41-.59l7.78-7.78 2.81-2.81c.8-.78.8-2.07 0-2.86zM5.41 20L4 18.59l7.72-7.72 1.47 1.35L5.41 20z\"/>\n",
              "  </svg>\n",
              "      </button>\n",
              "      \n",
              "  <style>\n",
              "    .colab-df-container {\n",
              "      display:flex;\n",
              "      flex-wrap:wrap;\n",
              "      gap: 12px;\n",
              "    }\n",
              "\n",
              "    .colab-df-convert {\n",
              "      background-color: #E8F0FE;\n",
              "      border: none;\n",
              "      border-radius: 50%;\n",
              "      cursor: pointer;\n",
              "      display: none;\n",
              "      fill: #1967D2;\n",
              "      height: 32px;\n",
              "      padding: 0 0 0 0;\n",
              "      width: 32px;\n",
              "    }\n",
              "\n",
              "    .colab-df-convert:hover {\n",
              "      background-color: #E2EBFA;\n",
              "      box-shadow: 0px 1px 2px rgba(60, 64, 67, 0.3), 0px 1px 3px 1px rgba(60, 64, 67, 0.15);\n",
              "      fill: #174EA6;\n",
              "    }\n",
              "\n",
              "    [theme=dark] .colab-df-convert {\n",
              "      background-color: #3B4455;\n",
              "      fill: #D2E3FC;\n",
              "    }\n",
              "\n",
              "    [theme=dark] .colab-df-convert:hover {\n",
              "      background-color: #434B5C;\n",
              "      box-shadow: 0px 1px 3px 1px rgba(0, 0, 0, 0.15);\n",
              "      filter: drop-shadow(0px 1px 2px rgba(0, 0, 0, 0.3));\n",
              "      fill: #FFFFFF;\n",
              "    }\n",
              "  </style>\n",
              "\n",
              "      <script>\n",
              "        const buttonEl =\n",
              "          document.querySelector('#df-bccbacba-685e-464e-a4aa-a4703099e862 button.colab-df-convert');\n",
              "        buttonEl.style.display =\n",
              "          google.colab.kernel.accessAllowed ? 'block' : 'none';\n",
              "\n",
              "        async function convertToInteractive(key) {\n",
              "          const element = document.querySelector('#df-bccbacba-685e-464e-a4aa-a4703099e862');\n",
              "          const dataTable =\n",
              "            await google.colab.kernel.invokeFunction('convertToInteractive',\n",
              "                                                     [key], {});\n",
              "          if (!dataTable) return;\n",
              "\n",
              "          const docLinkHtml = 'Like what you see? Visit the ' +\n",
              "            '<a target=\"_blank\" href=https://colab.research.google.com/notebooks/data_table.ipynb>data table notebook</a>'\n",
              "            + ' to learn more about interactive tables.';\n",
              "          element.innerHTML = '';\n",
              "          dataTable['output_type'] = 'display_data';\n",
              "          await google.colab.output.renderOutput(dataTable, element);\n",
              "          const docLink = document.createElement('div');\n",
              "          docLink.innerHTML = docLinkHtml;\n",
              "          element.appendChild(docLink);\n",
              "        }\n",
              "      </script>\n",
              "    </div>\n",
              "  </div>\n",
              "  "
            ]
          },
          "metadata": {},
          "execution_count": 11
        }
      ]
    },
    {
      "cell_type": "markdown",
      "metadata": {
        "id": "_0m5LkbVVJJ6"
      },
      "source": [
        "## Exploratory Analysis and Visualization\n",
        "\n",
        "Exploratory Data Analysis refers to the critical process of performing initial investigations on data so as to discover patterns,to spot anomalies,to test hypothesis and to check assumptions with the help of summary statistics and graphical representations.\n"
      ]
    },
    {
      "cell_type": "markdown",
      "metadata": {
        "id": "RuPTpsGWVJJ7"
      },
      "source": [
        "Let's begin by importing`matplotlib.pyplot` and `seaborn`."
      ]
    },
    {
      "cell_type": "code",
      "execution_count": null,
      "metadata": {
        "id": "zOTtwqAMVJJ7",
        "colab": {
          "base_uri": "https://localhost:8080/",
          "height": 17
        },
        "outputId": "ac1bae0a-5514-4a04-dd08-8482301fbb0d"
      },
      "outputs": [
        {
          "output_type": "display_data",
          "data": {
            "text/html": [
              "        <script type=\"text/javascript\">\n",
              "        window.PlotlyConfig = {MathJaxConfig: 'local'};\n",
              "        if (window.MathJax) {MathJax.Hub.Config({SVG: {font: \"STIX-Web\"}});}\n",
              "        if (typeof require !== 'undefined') {\n",
              "        require.undef(\"plotly\");\n",
              "        requirejs.config({\n",
              "            paths: {\n",
              "                'plotly': ['https://cdn.plot.ly/plotly-2.8.3.min']\n",
              "            }\n",
              "        });\n",
              "        require(['plotly'], function(Plotly) {\n",
              "            window._Plotly = Plotly;\n",
              "        });\n",
              "        }\n",
              "        </script>\n",
              "        "
            ]
          },
          "metadata": {}
        }
      ],
      "source": [
        "import seaborn as sns\n",
        "import matplotlib\n",
        "import matplotlib.pyplot as plt\n",
        "%matplotlib inline\n",
        "import seaborn as sns\n",
        "import plotly.offline as py\n",
        "import warnings\n",
        "warnings.filterwarnings('ignore')\n",
        "\n",
        "py.init_notebook_mode(connected=True)\n",
        "import plotly.graph_objs as go\n",
        "sns.set_style('darkgrid')\n",
        "matplotlib.rcParams['font.size'] = 14\n",
        "matplotlib.rcParams['figure.figsize'] = (9, 5)\n",
        "matplotlib.rcParams['figure.facecolor'] = '#00000000'"
      ]
    },
    {
      "cell_type": "markdown",
      "source": [
        "The describe() method is used for calculating some statistical data like percentile, mean and std of the numerical values of the Series or DataFrame."
      ],
      "metadata": {
        "id": "VV1VNDU-tpx3"
      }
    },
    {
      "cell_type": "code",
      "source": [
        "df.describe()"
      ],
      "metadata": {
        "colab": {
          "base_uri": "https://localhost:8080/",
          "height": 300
        },
        "id": "Z7qRRqE1hB8m",
        "outputId": "b1506f0e-ab37-41b1-ed6f-07f9472c0b6d"
      },
      "execution_count": null,
      "outputs": [
        {
          "output_type": "execute_result",
          "data": {
            "text/plain": [
              "              Year         Number         Rate\n",
              "count  2384.000000    2384.000000  2384.000000\n",
              "mean   2015.677852    1164.557466    27.519205\n",
              "std       1.643996    5678.451576    66.332682\n",
              "min    2013.000000       1.000000     0.000000\n",
              "25%    2014.000000      15.000000     0.787500\n",
              "50%    2016.000000     159.500000     8.020000\n",
              "75%    2017.000000    1164.000000    27.519205\n",
              "max    2018.000000  119796.000000  1065.930000"
            ],
            "text/html": [
              "\n",
              "  <div id=\"df-fb82facd-9a0d-4c2f-85e7-96c2693405d8\">\n",
              "    <div class=\"colab-df-container\">\n",
              "      <div>\n",
              "<style scoped>\n",
              "    .dataframe tbody tr th:only-of-type {\n",
              "        vertical-align: middle;\n",
              "    }\n",
              "\n",
              "    .dataframe tbody tr th {\n",
              "        vertical-align: top;\n",
              "    }\n",
              "\n",
              "    .dataframe thead th {\n",
              "        text-align: right;\n",
              "    }\n",
              "</style>\n",
              "<table border=\"1\" class=\"dataframe\">\n",
              "  <thead>\n",
              "    <tr style=\"text-align: right;\">\n",
              "      <th></th>\n",
              "      <th>Year</th>\n",
              "      <th>Number</th>\n",
              "      <th>Rate</th>\n",
              "    </tr>\n",
              "  </thead>\n",
              "  <tbody>\n",
              "    <tr>\n",
              "      <th>count</th>\n",
              "      <td>2384.000000</td>\n",
              "      <td>2384.000000</td>\n",
              "      <td>2384.000000</td>\n",
              "    </tr>\n",
              "    <tr>\n",
              "      <th>mean</th>\n",
              "      <td>2015.677852</td>\n",
              "      <td>1164.557466</td>\n",
              "      <td>27.519205</td>\n",
              "    </tr>\n",
              "    <tr>\n",
              "      <th>std</th>\n",
              "      <td>1.643996</td>\n",
              "      <td>5678.451576</td>\n",
              "      <td>66.332682</td>\n",
              "    </tr>\n",
              "    <tr>\n",
              "      <th>min</th>\n",
              "      <td>2013.000000</td>\n",
              "      <td>1.000000</td>\n",
              "      <td>0.000000</td>\n",
              "    </tr>\n",
              "    <tr>\n",
              "      <th>25%</th>\n",
              "      <td>2014.000000</td>\n",
              "      <td>15.000000</td>\n",
              "      <td>0.787500</td>\n",
              "    </tr>\n",
              "    <tr>\n",
              "      <th>50%</th>\n",
              "      <td>2016.000000</td>\n",
              "      <td>159.500000</td>\n",
              "      <td>8.020000</td>\n",
              "    </tr>\n",
              "    <tr>\n",
              "      <th>75%</th>\n",
              "      <td>2017.000000</td>\n",
              "      <td>1164.000000</td>\n",
              "      <td>27.519205</td>\n",
              "    </tr>\n",
              "    <tr>\n",
              "      <th>max</th>\n",
              "      <td>2018.000000</td>\n",
              "      <td>119796.000000</td>\n",
              "      <td>1065.930000</td>\n",
              "    </tr>\n",
              "  </tbody>\n",
              "</table>\n",
              "</div>\n",
              "      <button class=\"colab-df-convert\" onclick=\"convertToInteractive('df-fb82facd-9a0d-4c2f-85e7-96c2693405d8')\"\n",
              "              title=\"Convert this dataframe to an interactive table.\"\n",
              "              style=\"display:none;\">\n",
              "        \n",
              "  <svg xmlns=\"http://www.w3.org/2000/svg\" height=\"24px\"viewBox=\"0 0 24 24\"\n",
              "       width=\"24px\">\n",
              "    <path d=\"M0 0h24v24H0V0z\" fill=\"none\"/>\n",
              "    <path d=\"M18.56 5.44l.94 2.06.94-2.06 2.06-.94-2.06-.94-.94-2.06-.94 2.06-2.06.94zm-11 1L8.5 8.5l.94-2.06 2.06-.94-2.06-.94L8.5 2.5l-.94 2.06-2.06.94zm10 10l.94 2.06.94-2.06 2.06-.94-2.06-.94-.94-2.06-.94 2.06-2.06.94z\"/><path d=\"M17.41 7.96l-1.37-1.37c-.4-.4-.92-.59-1.43-.59-.52 0-1.04.2-1.43.59L10.3 9.45l-7.72 7.72c-.78.78-.78 2.05 0 2.83L4 21.41c.39.39.9.59 1.41.59.51 0 1.02-.2 1.41-.59l7.78-7.78 2.81-2.81c.8-.78.8-2.07 0-2.86zM5.41 20L4 18.59l7.72-7.72 1.47 1.35L5.41 20z\"/>\n",
              "  </svg>\n",
              "      </button>\n",
              "      \n",
              "  <style>\n",
              "    .colab-df-container {\n",
              "      display:flex;\n",
              "      flex-wrap:wrap;\n",
              "      gap: 12px;\n",
              "    }\n",
              "\n",
              "    .colab-df-convert {\n",
              "      background-color: #E8F0FE;\n",
              "      border: none;\n",
              "      border-radius: 50%;\n",
              "      cursor: pointer;\n",
              "      display: none;\n",
              "      fill: #1967D2;\n",
              "      height: 32px;\n",
              "      padding: 0 0 0 0;\n",
              "      width: 32px;\n",
              "    }\n",
              "\n",
              "    .colab-df-convert:hover {\n",
              "      background-color: #E2EBFA;\n",
              "      box-shadow: 0px 1px 2px rgba(60, 64, 67, 0.3), 0px 1px 3px 1px rgba(60, 64, 67, 0.15);\n",
              "      fill: #174EA6;\n",
              "    }\n",
              "\n",
              "    [theme=dark] .colab-df-convert {\n",
              "      background-color: #3B4455;\n",
              "      fill: #D2E3FC;\n",
              "    }\n",
              "\n",
              "    [theme=dark] .colab-df-convert:hover {\n",
              "      background-color: #434B5C;\n",
              "      box-shadow: 0px 1px 3px 1px rgba(0, 0, 0, 0.15);\n",
              "      filter: drop-shadow(0px 1px 2px rgba(0, 0, 0, 0.3));\n",
              "      fill: #FFFFFF;\n",
              "    }\n",
              "  </style>\n",
              "\n",
              "      <script>\n",
              "        const buttonEl =\n",
              "          document.querySelector('#df-fb82facd-9a0d-4c2f-85e7-96c2693405d8 button.colab-df-convert');\n",
              "        buttonEl.style.display =\n",
              "          google.colab.kernel.accessAllowed ? 'block' : 'none';\n",
              "\n",
              "        async function convertToInteractive(key) {\n",
              "          const element = document.querySelector('#df-fb82facd-9a0d-4c2f-85e7-96c2693405d8');\n",
              "          const dataTable =\n",
              "            await google.colab.kernel.invokeFunction('convertToInteractive',\n",
              "                                                     [key], {});\n",
              "          if (!dataTable) return;\n",
              "\n",
              "          const docLinkHtml = 'Like what you see? Visit the ' +\n",
              "            '<a target=\"_blank\" href=https://colab.research.google.com/notebooks/data_table.ipynb>data table notebook</a>'\n",
              "            + ' to learn more about interactive tables.';\n",
              "          element.innerHTML = '';\n",
              "          dataTable['output_type'] = 'display_data';\n",
              "          await google.colab.output.renderOutput(dataTable, element);\n",
              "          const docLink = document.createElement('div');\n",
              "          docLink.innerHTML = docLinkHtml;\n",
              "          element.appendChild(docLink);\n",
              "        }\n",
              "      </script>\n",
              "    </div>\n",
              "  </div>\n",
              "  "
            ]
          },
          "metadata": {},
          "execution_count": 13
        }
      ]
    },
    {
      "cell_type": "markdown",
      "metadata": {
        "id": "Fv4NPHasVJJ7"
      },
      "source": [
        "### **Bar chart Rate of Incidents per Year**\n",
        "\n",
        "- Bar charts enable us to compare numerical values like integers and percentages. They use the length of each bar to represent the value of each variable. \n",
        "\n",
        "In the bar chart below, the highest rate incidents per year is in 2016 while the lowest is in 2013."
      ]
    },
    {
      "cell_type": "code",
      "execution_count": null,
      "metadata": {
        "id": "NKN6RIplVJJ7",
        "colab": {
          "base_uri": "https://localhost:8080/",
          "height": 433
        },
        "outputId": "24b5cb55-6728-47ea-9268-830a9bfc9f02"
      },
      "outputs": [
        {
          "output_type": "execute_result",
          "data": {
            "text/plain": [
              "Text(0.5, 1.0, 'Rate of Incidents per Year')"
            ]
          },
          "metadata": {},
          "execution_count": 14
        },
        {
          "output_type": "display_data",
          "data": {
            "text/plain": [
              "<Figure size 576x432 with 1 Axes>"
            ],
            "image/png": "[encoded data removed]"
          },
          "metadata": {
            "needs_background": "light"
          }
        }
      ],
      "source": [
        "plt.figure(figsize=(8,6))\n",
        "\n",
        "sns.barplot(x=df['Year'], y=df.index)\n",
        "plt.xlabel(\"Year\")\n",
        "plt.ylabel(\"Rate\")\n",
        "plt.title(\"Rate of Incidents per Year\")"
      ]
    },
    {
      "cell_type": "markdown",
      "source": [
        "### **Scatter Plot: Communicable Disease vs Rate per Year**\n",
        "\n",
        "- Scatter plots are used to plot data points on a horizontal and a vertical axis in the attempt to show how much one variable is affected by another. \n",
        "\n",
        "In the scatter plot below, each communicable disease is assigned with different colours. We can find out the rate and associated communicable diseases for each year."
      ],
      "metadata": {
        "id": "zPJBDN0_c7Bo"
      }
    },
    {
      "cell_type": "code",
      "source": [
        "sns.relplot(x=\"Year\", y=\"Rate\", data=df, hue = 'Communicable diseases', kind='scatter')"
      ],
      "metadata": {
        "colab": {
          "base_uri": "https://localhost:8080/",
          "height": 640
        },
        "id": "y9-eKgsxtumY",
        "outputId": "9b4f612a-964c-4f5c-c80a-38f0d8241b57"
      },
      "execution_count": null,
      "outputs": [
        {
          "output_type": "execute_result",
          "data": {
            "text/plain": [
              "<seaborn.axisgrid.FacetGrid at 0x7fe921007520>"
            ]
          },
          "metadata": {},
          "execution_count": 15
        },
        {
          "output_type": "display_data",
          "data": {
            "text/plain": [
              "<Figure size 625.65x360 with 1 Axes>"
            ],
            "image/png": "[encoded data removed]"
          },
          "metadata": {
            "needs_background": "light"
          }
        }
      ]
    },
    {
      "cell_type": "markdown",
      "metadata": {
        "id": "Dn_AW-5uVJJ7"
      },
      "source": [
        "### **Corellation Heatmap**\n",
        "\n",
        "- Correlation is a term that refers to the strength of a relationship between two variables where a strong, or high, correlation means that two or more variables have a strong relationship with each other while a weak or low correlation means that the variables are hardly related.\n",
        "\n",
        "\n",
        "Here, Rate and Number appear to have a moderate association, whereas Year and Number and Rate appear to have a poor relationship."
      ]
    },
    {
      "cell_type": "code",
      "execution_count": null,
      "metadata": {
        "id": "pPnlFwy2VJJ7",
        "colab": {
          "base_uri": "https://localhost:8080/",
          "height": 346
        },
        "outputId": "0738c7d1-e421-44e7-b512-c1e7424ba5d6"
      },
      "outputs": [
        {
          "output_type": "execute_result",
          "data": {
            "text/plain": [
              "<matplotlib.axes._subplots.AxesSubplot at 0x7fe920a85d30>"
            ]
          },
          "metadata": {},
          "execution_count": 16
        },
        {
          "output_type": "display_data",
          "data": {
            "text/plain": [
              "<Figure size 648x360 with 2 Axes>"
            ],
            "image/png": "[encoded data removed]"
          },
          "metadata": {
            "needs_background": "light"
          }
        }
      ],
      "source": [
        "sns.heatmap(df.corr())"
      ]
    },
    {
      "cell_type": "markdown",
      "metadata": {
        "id": "tLNLw0EOVJJ8"
      },
      "source": [
        "### **Pie chart of Number of Communicable disease per Year**\n",
        "\n",
        "- A pie chart (or a circle chart) is a circular statistical graphic, which is divided into slices to illustrate numerical proportion.\n",
        "\n",
        "As we can see, communicable disease cases peaked in 2014 with a 19.1% prevalence, while they were at their lowest in 2013 (8.9%)."
      ]
    },
    {
      "cell_type": "code",
      "execution_count": null,
      "metadata": {
        "id": "61sgf555VJJ8",
        "colab": {
          "base_uri": "https://localhost:8080/",
          "height": 340
        },
        "outputId": "6ea8c070-d2f1-4092-df96-713d5dd54c87"
      },
      "outputs": [
        {
          "output_type": "execute_result",
          "data": {
            "text/plain": [
              "<matplotlib.axes._subplots.AxesSubplot at 0x7fe91c909a60>"
            ]
          },
          "metadata": {},
          "execution_count": 17
        },
        {
          "output_type": "display_data",
          "data": {
            "text/plain": [
              "<Figure size 648x360 with 1 Axes>"
            ],
            "image/png": "[encoded data removed]"
          },
          "metadata": {}
        }
      ],
      "source": [
        "#define data\n",
        "data = df.groupby(\"Year\")[\"Number\"].sum()\n",
        "\n",
        "#create pie chart\n",
        "plt.title('Number of Communicable disease per Year')\n",
        "data.plot.pie(autopct=\"%.1f%%\")"
      ]
    },
    {
      "cell_type": "markdown",
      "source": [
        "### **KDE Rate chart**\n",
        "\n",
        "- A kernel density estimate (KDE) plot is a method for visualizing the distribution of observations in a dataset, analogous to a histogram. KDE represents the data using a continuous probability density curve in one or more dimensions."
      ],
      "metadata": {
        "id": "adQ9ky9Kd2mB"
      }
    },
    {
      "cell_type": "code",
      "source": [
        "sns.kdeplot(df['Rate'], shade=True)"
      ],
      "metadata": {
        "colab": {
          "base_uri": "https://localhost:8080/",
          "height": 359
        },
        "id": "8C4BbRHndvXb",
        "outputId": "4c15ac73-291e-438c-f10f-b8d43a21cae9"
      },
      "execution_count": null,
      "outputs": [
        {
          "output_type": "execute_result",
          "data": {
            "text/plain": [
              "<matplotlib.axes._subplots.AxesSubplot at 0x7fe91c83d820>"
            ]
          },
          "metadata": {},
          "execution_count": 18
        },
        {
          "output_type": "display_data",
          "data": {
            "text/plain": [
              "<Figure size 648x360 with 1 Axes>"
            ],
            "image/png": "[encoded data removed]"
          },
          "metadata": {
            "needs_background": "light"
          }
        }
      ]
    },
    {
      "cell_type": "markdown",
      "source": [
        "> When the distribution is tilted to the right, the mean frequently exceeds the median. We anticipate the mean and median to be about similar in value in symmetric distributions."
      ],
      "metadata": {
        "id": "OXN4BB1Q_sKv"
      }
    },
    {
      "cell_type": "markdown",
      "metadata": {
        "id": "E0U3IWm8VJJ9"
      },
      "source": [
        "## **Question and Answers (QnA)**"
      ]
    },
    {
      "cell_type": "markdown",
      "metadata": {
        "id": "7Lor5rHMVJJ9"
      },
      "source": [
        "#### **QUESTION 1:** \n",
        "What is the relationship between  variables in the dataset? This could be explored using scatter plots or regression plots in Matplotlib or Seaborn."
      ]
    },
    {
      "cell_type": "markdown",
      "source": [
        "- The **scatterplot()** or **regplot()** functions could be used to visualize the relationship. As you can see, we have done a correlation analysis heatmap to distinguish the relationship between all the variables in the dataset.\n",
        "> We can see Number and Rate have average relationship here based on the colour indicator."
      ],
      "metadata": {
        "id": "24kOHgZZRWI5"
      }
    },
    {
      "cell_type": "code",
      "source": [
        "sns.heatmap(df.corr())"
      ],
      "metadata": {
        "colab": {
          "base_uri": "https://localhost:8080/",
          "height": 346
        },
        "id": "moSqiDAISNru",
        "outputId": "84699920-08ef-45ba-b44c-51809c28f274"
      },
      "execution_count": null,
      "outputs": [
        {
          "output_type": "execute_result",
          "data": {
            "text/plain": [
              "<matplotlib.axes._subplots.AxesSubplot at 0x7fe91a7c00d0>"
            ]
          },
          "metadata": {},
          "execution_count": 19
        },
        {
          "output_type": "display_data",
          "data": {
            "text/plain": [
              "<Figure size 648x360 with 2 Axes>"
            ],
            "image/png": "[encoded data removed]"
          },
          "metadata": {
            "needs_background": "light"
          }
        }
      ]
    },
    {
      "cell_type": "markdown",
      "metadata": {
        "id": "c_REVnrhVJJ-"
      },
      "source": [
        "#### **QUESTION 2**\n",
        "\n",
        "Could you list out the top 10 communicable diseases according to the mean number of incidents"
      ]
    },
    {
      "cell_type": "markdown",
      "source": [
        "- Below are the top 10 communicable diseases according to the mean number of incidents in descending order:"
      ],
      "metadata": {
        "id": "XwPnu1-B9w7i"
      }
    },
    {
      "cell_type": "code",
      "execution_count": null,
      "metadata": {
        "id": "ShA3QyQpVJJ-",
        "colab": {
          "base_uri": "https://localhost:8080/"
        },
        "outputId": "724ee8f5-4217-4099-ee63-9b5f596e9b41"
      },
      "outputs": [
        {
          "output_type": "stream",
          "name": "stdout",
          "text": [
            "Communicable diseases\n",
            "Dengue fever                    11132.083333\n",
            "Hand, Foot and Mouth Disease     4197.537500\n",
            "Tuberculosis                     3123.687500\n",
            "Food poisoning                   1950.812500\n",
            "Neonatal Tetanus                  983.750000\n",
            "Cholera                           891.458333\n",
            "Typhus                            873.737500\n",
            "Leptospirosis                     703.362500\n",
            "Diphteria                         685.987500\n",
            "Other Specified Viral             638.500000\n",
            "Name: Number, dtype: float64\n"
          ]
        }
      ],
      "source": [
        "# top 10 communicable diseases according to mean number (of case occurances)\n",
        "top_cmds = df.groupby('Communicable diseases')['Number'].mean().sort_values(ascending=False)[:10]\n",
        "print(top_cmds)"
      ]
    },
    {
      "cell_type": "markdown",
      "source": [
        "> The top 10 communicable disease:\n",
        "- Dengue fever\n",
        "- Hand, Foot and Mouth Disease\n",
        "- Tuberculosis\n",
        "- Food poisoning\n",
        "- Neonatal Tetanus\n",
        "- Cholera\n",
        "- Typhus\n",
        "- Leptospirosis\n",
        "- Diphteria                         \n",
        "- Other Specified Viral "
      ],
      "metadata": {
        "id": "XfIm9a6R_2Yx"
      }
    },
    {
      "cell_type": "markdown",
      "metadata": {
        "id": "ya3o0SurVJJ-"
      },
      "source": [
        "#### **QUESTION 3**\n",
        "\n",
        "How are the most common values or patterns can be found in the dataset?"
      ]
    },
    {
      "cell_type": "markdown",
      "source": [
        "- This could be explored using value counts, grouping, and aggregation in Pandas. The **value_counts()** function could be used to identify the most common values, and the **groupby()** and **agg()** functions could be used to perform more complex aggregations."
      ],
      "metadata": {
        "id": "4xLEee2RT135"
      }
    },
    {
      "cell_type": "code",
      "execution_count": null,
      "metadata": {
        "id": "i4iTQAxBVJJ_",
        "colab": {
          "base_uri": "https://localhost:8080/"
        },
        "outputId": "bd30f321-cf51-4c99-c772-443f40daf7a4"
      },
      "outputs": [
        {
          "output_type": "execute_result",
          "data": {
            "text/plain": [
              "Cholera                         96\n",
              "Measles                         96\n",
              "Viral encephalitis              96\n",
              "Typhoid                         96\n",
              "Dengue fever                    96\n",
              "Other Tetanus                   96\n",
              "Other Specified Viral           96\n",
              "Neonatal Tetanus                96\n",
              "Tuberculosis                    96\n",
              "Leprosy                         96\n",
              "Hepatitis B                     96\n",
              "Hepatitis A                     96\n",
              "Food poisoning                  96\n",
              "Dysentry                        96\n",
              "Dengue haemorrhagic fever       96\n",
              "Hepatitis C                     96\n",
              "Hand, Foot and Mouth Disease    80\n",
              "Typhus                          80\n",
              "Syphillis                       80\n",
              "Malaria                         80\n",
              "Leptospirosis                   80\n",
              "Diphteria                       80\n",
              "H.I.V                           80\n",
              "Gonorrhoea                      80\n",
              "A.I.D.S                         80\n",
              "Whooping cough                  80\n",
              "Pertusis                        48\n",
              "Name: Communicable diseases, dtype: int64"
            ]
          },
          "metadata": {},
          "execution_count": 21
        }
      ],
      "source": [
        "# example value_counts\n",
        "\n",
        "df['Communicable diseases'].value_counts()"
      ]
    },
    {
      "cell_type": "code",
      "source": [
        "# example groupby sum of Number of cases\n",
        "\n",
        "df.groupby(['Number']).sum()"
      ],
      "metadata": {
        "colab": {
          "base_uri": "https://localhost:8080/",
          "height": 455
        },
        "id": "LKivQT81_o9I",
        "outputId": "0a1c21a0-b0a8-4de4-a264-d51f49c26e8d"
      },
      "execution_count": null,
      "outputs": [
        {
          "output_type": "execute_result",
          "data": {
            "text/plain": [
              "          Year        Rate\n",
              "Number                    \n",
              "1       332596   29.085711\n",
              "2       124968   24.530458\n",
              "3        88688   25.737954\n",
              "4        96731   26.928317\n",
              "5        80626   25.942978\n",
              "...        ...         ...\n",
              "80210     2018  244.070000\n",
              "83443     2017  257.600548\n",
              "100722    2016  318.130000\n",
              "107597    2014  357.490000\n",
              "119796    2015  392.960000\n",
              "\n",
              "[699 rows x 2 columns]"
            ],
            "text/html": [
              "\n",
              "  <div id=\"df-6b631714-b22f-4df8-9585-a7de35bbb604\">\n",
              "    <div class=\"colab-df-container\">\n",
              "      <div>\n",
              "<style scoped>\n",
              "    .dataframe tbody tr th:only-of-type {\n",
              "        vertical-align: middle;\n",
              "    }\n",
              "\n",
              "    .dataframe tbody tr th {\n",
              "        vertical-align: top;\n",
              "    }\n",
              "\n",
              "    .dataframe thead th {\n",
              "        text-align: right;\n",
              "    }\n",
              "</style>\n",
              "<table border=\"1\" class=\"dataframe\">\n",
              "  <thead>\n",
              "    <tr style=\"text-align: right;\">\n",
              "      <th></th>\n",
              "      <th>Year</th>\n",
              "      <th>Rate</th>\n",
              "    </tr>\n",
              "    <tr>\n",
              "      <th>Number</th>\n",
              "      <th></th>\n",
              "      <th></th>\n",
              "    </tr>\n",
              "  </thead>\n",
              "  <tbody>\n",
              "    <tr>\n",
              "      <th>1</th>\n",
              "      <td>332596</td>\n",
              "      <td>29.085711</td>\n",
              "    </tr>\n",
              "    <tr>\n",
              "      <th>2</th>\n",
              "      <td>124968</td>\n",
              "      <td>24.530458</td>\n",
              "    </tr>\n",
              "    <tr>\n",
              "      <th>3</th>\n",
              "      <td>88688</td>\n",
              "      <td>25.737954</td>\n",
              "    </tr>\n",
              "    <tr>\n",
              "      <th>4</th>\n",
              "      <td>96731</td>\n",
              "      <td>26.928317</td>\n",
              "    </tr>\n",
              "    <tr>\n",
              "      <th>5</th>\n",
              "      <td>80626</td>\n",
              "      <td>25.942978</td>\n",
              "    </tr>\n",
              "    <tr>\n",
              "      <th>...</th>\n",
              "      <td>...</td>\n",
              "      <td>...</td>\n",
              "    </tr>\n",
              "    <tr>\n",
              "      <th>80210</th>\n",
              "      <td>2018</td>\n",
              "      <td>244.070000</td>\n",
              "    </tr>\n",
              "    <tr>\n",
              "      <th>83443</th>\n",
              "      <td>2017</td>\n",
              "      <td>257.600548</td>\n",
              "    </tr>\n",
              "    <tr>\n",
              "      <th>100722</th>\n",
              "      <td>2016</td>\n",
              "      <td>318.130000</td>\n",
              "    </tr>\n",
              "    <tr>\n",
              "      <th>107597</th>\n",
              "      <td>2014</td>\n",
              "      <td>357.490000</td>\n",
              "    </tr>\n",
              "    <tr>\n",
              "      <th>119796</th>\n",
              "      <td>2015</td>\n",
              "      <td>392.960000</td>\n",
              "    </tr>\n",
              "  </tbody>\n",
              "</table>\n",
              "<p>699 rows × 2 columns</p>\n",
              "</div>\n",
              "      <button class=\"colab-df-convert\" onclick=\"convertToInteractive('df-6b631714-b22f-4df8-9585-a7de35bbb604')\"\n",
              "              title=\"Convert this dataframe to an interactive table.\"\n",
              "              style=\"display:none;\">\n",
              "        \n",
              "  <svg xmlns=\"http://www.w3.org/2000/svg\" height=\"24px\"viewBox=\"0 0 24 24\"\n",
              "       width=\"24px\">\n",
              "    <path d=\"M0 0h24v24H0V0z\" fill=\"none\"/>\n",
              "    <path d=\"M18.56 5.44l.94 2.06.94-2.06 2.06-.94-2.06-.94-.94-2.06-.94 2.06-2.06.94zm-11 1L8.5 8.5l.94-2.06 2.06-.94-2.06-.94L8.5 2.5l-.94 2.06-2.06.94zm10 10l.94 2.06.94-2.06 2.06-.94-2.06-.94-.94-2.06-.94 2.06-2.06.94z\"/><path d=\"M17.41 7.96l-1.37-1.37c-.4-.4-.92-.59-1.43-.59-.52 0-1.04.2-1.43.59L10.3 9.45l-7.72 7.72c-.78.78-.78 2.05 0 2.83L4 21.41c.39.39.9.59 1.41.59.51 0 1.02-.2 1.41-.59l7.78-7.78 2.81-2.81c.8-.78.8-2.07 0-2.86zM5.41 20L4 18.59l7.72-7.72 1.47 1.35L5.41 20z\"/>\n",
              "  </svg>\n",
              "      </button>\n",
              "      \n",
              "  <style>\n",
              "    .colab-df-container {\n",
              "      display:flex;\n",
              "      flex-wrap:wrap;\n",
              "      gap: 12px;\n",
              "    }\n",
              "\n",
              "    .colab-df-convert {\n",
              "      background-color: #E8F0FE;\n",
              "      border: none;\n",
              "      border-radius: 50%;\n",
              "      cursor: pointer;\n",
              "      display: none;\n",
              "      fill: #1967D2;\n",
              "      height: 32px;\n",
              "      padding: 0 0 0 0;\n",
              "      width: 32px;\n",
              "    }\n",
              "\n",
              "    .colab-df-convert:hover {\n",
              "      background-color: #E2EBFA;\n",
              "      box-shadow: 0px 1px 2px rgba(60, 64, 67, 0.3), 0px 1px 3px 1px rgba(60, 64, 67, 0.15);\n",
              "      fill: #174EA6;\n",
              "    }\n",
              "\n",
              "    [theme=dark] .colab-df-convert {\n",
              "      background-color: #3B4455;\n",
              "      fill: #D2E3FC;\n",
              "    }\n",
              "\n",
              "    [theme=dark] .colab-df-convert:hover {\n",
              "      background-color: #434B5C;\n",
              "      box-shadow: 0px 1px 3px 1px rgba(0, 0, 0, 0.15);\n",
              "      filter: drop-shadow(0px 1px 2px rgba(0, 0, 0, 0.3));\n",
              "      fill: #FFFFFF;\n",
              "    }\n",
              "  </style>\n",
              "\n",
              "      <script>\n",
              "        const buttonEl =\n",
              "          document.querySelector('#df-6b631714-b22f-4df8-9585-a7de35bbb604 button.colab-df-convert');\n",
              "        buttonEl.style.display =\n",
              "          google.colab.kernel.accessAllowed ? 'block' : 'none';\n",
              "\n",
              "        async function convertToInteractive(key) {\n",
              "          const element = document.querySelector('#df-6b631714-b22f-4df8-9585-a7de35bbb604');\n",
              "          const dataTable =\n",
              "            await google.colab.kernel.invokeFunction('convertToInteractive',\n",
              "                                                     [key], {});\n",
              "          if (!dataTable) return;\n",
              "\n",
              "          const docLinkHtml = 'Like what you see? Visit the ' +\n",
              "            '<a target=\"_blank\" href=https://colab.research.google.com/notebooks/data_table.ipynb>data table notebook</a>'\n",
              "            + ' to learn more about interactive tables.';\n",
              "          element.innerHTML = '';\n",
              "          dataTable['output_type'] = 'display_data';\n",
              "          await google.colab.output.renderOutput(dataTable, element);\n",
              "          const docLink = document.createElement('div');\n",
              "          docLink.innerHTML = docLinkHtml;\n",
              "          element.appendChild(docLink);\n",
              "        }\n",
              "      </script>\n",
              "    </div>\n",
              "  </div>\n",
              "  "
            ]
          },
          "metadata": {},
          "execution_count": 22
        }
      ]
    },
    {
      "cell_type": "code",
      "source": [
        "#example using agg() to calculate operations of more than one aggregation functions\n",
        "\n",
        "df['Number'].agg(['sum', 'min'])"
      ],
      "metadata": {
        "colab": {
          "base_uri": "https://localhost:8080/"
        },
        "id": "GdzXGfr9Ah9y",
        "outputId": "79b52e77-899a-4b74-94db-053fb18c5a94"
      },
      "execution_count": null,
      "outputs": [
        {
          "output_type": "execute_result",
          "data": {
            "text/plain": [
              "sum    2776305\n",
              "min          1\n",
              "Name: Number, dtype: int64"
            ]
          },
          "metadata": {},
          "execution_count": 23
        }
      ]
    },
    {
      "cell_type": "markdown",
      "metadata": {
        "id": "p4CcVO1TVJJ-"
      },
      "source": [
        "#### **QUESTION 4**\n",
        "\n",
        "What are the unique values or categories present in the dataset e.g(Communicable diseases) ?"
      ]
    },
    {
      "cell_type": "markdown",
      "source": [
        "- This could be explored using  **unique** values in Pandas or Numpy."
      ],
      "metadata": {
        "id": "il2nA3P9VBZ0"
      }
    },
    {
      "cell_type": "code",
      "execution_count": null,
      "metadata": {
        "id": "R_C78KePVJJ-",
        "colab": {
          "base_uri": "https://localhost:8080/"
        },
        "outputId": "88e7fd34-8d7b-4f76-c769-8d9fac2a1946"
      },
      "outputs": [
        {
          "output_type": "execute_result",
          "data": {
            "text/plain": [
              "array(['Cholera', 'Dengue fever', 'Dengue haemorrhagic fever',\n",
              "       'Dysentry ', 'Food poisoning', 'Hepatitis A', 'Hepatitis B',\n",
              "       'Hepatitis C', 'Leprosy', 'Measles', 'Neonatal Tetanus ',\n",
              "       'Other Specified Viral', 'Other Tetanus', 'Tuberculosis',\n",
              "       'Typhoid', 'Viral encephalitis', 'Whooping cough', 'A.I.D.S',\n",
              "       'Diphteria', 'Gonorrhoea', 'H.I.V', 'Hand, Foot and Mouth Disease',\n",
              "       'Leptospirosis', 'Malaria', 'Syphillis', 'Typhus', 'Pertusis'],\n",
              "      dtype=object)"
            ]
          },
          "metadata": {},
          "execution_count": 24
        }
      ],
      "source": [
        "df['Communicable diseases'].unique()"
      ]
    },
    {
      "cell_type": "markdown",
      "source": [
        "> There are 29 unique value for communicable diseases."
      ],
      "metadata": {
        "id": "hY537VeU-apI"
      }
    },
    {
      "cell_type": "markdown",
      "metadata": {
        "id": "uFuZBqX1VJJ_"
      },
      "source": [
        "#### **QUESTION 5**\n",
        "\n",
        "Which year have the highest rate of communicable diseases and what is the maximum communicable disease rate for each year in the dataset?"
      ]
    },
    {
      "cell_type": "markdown",
      "source": [
        "- The highest rate of communicable diseases is in 2016."
      ],
      "metadata": {
        "id": "ELfMCytT834l"
      }
    },
    {
      "cell_type": "code",
      "execution_count": null,
      "metadata": {
        "id": "0XCOkgIHVJJ_",
        "colab": {
          "base_uri": "https://localhost:8080/",
          "height": 416
        },
        "outputId": "a0991d9d-fbf0-4a90-c360-4ccbf77731d8"
      },
      "outputs": [
        {
          "output_type": "display_data",
          "data": {
            "text/plain": [
              "<Figure size 576x432 with 1 Axes>"
            ],
            "image/png": "[encoded data removed]"
          },
          "metadata": {
            "needs_background": "light"
          }
        }
      ],
      "source": [
        "plt.figure(figsize=(8,6))\n",
        "\n",
        "sns.barplot(x=df['Year'], y=df.index)\n",
        "plt.xlabel(\"Year\")\n",
        "plt.ylabel(\"Rate\")\n",
        "plt.title(\"Rate of Incidents per Year\")\n",
        "plt.show()"
      ]
    },
    {
      "cell_type": "markdown",
      "source": [
        "#### **QUESTION 6**\n",
        "\n",
        "What is the maximum communicable disease rate for each year in the dataset?"
      ],
      "metadata": {
        "id": "VE2jHbY7BOsq"
      }
    },
    {
      "cell_type": "markdown",
      "source": [
        "- Below are the maximum communicable disease rate for each year in the dataset:"
      ],
      "metadata": {
        "id": "f8ImiRv-Bdi4"
      }
    },
    {
      "cell_type": "code",
      "source": [
        "pd.DataFrame(df.groupby('Year').max()['Rate'])"
      ],
      "metadata": {
        "colab": {
          "base_uri": "https://localhost:8080/",
          "height": 269
        },
        "id": "_0o5iwSmBlx-",
        "outputId": "42075741-d96d-49d9-c41e-190513ad972d"
      },
      "execution_count": null,
      "outputs": [
        {
          "output_type": "execute_result",
          "data": {
            "text/plain": [
              "             Rate\n",
              "Year             \n",
              "2013   410.670000\n",
              "2014   925.540000\n",
              "2015  1065.930000\n",
              "2016   814.380000\n",
              "2017   704.363313\n",
              "2018   694.460000"
            ],
            "text/html": [
              "\n",
              "  <div id=\"df-2c01b359-2557-459d-a488-5a84ac4987a9\">\n",
              "    <div class=\"colab-df-container\">\n",
              "      <div>\n",
              "<style scoped>\n",
              "    .dataframe tbody tr th:only-of-type {\n",
              "        vertical-align: middle;\n",
              "    }\n",
              "\n",
              "    .dataframe tbody tr th {\n",
              "        vertical-align: top;\n",
              "    }\n",
              "\n",
              "    .dataframe thead th {\n",
              "        text-align: right;\n",
              "    }\n",
              "</style>\n",
              "<table border=\"1\" class=\"dataframe\">\n",
              "  <thead>\n",
              "    <tr style=\"text-align: right;\">\n",
              "      <th></th>\n",
              "      <th>Rate</th>\n",
              "    </tr>\n",
              "    <tr>\n",
              "      <th>Year</th>\n",
              "      <th></th>\n",
              "    </tr>\n",
              "  </thead>\n",
              "  <tbody>\n",
              "    <tr>\n",
              "      <th>2013</th>\n",
              "      <td>410.670000</td>\n",
              "    </tr>\n",
              "    <tr>\n",
              "      <th>2014</th>\n",
              "      <td>925.540000</td>\n",
              "    </tr>\n",
              "    <tr>\n",
              "      <th>2015</th>\n",
              "      <td>1065.930000</td>\n",
              "    </tr>\n",
              "    <tr>\n",
              "      <th>2016</th>\n",
              "      <td>814.380000</td>\n",
              "    </tr>\n",
              "    <tr>\n",
              "      <th>2017</th>\n",
              "      <td>704.363313</td>\n",
              "    </tr>\n",
              "    <tr>\n",
              "      <th>2018</th>\n",
              "      <td>694.460000</td>\n",
              "    </tr>\n",
              "  </tbody>\n",
              "</table>\n",
              "</div>\n",
              "      <button class=\"colab-df-convert\" onclick=\"convertToInteractive('df-2c01b359-2557-459d-a488-5a84ac4987a9')\"\n",
              "              title=\"Convert this dataframe to an interactive table.\"\n",
              "              style=\"display:none;\">\n",
              "        \n",
              "  <svg xmlns=\"http://www.w3.org/2000/svg\" height=\"24px\"viewBox=\"0 0 24 24\"\n",
              "       width=\"24px\">\n",
              "    <path d=\"M0 0h24v24H0V0z\" fill=\"none\"/>\n",
              "    <path d=\"M18.56 5.44l.94 2.06.94-2.06 2.06-.94-2.06-.94-.94-2.06-.94 2.06-2.06.94zm-11 1L8.5 8.5l.94-2.06 2.06-.94-2.06-.94L8.5 2.5l-.94 2.06-2.06.94zm10 10l.94 2.06.94-2.06 2.06-.94-2.06-.94-.94-2.06-.94 2.06-2.06.94z\"/><path d=\"M17.41 7.96l-1.37-1.37c-.4-.4-.92-.59-1.43-.59-.52 0-1.04.2-1.43.59L10.3 9.45l-7.72 7.72c-.78.78-.78 2.05 0 2.83L4 21.41c.39.39.9.59 1.41.59.51 0 1.02-.2 1.41-.59l7.78-7.78 2.81-2.81c.8-.78.8-2.07 0-2.86zM5.41 20L4 18.59l7.72-7.72 1.47 1.35L5.41 20z\"/>\n",
              "  </svg>\n",
              "      </button>\n",
              "      \n",
              "  <style>\n",
              "    .colab-df-container {\n",
              "      display:flex;\n",
              "      flex-wrap:wrap;\n",
              "      gap: 12px;\n",
              "    }\n",
              "\n",
              "    .colab-df-convert {\n",
              "      background-color: #E8F0FE;\n",
              "      border: none;\n",
              "      border-radius: 50%;\n",
              "      cursor: pointer;\n",
              "      display: none;\n",
              "      fill: #1967D2;\n",
              "      height: 32px;\n",
              "      padding: 0 0 0 0;\n",
              "      width: 32px;\n",
              "    }\n",
              "\n",
              "    .colab-df-convert:hover {\n",
              "      background-color: #E2EBFA;\n",
              "      box-shadow: 0px 1px 2px rgba(60, 64, 67, 0.3), 0px 1px 3px 1px rgba(60, 64, 67, 0.15);\n",
              "      fill: #174EA6;\n",
              "    }\n",
              "\n",
              "    [theme=dark] .colab-df-convert {\n",
              "      background-color: #3B4455;\n",
              "      fill: #D2E3FC;\n",
              "    }\n",
              "\n",
              "    [theme=dark] .colab-df-convert:hover {\n",
              "      background-color: #434B5C;\n",
              "      box-shadow: 0px 1px 3px 1px rgba(0, 0, 0, 0.15);\n",
              "      filter: drop-shadow(0px 1px 2px rgba(0, 0, 0, 0.3));\n",
              "      fill: #FFFFFF;\n",
              "    }\n",
              "  </style>\n",
              "\n",
              "      <script>\n",
              "        const buttonEl =\n",
              "          document.querySelector('#df-2c01b359-2557-459d-a488-5a84ac4987a9 button.colab-df-convert');\n",
              "        buttonEl.style.display =\n",
              "          google.colab.kernel.accessAllowed ? 'block' : 'none';\n",
              "\n",
              "        async function convertToInteractive(key) {\n",
              "          const element = document.querySelector('#df-2c01b359-2557-459d-a488-5a84ac4987a9');\n",
              "          const dataTable =\n",
              "            await google.colab.kernel.invokeFunction('convertToInteractive',\n",
              "                                                     [key], {});\n",
              "          if (!dataTable) return;\n",
              "\n",
              "          const docLinkHtml = 'Like what you see? Visit the ' +\n",
              "            '<a target=\"_blank\" href=https://colab.research.google.com/notebooks/data_table.ipynb>data table notebook</a>'\n",
              "            + ' to learn more about interactive tables.';\n",
              "          element.innerHTML = '';\n",
              "          dataTable['output_type'] = 'display_data';\n",
              "          await google.colab.output.renderOutput(dataTable, element);\n",
              "          const docLink = document.createElement('div');\n",
              "          docLink.innerHTML = docLinkHtml;\n",
              "          element.appendChild(docLink);\n",
              "        }\n",
              "      </script>\n",
              "    </div>\n",
              "  </div>\n",
              "  "
            ]
          },
          "metadata": {},
          "execution_count": 26
        }
      ]
    },
    {
      "cell_type": "markdown",
      "source": [
        "> We can conclude that 2015 has the highest maximum value of rate of incidents than other years."
      ],
      "metadata": {
        "id": "mdGCWYsM-qw8"
      }
    },
    {
      "cell_type": "markdown",
      "metadata": {
        "id": "VxoO755tVJJ_"
      },
      "source": [
        "## **Inferences and Conclusion**\n",
        "\n",
        "Based on the heatmap in **Question 1**, we can see that there are no relationships found between Year among both Rate (Calculates the incident rate of communicable disease) and Number (Displays how frequent the communicable disease is found in patients throughout the state and year). Besides that, in **Question 2** we can list out the top 10 communicable diseases according to the mean number of incidents by grouping the 10 highest communicable diseases according to its average number of incidents.\n",
        "\n",
        "In **Question 3**, we can perform functions by implementing aggregation. Here, you could see the pattern and common values being found by using **value_counts**, **groupby.sum** and **.agg**. **Question 4** helps us to identify unique communicable diseases. Meanwhile in **Question 5** we can conclude that the year 2016 has the highest occurance of communicable disease cases in Malaysia with a rate higher than 2000 cases. Last but not least, for **Question 6**, we can conclude that the maximum rate of communicable diseases is 1065 which can be found on the year 2015 which can correlate close with the previous question.\n",
        "\n",
        "In general, analyzing a dataset in Python involves exploring the characteristics and structure of the data, identifying any missing or incomplete values, and examining the relationships and patterns within the data. This can involve using various techniques and tools such as value counts, aggregation, visualization, and statistical analysis to gain insights and draw conclusions about the data."
      ]
    },
    {
      "cell_type": "markdown",
      "metadata": {
        "id": "xfuc6sJgVJKA"
      },
      "source": [
        "## **References and Future Work**\n",
        "\n",
        "- Building a machine learning model to predict a continuous or categorical outcome based on a set of input features. This could involve preprocessing the data, selecting and tuning the model, and evaluating the performance of the model. Resources such as the scikit-learn library and online tutorials such as the ones provided by the scikit-learn team (https://scikit-learn.org/stable/tutorial/index.html) could be useful for this type of project.\n",
        "\n",
        "- Analyzing and visualizing data to gain insights and communicate findings. This could involve cleaning and preparing the data, using techniques such as aggregation and grouping to summarize the data, and using tools such as Matplotlib and Seaborn to create various types of plots and charts. Resources such as the Pandas documentation (https://pandas.pydata.org/docs/) and the Matplotlib and Seaborn documentation (https://matplotlib.org/stable/contents.html and https://seaborn.pydata.org/stable/index.html) could be useful for this type of project."
      ]
    }
  ],
  "metadata": {
    "kernelspec": {
      "display_name": "Python 3",
      "language": "python",
      "name": "python3"
    },
    "language_info": {
      "codemirror_mode": {
        "name": "ipython",
        "version": 3
      },
      "file_extension": ".py",
      "mimetype": "text/x-python",
      "name": "python",
      "nbconvert_exporter": "python",
      "pygments_lexer": "ipython3",
      "version": "3.8.5"
    },
    "colab": {
      "provenance": [],
      "toc_visible": true,
      "include_colab_link": true
    }
  },
  "nbformat": 4,
  "nbformat_minor": 0
}