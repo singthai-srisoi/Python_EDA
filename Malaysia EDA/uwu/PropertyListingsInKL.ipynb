{
  "cells": [
    {
      "cell_type": "markdown",
      "metadata": {
        "id": "view-in-github",
        "colab_type": "text"
      },
      "source": [
        "<a href=\"https://colab.research.google.com/github/drshahizan/Python_EDA/blob/main/Malaysia%20EDA/uwu/PropertyListingsInKL.ipynb\" target=\"_parent\"><img src=\"https://colab.research.google.com/assets/colab-badge.svg\" alt=\"Open In Colab\"/></a>"
      ]
    },
    {
      "cell_type": "markdown",
      "metadata": {
        "id": "7F8DQl5dVJJ0"
      },
      "source": [
        "# **Property Listing In Kuala Lumpur** <a href=\"https://www.utm.my\" target=\"_parent\"><img src=\"https://colab.research.google.com/assets/colab-badge.svg\" alt=\"Open In Colab\"/></a>\n",
        "\n",
        "1. Nur Izzah Mardhiah binti Rashidi A20EC0116\n",
        "2. Radin Dafina binti Radin Zulkar Nain A20EC0135"
      ]
    },
    {
      "cell_type": "markdown",
      "metadata": {
        "id": "LxWzVndBVJJ1"
      },
      "source": [
        "# **Downloading the Dataset**\n",
        "\n",
        "The chosen dataset is a tabular output of a search for properties for sale in Kuala Lumpur, Malaysia, from a real estate listing website."
      ]
    },
    {
      "cell_type": "markdown",
      "source": [
        "Download the dataset from [Kaggle](https://www.kaggle.com/datasets/dragonduck/property-listings-in-kuala-lumpur).\n",
        "\n",
        "Unzip the file. The folder contains an Excel file, where the dataset is.\n",
        "\n",
        "Upload the Excel file into Google Drive. \n"
      ],
      "metadata": {
        "id": "mhc6DjAtBogi"
      }
    },
    {
      "cell_type": "markdown",
      "source": [
        "To use the dataset, we mount the Google Drive to Google Colab."
      ],
      "metadata": {
        "id": "Un6QRxj0Cf7C"
      }
    },
    {
      "cell_type": "code",
      "execution_count": null,
      "metadata": {
        "id": "nqciugWLVJJ4",
        "colab": {
          "base_uri": "https://localhost:8080/"
        },
        "outputId": "47ceaafe-f53c-4717-d1ee-e6aa72230b06"
      },
      "outputs": [
        {
          "output_type": "stream",
          "name": "stdout",
          "text": [
            "Drive already mounted at /content/drive; to attempt to forcibly remount, call drive.mount(\"/content/drive\", force_remount=True).\n"
          ]
        }
      ],
      "source": [
        "from google.colab import drive\n",
        "drive.mount('/content/drive')"
      ]
    },
    {
      "cell_type": "markdown",
      "source": [
        "To read the dataset, we assign a variable named 'dataset' to the path of the file in Google Drive. "
      ],
      "metadata": {
        "id": "TFfULstqDaFQ"
      }
    },
    {
      "cell_type": "code",
      "execution_count": null,
      "metadata": {
        "id": "Rsgjn7WZVJJ4"
      },
      "outputs": [],
      "source": [
        "dataset = '/content/drive/MyDrive/Colab Notebooks/Assignment 1/Property_Listings_KL.csv'"
      ]
    },
    {
      "cell_type": "markdown",
      "source": [
        "\n",
        "\n",
        "---\n",
        "\n"
      ],
      "metadata": {
        "id": "fV_oHI3CfMoE"
      }
    },
    {
      "cell_type": "markdown",
      "metadata": {
        "id": "u0vucnGFVJJ5"
      },
      "source": [
        "# **Data Preparation and Cleaning**"
      ]
    },
    {
      "cell_type": "markdown",
      "source": [
        "To aid us in cleaning the data, we import Pandas and Numpy library"
      ],
      "metadata": {
        "id": "3jaXU48tELLs"
      }
    },
    {
      "cell_type": "code",
      "execution_count": null,
      "metadata": {
        "id": "df5R-2s3VJJ5"
      },
      "outputs": [],
      "source": [
        "import pandas as pd\n",
        "import numpy as np"
      ]
    },
    {
      "cell_type": "code",
      "execution_count": null,
      "metadata": {
        "id": "t26lvNVLVJJ5"
      },
      "outputs": [],
      "source": [
        "data  = pd.read_csv(dataset)"
      ]
    },
    {
      "cell_type": "markdown",
      "source": [
        "We load the dataset into a Pandas Data Frame"
      ],
      "metadata": {
        "id": "5VsGsNfMH73n"
      }
    },
    {
      "cell_type": "code",
      "source": [
        "df = pd.DataFrame(data)\n",
        "display(df)"
      ],
      "metadata": {
        "id": "XPq97CBmIA-R",
        "colab": {
          "base_uri": "https://localhost:8080/",
          "height": 424
        },
        "outputId": "b58a6277-f55f-4777-811f-08725ebd336a"
      },
      "execution_count": null,
      "outputs": [
        {
          "output_type": "display_data",
          "data": {
            "text/plain": [
              "                              Location         Price Rooms  Bathrooms  \\\n",
              "0                   KLCC, Kuala Lumpur  RM 1,250,000   2+1        3.0   \n",
              "1      Damansara Heights, Kuala Lumpur  RM 6,800,000     6        7.0   \n",
              "2                Dutamas, Kuala Lumpur  RM 1,030,000     3        4.0   \n",
              "3                 Cheras, Kuala Lumpur           NaN   NaN        NaN   \n",
              "4            Bukit Jalil, Kuala Lumpur    RM 900,000   4+1        3.0   \n",
              "...                                ...           ...   ...        ...   \n",
              "53878            Bangsar, Kuala Lumpur  RM 5,100,000   5+1        4.0   \n",
              "53879            Bangsar, Kuala Lumpur  RM 5,000,000     5        4.0   \n",
              "53880            Bangsar, Kuala Lumpur  RM 5,500,000   5+1        4.0   \n",
              "53881        Wangsa Maju, Kuala Lumpur    RM 480,000     3        2.0   \n",
              "53882            Setapak, Kuala Lumpur    RM 540,000     4        2.0   \n",
              "\n",
              "       Car Parks               Property Type                       Size  \\\n",
              "0            2.0          Serviced Residence   Built-up : 1,335 sq. ft.   \n",
              "1            NaN                    Bungalow   Land area : 6900 sq. ft.   \n",
              "2            2.0        Condominium (Corner)   Built-up : 1,875 sq. ft.   \n",
              "3            NaN                         NaN                        NaN   \n",
              "4            2.0        Condominium (Corner)   Built-up : 1,513 sq. ft.   \n",
              "...          ...                         ...                        ...   \n",
              "53878        NaN           Bungalow (Corner)   Land area : 7168 sq. ft.   \n",
              "53879        NaN     Bungalow (Intermediate)  Land area : 15000 sq. ft.   \n",
              "53880        NaN     Bungalow (Intermediate)   Land area : 7168 sq. ft.   \n",
              "53881        NaN  Condominium (Intermediate)   Built-up : 1,150 sq. ft.   \n",
              "53882        3.0  Condominium (Intermediate)   Built-up : 1,313 sq. ft.   \n",
              "\n",
              "             Furnishing  \n",
              "0       Fully Furnished  \n",
              "1      Partly Furnished  \n",
              "2      Partly Furnished  \n",
              "3                   NaN  \n",
              "4      Partly Furnished  \n",
              "...                 ...  \n",
              "53878   Fully Furnished  \n",
              "53879       Unfurnished  \n",
              "53880  Partly Furnished  \n",
              "53881       Unfurnished  \n",
              "53882  Partly Furnished  \n",
              "\n",
              "[53883 rows x 8 columns]"
            ],
            "text/html": [
              "\n",
              "  <div id=\"df-14c0eb56-0abb-4465-9b69-ff2907e2a413\">\n",
              "    <div class=\"colab-df-container\">\n",
              "      <div>\n",
              "<style scoped>\n",
              "    .dataframe tbody tr th:only-of-type {\n",
              "        vertical-align: middle;\n",
              "    }\n",
              "\n",
              "    .dataframe tbody tr th {\n",
              "        vertical-align: top;\n",
              "    }\n",
              "\n",
              "    .dataframe thead th {\n",
              "        text-align: right;\n",
              "    }\n",
              "</style>\n",
              "<table border=\"1\" class=\"dataframe\">\n",
              "  <thead>\n",
              "    <tr style=\"text-align: right;\">\n",
              "      <th></th>\n",
              "      <th>Location</th>\n",
              "      <th>Price</th>\n",
              "      <th>Rooms</th>\n",
              "      <th>Bathrooms</th>\n",
              "      <th>Car Parks</th>\n",
              "      <th>Property Type</th>\n",
              "      <th>Size</th>\n",
              "      <th>Furnishing</th>\n",
              "    </tr>\n",
              "  </thead>\n",
              "  <tbody>\n",
              "    <tr>\n",
              "      <th>0</th>\n",
              "      <td>KLCC, Kuala Lumpur</td>\n",
              "      <td>RM 1,250,000</td>\n",
              "      <td>2+1</td>\n",
              "      <td>3.0</td>\n",
              "      <td>2.0</td>\n",
              "      <td>Serviced Residence</td>\n",
              "      <td>Built-up : 1,335 sq. ft.</td>\n",
              "      <td>Fully Furnished</td>\n",
              "    </tr>\n",
              "    <tr>\n",
              "      <th>1</th>\n",
              "      <td>Damansara Heights, Kuala Lumpur</td>\n",
              "      <td>RM 6,800,000</td>\n",
              "      <td>6</td>\n",
              "      <td>7.0</td>\n",
              "      <td>NaN</td>\n",
              "      <td>Bungalow</td>\n",
              "      <td>Land area : 6900 sq. ft.</td>\n",
              "      <td>Partly Furnished</td>\n",
              "    </tr>\n",
              "    <tr>\n",
              "      <th>2</th>\n",
              "      <td>Dutamas, Kuala Lumpur</td>\n",
              "      <td>RM 1,030,000</td>\n",
              "      <td>3</td>\n",
              "      <td>4.0</td>\n",
              "      <td>2.0</td>\n",
              "      <td>Condominium (Corner)</td>\n",
              "      <td>Built-up : 1,875 sq. ft.</td>\n",
              "      <td>Partly Furnished</td>\n",
              "    </tr>\n",
              "    <tr>\n",
              "      <th>3</th>\n",
              "      <td>Cheras, Kuala Lumpur</td>\n",
              "      <td>NaN</td>\n",
              "      <td>NaN</td>\n",
              "      <td>NaN</td>\n",
              "      <td>NaN</td>\n",
              "      <td>NaN</td>\n",
              "      <td>NaN</td>\n",
              "      <td>NaN</td>\n",
              "    </tr>\n",
              "    <tr>\n",
              "      <th>4</th>\n",
              "      <td>Bukit Jalil, Kuala Lumpur</td>\n",
              "      <td>RM 900,000</td>\n",
              "      <td>4+1</td>\n",
              "      <td>3.0</td>\n",
              "      <td>2.0</td>\n",
              "      <td>Condominium (Corner)</td>\n",
              "      <td>Built-up : 1,513 sq. ft.</td>\n",
              "      <td>Partly Furnished</td>\n",
              "    </tr>\n",
              "    <tr>\n",
              "      <th>...</th>\n",
              "      <td>...</td>\n",
              "      <td>...</td>\n",
              "      <td>...</td>\n",
              "      <td>...</td>\n",
              "      <td>...</td>\n",
              "      <td>...</td>\n",
              "      <td>...</td>\n",
              "      <td>...</td>\n",
              "    </tr>\n",
              "    <tr>\n",
              "      <th>53878</th>\n",
              "      <td>Bangsar, Kuala Lumpur</td>\n",
              "      <td>RM 5,100,000</td>\n",
              "      <td>5+1</td>\n",
              "      <td>4.0</td>\n",
              "      <td>NaN</td>\n",
              "      <td>Bungalow (Corner)</td>\n",
              "      <td>Land area : 7168 sq. ft.</td>\n",
              "      <td>Fully Furnished</td>\n",
              "    </tr>\n",
              "    <tr>\n",
              "      <th>53879</th>\n",
              "      <td>Bangsar, Kuala Lumpur</td>\n",
              "      <td>RM 5,000,000</td>\n",
              "      <td>5</td>\n",
              "      <td>4.0</td>\n",
              "      <td>NaN</td>\n",
              "      <td>Bungalow (Intermediate)</td>\n",
              "      <td>Land area : 15000 sq. ft.</td>\n",
              "      <td>Unfurnished</td>\n",
              "    </tr>\n",
              "    <tr>\n",
              "      <th>53880</th>\n",
              "      <td>Bangsar, Kuala Lumpur</td>\n",
              "      <td>RM 5,500,000</td>\n",
              "      <td>5+1</td>\n",
              "      <td>4.0</td>\n",
              "      <td>NaN</td>\n",
              "      <td>Bungalow (Intermediate)</td>\n",
              "      <td>Land area : 7168 sq. ft.</td>\n",
              "      <td>Partly Furnished</td>\n",
              "    </tr>\n",
              "    <tr>\n",
              "      <th>53881</th>\n",
              "      <td>Wangsa Maju, Kuala Lumpur</td>\n",
              "      <td>RM 480,000</td>\n",
              "      <td>3</td>\n",
              "      <td>2.0</td>\n",
              "      <td>NaN</td>\n",
              "      <td>Condominium (Intermediate)</td>\n",
              "      <td>Built-up : 1,150 sq. ft.</td>\n",
              "      <td>Unfurnished</td>\n",
              "    </tr>\n",
              "    <tr>\n",
              "      <th>53882</th>\n",
              "      <td>Setapak, Kuala Lumpur</td>\n",
              "      <td>RM 540,000</td>\n",
              "      <td>4</td>\n",
              "      <td>2.0</td>\n",
              "      <td>3.0</td>\n",
              "      <td>Condominium (Intermediate)</td>\n",
              "      <td>Built-up : 1,313 sq. ft.</td>\n",
              "      <td>Partly Furnished</td>\n",
              "    </tr>\n",
              "  </tbody>\n",
              "</table>\n",
              "<p>53883 rows × 8 columns</p>\n",
              "</div>\n",
              "      <button class=\"colab-df-convert\" onclick=\"convertToInteractive('df-14c0eb56-0abb-4465-9b69-ff2907e2a413')\"\n",
              "              title=\"Convert this dataframe to an interactive table.\"\n",
              "              style=\"display:none;\">\n",
              "        \n",
              "  <svg xmlns=\"http://www.w3.org/2000/svg\" height=\"24px\"viewBox=\"0 0 24 24\"\n",
              "       width=\"24px\">\n",
              "    <path d=\"M0 0h24v24H0V0z\" fill=\"none\"/>\n",
              "    <path d=\"M18.56 5.44l.94 2.06.94-2.06 2.06-.94-2.06-.94-.94-2.06-.94 2.06-2.06.94zm-11 1L8.5 8.5l.94-2.06 2.06-.94-2.06-.94L8.5 2.5l-.94 2.06-2.06.94zm10 10l.94 2.06.94-2.06 2.06-.94-2.06-.94-.94-2.06-.94 2.06-2.06.94z\"/><path d=\"M17.41 7.96l-1.37-1.37c-.4-.4-.92-.59-1.43-.59-.52 0-1.04.2-1.43.59L10.3 9.45l-7.72 7.72c-.78.78-.78 2.05 0 2.83L4 21.41c.39.39.9.59 1.41.59.51 0 1.02-.2 1.41-.59l7.78-7.78 2.81-2.81c.8-.78.8-2.07 0-2.86zM5.41 20L4 18.59l7.72-7.72 1.47 1.35L5.41 20z\"/>\n",
              "  </svg>\n",
              "      </button>\n",
              "      \n",
              "  <style>\n",
              "    .colab-df-container {\n",
              "      display:flex;\n",
              "      flex-wrap:wrap;\n",
              "      gap: 12px;\n",
              "    }\n",
              "\n",
              "    .colab-df-convert {\n",
              "      background-color: #E8F0FE;\n",
              "      border: none;\n",
              "      border-radius: 50%;\n",
              "      cursor: pointer;\n",
              "      display: none;\n",
              "      fill: #1967D2;\n",
              "      height: 32px;\n",
              "      padding: 0 0 0 0;\n",
              "      width: 32px;\n",
              "    }\n",
              "\n",
              "    .colab-df-convert:hover {\n",
              "      background-color: #E2EBFA;\n",
              "      box-shadow: 0px 1px 2px rgba(60, 64, 67, 0.3), 0px 1px 3px 1px rgba(60, 64, 67, 0.15);\n",
              "      fill: #174EA6;\n",
              "    }\n",
              "\n",
              "    [theme=dark] .colab-df-convert {\n",
              "      background-color: #3B4455;\n",
              "      fill: #D2E3FC;\n",
              "    }\n",
              "\n",
              "    [theme=dark] .colab-df-convert:hover {\n",
              "      background-color: #434B5C;\n",
              "      box-shadow: 0px 1px 3px 1px rgba(0, 0, 0, 0.15);\n",
              "      filter: drop-shadow(0px 1px 2px rgba(0, 0, 0, 0.3));\n",
              "      fill: #FFFFFF;\n",
              "    }\n",
              "  </style>\n",
              "\n",
              "      <script>\n",
              "        const buttonEl =\n",
              "          document.querySelector('#df-14c0eb56-0abb-4465-9b69-ff2907e2a413 button.colab-df-convert');\n",
              "        buttonEl.style.display =\n",
              "          google.colab.kernel.accessAllowed ? 'block' : 'none';\n",
              "\n",
              "        async function convertToInteractive(key) {\n",
              "          const element = document.querySelector('#df-14c0eb56-0abb-4465-9b69-ff2907e2a413');\n",
              "          const dataTable =\n",
              "            await google.colab.kernel.invokeFunction('convertToInteractive',\n",
              "                                                     [key], {});\n",
              "          if (!dataTable) return;\n",
              "\n",
              "          const docLinkHtml = 'Like what you see? Visit the ' +\n",
              "            '<a target=\"_blank\" href=https://colab.research.google.com/notebooks/data_table.ipynb>data table notebook</a>'\n",
              "            + ' to learn more about interactive tables.';\n",
              "          element.innerHTML = '';\n",
              "          dataTable['output_type'] = 'display_data';\n",
              "          await google.colab.output.renderOutput(dataTable, element);\n",
              "          const docLink = document.createElement('div');\n",
              "          docLink.innerHTML = docLinkHtml;\n",
              "          element.appendChild(docLink);\n",
              "        }\n",
              "      </script>\n",
              "    </div>\n",
              "  </div>\n",
              "  "
            ]
          },
          "metadata": {}
        }
      ]
    },
    {
      "cell_type": "markdown",
      "source": [
        "We explore the dataset information including the number of rows and columns and its metadata."
      ],
      "metadata": {
        "id": "jNfktyFLeMbl"
      }
    },
    {
      "cell_type": "code",
      "source": [
        "df.info()"
      ],
      "metadata": {
        "id": "PSBRJPMwdvTC",
        "colab": {
          "base_uri": "https://localhost:8080/"
        },
        "outputId": "f53d2f2d-579b-4578-f61f-8406b5794781"
      },
      "execution_count": null,
      "outputs": [
        {
          "output_type": "stream",
          "name": "stdout",
          "text": [
            "<class 'pandas.core.frame.DataFrame'>\n",
            "RangeIndex: 53883 entries, 0 to 53882\n",
            "Data columns (total 8 columns):\n",
            " #   Column         Non-Null Count  Dtype  \n",
            "---  ------         --------------  -----  \n",
            " 0   Location       53883 non-null  object \n",
            " 1   Price          53635 non-null  object \n",
            " 2   Rooms          52177 non-null  object \n",
            " 3   Bathrooms      51870 non-null  float64\n",
            " 4   Car Parks      36316 non-null  float64\n",
            " 5   Property Type  53858 non-null  object \n",
            " 6   Size           52820 non-null  object \n",
            " 7   Furnishing     46953 non-null  object \n",
            "dtypes: float64(2), object(6)\n",
            "memory usage: 3.3+ MB\n"
          ]
        }
      ]
    },
    {
      "cell_type": "markdown",
      "source": [
        "\n",
        "\n",
        "---\n",
        "\n"
      ],
      "metadata": {
        "id": "kdOsVhZAfI5M"
      }
    },
    {
      "cell_type": "markdown",
      "source": [
        "## **Trim unnecessary string**"
      ],
      "metadata": {
        "id": "08idyAAeHE9e"
      }
    },
    {
      "cell_type": "markdown",
      "source": [
        "Standardize strings into lowercase"
      ],
      "metadata": {
        "id": "I9VADmlkj3rI"
      }
    },
    {
      "cell_type": "code",
      "source": [
        "df[\"Location\"] = df[\"Location\"].str.lower()"
      ],
      "metadata": {
        "id": "Tbw0ZJmXdJEc"
      },
      "execution_count": null,
      "outputs": []
    },
    {
      "cell_type": "markdown",
      "source": [
        "Trim 'Kuala Lumpur' in Location column"
      ],
      "metadata": {
        "id": "1EB1pKqUh0vj"
      }
    },
    {
      "cell_type": "code",
      "source": [
        "df['Location'] = df['Location'].str.replace(r', ', '')\n",
        "df['Location'] = df['Location'].str.replace(r'kuala lumpur', '')"
      ],
      "metadata": {
        "id": "a3kqq4csghb9"
      },
      "execution_count": null,
      "outputs": []
    },
    {
      "cell_type": "markdown",
      "source": [
        "*   Trim 'RM' in Price column\n",
        "*   Remove commas in Price column\n",
        "*   Strip whitespace in Price column"
      ],
      "metadata": {
        "id": "Hl1RJGIBRKGW"
      }
    },
    {
      "cell_type": "code",
      "source": [
        "df['Price'] = df['Price'].str.replace(r'RM', '')\n",
        "df['Price'] = df['Price'].str.replace(r',', '')\n",
        "df['Price'].str.strip()"
      ],
      "metadata": {
        "id": "F4iDGhSIViK2",
        "colab": {
          "base_uri": "https://localhost:8080/"
        },
        "outputId": "1bbf516f-84d9-4d34-ed51-1f44c92cc116"
      },
      "execution_count": null,
      "outputs": [
        {
          "output_type": "execute_result",
          "data": {
            "text/plain": [
              "0        1250000\n",
              "1        6800000\n",
              "2        1030000\n",
              "3            NaN\n",
              "4         900000\n",
              "          ...   \n",
              "53878    5100000\n",
              "53879    5000000\n",
              "53880    5500000\n",
              "53881     480000\n",
              "53882     540000\n",
              "Name: Price, Length: 53883, dtype: object"
            ]
          },
          "metadata": {},
          "execution_count": 206
        }
      ]
    },
    {
      "cell_type": "markdown",
      "source": [
        "Remove unit 'sq. ft.' in Size column"
      ],
      "metadata": {
        "id": "-iAFSdZLYn_4"
      }
    },
    {
      "cell_type": "code",
      "source": [
        "df['Size'] = df['Size'].str.replace(r'sq. ft.', '')\n",
        "df['Size'] = df['Size'].str.replace(r',', '')"
      ],
      "metadata": {
        "id": "RNL10zoyyH6m",
        "colab": {
          "base_uri": "https://localhost:8080/"
        },
        "outputId": "cca6ae68-5e1a-45c6-a2b0-9aa768d98477"
      },
      "execution_count": null,
      "outputs": [
        {
          "output_type": "stream",
          "name": "stderr",
          "text": [
            "<ipython-input-207-efa4dadab89b>:1: FutureWarning: The default value of regex will change from True to False in a future version.\n",
            "  df['Size'] = df['Size'].str.replace(r'sq. ft.', '')\n"
          ]
        }
      ]
    },
    {
      "cell_type": "code",
      "source": [
        "display(df)"
      ],
      "metadata": {
        "id": "TAFLTwBPijzH",
        "colab": {
          "base_uri": "https://localhost:8080/",
          "height": 424
        },
        "outputId": "2408c98f-d11c-4e39-e935-ddc5734ed089"
      },
      "execution_count": null,
      "outputs": [
        {
          "output_type": "display_data",
          "data": {
            "text/plain": [
              "                Location     Price Rooms  Bathrooms  Car Parks  \\\n",
              "0                   klcc   1250000   2+1        3.0        2.0   \n",
              "1      damansara heights   6800000     6        7.0        NaN   \n",
              "2                dutamas   1030000     3        4.0        2.0   \n",
              "3                 cheras       NaN   NaN        NaN        NaN   \n",
              "4            bukit jalil    900000   4+1        3.0        2.0   \n",
              "...                  ...       ...   ...        ...        ...   \n",
              "53878            bangsar   5100000   5+1        4.0        NaN   \n",
              "53879            bangsar   5000000     5        4.0        NaN   \n",
              "53880            bangsar   5500000   5+1        4.0        NaN   \n",
              "53881        wangsa maju    480000     3        2.0        NaN   \n",
              "53882            setapak    540000     4        2.0        3.0   \n",
              "\n",
              "                    Property Type                Size        Furnishing  \n",
              "0              Serviced Residence    Built-up : 1335    Fully Furnished  \n",
              "1                        Bungalow   Land area : 6900   Partly Furnished  \n",
              "2            Condominium (Corner)    Built-up : 1875   Partly Furnished  \n",
              "3                             NaN                 NaN               NaN  \n",
              "4            Condominium (Corner)    Built-up : 1513   Partly Furnished  \n",
              "...                           ...                 ...               ...  \n",
              "53878           Bungalow (Corner)   Land area : 7168    Fully Furnished  \n",
              "53879     Bungalow (Intermediate)  Land area : 15000        Unfurnished  \n",
              "53880     Bungalow (Intermediate)   Land area : 7168   Partly Furnished  \n",
              "53881  Condominium (Intermediate)    Built-up : 1150        Unfurnished  \n",
              "53882  Condominium (Intermediate)    Built-up : 1313   Partly Furnished  \n",
              "\n",
              "[53883 rows x 8 columns]"
            ],
            "text/html": [
              "\n",
              "  <div id=\"df-a56a3907-5fb1-41e0-9f19-ca9dce33fa93\">\n",
              "    <div class=\"colab-df-container\">\n",
              "      <div>\n",
              "<style scoped>\n",
              "    .dataframe tbody tr th:only-of-type {\n",
              "        vertical-align: middle;\n",
              "    }\n",
              "\n",
              "    .dataframe tbody tr th {\n",
              "        vertical-align: top;\n",
              "    }\n",
              "\n",
              "    .dataframe thead th {\n",
              "        text-align: right;\n",
              "    }\n",
              "</style>\n",
              "<table border=\"1\" class=\"dataframe\">\n",
              "  <thead>\n",
              "    <tr style=\"text-align: right;\">\n",
              "      <th></th>\n",
              "      <th>Location</th>\n",
              "      <th>Price</th>\n",
              "      <th>Rooms</th>\n",
              "      <th>Bathrooms</th>\n",
              "      <th>Car Parks</th>\n",
              "      <th>Property Type</th>\n",
              "      <th>Size</th>\n",
              "      <th>Furnishing</th>\n",
              "    </tr>\n",
              "  </thead>\n",
              "  <tbody>\n",
              "    <tr>\n",
              "      <th>0</th>\n",
              "      <td>klcc</td>\n",
              "      <td>1250000</td>\n",
              "      <td>2+1</td>\n",
              "      <td>3.0</td>\n",
              "      <td>2.0</td>\n",
              "      <td>Serviced Residence</td>\n",
              "      <td>Built-up : 1335</td>\n",
              "      <td>Fully Furnished</td>\n",
              "    </tr>\n",
              "    <tr>\n",
              "      <th>1</th>\n",
              "      <td>damansara heights</td>\n",
              "      <td>6800000</td>\n",
              "      <td>6</td>\n",
              "      <td>7.0</td>\n",
              "      <td>NaN</td>\n",
              "      <td>Bungalow</td>\n",
              "      <td>Land area : 6900</td>\n",
              "      <td>Partly Furnished</td>\n",
              "    </tr>\n",
              "    <tr>\n",
              "      <th>2</th>\n",
              "      <td>dutamas</td>\n",
              "      <td>1030000</td>\n",
              "      <td>3</td>\n",
              "      <td>4.0</td>\n",
              "      <td>2.0</td>\n",
              "      <td>Condominium (Corner)</td>\n",
              "      <td>Built-up : 1875</td>\n",
              "      <td>Partly Furnished</td>\n",
              "    </tr>\n",
              "    <tr>\n",
              "      <th>3</th>\n",
              "      <td>cheras</td>\n",
              "      <td>NaN</td>\n",
              "      <td>NaN</td>\n",
              "      <td>NaN</td>\n",
              "      <td>NaN</td>\n",
              "      <td>NaN</td>\n",
              "      <td>NaN</td>\n",
              "      <td>NaN</td>\n",
              "    </tr>\n",
              "    <tr>\n",
              "      <th>4</th>\n",
              "      <td>bukit jalil</td>\n",
              "      <td>900000</td>\n",
              "      <td>4+1</td>\n",
              "      <td>3.0</td>\n",
              "      <td>2.0</td>\n",
              "      <td>Condominium (Corner)</td>\n",
              "      <td>Built-up : 1513</td>\n",
              "      <td>Partly Furnished</td>\n",
              "    </tr>\n",
              "    <tr>\n",
              "      <th>...</th>\n",
              "      <td>...</td>\n",
              "      <td>...</td>\n",
              "      <td>...</td>\n",
              "      <td>...</td>\n",
              "      <td>...</td>\n",
              "      <td>...</td>\n",
              "      <td>...</td>\n",
              "      <td>...</td>\n",
              "    </tr>\n",
              "    <tr>\n",
              "      <th>53878</th>\n",
              "      <td>bangsar</td>\n",
              "      <td>5100000</td>\n",
              "      <td>5+1</td>\n",
              "      <td>4.0</td>\n",
              "      <td>NaN</td>\n",
              "      <td>Bungalow (Corner)</td>\n",
              "      <td>Land area : 7168</td>\n",
              "      <td>Fully Furnished</td>\n",
              "    </tr>\n",
              "    <tr>\n",
              "      <th>53879</th>\n",
              "      <td>bangsar</td>\n",
              "      <td>5000000</td>\n",
              "      <td>5</td>\n",
              "      <td>4.0</td>\n",
              "      <td>NaN</td>\n",
              "      <td>Bungalow (Intermediate)</td>\n",
              "      <td>Land area : 15000</td>\n",
              "      <td>Unfurnished</td>\n",
              "    </tr>\n",
              "    <tr>\n",
              "      <th>53880</th>\n",
              "      <td>bangsar</td>\n",
              "      <td>5500000</td>\n",
              "      <td>5+1</td>\n",
              "      <td>4.0</td>\n",
              "      <td>NaN</td>\n",
              "      <td>Bungalow (Intermediate)</td>\n",
              "      <td>Land area : 7168</td>\n",
              "      <td>Partly Furnished</td>\n",
              "    </tr>\n",
              "    <tr>\n",
              "      <th>53881</th>\n",
              "      <td>wangsa maju</td>\n",
              "      <td>480000</td>\n",
              "      <td>3</td>\n",
              "      <td>2.0</td>\n",
              "      <td>NaN</td>\n",
              "      <td>Condominium (Intermediate)</td>\n",
              "      <td>Built-up : 1150</td>\n",
              "      <td>Unfurnished</td>\n",
              "    </tr>\n",
              "    <tr>\n",
              "      <th>53882</th>\n",
              "      <td>setapak</td>\n",
              "      <td>540000</td>\n",
              "      <td>4</td>\n",
              "      <td>2.0</td>\n",
              "      <td>3.0</td>\n",
              "      <td>Condominium (Intermediate)</td>\n",
              "      <td>Built-up : 1313</td>\n",
              "      <td>Partly Furnished</td>\n",
              "    </tr>\n",
              "  </tbody>\n",
              "</table>\n",
              "<p>53883 rows × 8 columns</p>\n",
              "</div>\n",
              "      <button class=\"colab-df-convert\" onclick=\"convertToInteractive('df-a56a3907-5fb1-41e0-9f19-ca9dce33fa93')\"\n",
              "              title=\"Convert this dataframe to an interactive table.\"\n",
              "              style=\"display:none;\">\n",
              "        \n",
              "  <svg xmlns=\"http://www.w3.org/2000/svg\" height=\"24px\"viewBox=\"0 0 24 24\"\n",
              "       width=\"24px\">\n",
              "    <path d=\"M0 0h24v24H0V0z\" fill=\"none\"/>\n",
              "    <path d=\"M18.56 5.44l.94 2.06.94-2.06 2.06-.94-2.06-.94-.94-2.06-.94 2.06-2.06.94zm-11 1L8.5 8.5l.94-2.06 2.06-.94-2.06-.94L8.5 2.5l-.94 2.06-2.06.94zm10 10l.94 2.06.94-2.06 2.06-.94-2.06-.94-.94-2.06-.94 2.06-2.06.94z\"/><path d=\"M17.41 7.96l-1.37-1.37c-.4-.4-.92-.59-1.43-.59-.52 0-1.04.2-1.43.59L10.3 9.45l-7.72 7.72c-.78.78-.78 2.05 0 2.83L4 21.41c.39.39.9.59 1.41.59.51 0 1.02-.2 1.41-.59l7.78-7.78 2.81-2.81c.8-.78.8-2.07 0-2.86zM5.41 20L4 18.59l7.72-7.72 1.47 1.35L5.41 20z\"/>\n",
              "  </svg>\n",
              "      </button>\n",
              "      \n",
              "  <style>\n",
              "    .colab-df-container {\n",
              "      display:flex;\n",
              "      flex-wrap:wrap;\n",
              "      gap: 12px;\n",
              "    }\n",
              "\n",
              "    .colab-df-convert {\n",
              "      background-color: #E8F0FE;\n",
              "      border: none;\n",
              "      border-radius: 50%;\n",
              "      cursor: pointer;\n",
              "      display: none;\n",
              "      fill: #1967D2;\n",
              "      height: 32px;\n",
              "      padding: 0 0 0 0;\n",
              "      width: 32px;\n",
              "    }\n",
              "\n",
              "    .colab-df-convert:hover {\n",
              "      background-color: #E2EBFA;\n",
              "      box-shadow: 0px 1px 2px rgba(60, 64, 67, 0.3), 0px 1px 3px 1px rgba(60, 64, 67, 0.15);\n",
              "      fill: #174EA6;\n",
              "    }\n",
              "\n",
              "    [theme=dark] .colab-df-convert {\n",
              "      background-color: #3B4455;\n",
              "      fill: #D2E3FC;\n",
              "    }\n",
              "\n",
              "    [theme=dark] .colab-df-convert:hover {\n",
              "      background-color: #434B5C;\n",
              "      box-shadow: 0px 1px 3px 1px rgba(0, 0, 0, 0.15);\n",
              "      filter: drop-shadow(0px 1px 2px rgba(0, 0, 0, 0.3));\n",
              "      fill: #FFFFFF;\n",
              "    }\n",
              "  </style>\n",
              "\n",
              "      <script>\n",
              "        const buttonEl =\n",
              "          document.querySelector('#df-a56a3907-5fb1-41e0-9f19-ca9dce33fa93 button.colab-df-convert');\n",
              "        buttonEl.style.display =\n",
              "          google.colab.kernel.accessAllowed ? 'block' : 'none';\n",
              "\n",
              "        async function convertToInteractive(key) {\n",
              "          const element = document.querySelector('#df-a56a3907-5fb1-41e0-9f19-ca9dce33fa93');\n",
              "          const dataTable =\n",
              "            await google.colab.kernel.invokeFunction('convertToInteractive',\n",
              "                                                     [key], {});\n",
              "          if (!dataTable) return;\n",
              "\n",
              "          const docLinkHtml = 'Like what you see? Visit the ' +\n",
              "            '<a target=\"_blank\" href=https://colab.research.google.com/notebooks/data_table.ipynb>data table notebook</a>'\n",
              "            + ' to learn more about interactive tables.';\n",
              "          element.innerHTML = '';\n",
              "          dataTable['output_type'] = 'display_data';\n",
              "          await google.colab.output.renderOutput(dataTable, element);\n",
              "          const docLink = document.createElement('div');\n",
              "          docLink.innerHTML = docLinkHtml;\n",
              "          element.appendChild(docLink);\n",
              "        }\n",
              "      </script>\n",
              "    </div>\n",
              "  </div>\n",
              "  "
            ]
          },
          "metadata": {}
        }
      ]
    },
    {
      "cell_type": "markdown",
      "source": [
        "## **Parsing column values**"
      ],
      "metadata": {
        "id": "e1TIMmioRSD6"
      }
    },
    {
      "cell_type": "markdown",
      "source": [
        "The Rooms column displays the number of listed rooms. The format N+M indicates N full bedrooms and M additional rooms that cannot count as such. Therefore, we separate the value of N bedrooms and M additional rooms into 2 columns."
      ],
      "metadata": {
        "id": "z1-RoYneGpe4"
      }
    },
    {
      "cell_type": "code",
      "source": [
        "df[['Rooms','Additional Room']] = df['Rooms'].str.split('+', expand=True)"
      ],
      "metadata": {
        "id": "LbpwnPcOlDP6"
      },
      "execution_count": null,
      "outputs": []
    },
    {
      "cell_type": "markdown",
      "source": [
        "The properties can be divided into Built-up and Land-area categories, which the information is in the Size column, together with the numerical size data. Therefore, we separate the categories into another column, Size_2"
      ],
      "metadata": {
        "id": "MlvzM3fuHDpS"
      }
    },
    {
      "cell_type": "code",
      "source": [
        "df[['Size_2','Size']] = df['Size'].str.split(':', expand=True)"
      ],
      "metadata": {
        "id": "XLNMTXvizUKo"
      },
      "execution_count": null,
      "outputs": []
    },
    {
      "cell_type": "markdown",
      "source": [
        "There are certain property type that provide more detailed specification of the property which enclosed in bracket under the Property Type column. This makes the Property Type is a very long list. Hence, we separate this detail information from the general category.\n",
        "\n",
        "This can be done by splitting the string by '(' as the delimiter"
      ],
      "metadata": {
        "id": "CgLSuCt2HyxG"
      }
    },
    {
      "cell_type": "code",
      "source": [
        "pd.unique(df['Property Type'])"
      ],
      "metadata": {
        "colab": {
          "base_uri": "https://localhost:8080/"
        },
        "id": "BeOtcel2ISIK",
        "outputId": "3308843d-0034-49f3-98bf-ab73ee39c733"
      },
      "execution_count": null,
      "outputs": [
        {
          "output_type": "execute_result",
          "data": {
            "text/plain": [
              "array(['Serviced Residence', 'Bungalow', 'Condominium (Corner)', nan,\n",
              "       'Semi-detached House', '2-sty Terrace/Link House (EndLot)',\n",
              "       'Apartment (Intermediate)',\n",
              "       '2-sty Terrace/Link House (Intermediate)',\n",
              "       'Bungalow (Intermediate)', 'Semi-detached House (Intermediate)',\n",
              "       'Bungalow (Corner)', 'Serviced Residence (Intermediate)',\n",
              "       'Condominium', '3-sty Terrace/Link House (Intermediate)',\n",
              "       'Condominium (Intermediate)', 'Condominium (EndLot)',\n",
              "       'Serviced Residence (Corner)', 'Serviced Residence (Duplex)',\n",
              "       '2-sty Terrace/Link House', '2-sty Terrace/Link House (Corner)',\n",
              "       '2.5-sty Terrace/Link House (Intermediate)',\n",
              "       '3-sty Terrace/Link House (Corner)',\n",
              "       '3-sty Terrace/Link House (EndLot)',\n",
              "       '3.5-sty Terrace/Link House (Intermediate)',\n",
              "       'Serviced Residence (Penthouse)', 'Condominium (Studio)',\n",
              "       '1-sty Terrace/Link House (Intermediate)',\n",
              "       '1.5-sty Terrace/Link House (EndLot)', 'Apartment',\n",
              "       'Condominium (Duplex)', 'Serviced Residence (EndLot)',\n",
              "       '4-sty Terrace/Link House',\n",
              "       '4-sty Terrace/Link House (Intermediate)', 'Townhouse',\n",
              "       'Semi-detached House (Corner)', 'Townhouse (Intermediate)',\n",
              "       'Apartment (Corner)', '3-sty Terrace/Link House',\n",
              "       'Residential Land', '2.5-sty Terrace/Link House',\n",
              "       '1.5-sty Terrace/Link House (Intermediate)',\n",
              "       'Semi-detached House (EndLot)',\n",
              "       '4.5-sty Terrace/Link House (Intermediate)',\n",
              "       'Condominium (Penthouse)', '2.5-sty Terrace/Link House (EndLot)',\n",
              "       'Serviced Residence (SOHO)', '3.5-sty Terrace/Link House',\n",
              "       '3.5-sty Terrace/Link House (Corner)', '1-sty Terrace/Link House',\n",
              "       'Residential Land (Corner)', 'Townhouse (EndLot)',\n",
              "       '1-sty Terrace/Link House (Corner)', 'Townhouse (Corner)',\n",
              "       'Bungalow Land', '1-sty Terrace/Link House (EndLot)',\n",
              "       'Flat (Intermediate)', '1.5-sty Terrace/Link House (Corner)',\n",
              "       'Bungalow Land (Intermediate)',\n",
              "       '3-sty Terrace/Link House (Duplex)', 'Bungalow (EndLot)',\n",
              "       'Residential Land (Intermediate)', 'Serviced Residence (Studio)',\n",
              "       '1.5-sty Terrace/Link House',\n",
              "       '2.5-sty Terrace/Link House (Penthouse)',\n",
              "       '2.5-sty Terrace/Link House (Corner)', 'Flat (Corner)',\n",
              "       'Apartment (EndLot)', '4-sty Terrace/Link House (Corner)', 'Flat',\n",
              "       'Condominium (SOHO)', 'Bungalow Land (Corner)',\n",
              "       'Serviced Residence (Triplex)', 'Flat (EndLot)',\n",
              "       '3.5-sty Terrace/Link House (EndLot)', 'Apartment (Duplex)',\n",
              "       'Bungalow (Duplex)', 'Semi-detached House (Triplex)',\n",
              "       'Bungalow (Triplex)', 'Townhouse (Duplex)',\n",
              "       'Condominium (Triplex)', 'Cluster House (Intermediate)',\n",
              "       '2-sty Terrace/Link House (Penthouse)', 'Apartment (Penthouse)',\n",
              "       '3-sty Terrace/Link House (Triplex)', 'Residential Land (EndLot)',\n",
              "       '4-sty Terrace/Link House (Penthouse)',\n",
              "       'Semi-detached House (Duplex)', 'Apartment (Studio)',\n",
              "       '4.5-sty Terrace/Link House',\n",
              "       '2.5-sty Terrace/Link House (Triplex)', 'Flat (Penthouse)',\n",
              "       '2-sty Terrace/Link House (Duplex)', 'Cluster House',\n",
              "       '2.5-sty Terrace/Link House (Duplex)', 'Apartment (Triplex)',\n",
              "       'Semi-detached House (SOHO)', 'Bungalow (Penthouse)',\n",
              "       'Cluster House (Corner)', 'Bungalow Land (EndLot)',\n",
              "       '4.5-sty Terrace/Link House (Corner)'], dtype=object)"
            ]
          },
          "metadata": {},
          "execution_count": 211
        }
      ]
    },
    {
      "cell_type": "code",
      "source": [
        "df[['Property Type','Property Type_2']] = df['Property Type'].str.split('(', expand=True)"
      ],
      "metadata": {
        "id": "mb3zRmXHwnv2"
      },
      "execution_count": null,
      "outputs": []
    },
    {
      "cell_type": "code",
      "source": [
        "df['Property Type_2'] = df['Property Type_2'].str.replace(r')', '')"
      ],
      "metadata": {
        "id": "Pcr00rSMxZzq",
        "colab": {
          "base_uri": "https://localhost:8080/"
        },
        "outputId": "ba275ce1-d7a4-4fcf-91fd-00e9469bfdb8"
      },
      "execution_count": null,
      "outputs": [
        {
          "output_type": "stream",
          "name": "stderr",
          "text": [
            "<ipython-input-213-e144801c2687>:1: FutureWarning: The default value of regex will change from True to False in a future version. In addition, single character regular expressions will *not* be treated as literal strings when regex=True.\n",
            "  df['Property Type_2'] = df['Property Type_2'].str.replace(r')', '')\n"
          ]
        }
      ]
    },
    {
      "cell_type": "markdown",
      "source": [
        "The result from splitting the category leaves some afftected data with whitespace at the end of the string. Therefore, we strip the whitespace to make sure there is no duplication of data"
      ],
      "metadata": {
        "id": "0tMC-lmVLeoe"
      }
    },
    {
      "cell_type": "code",
      "source": [
        "pd.unique(df['Property Type']) #before strip - duplication of data exist"
      ],
      "metadata": {
        "colab": {
          "base_uri": "https://localhost:8080/"
        },
        "id": "ARN1ZusBJVoZ",
        "outputId": "69ab4cd4-2ec0-4662-ace8-c89cff537a1e"
      },
      "execution_count": null,
      "outputs": [
        {
          "output_type": "execute_result",
          "data": {
            "text/plain": [
              "array(['Serviced Residence', 'Bungalow', 'Condominium ', nan,\n",
              "       'Semi-detached House', '2-sty Terrace/Link House ', 'Apartment ',\n",
              "       'Bungalow ', 'Semi-detached House ', 'Serviced Residence ',\n",
              "       'Condominium', '3-sty Terrace/Link House ',\n",
              "       '2-sty Terrace/Link House', '2.5-sty Terrace/Link House ',\n",
              "       '3.5-sty Terrace/Link House ', '1-sty Terrace/Link House ',\n",
              "       '1.5-sty Terrace/Link House ', 'Apartment',\n",
              "       '4-sty Terrace/Link House', '4-sty Terrace/Link House ',\n",
              "       'Townhouse', 'Townhouse ', '3-sty Terrace/Link House',\n",
              "       'Residential Land', '2.5-sty Terrace/Link House',\n",
              "       '4.5-sty Terrace/Link House ', '3.5-sty Terrace/Link House',\n",
              "       '1-sty Terrace/Link House', 'Residential Land ', 'Bungalow Land',\n",
              "       'Flat ', 'Bungalow Land ', '1.5-sty Terrace/Link House', 'Flat',\n",
              "       'Cluster House ', '4.5-sty Terrace/Link House', 'Cluster House'],\n",
              "      dtype=object)"
            ]
          },
          "metadata": {},
          "execution_count": 214
        }
      ]
    },
    {
      "cell_type": "code",
      "source": [
        "df['Property Type'] = df['Property Type'].str.strip()"
      ],
      "metadata": {
        "id": "llKMLq0f6JSu"
      },
      "execution_count": null,
      "outputs": []
    },
    {
      "cell_type": "code",
      "source": [
        "pd.unique(df['Property Type']) #after strip - duplication of data no longer exist"
      ],
      "metadata": {
        "colab": {
          "base_uri": "https://localhost:8080/"
        },
        "id": "ZcJrrdDYJfDF",
        "outputId": "a972102c-dadf-4c17-ecdb-f69dc5d4cac8"
      },
      "execution_count": null,
      "outputs": [
        {
          "output_type": "execute_result",
          "data": {
            "text/plain": [
              "array(['Serviced Residence', 'Bungalow', 'Condominium', nan,\n",
              "       'Semi-detached House', '2-sty Terrace/Link House', 'Apartment',\n",
              "       '3-sty Terrace/Link House', '2.5-sty Terrace/Link House',\n",
              "       '3.5-sty Terrace/Link House', '1-sty Terrace/Link House',\n",
              "       '1.5-sty Terrace/Link House', '4-sty Terrace/Link House',\n",
              "       'Townhouse', 'Residential Land', '4.5-sty Terrace/Link House',\n",
              "       'Bungalow Land', 'Flat', 'Cluster House'], dtype=object)"
            ]
          },
          "metadata": {},
          "execution_count": 216
        }
      ]
    },
    {
      "cell_type": "code",
      "source": [
        "display(df)"
      ],
      "metadata": {
        "id": "UnvHtT1amOco",
        "colab": {
          "base_uri": "https://localhost:8080/",
          "height": 424
        },
        "outputId": "fc76cfe5-7abb-46ec-d710-10694f7a8c50"
      },
      "execution_count": null,
      "outputs": [
        {
          "output_type": "display_data",
          "data": {
            "text/plain": [
              "                Location     Price Rooms  Bathrooms  Car Parks  \\\n",
              "0                   klcc   1250000     2        3.0        2.0   \n",
              "1      damansara heights   6800000     6        7.0        NaN   \n",
              "2                dutamas   1030000     3        4.0        2.0   \n",
              "3                 cheras       NaN   NaN        NaN        NaN   \n",
              "4            bukit jalil    900000     4        3.0        2.0   \n",
              "...                  ...       ...   ...        ...        ...   \n",
              "53878            bangsar   5100000     5        4.0        NaN   \n",
              "53879            bangsar   5000000     5        4.0        NaN   \n",
              "53880            bangsar   5500000     5        4.0        NaN   \n",
              "53881        wangsa maju    480000     3        2.0        NaN   \n",
              "53882            setapak    540000     4        2.0        3.0   \n",
              "\n",
              "            Property Type     Size        Furnishing Additional Room  \\\n",
              "0      Serviced Residence    1335    Fully Furnished               1   \n",
              "1                Bungalow    6900   Partly Furnished            None   \n",
              "2             Condominium    1875   Partly Furnished            None   \n",
              "3                     NaN      NaN               NaN             NaN   \n",
              "4             Condominium    1513   Partly Furnished               1   \n",
              "...                   ...      ...               ...             ...   \n",
              "53878            Bungalow    7168    Fully Furnished               1   \n",
              "53879            Bungalow   15000        Unfurnished            None   \n",
              "53880            Bungalow    7168   Partly Furnished               1   \n",
              "53881         Condominium    1150        Unfurnished            None   \n",
              "53882         Condominium    1313   Partly Furnished            None   \n",
              "\n",
              "           Size_2 Property Type_2  \n",
              "0       Built-up             None  \n",
              "1      Land area             None  \n",
              "2       Built-up           Corner  \n",
              "3             NaN             NaN  \n",
              "4       Built-up           Corner  \n",
              "...           ...             ...  \n",
              "53878  Land area           Corner  \n",
              "53879  Land area     Intermediate  \n",
              "53880  Land area     Intermediate  \n",
              "53881   Built-up     Intermediate  \n",
              "53882   Built-up     Intermediate  \n",
              "\n",
              "[53883 rows x 11 columns]"
            ],
            "text/html": [
              "\n",
              "  <div id=\"df-d35dc075-a3bb-4108-9c50-7d5059e96cb0\">\n",
              "    <div class=\"colab-df-container\">\n",
              "      <div>\n",
              "<style scoped>\n",
              "    .dataframe tbody tr th:only-of-type {\n",
              "        vertical-align: middle;\n",
              "    }\n",
              "\n",
              "    .dataframe tbody tr th {\n",
              "        vertical-align: top;\n",
              "    }\n",
              "\n",
              "    .dataframe thead th {\n",
              "        text-align: right;\n",
              "    }\n",
              "</style>\n",
              "<table border=\"1\" class=\"dataframe\">\n",
              "  <thead>\n",
              "    <tr style=\"text-align: right;\">\n",
              "      <th></th>\n",
              "      <th>Location</th>\n",
              "      <th>Price</th>\n",
              "      <th>Rooms</th>\n",
              "      <th>Bathrooms</th>\n",
              "      <th>Car Parks</th>\n",
              "      <th>Property Type</th>\n",
              "      <th>Size</th>\n",
              "      <th>Furnishing</th>\n",
              "      <th>Additional Room</th>\n",
              "      <th>Size_2</th>\n",
              "      <th>Property Type_2</th>\n",
              "    </tr>\n",
              "  </thead>\n",
              "  <tbody>\n",
              "    <tr>\n",
              "      <th>0</th>\n",
              "      <td>klcc</td>\n",
              "      <td>1250000</td>\n",
              "      <td>2</td>\n",
              "      <td>3.0</td>\n",
              "      <td>2.0</td>\n",
              "      <td>Serviced Residence</td>\n",
              "      <td>1335</td>\n",
              "      <td>Fully Furnished</td>\n",
              "      <td>1</td>\n",
              "      <td>Built-up</td>\n",
              "      <td>None</td>\n",
              "    </tr>\n",
              "    <tr>\n",
              "      <th>1</th>\n",
              "      <td>damansara heights</td>\n",
              "      <td>6800000</td>\n",
              "      <td>6</td>\n",
              "      <td>7.0</td>\n",
              "      <td>NaN</td>\n",
              "      <td>Bungalow</td>\n",
              "      <td>6900</td>\n",
              "      <td>Partly Furnished</td>\n",
              "      <td>None</td>\n",
              "      <td>Land area</td>\n",
              "      <td>None</td>\n",
              "    </tr>\n",
              "    <tr>\n",
              "      <th>2</th>\n",
              "      <td>dutamas</td>\n",
              "      <td>1030000</td>\n",
              "      <td>3</td>\n",
              "      <td>4.0</td>\n",
              "      <td>2.0</td>\n",
              "      <td>Condominium</td>\n",
              "      <td>1875</td>\n",
              "      <td>Partly Furnished</td>\n",
              "      <td>None</td>\n",
              "      <td>Built-up</td>\n",
              "      <td>Corner</td>\n",
              "    </tr>\n",
              "    <tr>\n",
              "      <th>3</th>\n",
              "      <td>cheras</td>\n",
              "      <td>NaN</td>\n",
              "      <td>NaN</td>\n",
              "      <td>NaN</td>\n",
              "      <td>NaN</td>\n",
              "      <td>NaN</td>\n",
              "      <td>NaN</td>\n",
              "      <td>NaN</td>\n",
              "      <td>NaN</td>\n",
              "      <td>NaN</td>\n",
              "      <td>NaN</td>\n",
              "    </tr>\n",
              "    <tr>\n",
              "      <th>4</th>\n",
              "      <td>bukit jalil</td>\n",
              "      <td>900000</td>\n",
              "      <td>4</td>\n",
              "      <td>3.0</td>\n",
              "      <td>2.0</td>\n",
              "      <td>Condominium</td>\n",
              "      <td>1513</td>\n",
              "      <td>Partly Furnished</td>\n",
              "      <td>1</td>\n",
              "      <td>Built-up</td>\n",
              "      <td>Corner</td>\n",
              "    </tr>\n",
              "    <tr>\n",
              "      <th>...</th>\n",
              "      <td>...</td>\n",
              "      <td>...</td>\n",
              "      <td>...</td>\n",
              "      <td>...</td>\n",
              "      <td>...</td>\n",
              "      <td>...</td>\n",
              "      <td>...</td>\n",
              "      <td>...</td>\n",
              "      <td>...</td>\n",
              "      <td>...</td>\n",
              "      <td>...</td>\n",
              "    </tr>\n",
              "    <tr>\n",
              "      <th>53878</th>\n",
              "      <td>bangsar</td>\n",
              "      <td>5100000</td>\n",
              "      <td>5</td>\n",
              "      <td>4.0</td>\n",
              "      <td>NaN</td>\n",
              "      <td>Bungalow</td>\n",
              "      <td>7168</td>\n",
              "      <td>Fully Furnished</td>\n",
              "      <td>1</td>\n",
              "      <td>Land area</td>\n",
              "      <td>Corner</td>\n",
              "    </tr>\n",
              "    <tr>\n",
              "      <th>53879</th>\n",
              "      <td>bangsar</td>\n",
              "      <td>5000000</td>\n",
              "      <td>5</td>\n",
              "      <td>4.0</td>\n",
              "      <td>NaN</td>\n",
              "      <td>Bungalow</td>\n",
              "      <td>15000</td>\n",
              "      <td>Unfurnished</td>\n",
              "      <td>None</td>\n",
              "      <td>Land area</td>\n",
              "      <td>Intermediate</td>\n",
              "    </tr>\n",
              "    <tr>\n",
              "      <th>53880</th>\n",
              "      <td>bangsar</td>\n",
              "      <td>5500000</td>\n",
              "      <td>5</td>\n",
              "      <td>4.0</td>\n",
              "      <td>NaN</td>\n",
              "      <td>Bungalow</td>\n",
              "      <td>7168</td>\n",
              "      <td>Partly Furnished</td>\n",
              "      <td>1</td>\n",
              "      <td>Land area</td>\n",
              "      <td>Intermediate</td>\n",
              "    </tr>\n",
              "    <tr>\n",
              "      <th>53881</th>\n",
              "      <td>wangsa maju</td>\n",
              "      <td>480000</td>\n",
              "      <td>3</td>\n",
              "      <td>2.0</td>\n",
              "      <td>NaN</td>\n",
              "      <td>Condominium</td>\n",
              "      <td>1150</td>\n",
              "      <td>Unfurnished</td>\n",
              "      <td>None</td>\n",
              "      <td>Built-up</td>\n",
              "      <td>Intermediate</td>\n",
              "    </tr>\n",
              "    <tr>\n",
              "      <th>53882</th>\n",
              "      <td>setapak</td>\n",
              "      <td>540000</td>\n",
              "      <td>4</td>\n",
              "      <td>2.0</td>\n",
              "      <td>3.0</td>\n",
              "      <td>Condominium</td>\n",
              "      <td>1313</td>\n",
              "      <td>Partly Furnished</td>\n",
              "      <td>None</td>\n",
              "      <td>Built-up</td>\n",
              "      <td>Intermediate</td>\n",
              "    </tr>\n",
              "  </tbody>\n",
              "</table>\n",
              "<p>53883 rows × 11 columns</p>\n",
              "</div>\n",
              "      <button class=\"colab-df-convert\" onclick=\"convertToInteractive('df-d35dc075-a3bb-4108-9c50-7d5059e96cb0')\"\n",
              "              title=\"Convert this dataframe to an interactive table.\"\n",
              "              style=\"display:none;\">\n",
              "        \n",
              "  <svg xmlns=\"http://www.w3.org/2000/svg\" height=\"24px\"viewBox=\"0 0 24 24\"\n",
              "       width=\"24px\">\n",
              "    <path d=\"M0 0h24v24H0V0z\" fill=\"none\"/>\n",
              "    <path d=\"M18.56 5.44l.94 2.06.94-2.06 2.06-.94-2.06-.94-.94-2.06-.94 2.06-2.06.94zm-11 1L8.5 8.5l.94-2.06 2.06-.94-2.06-.94L8.5 2.5l-.94 2.06-2.06.94zm10 10l.94 2.06.94-2.06 2.06-.94-2.06-.94-.94-2.06-.94 2.06-2.06.94z\"/><path d=\"M17.41 7.96l-1.37-1.37c-.4-.4-.92-.59-1.43-.59-.52 0-1.04.2-1.43.59L10.3 9.45l-7.72 7.72c-.78.78-.78 2.05 0 2.83L4 21.41c.39.39.9.59 1.41.59.51 0 1.02-.2 1.41-.59l7.78-7.78 2.81-2.81c.8-.78.8-2.07 0-2.86zM5.41 20L4 18.59l7.72-7.72 1.47 1.35L5.41 20z\"/>\n",
              "  </svg>\n",
              "      </button>\n",
              "      \n",
              "  <style>\n",
              "    .colab-df-container {\n",
              "      display:flex;\n",
              "      flex-wrap:wrap;\n",
              "      gap: 12px;\n",
              "    }\n",
              "\n",
              "    .colab-df-convert {\n",
              "      background-color: #E8F0FE;\n",
              "      border: none;\n",
              "      border-radius: 50%;\n",
              "      cursor: pointer;\n",
              "      display: none;\n",
              "      fill: #1967D2;\n",
              "      height: 32px;\n",
              "      padding: 0 0 0 0;\n",
              "      width: 32px;\n",
              "    }\n",
              "\n",
              "    .colab-df-convert:hover {\n",
              "      background-color: #E2EBFA;\n",
              "      box-shadow: 0px 1px 2px rgba(60, 64, 67, 0.3), 0px 1px 3px 1px rgba(60, 64, 67, 0.15);\n",
              "      fill: #174EA6;\n",
              "    }\n",
              "\n",
              "    [theme=dark] .colab-df-convert {\n",
              "      background-color: #3B4455;\n",
              "      fill: #D2E3FC;\n",
              "    }\n",
              "\n",
              "    [theme=dark] .colab-df-convert:hover {\n",
              "      background-color: #434B5C;\n",
              "      box-shadow: 0px 1px 3px 1px rgba(0, 0, 0, 0.15);\n",
              "      filter: drop-shadow(0px 1px 2px rgba(0, 0, 0, 0.3));\n",
              "      fill: #FFFFFF;\n",
              "    }\n",
              "  </style>\n",
              "\n",
              "      <script>\n",
              "        const buttonEl =\n",
              "          document.querySelector('#df-d35dc075-a3bb-4108-9c50-7d5059e96cb0 button.colab-df-convert');\n",
              "        buttonEl.style.display =\n",
              "          google.colab.kernel.accessAllowed ? 'block' : 'none';\n",
              "\n",
              "        async function convertToInteractive(key) {\n",
              "          const element = document.querySelector('#df-d35dc075-a3bb-4108-9c50-7d5059e96cb0');\n",
              "          const dataTable =\n",
              "            await google.colab.kernel.invokeFunction('convertToInteractive',\n",
              "                                                     [key], {});\n",
              "          if (!dataTable) return;\n",
              "\n",
              "          const docLinkHtml = 'Like what you see? Visit the ' +\n",
              "            '<a target=\"_blank\" href=https://colab.research.google.com/notebooks/data_table.ipynb>data table notebook</a>'\n",
              "            + ' to learn more about interactive tables.';\n",
              "          element.innerHTML = '';\n",
              "          dataTable['output_type'] = 'display_data';\n",
              "          await google.colab.output.renderOutput(dataTable, element);\n",
              "          const docLink = document.createElement('div');\n",
              "          docLink.innerHTML = docLinkHtml;\n",
              "          element.appendChild(docLink);\n",
              "        }\n",
              "      </script>\n",
              "    </div>\n",
              "  </div>\n",
              "  "
            ]
          },
          "metadata": {}
        }
      ]
    },
    {
      "cell_type": "markdown",
      "source": [
        "## **Fill null value with zero**"
      ],
      "metadata": {
        "id": "A2bvpjNMNARW"
      }
    },
    {
      "cell_type": "markdown",
      "source": [
        "Since there zero value is valid for Additional Room column, instead of null and empty, we replace them with zero."
      ],
      "metadata": {
        "id": "4MhNUjRPNZO6"
      }
    },
    {
      "cell_type": "code",
      "source": [
        "df.loc[df['Additional Room'].isnull(), 'Additional Room'] = '0'\n",
        "df['Additional Room'] = df['Additional Room'].replace([''], '0')"
      ],
      "metadata": {
        "id": "Kzwsk4YnRUNY"
      },
      "execution_count": null,
      "outputs": []
    },
    {
      "cell_type": "markdown",
      "source": [
        "Property type is also valid without null value, therefore we standardize it by replacing it with None value instead."
      ],
      "metadata": {
        "id": "EvWuuSd2N4qZ"
      }
    },
    {
      "cell_type": "code",
      "source": [
        "df.loc[df['Property Type_2'].isnull(), 'Property Type_2'] = None\n",
        "df['Additional Room'] = df['Additional Room'].replace([''], None)"
      ],
      "metadata": {
        "id": "-a-WvVOiUTbo"
      },
      "execution_count": null,
      "outputs": []
    },
    {
      "cell_type": "markdown",
      "source": [
        "## **Remove rows with null and invalid value**\n",
        "\n"
      ],
      "metadata": {
        "id": "f55nlyfxQpmR"
      }
    },
    {
      "cell_type": "markdown",
      "source": [
        "Drop rows with null value"
      ],
      "metadata": {
        "id": "-7nLlE5pMVKp"
      }
    },
    {
      "cell_type": "code",
      "source": [
        "df.dropna(inplace=True)"
      ],
      "metadata": {
        "id": "Jeuu9hh0QtKw"
      },
      "execution_count": null,
      "outputs": []
    },
    {
      "cell_type": "markdown",
      "source": [
        "Drop rows with size value of 0.0. This considered as invalid value"
      ],
      "metadata": {
        "id": "3lZBXl44MaMp"
      }
    },
    {
      "cell_type": "code",
      "source": [
        "indexSize = df[ (df['Size'] == 0.0)].index\n",
        "df.drop(indexSize , inplace=True)"
      ],
      "metadata": {
        "id": "O7gFawqNtWT_"
      },
      "execution_count": null,
      "outputs": []
    },
    {
      "cell_type": "code",
      "source": [
        "display(df)"
      ],
      "metadata": {
        "id": "wAJHxihJjHbD",
        "colab": {
          "base_uri": "https://localhost:8080/",
          "height": 424
        },
        "outputId": "620f9d03-218a-4055-e813-29c707a9ef70"
      },
      "execution_count": null,
      "outputs": [
        {
          "output_type": "display_data",
          "data": {
            "text/plain": [
              "                  Location     Price Rooms  Bathrooms  Car Parks  \\\n",
              "2                  dutamas   1030000     3        4.0        2.0   \n",
              "4              bukit jalil    900000     4        3.0        2.0   \n",
              "8      taman tun dr ismail   1950000     4        4.0        3.0   \n",
              "9             sri petaling    385000     3        2.0        1.0   \n",
              "13     taman tun dr ismail   4580000     6        5.0        5.0   \n",
              "...                    ...       ...   ...        ...        ...   \n",
              "53859          kuchai lama    300000     3        2.0        1.0   \n",
              "53868           kl sentral   1400000     3        3.0        2.0   \n",
              "53869          kl eco city    880000     1        1.0        1.0   \n",
              "53876         sri hartamas   2700000     4        6.0        3.0   \n",
              "53882              setapak    540000     4        2.0        3.0   \n",
              "\n",
              "                  Property Type     Size        Furnishing Additional Room  \\\n",
              "2                   Condominium    1875   Partly Furnished               0   \n",
              "4                   Condominium    1513   Partly Furnished               1   \n",
              "8      2-sty Terrace/Link House   25x75   Partly Furnished               1   \n",
              "9                     Apartment     904   Partly Furnished               0   \n",
              "13                     Bungalow    6000   Partly Furnished               1   \n",
              "...                         ...      ...               ...             ...   \n",
              "53859        Serviced Residence     820        Unfurnished               0   \n",
              "53868               Condominium    1544    Fully Furnished               1   \n",
              "53869               Condominium     650   Partly Furnished               0   \n",
              "53876               Condominium    3973   Partly Furnished               2   \n",
              "53882               Condominium    1313   Partly Furnished               0   \n",
              "\n",
              "           Size_2 Property Type_2  \n",
              "2       Built-up           Corner  \n",
              "4       Built-up           Corner  \n",
              "8      Land area           EndLot  \n",
              "9       Built-up     Intermediate  \n",
              "13     Land area     Intermediate  \n",
              "...           ...             ...  \n",
              "53859   Built-up     Intermediate  \n",
              "53868  Land area           Corner  \n",
              "53869   Built-up           Corner  \n",
              "53876   Built-up           Corner  \n",
              "53882   Built-up     Intermediate  \n",
              "\n",
              "[19288 rows x 11 columns]"
            ],
            "text/html": [
              "\n",
              "  <div id=\"df-ec65ea08-3c88-466d-b7f8-175e785e6012\">\n",
              "    <div class=\"colab-df-container\">\n",
              "      <div>\n",
              "<style scoped>\n",
              "    .dataframe tbody tr th:only-of-type {\n",
              "        vertical-align: middle;\n",
              "    }\n",
              "\n",
              "    .dataframe tbody tr th {\n",
              "        vertical-align: top;\n",
              "    }\n",
              "\n",
              "    .dataframe thead th {\n",
              "        text-align: right;\n",
              "    }\n",
              "</style>\n",
              "<table border=\"1\" class=\"dataframe\">\n",
              "  <thead>\n",
              "    <tr style=\"text-align: right;\">\n",
              "      <th></th>\n",
              "      <th>Location</th>\n",
              "      <th>Price</th>\n",
              "      <th>Rooms</th>\n",
              "      <th>Bathrooms</th>\n",
              "      <th>Car Parks</th>\n",
              "      <th>Property Type</th>\n",
              "      <th>Size</th>\n",
              "      <th>Furnishing</th>\n",
              "      <th>Additional Room</th>\n",
              "      <th>Size_2</th>\n",
              "      <th>Property Type_2</th>\n",
              "    </tr>\n",
              "  </thead>\n",
              "  <tbody>\n",
              "    <tr>\n",
              "      <th>2</th>\n",
              "      <td>dutamas</td>\n",
              "      <td>1030000</td>\n",
              "      <td>3</td>\n",
              "      <td>4.0</td>\n",
              "      <td>2.0</td>\n",
              "      <td>Condominium</td>\n",
              "      <td>1875</td>\n",
              "      <td>Partly Furnished</td>\n",
              "      <td>0</td>\n",
              "      <td>Built-up</td>\n",
              "      <td>Corner</td>\n",
              "    </tr>\n",
              "    <tr>\n",
              "      <th>4</th>\n",
              "      <td>bukit jalil</td>\n",
              "      <td>900000</td>\n",
              "      <td>4</td>\n",
              "      <td>3.0</td>\n",
              "      <td>2.0</td>\n",
              "      <td>Condominium</td>\n",
              "      <td>1513</td>\n",
              "      <td>Partly Furnished</td>\n",
              "      <td>1</td>\n",
              "      <td>Built-up</td>\n",
              "      <td>Corner</td>\n",
              "    </tr>\n",
              "    <tr>\n",
              "      <th>8</th>\n",
              "      <td>taman tun dr ismail</td>\n",
              "      <td>1950000</td>\n",
              "      <td>4</td>\n",
              "      <td>4.0</td>\n",
              "      <td>3.0</td>\n",
              "      <td>2-sty Terrace/Link House</td>\n",
              "      <td>25x75</td>\n",
              "      <td>Partly Furnished</td>\n",
              "      <td>1</td>\n",
              "      <td>Land area</td>\n",
              "      <td>EndLot</td>\n",
              "    </tr>\n",
              "    <tr>\n",
              "      <th>9</th>\n",
              "      <td>sri petaling</td>\n",
              "      <td>385000</td>\n",
              "      <td>3</td>\n",
              "      <td>2.0</td>\n",
              "      <td>1.0</td>\n",
              "      <td>Apartment</td>\n",
              "      <td>904</td>\n",
              "      <td>Partly Furnished</td>\n",
              "      <td>0</td>\n",
              "      <td>Built-up</td>\n",
              "      <td>Intermediate</td>\n",
              "    </tr>\n",
              "    <tr>\n",
              "      <th>13</th>\n",
              "      <td>taman tun dr ismail</td>\n",
              "      <td>4580000</td>\n",
              "      <td>6</td>\n",
              "      <td>5.0</td>\n",
              "      <td>5.0</td>\n",
              "      <td>Bungalow</td>\n",
              "      <td>6000</td>\n",
              "      <td>Partly Furnished</td>\n",
              "      <td>1</td>\n",
              "      <td>Land area</td>\n",
              "      <td>Intermediate</td>\n",
              "    </tr>\n",
              "    <tr>\n",
              "      <th>...</th>\n",
              "      <td>...</td>\n",
              "      <td>...</td>\n",
              "      <td>...</td>\n",
              "      <td>...</td>\n",
              "      <td>...</td>\n",
              "      <td>...</td>\n",
              "      <td>...</td>\n",
              "      <td>...</td>\n",
              "      <td>...</td>\n",
              "      <td>...</td>\n",
              "      <td>...</td>\n",
              "    </tr>\n",
              "    <tr>\n",
              "      <th>53859</th>\n",
              "      <td>kuchai lama</td>\n",
              "      <td>300000</td>\n",
              "      <td>3</td>\n",
              "      <td>2.0</td>\n",
              "      <td>1.0</td>\n",
              "      <td>Serviced Residence</td>\n",
              "      <td>820</td>\n",
              "      <td>Unfurnished</td>\n",
              "      <td>0</td>\n",
              "      <td>Built-up</td>\n",
              "      <td>Intermediate</td>\n",
              "    </tr>\n",
              "    <tr>\n",
              "      <th>53868</th>\n",
              "      <td>kl sentral</td>\n",
              "      <td>1400000</td>\n",
              "      <td>3</td>\n",
              "      <td>3.0</td>\n",
              "      <td>2.0</td>\n",
              "      <td>Condominium</td>\n",
              "      <td>1544</td>\n",
              "      <td>Fully Furnished</td>\n",
              "      <td>1</td>\n",
              "      <td>Land area</td>\n",
              "      <td>Corner</td>\n",
              "    </tr>\n",
              "    <tr>\n",
              "      <th>53869</th>\n",
              "      <td>kl eco city</td>\n",
              "      <td>880000</td>\n",
              "      <td>1</td>\n",
              "      <td>1.0</td>\n",
              "      <td>1.0</td>\n",
              "      <td>Condominium</td>\n",
              "      <td>650</td>\n",
              "      <td>Partly Furnished</td>\n",
              "      <td>0</td>\n",
              "      <td>Built-up</td>\n",
              "      <td>Corner</td>\n",
              "    </tr>\n",
              "    <tr>\n",
              "      <th>53876</th>\n",
              "      <td>sri hartamas</td>\n",
              "      <td>2700000</td>\n",
              "      <td>4</td>\n",
              "      <td>6.0</td>\n",
              "      <td>3.0</td>\n",
              "      <td>Condominium</td>\n",
              "      <td>3973</td>\n",
              "      <td>Partly Furnished</td>\n",
              "      <td>2</td>\n",
              "      <td>Built-up</td>\n",
              "      <td>Corner</td>\n",
              "    </tr>\n",
              "    <tr>\n",
              "      <th>53882</th>\n",
              "      <td>setapak</td>\n",
              "      <td>540000</td>\n",
              "      <td>4</td>\n",
              "      <td>2.0</td>\n",
              "      <td>3.0</td>\n",
              "      <td>Condominium</td>\n",
              "      <td>1313</td>\n",
              "      <td>Partly Furnished</td>\n",
              "      <td>0</td>\n",
              "      <td>Built-up</td>\n",
              "      <td>Intermediate</td>\n",
              "    </tr>\n",
              "  </tbody>\n",
              "</table>\n",
              "<p>19288 rows × 11 columns</p>\n",
              "</div>\n",
              "      <button class=\"colab-df-convert\" onclick=\"convertToInteractive('df-ec65ea08-3c88-466d-b7f8-175e785e6012')\"\n",
              "              title=\"Convert this dataframe to an interactive table.\"\n",
              "              style=\"display:none;\">\n",
              "        \n",
              "  <svg xmlns=\"http://www.w3.org/2000/svg\" height=\"24px\"viewBox=\"0 0 24 24\"\n",
              "       width=\"24px\">\n",
              "    <path d=\"M0 0h24v24H0V0z\" fill=\"none\"/>\n",
              "    <path d=\"M18.56 5.44l.94 2.06.94-2.06 2.06-.94-2.06-.94-.94-2.06-.94 2.06-2.06.94zm-11 1L8.5 8.5l.94-2.06 2.06-.94-2.06-.94L8.5 2.5l-.94 2.06-2.06.94zm10 10l.94 2.06.94-2.06 2.06-.94-2.06-.94-.94-2.06-.94 2.06-2.06.94z\"/><path d=\"M17.41 7.96l-1.37-1.37c-.4-.4-.92-.59-1.43-.59-.52 0-1.04.2-1.43.59L10.3 9.45l-7.72 7.72c-.78.78-.78 2.05 0 2.83L4 21.41c.39.39.9.59 1.41.59.51 0 1.02-.2 1.41-.59l7.78-7.78 2.81-2.81c.8-.78.8-2.07 0-2.86zM5.41 20L4 18.59l7.72-7.72 1.47 1.35L5.41 20z\"/>\n",
              "  </svg>\n",
              "      </button>\n",
              "      \n",
              "  <style>\n",
              "    .colab-df-container {\n",
              "      display:flex;\n",
              "      flex-wrap:wrap;\n",
              "      gap: 12px;\n",
              "    }\n",
              "\n",
              "    .colab-df-convert {\n",
              "      background-color: #E8F0FE;\n",
              "      border: none;\n",
              "      border-radius: 50%;\n",
              "      cursor: pointer;\n",
              "      display: none;\n",
              "      fill: #1967D2;\n",
              "      height: 32px;\n",
              "      padding: 0 0 0 0;\n",
              "      width: 32px;\n",
              "    }\n",
              "\n",
              "    .colab-df-convert:hover {\n",
              "      background-color: #E2EBFA;\n",
              "      box-shadow: 0px 1px 2px rgba(60, 64, 67, 0.3), 0px 1px 3px 1px rgba(60, 64, 67, 0.15);\n",
              "      fill: #174EA6;\n",
              "    }\n",
              "\n",
              "    [theme=dark] .colab-df-convert {\n",
              "      background-color: #3B4455;\n",
              "      fill: #D2E3FC;\n",
              "    }\n",
              "\n",
              "    [theme=dark] .colab-df-convert:hover {\n",
              "      background-color: #434B5C;\n",
              "      box-shadow: 0px 1px 3px 1px rgba(0, 0, 0, 0.15);\n",
              "      filter: drop-shadow(0px 1px 2px rgba(0, 0, 0, 0.3));\n",
              "      fill: #FFFFFF;\n",
              "    }\n",
              "  </style>\n",
              "\n",
              "      <script>\n",
              "        const buttonEl =\n",
              "          document.querySelector('#df-ec65ea08-3c88-466d-b7f8-175e785e6012 button.colab-df-convert');\n",
              "        buttonEl.style.display =\n",
              "          google.colab.kernel.accessAllowed ? 'block' : 'none';\n",
              "\n",
              "        async function convertToInteractive(key) {\n",
              "          const element = document.querySelector('#df-ec65ea08-3c88-466d-b7f8-175e785e6012');\n",
              "          const dataTable =\n",
              "            await google.colab.kernel.invokeFunction('convertToInteractive',\n",
              "                                                     [key], {});\n",
              "          if (!dataTable) return;\n",
              "\n",
              "          const docLinkHtml = 'Like what you see? Visit the ' +\n",
              "            '<a target=\"_blank\" href=https://colab.research.google.com/notebooks/data_table.ipynb>data table notebook</a>'\n",
              "            + ' to learn more about interactive tables.';\n",
              "          element.innerHTML = '';\n",
              "          dataTable['output_type'] = 'display_data';\n",
              "          await google.colab.output.renderOutput(dataTable, element);\n",
              "          const docLink = document.createElement('div');\n",
              "          docLink.innerHTML = docLinkHtml;\n",
              "          element.appendChild(docLink);\n",
              "        }\n",
              "      </script>\n",
              "    </div>\n",
              "  </div>\n",
              "  "
            ]
          },
          "metadata": {}
        }
      ]
    },
    {
      "cell_type": "markdown",
      "source": [
        "## **Reset Index**"
      ],
      "metadata": {
        "id": "h--EMiYY4fHJ"
      }
    },
    {
      "cell_type": "markdown",
      "source": [
        "We then reset the dataframe index to make it look appropriate"
      ],
      "metadata": {
        "id": "6S6XWvygOhlL"
      }
    },
    {
      "cell_type": "code",
      "source": [
        "df = df.reset_index(drop=True)"
      ],
      "metadata": {
        "id": "Ubg1sCGZ4iUz"
      },
      "execution_count": null,
      "outputs": []
    },
    {
      "cell_type": "code",
      "source": [
        "display(df)"
      ],
      "metadata": {
        "id": "koWf4jFs4lBf",
        "colab": {
          "base_uri": "https://localhost:8080/",
          "height": 424
        },
        "outputId": "6c85a0f6-ef85-4114-d80b-4b4584ca4032"
      },
      "execution_count": null,
      "outputs": [
        {
          "output_type": "display_data",
          "data": {
            "text/plain": [
              "                  Location     Price Rooms  Bathrooms  Car Parks  \\\n",
              "0                  dutamas   1030000     3        4.0        2.0   \n",
              "1              bukit jalil    900000     4        3.0        2.0   \n",
              "2      taman tun dr ismail   1950000     4        4.0        3.0   \n",
              "3             sri petaling    385000     3        2.0        1.0   \n",
              "4      taman tun dr ismail   4580000     6        5.0        5.0   \n",
              "...                    ...       ...   ...        ...        ...   \n",
              "19283          kuchai lama    300000     3        2.0        1.0   \n",
              "19284           kl sentral   1400000     3        3.0        2.0   \n",
              "19285          kl eco city    880000     1        1.0        1.0   \n",
              "19286         sri hartamas   2700000     4        6.0        3.0   \n",
              "19287              setapak    540000     4        2.0        3.0   \n",
              "\n",
              "                  Property Type     Size        Furnishing Additional Room  \\\n",
              "0                   Condominium    1875   Partly Furnished               0   \n",
              "1                   Condominium    1513   Partly Furnished               1   \n",
              "2      2-sty Terrace/Link House   25x75   Partly Furnished               1   \n",
              "3                     Apartment     904   Partly Furnished               0   \n",
              "4                      Bungalow    6000   Partly Furnished               1   \n",
              "...                         ...      ...               ...             ...   \n",
              "19283        Serviced Residence     820        Unfurnished               0   \n",
              "19284               Condominium    1544    Fully Furnished               1   \n",
              "19285               Condominium     650   Partly Furnished               0   \n",
              "19286               Condominium    3973   Partly Furnished               2   \n",
              "19287               Condominium    1313   Partly Furnished               0   \n",
              "\n",
              "           Size_2 Property Type_2  \n",
              "0       Built-up           Corner  \n",
              "1       Built-up           Corner  \n",
              "2      Land area           EndLot  \n",
              "3       Built-up     Intermediate  \n",
              "4      Land area     Intermediate  \n",
              "...           ...             ...  \n",
              "19283   Built-up     Intermediate  \n",
              "19284  Land area           Corner  \n",
              "19285   Built-up           Corner  \n",
              "19286   Built-up           Corner  \n",
              "19287   Built-up     Intermediate  \n",
              "\n",
              "[19288 rows x 11 columns]"
            ],
            "text/html": [
              "\n",
              "  <div id=\"df-37e5c1b3-0022-45e0-975c-2a3d46a4efda\">\n",
              "    <div class=\"colab-df-container\">\n",
              "      <div>\n",
              "<style scoped>\n",
              "    .dataframe tbody tr th:only-of-type {\n",
              "        vertical-align: middle;\n",
              "    }\n",
              "\n",
              "    .dataframe tbody tr th {\n",
              "        vertical-align: top;\n",
              "    }\n",
              "\n",
              "    .dataframe thead th {\n",
              "        text-align: right;\n",
              "    }\n",
              "</style>\n",
              "<table border=\"1\" class=\"dataframe\">\n",
              "  <thead>\n",
              "    <tr style=\"text-align: right;\">\n",
              "      <th></th>\n",
              "      <th>Location</th>\n",
              "      <th>Price</th>\n",
              "      <th>Rooms</th>\n",
              "      <th>Bathrooms</th>\n",
              "      <th>Car Parks</th>\n",
              "      <th>Property Type</th>\n",
              "      <th>Size</th>\n",
              "      <th>Furnishing</th>\n",
              "      <th>Additional Room</th>\n",
              "      <th>Size_2</th>\n",
              "      <th>Property Type_2</th>\n",
              "    </tr>\n",
              "  </thead>\n",
              "  <tbody>\n",
              "    <tr>\n",
              "      <th>0</th>\n",
              "      <td>dutamas</td>\n",
              "      <td>1030000</td>\n",
              "      <td>3</td>\n",
              "      <td>4.0</td>\n",
              "      <td>2.0</td>\n",
              "      <td>Condominium</td>\n",
              "      <td>1875</td>\n",
              "      <td>Partly Furnished</td>\n",
              "      <td>0</td>\n",
              "      <td>Built-up</td>\n",
              "      <td>Corner</td>\n",
              "    </tr>\n",
              "    <tr>\n",
              "      <th>1</th>\n",
              "      <td>bukit jalil</td>\n",
              "      <td>900000</td>\n",
              "      <td>4</td>\n",
              "      <td>3.0</td>\n",
              "      <td>2.0</td>\n",
              "      <td>Condominium</td>\n",
              "      <td>1513</td>\n",
              "      <td>Partly Furnished</td>\n",
              "      <td>1</td>\n",
              "      <td>Built-up</td>\n",
              "      <td>Corner</td>\n",
              "    </tr>\n",
              "    <tr>\n",
              "      <th>2</th>\n",
              "      <td>taman tun dr ismail</td>\n",
              "      <td>1950000</td>\n",
              "      <td>4</td>\n",
              "      <td>4.0</td>\n",
              "      <td>3.0</td>\n",
              "      <td>2-sty Terrace/Link House</td>\n",
              "      <td>25x75</td>\n",
              "      <td>Partly Furnished</td>\n",
              "      <td>1</td>\n",
              "      <td>Land area</td>\n",
              "      <td>EndLot</td>\n",
              "    </tr>\n",
              "    <tr>\n",
              "      <th>3</th>\n",
              "      <td>sri petaling</td>\n",
              "      <td>385000</td>\n",
              "      <td>3</td>\n",
              "      <td>2.0</td>\n",
              "      <td>1.0</td>\n",
              "      <td>Apartment</td>\n",
              "      <td>904</td>\n",
              "      <td>Partly Furnished</td>\n",
              "      <td>0</td>\n",
              "      <td>Built-up</td>\n",
              "      <td>Intermediate</td>\n",
              "    </tr>\n",
              "    <tr>\n",
              "      <th>4</th>\n",
              "      <td>taman tun dr ismail</td>\n",
              "      <td>4580000</td>\n",
              "      <td>6</td>\n",
              "      <td>5.0</td>\n",
              "      <td>5.0</td>\n",
              "      <td>Bungalow</td>\n",
              "      <td>6000</td>\n",
              "      <td>Partly Furnished</td>\n",
              "      <td>1</td>\n",
              "      <td>Land area</td>\n",
              "      <td>Intermediate</td>\n",
              "    </tr>\n",
              "    <tr>\n",
              "      <th>...</th>\n",
              "      <td>...</td>\n",
              "      <td>...</td>\n",
              "      <td>...</td>\n",
              "      <td>...</td>\n",
              "      <td>...</td>\n",
              "      <td>...</td>\n",
              "      <td>...</td>\n",
              "      <td>...</td>\n",
              "      <td>...</td>\n",
              "      <td>...</td>\n",
              "      <td>...</td>\n",
              "    </tr>\n",
              "    <tr>\n",
              "      <th>19283</th>\n",
              "      <td>kuchai lama</td>\n",
              "      <td>300000</td>\n",
              "      <td>3</td>\n",
              "      <td>2.0</td>\n",
              "      <td>1.0</td>\n",
              "      <td>Serviced Residence</td>\n",
              "      <td>820</td>\n",
              "      <td>Unfurnished</td>\n",
              "      <td>0</td>\n",
              "      <td>Built-up</td>\n",
              "      <td>Intermediate</td>\n",
              "    </tr>\n",
              "    <tr>\n",
              "      <th>19284</th>\n",
              "      <td>kl sentral</td>\n",
              "      <td>1400000</td>\n",
              "      <td>3</td>\n",
              "      <td>3.0</td>\n",
              "      <td>2.0</td>\n",
              "      <td>Condominium</td>\n",
              "      <td>1544</td>\n",
              "      <td>Fully Furnished</td>\n",
              "      <td>1</td>\n",
              "      <td>Land area</td>\n",
              "      <td>Corner</td>\n",
              "    </tr>\n",
              "    <tr>\n",
              "      <th>19285</th>\n",
              "      <td>kl eco city</td>\n",
              "      <td>880000</td>\n",
              "      <td>1</td>\n",
              "      <td>1.0</td>\n",
              "      <td>1.0</td>\n",
              "      <td>Condominium</td>\n",
              "      <td>650</td>\n",
              "      <td>Partly Furnished</td>\n",
              "      <td>0</td>\n",
              "      <td>Built-up</td>\n",
              "      <td>Corner</td>\n",
              "    </tr>\n",
              "    <tr>\n",
              "      <th>19286</th>\n",
              "      <td>sri hartamas</td>\n",
              "      <td>2700000</td>\n",
              "      <td>4</td>\n",
              "      <td>6.0</td>\n",
              "      <td>3.0</td>\n",
              "      <td>Condominium</td>\n",
              "      <td>3973</td>\n",
              "      <td>Partly Furnished</td>\n",
              "      <td>2</td>\n",
              "      <td>Built-up</td>\n",
              "      <td>Corner</td>\n",
              "    </tr>\n",
              "    <tr>\n",
              "      <th>19287</th>\n",
              "      <td>setapak</td>\n",
              "      <td>540000</td>\n",
              "      <td>4</td>\n",
              "      <td>2.0</td>\n",
              "      <td>3.0</td>\n",
              "      <td>Condominium</td>\n",
              "      <td>1313</td>\n",
              "      <td>Partly Furnished</td>\n",
              "      <td>0</td>\n",
              "      <td>Built-up</td>\n",
              "      <td>Intermediate</td>\n",
              "    </tr>\n",
              "  </tbody>\n",
              "</table>\n",
              "<p>19288 rows × 11 columns</p>\n",
              "</div>\n",
              "      <button class=\"colab-df-convert\" onclick=\"convertToInteractive('df-37e5c1b3-0022-45e0-975c-2a3d46a4efda')\"\n",
              "              title=\"Convert this dataframe to an interactive table.\"\n",
              "              style=\"display:none;\">\n",
              "        \n",
              "  <svg xmlns=\"http://www.w3.org/2000/svg\" height=\"24px\"viewBox=\"0 0 24 24\"\n",
              "       width=\"24px\">\n",
              "    <path d=\"M0 0h24v24H0V0z\" fill=\"none\"/>\n",
              "    <path d=\"M18.56 5.44l.94 2.06.94-2.06 2.06-.94-2.06-.94-.94-2.06-.94 2.06-2.06.94zm-11 1L8.5 8.5l.94-2.06 2.06-.94-2.06-.94L8.5 2.5l-.94 2.06-2.06.94zm10 10l.94 2.06.94-2.06 2.06-.94-2.06-.94-.94-2.06-.94 2.06-2.06.94z\"/><path d=\"M17.41 7.96l-1.37-1.37c-.4-.4-.92-.59-1.43-.59-.52 0-1.04.2-1.43.59L10.3 9.45l-7.72 7.72c-.78.78-.78 2.05 0 2.83L4 21.41c.39.39.9.59 1.41.59.51 0 1.02-.2 1.41-.59l7.78-7.78 2.81-2.81c.8-.78.8-2.07 0-2.86zM5.41 20L4 18.59l7.72-7.72 1.47 1.35L5.41 20z\"/>\n",
              "  </svg>\n",
              "      </button>\n",
              "      \n",
              "  <style>\n",
              "    .colab-df-container {\n",
              "      display:flex;\n",
              "      flex-wrap:wrap;\n",
              "      gap: 12px;\n",
              "    }\n",
              "\n",
              "    .colab-df-convert {\n",
              "      background-color: #E8F0FE;\n",
              "      border: none;\n",
              "      border-radius: 50%;\n",
              "      cursor: pointer;\n",
              "      display: none;\n",
              "      fill: #1967D2;\n",
              "      height: 32px;\n",
              "      padding: 0 0 0 0;\n",
              "      width: 32px;\n",
              "    }\n",
              "\n",
              "    .colab-df-convert:hover {\n",
              "      background-color: #E2EBFA;\n",
              "      box-shadow: 0px 1px 2px rgba(60, 64, 67, 0.3), 0px 1px 3px 1px rgba(60, 64, 67, 0.15);\n",
              "      fill: #174EA6;\n",
              "    }\n",
              "\n",
              "    [theme=dark] .colab-df-convert {\n",
              "      background-color: #3B4455;\n",
              "      fill: #D2E3FC;\n",
              "    }\n",
              "\n",
              "    [theme=dark] .colab-df-convert:hover {\n",
              "      background-color: #434B5C;\n",
              "      box-shadow: 0px 1px 3px 1px rgba(0, 0, 0, 0.15);\n",
              "      filter: drop-shadow(0px 1px 2px rgba(0, 0, 0, 0.3));\n",
              "      fill: #FFFFFF;\n",
              "    }\n",
              "  </style>\n",
              "\n",
              "      <script>\n",
              "        const buttonEl =\n",
              "          document.querySelector('#df-37e5c1b3-0022-45e0-975c-2a3d46a4efda button.colab-df-convert');\n",
              "        buttonEl.style.display =\n",
              "          google.colab.kernel.accessAllowed ? 'block' : 'none';\n",
              "\n",
              "        async function convertToInteractive(key) {\n",
              "          const element = document.querySelector('#df-37e5c1b3-0022-45e0-975c-2a3d46a4efda');\n",
              "          const dataTable =\n",
              "            await google.colab.kernel.invokeFunction('convertToInteractive',\n",
              "                                                     [key], {});\n",
              "          if (!dataTable) return;\n",
              "\n",
              "          const docLinkHtml = 'Like what you see? Visit the ' +\n",
              "            '<a target=\"_blank\" href=https://colab.research.google.com/notebooks/data_table.ipynb>data table notebook</a>'\n",
              "            + ' to learn more about interactive tables.';\n",
              "          element.innerHTML = '';\n",
              "          dataTable['output_type'] = 'display_data';\n",
              "          await google.colab.output.renderOutput(dataTable, element);\n",
              "          const docLink = document.createElement('div');\n",
              "          docLink.innerHTML = docLinkHtml;\n",
              "          element.appendChild(docLink);\n",
              "        }\n",
              "      </script>\n",
              "    </div>\n",
              "  </div>\n",
              "  "
            ]
          },
          "metadata": {}
        }
      ]
    },
    {
      "cell_type": "markdown",
      "source": [
        "## **Replace with appropriate value**"
      ],
      "metadata": {
        "id": "mSXdtaQt3k3o"
      }
    },
    {
      "cell_type": "code",
      "source": [
        "pd.unique(df['Rooms']) #before replace"
      ],
      "metadata": {
        "colab": {
          "base_uri": "https://localhost:8080/"
        },
        "id": "r0uFjMPSPNdY",
        "outputId": "b103d17a-3266-49a4-8dc7-b3c1364f1a28"
      },
      "execution_count": null,
      "outputs": [
        {
          "output_type": "execute_result",
          "data": {
            "text/plain": [
              "array(['3', '4', '6', '1', '2', '5', 'Studio', '7', '12', '8', '13',\n",
              "       '20 Above', '10', '9', '15', '11', '14', '16'], dtype=object)"
            ]
          },
          "metadata": {},
          "execution_count": 225
        }
      ]
    },
    {
      "cell_type": "markdown",
      "source": [
        "Since Rooms column should have only numerical value, we replace the 'Studio' and '20 above' with numbers, which is 1 and 20 respectively."
      ],
      "metadata": {
        "id": "Gwn5NTmMPA7q"
      }
    },
    {
      "cell_type": "code",
      "source": [
        "df['Rooms'] = df['Rooms'].replace(['Studio'], '1')\n",
        "df['Rooms'] = df['Rooms'].replace(['20 Above'], '20')"
      ],
      "metadata": {
        "id": "29eO8ul0N7nu"
      },
      "execution_count": null,
      "outputs": []
    },
    {
      "cell_type": "code",
      "source": [
        "pd.unique(df['Rooms']) #after replace"
      ],
      "metadata": {
        "colab": {
          "base_uri": "https://localhost:8080/"
        },
        "id": "idsBLBoVQG4z",
        "outputId": "beca8fe1-58cc-4d7c-9d72-55fab5679671"
      },
      "execution_count": null,
      "outputs": [
        {
          "output_type": "execute_result",
          "data": {
            "text/plain": [
              "array(['3', '4', '6', '1', '2', '5', '7', '12', '8', '13', '20', '10',\n",
              "       '9', '15', '11', '14', '16'], dtype=object)"
            ]
          },
          "metadata": {},
          "execution_count": 227
        }
      ]
    },
    {
      "cell_type": "markdown",
      "source": [
        "## **Change to appropriate data types**"
      ],
      "metadata": {
        "id": "hnqKz7SS0nd9"
      }
    },
    {
      "cell_type": "markdown",
      "source": [
        "There are some columns (Price, Rooms, Size, Additional Room) which supposed to store numerical data types. Hence, we cast the object datatype into float and int datatype."
      ],
      "metadata": {
        "id": "m5kIxyvxQaLQ"
      }
    },
    {
      "cell_type": "code",
      "execution_count": null,
      "metadata": {
        "id": "h46ilQakVJJ6",
        "colab": {
          "base_uri": "https://localhost:8080/"
        },
        "outputId": "d2be50de-3006-4383-d1b3-e931fef50e30"
      },
      "outputs": [
        {
          "output_type": "execute_result",
          "data": {
            "text/plain": [
              "Location            object\n",
              "Price               object\n",
              "Rooms               object\n",
              "Bathrooms          float64\n",
              "Car Parks          float64\n",
              "Property Type       object\n",
              "Size                object\n",
              "Furnishing          object\n",
              "Additional Room     object\n",
              "Size_2              object\n",
              "Property Type_2     object\n",
              "dtype: object"
            ]
          },
          "metadata": {},
          "execution_count": 228
        }
      ],
      "source": [
        "df.dtypes"
      ]
    },
    {
      "cell_type": "code",
      "source": [
        "df['Price'] = df['Price'].astype(float)\n",
        "df[['Bathrooms','Car Parks','Rooms','Additional Room']] = df[['Bathrooms', 'Car Parks','Rooms','Additional Room']].astype(int)"
      ],
      "metadata": {
        "id": "k_lHb6Pp1UwA"
      },
      "execution_count": null,
      "outputs": []
    },
    {
      "cell_type": "markdown",
      "source": [
        "There are some rows with data Size that is not in its final calculation. For example, 25x75 value. These kind of values are too many for us to calculate and reassign manually. Therefore, we dismiss these uncovertable rows."
      ],
      "metadata": {
        "id": "TYl2bbgQQ6aM"
      }
    },
    {
      "cell_type": "code",
      "source": [
        "pd.unique(df['Size'])"
      ],
      "metadata": {
        "colab": {
          "base_uri": "https://localhost:8080/"
        },
        "id": "f9vmGwM8Q1do",
        "outputId": "e4c4f1c6-2c91-42f4-e721-de1efef60135"
      },
      "execution_count": null,
      "outputs": [
        {
          "output_type": "execute_result",
          "data": {
            "text/plain": [
              "array([' 1875 ', ' 1513 ', ' 25x75 ', ..., ' 6050 ', ' 32 x 85 ',\n",
              "       ' 2132 '], dtype=object)"
            ]
          },
          "metadata": {},
          "execution_count": 230
        }
      ]
    },
    {
      "cell_type": "code",
      "source": [
        "df['Size'] = pd.to_numeric(df['Size'], errors='coerce')\n",
        "df = df[df['Size'].notna()].astype({'Size': float})"
      ],
      "metadata": {
        "id": "LsmYMfDGWC-x"
      },
      "execution_count": null,
      "outputs": []
    },
    {
      "cell_type": "code",
      "source": [
        "df.dtypes #final data types"
      ],
      "metadata": {
        "id": "NeaF0cQpYQGr",
        "colab": {
          "base_uri": "https://localhost:8080/"
        },
        "outputId": "e58d286f-fda1-44ee-81d0-529a76f833af"
      },
      "execution_count": null,
      "outputs": [
        {
          "output_type": "execute_result",
          "data": {
            "text/plain": [
              "Location            object\n",
              "Price              float64\n",
              "Rooms                int64\n",
              "Bathrooms            int64\n",
              "Car Parks            int64\n",
              "Property Type       object\n",
              "Size               float64\n",
              "Furnishing          object\n",
              "Additional Room      int64\n",
              "Size_2              object\n",
              "Property Type_2     object\n",
              "dtype: object"
            ]
          },
          "metadata": {},
          "execution_count": 232
        }
      ]
    },
    {
      "cell_type": "markdown",
      "source": [
        "## **Reorder columns**\n"
      ],
      "metadata": {
        "id": "sMMPYuzxZ1KA"
      }
    },
    {
      "cell_type": "markdown",
      "source": [
        "Reordering the columns make the dataframes looks neat and proper because the related columns are side by side."
      ],
      "metadata": {
        "id": "WnjgGW-aRmlO"
      }
    },
    {
      "cell_type": "code",
      "source": [
        "df = df.reindex(columns=['Location','Price','Size','Rooms','Additional Room','Bathrooms','Car Parks', 'Property Type', 'Property Type_2', 'Size_2','Furnishing'])"
      ],
      "metadata": {
        "id": "cJuRZc-VZ5PL"
      },
      "execution_count": null,
      "outputs": []
    },
    {
      "cell_type": "code",
      "source": [
        "display(df)"
      ],
      "metadata": {
        "id": "8P4YwlVOaehf",
        "colab": {
          "base_uri": "https://localhost:8080/",
          "height": 424
        },
        "outputId": "4ab803e7-ae52-487b-abd3-c3b85aa47286"
      },
      "execution_count": null,
      "outputs": [
        {
          "output_type": "display_data",
          "data": {
            "text/plain": [
              "                        Location      Price    Size  Rooms  Additional Room  \\\n",
              "0                        dutamas  1030000.0  1875.0      3                0   \n",
              "1                    bukit jalil   900000.0  1513.0      4                1   \n",
              "3                   sri petaling   385000.0   904.0      3                0   \n",
              "4            taman tun dr ismail  4580000.0  6000.0      6                1   \n",
              "5      bukit tunku (kenny hills)  9000000.0  8500.0      6                1   \n",
              "...                          ...        ...     ...    ...              ...   \n",
              "19283                kuchai lama   300000.0   820.0      3                0   \n",
              "19284                 kl sentral  1400000.0  1544.0      3                1   \n",
              "19285                kl eco city   880000.0   650.0      1                0   \n",
              "19286               sri hartamas  2700000.0  3973.0      4                2   \n",
              "19287                    setapak   540000.0  1313.0      4                0   \n",
              "\n",
              "       Bathrooms  Car Parks       Property Type Property Type_2      Size_2  \\\n",
              "0              4          2         Condominium          Corner   Built-up    \n",
              "1              3          2         Condominium          Corner   Built-up    \n",
              "3              2          1           Apartment    Intermediate   Built-up    \n",
              "4              5          5            Bungalow    Intermediate  Land area    \n",
              "5              7          4            Bungalow          Corner  Land area    \n",
              "...          ...        ...                 ...             ...         ...   \n",
              "19283          2          1  Serviced Residence    Intermediate   Built-up    \n",
              "19284          3          2         Condominium          Corner  Land area    \n",
              "19285          1          1         Condominium          Corner   Built-up    \n",
              "19286          6          3         Condominium          Corner   Built-up    \n",
              "19287          2          3         Condominium    Intermediate   Built-up    \n",
              "\n",
              "             Furnishing  \n",
              "0      Partly Furnished  \n",
              "1      Partly Furnished  \n",
              "3      Partly Furnished  \n",
              "4      Partly Furnished  \n",
              "5      Partly Furnished  \n",
              "...                 ...  \n",
              "19283       Unfurnished  \n",
              "19284   Fully Furnished  \n",
              "19285  Partly Furnished  \n",
              "19286  Partly Furnished  \n",
              "19287  Partly Furnished  \n",
              "\n",
              "[17043 rows x 11 columns]"
            ],
            "text/html": [
              "\n",
              "  <div id=\"df-f79a6429-f20f-43d8-a4d2-85099cdf7698\">\n",
              "    <div class=\"colab-df-container\">\n",
              "      <div>\n",
              "<style scoped>\n",
              "    .dataframe tbody tr th:only-of-type {\n",
              "        vertical-align: middle;\n",
              "    }\n",
              "\n",
              "    .dataframe tbody tr th {\n",
              "        vertical-align: top;\n",
              "    }\n",
              "\n",
              "    .dataframe thead th {\n",
              "        text-align: right;\n",
              "    }\n",
              "</style>\n",
              "<table border=\"1\" class=\"dataframe\">\n",
              "  <thead>\n",
              "    <tr style=\"text-align: right;\">\n",
              "      <th></th>\n",
              "      <th>Location</th>\n",
              "      <th>Price</th>\n",
              "      <th>Size</th>\n",
              "      <th>Rooms</th>\n",
              "      <th>Additional Room</th>\n",
              "      <th>Bathrooms</th>\n",
              "      <th>Car Parks</th>\n",
              "      <th>Property Type</th>\n",
              "      <th>Property Type_2</th>\n",
              "      <th>Size_2</th>\n",
              "      <th>Furnishing</th>\n",
              "    </tr>\n",
              "  </thead>\n",
              "  <tbody>\n",
              "    <tr>\n",
              "      <th>0</th>\n",
              "      <td>dutamas</td>\n",
              "      <td>1030000.0</td>\n",
              "      <td>1875.0</td>\n",
              "      <td>3</td>\n",
              "      <td>0</td>\n",
              "      <td>4</td>\n",
              "      <td>2</td>\n",
              "      <td>Condominium</td>\n",
              "      <td>Corner</td>\n",
              "      <td>Built-up</td>\n",
              "      <td>Partly Furnished</td>\n",
              "    </tr>\n",
              "    <tr>\n",
              "      <th>1</th>\n",
              "      <td>bukit jalil</td>\n",
              "      <td>900000.0</td>\n",
              "      <td>1513.0</td>\n",
              "      <td>4</td>\n",
              "      <td>1</td>\n",
              "      <td>3</td>\n",
              "      <td>2</td>\n",
              "      <td>Condominium</td>\n",
              "      <td>Corner</td>\n",
              "      <td>Built-up</td>\n",
              "      <td>Partly Furnished</td>\n",
              "    </tr>\n",
              "    <tr>\n",
              "      <th>3</th>\n",
              "      <td>sri petaling</td>\n",
              "      <td>385000.0</td>\n",
              "      <td>904.0</td>\n",
              "      <td>3</td>\n",
              "      <td>0</td>\n",
              "      <td>2</td>\n",
              "      <td>1</td>\n",
              "      <td>Apartment</td>\n",
              "      <td>Intermediate</td>\n",
              "      <td>Built-up</td>\n",
              "      <td>Partly Furnished</td>\n",
              "    </tr>\n",
              "    <tr>\n",
              "      <th>4</th>\n",
              "      <td>taman tun dr ismail</td>\n",
              "      <td>4580000.0</td>\n",
              "      <td>6000.0</td>\n",
              "      <td>6</td>\n",
              "      <td>1</td>\n",
              "      <td>5</td>\n",
              "      <td>5</td>\n",
              "      <td>Bungalow</td>\n",
              "      <td>Intermediate</td>\n",
              "      <td>Land area</td>\n",
              "      <td>Partly Furnished</td>\n",
              "    </tr>\n",
              "    <tr>\n",
              "      <th>5</th>\n",
              "      <td>bukit tunku (kenny hills)</td>\n",
              "      <td>9000000.0</td>\n",
              "      <td>8500.0</td>\n",
              "      <td>6</td>\n",
              "      <td>1</td>\n",
              "      <td>7</td>\n",
              "      <td>4</td>\n",
              "      <td>Bungalow</td>\n",
              "      <td>Corner</td>\n",
              "      <td>Land area</td>\n",
              "      <td>Partly Furnished</td>\n",
              "    </tr>\n",
              "    <tr>\n",
              "      <th>...</th>\n",
              "      <td>...</td>\n",
              "      <td>...</td>\n",
              "      <td>...</td>\n",
              "      <td>...</td>\n",
              "      <td>...</td>\n",
              "      <td>...</td>\n",
              "      <td>...</td>\n",
              "      <td>...</td>\n",
              "      <td>...</td>\n",
              "      <td>...</td>\n",
              "      <td>...</td>\n",
              "    </tr>\n",
              "    <tr>\n",
              "      <th>19283</th>\n",
              "      <td>kuchai lama</td>\n",
              "      <td>300000.0</td>\n",
              "      <td>820.0</td>\n",
              "      <td>3</td>\n",
              "      <td>0</td>\n",
              "      <td>2</td>\n",
              "      <td>1</td>\n",
              "      <td>Serviced Residence</td>\n",
              "      <td>Intermediate</td>\n",
              "      <td>Built-up</td>\n",
              "      <td>Unfurnished</td>\n",
              "    </tr>\n",
              "    <tr>\n",
              "      <th>19284</th>\n",
              "      <td>kl sentral</td>\n",
              "      <td>1400000.0</td>\n",
              "      <td>1544.0</td>\n",
              "      <td>3</td>\n",
              "      <td>1</td>\n",
              "      <td>3</td>\n",
              "      <td>2</td>\n",
              "      <td>Condominium</td>\n",
              "      <td>Corner</td>\n",
              "      <td>Land area</td>\n",
              "      <td>Fully Furnished</td>\n",
              "    </tr>\n",
              "    <tr>\n",
              "      <th>19285</th>\n",
              "      <td>kl eco city</td>\n",
              "      <td>880000.0</td>\n",
              "      <td>650.0</td>\n",
              "      <td>1</td>\n",
              "      <td>0</td>\n",
              "      <td>1</td>\n",
              "      <td>1</td>\n",
              "      <td>Condominium</td>\n",
              "      <td>Corner</td>\n",
              "      <td>Built-up</td>\n",
              "      <td>Partly Furnished</td>\n",
              "    </tr>\n",
              "    <tr>\n",
              "      <th>19286</th>\n",
              "      <td>sri hartamas</td>\n",
              "      <td>2700000.0</td>\n",
              "      <td>3973.0</td>\n",
              "      <td>4</td>\n",
              "      <td>2</td>\n",
              "      <td>6</td>\n",
              "      <td>3</td>\n",
              "      <td>Condominium</td>\n",
              "      <td>Corner</td>\n",
              "      <td>Built-up</td>\n",
              "      <td>Partly Furnished</td>\n",
              "    </tr>\n",
              "    <tr>\n",
              "      <th>19287</th>\n",
              "      <td>setapak</td>\n",
              "      <td>540000.0</td>\n",
              "      <td>1313.0</td>\n",
              "      <td>4</td>\n",
              "      <td>0</td>\n",
              "      <td>2</td>\n",
              "      <td>3</td>\n",
              "      <td>Condominium</td>\n",
              "      <td>Intermediate</td>\n",
              "      <td>Built-up</td>\n",
              "      <td>Partly Furnished</td>\n",
              "    </tr>\n",
              "  </tbody>\n",
              "</table>\n",
              "<p>17043 rows × 11 columns</p>\n",
              "</div>\n",
              "      <button class=\"colab-df-convert\" onclick=\"convertToInteractive('df-f79a6429-f20f-43d8-a4d2-85099cdf7698')\"\n",
              "              title=\"Convert this dataframe to an interactive table.\"\n",
              "              style=\"display:none;\">\n",
              "        \n",
              "  <svg xmlns=\"http://www.w3.org/2000/svg\" height=\"24px\"viewBox=\"0 0 24 24\"\n",
              "       width=\"24px\">\n",
              "    <path d=\"M0 0h24v24H0V0z\" fill=\"none\"/>\n",
              "    <path d=\"M18.56 5.44l.94 2.06.94-2.06 2.06-.94-2.06-.94-.94-2.06-.94 2.06-2.06.94zm-11 1L8.5 8.5l.94-2.06 2.06-.94-2.06-.94L8.5 2.5l-.94 2.06-2.06.94zm10 10l.94 2.06.94-2.06 2.06-.94-2.06-.94-.94-2.06-.94 2.06-2.06.94z\"/><path d=\"M17.41 7.96l-1.37-1.37c-.4-.4-.92-.59-1.43-.59-.52 0-1.04.2-1.43.59L10.3 9.45l-7.72 7.72c-.78.78-.78 2.05 0 2.83L4 21.41c.39.39.9.59 1.41.59.51 0 1.02-.2 1.41-.59l7.78-7.78 2.81-2.81c.8-.78.8-2.07 0-2.86zM5.41 20L4 18.59l7.72-7.72 1.47 1.35L5.41 20z\"/>\n",
              "  </svg>\n",
              "      </button>\n",
              "      \n",
              "  <style>\n",
              "    .colab-df-container {\n",
              "      display:flex;\n",
              "      flex-wrap:wrap;\n",
              "      gap: 12px;\n",
              "    }\n",
              "\n",
              "    .colab-df-convert {\n",
              "      background-color: #E8F0FE;\n",
              "      border: none;\n",
              "      border-radius: 50%;\n",
              "      cursor: pointer;\n",
              "      display: none;\n",
              "      fill: #1967D2;\n",
              "      height: 32px;\n",
              "      padding: 0 0 0 0;\n",
              "      width: 32px;\n",
              "    }\n",
              "\n",
              "    .colab-df-convert:hover {\n",
              "      background-color: #E2EBFA;\n",
              "      box-shadow: 0px 1px 2px rgba(60, 64, 67, 0.3), 0px 1px 3px 1px rgba(60, 64, 67, 0.15);\n",
              "      fill: #174EA6;\n",
              "    }\n",
              "\n",
              "    [theme=dark] .colab-df-convert {\n",
              "      background-color: #3B4455;\n",
              "      fill: #D2E3FC;\n",
              "    }\n",
              "\n",
              "    [theme=dark] .colab-df-convert:hover {\n",
              "      background-color: #434B5C;\n",
              "      box-shadow: 0px 1px 3px 1px rgba(0, 0, 0, 0.15);\n",
              "      filter: drop-shadow(0px 1px 2px rgba(0, 0, 0, 0.3));\n",
              "      fill: #FFFFFF;\n",
              "    }\n",
              "  </style>\n",
              "\n",
              "      <script>\n",
              "        const buttonEl =\n",
              "          document.querySelector('#df-f79a6429-f20f-43d8-a4d2-85099cdf7698 button.colab-df-convert');\n",
              "        buttonEl.style.display =\n",
              "          google.colab.kernel.accessAllowed ? 'block' : 'none';\n",
              "\n",
              "        async function convertToInteractive(key) {\n",
              "          const element = document.querySelector('#df-f79a6429-f20f-43d8-a4d2-85099cdf7698');\n",
              "          const dataTable =\n",
              "            await google.colab.kernel.invokeFunction('convertToInteractive',\n",
              "                                                     [key], {});\n",
              "          if (!dataTable) return;\n",
              "\n",
              "          const docLinkHtml = 'Like what you see? Visit the ' +\n",
              "            '<a target=\"_blank\" href=https://colab.research.google.com/notebooks/data_table.ipynb>data table notebook</a>'\n",
              "            + ' to learn more about interactive tables.';\n",
              "          element.innerHTML = '';\n",
              "          dataTable['output_type'] = 'display_data';\n",
              "          await google.colab.output.renderOutput(dataTable, element);\n",
              "          const docLink = document.createElement('div');\n",
              "          docLink.innerHTML = docLinkHtml;\n",
              "          element.appendChild(docLink);\n",
              "        }\n",
              "      </script>\n",
              "    </div>\n",
              "  </div>\n",
              "  "
            ]
          },
          "metadata": {}
        }
      ]
    },
    {
      "cell_type": "markdown",
      "metadata": {
        "id": "_0m5LkbVVJJ6"
      },
      "source": [
        "# **Exploratory Analysis and Visualization**\n",
        "\n"
      ]
    },
    {
      "cell_type": "markdown",
      "metadata": {
        "id": "6knKGHajVJJ6"
      },
      "source": [
        "> Instructions (delete this cell)\n",
        "> \n",
        "> - Compute the mean, sum, range and other interesting statistics for numeric columns\n",
        "> - Explore distributions of numeric columns using histograms etc.\n",
        "> - Explore relationship between columns using scatter plots, bar charts etc.\n",
        "> - Make a note of interesting insights from the exploratory analysis"
      ]
    },
    {
      "cell_type": "markdown",
      "metadata": {
        "id": "RuPTpsGWVJJ7"
      },
      "source": [
        "Let's begin by importing`matplotlib.pyplot` and `seaborn`."
      ]
    },
    {
      "cell_type": "code",
      "execution_count": null,
      "metadata": {
        "id": "zOTtwqAMVJJ7"
      },
      "outputs": [],
      "source": [
        "import seaborn as sns\n",
        "import matplotlib\n",
        "import matplotlib.pyplot as plt\n",
        "%matplotlib inline\n",
        "\n",
        "sns.set_style('darkgrid')\n",
        "matplotlib.rcParams['font.size'] = 14\n",
        "matplotlib.rcParams['figure.figsize'] = (9, 5)\n",
        "matplotlib.rcParams['figure.facecolor'] = '#00000000'"
      ]
    },
    {
      "cell_type": "markdown",
      "source": [
        "Compute the mean, sum, range"
      ],
      "metadata": {
        "id": "JbD99Y9WyptM"
      }
    },
    {
      "cell_type": "code",
      "source": [
        "df.describe()"
      ],
      "metadata": {
        "colab": {
          "base_uri": "https://localhost:8080/",
          "height": 300
        },
        "id": "YjSXIHybyoV_",
        "outputId": "8cd31152-a6c3-4eb7-b08d-3854c15c84a4"
      },
      "execution_count": null,
      "outputs": [
        {
          "output_type": "execute_result",
          "data": {
            "text/plain": [
              "              Price           Size         Rooms  Additional Room  \\\n",
              "count  1.704300e+04   17043.000000  17043.000000     17043.000000   \n",
              "mean   1.621916e+06    2216.017303      3.105498         0.443643   \n",
              "std    2.213853e+06    7660.497674      1.203219         0.557703   \n",
              "min    6.500000e+02       0.000000      1.000000         0.000000   \n",
              "25%    5.300000e+05    1001.500000      3.000000         0.000000   \n",
              "50%    8.600000e+05    1303.000000      3.000000         0.000000   \n",
              "75%    1.769000e+06    2094.000000      4.000000         1.000000   \n",
              "max    5.128101e+07  690000.000000     20.000000         2.000000   \n",
              "\n",
              "          Bathrooms     Car Parks  \n",
              "count  17043.000000  17043.000000  \n",
              "mean       2.933521      2.000704  \n",
              "std        1.554315      1.348934  \n",
              "min        1.000000      1.000000  \n",
              "25%        2.000000      1.000000  \n",
              "50%        2.000000      2.000000  \n",
              "75%        4.000000      2.000000  \n",
              "max       20.000000     30.000000  "
            ],
            "text/html": [
              "\n",
              "  <div id=\"df-6288b4a8-5b5e-49eb-8a05-21a20444f9df\">\n",
              "    <div class=\"colab-df-container\">\n",
              "      <div>\n",
              "<style scoped>\n",
              "    .dataframe tbody tr th:only-of-type {\n",
              "        vertical-align: middle;\n",
              "    }\n",
              "\n",
              "    .dataframe tbody tr th {\n",
              "        vertical-align: top;\n",
              "    }\n",
              "\n",
              "    .dataframe thead th {\n",
              "        text-align: right;\n",
              "    }\n",
              "</style>\n",
              "<table border=\"1\" class=\"dataframe\">\n",
              "  <thead>\n",
              "    <tr style=\"text-align: right;\">\n",
              "      <th></th>\n",
              "      <th>Price</th>\n",
              "      <th>Size</th>\n",
              "      <th>Rooms</th>\n",
              "      <th>Additional Room</th>\n",
              "      <th>Bathrooms</th>\n",
              "      <th>Car Parks</th>\n",
              "    </tr>\n",
              "  </thead>\n",
              "  <tbody>\n",
              "    <tr>\n",
              "      <th>count</th>\n",
              "      <td>1.704300e+04</td>\n",
              "      <td>17043.000000</td>\n",
              "      <td>17043.000000</td>\n",
              "      <td>17043.000000</td>\n",
              "      <td>17043.000000</td>\n",
              "      <td>17043.000000</td>\n",
              "    </tr>\n",
              "    <tr>\n",
              "      <th>mean</th>\n",
              "      <td>1.621916e+06</td>\n",
              "      <td>2216.017303</td>\n",
              "      <td>3.105498</td>\n",
              "      <td>0.443643</td>\n",
              "      <td>2.933521</td>\n",
              "      <td>2.000704</td>\n",
              "    </tr>\n",
              "    <tr>\n",
              "      <th>std</th>\n",
              "      <td>2.213853e+06</td>\n",
              "      <td>7660.497674</td>\n",
              "      <td>1.203219</td>\n",
              "      <td>0.557703</td>\n",
              "      <td>1.554315</td>\n",
              "      <td>1.348934</td>\n",
              "    </tr>\n",
              "    <tr>\n",
              "      <th>min</th>\n",
              "      <td>6.500000e+02</td>\n",
              "      <td>0.000000</td>\n",
              "      <td>1.000000</td>\n",
              "      <td>0.000000</td>\n",
              "      <td>1.000000</td>\n",
              "      <td>1.000000</td>\n",
              "    </tr>\n",
              "    <tr>\n",
              "      <th>25%</th>\n",
              "      <td>5.300000e+05</td>\n",
              "      <td>1001.500000</td>\n",
              "      <td>3.000000</td>\n",
              "      <td>0.000000</td>\n",
              "      <td>2.000000</td>\n",
              "      <td>1.000000</td>\n",
              "    </tr>\n",
              "    <tr>\n",
              "      <th>50%</th>\n",
              "      <td>8.600000e+05</td>\n",
              "      <td>1303.000000</td>\n",
              "      <td>3.000000</td>\n",
              "      <td>0.000000</td>\n",
              "      <td>2.000000</td>\n",
              "      <td>2.000000</td>\n",
              "    </tr>\n",
              "    <tr>\n",
              "      <th>75%</th>\n",
              "      <td>1.769000e+06</td>\n",
              "      <td>2094.000000</td>\n",
              "      <td>4.000000</td>\n",
              "      <td>1.000000</td>\n",
              "      <td>4.000000</td>\n",
              "      <td>2.000000</td>\n",
              "    </tr>\n",
              "    <tr>\n",
              "      <th>max</th>\n",
              "      <td>5.128101e+07</td>\n",
              "      <td>690000.000000</td>\n",
              "      <td>20.000000</td>\n",
              "      <td>2.000000</td>\n",
              "      <td>20.000000</td>\n",
              "      <td>30.000000</td>\n",
              "    </tr>\n",
              "  </tbody>\n",
              "</table>\n",
              "</div>\n",
              "      <button class=\"colab-df-convert\" onclick=\"convertToInteractive('df-6288b4a8-5b5e-49eb-8a05-21a20444f9df')\"\n",
              "              title=\"Convert this dataframe to an interactive table.\"\n",
              "              style=\"display:none;\">\n",
              "        \n",
              "  <svg xmlns=\"http://www.w3.org/2000/svg\" height=\"24px\"viewBox=\"0 0 24 24\"\n",
              "       width=\"24px\">\n",
              "    <path d=\"M0 0h24v24H0V0z\" fill=\"none\"/>\n",
              "    <path d=\"M18.56 5.44l.94 2.06.94-2.06 2.06-.94-2.06-.94-.94-2.06-.94 2.06-2.06.94zm-11 1L8.5 8.5l.94-2.06 2.06-.94-2.06-.94L8.5 2.5l-.94 2.06-2.06.94zm10 10l.94 2.06.94-2.06 2.06-.94-2.06-.94-.94-2.06-.94 2.06-2.06.94z\"/><path d=\"M17.41 7.96l-1.37-1.37c-.4-.4-.92-.59-1.43-.59-.52 0-1.04.2-1.43.59L10.3 9.45l-7.72 7.72c-.78.78-.78 2.05 0 2.83L4 21.41c.39.39.9.59 1.41.59.51 0 1.02-.2 1.41-.59l7.78-7.78 2.81-2.81c.8-.78.8-2.07 0-2.86zM5.41 20L4 18.59l7.72-7.72 1.47 1.35L5.41 20z\"/>\n",
              "  </svg>\n",
              "      </button>\n",
              "      \n",
              "  <style>\n",
              "    .colab-df-container {\n",
              "      display:flex;\n",
              "      flex-wrap:wrap;\n",
              "      gap: 12px;\n",
              "    }\n",
              "\n",
              "    .colab-df-convert {\n",
              "      background-color: #E8F0FE;\n",
              "      border: none;\n",
              "      border-radius: 50%;\n",
              "      cursor: pointer;\n",
              "      display: none;\n",
              "      fill: #1967D2;\n",
              "      height: 32px;\n",
              "      padding: 0 0 0 0;\n",
              "      width: 32px;\n",
              "    }\n",
              "\n",
              "    .colab-df-convert:hover {\n",
              "      background-color: #E2EBFA;\n",
              "      box-shadow: 0px 1px 2px rgba(60, 64, 67, 0.3), 0px 1px 3px 1px rgba(60, 64, 67, 0.15);\n",
              "      fill: #174EA6;\n",
              "    }\n",
              "\n",
              "    [theme=dark] .colab-df-convert {\n",
              "      background-color: #3B4455;\n",
              "      fill: #D2E3FC;\n",
              "    }\n",
              "\n",
              "    [theme=dark] .colab-df-convert:hover {\n",
              "      background-color: #434B5C;\n",
              "      box-shadow: 0px 1px 3px 1px rgba(0, 0, 0, 0.15);\n",
              "      filter: drop-shadow(0px 1px 2px rgba(0, 0, 0, 0.3));\n",
              "      fill: #FFFFFF;\n",
              "    }\n",
              "  </style>\n",
              "\n",
              "      <script>\n",
              "        const buttonEl =\n",
              "          document.querySelector('#df-6288b4a8-5b5e-49eb-8a05-21a20444f9df button.colab-df-convert');\n",
              "        buttonEl.style.display =\n",
              "          google.colab.kernel.accessAllowed ? 'block' : 'none';\n",
              "\n",
              "        async function convertToInteractive(key) {\n",
              "          const element = document.querySelector('#df-6288b4a8-5b5e-49eb-8a05-21a20444f9df');\n",
              "          const dataTable =\n",
              "            await google.colab.kernel.invokeFunction('convertToInteractive',\n",
              "                                                     [key], {});\n",
              "          if (!dataTable) return;\n",
              "\n",
              "          const docLinkHtml = 'Like what you see? Visit the ' +\n",
              "            '<a target=\"_blank\" href=https://colab.research.google.com/notebooks/data_table.ipynb>data table notebook</a>'\n",
              "            + ' to learn more about interactive tables.';\n",
              "          element.innerHTML = '';\n",
              "          dataTable['output_type'] = 'display_data';\n",
              "          await google.colab.output.renderOutput(dataTable, element);\n",
              "          const docLink = document.createElement('div');\n",
              "          docLink.innerHTML = docLinkHtml;\n",
              "          element.appendChild(docLink);\n",
              "        }\n",
              "      </script>\n",
              "    </div>\n",
              "  </div>\n",
              "  "
            ]
          },
          "metadata": {},
          "execution_count": 236
        }
      ]
    },
    {
      "cell_type": "markdown",
      "metadata": {
        "id": "Dn_AW-5uVJJ7"
      },
      "source": [
        "## **Number of properties per Location** "
      ]
    },
    {
      "cell_type": "code",
      "execution_count": null,
      "metadata": {
        "id": "c7fugjWzVJJ7",
        "colab": {
          "base_uri": "https://localhost:8080/",
          "height": 1000
        },
        "outputId": "ee1097af-c67c-4d7e-be5b-6f00d9c75299"
      },
      "outputs": [
        {
          "output_type": "execute_result",
          "data": {
            "text/plain": [
              "Text(0.5, 0.98, 'Count of Properties Per Location')"
            ]
          },
          "metadata": {},
          "execution_count": 237
        },
        {
          "output_type": "display_data",
          "data": {
            "text/plain": [
              "<Figure size 864x1080 with 1 Axes>"
            ],
            "image/png": "[encoded data removed]"
          },
          "metadata": {
            "needs_background": "light"
          }
        }
      ],
      "source": [
        "df1 = df.groupby(\"Location\").size().sort_values(ascending=False).reset_index()\n",
        "shift = 0.05 * (df1[0].max() - df1[0].min())\n",
        "df_sizes = df1.groupby(\"Location\").size()[df1[\"Location\"]]\n",
        "\n",
        "fig = sns.catplot(\n",
        "    data=df1, x=0, y=\"Location\", kind=\"bar\", \n",
        "    color=\"cadetblue\", height=15, aspect=0.8)\n",
        "\n",
        "for index, row in df1.iterrows():\n",
        "    fig.ax.text(\n",
        "        row[0] + shift, row.name, row[0], \n",
        "        color='black', ha=\"center\", va=\"center\")\n",
        "\n",
        "fig.ax.get_xaxis().set_visible(False);\n",
        "fig.despine(left=True, bottom=True)\n",
        "fig.set_xlabels(\"No of properties\");\n",
        "fig.fig.subplots_adjust(top=0.95)\n",
        "fig.fig.suptitle('Count of Properties Per Location')"
      ]
    },
    {
      "cell_type": "markdown",
      "source": [
        "## **Mean Price Based on Location**"
      ],
      "metadata": {
        "id": "_9qrKiAVq1rG"
      }
    },
    {
      "cell_type": "code",
      "source": [
        "df_prices = df.groupby('Location').agg([np.mean, np.std])\n",
        "display(df_prices)"
      ],
      "metadata": {
        "id": "7NQOcf0-mDGd",
        "colab": {
          "base_uri": "https://localhost:8080/",
          "height": 486
        },
        "outputId": "51524958-18f5-46b8-a7eb-7d712ec9c363"
      },
      "execution_count": null,
      "outputs": [
        {
          "output_type": "display_data",
          "data": {
            "text/plain": [
              "                             Price                        Size                \\\n",
              "                              mean           std          mean           std   \n",
              "Location                                                                       \n",
              "ampang                1.569690e+06  2.107984e+06   2342.515235   2527.876851   \n",
              "ampang hilir          3.662327e+06  4.585701e+06   3619.269231   3678.250676   \n",
              "bandar damai perdana  6.745871e+05  3.008017e+05   1519.294118    848.434276   \n",
              "bandar menjalara      5.746424e+05  3.125154e+05   1991.144444  10638.927344   \n",
              "bandar tasik selatan  3.837619e+05  2.024813e+05    958.761905    264.041267   \n",
              "...                            ...           ...           ...           ...   \n",
              "taman duta            1.177667e+07  7.935373e+06  15962.000000  10439.371808   \n",
              "taman melawati        2.364218e+06  1.452526e+06   4529.843137   2855.108564   \n",
              "taman tun dr ismail   2.150789e+06  1.936484e+06   2991.831503   4059.794305   \n",
              "titiwangsa            1.988552e+06  2.598033e+06   7729.184615  36968.433725   \n",
              "wangsa maju           7.272844e+05  5.280848e+05   1775.324096   6540.132444   \n",
              "\n",
              "                         Rooms           Additional Room           Bathrooms  \\\n",
              "                          mean       std            mean       std      mean   \n",
              "Location                                                                       \n",
              "ampang                3.047091  1.547578        0.454294  0.541335  3.202216   \n",
              "ampang hilir          3.307692  1.421552        0.668269  0.606369  3.745192   \n",
              "bandar damai perdana  3.764706  0.903425        0.235294  0.437237  3.176471   \n",
              "bandar menjalara      3.138889  0.556966        0.394444  0.490094  2.311111   \n",
              "bandar tasik selatan  3.095238  0.436436        0.000000  0.000000  2.047619   \n",
              "...                        ...       ...             ...       ...       ...   \n",
              "taman duta            5.666667  1.500000        0.666667  0.500000  5.888889   \n",
              "taman melawati        4.601307  1.314594        0.614379  0.574962  4.947712   \n",
              "taman tun dr ismail   3.532680  1.298389        0.490196  0.623240  3.330065   \n",
              "titiwangsa            3.523077  1.480157        0.307692  0.556863  2.892308   \n",
              "wangsa maju           3.160410  0.938997        0.372014  0.511680  2.593857   \n",
              "\n",
              "                               Car Parks            \n",
              "                           std      mean       std  \n",
              "Location                                            \n",
              "ampang                1.869520  2.085873  1.416508  \n",
              "ampang hilir          1.825074  2.692308  2.529352  \n",
              "bandar damai perdana  1.185079  1.941176  0.555719  \n",
              "bandar menjalara      0.581742  1.577778  0.896645  \n",
              "bandar tasik selatan  0.384212  1.285714  0.560612  \n",
              "...                        ...       ...       ...  \n",
              "taman duta            1.833333  6.222222  2.166667  \n",
              "taman melawati        1.966130  3.549020  1.773122  \n",
              "taman tun dr ismail   1.604975  2.464052  1.768675  \n",
              "titiwangsa            1.696716  2.200000  2.319752  \n",
              "wangsa maju           1.138776  1.761092  0.817774  \n",
              "\n",
              "[69 rows x 12 columns]"
            ],
            "text/html": [
              "\n",
              "  <div id=\"df-d5fad055-edc4-4f50-bfbd-4fbcb8f6b15c\">\n",
              "    <div class=\"colab-df-container\">\n",
              "      <div>\n",
              "<style scoped>\n",
              "    .dataframe tbody tr th:only-of-type {\n",
              "        vertical-align: middle;\n",
              "    }\n",
              "\n",
              "    .dataframe tbody tr th {\n",
              "        vertical-align: top;\n",
              "    }\n",
              "\n",
              "    .dataframe thead tr th {\n",
              "        text-align: left;\n",
              "    }\n",
              "\n",
              "    .dataframe thead tr:last-of-type th {\n",
              "        text-align: right;\n",
              "    }\n",
              "</style>\n",
              "<table border=\"1\" class=\"dataframe\">\n",
              "  <thead>\n",
              "    <tr>\n",
              "      <th></th>\n",
              "      <th colspan=\"2\" halign=\"left\">Price</th>\n",
              "      <th colspan=\"2\" halign=\"left\">Size</th>\n",
              "      <th colspan=\"2\" halign=\"left\">Rooms</th>\n",
              "      <th colspan=\"2\" halign=\"left\">Additional Room</th>\n",
              "      <th colspan=\"2\" halign=\"left\">Bathrooms</th>\n",
              "      <th colspan=\"2\" halign=\"left\">Car Parks</th>\n",
              "    </tr>\n",
              "    <tr>\n",
              "      <th></th>\n",
              "      <th>mean</th>\n",
              "      <th>std</th>\n",
              "      <th>mean</th>\n",
              "      <th>std</th>\n",
              "      <th>mean</th>\n",
              "      <th>std</th>\n",
              "      <th>mean</th>\n",
              "      <th>std</th>\n",
              "      <th>mean</th>\n",
              "      <th>std</th>\n",
              "      <th>mean</th>\n",
              "      <th>std</th>\n",
              "    </tr>\n",
              "    <tr>\n",
              "      <th>Location</th>\n",
              "      <th></th>\n",
              "      <th></th>\n",
              "      <th></th>\n",
              "      <th></th>\n",
              "      <th></th>\n",
              "      <th></th>\n",
              "      <th></th>\n",
              "      <th></th>\n",
              "      <th></th>\n",
              "      <th></th>\n",
              "      <th></th>\n",
              "      <th></th>\n",
              "    </tr>\n",
              "  </thead>\n",
              "  <tbody>\n",
              "    <tr>\n",
              "      <th>ampang</th>\n",
              "      <td>1.569690e+06</td>\n",
              "      <td>2.107984e+06</td>\n",
              "      <td>2342.515235</td>\n",
              "      <td>2527.876851</td>\n",
              "      <td>3.047091</td>\n",
              "      <td>1.547578</td>\n",
              "      <td>0.454294</td>\n",
              "      <td>0.541335</td>\n",
              "      <td>3.202216</td>\n",
              "      <td>1.869520</td>\n",
              "      <td>2.085873</td>\n",
              "      <td>1.416508</td>\n",
              "    </tr>\n",
              "    <tr>\n",
              "      <th>ampang hilir</th>\n",
              "      <td>3.662327e+06</td>\n",
              "      <td>4.585701e+06</td>\n",
              "      <td>3619.269231</td>\n",
              "      <td>3678.250676</td>\n",
              "      <td>3.307692</td>\n",
              "      <td>1.421552</td>\n",
              "      <td>0.668269</td>\n",
              "      <td>0.606369</td>\n",
              "      <td>3.745192</td>\n",
              "      <td>1.825074</td>\n",
              "      <td>2.692308</td>\n",
              "      <td>2.529352</td>\n",
              "    </tr>\n",
              "    <tr>\n",
              "      <th>bandar damai perdana</th>\n",
              "      <td>6.745871e+05</td>\n",
              "      <td>3.008017e+05</td>\n",
              "      <td>1519.294118</td>\n",
              "      <td>848.434276</td>\n",
              "      <td>3.764706</td>\n",
              "      <td>0.903425</td>\n",
              "      <td>0.235294</td>\n",
              "      <td>0.437237</td>\n",
              "      <td>3.176471</td>\n",
              "      <td>1.185079</td>\n",
              "      <td>1.941176</td>\n",
              "      <td>0.555719</td>\n",
              "    </tr>\n",
              "    <tr>\n",
              "      <th>bandar menjalara</th>\n",
              "      <td>5.746424e+05</td>\n",
              "      <td>3.125154e+05</td>\n",
              "      <td>1991.144444</td>\n",
              "      <td>10638.927344</td>\n",
              "      <td>3.138889</td>\n",
              "      <td>0.556966</td>\n",
              "      <td>0.394444</td>\n",
              "      <td>0.490094</td>\n",
              "      <td>2.311111</td>\n",
              "      <td>0.581742</td>\n",
              "      <td>1.577778</td>\n",
              "      <td>0.896645</td>\n",
              "    </tr>\n",
              "    <tr>\n",
              "      <th>bandar tasik selatan</th>\n",
              "      <td>3.837619e+05</td>\n",
              "      <td>2.024813e+05</td>\n",
              "      <td>958.761905</td>\n",
              "      <td>264.041267</td>\n",
              "      <td>3.095238</td>\n",
              "      <td>0.436436</td>\n",
              "      <td>0.000000</td>\n",
              "      <td>0.000000</td>\n",
              "      <td>2.047619</td>\n",
              "      <td>0.384212</td>\n",
              "      <td>1.285714</td>\n",
              "      <td>0.560612</td>\n",
              "    </tr>\n",
              "    <tr>\n",
              "      <th>...</th>\n",
              "      <td>...</td>\n",
              "      <td>...</td>\n",
              "      <td>...</td>\n",
              "      <td>...</td>\n",
              "      <td>...</td>\n",
              "      <td>...</td>\n",
              "      <td>...</td>\n",
              "      <td>...</td>\n",
              "      <td>...</td>\n",
              "      <td>...</td>\n",
              "      <td>...</td>\n",
              "      <td>...</td>\n",
              "    </tr>\n",
              "    <tr>\n",
              "      <th>taman duta</th>\n",
              "      <td>1.177667e+07</td>\n",
              "      <td>7.935373e+06</td>\n",
              "      <td>15962.000000</td>\n",
              "      <td>10439.371808</td>\n",
              "      <td>5.666667</td>\n",
              "      <td>1.500000</td>\n",
              "      <td>0.666667</td>\n",
              "      <td>0.500000</td>\n",
              "      <td>5.888889</td>\n",
              "      <td>1.833333</td>\n",
              "      <td>6.222222</td>\n",
              "      <td>2.166667</td>\n",
              "    </tr>\n",
              "    <tr>\n",
              "      <th>taman melawati</th>\n",
              "      <td>2.364218e+06</td>\n",
              "      <td>1.452526e+06</td>\n",
              "      <td>4529.843137</td>\n",
              "      <td>2855.108564</td>\n",
              "      <td>4.601307</td>\n",
              "      <td>1.314594</td>\n",
              "      <td>0.614379</td>\n",
              "      <td>0.574962</td>\n",
              "      <td>4.947712</td>\n",
              "      <td>1.966130</td>\n",
              "      <td>3.549020</td>\n",
              "      <td>1.773122</td>\n",
              "    </tr>\n",
              "    <tr>\n",
              "      <th>taman tun dr ismail</th>\n",
              "      <td>2.150789e+06</td>\n",
              "      <td>1.936484e+06</td>\n",
              "      <td>2991.831503</td>\n",
              "      <td>4059.794305</td>\n",
              "      <td>3.532680</td>\n",
              "      <td>1.298389</td>\n",
              "      <td>0.490196</td>\n",
              "      <td>0.623240</td>\n",
              "      <td>3.330065</td>\n",
              "      <td>1.604975</td>\n",
              "      <td>2.464052</td>\n",
              "      <td>1.768675</td>\n",
              "    </tr>\n",
              "    <tr>\n",
              "      <th>titiwangsa</th>\n",
              "      <td>1.988552e+06</td>\n",
              "      <td>2.598033e+06</td>\n",
              "      <td>7729.184615</td>\n",
              "      <td>36968.433725</td>\n",
              "      <td>3.523077</td>\n",
              "      <td>1.480157</td>\n",
              "      <td>0.307692</td>\n",
              "      <td>0.556863</td>\n",
              "      <td>2.892308</td>\n",
              "      <td>1.696716</td>\n",
              "      <td>2.200000</td>\n",
              "      <td>2.319752</td>\n",
              "    </tr>\n",
              "    <tr>\n",
              "      <th>wangsa maju</th>\n",
              "      <td>7.272844e+05</td>\n",
              "      <td>5.280848e+05</td>\n",
              "      <td>1775.324096</td>\n",
              "      <td>6540.132444</td>\n",
              "      <td>3.160410</td>\n",
              "      <td>0.938997</td>\n",
              "      <td>0.372014</td>\n",
              "      <td>0.511680</td>\n",
              "      <td>2.593857</td>\n",
              "      <td>1.138776</td>\n",
              "      <td>1.761092</td>\n",
              "      <td>0.817774</td>\n",
              "    </tr>\n",
              "  </tbody>\n",
              "</table>\n",
              "<p>69 rows × 12 columns</p>\n",
              "</div>\n",
              "      <button class=\"colab-df-convert\" onclick=\"convertToInteractive('df-d5fad055-edc4-4f50-bfbd-4fbcb8f6b15c')\"\n",
              "              title=\"Convert this dataframe to an interactive table.\"\n",
              "              style=\"display:none;\">\n",
              "        \n",
              "  <svg xmlns=\"http://www.w3.org/2000/svg\" height=\"24px\"viewBox=\"0 0 24 24\"\n",
              "       width=\"24px\">\n",
              "    <path d=\"M0 0h24v24H0V0z\" fill=\"none\"/>\n",
              "    <path d=\"M18.56 5.44l.94 2.06.94-2.06 2.06-.94-2.06-.94-.94-2.06-.94 2.06-2.06.94zm-11 1L8.5 8.5l.94-2.06 2.06-.94-2.06-.94L8.5 2.5l-.94 2.06-2.06.94zm10 10l.94 2.06.94-2.06 2.06-.94-2.06-.94-.94-2.06-.94 2.06-2.06.94z\"/><path d=\"M17.41 7.96l-1.37-1.37c-.4-.4-.92-.59-1.43-.59-.52 0-1.04.2-1.43.59L10.3 9.45l-7.72 7.72c-.78.78-.78 2.05 0 2.83L4 21.41c.39.39.9.59 1.41.59.51 0 1.02-.2 1.41-.59l7.78-7.78 2.81-2.81c.8-.78.8-2.07 0-2.86zM5.41 20L4 18.59l7.72-7.72 1.47 1.35L5.41 20z\"/>\n",
              "  </svg>\n",
              "      </button>\n",
              "      \n",
              "  <style>\n",
              "    .colab-df-container {\n",
              "      display:flex;\n",
              "      flex-wrap:wrap;\n",
              "      gap: 12px;\n",
              "    }\n",
              "\n",
              "    .colab-df-convert {\n",
              "      background-color: #E8F0FE;\n",
              "      border: none;\n",
              "      border-radius: 50%;\n",
              "      cursor: pointer;\n",
              "      display: none;\n",
              "      fill: #1967D2;\n",
              "      height: 32px;\n",
              "      padding: 0 0 0 0;\n",
              "      width: 32px;\n",
              "    }\n",
              "\n",
              "    .colab-df-convert:hover {\n",
              "      background-color: #E2EBFA;\n",
              "      box-shadow: 0px 1px 2px rgba(60, 64, 67, 0.3), 0px 1px 3px 1px rgba(60, 64, 67, 0.15);\n",
              "      fill: #174EA6;\n",
              "    }\n",
              "\n",
              "    [theme=dark] .colab-df-convert {\n",
              "      background-color: #3B4455;\n",
              "      fill: #D2E3FC;\n",
              "    }\n",
              "\n",
              "    [theme=dark] .colab-df-convert:hover {\n",
              "      background-color: #434B5C;\n",
              "      box-shadow: 0px 1px 3px 1px rgba(0, 0, 0, 0.15);\n",
              "      filter: drop-shadow(0px 1px 2px rgba(0, 0, 0, 0.3));\n",
              "      fill: #FFFFFF;\n",
              "    }\n",
              "  </style>\n",
              "\n",
              "      <script>\n",
              "        const buttonEl =\n",
              "          document.querySelector('#df-d5fad055-edc4-4f50-bfbd-4fbcb8f6b15c button.colab-df-convert');\n",
              "        buttonEl.style.display =\n",
              "          google.colab.kernel.accessAllowed ? 'block' : 'none';\n",
              "\n",
              "        async function convertToInteractive(key) {\n",
              "          const element = document.querySelector('#df-d5fad055-edc4-4f50-bfbd-4fbcb8f6b15c');\n",
              "          const dataTable =\n",
              "            await google.colab.kernel.invokeFunction('convertToInteractive',\n",
              "                                                     [key], {});\n",
              "          if (!dataTable) return;\n",
              "\n",
              "          const docLinkHtml = 'Like what you see? Visit the ' +\n",
              "            '<a target=\"_blank\" href=https://colab.research.google.com/notebooks/data_table.ipynb>data table notebook</a>'\n",
              "            + ' to learn more about interactive tables.';\n",
              "          element.innerHTML = '';\n",
              "          dataTable['output_type'] = 'display_data';\n",
              "          await google.colab.output.renderOutput(dataTable, element);\n",
              "          const docLink = document.createElement('div');\n",
              "          docLink.innerHTML = docLinkHtml;\n",
              "          element.appendChild(docLink);\n",
              "        }\n",
              "      </script>\n",
              "    </div>\n",
              "  </div>\n",
              "  "
            ]
          },
          "metadata": {}
        }
      ]
    },
    {
      "cell_type": "code",
      "source": [
        "df_prices_mean = df_prices.Price['mean'].sort_values(ascending=True)\n",
        "display(df_prices_mean)"
      ],
      "metadata": {
        "colab": {
          "base_uri": "https://localhost:8080/",
          "height": 243
        },
        "id": "ZppWwefUmZBA",
        "outputId": "17c3f4b1-bd43-413a-cf3b-2301df624c58"
      },
      "execution_count": null,
      "outputs": [
        {
          "output_type": "display_data",
          "data": {
            "text/plain": [
              "Location\n",
              "desa petaling                3.175469e+05\n",
              "bandar tasik selatan         3.837619e+05\n",
              "jinjang                      3.877000e+05\n",
              "pandan jaya                  4.250000e+05\n",
              "rawang                       4.500000e+05\n",
              "                                 ...     \n",
              "federal hill                 6.525000e+06\n",
              "bukit tunku (kenny hills)    6.582513e+06\n",
              "jalan u-thant                8.280000e+06\n",
              "country heights damansara    9.188160e+06\n",
              "taman duta                   1.177667e+07\n",
              "Name: mean, Length: 69, dtype: float64"
            ]
          },
          "metadata": {}
        }
      ]
    },
    {
      "cell_type": "code",
      "source": [
        "df_prices_mean.plot(kind=\"barh\",figsize=(30,20),)\n",
        "plt.title(\"Mean Price Based on Location\")\n",
        "plt.xlabel(\"Price(exp)\")\n",
        "plt.ylabel(\"Location\")"
      ],
      "metadata": {
        "colab": {
          "base_uri": "https://localhost:8080/",
          "height": 1000
        },
        "id": "Pe-MGcHYoy8w",
        "outputId": "611c82bc-f9a3-4397-bfdd-74ada514de4c"
      },
      "execution_count": null,
      "outputs": [
        {
          "output_type": "execute_result",
          "data": {
            "text/plain": [
              "Text(0, 0.5, 'Location')"
            ]
          },
          "metadata": {},
          "execution_count": 240
        },
        {
          "output_type": "display_data",
          "data": {
            "text/plain": [
              "<Figure size 2160x1440 with 1 Axes>"
            ],
            "image/png": "[encoded data removed]"
          },
          "metadata": {
            "needs_background": "light"
          }
        }
      ]
    },
    {
      "cell_type": "markdown",
      "source": [
        "A new data frame to store only numerical columns is created"
      ],
      "metadata": {
        "id": "TCK_OSe_-u-X"
      }
    },
    {
      "cell_type": "code",
      "source": [
        "cols = [1,2,3,4,5,6]\n",
        "df_numerical = df[df.columns[cols]]\n",
        "display(df_numerical)"
      ],
      "metadata": {
        "id": "7QWW5Y1fEeWZ",
        "colab": {
          "base_uri": "https://localhost:8080/",
          "height": 424
        },
        "outputId": "ab86a6f2-48a2-49fc-8ab2-62dfd5481f56"
      },
      "execution_count": null,
      "outputs": [
        {
          "output_type": "display_data",
          "data": {
            "text/plain": [
              "           Price    Size  Rooms  Additional Room  Bathrooms  Car Parks\n",
              "0      1030000.0  1875.0      3                0          4          2\n",
              "1       900000.0  1513.0      4                1          3          2\n",
              "3       385000.0   904.0      3                0          2          1\n",
              "4      4580000.0  6000.0      6                1          5          5\n",
              "5      9000000.0  8500.0      6                1          7          4\n",
              "...          ...     ...    ...              ...        ...        ...\n",
              "19283   300000.0   820.0      3                0          2          1\n",
              "19284  1400000.0  1544.0      3                1          3          2\n",
              "19285   880000.0   650.0      1                0          1          1\n",
              "19286  2700000.0  3973.0      4                2          6          3\n",
              "19287   540000.0  1313.0      4                0          2          3\n",
              "\n",
              "[17043 rows x 6 columns]"
            ],
            "text/html": [
              "\n",
              "  <div id=\"df-4d55c719-cdc5-4034-bc1a-624d69288c47\">\n",
              "    <div class=\"colab-df-container\">\n",
              "      <div>\n",
              "<style scoped>\n",
              "    .dataframe tbody tr th:only-of-type {\n",
              "        vertical-align: middle;\n",
              "    }\n",
              "\n",
              "    .dataframe tbody tr th {\n",
              "        vertical-align: top;\n",
              "    }\n",
              "\n",
              "    .dataframe thead th {\n",
              "        text-align: right;\n",
              "    }\n",
              "</style>\n",
              "<table border=\"1\" class=\"dataframe\">\n",
              "  <thead>\n",
              "    <tr style=\"text-align: right;\">\n",
              "      <th></th>\n",
              "      <th>Price</th>\n",
              "      <th>Size</th>\n",
              "      <th>Rooms</th>\n",
              "      <th>Additional Room</th>\n",
              "      <th>Bathrooms</th>\n",
              "      <th>Car Parks</th>\n",
              "    </tr>\n",
              "  </thead>\n",
              "  <tbody>\n",
              "    <tr>\n",
              "      <th>0</th>\n",
              "      <td>1030000.0</td>\n",
              "      <td>1875.0</td>\n",
              "      <td>3</td>\n",
              "      <td>0</td>\n",
              "      <td>4</td>\n",
              "      <td>2</td>\n",
              "    </tr>\n",
              "    <tr>\n",
              "      <th>1</th>\n",
              "      <td>900000.0</td>\n",
              "      <td>1513.0</td>\n",
              "      <td>4</td>\n",
              "      <td>1</td>\n",
              "      <td>3</td>\n",
              "      <td>2</td>\n",
              "    </tr>\n",
              "    <tr>\n",
              "      <th>3</th>\n",
              "      <td>385000.0</td>\n",
              "      <td>904.0</td>\n",
              "      <td>3</td>\n",
              "      <td>0</td>\n",
              "      <td>2</td>\n",
              "      <td>1</td>\n",
              "    </tr>\n",
              "    <tr>\n",
              "      <th>4</th>\n",
              "      <td>4580000.0</td>\n",
              "      <td>6000.0</td>\n",
              "      <td>6</td>\n",
              "      <td>1</td>\n",
              "      <td>5</td>\n",
              "      <td>5</td>\n",
              "    </tr>\n",
              "    <tr>\n",
              "      <th>5</th>\n",
              "      <td>9000000.0</td>\n",
              "      <td>8500.0</td>\n",
              "      <td>6</td>\n",
              "      <td>1</td>\n",
              "      <td>7</td>\n",
              "      <td>4</td>\n",
              "    </tr>\n",
              "    <tr>\n",
              "      <th>...</th>\n",
              "      <td>...</td>\n",
              "      <td>...</td>\n",
              "      <td>...</td>\n",
              "      <td>...</td>\n",
              "      <td>...</td>\n",
              "      <td>...</td>\n",
              "    </tr>\n",
              "    <tr>\n",
              "      <th>19283</th>\n",
              "      <td>300000.0</td>\n",
              "      <td>820.0</td>\n",
              "      <td>3</td>\n",
              "      <td>0</td>\n",
              "      <td>2</td>\n",
              "      <td>1</td>\n",
              "    </tr>\n",
              "    <tr>\n",
              "      <th>19284</th>\n",
              "      <td>1400000.0</td>\n",
              "      <td>1544.0</td>\n",
              "      <td>3</td>\n",
              "      <td>1</td>\n",
              "      <td>3</td>\n",
              "      <td>2</td>\n",
              "    </tr>\n",
              "    <tr>\n",
              "      <th>19285</th>\n",
              "      <td>880000.0</td>\n",
              "      <td>650.0</td>\n",
              "      <td>1</td>\n",
              "      <td>0</td>\n",
              "      <td>1</td>\n",
              "      <td>1</td>\n",
              "    </tr>\n",
              "    <tr>\n",
              "      <th>19286</th>\n",
              "      <td>2700000.0</td>\n",
              "      <td>3973.0</td>\n",
              "      <td>4</td>\n",
              "      <td>2</td>\n",
              "      <td>6</td>\n",
              "      <td>3</td>\n",
              "    </tr>\n",
              "    <tr>\n",
              "      <th>19287</th>\n",
              "      <td>540000.0</td>\n",
              "      <td>1313.0</td>\n",
              "      <td>4</td>\n",
              "      <td>0</td>\n",
              "      <td>2</td>\n",
              "      <td>3</td>\n",
              "    </tr>\n",
              "  </tbody>\n",
              "</table>\n",
              "<p>17043 rows × 6 columns</p>\n",
              "</div>\n",
              "      <button class=\"colab-df-convert\" onclick=\"convertToInteractive('df-4d55c719-cdc5-4034-bc1a-624d69288c47')\"\n",
              "              title=\"Convert this dataframe to an interactive table.\"\n",
              "              style=\"display:none;\">\n",
              "        \n",
              "  <svg xmlns=\"http://www.w3.org/2000/svg\" height=\"24px\"viewBox=\"0 0 24 24\"\n",
              "       width=\"24px\">\n",
              "    <path d=\"M0 0h24v24H0V0z\" fill=\"none\"/>\n",
              "    <path d=\"M18.56 5.44l.94 2.06.94-2.06 2.06-.94-2.06-.94-.94-2.06-.94 2.06-2.06.94zm-11 1L8.5 8.5l.94-2.06 2.06-.94-2.06-.94L8.5 2.5l-.94 2.06-2.06.94zm10 10l.94 2.06.94-2.06 2.06-.94-2.06-.94-.94-2.06-.94 2.06-2.06.94z\"/><path d=\"M17.41 7.96l-1.37-1.37c-.4-.4-.92-.59-1.43-.59-.52 0-1.04.2-1.43.59L10.3 9.45l-7.72 7.72c-.78.78-.78 2.05 0 2.83L4 21.41c.39.39.9.59 1.41.59.51 0 1.02-.2 1.41-.59l7.78-7.78 2.81-2.81c.8-.78.8-2.07 0-2.86zM5.41 20L4 18.59l7.72-7.72 1.47 1.35L5.41 20z\"/>\n",
              "  </svg>\n",
              "      </button>\n",
              "      \n",
              "  <style>\n",
              "    .colab-df-container {\n",
              "      display:flex;\n",
              "      flex-wrap:wrap;\n",
              "      gap: 12px;\n",
              "    }\n",
              "\n",
              "    .colab-df-convert {\n",
              "      background-color: #E8F0FE;\n",
              "      border: none;\n",
              "      border-radius: 50%;\n",
              "      cursor: pointer;\n",
              "      display: none;\n",
              "      fill: #1967D2;\n",
              "      height: 32px;\n",
              "      padding: 0 0 0 0;\n",
              "      width: 32px;\n",
              "    }\n",
              "\n",
              "    .colab-df-convert:hover {\n",
              "      background-color: #E2EBFA;\n",
              "      box-shadow: 0px 1px 2px rgba(60, 64, 67, 0.3), 0px 1px 3px 1px rgba(60, 64, 67, 0.15);\n",
              "      fill: #174EA6;\n",
              "    }\n",
              "\n",
              "    [theme=dark] .colab-df-convert {\n",
              "      background-color: #3B4455;\n",
              "      fill: #D2E3FC;\n",
              "    }\n",
              "\n",
              "    [theme=dark] .colab-df-convert:hover {\n",
              "      background-color: #434B5C;\n",
              "      box-shadow: 0px 1px 3px 1px rgba(0, 0, 0, 0.15);\n",
              "      filter: drop-shadow(0px 1px 2px rgba(0, 0, 0, 0.3));\n",
              "      fill: #FFFFFF;\n",
              "    }\n",
              "  </style>\n",
              "\n",
              "      <script>\n",
              "        const buttonEl =\n",
              "          document.querySelector('#df-4d55c719-cdc5-4034-bc1a-624d69288c47 button.colab-df-convert');\n",
              "        buttonEl.style.display =\n",
              "          google.colab.kernel.accessAllowed ? 'block' : 'none';\n",
              "\n",
              "        async function convertToInteractive(key) {\n",
              "          const element = document.querySelector('#df-4d55c719-cdc5-4034-bc1a-624d69288c47');\n",
              "          const dataTable =\n",
              "            await google.colab.kernel.invokeFunction('convertToInteractive',\n",
              "                                                     [key], {});\n",
              "          if (!dataTable) return;\n",
              "\n",
              "          const docLinkHtml = 'Like what you see? Visit the ' +\n",
              "            '<a target=\"_blank\" href=https://colab.research.google.com/notebooks/data_table.ipynb>data table notebook</a>'\n",
              "            + ' to learn more about interactive tables.';\n",
              "          element.innerHTML = '';\n",
              "          dataTable['output_type'] = 'display_data';\n",
              "          await google.colab.output.renderOutput(dataTable, element);\n",
              "          const docLink = document.createElement('div');\n",
              "          docLink.innerHTML = docLinkHtml;\n",
              "          element.appendChild(docLink);\n",
              "        }\n",
              "      </script>\n",
              "    </div>\n",
              "  </div>\n",
              "  "
            ]
          },
          "metadata": {}
        }
      ]
    },
    {
      "cell_type": "markdown",
      "source": [
        "## **Box Plot of Built-up/Land-area**"
      ],
      "metadata": {
        "id": "19aIIvXJ--k-"
      }
    },
    {
      "cell_type": "code",
      "source": [
        "df.boxplot(by ='Size_2', column =['Bathrooms'])"
      ],
      "metadata": {
        "colab": {
          "base_uri": "https://localhost:8080/",
          "height": 438
        },
        "id": "HHUZNaTrQxFE",
        "outputId": "6b123a29-c68a-4a70-9893-240e3d912ee6"
      },
      "execution_count": null,
      "outputs": [
        {
          "output_type": "stream",
          "name": "stderr",
          "text": [
            "/usr/local/lib/python3.8/dist-packages/matplotlib/cbook/__init__.py:1376: VisibleDeprecationWarning: Creating an ndarray from ragged nested sequences (which is a list-or-tuple of lists-or-tuples-or ndarrays with different lengths or shapes) is deprecated. If you meant to do this, you must specify 'dtype=object' when creating the ndarray.\n",
            "  X = np.atleast_1d(X.T if isinstance(X, np.ndarray) else np.asarray(X))\n"
          ]
        },
        {
          "output_type": "execute_result",
          "data": {
            "text/plain": [
              "<matplotlib.axes._subplots.AxesSubplot at 0x7f9b1dcf3d30>"
            ]
          },
          "metadata": {},
          "execution_count": 250
        },
        {
          "output_type": "display_data",
          "data": {
            "text/plain": [
              "<Figure size 648x360 with 1 Axes>"
            ],
            "image/png": "[encoded data removed]"
          },
          "metadata": {
            "needs_background": "light"
          }
        }
      ]
    },
    {
      "cell_type": "markdown",
      "source": [
        "*Land area properties display longer box plot than built-up which means that land area has more dispersed data. Built-ups has median value near 2.5 bathrooms and some values outlies from 5 to 10 bathrooms.*\n",
        "\n",
        "*However, for the land area, the median is located slightly higher than built-up which is nearly 5. The maximum value is much higher and less outliers are shown compared to built-ups.*"
      ],
      "metadata": {
        "id": "M1_5GKo26RG1"
      }
    },
    {
      "cell_type": "markdown",
      "source": [
        "## **Percentage of Property Rooms**"
      ],
      "metadata": {
        "id": "EOKfiRhF-2me"
      }
    },
    {
      "cell_type": "code",
      "source": [
        "pie_chart2 = df_numerical['Rooms'].value_counts()\n",
        "display(pie_chart2)"
      ],
      "metadata": {
        "id": "e6kVmrd69HC6",
        "colab": {
          "base_uri": "https://localhost:8080/",
          "height": 329
        },
        "outputId": "4205654e-c0d5-4680-fdfd-fc55e80da54e"
      },
      "execution_count": null,
      "outputs": [
        {
          "output_type": "display_data",
          "data": {
            "text/plain": [
              "3     8612\n",
              "2     2697\n",
              "4     2696\n",
              "1     1330\n",
              "5     1083\n",
              "6      404\n",
              "7      143\n",
              "8       42\n",
              "10      13\n",
              "9       11\n",
              "13       3\n",
              "20       3\n",
              "11       2\n",
              "12       1\n",
              "15       1\n",
              "14       1\n",
              "16       1\n",
              "Name: Rooms, dtype: int64"
            ]
          },
          "metadata": {}
        }
      ]
    },
    {
      "cell_type": "code",
      "source": [
        "pie_chart2.plot(kind='pie',autopct=\"%1.1f%%\")"
      ],
      "metadata": {
        "colab": {
          "base_uri": "https://localhost:8080/",
          "height": 320
        },
        "id": "OKo1nIL3-dhX",
        "outputId": "c798b6f8-e547-4326-ba89-884859a3132b"
      },
      "execution_count": null,
      "outputs": [
        {
          "output_type": "execute_result",
          "data": {
            "text/plain": [
              "<matplotlib.axes._subplots.AxesSubplot at 0x7f9ae4360340>"
            ]
          },
          "metadata": {},
          "execution_count": 243
        },
        {
          "output_type": "display_data",
          "data": {
            "text/plain": [
              "<Figure size 648x360 with 1 Axes>"
            ],
            "image/png": "[encoded data removed]"
          },
          "metadata": {}
        }
      ]
    },
    {
      "cell_type": "markdown",
      "source": [
        "## **Relationship between No. of Rooms and No. of Bathrooms**"
      ],
      "metadata": {
        "id": "5tH7mO0iAPSg"
      }
    },
    {
      "cell_type": "code",
      "source": [
        "sns.set(style='whitegrid')\n",
        " \n",
        "sns.scatterplot(x=\"Rooms\",\n",
        "                    y=\"Bathrooms\",\n",
        "                    data=df_numerical)"
      ],
      "metadata": {
        "id": "4pXg_XQeIsRc",
        "colab": {
          "base_uri": "https://localhost:8080/",
          "height": 356
        },
        "outputId": "23cb4fe1-a26b-4ae5-f282-21c1270ce626"
      },
      "execution_count": null,
      "outputs": [
        {
          "output_type": "execute_result",
          "data": {
            "text/plain": [
              "<matplotlib.axes._subplots.AxesSubplot at 0x7f9ae7673a30>"
            ]
          },
          "metadata": {},
          "execution_count": 261
        },
        {
          "output_type": "display_data",
          "data": {
            "text/plain": [
              "<Figure size 648x360 with 1 Axes>"
            ],
            "image/png": "[encoded data removed]"
          },
          "metadata": {}
        }
      ]
    },
    {
      "cell_type": "markdown",
      "metadata": {
        "id": "E0U3IWm8VJJ9"
      },
      "source": [
        "# **Asking and Answering Questions**\n",
        "\n"
      ]
    },
    {
      "cell_type": "code",
      "source": [
        "display(df)"
      ],
      "metadata": {
        "colab": {
          "base_uri": "https://localhost:8080/",
          "height": 424
        },
        "id": "Mlsm57Okl1hf",
        "outputId": "c3880404-0a7c-497a-abdb-c5ec2ac42c9e"
      },
      "execution_count": null,
      "outputs": [
        {
          "output_type": "display_data",
          "data": {
            "text/plain": [
              "                        Location      Price    Size  Rooms  Additional Room  \\\n",
              "0                        dutamas  1030000.0  1875.0      3                0   \n",
              "1                    bukit jalil   900000.0  1513.0      4                1   \n",
              "3                   sri petaling   385000.0   904.0      3                0   \n",
              "4            taman tun dr ismail  4580000.0  6000.0      6                1   \n",
              "5      bukit tunku (kenny hills)  9000000.0  8500.0      6                1   \n",
              "...                          ...        ...     ...    ...              ...   \n",
              "19283                kuchai lama   300000.0   820.0      3                0   \n",
              "19284                 kl sentral  1400000.0  1544.0      3                1   \n",
              "19285                kl eco city   880000.0   650.0      1                0   \n",
              "19286               sri hartamas  2700000.0  3973.0      4                2   \n",
              "19287                    setapak   540000.0  1313.0      4                0   \n",
              "\n",
              "       Bathrooms  Car Parks       Property Type Property Type_2      Size_2  \\\n",
              "0              4          2         Condominium          Corner   Built-up    \n",
              "1              3          2         Condominium          Corner   Built-up    \n",
              "3              2          1           Apartment    Intermediate   Built-up    \n",
              "4              5          5            Bungalow    Intermediate  Land area    \n",
              "5              7          4            Bungalow          Corner  Land area    \n",
              "...          ...        ...                 ...             ...         ...   \n",
              "19283          2          1  Serviced Residence    Intermediate   Built-up    \n",
              "19284          3          2         Condominium          Corner  Land area    \n",
              "19285          1          1         Condominium          Corner   Built-up    \n",
              "19286          6          3         Condominium          Corner   Built-up    \n",
              "19287          2          3         Condominium    Intermediate   Built-up    \n",
              "\n",
              "             Furnishing  \n",
              "0      Partly Furnished  \n",
              "1      Partly Furnished  \n",
              "3      Partly Furnished  \n",
              "4      Partly Furnished  \n",
              "5      Partly Furnished  \n",
              "...                 ...  \n",
              "19283       Unfurnished  \n",
              "19284   Fully Furnished  \n",
              "19285  Partly Furnished  \n",
              "19286  Partly Furnished  \n",
              "19287  Partly Furnished  \n",
              "\n",
              "[17043 rows x 11 columns]"
            ],
            "text/html": [
              "\n",
              "  <div id=\"df-7c0542df-d6f1-4a47-8c9a-14c48abb166e\">\n",
              "    <div class=\"colab-df-container\">\n",
              "      <div>\n",
              "<style scoped>\n",
              "    .dataframe tbody tr th:only-of-type {\n",
              "        vertical-align: middle;\n",
              "    }\n",
              "\n",
              "    .dataframe tbody tr th {\n",
              "        vertical-align: top;\n",
              "    }\n",
              "\n",
              "    .dataframe thead th {\n",
              "        text-align: right;\n",
              "    }\n",
              "</style>\n",
              "<table border=\"1\" class=\"dataframe\">\n",
              "  <thead>\n",
              "    <tr style=\"text-align: right;\">\n",
              "      <th></th>\n",
              "      <th>Location</th>\n",
              "      <th>Price</th>\n",
              "      <th>Size</th>\n",
              "      <th>Rooms</th>\n",
              "      <th>Additional Room</th>\n",
              "      <th>Bathrooms</th>\n",
              "      <th>Car Parks</th>\n",
              "      <th>Property Type</th>\n",
              "      <th>Property Type_2</th>\n",
              "      <th>Size_2</th>\n",
              "      <th>Furnishing</th>\n",
              "    </tr>\n",
              "  </thead>\n",
              "  <tbody>\n",
              "    <tr>\n",
              "      <th>0</th>\n",
              "      <td>dutamas</td>\n",
              "      <td>1030000.0</td>\n",
              "      <td>1875.0</td>\n",
              "      <td>3</td>\n",
              "      <td>0</td>\n",
              "      <td>4</td>\n",
              "      <td>2</td>\n",
              "      <td>Condominium</td>\n",
              "      <td>Corner</td>\n",
              "      <td>Built-up</td>\n",
              "      <td>Partly Furnished</td>\n",
              "    </tr>\n",
              "    <tr>\n",
              "      <th>1</th>\n",
              "      <td>bukit jalil</td>\n",
              "      <td>900000.0</td>\n",
              "      <td>1513.0</td>\n",
              "      <td>4</td>\n",
              "      <td>1</td>\n",
              "      <td>3</td>\n",
              "      <td>2</td>\n",
              "      <td>Condominium</td>\n",
              "      <td>Corner</td>\n",
              "      <td>Built-up</td>\n",
              "      <td>Partly Furnished</td>\n",
              "    </tr>\n",
              "    <tr>\n",
              "      <th>3</th>\n",
              "      <td>sri petaling</td>\n",
              "      <td>385000.0</td>\n",
              "      <td>904.0</td>\n",
              "      <td>3</td>\n",
              "      <td>0</td>\n",
              "      <td>2</td>\n",
              "      <td>1</td>\n",
              "      <td>Apartment</td>\n",
              "      <td>Intermediate</td>\n",
              "      <td>Built-up</td>\n",
              "      <td>Partly Furnished</td>\n",
              "    </tr>\n",
              "    <tr>\n",
              "      <th>4</th>\n",
              "      <td>taman tun dr ismail</td>\n",
              "      <td>4580000.0</td>\n",
              "      <td>6000.0</td>\n",
              "      <td>6</td>\n",
              "      <td>1</td>\n",
              "      <td>5</td>\n",
              "      <td>5</td>\n",
              "      <td>Bungalow</td>\n",
              "      <td>Intermediate</td>\n",
              "      <td>Land area</td>\n",
              "      <td>Partly Furnished</td>\n",
              "    </tr>\n",
              "    <tr>\n",
              "      <th>5</th>\n",
              "      <td>bukit tunku (kenny hills)</td>\n",
              "      <td>9000000.0</td>\n",
              "      <td>8500.0</td>\n",
              "      <td>6</td>\n",
              "      <td>1</td>\n",
              "      <td>7</td>\n",
              "      <td>4</td>\n",
              "      <td>Bungalow</td>\n",
              "      <td>Corner</td>\n",
              "      <td>Land area</td>\n",
              "      <td>Partly Furnished</td>\n",
              "    </tr>\n",
              "    <tr>\n",
              "      <th>...</th>\n",
              "      <td>...</td>\n",
              "      <td>...</td>\n",
              "      <td>...</td>\n",
              "      <td>...</td>\n",
              "      <td>...</td>\n",
              "      <td>...</td>\n",
              "      <td>...</td>\n",
              "      <td>...</td>\n",
              "      <td>...</td>\n",
              "      <td>...</td>\n",
              "      <td>...</td>\n",
              "    </tr>\n",
              "    <tr>\n",
              "      <th>19283</th>\n",
              "      <td>kuchai lama</td>\n",
              "      <td>300000.0</td>\n",
              "      <td>820.0</td>\n",
              "      <td>3</td>\n",
              "      <td>0</td>\n",
              "      <td>2</td>\n",
              "      <td>1</td>\n",
              "      <td>Serviced Residence</td>\n",
              "      <td>Intermediate</td>\n",
              "      <td>Built-up</td>\n",
              "      <td>Unfurnished</td>\n",
              "    </tr>\n",
              "    <tr>\n",
              "      <th>19284</th>\n",
              "      <td>kl sentral</td>\n",
              "      <td>1400000.0</td>\n",
              "      <td>1544.0</td>\n",
              "      <td>3</td>\n",
              "      <td>1</td>\n",
              "      <td>3</td>\n",
              "      <td>2</td>\n",
              "      <td>Condominium</td>\n",
              "      <td>Corner</td>\n",
              "      <td>Land area</td>\n",
              "      <td>Fully Furnished</td>\n",
              "    </tr>\n",
              "    <tr>\n",
              "      <th>19285</th>\n",
              "      <td>kl eco city</td>\n",
              "      <td>880000.0</td>\n",
              "      <td>650.0</td>\n",
              "      <td>1</td>\n",
              "      <td>0</td>\n",
              "      <td>1</td>\n",
              "      <td>1</td>\n",
              "      <td>Condominium</td>\n",
              "      <td>Corner</td>\n",
              "      <td>Built-up</td>\n",
              "      <td>Partly Furnished</td>\n",
              "    </tr>\n",
              "    <tr>\n",
              "      <th>19286</th>\n",
              "      <td>sri hartamas</td>\n",
              "      <td>2700000.0</td>\n",
              "      <td>3973.0</td>\n",
              "      <td>4</td>\n",
              "      <td>2</td>\n",
              "      <td>6</td>\n",
              "      <td>3</td>\n",
              "      <td>Condominium</td>\n",
              "      <td>Corner</td>\n",
              "      <td>Built-up</td>\n",
              "      <td>Partly Furnished</td>\n",
              "    </tr>\n",
              "    <tr>\n",
              "      <th>19287</th>\n",
              "      <td>setapak</td>\n",
              "      <td>540000.0</td>\n",
              "      <td>1313.0</td>\n",
              "      <td>4</td>\n",
              "      <td>0</td>\n",
              "      <td>2</td>\n",
              "      <td>3</td>\n",
              "      <td>Condominium</td>\n",
              "      <td>Intermediate</td>\n",
              "      <td>Built-up</td>\n",
              "      <td>Partly Furnished</td>\n",
              "    </tr>\n",
              "  </tbody>\n",
              "</table>\n",
              "<p>17043 rows × 11 columns</p>\n",
              "</div>\n",
              "      <button class=\"colab-df-convert\" onclick=\"convertToInteractive('df-7c0542df-d6f1-4a47-8c9a-14c48abb166e')\"\n",
              "              title=\"Convert this dataframe to an interactive table.\"\n",
              "              style=\"display:none;\">\n",
              "        \n",
              "  <svg xmlns=\"http://www.w3.org/2000/svg\" height=\"24px\"viewBox=\"0 0 24 24\"\n",
              "       width=\"24px\">\n",
              "    <path d=\"M0 0h24v24H0V0z\" fill=\"none\"/>\n",
              "    <path d=\"M18.56 5.44l.94 2.06.94-2.06 2.06-.94-2.06-.94-.94-2.06-.94 2.06-2.06.94zm-11 1L8.5 8.5l.94-2.06 2.06-.94-2.06-.94L8.5 2.5l-.94 2.06-2.06.94zm10 10l.94 2.06.94-2.06 2.06-.94-2.06-.94-.94-2.06-.94 2.06-2.06.94z\"/><path d=\"M17.41 7.96l-1.37-1.37c-.4-.4-.92-.59-1.43-.59-.52 0-1.04.2-1.43.59L10.3 9.45l-7.72 7.72c-.78.78-.78 2.05 0 2.83L4 21.41c.39.39.9.59 1.41.59.51 0 1.02-.2 1.41-.59l7.78-7.78 2.81-2.81c.8-.78.8-2.07 0-2.86zM5.41 20L4 18.59l7.72-7.72 1.47 1.35L5.41 20z\"/>\n",
              "  </svg>\n",
              "      </button>\n",
              "      \n",
              "  <style>\n",
              "    .colab-df-container {\n",
              "      display:flex;\n",
              "      flex-wrap:wrap;\n",
              "      gap: 12px;\n",
              "    }\n",
              "\n",
              "    .colab-df-convert {\n",
              "      background-color: #E8F0FE;\n",
              "      border: none;\n",
              "      border-radius: 50%;\n",
              "      cursor: pointer;\n",
              "      display: none;\n",
              "      fill: #1967D2;\n",
              "      height: 32px;\n",
              "      padding: 0 0 0 0;\n",
              "      width: 32px;\n",
              "    }\n",
              "\n",
              "    .colab-df-convert:hover {\n",
              "      background-color: #E2EBFA;\n",
              "      box-shadow: 0px 1px 2px rgba(60, 64, 67, 0.3), 0px 1px 3px 1px rgba(60, 64, 67, 0.15);\n",
              "      fill: #174EA6;\n",
              "    }\n",
              "\n",
              "    [theme=dark] .colab-df-convert {\n",
              "      background-color: #3B4455;\n",
              "      fill: #D2E3FC;\n",
              "    }\n",
              "\n",
              "    [theme=dark] .colab-df-convert:hover {\n",
              "      background-color: #434B5C;\n",
              "      box-shadow: 0px 1px 3px 1px rgba(0, 0, 0, 0.15);\n",
              "      filter: drop-shadow(0px 1px 2px rgba(0, 0, 0, 0.3));\n",
              "      fill: #FFFFFF;\n",
              "    }\n",
              "  </style>\n",
              "\n",
              "      <script>\n",
              "        const buttonEl =\n",
              "          document.querySelector('#df-7c0542df-d6f1-4a47-8c9a-14c48abb166e button.colab-df-convert');\n",
              "        buttonEl.style.display =\n",
              "          google.colab.kernel.accessAllowed ? 'block' : 'none';\n",
              "\n",
              "        async function convertToInteractive(key) {\n",
              "          const element = document.querySelector('#df-7c0542df-d6f1-4a47-8c9a-14c48abb166e');\n",
              "          const dataTable =\n",
              "            await google.colab.kernel.invokeFunction('convertToInteractive',\n",
              "                                                     [key], {});\n",
              "          if (!dataTable) return;\n",
              "\n",
              "          const docLinkHtml = 'Like what you see? Visit the ' +\n",
              "            '<a target=\"_blank\" href=https://colab.research.google.com/notebooks/data_table.ipynb>data table notebook</a>'\n",
              "            + ' to learn more about interactive tables.';\n",
              "          element.innerHTML = '';\n",
              "          dataTable['output_type'] = 'display_data';\n",
              "          await google.colab.output.renderOutput(dataTable, element);\n",
              "          const docLink = document.createElement('div');\n",
              "          docLink.innerHTML = docLinkHtml;\n",
              "          element.appendChild(docLink);\n",
              "        }\n",
              "      </script>\n",
              "    </div>\n",
              "  </div>\n",
              "  "
            ]
          },
          "metadata": {}
        }
      ]
    },
    {
      "cell_type": "markdown",
      "metadata": {
        "id": "7Lor5rHMVJJ9"
      },
      "source": [
        "#### Q1: What type of furnishing it is for most of the property listed? What is the percentage?\n"
      ]
    },
    {
      "cell_type": "code",
      "source": [
        "q1 = df['Furnishing'].value_counts()\n",
        "print(q1)"
      ],
      "metadata": {
        "colab": {
          "base_uri": "https://localhost:8080/"
        },
        "id": "QLwsLtTymemC",
        "outputId": "9509af50-36da-4150-828d-5dbe5b951666"
      },
      "execution_count": null,
      "outputs": [
        {
          "output_type": "stream",
          "name": "stdout",
          "text": [
            "Partly Furnished    9792\n",
            "Fully Furnished     5034\n",
            "Unfurnished         2124\n",
            "Unknown               93\n",
            "Name: Furnishing, dtype: int64\n"
          ]
        }
      ]
    },
    {
      "cell_type": "code",
      "source": [
        "q1.plot(kind='pie',autopct=\"%1.1f%%\")"
      ],
      "metadata": {
        "colab": {
          "base_uri": "https://localhost:8080/",
          "height": 320
        },
        "id": "fthucX4hpvnP",
        "outputId": "08b60752-8ba4-4864-d82e-4ce3ee58a257"
      },
      "execution_count": null,
      "outputs": [
        {
          "output_type": "execute_result",
          "data": {
            "text/plain": [
              "<matplotlib.axes._subplots.AxesSubplot at 0x7f9ae7627df0>"
            ]
          },
          "metadata": {},
          "execution_count": 264
        },
        {
          "output_type": "display_data",
          "data": {
            "text/plain": [
              "<Figure size 648x360 with 1 Axes>"
            ],
            "image/png": "[encoded data removed]"
          },
          "metadata": {}
        }
      ]
    },
    {
      "cell_type": "markdown",
      "source": [
        "*Most of the properties are partly furnished with the percentage of 55.7%*\n",
        "\n"
      ],
      "metadata": {
        "id": "Bzd-T0UsrJ6v"
      }
    },
    {
      "cell_type": "markdown",
      "source": [
        "\n",
        "\n",
        "---\n",
        "\n",
        "\n"
      ],
      "metadata": {
        "id": "Ydhi4sJTrkUD"
      }
    },
    {
      "cell_type": "markdown",
      "metadata": {
        "id": "c_REVnrhVJJ-"
      },
      "source": [
        "#### Q2: What is the smallest size for a bungalow available on the list?"
      ]
    },
    {
      "cell_type": "code",
      "execution_count": null,
      "metadata": {
        "id": "ShA3QyQpVJJ-"
      },
      "outputs": [],
      "source": [
        "smallest_condo = df[df['Property Type'] == 'Bungalow']"
      ]
    },
    {
      "cell_type": "code",
      "source": [
        "smallest_condo.sort_values(by=['Size'], ascending=True).head(1)"
      ],
      "metadata": {
        "colab": {
          "base_uri": "https://localhost:8080/",
          "height": 81
        },
        "id": "OjLmHYOzseQk",
        "outputId": "a5fc7e7c-e476-4a86-bbc7-547ce08b5c81"
      },
      "execution_count": null,
      "outputs": [
        {
          "output_type": "execute_result",
          "data": {
            "text/plain": [
              "         Location      Price    Size  Rooms  Additional Room  Bathrooms  \\\n",
              "11197  taman desa  4500000.0  1615.0      5                1          5   \n",
              "\n",
              "       Car Parks Property Type Property Type_2      Size_2        Furnishing  \n",
              "11197          4      Bungalow          Corner  Land area   Partly Furnished  "
            ],
            "text/html": [
              "\n",
              "  <div id=\"df-2fcd89bb-3026-4c62-b88c-fad36106f159\">\n",
              "    <div class=\"colab-df-container\">\n",
              "      <div>\n",
              "<style scoped>\n",
              "    .dataframe tbody tr th:only-of-type {\n",
              "        vertical-align: middle;\n",
              "    }\n",
              "\n",
              "    .dataframe tbody tr th {\n",
              "        vertical-align: top;\n",
              "    }\n",
              "\n",
              "    .dataframe thead th {\n",
              "        text-align: right;\n",
              "    }\n",
              "</style>\n",
              "<table border=\"1\" class=\"dataframe\">\n",
              "  <thead>\n",
              "    <tr style=\"text-align: right;\">\n",
              "      <th></th>\n",
              "      <th>Location</th>\n",
              "      <th>Price</th>\n",
              "      <th>Size</th>\n",
              "      <th>Rooms</th>\n",
              "      <th>Additional Room</th>\n",
              "      <th>Bathrooms</th>\n",
              "      <th>Car Parks</th>\n",
              "      <th>Property Type</th>\n",
              "      <th>Property Type_2</th>\n",
              "      <th>Size_2</th>\n",
              "      <th>Furnishing</th>\n",
              "    </tr>\n",
              "  </thead>\n",
              "  <tbody>\n",
              "    <tr>\n",
              "      <th>11197</th>\n",
              "      <td>taman desa</td>\n",
              "      <td>4500000.0</td>\n",
              "      <td>1615.0</td>\n",
              "      <td>5</td>\n",
              "      <td>1</td>\n",
              "      <td>5</td>\n",
              "      <td>4</td>\n",
              "      <td>Bungalow</td>\n",
              "      <td>Corner</td>\n",
              "      <td>Land area</td>\n",
              "      <td>Partly Furnished</td>\n",
              "    </tr>\n",
              "  </tbody>\n",
              "</table>\n",
              "</div>\n",
              "      <button class=\"colab-df-convert\" onclick=\"convertToInteractive('df-2fcd89bb-3026-4c62-b88c-fad36106f159')\"\n",
              "              title=\"Convert this dataframe to an interactive table.\"\n",
              "              style=\"display:none;\">\n",
              "        \n",
              "  <svg xmlns=\"http://www.w3.org/2000/svg\" height=\"24px\"viewBox=\"0 0 24 24\"\n",
              "       width=\"24px\">\n",
              "    <path d=\"M0 0h24v24H0V0z\" fill=\"none\"/>\n",
              "    <path d=\"M18.56 5.44l.94 2.06.94-2.06 2.06-.94-2.06-.94-.94-2.06-.94 2.06-2.06.94zm-11 1L8.5 8.5l.94-2.06 2.06-.94-2.06-.94L8.5 2.5l-.94 2.06-2.06.94zm10 10l.94 2.06.94-2.06 2.06-.94-2.06-.94-.94-2.06-.94 2.06-2.06.94z\"/><path d=\"M17.41 7.96l-1.37-1.37c-.4-.4-.92-.59-1.43-.59-.52 0-1.04.2-1.43.59L10.3 9.45l-7.72 7.72c-.78.78-.78 2.05 0 2.83L4 21.41c.39.39.9.59 1.41.59.51 0 1.02-.2 1.41-.59l7.78-7.78 2.81-2.81c.8-.78.8-2.07 0-2.86zM5.41 20L4 18.59l7.72-7.72 1.47 1.35L5.41 20z\"/>\n",
              "  </svg>\n",
              "      </button>\n",
              "      \n",
              "  <style>\n",
              "    .colab-df-container {\n",
              "      display:flex;\n",
              "      flex-wrap:wrap;\n",
              "      gap: 12px;\n",
              "    }\n",
              "\n",
              "    .colab-df-convert {\n",
              "      background-color: #E8F0FE;\n",
              "      border: none;\n",
              "      border-radius: 50%;\n",
              "      cursor: pointer;\n",
              "      display: none;\n",
              "      fill: #1967D2;\n",
              "      height: 32px;\n",
              "      padding: 0 0 0 0;\n",
              "      width: 32px;\n",
              "    }\n",
              "\n",
              "    .colab-df-convert:hover {\n",
              "      background-color: #E2EBFA;\n",
              "      box-shadow: 0px 1px 2px rgba(60, 64, 67, 0.3), 0px 1px 3px 1px rgba(60, 64, 67, 0.15);\n",
              "      fill: #174EA6;\n",
              "    }\n",
              "\n",
              "    [theme=dark] .colab-df-convert {\n",
              "      background-color: #3B4455;\n",
              "      fill: #D2E3FC;\n",
              "    }\n",
              "\n",
              "    [theme=dark] .colab-df-convert:hover {\n",
              "      background-color: #434B5C;\n",
              "      box-shadow: 0px 1px 3px 1px rgba(0, 0, 0, 0.15);\n",
              "      filter: drop-shadow(0px 1px 2px rgba(0, 0, 0, 0.3));\n",
              "      fill: #FFFFFF;\n",
              "    }\n",
              "  </style>\n",
              "\n",
              "      <script>\n",
              "        const buttonEl =\n",
              "          document.querySelector('#df-2fcd89bb-3026-4c62-b88c-fad36106f159 button.colab-df-convert');\n",
              "        buttonEl.style.display =\n",
              "          google.colab.kernel.accessAllowed ? 'block' : 'none';\n",
              "\n",
              "        async function convertToInteractive(key) {\n",
              "          const element = document.querySelector('#df-2fcd89bb-3026-4c62-b88c-fad36106f159');\n",
              "          const dataTable =\n",
              "            await google.colab.kernel.invokeFunction('convertToInteractive',\n",
              "                                                     [key], {});\n",
              "          if (!dataTable) return;\n",
              "\n",
              "          const docLinkHtml = 'Like what you see? Visit the ' +\n",
              "            '<a target=\"_blank\" href=https://colab.research.google.com/notebooks/data_table.ipynb>data table notebook</a>'\n",
              "            + ' to learn more about interactive tables.';\n",
              "          element.innerHTML = '';\n",
              "          dataTable['output_type'] = 'display_data';\n",
              "          await google.colab.output.renderOutput(dataTable, element);\n",
              "          const docLink = document.createElement('div');\n",
              "          docLink.innerHTML = docLinkHtml;\n",
              "          element.appendChild(docLink);\n",
              "        }\n",
              "      </script>\n",
              "    </div>\n",
              "  </div>\n",
              "  "
            ]
          },
          "metadata": {},
          "execution_count": 266
        }
      ]
    },
    {
      "cell_type": "markdown",
      "source": [
        "*The smallest bungalow available is located at Mont Kiara with the size of 1500 square feet*"
      ],
      "metadata": {
        "id": "rl2Mo5lzyoWp"
      }
    },
    {
      "cell_type": "markdown",
      "source": [
        "\n",
        "\n",
        "---\n",
        "\n"
      ],
      "metadata": {
        "id": "3WA1wjFBzR9G"
      }
    },
    {
      "cell_type": "markdown",
      "metadata": {
        "id": "ya3o0SurVJJ-"
      },
      "source": [
        "#### Q3: Does number of rooms influence the rising price of those properties?"
      ]
    },
    {
      "cell_type": "code",
      "source": [
        "plt.scatter(df['Rooms'], df['Price'])\n",
        "plt.show()"
      ],
      "metadata": {
        "colab": {
          "base_uri": "https://localhost:8080/",
          "height": 333
        },
        "id": "5UL-BY8R0m-e",
        "outputId": "77b0269f-f482-4326-c238-efa4f2d44253"
      },
      "execution_count": null,
      "outputs": [
        {
          "output_type": "display_data",
          "data": {
            "text/plain": [
              "<Figure size 648x360 with 1 Axes>"
            ],
            "image/png": "[encoded data removed]"
          },
          "metadata": {}
        }
      ]
    },
    {
      "cell_type": "code",
      "source": [
        "sns.set(style=\"darkgrid\")\n",
        "sns\n",
        "\n",
        "sns.histplot(data=df, x=\"Price\", bins=50)\n",
        "plt.show()"
      ],
      "metadata": {
        "colab": {
          "base_uri": "https://localhost:8080/",
          "height": 341
        },
        "id": "fTYKZhxQ2R74",
        "outputId": "e0f42787-3595-48a6-9b30-15469bc71dfe"
      },
      "execution_count": null,
      "outputs": [
        {
          "output_type": "display_data",
          "data": {
            "text/plain": [
              "<Figure size 648x360 with 1 Axes>"
            ],
            "image/png": "[encoded data removed]"
          },
          "metadata": {}
        }
      ]
    },
    {
      "cell_type": "markdown",
      "source": [
        "*As shown in the scatter plot, there is no clear pattern that can be seen. We aware that this is because the price data is skewed. There is more data on cheaper properties than the expensive ones as displayed in the histogram above. Thus, the scatter plot is denser towards the left and bottom part of the graph*"
      ],
      "metadata": {
        "id": "DvBS53yz1gzV"
      }
    },
    {
      "cell_type": "markdown",
      "source": [
        "Selecting and focusing on price data that is near to mean value"
      ],
      "metadata": {
        "id": "3NfnAMbHGvxF"
      }
    },
    {
      "cell_type": "code",
      "source": [
        "price_relevant = df[df['Price'] <= 2000000]\n",
        "display(price_relevant)"
      ],
      "metadata": {
        "colab": {
          "base_uri": "https://localhost:8080/",
          "height": 424
        },
        "id": "9uIjWuNz3jra",
        "outputId": "599b4483-c12d-4655-bd21-7657be6c2b77"
      },
      "execution_count": null,
      "outputs": [
        {
          "output_type": "display_data",
          "data": {
            "text/plain": [
              "               Location      Price    Size  Rooms  Additional Room  Bathrooms  \\\n",
              "0               dutamas  1030000.0  1875.0      3                0          4   \n",
              "1           bukit jalil   900000.0  1513.0      4                1          3   \n",
              "3          sri petaling   385000.0   904.0      3                0          2   \n",
              "6            mont kiara  1780000.0  1830.0      4                1          4   \n",
              "8         desa parkcity  1500000.0  1798.0      3                2          4   \n",
              "...                 ...        ...     ...    ...              ...        ...   \n",
              "19282  bandar menjalara   525000.0  1157.0      3                0          3   \n",
              "19283       kuchai lama   300000.0   820.0      3                0          2   \n",
              "19284        kl sentral  1400000.0  1544.0      3                1          3   \n",
              "19285       kl eco city   880000.0   650.0      1                0          1   \n",
              "19287           setapak   540000.0  1313.0      4                0          2   \n",
              "\n",
              "       Car Parks             Property Type Property Type_2      Size_2  \\\n",
              "0              2               Condominium          Corner   Built-up    \n",
              "1              2               Condominium          Corner   Built-up    \n",
              "3              1                 Apartment    Intermediate   Built-up    \n",
              "6              2               Condominium          Corner   Built-up    \n",
              "8              2               Condominium          Corner   Built-up    \n",
              "...          ...                       ...             ...         ...   \n",
              "19282          2  2-sty Terrace/Link House    Intermediate  Land area    \n",
              "19283          1        Serviced Residence    Intermediate   Built-up    \n",
              "19284          2               Condominium          Corner  Land area    \n",
              "19285          1               Condominium          Corner   Built-up    \n",
              "19287          3               Condominium    Intermediate   Built-up    \n",
              "\n",
              "             Furnishing  \n",
              "0      Partly Furnished  \n",
              "1      Partly Furnished  \n",
              "3      Partly Furnished  \n",
              "6      Partly Furnished  \n",
              "8      Partly Furnished  \n",
              "...                 ...  \n",
              "19282  Partly Furnished  \n",
              "19283       Unfurnished  \n",
              "19284   Fully Furnished  \n",
              "19285  Partly Furnished  \n",
              "19287  Partly Furnished  \n",
              "\n",
              "[13344 rows x 11 columns]"
            ],
            "text/html": [
              "\n",
              "  <div id=\"df-09d260b2-764d-4684-9fab-1b40d5492ee0\">\n",
              "    <div class=\"colab-df-container\">\n",
              "      <div>\n",
              "<style scoped>\n",
              "    .dataframe tbody tr th:only-of-type {\n",
              "        vertical-align: middle;\n",
              "    }\n",
              "\n",
              "    .dataframe tbody tr th {\n",
              "        vertical-align: top;\n",
              "    }\n",
              "\n",
              "    .dataframe thead th {\n",
              "        text-align: right;\n",
              "    }\n",
              "</style>\n",
              "<table border=\"1\" class=\"dataframe\">\n",
              "  <thead>\n",
              "    <tr style=\"text-align: right;\">\n",
              "      <th></th>\n",
              "      <th>Location</th>\n",
              "      <th>Price</th>\n",
              "      <th>Size</th>\n",
              "      <th>Rooms</th>\n",
              "      <th>Additional Room</th>\n",
              "      <th>Bathrooms</th>\n",
              "      <th>Car Parks</th>\n",
              "      <th>Property Type</th>\n",
              "      <th>Property Type_2</th>\n",
              "      <th>Size_2</th>\n",
              "      <th>Furnishing</th>\n",
              "    </tr>\n",
              "  </thead>\n",
              "  <tbody>\n",
              "    <tr>\n",
              "      <th>0</th>\n",
              "      <td>dutamas</td>\n",
              "      <td>1030000.0</td>\n",
              "      <td>1875.0</td>\n",
              "      <td>3</td>\n",
              "      <td>0</td>\n",
              "      <td>4</td>\n",
              "      <td>2</td>\n",
              "      <td>Condominium</td>\n",
              "      <td>Corner</td>\n",
              "      <td>Built-up</td>\n",
              "      <td>Partly Furnished</td>\n",
              "    </tr>\n",
              "    <tr>\n",
              "      <th>1</th>\n",
              "      <td>bukit jalil</td>\n",
              "      <td>900000.0</td>\n",
              "      <td>1513.0</td>\n",
              "      <td>4</td>\n",
              "      <td>1</td>\n",
              "      <td>3</td>\n",
              "      <td>2</td>\n",
              "      <td>Condominium</td>\n",
              "      <td>Corner</td>\n",
              "      <td>Built-up</td>\n",
              "      <td>Partly Furnished</td>\n",
              "    </tr>\n",
              "    <tr>\n",
              "      <th>3</th>\n",
              "      <td>sri petaling</td>\n",
              "      <td>385000.0</td>\n",
              "      <td>904.0</td>\n",
              "      <td>3</td>\n",
              "      <td>0</td>\n",
              "      <td>2</td>\n",
              "      <td>1</td>\n",
              "      <td>Apartment</td>\n",
              "      <td>Intermediate</td>\n",
              "      <td>Built-up</td>\n",
              "      <td>Partly Furnished</td>\n",
              "    </tr>\n",
              "    <tr>\n",
              "      <th>6</th>\n",
              "      <td>mont kiara</td>\n",
              "      <td>1780000.0</td>\n",
              "      <td>1830.0</td>\n",
              "      <td>4</td>\n",
              "      <td>1</td>\n",
              "      <td>4</td>\n",
              "      <td>2</td>\n",
              "      <td>Condominium</td>\n",
              "      <td>Corner</td>\n",
              "      <td>Built-up</td>\n",
              "      <td>Partly Furnished</td>\n",
              "    </tr>\n",
              "    <tr>\n",
              "      <th>8</th>\n",
              "      <td>desa parkcity</td>\n",
              "      <td>1500000.0</td>\n",
              "      <td>1798.0</td>\n",
              "      <td>3</td>\n",
              "      <td>2</td>\n",
              "      <td>4</td>\n",
              "      <td>2</td>\n",
              "      <td>Condominium</td>\n",
              "      <td>Corner</td>\n",
              "      <td>Built-up</td>\n",
              "      <td>Partly Furnished</td>\n",
              "    </tr>\n",
              "    <tr>\n",
              "      <th>...</th>\n",
              "      <td>...</td>\n",
              "      <td>...</td>\n",
              "      <td>...</td>\n",
              "      <td>...</td>\n",
              "      <td>...</td>\n",
              "      <td>...</td>\n",
              "      <td>...</td>\n",
              "      <td>...</td>\n",
              "      <td>...</td>\n",
              "      <td>...</td>\n",
              "      <td>...</td>\n",
              "    </tr>\n",
              "    <tr>\n",
              "      <th>19282</th>\n",
              "      <td>bandar menjalara</td>\n",
              "      <td>525000.0</td>\n",
              "      <td>1157.0</td>\n",
              "      <td>3</td>\n",
              "      <td>0</td>\n",
              "      <td>3</td>\n",
              "      <td>2</td>\n",
              "      <td>2-sty Terrace/Link House</td>\n",
              "      <td>Intermediate</td>\n",
              "      <td>Land area</td>\n",
              "      <td>Partly Furnished</td>\n",
              "    </tr>\n",
              "    <tr>\n",
              "      <th>19283</th>\n",
              "      <td>kuchai lama</td>\n",
              "      <td>300000.0</td>\n",
              "      <td>820.0</td>\n",
              "      <td>3</td>\n",
              "      <td>0</td>\n",
              "      <td>2</td>\n",
              "      <td>1</td>\n",
              "      <td>Serviced Residence</td>\n",
              "      <td>Intermediate</td>\n",
              "      <td>Built-up</td>\n",
              "      <td>Unfurnished</td>\n",
              "    </tr>\n",
              "    <tr>\n",
              "      <th>19284</th>\n",
              "      <td>kl sentral</td>\n",
              "      <td>1400000.0</td>\n",
              "      <td>1544.0</td>\n",
              "      <td>3</td>\n",
              "      <td>1</td>\n",
              "      <td>3</td>\n",
              "      <td>2</td>\n",
              "      <td>Condominium</td>\n",
              "      <td>Corner</td>\n",
              "      <td>Land area</td>\n",
              "      <td>Fully Furnished</td>\n",
              "    </tr>\n",
              "    <tr>\n",
              "      <th>19285</th>\n",
              "      <td>kl eco city</td>\n",
              "      <td>880000.0</td>\n",
              "      <td>650.0</td>\n",
              "      <td>1</td>\n",
              "      <td>0</td>\n",
              "      <td>1</td>\n",
              "      <td>1</td>\n",
              "      <td>Condominium</td>\n",
              "      <td>Corner</td>\n",
              "      <td>Built-up</td>\n",
              "      <td>Partly Furnished</td>\n",
              "    </tr>\n",
              "    <tr>\n",
              "      <th>19287</th>\n",
              "      <td>setapak</td>\n",
              "      <td>540000.0</td>\n",
              "      <td>1313.0</td>\n",
              "      <td>4</td>\n",
              "      <td>0</td>\n",
              "      <td>2</td>\n",
              "      <td>3</td>\n",
              "      <td>Condominium</td>\n",
              "      <td>Intermediate</td>\n",
              "      <td>Built-up</td>\n",
              "      <td>Partly Furnished</td>\n",
              "    </tr>\n",
              "  </tbody>\n",
              "</table>\n",
              "<p>13344 rows × 11 columns</p>\n",
              "</div>\n",
              "      <button class=\"colab-df-convert\" onclick=\"convertToInteractive('df-09d260b2-764d-4684-9fab-1b40d5492ee0')\"\n",
              "              title=\"Convert this dataframe to an interactive table.\"\n",
              "              style=\"display:none;\">\n",
              "        \n",
              "  <svg xmlns=\"http://www.w3.org/2000/svg\" height=\"24px\"viewBox=\"0 0 24 24\"\n",
              "       width=\"24px\">\n",
              "    <path d=\"M0 0h24v24H0V0z\" fill=\"none\"/>\n",
              "    <path d=\"M18.56 5.44l.94 2.06.94-2.06 2.06-.94-2.06-.94-.94-2.06-.94 2.06-2.06.94zm-11 1L8.5 8.5l.94-2.06 2.06-.94-2.06-.94L8.5 2.5l-.94 2.06-2.06.94zm10 10l.94 2.06.94-2.06 2.06-.94-2.06-.94-.94-2.06-.94 2.06-2.06.94z\"/><path d=\"M17.41 7.96l-1.37-1.37c-.4-.4-.92-.59-1.43-.59-.52 0-1.04.2-1.43.59L10.3 9.45l-7.72 7.72c-.78.78-.78 2.05 0 2.83L4 21.41c.39.39.9.59 1.41.59.51 0 1.02-.2 1.41-.59l7.78-7.78 2.81-2.81c.8-.78.8-2.07 0-2.86zM5.41 20L4 18.59l7.72-7.72 1.47 1.35L5.41 20z\"/>\n",
              "  </svg>\n",
              "      </button>\n",
              "      \n",
              "  <style>\n",
              "    .colab-df-container {\n",
              "      display:flex;\n",
              "      flex-wrap:wrap;\n",
              "      gap: 12px;\n",
              "    }\n",
              "\n",
              "    .colab-df-convert {\n",
              "      background-color: #E8F0FE;\n",
              "      border: none;\n",
              "      border-radius: 50%;\n",
              "      cursor: pointer;\n",
              "      display: none;\n",
              "      fill: #1967D2;\n",
              "      height: 32px;\n",
              "      padding: 0 0 0 0;\n",
              "      width: 32px;\n",
              "    }\n",
              "\n",
              "    .colab-df-convert:hover {\n",
              "      background-color: #E2EBFA;\n",
              "      box-shadow: 0px 1px 2px rgba(60, 64, 67, 0.3), 0px 1px 3px 1px rgba(60, 64, 67, 0.15);\n",
              "      fill: #174EA6;\n",
              "    }\n",
              "\n",
              "    [theme=dark] .colab-df-convert {\n",
              "      background-color: #3B4455;\n",
              "      fill: #D2E3FC;\n",
              "    }\n",
              "\n",
              "    [theme=dark] .colab-df-convert:hover {\n",
              "      background-color: #434B5C;\n",
              "      box-shadow: 0px 1px 3px 1px rgba(0, 0, 0, 0.15);\n",
              "      filter: drop-shadow(0px 1px 2px rgba(0, 0, 0, 0.3));\n",
              "      fill: #FFFFFF;\n",
              "    }\n",
              "  </style>\n",
              "\n",
              "      <script>\n",
              "        const buttonEl =\n",
              "          document.querySelector('#df-09d260b2-764d-4684-9fab-1b40d5492ee0 button.colab-df-convert');\n",
              "        buttonEl.style.display =\n",
              "          google.colab.kernel.accessAllowed ? 'block' : 'none';\n",
              "\n",
              "        async function convertToInteractive(key) {\n",
              "          const element = document.querySelector('#df-09d260b2-764d-4684-9fab-1b40d5492ee0');\n",
              "          const dataTable =\n",
              "            await google.colab.kernel.invokeFunction('convertToInteractive',\n",
              "                                                     [key], {});\n",
              "          if (!dataTable) return;\n",
              "\n",
              "          const docLinkHtml = 'Like what you see? Visit the ' +\n",
              "            '<a target=\"_blank\" href=https://colab.research.google.com/notebooks/data_table.ipynb>data table notebook</a>'\n",
              "            + ' to learn more about interactive tables.';\n",
              "          element.innerHTML = '';\n",
              "          dataTable['output_type'] = 'display_data';\n",
              "          await google.colab.output.renderOutput(dataTable, element);\n",
              "          const docLink = document.createElement('div');\n",
              "          docLink.innerHTML = docLinkHtml;\n",
              "          element.appendChild(docLink);\n",
              "        }\n",
              "      </script>\n",
              "    </div>\n",
              "  </div>\n",
              "  "
            ]
          },
          "metadata": {}
        }
      ]
    },
    {
      "cell_type": "code",
      "source": [
        "sns.set(style=\"darkgrid\")\n",
        "sns\n",
        "\n",
        "sns.histplot(data=price_relevant, x=\"Price\", bins=50)\n",
        "plt.show()"
      ],
      "metadata": {
        "colab": {
          "base_uri": "https://localhost:8080/",
          "height": 343
        },
        "id": "gsNZHLeR4P1e",
        "outputId": "7bc1f9d1-7399-49d4-e196-389a51bcc55e"
      },
      "execution_count": null,
      "outputs": [
        {
          "output_type": "display_data",
          "data": {
            "text/plain": [
              "<Figure size 648x360 with 1 Axes>"
            ],
            "image/png": "[encoded data removed]"
          },
          "metadata": {}
        }
      ]
    },
    {
      "cell_type": "code",
      "source": [
        "plt.scatter(price_relevant['Rooms'], price_relevant['Price'])\n",
        "plt.show()"
      ],
      "metadata": {
        "colab": {
          "base_uri": "https://localhost:8080/",
          "height": 333
        },
        "id": "cGe6TNRE4X6a",
        "outputId": "78cedc67-e2b0-42ef-bb14-dd37153d03ec"
      },
      "execution_count": null,
      "outputs": [
        {
          "output_type": "display_data",
          "data": {
            "text/plain": [
              "<Figure size 648x360 with 1 Axes>"
            ],
            "image/png": "[encoded data removed]"
          },
          "metadata": {}
        }
      ]
    },
    {
      "cell_type": "markdown",
      "source": [
        "*The scatter plot shows a slight pattern that displays the more number of rooms, the pricier the properties become.*"
      ],
      "metadata": {
        "id": "UXNpA9IZG8qL"
      }
    },
    {
      "cell_type": "markdown",
      "source": [
        "\n",
        "\n",
        "---\n",
        "\n"
      ],
      "metadata": {
        "id": "VBhPOLLPAJLT"
      }
    },
    {
      "cell_type": "markdown",
      "metadata": {
        "id": "p4CcVO1TVJJ-"
      },
      "source": [
        "#### Q4: Does any of built-up type is suitable for a family of 6 (based on the number of rooms)?"
      ]
    },
    {
      "cell_type": "code",
      "execution_count": null,
      "metadata": {
        "id": "Wa96BGX1VJJ-",
        "colab": {
          "base_uri": "https://localhost:8080/",
          "height": 424
        },
        "outputId": "aae9a38b-9c2c-4839-fbcb-3c9af0055552"
      },
      "outputs": [
        {
          "output_type": "execute_result",
          "data": {
            "text/plain": [
              "                        Location      Price    Size  Rooms  Additional Room  \\\n",
              "9267                 kuchai lama   808000.0  2387.0      6                1   \n",
              "12677                 mont kiara  2960000.0  4550.0      6                1   \n",
              "12650                kuchai lama  1523000.0  2798.0      6                1   \n",
              "12638                    setapak  1180000.0  3300.0      6                0   \n",
              "12335                       klcc  6750000.0  6600.0      6                1   \n",
              "...                          ...        ...     ...    ...              ...   \n",
              "8023                      cheras   630000.0  3000.0      7                0   \n",
              "16053  bukit tunku (kenny hills)  4680000.0  6268.0      8                1   \n",
              "3903                     setapak   730000.0  2500.0      8                0   \n",
              "16762                    kl city  4300000.0  6000.0     10                0   \n",
              "11027                    kl city   398000.0   420.0     10                0   \n",
              "\n",
              "       Bathrooms  Car Parks             Property Type Property Type_2  \\\n",
              "9267           6          2               Condominium          Corner   \n",
              "12677          6          4               Condominium          Duplex   \n",
              "12650          6          5               Condominium          Corner   \n",
              "12638          4          3  3-sty Terrace/Link House    Intermediate   \n",
              "12335          6          5               Condominium          Corner   \n",
              "...          ...        ...                       ...             ...   \n",
              "8023           5          2  3-sty Terrace/Link House    Intermediate   \n",
              "16053          8          4               Condominium          Corner   \n",
              "3903           3          2               Condominium    Intermediate   \n",
              "16762          8          4               Condominium          Corner   \n",
              "11027          1          1        Serviced Residence          Corner   \n",
              "\n",
              "          Size_2        Furnishing  \n",
              "9267   Built-up        Unfurnished  \n",
              "12677  Built-up   Partly Furnished  \n",
              "12650  Built-up   Partly Furnished  \n",
              "12638  Built-up   Partly Furnished  \n",
              "12335  Built-up   Partly Furnished  \n",
              "...          ...               ...  \n",
              "8023   Built-up   Partly Furnished  \n",
              "16053  Built-up   Partly Furnished  \n",
              "3903   Built-up   Partly Furnished  \n",
              "16762  Built-up    Fully Furnished  \n",
              "11027  Built-up    Fully Furnished  \n",
              "\n",
              "[94 rows x 11 columns]"
            ],
            "text/html": [
              "\n",
              "  <div id=\"df-dc9c98a3-c38b-497b-aa85-638344a56696\">\n",
              "    <div class=\"colab-df-container\">\n",
              "      <div>\n",
              "<style scoped>\n",
              "    .dataframe tbody tr th:only-of-type {\n",
              "        vertical-align: middle;\n",
              "    }\n",
              "\n",
              "    .dataframe tbody tr th {\n",
              "        vertical-align: top;\n",
              "    }\n",
              "\n",
              "    .dataframe thead th {\n",
              "        text-align: right;\n",
              "    }\n",
              "</style>\n",
              "<table border=\"1\" class=\"dataframe\">\n",
              "  <thead>\n",
              "    <tr style=\"text-align: right;\">\n",
              "      <th></th>\n",
              "      <th>Location</th>\n",
              "      <th>Price</th>\n",
              "      <th>Size</th>\n",
              "      <th>Rooms</th>\n",
              "      <th>Additional Room</th>\n",
              "      <th>Bathrooms</th>\n",
              "      <th>Car Parks</th>\n",
              "      <th>Property Type</th>\n",
              "      <th>Property Type_2</th>\n",
              "      <th>Size_2</th>\n",
              "      <th>Furnishing</th>\n",
              "    </tr>\n",
              "  </thead>\n",
              "  <tbody>\n",
              "    <tr>\n",
              "      <th>9267</th>\n",
              "      <td>kuchai lama</td>\n",
              "      <td>808000.0</td>\n",
              "      <td>2387.0</td>\n",
              "      <td>6</td>\n",
              "      <td>1</td>\n",
              "      <td>6</td>\n",
              "      <td>2</td>\n",
              "      <td>Condominium</td>\n",
              "      <td>Corner</td>\n",
              "      <td>Built-up</td>\n",
              "      <td>Unfurnished</td>\n",
              "    </tr>\n",
              "    <tr>\n",
              "      <th>12677</th>\n",
              "      <td>mont kiara</td>\n",
              "      <td>2960000.0</td>\n",
              "      <td>4550.0</td>\n",
              "      <td>6</td>\n",
              "      <td>1</td>\n",
              "      <td>6</td>\n",
              "      <td>4</td>\n",
              "      <td>Condominium</td>\n",
              "      <td>Duplex</td>\n",
              "      <td>Built-up</td>\n",
              "      <td>Partly Furnished</td>\n",
              "    </tr>\n",
              "    <tr>\n",
              "      <th>12650</th>\n",
              "      <td>kuchai lama</td>\n",
              "      <td>1523000.0</td>\n",
              "      <td>2798.0</td>\n",
              "      <td>6</td>\n",
              "      <td>1</td>\n",
              "      <td>6</td>\n",
              "      <td>5</td>\n",
              "      <td>Condominium</td>\n",
              "      <td>Corner</td>\n",
              "      <td>Built-up</td>\n",
              "      <td>Partly Furnished</td>\n",
              "    </tr>\n",
              "    <tr>\n",
              "      <th>12638</th>\n",
              "      <td>setapak</td>\n",
              "      <td>1180000.0</td>\n",
              "      <td>3300.0</td>\n",
              "      <td>6</td>\n",
              "      <td>0</td>\n",
              "      <td>4</td>\n",
              "      <td>3</td>\n",
              "      <td>3-sty Terrace/Link House</td>\n",
              "      <td>Intermediate</td>\n",
              "      <td>Built-up</td>\n",
              "      <td>Partly Furnished</td>\n",
              "    </tr>\n",
              "    <tr>\n",
              "      <th>12335</th>\n",
              "      <td>klcc</td>\n",
              "      <td>6750000.0</td>\n",
              "      <td>6600.0</td>\n",
              "      <td>6</td>\n",
              "      <td>1</td>\n",
              "      <td>6</td>\n",
              "      <td>5</td>\n",
              "      <td>Condominium</td>\n",
              "      <td>Corner</td>\n",
              "      <td>Built-up</td>\n",
              "      <td>Partly Furnished</td>\n",
              "    </tr>\n",
              "    <tr>\n",
              "      <th>...</th>\n",
              "      <td>...</td>\n",
              "      <td>...</td>\n",
              "      <td>...</td>\n",
              "      <td>...</td>\n",
              "      <td>...</td>\n",
              "      <td>...</td>\n",
              "      <td>...</td>\n",
              "      <td>...</td>\n",
              "      <td>...</td>\n",
              "      <td>...</td>\n",
              "      <td>...</td>\n",
              "    </tr>\n",
              "    <tr>\n",
              "      <th>8023</th>\n",
              "      <td>cheras</td>\n",
              "      <td>630000.0</td>\n",
              "      <td>3000.0</td>\n",
              "      <td>7</td>\n",
              "      <td>0</td>\n",
              "      <td>5</td>\n",
              "      <td>2</td>\n",
              "      <td>3-sty Terrace/Link House</td>\n",
              "      <td>Intermediate</td>\n",
              "      <td>Built-up</td>\n",
              "      <td>Partly Furnished</td>\n",
              "    </tr>\n",
              "    <tr>\n",
              "      <th>16053</th>\n",
              "      <td>bukit tunku (kenny hills)</td>\n",
              "      <td>4680000.0</td>\n",
              "      <td>6268.0</td>\n",
              "      <td>8</td>\n",
              "      <td>1</td>\n",
              "      <td>8</td>\n",
              "      <td>4</td>\n",
              "      <td>Condominium</td>\n",
              "      <td>Corner</td>\n",
              "      <td>Built-up</td>\n",
              "      <td>Partly Furnished</td>\n",
              "    </tr>\n",
              "    <tr>\n",
              "      <th>3903</th>\n",
              "      <td>setapak</td>\n",
              "      <td>730000.0</td>\n",
              "      <td>2500.0</td>\n",
              "      <td>8</td>\n",
              "      <td>0</td>\n",
              "      <td>3</td>\n",
              "      <td>2</td>\n",
              "      <td>Condominium</td>\n",
              "      <td>Intermediate</td>\n",
              "      <td>Built-up</td>\n",
              "      <td>Partly Furnished</td>\n",
              "    </tr>\n",
              "    <tr>\n",
              "      <th>16762</th>\n",
              "      <td>kl city</td>\n",
              "      <td>4300000.0</td>\n",
              "      <td>6000.0</td>\n",
              "      <td>10</td>\n",
              "      <td>0</td>\n",
              "      <td>8</td>\n",
              "      <td>4</td>\n",
              "      <td>Condominium</td>\n",
              "      <td>Corner</td>\n",
              "      <td>Built-up</td>\n",
              "      <td>Fully Furnished</td>\n",
              "    </tr>\n",
              "    <tr>\n",
              "      <th>11027</th>\n",
              "      <td>kl city</td>\n",
              "      <td>398000.0</td>\n",
              "      <td>420.0</td>\n",
              "      <td>10</td>\n",
              "      <td>0</td>\n",
              "      <td>1</td>\n",
              "      <td>1</td>\n",
              "      <td>Serviced Residence</td>\n",
              "      <td>Corner</td>\n",
              "      <td>Built-up</td>\n",
              "      <td>Fully Furnished</td>\n",
              "    </tr>\n",
              "  </tbody>\n",
              "</table>\n",
              "<p>94 rows × 11 columns</p>\n",
              "</div>\n",
              "      <button class=\"colab-df-convert\" onclick=\"convertToInteractive('df-dc9c98a3-c38b-497b-aa85-638344a56696')\"\n",
              "              title=\"Convert this dataframe to an interactive table.\"\n",
              "              style=\"display:none;\">\n",
              "        \n",
              "  <svg xmlns=\"http://www.w3.org/2000/svg\" height=\"24px\"viewBox=\"0 0 24 24\"\n",
              "       width=\"24px\">\n",
              "    <path d=\"M0 0h24v24H0V0z\" fill=\"none\"/>\n",
              "    <path d=\"M18.56 5.44l.94 2.06.94-2.06 2.06-.94-2.06-.94-.94-2.06-.94 2.06-2.06.94zm-11 1L8.5 8.5l.94-2.06 2.06-.94-2.06-.94L8.5 2.5l-.94 2.06-2.06.94zm10 10l.94 2.06.94-2.06 2.06-.94-2.06-.94-.94-2.06-.94 2.06-2.06.94z\"/><path d=\"M17.41 7.96l-1.37-1.37c-.4-.4-.92-.59-1.43-.59-.52 0-1.04.2-1.43.59L10.3 9.45l-7.72 7.72c-.78.78-.78 2.05 0 2.83L4 21.41c.39.39.9.59 1.41.59.51 0 1.02-.2 1.41-.59l7.78-7.78 2.81-2.81c.8-.78.8-2.07 0-2.86zM5.41 20L4 18.59l7.72-7.72 1.47 1.35L5.41 20z\"/>\n",
              "  </svg>\n",
              "      </button>\n",
              "      \n",
              "  <style>\n",
              "    .colab-df-container {\n",
              "      display:flex;\n",
              "      flex-wrap:wrap;\n",
              "      gap: 12px;\n",
              "    }\n",
              "\n",
              "    .colab-df-convert {\n",
              "      background-color: #E8F0FE;\n",
              "      border: none;\n",
              "      border-radius: 50%;\n",
              "      cursor: pointer;\n",
              "      display: none;\n",
              "      fill: #1967D2;\n",
              "      height: 32px;\n",
              "      padding: 0 0 0 0;\n",
              "      width: 32px;\n",
              "    }\n",
              "\n",
              "    .colab-df-convert:hover {\n",
              "      background-color: #E2EBFA;\n",
              "      box-shadow: 0px 1px 2px rgba(60, 64, 67, 0.3), 0px 1px 3px 1px rgba(60, 64, 67, 0.15);\n",
              "      fill: #174EA6;\n",
              "    }\n",
              "\n",
              "    [theme=dark] .colab-df-convert {\n",
              "      background-color: #3B4455;\n",
              "      fill: #D2E3FC;\n",
              "    }\n",
              "\n",
              "    [theme=dark] .colab-df-convert:hover {\n",
              "      background-color: #434B5C;\n",
              "      box-shadow: 0px 1px 3px 1px rgba(0, 0, 0, 0.15);\n",
              "      filter: drop-shadow(0px 1px 2px rgba(0, 0, 0, 0.3));\n",
              "      fill: #FFFFFF;\n",
              "    }\n",
              "  </style>\n",
              "\n",
              "      <script>\n",
              "        const buttonEl =\n",
              "          document.querySelector('#df-dc9c98a3-c38b-497b-aa85-638344a56696 button.colab-df-convert');\n",
              "        buttonEl.style.display =\n",
              "          google.colab.kernel.accessAllowed ? 'block' : 'none';\n",
              "\n",
              "        async function convertToInteractive(key) {\n",
              "          const element = document.querySelector('#df-dc9c98a3-c38b-497b-aa85-638344a56696');\n",
              "          const dataTable =\n",
              "            await google.colab.kernel.invokeFunction('convertToInteractive',\n",
              "                                                     [key], {});\n",
              "          if (!dataTable) return;\n",
              "\n",
              "          const docLinkHtml = 'Like what you see? Visit the ' +\n",
              "            '<a target=\"_blank\" href=https://colab.research.google.com/notebooks/data_table.ipynb>data table notebook</a>'\n",
              "            + ' to learn more about interactive tables.';\n",
              "          element.innerHTML = '';\n",
              "          dataTable['output_type'] = 'display_data';\n",
              "          await google.colab.output.renderOutput(dataTable, element);\n",
              "          const docLink = document.createElement('div');\n",
              "          docLink.innerHTML = docLinkHtml;\n",
              "          element.appendChild(docLink);\n",
              "        }\n",
              "      </script>\n",
              "    </div>\n",
              "  </div>\n",
              "  "
            ]
          },
          "metadata": {},
          "execution_count": 272
        }
      ],
      "source": [
        "df[(df['Size_2'] =='Built-up ') & (df['Rooms'] >= 6)].sort_values(by=['Rooms'], ascending=True)"
      ]
    },
    {
      "cell_type": "markdown",
      "source": [
        "*There is 151 available built-up properties that is suitable for a family with 6 members*"
      ],
      "metadata": {
        "id": "6DMvzwH2F29M"
      }
    },
    {
      "cell_type": "markdown",
      "source": [
        "\n",
        "\n",
        "---\n",
        "\n"
      ],
      "metadata": {
        "id": "ksYPDhlhAPkD"
      }
    },
    {
      "cell_type": "markdown",
      "metadata": {
        "id": "uFuZBqX1VJJ_"
      },
      "source": [
        "#### Q5: Recommend affordable properties for a newly-wed couple which is fine with only 1 bedroom and 1 guest room"
      ]
    },
    {
      "cell_type": "code",
      "execution_count": null,
      "metadata": {
        "id": "0XCOkgIHVJJ_",
        "colab": {
          "base_uri": "https://localhost:8080/",
          "height": 424
        },
        "outputId": "59c8d136-3285-4d50-90e9-6fa3fb4be099"
      },
      "outputs": [
        {
          "output_type": "execute_result",
          "data": {
            "text/plain": [
              "                                Location      Price    Size  Rooms  \\\n",
              "7067                    bandar menjalara     1300.0  1076.0      2   \n",
              "12180                            setapak     1300.0  1104.0      2   \n",
              "12916  jalan klang lama (old klang road)     1650.0  1000.0      2   \n",
              "11414                         taman desa     1800.0   715.0      2   \n",
              "9063   jalan klang lama (old klang road)     1800.0  1200.0      2   \n",
              "...                                  ...        ...     ...    ...   \n",
              "14316                               klcc  6200000.0  1722.0      2   \n",
              "14317                               klcc  6500000.0  1830.0      2   \n",
              "4108                         bukit jalil  7200000.0   868.0      2   \n",
              "11389                         kl sentral  7224000.0  2408.0      2   \n",
              "9609                          kl sentral  7224000.0  2408.0      2   \n",
              "\n",
              "       Additional Room  Bathrooms  Car Parks       Property Type  \\\n",
              "7067                 1          2          1         Condominium   \n",
              "12180                0          2          1         Condominium   \n",
              "12916                1          3          1         Condominium   \n",
              "11414                0          2          1  Serviced Residence   \n",
              "9063                 1          2          1  Serviced Residence   \n",
              "...                ...        ...        ...                 ...   \n",
              "14316                1          2          2         Condominium   \n",
              "14317                1          2          2         Condominium   \n",
              "4108                 0          2          1  Serviced Residence   \n",
              "11389                1          4          2  Serviced Residence   \n",
              "9609                 1          4          2  Serviced Residence   \n",
              "\n",
              "      Property Type_2     Size_2        Furnishing  \n",
              "7067     Intermediate  Built-up    Fully Furnished  \n",
              "12180          Corner  Built-up   Partly Furnished  \n",
              "12916          Corner  Built-up   Partly Furnished  \n",
              "11414    Intermediate  Built-up   Partly Furnished  \n",
              "9063     Intermediate  Built-up   Partly Furnished  \n",
              "...               ...        ...               ...  \n",
              "14316          Corner  Built-up    Fully Furnished  \n",
              "14317          Corner  Built-up    Fully Furnished  \n",
              "4108           Corner  Built-up   Partly Furnished  \n",
              "11389          Corner  Built-up   Partly Furnished  \n",
              "9609           Corner  Built-up   Partly Furnished  \n",
              "\n",
              "[2697 rows x 11 columns]"
            ],
            "text/html": [
              "\n",
              "  <div id=\"df-2b2ae757-1af2-4321-ad01-b264d60312aa\">\n",
              "    <div class=\"colab-df-container\">\n",
              "      <div>\n",
              "<style scoped>\n",
              "    .dataframe tbody tr th:only-of-type {\n",
              "        vertical-align: middle;\n",
              "    }\n",
              "\n",
              "    .dataframe tbody tr th {\n",
              "        vertical-align: top;\n",
              "    }\n",
              "\n",
              "    .dataframe thead th {\n",
              "        text-align: right;\n",
              "    }\n",
              "</style>\n",
              "<table border=\"1\" class=\"dataframe\">\n",
              "  <thead>\n",
              "    <tr style=\"text-align: right;\">\n",
              "      <th></th>\n",
              "      <th>Location</th>\n",
              "      <th>Price</th>\n",
              "      <th>Size</th>\n",
              "      <th>Rooms</th>\n",
              "      <th>Additional Room</th>\n",
              "      <th>Bathrooms</th>\n",
              "      <th>Car Parks</th>\n",
              "      <th>Property Type</th>\n",
              "      <th>Property Type_2</th>\n",
              "      <th>Size_2</th>\n",
              "      <th>Furnishing</th>\n",
              "    </tr>\n",
              "  </thead>\n",
              "  <tbody>\n",
              "    <tr>\n",
              "      <th>7067</th>\n",
              "      <td>bandar menjalara</td>\n",
              "      <td>1300.0</td>\n",
              "      <td>1076.0</td>\n",
              "      <td>2</td>\n",
              "      <td>1</td>\n",
              "      <td>2</td>\n",
              "      <td>1</td>\n",
              "      <td>Condominium</td>\n",
              "      <td>Intermediate</td>\n",
              "      <td>Built-up</td>\n",
              "      <td>Fully Furnished</td>\n",
              "    </tr>\n",
              "    <tr>\n",
              "      <th>12180</th>\n",
              "      <td>setapak</td>\n",
              "      <td>1300.0</td>\n",
              "      <td>1104.0</td>\n",
              "      <td>2</td>\n",
              "      <td>0</td>\n",
              "      <td>2</td>\n",
              "      <td>1</td>\n",
              "      <td>Condominium</td>\n",
              "      <td>Corner</td>\n",
              "      <td>Built-up</td>\n",
              "      <td>Partly Furnished</td>\n",
              "    </tr>\n",
              "    <tr>\n",
              "      <th>12916</th>\n",
              "      <td>jalan klang lama (old klang road)</td>\n",
              "      <td>1650.0</td>\n",
              "      <td>1000.0</td>\n",
              "      <td>2</td>\n",
              "      <td>1</td>\n",
              "      <td>3</td>\n",
              "      <td>1</td>\n",
              "      <td>Condominium</td>\n",
              "      <td>Corner</td>\n",
              "      <td>Built-up</td>\n",
              "      <td>Partly Furnished</td>\n",
              "    </tr>\n",
              "    <tr>\n",
              "      <th>11414</th>\n",
              "      <td>taman desa</td>\n",
              "      <td>1800.0</td>\n",
              "      <td>715.0</td>\n",
              "      <td>2</td>\n",
              "      <td>0</td>\n",
              "      <td>2</td>\n",
              "      <td>1</td>\n",
              "      <td>Serviced Residence</td>\n",
              "      <td>Intermediate</td>\n",
              "      <td>Built-up</td>\n",
              "      <td>Partly Furnished</td>\n",
              "    </tr>\n",
              "    <tr>\n",
              "      <th>9063</th>\n",
              "      <td>jalan klang lama (old klang road)</td>\n",
              "      <td>1800.0</td>\n",
              "      <td>1200.0</td>\n",
              "      <td>2</td>\n",
              "      <td>1</td>\n",
              "      <td>2</td>\n",
              "      <td>1</td>\n",
              "      <td>Serviced Residence</td>\n",
              "      <td>Intermediate</td>\n",
              "      <td>Built-up</td>\n",
              "      <td>Partly Furnished</td>\n",
              "    </tr>\n",
              "    <tr>\n",
              "      <th>...</th>\n",
              "      <td>...</td>\n",
              "      <td>...</td>\n",
              "      <td>...</td>\n",
              "      <td>...</td>\n",
              "      <td>...</td>\n",
              "      <td>...</td>\n",
              "      <td>...</td>\n",
              "      <td>...</td>\n",
              "      <td>...</td>\n",
              "      <td>...</td>\n",
              "      <td>...</td>\n",
              "    </tr>\n",
              "    <tr>\n",
              "      <th>14316</th>\n",
              "      <td>klcc</td>\n",
              "      <td>6200000.0</td>\n",
              "      <td>1722.0</td>\n",
              "      <td>2</td>\n",
              "      <td>1</td>\n",
              "      <td>2</td>\n",
              "      <td>2</td>\n",
              "      <td>Condominium</td>\n",
              "      <td>Corner</td>\n",
              "      <td>Built-up</td>\n",
              "      <td>Fully Furnished</td>\n",
              "    </tr>\n",
              "    <tr>\n",
              "      <th>14317</th>\n",
              "      <td>klcc</td>\n",
              "      <td>6500000.0</td>\n",
              "      <td>1830.0</td>\n",
              "      <td>2</td>\n",
              "      <td>1</td>\n",
              "      <td>2</td>\n",
              "      <td>2</td>\n",
              "      <td>Condominium</td>\n",
              "      <td>Corner</td>\n",
              "      <td>Built-up</td>\n",
              "      <td>Fully Furnished</td>\n",
              "    </tr>\n",
              "    <tr>\n",
              "      <th>4108</th>\n",
              "      <td>bukit jalil</td>\n",
              "      <td>7200000.0</td>\n",
              "      <td>868.0</td>\n",
              "      <td>2</td>\n",
              "      <td>0</td>\n",
              "      <td>2</td>\n",
              "      <td>1</td>\n",
              "      <td>Serviced Residence</td>\n",
              "      <td>Corner</td>\n",
              "      <td>Built-up</td>\n",
              "      <td>Partly Furnished</td>\n",
              "    </tr>\n",
              "    <tr>\n",
              "      <th>11389</th>\n",
              "      <td>kl sentral</td>\n",
              "      <td>7224000.0</td>\n",
              "      <td>2408.0</td>\n",
              "      <td>2</td>\n",
              "      <td>1</td>\n",
              "      <td>4</td>\n",
              "      <td>2</td>\n",
              "      <td>Serviced Residence</td>\n",
              "      <td>Corner</td>\n",
              "      <td>Built-up</td>\n",
              "      <td>Partly Furnished</td>\n",
              "    </tr>\n",
              "    <tr>\n",
              "      <th>9609</th>\n",
              "      <td>kl sentral</td>\n",
              "      <td>7224000.0</td>\n",
              "      <td>2408.0</td>\n",
              "      <td>2</td>\n",
              "      <td>1</td>\n",
              "      <td>4</td>\n",
              "      <td>2</td>\n",
              "      <td>Serviced Residence</td>\n",
              "      <td>Corner</td>\n",
              "      <td>Built-up</td>\n",
              "      <td>Partly Furnished</td>\n",
              "    </tr>\n",
              "  </tbody>\n",
              "</table>\n",
              "<p>2697 rows × 11 columns</p>\n",
              "</div>\n",
              "      <button class=\"colab-df-convert\" onclick=\"convertToInteractive('df-2b2ae757-1af2-4321-ad01-b264d60312aa')\"\n",
              "              title=\"Convert this dataframe to an interactive table.\"\n",
              "              style=\"display:none;\">\n",
              "        \n",
              "  <svg xmlns=\"http://www.w3.org/2000/svg\" height=\"24px\"viewBox=\"0 0 24 24\"\n",
              "       width=\"24px\">\n",
              "    <path d=\"M0 0h24v24H0V0z\" fill=\"none\"/>\n",
              "    <path d=\"M18.56 5.44l.94 2.06.94-2.06 2.06-.94-2.06-.94-.94-2.06-.94 2.06-2.06.94zm-11 1L8.5 8.5l.94-2.06 2.06-.94-2.06-.94L8.5 2.5l-.94 2.06-2.06.94zm10 10l.94 2.06.94-2.06 2.06-.94-2.06-.94-.94-2.06-.94 2.06-2.06.94z\"/><path d=\"M17.41 7.96l-1.37-1.37c-.4-.4-.92-.59-1.43-.59-.52 0-1.04.2-1.43.59L10.3 9.45l-7.72 7.72c-.78.78-.78 2.05 0 2.83L4 21.41c.39.39.9.59 1.41.59.51 0 1.02-.2 1.41-.59l7.78-7.78 2.81-2.81c.8-.78.8-2.07 0-2.86zM5.41 20L4 18.59l7.72-7.72 1.47 1.35L5.41 20z\"/>\n",
              "  </svg>\n",
              "      </button>\n",
              "      \n",
              "  <style>\n",
              "    .colab-df-container {\n",
              "      display:flex;\n",
              "      flex-wrap:wrap;\n",
              "      gap: 12px;\n",
              "    }\n",
              "\n",
              "    .colab-df-convert {\n",
              "      background-color: #E8F0FE;\n",
              "      border: none;\n",
              "      border-radius: 50%;\n",
              "      cursor: pointer;\n",
              "      display: none;\n",
              "      fill: #1967D2;\n",
              "      height: 32px;\n",
              "      padding: 0 0 0 0;\n",
              "      width: 32px;\n",
              "    }\n",
              "\n",
              "    .colab-df-convert:hover {\n",
              "      background-color: #E2EBFA;\n",
              "      box-shadow: 0px 1px 2px rgba(60, 64, 67, 0.3), 0px 1px 3px 1px rgba(60, 64, 67, 0.15);\n",
              "      fill: #174EA6;\n",
              "    }\n",
              "\n",
              "    [theme=dark] .colab-df-convert {\n",
              "      background-color: #3B4455;\n",
              "      fill: #D2E3FC;\n",
              "    }\n",
              "\n",
              "    [theme=dark] .colab-df-convert:hover {\n",
              "      background-color: #434B5C;\n",
              "      box-shadow: 0px 1px 3px 1px rgba(0, 0, 0, 0.15);\n",
              "      filter: drop-shadow(0px 1px 2px rgba(0, 0, 0, 0.3));\n",
              "      fill: #FFFFFF;\n",
              "    }\n",
              "  </style>\n",
              "\n",
              "      <script>\n",
              "        const buttonEl =\n",
              "          document.querySelector('#df-2b2ae757-1af2-4321-ad01-b264d60312aa button.colab-df-convert');\n",
              "        buttonEl.style.display =\n",
              "          google.colab.kernel.accessAllowed ? 'block' : 'none';\n",
              "\n",
              "        async function convertToInteractive(key) {\n",
              "          const element = document.querySelector('#df-2b2ae757-1af2-4321-ad01-b264d60312aa');\n",
              "          const dataTable =\n",
              "            await google.colab.kernel.invokeFunction('convertToInteractive',\n",
              "                                                     [key], {});\n",
              "          if (!dataTable) return;\n",
              "\n",
              "          const docLinkHtml = 'Like what you see? Visit the ' +\n",
              "            '<a target=\"_blank\" href=https://colab.research.google.com/notebooks/data_table.ipynb>data table notebook</a>'\n",
              "            + ' to learn more about interactive tables.';\n",
              "          element.innerHTML = '';\n",
              "          dataTable['output_type'] = 'display_data';\n",
              "          await google.colab.output.renderOutput(dataTable, element);\n",
              "          const docLink = document.createElement('div');\n",
              "          docLink.innerHTML = docLinkHtml;\n",
              "          element.appendChild(docLink);\n",
              "        }\n",
              "      </script>\n",
              "    </div>\n",
              "  </div>\n",
              "  "
            ]
          },
          "metadata": {},
          "execution_count": 273
        }
      ],
      "source": [
        "df[(df['Rooms'] == 2)].sort_values(by=['Price'], ascending=True)"
      ]
    },
    {
      "cell_type": "markdown",
      "source": [
        "*There are various selection of properties that is suitable for 2 persons with price as low as RM1300*"
      ],
      "metadata": {
        "id": "y3SGzTKsGZoR"
      }
    },
    {
      "cell_type": "markdown",
      "metadata": {
        "id": "VxoO755tVJJ_"
      },
      "source": [
        "# **Inferences and Conclusion**"
      ]
    },
    {
      "cell_type": "markdown",
      "source": [
        "1.   We could see that most properties which is marketed in this website is located at KLCC through the [bar graph](#scrollTo=c7fugjWzVJJ7&line=1&uniqifier=1). There are several possible reasons from this including too expensive price that people could not afford or people do not prefer to stay at the center of the city or the properties built are exceeding the population.\n",
        "\n",
        "2.   However, we do not think that too high price is the main factor for this to happen. This is because if we observe the [bar graph](#scrollTo=Pe-MGcHYoy8w&line=2&uniqifier=1) that shows mean price based on location, properties in Taman Duta will be most expensive, yet Taman Duta is not among the highest number of properties marketed in this website.\n",
        "\n",
        "3. Hence, we conclude that there is much more factor influencing the number of properties based on the location in this website. Clearly, not just because of the price. \n",
        "\n",
        "\n",
        "\n",
        "> **Property price does not mainly influence the number of properties being marketed in a location.**\n",
        "\n",
        "\n",
        "\n",
        "---\n",
        "\n",
        "\n",
        "\n",
        "\n",
        "1.   Next, to compare, land area properties display longer [box plot](#scrollTo=HHUZNaTrQxFE&line=1&uniqifier=1) than built-up which means that land area has more dispersed data. Built-ups has median value near 2.5 bathrooms and some values outlies from 5 to 10 bathrooms.\n",
        "2.   However, for the land area, the median is located slightly higher than built-up which is nearly 5. The maximum value is much higher and less outliers are shown compared to built-ups.\n",
        "\n",
        "\n",
        "\n",
        "> **Hence, the data is realistic as land area commonly have a bigger space for more bathrooms than built-ups.**\n",
        "\n",
        "\n",
        "\n",
        "\n",
        "---\n",
        "\n",
        "\n",
        "\n",
        "> **In general, this dataset is not enough if we would like to determine what exactly influences the market property price.**\n",
        "\n",
        "\n",
        "\n",
        "\n",
        "\n",
        "\n",
        "\n",
        "\n",
        "\n",
        "\n",
        "\n",
        "\n",
        "\n",
        "\n",
        "\n",
        "\n",
        "\n",
        "\n",
        "\n",
        "\n",
        "\n",
        "\n",
        "\n"
      ],
      "metadata": {
        "id": "wtnv8cyiFA8G"
      }
    },
    {
      "cell_type": "markdown",
      "metadata": {
        "id": "xfuc6sJgVJKA"
      },
      "source": [
        "# **References and Future Work**"
      ]
    },
    {
      "cell_type": "markdown",
      "source": [
        "In the future projects, we would like to search for more dataset and information about the possible factors that affect the property price as well as the reason behind the huge amount of marketed properties in this website. "
      ],
      "metadata": {
        "id": "r_WumcmNn2jh"
      }
    },
    {
      "cell_type": "markdown",
      "source": [
        "References:\n",
        "\n",
        "1.   [Pandas Guide](https://pandas.pydata.org/docs/user_guide/text.html)\n",
        "2.   [Data Visualization Guide](https://www.analyticsvidhya.com/blog/2021/02/an-intuitive-guide-to-visualization-in-python/)\n",
        "2.   [Dataset](https://www.kaggle.com/datasets/dragonduck/property-listings-in-kuala-lumpur)\n",
        "\n"
      ],
      "metadata": {
        "id": "RzT_zOHooxSF"
      }
    }
  ],
  "metadata": {
    "kernelspec": {
      "display_name": "Python 3",
      "language": "python",
      "name": "python3"
    },
    "language_info": {
      "codemirror_mode": {
        "name": "ipython",
        "version": 3
      },
      "file_extension": ".py",
      "mimetype": "text/x-python",
      "name": "python",
      "nbconvert_exporter": "python",
      "pygments_lexer": "ipython3",
      "version": "3.8.5"
    },
    "colab": {
      "provenance": [],
      "include_colab_link": true
    }
  },
  "nbformat": 4,
  "nbformat_minor": 0
}