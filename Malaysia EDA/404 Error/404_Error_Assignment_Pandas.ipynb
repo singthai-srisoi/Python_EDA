{
  "cells": [
    {
      "cell_type": "markdown",
      "metadata": {
        "id": "view-in-github",
        "colab_type": "text"
      },
      "source": [
        "<a href=\"https://colab.research.google.com/github/drshahizan/Python_EDA/blob/main/Malaysia%20EDA/404%20Error/404_Error_Assignment_Pandas.ipynb\" target=\"_parent\"><img src=\"https://colab.research.google.com/assets/colab-badge.svg\" alt=\"Open In Colab\"/></a>"
      ]
    },
    {
      "cell_type": "markdown",
      "metadata": {
        "id": "7F8DQl5dVJJ0"
      },
      "source": [
        "# Property in Kuala Lumpur\n",
        "\n",
        "This project is about an exploratory data analysis (EDA) on the properties in Kuala Lumpur. The dataset ```kl_properties.csv``` contains the data of properties in Kuala Lumpur area. The dataset is obtained from [Kaggle](https://www.kaggle.com/datasets/thajegan76/real-estate-kuala-lumpur-malaysia). It contains data including pricing, size, number of bedrooms, bathrooms and the specific area in Kuala Lumpur. We used Pandas, Numpy, SciPy, Seaborn, Matplolib and Plotly to do processing, cleaning, analysis and visualization on the data.\n",
        "<br><br>\n",
        "**Group Members:**\n",
        "1. **ONG HAN WAH (A20EC0129)**\n",
        "2. **SINGTHAI SRISOI (A20EC0147)**"
      ]
    },
    {
      "cell_type": "markdown",
      "metadata": {
        "id": "LxWzVndBVJJ1"
      },
      "source": [
        "## Downloading the Dataset\n",
        "\n",
        "The dataset can be downloaded from https://www.kaggle.com/datasets/thajegan76/real-estate-kuala-lumpur-malaysia.\n",
        "\n",
        "The dataset is also uploaded to [Github](https://raw.githubusercontent.com/drshahizan/Python_EDA/main/Malaysia%20EDA/404%20Error/kl_properties.csv). In this project, we will link the dataset from Github."
      ]
    },
    {
      "cell_type": "markdown",
      "metadata": {
        "id": "XXnPmr-JVJJ3"
      },
      "source": [
        "__Dataset Attributes with Description:__ <br>\n",
        "\n",
        "The dataset has 7791 rows and 7 columns\n",
        "\n",
        "|Attribute|Description|\n",
        "|:--------|:----------|\n",
        "|`Title`|Title of property|\n",
        "|`Price`|Price of property in ringit Malaysia|\n",
        "|`Area`|Location of property in which area of Kuala Lumpur|\n",
        "|`Category`|Category of property|\n",
        "|`Size`|Size of property in unit square feet|\n",
        "|`Bedrooms`|Number of bedroom|\n",
        "|`Bathrooms`|Number of bathroom|"
      ]
    },
    {
      "cell_type": "markdown",
      "metadata": {
        "id": "u0vucnGFVJJ5"
      },
      "source": [
        "## Data Preparation and Cleaning\n",
        "\n"
      ]
    },
    {
      "cell_type": "markdown",
      "source": [
        "Before we proceed to the analysis of data, we must process and clean the data. In this section, we handle missing, incorrect or invalid data. We also remove irrelevant data and convert data types."
      ],
      "metadata": {
        "id": "LghENkZs74Wy"
      }
    },
    {
      "cell_type": "markdown",
      "source": [
        "First, import the Pandas and Numpy library."
      ],
      "metadata": {
        "id": "Cqqy-q446Ncg"
      }
    },
    {
      "cell_type": "code",
      "source": [
        "import pandas as pd\n",
        "import numpy as np"
      ],
      "metadata": {
        "id": "9g5LS8RB6XoI"
      },
      "execution_count": null,
      "outputs": []
    },
    {
      "cell_type": "markdown",
      "source": [
        "#### Loading data using pandas"
      ],
      "metadata": {
        "id": "KtertKWKxM5O"
      }
    },
    {
      "cell_type": "code",
      "execution_count": null,
      "metadata": {
        "id": "df5R-2s3VJJ5"
      },
      "outputs": [],
      "source": [
        "datafile = 'https://raw.githubusercontent.com/drshahizan/Python_EDA/main/Malaysia%20EDA/404%20Error/kl_properties.csv'\n",
        "df = pd.read_csv(datafile)"
      ]
    },
    {
      "cell_type": "markdown",
      "source": [
        "#### The first 5 row of the data"
      ],
      "metadata": {
        "id": "dMBwFS7Exn6R"
      }
    },
    {
      "cell_type": "code",
      "execution_count": null,
      "metadata": {
        "id": "t26lvNVLVJJ5",
        "colab": {
          "base_uri": "https://localhost:8080/",
          "height": 206
        },
        "outputId": "a0e8deeb-3d61-4447-82bd-dbd072d8883e"
      },
      "outputs": [
        {
          "output_type": "execute_result",
          "data": {
            "text/plain": [
              "                                               Title       Price    Area  \\\n",
              "0  M City Serviced Residence Jalan Ampang 886sf, ...  RM 690 000  AMPANG   \n",
              "1  Cheapest fully furnished suria jelatek residen...  RM 420 000  AMPANG   \n",
              "2  3bed 2bath Suria Jelatek Condo 5 min to LRT an...  RM 420 000  AMPANG   \n",
              "3  [30% Below,1037sf] Direct Subsale not Auction!...  RM 568 444  AMPANG   \n",
              "4  HOT area | Tiara Ampang | Near Ampang Point | ...  RM 618 000  AMPANG   \n",
              "\n",
              "     Category         Size    Bedrooms    Bathrooms  \n",
              "0  Apartments   886 sq.ft.  2 Bedrooms  2 Bathrooms  \n",
              "1  Apartments   858 sq.ft.  3 Bedrooms  2 Bathrooms  \n",
              "2  Apartments   860 sq.ft.  3 Bedrooms  2 Bathrooms  \n",
              "3  Apartments  1037 sq.ft.  3 Bedrooms  2 Bathrooms  \n",
              "4  Apartments  1650 sq.ft.  4 Bedrooms  2 Bathrooms  "
            ],
            "text/html": [
              "\n",
              "  <div id=\"df-eb3107f6-4ae6-454a-b433-fbc8e133ad16\">\n",
              "    <div class=\"colab-df-container\">\n",
              "      <div>\n",
              "<style scoped>\n",
              "    .dataframe tbody tr th:only-of-type {\n",
              "        vertical-align: middle;\n",
              "    }\n",
              "\n",
              "    .dataframe tbody tr th {\n",
              "        vertical-align: top;\n",
              "    }\n",
              "\n",
              "    .dataframe thead th {\n",
              "        text-align: right;\n",
              "    }\n",
              "</style>\n",
              "<table border=\"1\" class=\"dataframe\">\n",
              "  <thead>\n",
              "    <tr style=\"text-align: right;\">\n",
              "      <th></th>\n",
              "      <th>Title</th>\n",
              "      <th>Price</th>\n",
              "      <th>Area</th>\n",
              "      <th>Category</th>\n",
              "      <th>Size</th>\n",
              "      <th>Bedrooms</th>\n",
              "      <th>Bathrooms</th>\n",
              "    </tr>\n",
              "  </thead>\n",
              "  <tbody>\n",
              "    <tr>\n",
              "      <th>0</th>\n",
              "      <td>M City Serviced Residence Jalan Ampang 886sf, ...</td>\n",
              "      <td>RM 690 000</td>\n",
              "      <td>AMPANG</td>\n",
              "      <td>Apartments</td>\n",
              "      <td>886 sq.ft.</td>\n",
              "      <td>2 Bedrooms</td>\n",
              "      <td>2 Bathrooms</td>\n",
              "    </tr>\n",
              "    <tr>\n",
              "      <th>1</th>\n",
              "      <td>Cheapest fully furnished suria jelatek residen...</td>\n",
              "      <td>RM 420 000</td>\n",
              "      <td>AMPANG</td>\n",
              "      <td>Apartments</td>\n",
              "      <td>858 sq.ft.</td>\n",
              "      <td>3 Bedrooms</td>\n",
              "      <td>2 Bathrooms</td>\n",
              "    </tr>\n",
              "    <tr>\n",
              "      <th>2</th>\n",
              "      <td>3bed 2bath Suria Jelatek Condo 5 min to LRT an...</td>\n",
              "      <td>RM 420 000</td>\n",
              "      <td>AMPANG</td>\n",
              "      <td>Apartments</td>\n",
              "      <td>860 sq.ft.</td>\n",
              "      <td>3 Bedrooms</td>\n",
              "      <td>2 Bathrooms</td>\n",
              "    </tr>\n",
              "    <tr>\n",
              "      <th>3</th>\n",
              "      <td>[30% Below,1037sf] Direct Subsale not Auction!...</td>\n",
              "      <td>RM 568 444</td>\n",
              "      <td>AMPANG</td>\n",
              "      <td>Apartments</td>\n",
              "      <td>1037 sq.ft.</td>\n",
              "      <td>3 Bedrooms</td>\n",
              "      <td>2 Bathrooms</td>\n",
              "    </tr>\n",
              "    <tr>\n",
              "      <th>4</th>\n",
              "      <td>HOT area | Tiara Ampang | Near Ampang Point | ...</td>\n",
              "      <td>RM 618 000</td>\n",
              "      <td>AMPANG</td>\n",
              "      <td>Apartments</td>\n",
              "      <td>1650 sq.ft.</td>\n",
              "      <td>4 Bedrooms</td>\n",
              "      <td>2 Bathrooms</td>\n",
              "    </tr>\n",
              "  </tbody>\n",
              "</table>\n",
              "</div>\n",
              "      <button class=\"colab-df-convert\" onclick=\"convertToInteractive('df-eb3107f6-4ae6-454a-b433-fbc8e133ad16')\"\n",
              "              title=\"Convert this dataframe to an interactive table.\"\n",
              "              style=\"display:none;\">\n",
              "        \n",
              "  <svg xmlns=\"http://www.w3.org/2000/svg\" height=\"24px\"viewBox=\"0 0 24 24\"\n",
              "       width=\"24px\">\n",
              "    <path d=\"M0 0h24v24H0V0z\" fill=\"none\"/>\n",
              "    <path d=\"M18.56 5.44l.94 2.06.94-2.06 2.06-.94-2.06-.94-.94-2.06-.94 2.06-2.06.94zm-11 1L8.5 8.5l.94-2.06 2.06-.94-2.06-.94L8.5 2.5l-.94 2.06-2.06.94zm10 10l.94 2.06.94-2.06 2.06-.94-2.06-.94-.94-2.06-.94 2.06-2.06.94z\"/><path d=\"M17.41 7.96l-1.37-1.37c-.4-.4-.92-.59-1.43-.59-.52 0-1.04.2-1.43.59L10.3 9.45l-7.72 7.72c-.78.78-.78 2.05 0 2.83L4 21.41c.39.39.9.59 1.41.59.51 0 1.02-.2 1.41-.59l7.78-7.78 2.81-2.81c.8-.78.8-2.07 0-2.86zM5.41 20L4 18.59l7.72-7.72 1.47 1.35L5.41 20z\"/>\n",
              "  </svg>\n",
              "      </button>\n",
              "      \n",
              "  <style>\n",
              "    .colab-df-container {\n",
              "      display:flex;\n",
              "      flex-wrap:wrap;\n",
              "      gap: 12px;\n",
              "    }\n",
              "\n",
              "    .colab-df-convert {\n",
              "      background-color: #E8F0FE;\n",
              "      border: none;\n",
              "      border-radius: 50%;\n",
              "      cursor: pointer;\n",
              "      display: none;\n",
              "      fill: #1967D2;\n",
              "      height: 32px;\n",
              "      padding: 0 0 0 0;\n",
              "      width: 32px;\n",
              "    }\n",
              "\n",
              "    .colab-df-convert:hover {\n",
              "      background-color: #E2EBFA;\n",
              "      box-shadow: 0px 1px 2px rgba(60, 64, 67, 0.3), 0px 1px 3px 1px rgba(60, 64, 67, 0.15);\n",
              "      fill: #174EA6;\n",
              "    }\n",
              "\n",
              "    [theme=dark] .colab-df-convert {\n",
              "      background-color: #3B4455;\n",
              "      fill: #D2E3FC;\n",
              "    }\n",
              "\n",
              "    [theme=dark] .colab-df-convert:hover {\n",
              "      background-color: #434B5C;\n",
              "      box-shadow: 0px 1px 3px 1px rgba(0, 0, 0, 0.15);\n",
              "      filter: drop-shadow(0px 1px 2px rgba(0, 0, 0, 0.3));\n",
              "      fill: #FFFFFF;\n",
              "    }\n",
              "  </style>\n",
              "\n",
              "      <script>\n",
              "        const buttonEl =\n",
              "          document.querySelector('#df-eb3107f6-4ae6-454a-b433-fbc8e133ad16 button.colab-df-convert');\n",
              "        buttonEl.style.display =\n",
              "          google.colab.kernel.accessAllowed ? 'block' : 'none';\n",
              "\n",
              "        async function convertToInteractive(key) {\n",
              "          const element = document.querySelector('#df-eb3107f6-4ae6-454a-b433-fbc8e133ad16');\n",
              "          const dataTable =\n",
              "            await google.colab.kernel.invokeFunction('convertToInteractive',\n",
              "                                                     [key], {});\n",
              "          if (!dataTable) return;\n",
              "\n",
              "          const docLinkHtml = 'Like what you see? Visit the ' +\n",
              "            '<a target=\"_blank\" href=https://colab.research.google.com/notebooks/data_table.ipynb>data table notebook</a>'\n",
              "            + ' to learn more about interactive tables.';\n",
              "          element.innerHTML = '';\n",
              "          dataTable['output_type'] = 'display_data';\n",
              "          await google.colab.output.renderOutput(dataTable, element);\n",
              "          const docLink = document.createElement('div');\n",
              "          docLink.innerHTML = docLinkHtml;\n",
              "          element.appendChild(docLink);\n",
              "        }\n",
              "      </script>\n",
              "    </div>\n",
              "  </div>\n",
              "  "
            ]
          },
          "metadata": {},
          "execution_count": 3
        }
      ],
      "source": [
        "df.head()"
      ]
    },
    {
      "cell_type": "markdown",
      "source": [
        "#### Number of row, column, range"
      ],
      "metadata": {
        "id": "W1LvNsOCxxOH"
      }
    },
    {
      "cell_type": "code",
      "execution_count": null,
      "metadata": {
        "id": "KribcC_XVJJ5",
        "colab": {
          "base_uri": "https://localhost:8080/"
        },
        "outputId": "19960b90-312d-4b86-a9cf-20a14304940b"
      },
      "outputs": [
        {
          "output_type": "stream",
          "name": "stdout",
          "text": [
            "<class 'pandas.core.frame.DataFrame'>\n",
            "RangeIndex: 7791 entries, 0 to 7790\n",
            "Data columns (total 7 columns):\n",
            " #   Column     Non-Null Count  Dtype \n",
            "---  ------     --------------  ----- \n",
            " 0   Title      7791 non-null   object\n",
            " 1   Price      7791 non-null   object\n",
            " 2   Area       7791 non-null   object\n",
            " 3   Category   7791 non-null   object\n",
            " 4   Size       7791 non-null   object\n",
            " 5   Bedrooms   7791 non-null   object\n",
            " 6   Bathrooms  7791 non-null   object\n",
            "dtypes: object(7)\n",
            "memory usage: 426.2+ KB\n"
          ]
        }
      ],
      "source": [
        "df.info()"
      ]
    },
    {
      "cell_type": "markdown",
      "source": [
        "#### Check if NaN exist"
      ],
      "metadata": {
        "id": "Uq6AqZyPyZLw"
      }
    },
    {
      "cell_type": "code",
      "execution_count": null,
      "metadata": {
        "id": "7mUpY22aVJJ6",
        "colab": {
          "base_uri": "https://localhost:8080/"
        },
        "outputId": "8550fc75-f41a-4af2-a253-ea2614c5b555"
      },
      "outputs": [
        {
          "output_type": "execute_result",
          "data": {
            "text/plain": [
              "Title        0\n",
              "Price        0\n",
              "Area         0\n",
              "Category     0\n",
              "Size         0\n",
              "Bedrooms     0\n",
              "Bathrooms    0\n",
              "dtype: int64"
            ]
          },
          "metadata": {},
          "execution_count": 5
        }
      ],
      "source": [
        "df.isnull().sum(axis=0)"
      ]
    },
    {
      "cell_type": "markdown",
      "source": [
        "#### Drop unwanted column"
      ],
      "metadata": {
        "id": "llpAoUDGyfsf"
      }
    },
    {
      "cell_type": "code",
      "execution_count": null,
      "metadata": {
        "id": "h46ilQakVJJ6",
        "colab": {
          "base_uri": "https://localhost:8080/",
          "height": 206
        },
        "outputId": "b8b4c262-c1a5-4d02-f392-90c00cf77503"
      },
      "outputs": [
        {
          "output_type": "execute_result",
          "data": {
            "text/plain": [
              "        Price    Area    Category         Size    Bedrooms    Bathrooms\n",
              "0  RM 690 000  AMPANG  Apartments   886 sq.ft.  2 Bedrooms  2 Bathrooms\n",
              "1  RM 420 000  AMPANG  Apartments   858 sq.ft.  3 Bedrooms  2 Bathrooms\n",
              "2  RM 420 000  AMPANG  Apartments   860 sq.ft.  3 Bedrooms  2 Bathrooms\n",
              "3  RM 568 444  AMPANG  Apartments  1037 sq.ft.  3 Bedrooms  2 Bathrooms\n",
              "4  RM 618 000  AMPANG  Apartments  1650 sq.ft.  4 Bedrooms  2 Bathrooms"
            ],
            "text/html": [
              "\n",
              "  <div id=\"df-5f66c298-2759-45f6-87d3-6c70eec8622d\">\n",
              "    <div class=\"colab-df-container\">\n",
              "      <div>\n",
              "<style scoped>\n",
              "    .dataframe tbody tr th:only-of-type {\n",
              "        vertical-align: middle;\n",
              "    }\n",
              "\n",
              "    .dataframe tbody tr th {\n",
              "        vertical-align: top;\n",
              "    }\n",
              "\n",
              "    .dataframe thead th {\n",
              "        text-align: right;\n",
              "    }\n",
              "</style>\n",
              "<table border=\"1\" class=\"dataframe\">\n",
              "  <thead>\n",
              "    <tr style=\"text-align: right;\">\n",
              "      <th></th>\n",
              "      <th>Price</th>\n",
              "      <th>Area</th>\n",
              "      <th>Category</th>\n",
              "      <th>Size</th>\n",
              "      <th>Bedrooms</th>\n",
              "      <th>Bathrooms</th>\n",
              "    </tr>\n",
              "  </thead>\n",
              "  <tbody>\n",
              "    <tr>\n",
              "      <th>0</th>\n",
              "      <td>RM 690 000</td>\n",
              "      <td>AMPANG</td>\n",
              "      <td>Apartments</td>\n",
              "      <td>886 sq.ft.</td>\n",
              "      <td>2 Bedrooms</td>\n",
              "      <td>2 Bathrooms</td>\n",
              "    </tr>\n",
              "    <tr>\n",
              "      <th>1</th>\n",
              "      <td>RM 420 000</td>\n",
              "      <td>AMPANG</td>\n",
              "      <td>Apartments</td>\n",
              "      <td>858 sq.ft.</td>\n",
              "      <td>3 Bedrooms</td>\n",
              "      <td>2 Bathrooms</td>\n",
              "    </tr>\n",
              "    <tr>\n",
              "      <th>2</th>\n",
              "      <td>RM 420 000</td>\n",
              "      <td>AMPANG</td>\n",
              "      <td>Apartments</td>\n",
              "      <td>860 sq.ft.</td>\n",
              "      <td>3 Bedrooms</td>\n",
              "      <td>2 Bathrooms</td>\n",
              "    </tr>\n",
              "    <tr>\n",
              "      <th>3</th>\n",
              "      <td>RM 568 444</td>\n",
              "      <td>AMPANG</td>\n",
              "      <td>Apartments</td>\n",
              "      <td>1037 sq.ft.</td>\n",
              "      <td>3 Bedrooms</td>\n",
              "      <td>2 Bathrooms</td>\n",
              "    </tr>\n",
              "    <tr>\n",
              "      <th>4</th>\n",
              "      <td>RM 618 000</td>\n",
              "      <td>AMPANG</td>\n",
              "      <td>Apartments</td>\n",
              "      <td>1650 sq.ft.</td>\n",
              "      <td>4 Bedrooms</td>\n",
              "      <td>2 Bathrooms</td>\n",
              "    </tr>\n",
              "  </tbody>\n",
              "</table>\n",
              "</div>\n",
              "      <button class=\"colab-df-convert\" onclick=\"convertToInteractive('df-5f66c298-2759-45f6-87d3-6c70eec8622d')\"\n",
              "              title=\"Convert this dataframe to an interactive table.\"\n",
              "              style=\"display:none;\">\n",
              "        \n",
              "  <svg xmlns=\"http://www.w3.org/2000/svg\" height=\"24px\"viewBox=\"0 0 24 24\"\n",
              "       width=\"24px\">\n",
              "    <path d=\"M0 0h24v24H0V0z\" fill=\"none\"/>\n",
              "    <path d=\"M18.56 5.44l.94 2.06.94-2.06 2.06-.94-2.06-.94-.94-2.06-.94 2.06-2.06.94zm-11 1L8.5 8.5l.94-2.06 2.06-.94-2.06-.94L8.5 2.5l-.94 2.06-2.06.94zm10 10l.94 2.06.94-2.06 2.06-.94-2.06-.94-.94-2.06-.94 2.06-2.06.94z\"/><path d=\"M17.41 7.96l-1.37-1.37c-.4-.4-.92-.59-1.43-.59-.52 0-1.04.2-1.43.59L10.3 9.45l-7.72 7.72c-.78.78-.78 2.05 0 2.83L4 21.41c.39.39.9.59 1.41.59.51 0 1.02-.2 1.41-.59l7.78-7.78 2.81-2.81c.8-.78.8-2.07 0-2.86zM5.41 20L4 18.59l7.72-7.72 1.47 1.35L5.41 20z\"/>\n",
              "  </svg>\n",
              "      </button>\n",
              "      \n",
              "  <style>\n",
              "    .colab-df-container {\n",
              "      display:flex;\n",
              "      flex-wrap:wrap;\n",
              "      gap: 12px;\n",
              "    }\n",
              "\n",
              "    .colab-df-convert {\n",
              "      background-color: #E8F0FE;\n",
              "      border: none;\n",
              "      border-radius: 50%;\n",
              "      cursor: pointer;\n",
              "      display: none;\n",
              "      fill: #1967D2;\n",
              "      height: 32px;\n",
              "      padding: 0 0 0 0;\n",
              "      width: 32px;\n",
              "    }\n",
              "\n",
              "    .colab-df-convert:hover {\n",
              "      background-color: #E2EBFA;\n",
              "      box-shadow: 0px 1px 2px rgba(60, 64, 67, 0.3), 0px 1px 3px 1px rgba(60, 64, 67, 0.15);\n",
              "      fill: #174EA6;\n",
              "    }\n",
              "\n",
              "    [theme=dark] .colab-df-convert {\n",
              "      background-color: #3B4455;\n",
              "      fill: #D2E3FC;\n",
              "    }\n",
              "\n",
              "    [theme=dark] .colab-df-convert:hover {\n",
              "      background-color: #434B5C;\n",
              "      box-shadow: 0px 1px 3px 1px rgba(0, 0, 0, 0.15);\n",
              "      filter: drop-shadow(0px 1px 2px rgba(0, 0, 0, 0.3));\n",
              "      fill: #FFFFFF;\n",
              "    }\n",
              "  </style>\n",
              "\n",
              "      <script>\n",
              "        const buttonEl =\n",
              "          document.querySelector('#df-5f66c298-2759-45f6-87d3-6c70eec8622d button.colab-df-convert');\n",
              "        buttonEl.style.display =\n",
              "          google.colab.kernel.accessAllowed ? 'block' : 'none';\n",
              "\n",
              "        async function convertToInteractive(key) {\n",
              "          const element = document.querySelector('#df-5f66c298-2759-45f6-87d3-6c70eec8622d');\n",
              "          const dataTable =\n",
              "            await google.colab.kernel.invokeFunction('convertToInteractive',\n",
              "                                                     [key], {});\n",
              "          if (!dataTable) return;\n",
              "\n",
              "          const docLinkHtml = 'Like what you see? Visit the ' +\n",
              "            '<a target=\"_blank\" href=https://colab.research.google.com/notebooks/data_table.ipynb>data table notebook</a>'\n",
              "            + ' to learn more about interactive tables.';\n",
              "          element.innerHTML = '';\n",
              "          dataTable['output_type'] = 'display_data';\n",
              "          await google.colab.output.renderOutput(dataTable, element);\n",
              "          const docLink = document.createElement('div');\n",
              "          docLink.innerHTML = docLinkHtml;\n",
              "          element.appendChild(docLink);\n",
              "        }\n",
              "      </script>\n",
              "    </div>\n",
              "  </div>\n",
              "  "
            ]
          },
          "metadata": {},
          "execution_count": 6
        }
      ],
      "source": [
        "df.drop('Title', axis='columns',inplace=True)\n",
        "df.head()"
      ]
    },
    {
      "cell_type": "markdown",
      "source": [
        "#### Futher preprocessing\n",
        "\n",
        "We cast the data type into the type we want. For example we remove the 'RM' unit int the 'Price' column and cast it into integer. We also removed some data that is too small or too big."
      ],
      "metadata": {
        "id": "1fn83bXvwlHW"
      }
    },
    {
      "cell_type": "code",
      "execution_count": null,
      "metadata": {
        "id": "cfcSY6YSVJJ6",
        "colab": {
          "base_uri": "https://localhost:8080/"
        },
        "outputId": "158ff4cc-5dd2-4e6e-bf34-ac058b0781dc"
      },
      "outputs": [
        {
          "output_type": "stream",
          "name": "stderr",
          "text": [
            "<ipython-input-7-6ea5ea6e8b88>:7: FutureWarning: The default value of regex will change from True to False in a future version.\n",
            "  df['Size'] = df['Size'].str.replace(' sq.ft.', '')\n"
          ]
        }
      ],
      "source": [
        "# remove 'RM' sign in 'Price' column and cast the type into int64\n",
        "df['Price'] = df['Price'].str.replace('RM ', '')\n",
        "df['Price'] = df['Price'].str.replace(' ', '')\n",
        "df['Price'] = df['Price'].astype('int64')\n",
        "\n",
        "# remove the unit 'sq.ft.' in 'Size' column and cast into int64\n",
        "df['Size'] = df['Size'].str.replace(' sq.ft.', '')\n",
        "df['Size'] = df['Size'].astype('int64')\n",
        "# remove data which size is too small or too big\n",
        "df.drop(df[(df['Size'] <= 10) | (df['Size'] > 100000)].index, axis='index', inplace=True)\n",
        "\n",
        "# remove unit 'Bedrooms' in column 'Bedrooms' and cast into int32\n",
        "df['Bedrooms'] = df['Bedrooms'].str.replace(' Bedrooms', '')\n",
        "df['Bedrooms'] = df['Bedrooms'].str.replace(' Bedroom', '')\n",
        "df['Bedrooms'] = df['Bedrooms'].str.replace('More than 10', '10')\n",
        "df['Bedrooms'] = df['Bedrooms'].astype('int32')\n",
        "\n",
        "# remove unit 'Bathrooms' in column 'Bathrooms' and cast into int32\n",
        "df['Bathrooms'] = df['Bathrooms'].str.replace(' Bathrooms', '')\n",
        "df['Bathrooms'] = df['Bathrooms'].str.replace(' Bathroom', '')\n",
        "df['Bathrooms'] = df['Bathrooms'].str.replace('More than 10', '10')\n",
        "df['Bathrooms'] = df['Bathrooms'].astype('int32')"
      ]
    },
    {
      "cell_type": "code",
      "execution_count": null,
      "metadata": {
        "id": "HsDyuPIgVJJ6",
        "colab": {
          "base_uri": "https://localhost:8080/"
        },
        "outputId": "ed6823d8-ccc5-4b41-f80f-538da37c77c8"
      },
      "outputs": [
        {
          "output_type": "stream",
          "name": "stdout",
          "text": [
            "<class 'pandas.core.frame.DataFrame'>\n",
            "Int64Index: 7780 entries, 0 to 7790\n",
            "Data columns (total 6 columns):\n",
            " #   Column     Non-Null Count  Dtype \n",
            "---  ------     --------------  ----- \n",
            " 0   Price      7780 non-null   int64 \n",
            " 1   Area       7780 non-null   object\n",
            " 2   Category   7780 non-null   object\n",
            " 3   Size       7780 non-null   int64 \n",
            " 4   Bedrooms   7780 non-null   int32 \n",
            " 5   Bathrooms  7780 non-null   int32 \n",
            "dtypes: int32(2), int64(2), object(2)\n",
            "memory usage: 364.7+ KB\n"
          ]
        }
      ],
      "source": [
        "df.info()"
      ]
    },
    {
      "cell_type": "code",
      "execution_count": null,
      "metadata": {
        "id": "1Et9QhCbVJJ6",
        "colab": {
          "base_uri": "https://localhost:8080/",
          "height": 363
        },
        "outputId": "97ebdf0a-f0f2-495e-85ce-59bb13797d84"
      },
      "outputs": [
        {
          "output_type": "execute_result",
          "data": {
            "text/plain": [
              "    Price    Area    Category  Size  Bedrooms  Bathrooms\n",
              "0  690000  AMPANG  Apartments   886         2          2\n",
              "1  420000  AMPANG  Apartments   858         3          2\n",
              "2  420000  AMPANG  Apartments   860         3          2\n",
              "3  568444  AMPANG  Apartments  1037         3          2\n",
              "4  618000  AMPANG  Apartments  1650         4          2\n",
              "5  428000  AMPANG  Apartments  1250         4          2\n",
              "6  450000  AMPANG  Apartments   705         1          1\n",
              "7  368000  AMPANG  Apartments   957         3          2\n",
              "8  525000  AMPANG  Apartments  1420         3          2\n",
              "9  680000  AMPANG  Apartments  1865         5          4"
            ],
            "text/html": [
              "\n",
              "  <div id=\"df-98328909-d925-496e-9526-55dbdf5ea723\">\n",
              "    <div class=\"colab-df-container\">\n",
              "      <div>\n",
              "<style scoped>\n",
              "    .dataframe tbody tr th:only-of-type {\n",
              "        vertical-align: middle;\n",
              "    }\n",
              "\n",
              "    .dataframe tbody tr th {\n",
              "        vertical-align: top;\n",
              "    }\n",
              "\n",
              "    .dataframe thead th {\n",
              "        text-align: right;\n",
              "    }\n",
              "</style>\n",
              "<table border=\"1\" class=\"dataframe\">\n",
              "  <thead>\n",
              "    <tr style=\"text-align: right;\">\n",
              "      <th></th>\n",
              "      <th>Price</th>\n",
              "      <th>Area</th>\n",
              "      <th>Category</th>\n",
              "      <th>Size</th>\n",
              "      <th>Bedrooms</th>\n",
              "      <th>Bathrooms</th>\n",
              "    </tr>\n",
              "  </thead>\n",
              "  <tbody>\n",
              "    <tr>\n",
              "      <th>0</th>\n",
              "      <td>690000</td>\n",
              "      <td>AMPANG</td>\n",
              "      <td>Apartments</td>\n",
              "      <td>886</td>\n",
              "      <td>2</td>\n",
              "      <td>2</td>\n",
              "    </tr>\n",
              "    <tr>\n",
              "      <th>1</th>\n",
              "      <td>420000</td>\n",
              "      <td>AMPANG</td>\n",
              "      <td>Apartments</td>\n",
              "      <td>858</td>\n",
              "      <td>3</td>\n",
              "      <td>2</td>\n",
              "    </tr>\n",
              "    <tr>\n",
              "      <th>2</th>\n",
              "      <td>420000</td>\n",
              "      <td>AMPANG</td>\n",
              "      <td>Apartments</td>\n",
              "      <td>860</td>\n",
              "      <td>3</td>\n",
              "      <td>2</td>\n",
              "    </tr>\n",
              "    <tr>\n",
              "      <th>3</th>\n",
              "      <td>568444</td>\n",
              "      <td>AMPANG</td>\n",
              "      <td>Apartments</td>\n",
              "      <td>1037</td>\n",
              "      <td>3</td>\n",
              "      <td>2</td>\n",
              "    </tr>\n",
              "    <tr>\n",
              "      <th>4</th>\n",
              "      <td>618000</td>\n",
              "      <td>AMPANG</td>\n",
              "      <td>Apartments</td>\n",
              "      <td>1650</td>\n",
              "      <td>4</td>\n",
              "      <td>2</td>\n",
              "    </tr>\n",
              "    <tr>\n",
              "      <th>5</th>\n",
              "      <td>428000</td>\n",
              "      <td>AMPANG</td>\n",
              "      <td>Apartments</td>\n",
              "      <td>1250</td>\n",
              "      <td>4</td>\n",
              "      <td>2</td>\n",
              "    </tr>\n",
              "    <tr>\n",
              "      <th>6</th>\n",
              "      <td>450000</td>\n",
              "      <td>AMPANG</td>\n",
              "      <td>Apartments</td>\n",
              "      <td>705</td>\n",
              "      <td>1</td>\n",
              "      <td>1</td>\n",
              "    </tr>\n",
              "    <tr>\n",
              "      <th>7</th>\n",
              "      <td>368000</td>\n",
              "      <td>AMPANG</td>\n",
              "      <td>Apartments</td>\n",
              "      <td>957</td>\n",
              "      <td>3</td>\n",
              "      <td>2</td>\n",
              "    </tr>\n",
              "    <tr>\n",
              "      <th>8</th>\n",
              "      <td>525000</td>\n",
              "      <td>AMPANG</td>\n",
              "      <td>Apartments</td>\n",
              "      <td>1420</td>\n",
              "      <td>3</td>\n",
              "      <td>2</td>\n",
              "    </tr>\n",
              "    <tr>\n",
              "      <th>9</th>\n",
              "      <td>680000</td>\n",
              "      <td>AMPANG</td>\n",
              "      <td>Apartments</td>\n",
              "      <td>1865</td>\n",
              "      <td>5</td>\n",
              "      <td>4</td>\n",
              "    </tr>\n",
              "  </tbody>\n",
              "</table>\n",
              "</div>\n",
              "      <button class=\"colab-df-convert\" onclick=\"convertToInteractive('df-98328909-d925-496e-9526-55dbdf5ea723')\"\n",
              "              title=\"Convert this dataframe to an interactive table.\"\n",
              "              style=\"display:none;\">\n",
              "        \n",
              "  <svg xmlns=\"http://www.w3.org/2000/svg\" height=\"24px\"viewBox=\"0 0 24 24\"\n",
              "       width=\"24px\">\n",
              "    <path d=\"M0 0h24v24H0V0z\" fill=\"none\"/>\n",
              "    <path d=\"M18.56 5.44l.94 2.06.94-2.06 2.06-.94-2.06-.94-.94-2.06-.94 2.06-2.06.94zm-11 1L8.5 8.5l.94-2.06 2.06-.94-2.06-.94L8.5 2.5l-.94 2.06-2.06.94zm10 10l.94 2.06.94-2.06 2.06-.94-2.06-.94-.94-2.06-.94 2.06-2.06.94z\"/><path d=\"M17.41 7.96l-1.37-1.37c-.4-.4-.92-.59-1.43-.59-.52 0-1.04.2-1.43.59L10.3 9.45l-7.72 7.72c-.78.78-.78 2.05 0 2.83L4 21.41c.39.39.9.59 1.41.59.51 0 1.02-.2 1.41-.59l7.78-7.78 2.81-2.81c.8-.78.8-2.07 0-2.86zM5.41 20L4 18.59l7.72-7.72 1.47 1.35L5.41 20z\"/>\n",
              "  </svg>\n",
              "      </button>\n",
              "      \n",
              "  <style>\n",
              "    .colab-df-container {\n",
              "      display:flex;\n",
              "      flex-wrap:wrap;\n",
              "      gap: 12px;\n",
              "    }\n",
              "\n",
              "    .colab-df-convert {\n",
              "      background-color: #E8F0FE;\n",
              "      border: none;\n",
              "      border-radius: 50%;\n",
              "      cursor: pointer;\n",
              "      display: none;\n",
              "      fill: #1967D2;\n",
              "      height: 32px;\n",
              "      padding: 0 0 0 0;\n",
              "      width: 32px;\n",
              "    }\n",
              "\n",
              "    .colab-df-convert:hover {\n",
              "      background-color: #E2EBFA;\n",
              "      box-shadow: 0px 1px 2px rgba(60, 64, 67, 0.3), 0px 1px 3px 1px rgba(60, 64, 67, 0.15);\n",
              "      fill: #174EA6;\n",
              "    }\n",
              "\n",
              "    [theme=dark] .colab-df-convert {\n",
              "      background-color: #3B4455;\n",
              "      fill: #D2E3FC;\n",
              "    }\n",
              "\n",
              "    [theme=dark] .colab-df-convert:hover {\n",
              "      background-color: #434B5C;\n",
              "      box-shadow: 0px 1px 3px 1px rgba(0, 0, 0, 0.15);\n",
              "      filter: drop-shadow(0px 1px 2px rgba(0, 0, 0, 0.3));\n",
              "      fill: #FFFFFF;\n",
              "    }\n",
              "  </style>\n",
              "\n",
              "      <script>\n",
              "        const buttonEl =\n",
              "          document.querySelector('#df-98328909-d925-496e-9526-55dbdf5ea723 button.colab-df-convert');\n",
              "        buttonEl.style.display =\n",
              "          google.colab.kernel.accessAllowed ? 'block' : 'none';\n",
              "\n",
              "        async function convertToInteractive(key) {\n",
              "          const element = document.querySelector('#df-98328909-d925-496e-9526-55dbdf5ea723');\n",
              "          const dataTable =\n",
              "            await google.colab.kernel.invokeFunction('convertToInteractive',\n",
              "                                                     [key], {});\n",
              "          if (!dataTable) return;\n",
              "\n",
              "          const docLinkHtml = 'Like what you see? Visit the ' +\n",
              "            '<a target=\"_blank\" href=https://colab.research.google.com/notebooks/data_table.ipynb>data table notebook</a>'\n",
              "            + ' to learn more about interactive tables.';\n",
              "          element.innerHTML = '';\n",
              "          dataTable['output_type'] = 'display_data';\n",
              "          await google.colab.output.renderOutput(dataTable, element);\n",
              "          const docLink = document.createElement('div');\n",
              "          docLink.innerHTML = docLinkHtml;\n",
              "          element.appendChild(docLink);\n",
              "        }\n",
              "      </script>\n",
              "    </div>\n",
              "  </div>\n",
              "  "
            ]
          },
          "metadata": {},
          "execution_count": 9
        }
      ],
      "source": [
        "df.head(10)"
      ]
    },
    {
      "cell_type": "markdown",
      "metadata": {
        "id": "_0m5LkbVVJJ6"
      },
      "source": [
        "## Exploratory Analysis and Visualization\n",
        "\n",
        "In this step, we start to explore and find the posible way to visualize our data. The goal of this step is to make our data user readable, rather than in table form.\n",
        "\n"
      ]
    },
    {
      "cell_type": "markdown",
      "metadata": {
        "id": "RuPTpsGWVJJ7"
      },
      "source": [
        "Let's begin by importing `plotly`, `matplotlib.pyplot` and `seaborn`."
      ]
    },
    {
      "cell_type": "code",
      "execution_count": null,
      "metadata": {
        "id": "zOTtwqAMVJJ7"
      },
      "outputs": [],
      "source": [
        "import plotly.express as px\n",
        "import seaborn as sns\n",
        "import matplotlib\n",
        "import matplotlib.pyplot as plt\n",
        "%matplotlib inline\n",
        "\n",
        "sns.set_style('darkgrid')\n",
        "matplotlib.rcParams['font.size'] = 14\n",
        "matplotlib.rcParams['figure.figsize'] = (9, 5)\n",
        "matplotlib.rcParams['figure.facecolor'] = '#00000000'"
      ]
    },
    {
      "cell_type": "markdown",
      "source": [
        "#### Descriptive Statistics\n",
        "\n",
        "Use `describe()` to compute and display descriptive statistics summary including the count, mean, standard deviation, percentile, min and max value of each numerical column."
      ],
      "metadata": {
        "id": "JFdhJbKstgWe"
      }
    },
    {
      "cell_type": "code",
      "source": [
        "df.describe()"
      ],
      "metadata": {
        "id": "Fro36IG1tkGm",
        "colab": {
          "base_uri": "https://localhost:8080/",
          "height": 300
        },
        "outputId": "5a022538-4797-4b00-e604-308c7d0f59ee"
      },
      "execution_count": null,
      "outputs": [
        {
          "output_type": "execute_result",
          "data": {
            "text/plain": [
              "              Price          Size     Bedrooms    Bathrooms\n",
              "count  7.780000e+03   7780.000000  7780.000000  7780.000000\n",
              "mean   4.252607e+05    999.486761     2.956427     2.027121\n",
              "std    4.413468e+05    415.789294     0.659581     0.594494\n",
              "min    2.200000e+04     82.000000     1.000000     1.000000\n",
              "25%    2.850000e+05    805.750000     3.000000     2.000000\n",
              "50%    3.724440e+05    948.000000     3.000000     2.000000\n",
              "75%    4.800000e+05   1126.250000     3.000000     2.000000\n",
              "max    2.500000e+07  17000.000000    10.000000    10.000000"
            ],
            "text/html": [
              "\n",
              "  <div id=\"df-3a64c0d9-b432-40ad-97c6-ee827aa9943b\">\n",
              "    <div class=\"colab-df-container\">\n",
              "      <div>\n",
              "<style scoped>\n",
              "    .dataframe tbody tr th:only-of-type {\n",
              "        vertical-align: middle;\n",
              "    }\n",
              "\n",
              "    .dataframe tbody tr th {\n",
              "        vertical-align: top;\n",
              "    }\n",
              "\n",
              "    .dataframe thead th {\n",
              "        text-align: right;\n",
              "    }\n",
              "</style>\n",
              "<table border=\"1\" class=\"dataframe\">\n",
              "  <thead>\n",
              "    <tr style=\"text-align: right;\">\n",
              "      <th></th>\n",
              "      <th>Price</th>\n",
              "      <th>Size</th>\n",
              "      <th>Bedrooms</th>\n",
              "      <th>Bathrooms</th>\n",
              "    </tr>\n",
              "  </thead>\n",
              "  <tbody>\n",
              "    <tr>\n",
              "      <th>count</th>\n",
              "      <td>7.780000e+03</td>\n",
              "      <td>7780.000000</td>\n",
              "      <td>7780.000000</td>\n",
              "      <td>7780.000000</td>\n",
              "    </tr>\n",
              "    <tr>\n",
              "      <th>mean</th>\n",
              "      <td>4.252607e+05</td>\n",
              "      <td>999.486761</td>\n",
              "      <td>2.956427</td>\n",
              "      <td>2.027121</td>\n",
              "    </tr>\n",
              "    <tr>\n",
              "      <th>std</th>\n",
              "      <td>4.413468e+05</td>\n",
              "      <td>415.789294</td>\n",
              "      <td>0.659581</td>\n",
              "      <td>0.594494</td>\n",
              "    </tr>\n",
              "    <tr>\n",
              "      <th>min</th>\n",
              "      <td>2.200000e+04</td>\n",
              "      <td>82.000000</td>\n",
              "      <td>1.000000</td>\n",
              "      <td>1.000000</td>\n",
              "    </tr>\n",
              "    <tr>\n",
              "      <th>25%</th>\n",
              "      <td>2.850000e+05</td>\n",
              "      <td>805.750000</td>\n",
              "      <td>3.000000</td>\n",
              "      <td>2.000000</td>\n",
              "    </tr>\n",
              "    <tr>\n",
              "      <th>50%</th>\n",
              "      <td>3.724440e+05</td>\n",
              "      <td>948.000000</td>\n",
              "      <td>3.000000</td>\n",
              "      <td>2.000000</td>\n",
              "    </tr>\n",
              "    <tr>\n",
              "      <th>75%</th>\n",
              "      <td>4.800000e+05</td>\n",
              "      <td>1126.250000</td>\n",
              "      <td>3.000000</td>\n",
              "      <td>2.000000</td>\n",
              "    </tr>\n",
              "    <tr>\n",
              "      <th>max</th>\n",
              "      <td>2.500000e+07</td>\n",
              "      <td>17000.000000</td>\n",
              "      <td>10.000000</td>\n",
              "      <td>10.000000</td>\n",
              "    </tr>\n",
              "  </tbody>\n",
              "</table>\n",
              "</div>\n",
              "      <button class=\"colab-df-convert\" onclick=\"convertToInteractive('df-3a64c0d9-b432-40ad-97c6-ee827aa9943b')\"\n",
              "              title=\"Convert this dataframe to an interactive table.\"\n",
              "              style=\"display:none;\">\n",
              "        \n",
              "  <svg xmlns=\"http://www.w3.org/2000/svg\" height=\"24px\"viewBox=\"0 0 24 24\"\n",
              "       width=\"24px\">\n",
              "    <path d=\"M0 0h24v24H0V0z\" fill=\"none\"/>\n",
              "    <path d=\"M18.56 5.44l.94 2.06.94-2.06 2.06-.94-2.06-.94-.94-2.06-.94 2.06-2.06.94zm-11 1L8.5 8.5l.94-2.06 2.06-.94-2.06-.94L8.5 2.5l-.94 2.06-2.06.94zm10 10l.94 2.06.94-2.06 2.06-.94-2.06-.94-.94-2.06-.94 2.06-2.06.94z\"/><path d=\"M17.41 7.96l-1.37-1.37c-.4-.4-.92-.59-1.43-.59-.52 0-1.04.2-1.43.59L10.3 9.45l-7.72 7.72c-.78.78-.78 2.05 0 2.83L4 21.41c.39.39.9.59 1.41.59.51 0 1.02-.2 1.41-.59l7.78-7.78 2.81-2.81c.8-.78.8-2.07 0-2.86zM5.41 20L4 18.59l7.72-7.72 1.47 1.35L5.41 20z\"/>\n",
              "  </svg>\n",
              "      </button>\n",
              "      \n",
              "  <style>\n",
              "    .colab-df-container {\n",
              "      display:flex;\n",
              "      flex-wrap:wrap;\n",
              "      gap: 12px;\n",
              "    }\n",
              "\n",
              "    .colab-df-convert {\n",
              "      background-color: #E8F0FE;\n",
              "      border: none;\n",
              "      border-radius: 50%;\n",
              "      cursor: pointer;\n",
              "      display: none;\n",
              "      fill: #1967D2;\n",
              "      height: 32px;\n",
              "      padding: 0 0 0 0;\n",
              "      width: 32px;\n",
              "    }\n",
              "\n",
              "    .colab-df-convert:hover {\n",
              "      background-color: #E2EBFA;\n",
              "      box-shadow: 0px 1px 2px rgba(60, 64, 67, 0.3), 0px 1px 3px 1px rgba(60, 64, 67, 0.15);\n",
              "      fill: #174EA6;\n",
              "    }\n",
              "\n",
              "    [theme=dark] .colab-df-convert {\n",
              "      background-color: #3B4455;\n",
              "      fill: #D2E3FC;\n",
              "    }\n",
              "\n",
              "    [theme=dark] .colab-df-convert:hover {\n",
              "      background-color: #434B5C;\n",
              "      box-shadow: 0px 1px 3px 1px rgba(0, 0, 0, 0.15);\n",
              "      filter: drop-shadow(0px 1px 2px rgba(0, 0, 0, 0.3));\n",
              "      fill: #FFFFFF;\n",
              "    }\n",
              "  </style>\n",
              "\n",
              "      <script>\n",
              "        const buttonEl =\n",
              "          document.querySelector('#df-3a64c0d9-b432-40ad-97c6-ee827aa9943b button.colab-df-convert');\n",
              "        buttonEl.style.display =\n",
              "          google.colab.kernel.accessAllowed ? 'block' : 'none';\n",
              "\n",
              "        async function convertToInteractive(key) {\n",
              "          const element = document.querySelector('#df-3a64c0d9-b432-40ad-97c6-ee827aa9943b');\n",
              "          const dataTable =\n",
              "            await google.colab.kernel.invokeFunction('convertToInteractive',\n",
              "                                                     [key], {});\n",
              "          if (!dataTable) return;\n",
              "\n",
              "          const docLinkHtml = 'Like what you see? Visit the ' +\n",
              "            '<a target=\"_blank\" href=https://colab.research.google.com/notebooks/data_table.ipynb>data table notebook</a>'\n",
              "            + ' to learn more about interactive tables.';\n",
              "          element.innerHTML = '';\n",
              "          dataTable['output_type'] = 'display_data';\n",
              "          await google.colab.output.renderOutput(dataTable, element);\n",
              "          const docLink = document.createElement('div');\n",
              "          docLink.innerHTML = docLinkHtml;\n",
              "          element.appendChild(docLink);\n",
              "        }\n",
              "      </script>\n",
              "    </div>\n",
              "  </div>\n",
              "  "
            ]
          },
          "metadata": {},
          "execution_count": 11
        }
      ]
    },
    {
      "cell_type": "markdown",
      "metadata": {
        "id": "Fv4NPHasVJJ7"
      },
      "source": [
        "#### Price in area\n",
        "The box plot below shows the price of properties grouped by area. The price is normalized with log base 10 for better visualization."
      ]
    },
    {
      "cell_type": "code",
      "execution_count": null,
      "metadata": {
        "id": "NKN6RIplVJJ7",
        "colab": {
          "base_uri": "https://localhost:8080/",
          "height": 533
        },
        "outputId": "f37aea83-77b3-4d5c-b81f-d73a2f38a81d"
      },
      "outputs": [
        {
          "output_type": "execute_result",
          "data": {
            "text/plain": [
              "Text(0.5, 1.0, 'Price in area')"
            ]
          },
          "metadata": {},
          "execution_count": 12
        },
        {
          "output_type": "display_data",
          "data": {
            "text/plain": [
              "<Figure size 3240x1080 with 1 Axes>"
            ],
            "image/png": "[encoded data removed]"
          },
          "metadata": {
            "needs_background": "light"
          }
        }
      ],
      "source": [
        "# log10\n",
        "df['Nor_Price'] = df['Price'].apply(lambda x: np.log(x) if x != 0 else 0)\n",
        "\n",
        "df.sort_values(by=['Area', 'Price', 'Bedrooms'], inplace=True)\n",
        "\n",
        "plt.figure(figsize=(45, 15))\n",
        "ax = sns.boxplot(data=df, x='Area', y='Nor_Price')\n",
        "ax.set_title('Price in area', fontdict={'fontsize': 40})"
      ]
    },
    {
      "cell_type": "markdown",
      "metadata": {
        "id": "Dn_AW-5uVJJ7"
      },
      "source": [
        "#### Price per square feat in each area\n",
        "The scatter plot graph below shows the price per square feet in each area. Different color represented different area. Plotly graph is interactive, hover on the data point to see its information."
      ]
    },
    {
      "cell_type": "code",
      "execution_count": null,
      "metadata": {
        "id": "c7fugjWzVJJ7",
        "colab": {
          "base_uri": "https://localhost:8080/",
          "height": 542
        },
        "outputId": "1a317f8b-3d56-4f3e-8590-01cdcaa1243f"
      },
      "outputs": [
        {
          "output_type": "display_data",
          "data": {
            "text/html": [
              "<html>\n",
              "<head><meta charset=\"utf-8\" /></head>\n",
              "<body>\n",
              "    <div>            <script src=\"https://cdnjs.cloudflare.com/ajax/libs/mathjax/2.7.5/MathJax.js?config=TeX-AMS-MML_SVG\"></script><script type=\"text/javascript\">if (window.MathJax) {MathJax.Hub.Config({SVG: {font: \"STIX-Web\"}});}</script>                <script type=\"text/javascript\">window.PlotlyConfig = {MathJaxConfig: 'local'};</script>\n",
              "        <script src=\"https://cdn.plot.ly/plotly-2.8.3.min.js\"></script>                <div id=\"b8d0e430-1979-4257-b6b7-e8019d050895\" class=\"plotly-graph-div\" style=\"height:525px; width:100%;\"></div>            <script type=\"text/javascript\">                                    window.PLOTLYENV=window.PLOTLYENV || {};                                    if (document.getElementById(\"b8d0e430-1979-4257-b6b7-e8019d050895\")) {                    Plotly.newPlot(                        \"b8d0e430-1979-4257-b6b7-e8019d050895\",                        [{\"customdata\":[[3,2],[2,2],[3,2],[3,2],[3,2],[2,2],[3,2],[3,2],[1,1],[1,1],[1,1],[3,2],[1,1],[1,1],[3,2],[2,2],[3,1],[1,1],[1,1],[1,1],[3,2],[3,2],[3,2],[3,2],[3,2],[3,2],[3,2],[3,2],[2,2],[3,1],[3,2],[1,1],[3,2],[3,2],[3,2],[3,2],[3,2],[3,2],[3,2],[3,2],[3,2],[3,2],[3,2],[3,2],[3,2],[3,2],[3,2],[1,1],[1,1],[3,2],[3,2],[3,2],[3,2],[3,2],[3,2],[1,1],[3,2],[3,2],[3,2],[3,2],[3,2],[1,1],[1,1],[1,1],[1,1],[3,2],[3,2],[3,2],[1,1],[3,2],[3,2],[4,3],[4,3],[3,2],[1,1],[2,2],[3,2],[3,2],[3,2],[3,2],[2,2],[2,2],[2,2],[3,2],[3,2],[3,2],[3,2],[4,3],[1,1],[2,2],[3,2],[3,2],[3,3],[3,2],[3,2],[3,2],[3,2],[3,2],[3,2],[3,2],[3,2],[1,1],[3,2],[3,2],[3,2],[3,2],[3,2],[3,2],[1,1],[3,2],[4,2],[1,1],[1,1],[3,2],[3,2],[3,2],[3,2],[3,2],[1,1],[1,1],[3,2],[3,2],[3,2],[1,1],[3,2],[1,1],[1,1],[3,2],[3,2],[3,2],[3,2],[3,2],[2,2],[3,2],[3,2],[3,2],[3,2],[3,2],[3,2],[3,2],[3,2],[3,2],[3,2],[1,1],[2,2],[3,2],[3,2],[3,2],[3,2],[2,2],[2,2],[3,2],[3,2],[3,2],[3,2],[3,2],[3,2],[3,2],[3,2],[3,2],[3,2],[3,2],[3,2],[3,2],[3,2],[3,2],[3,2],[3,2],[4,3],[3,2],[2,2],[2,2],[3,2],[1,2],[3,3],[1,1],[3,2],[1,1],[3,2],[1,1],[1,1],[3,2],[1,1],[2,2],[2,2],[2,2],[3,2],[3,2],[3,2],[3,2],[4,2],[1,1],[3,2],[3,2],[3,3],[3,2],[4,3],[4,3],[4,3],[4,3],[3,2],[3,3],[3,3],[3,3],[3,3],[3,2],[2,2],[4,3],[2,2],[1,1],[2,2],[2,2],[5,4],[2,2],[2,2],[3,2],[1,1],[5,4],[2,2],[1,1],[1,2],[1,2],[2,2],[4,3],[2,2],[2,2],[3,2],[1,1],[4,3],[5,4],[3,3],[2,2],[4,3],[4,3],[2,2],[2,2],[3,2],[4,3],[5,3],[4,4],[3,3],[3,3],[4,3],[4,3],[5,5],[1,1],[3,2],[3,2],[5,5],[5,5],[5,4],[5,4],[4,4],[6,6],[6,6],[4,4],[4,4],[4,4],[5,5],[5,5],[5,6],[5,6],[4,5],[5,6],[5,5],[8,10]],\"hovertemplate\":\"Area=AMPANG<br>Size (sq.ft.)=%{x}<br>Price (RM)=%{y}<br>Bedrooms=%{customdata[0]}<br>Bathrooms=%{customdata[1]}<extra></extra>\",\"legendgroup\":\"AMPANG\",\"marker\":{\"color\":\"#636efa\",\"symbol\":\"circle\"},\"mode\":\"markers\",\"name\":\"AMPANG\",\"showlegend\":true,\"x\":[740,640,650,650,650,700,650,650,320,320,280,750,300,300,728,478,750,280,280,286,755,860,950,650,850,850,728,758,850,667,833,452,926,716,833,960,1349,1349,1349,960,1349,1349,602,850,1226,736,950,450,450,1045,856,850,1349,958,1266,450,888,960,1250,1080,1013,450,385,520,600,950,960,936,506,957,957,932,932,923,678,890,957,936,889,1344,747,747,890,908,950,908,1180,1360,705,1042,1042,1042,1042,1042,1042,1042,1042,1042,1042,936,993,502,860,1232,860,858,860,1420,678,1033,1250,705,700,858,1139,1000,1042,858,705,705,1234,747,1451,705,1044,705,705,1280,1485,902,1485,1008,430,908,908,908,908,1485,1270,1089,1117,1089,1089,494,747,1098,1485,1485,1060,1041,995,1217,1217,1485,1089,1420,1089,1089,1089,1050,1089,1089,1089,1089,1089,908,1089,1089,1600,1485,1018,786,1000,600,1300,781,1234,502,1037,630,502,1600,622,1018,850,796,1420,1420,1420,1420,1650,705,1420,1421,1925,1421,1925,1925,1925,1390,1060,1335,1300,1335,1335,1421,624,1390,1066,820,1065,888,1865,886,886,1325,608,1865,1104,853,910,910,1030,1570,988,988,1200,686,2699,1902,1432,878,1572,1572,1100,997,1570,1860,1882,1830,1690,2750,1650,1650,4550,728,1529,931,3735,3530,2356,3680,2260,4715,4715,3700,3750,3800,3676,3676,4412,7128,3551,4412,7825,17000],\"xaxis\":\"x\",\"y\":[116640,120000,130000,140000,140000,150000,150000,160000,200000,200000,200000,200000,208888,208888,218000,220000,220000,230000,230000,230000,235000,245000,250000,250000,250000,250000,260000,260000,265000,270000,275000,279000,280000,282000,290000,298000,298000,298000,298000,298000,298000,298000,300000,300000,300000,300000,300000,308000,310000,310000,310000,310000,310000,323000,325000,330000,330000,330000,330000,340000,340000,349000,350000,350000,350000,350000,350000,355000,364500,368000,368000,370000,370000,378000,380000,380000,380000,380000,380000,385000,392000,392000,395000,395000,395000,399000,399000,399000,400000,400000,400000,400000,400000,400000,400000,400000,400000,400000,400000,405000,408000,410000,415000,415000,418000,420000,420000,420000,422000,428000,428000,430000,430000,430000,430000,430000,430000,430000,433000,440000,440000,441000,441000,445000,445500,450000,450000,450000,450000,450000,455000,455000,459800,465000,469000,470000,470000,475000,475000,480000,480000,480000,480000,490000,490000,490000,490000,490000,495000,496000,499000,500000,500000,500000,524000,525000,525000,525000,530000,530000,530000,530000,530000,530000,530000,530000,530000,530000,530000,533000,534000,538000,545000,550000,550000,560000,560000,565000,568444,570000,575000,575000,590000,594000,599000,600000,600000,600000,600000,600000,618000,620000,620000,620000,620000,620000,620000,620000,620000,620888,628000,630000,630000,630000,630000,630000,640500,650000,660000,680000,680000,680000,680000,690000,690000,690000,695000,700000,702000,710000,720000,730000,735000,740000,760000,760000,780000,810000,850000,850000,870000,900000,900000,900000,920000,990000,1000000,1000000,1000000,1200000,1250000,1300000,1300000,1300000,1350000,1388000,1500000,1650000,1780000,1908888,2100000,2300000,2488000,3250000,3250000,3650000,3680000,3700000,3860000,3900000,5603240,5900000,6500000,7500000,10500000,25000000],\"yaxis\":\"y\",\"type\":\"scattergl\"},{\"customdata\":[[3,2],[2,1],[3,2],[2,3],[3,2],[3,2],[3,2],[3,2],[3,2],[3,2],[3,1],[2,1],[3,2],[2,1],[2,1],[2,1],[2,1],[2,1],[2,1],[2,1],[3,2],[3,2],[3,2],[3,2],[3,2],[3,2],[3,2],[2,1],[3,2],[3,2],[3,2],[3,2],[3,2],[3,2],[3,2],[3,2],[3,2],[3,4],[3,2],[3,2],[3,2],[3,2],[3,2],[3,2],[3,2],[3,2],[3,2],[3,2],[3,2],[3,2],[2,1],[3,2],[3,2],[3,2],[3,2],[3,2],[3,2],[3,2],[3,1],[3,2],[3,2],[3,1],[3,2],[3,2],[3,2],[3,2],[3,2],[3,2],[3,2],[3,2],[3,2],[3,2],[3,2],[3,2],[3,2],[3,2],[3,2],[3,2],[3,2],[3,2],[3,2],[3,2],[3,2],[3,2],[3,2],[3,2],[3,2],[3,2],[3,2],[3,2],[3,2],[3,2],[3,2],[3,2],[3,2],[3,2],[3,2],[3,2],[3,1],[3,2],[3,1],[3,1],[3,2],[3,2],[3,2],[3,1],[3,2],[3,2],[3,2],[3,2],[3,2],[3,2],[3,2],[3,2],[3,2],[3,2],[3,2],[3,2],[3,2],[3,2],[3,2],[3,2],[3,2],[3,2],[3,2],[3,2],[3,2],[3,2],[3,2],[3,2],[3,2],[3,2],[3,2],[3,2],[3,2],[3,2],[3,2],[3,2],[3,2],[3,2],[3,2],[3,2],[3,2],[3,2],[3,2],[3,2],[3,2],[3,2],[3,2],[3,2],[3,2],[3,2],[3,2],[3,2],[2,2],[2,2],[3,2],[3,2],[3,2],[3,2],[3,2],[3,2],[3,2],[4,2],[2,2],[2,2],[3,2],[3,2],[3,2],[3,2],[3,2],[3,2],[3,2],[3,2],[3,2],[2,2],[3,2],[3,2],[3,2],[3,2],[3,2],[4,2],[3,2],[3,2],[3,2],[3,2],[3,2],[3,2],[3,2],[4,2],[4,2],[4,2],[4,2],[4,2],[4,2]],\"hovertemplate\":\"Area=BANDAR TASIK SELATAN<br>Size (sq.ft.)=%{x}<br>Price (RM)=%{y}<br>Bedrooms=%{customdata[0]}<br>Bathrooms=%{customdata[1]}<extra></extra>\",\"legendgroup\":\"BANDAR TASIK SELATAN\",\"marker\":{\"color\":\"#EF553B\",\"symbol\":\"circle\"},\"mode\":\"markers\",\"name\":\"BANDAR TASIK SELATAN\",\"showlegend\":true,\"x\":[657,560,650,650,650,650,650,650,650,657,657,668,650,668,668,668,668,668,700,700,650,650,650,650,650,802,657,667,650,650,650,651,650,689,650,650,650,650,650,650,650,650,650,650,650,650,650,650,650,689,650,650,650,650,650,650,650,650,650,650,650,650,650,650,650,650,650,650,657,657,657,667,650,657,650,689,650,650,650,730,861,650,854,854,854,854,854,854,859,854,854,854,854,854,854,854,854,854,730,730,730,730,850,854,850,730,854,854,850,854,880,880,854,854,854,854,854,854,854,854,854,890,880,940,854,854,850,854,854,854,854,854,850,854,854,854,854,854,854,854,854,854,854,854,854,854,851,732,854,854,854,650,854,854,854,854,854,854,832,915,854,940,915,1044,854,854,854,832,854,854,854,854,854,854,1149,800,832,947,950,947,947,1164,947,950,943,1104,1100,947,1110,1300,1300,1300,1089,1089,1089],\"xaxis\":\"x\",\"y\":[129600,158000,170000,180000,185000,185000,185000,185000,185000,187000,189000,190000,190000,195000,195000,195000,195000,195000,195000,195000,195000,195000,198000,198000,198000,199000,199000,200000,200000,200000,205000,205000,210000,210000,210000,210000,210000,210000,210000,210000,210000,210000,210000,210000,210000,210000,210000,210000,215000,215000,220000,220000,225000,225000,225000,225000,225000,225000,225000,225000,225000,225000,225000,225000,225000,225000,225000,225000,230000,230000,230000,230000,230000,230000,230000,235000,235000,235000,235000,238000,240000,245000,248000,249000,249000,249000,249000,249000,249000,249000,249000,249000,249000,249000,249000,249000,249000,249000,250000,250000,250000,250000,250000,250000,250000,250000,260000,260000,260000,260000,265000,265000,270000,270000,270000,270000,270000,270000,270000,270000,270000,275000,280000,289000,290000,290000,290000,290000,290000,290000,290000,290000,290000,290000,290000,290000,290000,290000,290000,290000,290000,290000,290000,290000,290000,290000,295000,295000,295000,298000,300000,300000,300000,300000,310000,310000,320000,320000,328000,330000,330000,330000,330000,348000,350000,350000,350000,350000,350000,350000,360000,360000,360000,360000,387901,392850,400000,420000,428000,430000,439000,439000,450000,450000,460000,460000,460000,460000,480000,650000,650000,650000,650000,650000,650000],\"yaxis\":\"y\",\"type\":\"scattergl\"},{\"customdata\":[[2,1],[2,1],[2,1],[2,1],[2,1],[3,1],[3,1],[3,1],[3,1],[1,1],[1,1],[1,1],[3,2],[3,2],[1,1],[1,1],[2,1],[2,1],[1,1],[2,1],[2,1],[2,1],[3,2],[3,2],[3,2],[3,1],[3,1],[3,1],[3,1],[3,2],[3,2],[3,2],[3,2],[3,2],[3,2],[3,2],[3,2],[3,2],[3,2],[3,2],[3,2],[3,2],[3,2],[3,2],[3,2],[3,2],[3,2],[3,2],[3,2],[3,2],[3,2],[3,2],[3,2],[3,2],[3,2],[3,2],[3,2],[3,2],[3,2],[3,2],[3,2],[3,2],[3,2],[1,1],[3,2],[4,2],[4,2],[3,2],[3,2],[3,2],[2,1],[2,1],[3,2],[3,2],[3,2],[3,2],[3,2],[4,3],[4,2],[3,2],[3,2],[3,2],[1,1],[1,1],[2,1],[2,1],[2,1],[2,1],[2,1],[2,1],[3,2],[3,2],[3,2],[3,2],[3,2],[3,2],[3,2],[3,2],[3,2],[4,2],[4,2],[3,2],[4,2],[1,1],[3,2],[3,2],[3,2],[3,2],[3,2],[3,2],[3,2],[3,2],[3,2],[4,2],[4,2],[4,2],[4,2],[3,2],[3,2],[3,2],[4,2],[4,2],[4,2],[3,2],[3,2],[3,2],[3,2],[3,2],[3,2],[4,2],[4,2],[3,2],[3,2],[3,2],[3,2],[4,2],[4,2],[3,2],[3,2],[3,2],[2,1],[3,2],[3,2],[3,2],[3,2],[2,1],[3,2],[3,2],[4,3],[3,2],[3,2],[3,2],[3,2],[2,1],[4,2],[4,2],[3,2],[3,2],[3,2],[3,2],[3,2],[3,2],[3,2],[3,2],[3,2],[3,2],[3,2],[3,2],[3,2],[3,2],[3,2],[3,2],[3,2],[3,2],[3,2],[3,2],[1,2],[3,2],[3,2],[2,2],[2,1],[2,2],[1,1],[2,2],[2,2],[3,2],[1,2],[1,2],[1,2],[1,2],[1,2],[3,2],[2,1],[3,2],[2,1],[3,2],[3,2],[3,2],[1,1],[2,2],[3,2],[3,2],[3,2],[2,2],[2,2],[3,2],[3,2],[3,2],[3,2],[2,2],[2,2],[5,3],[3,2],[4,3],[5,3],[3,2],[3,2],[4,3],[2,2],[4,4],[4,4],[4,4],[3,3],[3,2],[3,2],[3,3],[4,4],[4,4],[4,4],[6,6]],\"hovertemplate\":\"Area=BANGSAR SOUTH<br>Size (sq.ft.)=%{x}<br>Price (RM)=%{y}<br>Bedrooms=%{customdata[0]}<br>Bathrooms=%{customdata[1]}<extra></extra>\",\"legendgroup\":\"BANGSAR SOUTH\",\"marker\":{\"color\":\"#00cc96\",\"symbol\":\"circle\"},\"mode\":\"markers\",\"name\":\"BANGSAR SOUTH\",\"showlegend\":true,\"x\":[650,540,540,540,550,650,614,614,650,300,300,300,685,685,300,320,600,550,500,600,600,550,685,688,708,861,861,861,861,708,708,689,685,820,950,936,916,916,820,820,820,820,940,764,940,940,940,940,940,1100,940,940,940,940,1940,850,958,940,940,940,960,990,960,441,957,1039,1055,1093,880,1039,495,495,1100,1022,1100,1093,1023,1000,1055,900,1093,900,495,495,495,495,495,495,495,495,1001,1039,1033,900,900,1093,1095,1093,900,1093,1093,1050,1055,740,1001,1039,1093,900,1050,1023,1034,900,900,1039,1039,1039,1039,1023,900,1050,1055,1055,1055,900,1001,1023,1001,990,1055,1055,1055,900,900,900,900,1039,1035,900,900,1023,495,900,900,1023,900,699,900,900,1350,1100,1464,1464,1464,495,1280,1300,1044,1044,1044,900,1019,1019,1019,1019,1019,1019,1019,1019,1019,1019,1019,1019,1019,1050,1249,1019,750,1019,1019,1249,660,648,632,875,875,721,843,843,843,843,843,1019,861,1019,861,990,990,1350,647,815,1200,1350,1350,1249,815,1235,1235,1000,1253,850,850,1646,990,1646,1646,1000,990,1646,1125,1550,1600,1500,1449,1215,1485,1346,2068,2068,2068,3132],\"xaxis\":\"x\",\"y\":[160000,163000,163000,163000,163000,170000,190000,198000,200000,208888,208888,208888,215000,215000,220000,220000,220000,220000,230000,230000,230000,230000,230000,230000,250000,250000,250000,250000,250000,255000,255000,270000,270000,330000,330000,330000,330000,330000,333000,343000,345000,348000,350000,350000,380000,380000,380000,380000,380000,385000,385000,385000,385000,385000,385000,390000,390000,395000,395000,395000,395000,395000,395000,400000,400000,400000,400000,405000,405000,409000,410000,415000,420000,420000,420000,420000,420000,420000,420000,425000,425000,425000,430000,430000,430000,430000,430000,430000,430000,430000,430000,430000,430000,430000,430000,435000,435000,435000,435000,435000,435000,440000,440000,445000,450000,450000,450000,450000,450000,450000,450000,450000,450000,450000,450000,450000,450000,455000,455000,455000,455000,455000,455000,460000,460000,460000,460000,460000,460000,460000,460000,465000,469000,469000,470000,470000,470000,475000,475000,476000,480000,480000,480000,488000,490000,500000,500000,500000,510000,520000,530000,530000,530000,535000,538888,538888,550000,550000,550000,550000,585000,590000,590000,590000,590000,590000,590000,590000,590000,590000,590000,590000,590000,592000,600000,610000,620000,620000,620000,630000,632300,650000,660000,660000,660000,666000,679000,680000,680000,680000,680000,680000,700000,700000,720000,730000,730000,735000,750000,750000,778000,780000,780000,800000,800000,800000,800000,800000,820000,830000,850000,890000,899000,899000,930000,950000,950000,950000,988000,995000,998000,1000000,1010000,1100000,1100000,1180000,1350000,1350000,1350000,2680000],\"yaxis\":\"y\",\"type\":\"scattergl\"},{\"customdata\":[[3,2],[1,1],[1,1],[1,1],[1,1],[1,1],[1,1],[1,1],[1,1],[1,1],[1,1],[1,1],[1,1],[1,1],[1,1],[1,1],[1,1],[1,1],[1,1],[1,1],[1,1],[1,1],[1,1],[1,1],[1,1],[1,1],[1,1],[1,1],[1,1],[1,1],[1,1],[1,1],[1,1],[1,1],[2,2],[1,1],[1,1],[1,1],[1,1],[2,2],[3,2],[1,1],[1,1],[1,1],[1,1],[2,1],[1,1],[2,2],[2,2],[1,1],[1,1],[3,2],[3,2],[2,2],[2,2],[2,2],[2,2],[2,2],[3,2],[1,1],[1,1],[1,1],[1,1],[2,2],[2,2],[2,2],[2,2],[2,2],[3,2],[3,2],[1,1],[2,2],[2,2],[2,2],[2,2],[2,2],[2,2],[2,2],[2,2],[2,2],[2,2],[3,2],[1,1],[1,1],[2,2],[2,2],[1,1],[2,2],[2,2],[3,2],[2,2],[1,1],[2,2],[2,2],[2,2],[3,2],[3,2],[3,2],[1,1],[2,2],[2,2],[3,2],[3,2],[1,1],[2,2],[2,2],[3,2],[4,3],[4,3],[1,1],[2,2],[4,3],[3,3],[2,1],[3,3],[1,1],[5,3],[5,3],[4,1],[3,2],[1,1],[3,3],[1,1],[2,2],[3,2],[3,2],[3,3],[3,3],[3,3],[3,2],[3,2],[3,2],[1,1],[2,1],[3,2],[2,1],[3,2],[2,2],[3,2],[3,3],[2,2],[2,2],[2,2],[3,2],[2,1],[3,2],[4,4],[3,2],[2,2],[2,1],[2,2],[3,3],[1,1],[1,1],[1,1],[1,1],[1,1],[2,2],[2,2],[4,4],[4,4]],\"hovertemplate\":\"Area=BUKIT BINTANG<br>Size (sq.ft.)=%{x}<br>Price (RM)=%{y}<br>Bedrooms=%{customdata[0]}<br>Bathrooms=%{customdata[1]}<extra></extra>\",\"legendgroup\":\"BUKIT BINTANG\",\"marker\":{\"color\":\"#ab63fa\",\"symbol\":\"circle\"},\"mode\":\"markers\",\"name\":\"BUKIT BINTANG\",\"showlegend\":true,\"x\":[650,350,350,320,350,330,300,300,300,300,300,300,300,350,300,300,280,300,300,300,300,300,300,300,300,300,300,300,300,300,299,350,350,355,720,420,500,380,550,680,980,425,420,484,485,650,612,689,740,411,688,1335,1335,850,706,706,706,706,1098,790,500,453,578,740,740,899,740,750,1300,1300,506,899,899,899,899,899,899,710,700,700,700,1000,624,745,782,750,678,709,1100,1038,1100,696,750,1087,1100,1187,1187,1187,696,1100,1100,1175,1175,624,1180,1100,782,1550,1654,696,708,1500,1371,775,1371,538,1664,1664,1435,1535,454,1031,510,1056,1031,1031,1063,1063,1063,1485,1492,1442,690,662,1492,689,1582,1248,1560,1066,859,859,859,1492,689,1441,1893,1980,818,652,1410,1165,718,747,747,747,718,1254,1254,3300,2405],\"xaxis\":\"x\",\"y\":[199000,200000,200000,200000,200000,200800,208888,208888,208888,208888,208888,208888,208888,208888,220000,220000,220000,220000,220000,220000,220000,220000,220000,220000,220000,220000,221000,221000,221000,222000,226000,295000,320000,320000,332000,350000,350000,350000,350000,352000,355000,370000,370000,380000,398000,400000,460000,470000,470000,475000,477900,478000,480000,488000,488000,490000,490000,490000,490000,499000,499000,499000,500000,500000,500000,500000,500000,500000,518000,518000,520000,520000,520000,520000,520000,520000,520000,520000,529000,529000,529000,548000,550000,550000,550000,550000,555000,558000,570000,575000,578000,580000,580000,590000,590000,598000,598000,598000,600000,600000,600000,600000,600000,612000,620000,620000,620000,620000,630000,650000,650000,650000,695000,698000,698000,700000,700000,700000,725000,750000,766700,798000,803000,818000,858000,860000,880000,880000,888000,898000,919000,972000,988000,993000,999000,1035000,1053000,1100000,1200000,1200000,1230000,1230000,1230000,1280000,1355000,1450000,1450000,1485000,1500000,1500000,1500000,1500590,2200000,2470000,2470000,2480000,2676000,3850000,3880000,3980000,6200000],\"yaxis\":\"y\",\"type\":\"scattergl\"},{\"customdata\":[[3,2],[3,2],[3,2],[3,1],[3,2],[3,1],[1,1],[1,1],[1,1],[3,2],[3,2],[3,2],[3,2],[3,2],[3,2],[1,1],[1,1],[1,1],[1,1],[1,1],[1,1],[1,1],[1,1],[3,2],[3,2],[3,2],[3,2],[3,2],[1,1],[1,1],[1,1],[1,1],[1,1],[1,1],[1,1],[1,1],[3,2],[3,2],[1,1],[2,1],[3,2],[3,2],[3,2],[3,2],[1,1],[3,2],[3,2],[3,2],[3,2],[3,2],[3,2],[3,2],[3,2],[3,2],[3,2],[3,2],[3,2],[2,2],[1,1],[2,1],[2,1],[3,2],[2,2],[2,1],[3,2],[2,2],[2,2],[2,1],[2,2],[2,2],[2,2],[1,1],[2,2],[3,2],[3,2],[2,2],[2,2],[2,2],[2,2],[1,1],[3,2],[3,2],[3,2],[3,2],[3,2],[3,2],[3,2],[3,2],[3,2],[3,2],[3,2],[2,2],[3,2],[3,2],[3,2],[3,2],[2,2],[3,2],[3,2],[2,2],[3,2],[3,2],[3,2],[3,2],[3,2],[3,2],[3,2],[3,2],[3,2],[3,2],[3,2],[3,2],[3,2],[3,2],[3,2],[3,2],[3,2],[3,2],[4,2],[4,2],[4,2],[4,2],[2,2],[3,2],[3,2],[3,2],[3,2],[3,2],[3,2],[3,2],[3,2],[3,2],[3,2],[2,1],[3,2],[3,2],[3,2],[4,3],[3,2],[3,2],[3,2],[3,2],[3,2],[3,2],[3,2],[3,2],[3,2],[3,2],[3,2],[3,2],[3,2],[3,2],[3,2],[1,1],[3,2],[3,2],[3,2],[3,2],[3,2],[3,2],[3,2],[3,2],[3,2],[3,2],[3,2],[3,2],[3,2],[3,2],[3,2],[3,2],[3,2],[3,2],[3,2],[3,2],[3,2],[3,2],[3,2],[3,2],[3,2],[3,2],[3,2],[3,2],[3,2],[3,2],[3,2],[2,2],[2,2],[2,2],[2,2],[3,2],[3,2],[3,2],[3,2],[3,2],[3,2],[2,2],[3,2],[3,2],[3,2],[3,2],[4,2],[3,2],[3,2],[3,2],[4,3],[3,2],[4,2],[3,2],[4,2],[3,2],[3,2],[3,2],[3,2],[3,2],[3,2],[3,2],[4,2],[4,2],[3,2],[3,2],[3,2],[3,2],[3,2],[3,2],[3,2],[3,2],[3,2],[3,2],[3,2],[3,2],[3,2],[3,2],[3,2],[3,2],[3,2],[3,2],[4,2],[4,2],[4,3],[3,2],[3,2],[4,2],[3,2],[3,2],[3,2],[3,2],[3,2],[4,2],[3,2],[3,2],[3,2],[3,2],[3,2],[4,2],[4,2],[3,2],[2,2],[3,2],[2,2],[3,2],[2,2],[3,2],[3,2],[3,2],[3,2],[3,2],[3,2],[4,2],[4,2],[4,2],[4,2],[4,2],[4,2],[3,2],[4,2],[4,3],[2,2],[3,2],[4,2],[4,2],[2,1],[2,2],[3,2],[3,2],[3,2],[3,2],[3,2],[3,3],[4,2],[4,2],[3,2],[2,2],[3,2],[4,3],[2,2],[2,2],[3,2],[3,2],[3,2],[3,2],[3,2],[3,2],[3,2],[3,2],[4,3],[4,3],[3,2],[3,2],[3,2],[3,2],[3,2],[3,2],[3,2],[3,2],[4,2],[3,2],[3,3],[3,3],[3,3],[3,2],[3,2],[3,3],[3,3],[3,3],[3,3],[3,3],[3,2],[4,2],[3,2],[3,2],[3,2],[3,2],[3,2],[3,2],[4,2],[3,2],[3,3],[4,2],[2,1],[4,2],[4,2],[3,2],[3,2],[3,2],[3,2],[2,1],[2,1],[2,1],[3,3],[3,3],[3,3],[3,3],[3,2],[3,3],[3,2],[3,2],[3,3],[3,2],[3,3],[3,2],[3,3],[3,3],[3,3],[3,3],[3,2],[4,3],[4,3],[3,3],[3,3],[3,3],[3,3],[3,3],[2,1],[2,1],[3,3],[2,1],[2,1],[2,1],[2,1],[2,1],[2,1],[2,1],[2,1],[3,3],[3,2],[3,3],[3,2],[4,3],[2,1],[2,1],[2,1],[3,2],[3,2],[3,3],[2,2],[3,3],[3,3],[3,3],[3,2],[3,2],[3,2],[3,3],[4,2],[4,2],[3,3],[3,2],[3,2],[3,2],[3,2],[3,2],[3,2],[4,3],[3,2],[3,2],[3,2],[3,2],[3,2],[4,2],[3,2],[3,3],[4,2],[4,2],[4,2],[4,2],[3,3],[3,2],[4,2],[4,3],[3,2],[2,2],[2,2],[3,3],[3,2],[3,2],[3,3],[3,2],[3,2],[3,3],[3,2],[3,2],[3,2],[3,2],[3,2],[3,2],[3,2],[4,3],[4,3],[5,2],[3,3],[3,2],[3,2],[3,2],[3,2],[3,2],[3,3],[3,2],[3,3],[1,1],[3,2],[3,2],[3,2],[3,3],[3,2],[3,2],[3,2],[3,2],[3,3],[3,2],[3,3],[4,3],[4,3],[3,2],[4,3],[3,2],[3,2],[3,2],[3,3],[3,2],[3,3],[3,3],[3,3],[4,3],[3,2],[3,2],[3,2],[4,3],[4,3],[4,2],[3,2],[3,2],[3,2],[3,2],[4,3],[3,2],[4,3],[3,2],[3,2],[3,2],[3,2],[3,3],[3,2],[4,2],[5,3],[3,2],[3,2],[5,3],[3,2],[3,2],[3,2],[3,2],[5,3],[3,2],[3,2],[3,2],[3,3],[4,3],[4,3],[4,3],[3,2],[3,2],[3,2],[5,3],[4,2],[3,2],[4,2],[3,3],[4,3],[4,2],[4,3],[4,2],[2,2],[3,2],[3,2],[3,2],[3,2],[3,2],[3,3],[3,2],[4,3],[3,2],[5,4],[5,4],[3,3],[3,3],[4,3],[4,3],[4,3],[3,3],[3,2],[3,2],[4,3],[4,3],[4,3],[5,3],[4,3],[4,3],[4,3],[3,2],[4,3],[5,3],[3,2],[3,2],[3,2],[3,2],[3,2],[3,2],[5,3],[4,3],[3,2],[4,3],[3,4],[3,4],[3,4],[3,4],[4,3],[3,3],[4,4],[5,5],[4,2]],\"hovertemplate\":\"Area=BUKITJALIL<br>Size (sq.ft.)=%{x}<br>Price (RM)=%{y}<br>Bedrooms=%{customdata[0]}<br>Bathrooms=%{customdata[1]}<extra></extra>\",\"legendgroup\":\"BUKITJALIL\",\"marker\":{\"color\":\"#FFA15A\",\"symbol\":\"circle\"},\"mode\":\"markers\",\"name\":\"BUKITJALIL\",\"showlegend\":true,\"x\":[680,750,628,650,650,650,350,320,350,800,800,667,800,800,660,300,300,300,300,300,300,300,330,656,650,667,667,750,280,300,300,320,320,320,300,320,640,650,775,750,667,650,660,750,775,650,650,650,650,650,650,650,650,650,650,650,667,603,775,775,775,800,680,680,800,742,729,672,730,600,742,680,750,815,815,738,738,729,786,650,1100,915,825,879,915,879,915,935,915,918,878,848,882,882,816,818,780,879,1100,750,882,878,940,940,940,940,940,1222,915,915,940,936,916,916,916,916,916,915,936,1378,1378,1378,900,850,915,878,1109,868,898,898,880,898,900,700,1465,1465,1043,1400,1465,898,898,898,1250,879,1222,1221,1184,875,1091,1091,1091,1091,1091,650,1091,1091,1059,1200,1200,983,1091,1060,1119,1091,1091,1200,1224,1091,1200,1091,1091,1091,1091,925,1091,1091,1091,1091,1091,1091,1091,1091,1091,1091,1091,998,994,994,994,925,925,895,895,1186,1250,1000,1222,925,1091,1091,1448,925,925,925,1400,1240,1240,1000,1080,1200,1487,1487,1487,1478,1487,1487,1448,1080,954,1224,1224,1224,1224,1448,1224,1224,1224,1224,1224,1224,1224,1224,1448,1448,1224,950,1448,1448,1448,1000,1224,1080,1000,1224,1224,1224,1224,1080,1129,1224,1231,1224,1225,1088,1080,1209,1000,1231,735,1091,1116,953,1222,917,1448,1222,1091,1080,1080,1448,1448,1448,1448,1198,1080,1200,1000,1224,1448,1080,730,1252,1091,1250,1050,1091,1091,1091,1080,1080,1000,740,890,1422,917,998,1050,1000,1100,890,1100,1117,1377,935,1432,1279,1091,1091,1091,1090,1206,1116,1050,1091,1224,1000,1003,1003,1001,1212,1225,1003,1003,1003,1003,1003,1100,1231,960,960,1115,1100,1465,1116,1231,1050,1003,1465,667,1231,1231,1116,1116,1100,1100,667,667,667,1003,1003,1003,1033,1009,1025,1003,1231,1003,1003,1003,1000,1003,1003,1003,1003,1100,1400,1400,1023,1100,1100,1023,1023,667,667,1003,667,667,732,732,667,667,667,668,1003,1073,1023,1050,1695,667,667,667,1050,1073,1003,730,1004,1003,1003,1050,1073,1050,1003,1101,1101,890,1010,985,994,1074,1200,808,1454,1009,972,972,1257,1232,1226,1232,860,1212,1279,1688,1688,1689,1232,1212,1212,1236,791,791,1023,1232,1238,1200,1105,1105,1050,1105,1105,1105,1105,1105,1105,1105,1454,1422,1400,1350,1190,1297,1270,1190,1190,1060,1190,1325,744,1200,1212,1023,1070,1212,1267,1457,1232,2000,1234,1080,1900,1239,1267,1250,1469,1469,1236,2000,1335,1023,1023,2000,1216,1325,1404,1400,1410,1400,1154,1325,1404,1185,1407,1293,1404,1786,1404,1404,1400,1407,1325,1141,1300,2486,1407,1407,2486,1154,1154,1154,1154,2486,1200,1400,1034,1324,1324,1600,1455,1404,1300,1234,1518,1786,1154,1300,1200,1335,1335,1250,1300,868,1218,1025,1011,1407,971,1320,1061,1513,1772,1772,1772,1328,1200,1530,1540,1513,1415,1216,1103,1545,1535,1513,1513,1513,1513,1513,1100,1513,1513,1112,1105,1109,1506,1506,1108,1513,1513,1130,1400,1700,1705,1708,1710,2000,1575,2365,4500,1400],\"xaxis\":\"x\",\"y\":[160000,160380,168000,170000,180000,190000,200000,200000,200000,200000,200000,200000,200000,200000,200000,208888,208888,208888,208888,208888,208888,208888,210000,210000,210000,215000,215000,215000,220000,220000,220000,220000,220000,220000,220000,220000,220000,220000,230000,230000,230000,230000,235000,235000,240000,240000,240000,240000,240000,240000,240000,240000,240000,240000,240000,240000,240000,248888,250000,250000,250000,260000,265000,265000,265000,268000,270000,270000,275000,275000,278000,280000,280000,280000,280000,282000,282000,285000,288000,290000,290000,290000,290000,290000,290000,290000,290000,295000,297000,297000,300000,305000,305000,308000,310000,310000,319000,320000,320000,325000,325000,328000,329800,329800,329800,329800,329800,330000,330000,330000,330000,330000,330000,330000,330000,330000,330000,330000,330000,330000,330000,330000,330800,333000,335000,335000,335000,335000,338000,338000,338000,338000,339000,339100,340000,340000,340000,340000,345000,345000,345000,345000,348000,349000,350000,350000,350000,350000,350000,350000,350000,355000,358000,360000,360000,360000,360000,360000,360000,364999,365000,365000,365000,365000,365000,366000,370000,370000,371480,375000,375000,375000,375000,375000,375000,375000,375000,375000,375000,375000,375000,375000,375000,375000,378000,380000,380000,380000,380000,380000,380000,380000,380000,384117,384500,385000,385000,388000,390000,390000,390000,393000,393000,398000,398000,399000,399000,399900,399998,400000,400000,400000,400000,400000,400000,400000,408000,408000,409999,410000,410000,410000,410000,410000,410000,410000,410000,410000,410000,410000,410000,410000,410000,410000,410000,410000,410000,410000,410000,415000,415000,415000,418000,419000,419000,419000,419000,419000,420000,420000,420000,420000,420000,420000,420000,421358,428000,428000,428800,429000,430000,430000,430000,430000,430000,430000,430000,430000,430000,430000,430000,430000,430000,431081,436800,437400,438000,438000,438000,439000,440000,440000,440000,440000,440000,440000,440000,440000,440000,440000,445000,448000,448000,449000,450000,450000,450000,450000,450000,450000,450000,450000,450000,450000,450000,450000,455000,455000,455000,455000,455000,460000,460000,460000,460000,465000,470000,470000,470000,470000,470000,470000,470000,470000,470000,470000,475000,475000,479000,479000,480000,480000,480000,480000,480000,485000,485000,487000,487888,488000,488000,495000,495000,499000,499000,499999,500000,500000,500000,500000,500000,500000,500000,500000,500000,500000,500000,500000,500000,500000,500000,500000,500000,500000,500000,500000,500000,505000,505000,509000,510000,510000,515000,515000,515000,518999,520000,520000,520000,520000,520000,520000,520000,520000,520000,520000,520000,525000,530000,530000,530000,530000,530000,539000,540000,540000,540000,540000,540000,540000,540000,545000,546000,547000,548000,549096,550000,555000,560000,560000,565000,565000,566000,567800,567800,568000,573000,576000,580000,580000,580000,580000,585000,585000,590000,590000,590000,590000,595000,600000,600000,600000,600000,600000,600000,600000,600000,600000,600000,600000,600000,600000,600000,600000,600000,600000,600000,600000,605000,610000,610000,610000,610000,610000,610000,611000,615000,619999,620000,620000,620000,620000,622000,629999,629999,630000,630000,630000,630000,630000,630000,635000,635000,640000,640000,640000,640000,645000,650000,650000,650000,650000,657000,660000,665000,665000,665000,670000,680000,680000,680000,680000,680000,683888,685000,688168,688888,688888,690000,690000,695000,698000,698000,699000,699000,699000,699999,700000,700000,700000,700000,720000,720000,720000,729000,729000,730000,747000,748000,750000,750000,750000,760000,770000,780000,799000,800000,800000,805000,807000,811888,815000,830000,850000,850000,850000,850000,888000,890000,891000,891000,891000,917000,920000,920000,925000,943000,945000,950000,950000,960000,965000,970000,970000,975000,975000,978000,980000,980000,980000,988000,990000,995000,1000000,1000000,1000000,1000000,1050000,1100000,1100000,1185000,1190000,1200000,1215000,1300000,1480000,2000000,3690000,6200000],\"yaxis\":\"y\",\"type\":\"scattergl\"},{\"customdata\":[[3,2],[3,2],[2,1],[3,2],[3,1],[2,1],[2,1],[2,1],[2,1],[2,1],[2,1],[2,1],[2,1],[3,2],[2,1],[2,1],[2,1],[2,1],[3,1],[3,1],[2,1],[2,1],[2,1],[2,1],[2,1],[3,2],[3,2],[3,1],[3,2],[2,1],[2,1],[2,1],[2,1],[2,1],[2,1],[3,2],[3,1],[3,1],[3,2],[3,1],[3,1],[3,2],[2,1],[2,1],[1,1],[2,1],[2,1],[3,2],[3,2],[2,1],[2,1],[2,1],[3,1],[3,2],[3,2],[2,1],[3,2],[3,2],[3,2],[2,1],[2,1],[3,2],[3,2],[3,1],[3,2],[3,2],[3,2],[3,1],[3,1],[2,1],[3,1],[3,2],[2,2],[2,1],[3,1],[3,1],[3,1],[3,1],[3,2],[3,2],[3,2],[3,2],[3,2],[3,2],[3,2],[3,2],[3,1],[2,1],[2,1],[2,1],[3,1],[3,2],[3,1],[3,2],[3,1],[3,1],[3,1],[2,1],[2,1],[3,2],[3,2],[3,2],[3,2],[3,1],[3,2],[3,2],[3,1],[3,1],[3,2],[3,2],[3,1],[3,1],[3,1],[3,1],[3,1],[3,2],[3,2],[3,1],[3,2],[3,1],[3,2],[2,1],[2,1],[2,1],[2,1],[2,1],[3,2],[3,2],[2,1],[3,2],[2,1],[3,2],[3,1],[3,2],[3,2],[3,2],[3,2],[3,1],[3,1],[3,1],[3,2],[3,2],[3,1],[2,1],[3,2],[3,1],[2,1],[2,1],[2,1],[2,1],[2,1],[2,1],[3,2],[3,2],[3,2],[3,1],[3,2],[3,1],[3,2],[3,2],[3,2],[3,2],[2,1],[3,2],[3,1],[3,2],[2,1],[2,1],[2,1],[3,1],[3,2],[3,2],[3,2],[3,2],[3,2],[2,1],[2,1],[2,1],[2,1],[3,1],[3,1],[3,2],[3,2],[3,1],[3,2],[3,2],[3,2],[3,2],[3,1],[3,1],[3,2],[2,1],[3,2],[2,1],[1,1],[2,2],[2,1],[2,1],[3,2],[3,2],[3,1],[3,1],[3,1],[3,2],[3,1],[3,2],[2,1],[2,1],[2,1],[2,1],[2,1],[3,2],[2,1],[3,2],[3,2],[3,2],[2,1],[2,1],[2,1],[2,1],[2,1],[3,2],[3,2],[3,2],[3,2],[3,2],[3,2],[3,2],[3,2],[3,2],[3,2],[2,1],[2,1],[2,1],[2,1],[2,1],[2,1],[2,1],[2,1],[2,1],[2,1],[2,1],[2,1],[2,1],[2,1],[2,1],[2,1],[2,1],[2,1],[2,1],[2,1],[2,1],[2,1],[2,1],[2,1],[2,1],[2,1],[2,1],[2,1],[3,2],[3,2],[3,2],[3,2],[3,2],[3,2],[3,2],[3,2],[3,2],[3,2],[3,1],[3,2],[4,2],[3,2],[3,2],[4,2],[2,2],[3,2],[3,2],[3,2],[3,2],[1,1],[1,1],[2,1],[2,1],[2,1],[2,1],[2,1],[2,1],[3,1],[3,1],[3,1],[3,1],[3,1],[3,2],[3,2],[1,1],[3,2],[3,2],[1,1],[3,2],[3,2],[3,1],[3,2],[2,1],[2,1],[2,1],[3,2],[3,2],[3,2],[3,2],[3,2],[3,2],[3,2],[3,2],[3,2],[3,2],[3,2],[3,2],[3,2],[3,2],[3,2],[3,2],[3,2],[1,1],[1,1],[1,1],[1,1],[2,1],[2,1],[3,2],[3,2],[3,2],[3,2],[3,2],[3,2],[3,2],[3,1],[3,2],[3,2],[3,2],[3,2],[3,2],[3,2],[3,2],[2,2],[3,2],[3,2],[3,2],[3,2],[3,2],[3,2],[3,2],[3,2],[3,1],[3,2],[3,2],[2,2],[3,2],[3,2],[3,2],[3,2],[3,2],[3,2],[3,2],[3,2],[3,2],[3,2],[3,2],[3,3],[3,2],[3,2],[3,2],[3,2],[3,2],[3,2],[3,2],[3,2],[3,2],[3,2],[3,2],[3,2],[3,2],[3,1],[3,2],[3,1],[3,1],[3,2],[3,2],[3,2],[3,1],[3,2],[3,2],[3,2],[3,2],[3,2],[3,2],[3,2],[3,2],[3,2],[3,2],[3,2],[3,2],[3,2],[3,2],[3,2],[3,2],[3,2],[3,2],[3,2],[1,1],[1,1],[3,2],[3,1],[3,2],[3,2],[3,1],[3,2],[3,2],[3,2],[3,2],[3,2],[3,2],[3,2],[3,2],[3,2],[3,2],[3,2],[3,2],[3,2],[3,2],[3,2],[3,1],[3,2],[3,2],[3,2],[3,2],[3,2],[3,1],[3,1],[3,1],[3,2],[3,2],[3,2],[3,2],[3,2],[1,1],[2,1],[2,1],[2,2],[3,2],[3,1],[3,2],[3,2],[3,2],[3,2],[3,2],[3,2],[3,2],[3,2],[3,2],[3,2],[3,2],[3,2],[3,2],[3,2],[3,2],[3,2],[3,2],[3,2],[3,2],[3,2],[3,2],[3,2],[3,2],[3,2],[3,2],[3,2],[3,2],[3,2],[3,2],[3,2],[3,2],[3,2],[1,1],[3,1],[3,2],[3,2],[3,1],[3,2],[3,2],[3,2],[3,2],[3,2],[2,2],[2,1],[3,2],[3,1],[3,1],[3,2],[3,2],[3,2],[3,2],[3,2],[3,2],[3,2],[3,2],[3,2],[3,2],[3,2],[3,2],[3,2],[3,2],[3,2],[3,2],[3,2],[3,2],[3,2],[3,2],[3,2],[3,2],[3,2],[3,2],[3,2],[3,1],[3,2],[3,2],[1,1],[3,2],[3,2],[3,2],[3,2],[3,2],[3,2],[3,1],[3,2],[3,2],[3,2],[3,2],[3,2],[3,2],[2,2],[3,2],[2,1],[3,2],[3,2],[3,2],[3,2],[3,2],[3,2],[1,1],[3,2],[3,2],[3,2],[3,2],[3,2],[3,2],[3,2],[3,2],[3,2],[3,2],[3,2],[3,2],[3,2],[2,2],[2,2],[2,2],[2,2],[3,2],[3,1],[3,2],[3,2],[3,1],[3,2],[3,2],[3,2],[3,2],[3,2],[1,1],[3,2],[3,1],[1,1],[3,2],[3,2],[3,2],[2,2],[3,2],[3,2],[3,1],[3,2],[3,2],[3,2],[3,2],[3,2],[3,1],[3,2],[3,2],[3,2],[3,1],[3,2],[3,2],[3,2],[3,2],[3,2],[3,2],[3,2],[3,2],[3,2],[3,2],[3,2],[3,2],[3,2],[3,1],[3,2],[3,2],[1,1],[3,2],[3,2],[3,2],[3,2],[3,2],[3,2],[3,2],[3,2],[3,2],[3,2],[3,2],[1,1],[3,2],[4,2],[4,2],[5,2],[3,2],[3,2],[3,2],[1,1],[3,2],[3,2],[3,2],[3,2],[3,2],[3,2],[3,2],[3,2],[3,2],[3,2],[3,2],[3,2],[3,2],[3,2],[4,2],[3,2],[3,2],[2,2],[2,1],[3,2],[3,2],[3,2],[3,2],[3,2],[3,2],[3,2],[3,2],[3,2],[3,2],[3,2],[3,2],[3,2],[3,2],[3,2],[3,2],[3,2],[3,2],[3,2],[3,2],[3,2],[3,2],[3,2],[3,2],[3,2],[3,2],[3,2],[3,2],[3,2],[3,2],[4,2],[3,2],[3,2],[3,2],[3,2],[4,2],[3,2],[2,1],[3,2],[3,2],[3,2],[3,2],[3,2],[3,2],[3,2],[3,2],[3,2],[3,2],[3,2],[3,2],[4,2],[3,2],[1,1],[1,1],[1,1],[1,1],[2,1],[3,2],[3,2],[3,2],[3,2],[3,2],[3,2],[3,2],[3,2],[3,2],[3,2],[3,2],[3,2],[3,2],[3,2],[3,2],[3,2],[3,2],[3,2],[3,2],[3,2],[3,2],[3,2],[3,2],[3,2],[3,2],[3,2],[3,2],[3,2],[3,2],[3,2],[3,2],[3,2],[3,2],[3,2],[3,2],[3,2],[3,2],[3,2],[3,2],[3,2],[3,2],[3,2],[3,2],[3,2],[3,2],[3,2],[3,2],[3,2],[3,2],[3,2],[3,2],[3,2],[3,2],[3,2],[3,2],[3,2],[3,2],[3,2],[3,2],[3,2],[3,2],[3,2],[3,2],[3,2],[3,2],[3,2],[3,2],[3,2],[3,2],[3,2],[3,2],[3,2],[3,2],[3,2],[3,2],[3,2],[3,2],[3,2],[3,2],[3,2],[3,2],[3,2],[3,2],[3,2],[3,2],[3,2],[3,2],[3,2],[3,2],[4,2],[4,2],[4,2],[2,2],[3,2],[3,2],[3,2],[3,2],[3,2],[3,2],[3,2],[3,2],[3,2],[3,2],[2,2],[2,2],[2,2],[3,2],[2,2],[3,2],[2,2],[3,2],[3,2],[3,2],[3,2],[3,2],[1,1],[3,2],[1,1],[3,2],[3,2],[3,2],[3,2],[3,2],[3,2],[3,2],[3,2],[3,2],[3,2],[3,2],[3,2],[4,2],[1,1],[3,2],[1,1],[2,2],[3,2],[3,2],[3,2],[3,2],[3,2],[3,2],[3,2],[3,2],[3,2],[3,2],[3,2],[3,2],[3,2],[3,2],[3,2],[3,2],[3,2],[3,2],[1,1],[1,1],[1,1],[1,1],[1,1],[3,2],[3,2],[3,2],[3,2],[3,2],[3,2],[3,2],[3,2],[3,2],[3,2],[3,2],[3,2],[3,2],[3,2],[3,2],[3,2],[3,2],[3,2],[3,2],[3,2],[3,2],[3,2],[3,2],[3,2],[3,2],[3,2],[3,2],[3,2],[3,2],[3,2],[3,2],[3,2],[3,2],[3,2],[3,2],[3,2],[3,2],[3,2],[3,2],[3,2],[3,2],[3,2],[3,2],[3,2],[3,2],[3,2],[3,2],[3,2],[3,2],[3,2],[3,2],[3,2],[3,2],[1,1],[2,2],[3,2],[3,2],[3,2],[3,2],[3,2],[4,3],[2,3],[3,2],[4,2],[2,2],[3,2],[3,2],[3,2],[3,2],[1,1],[1,1],[1,1],[3,2],[3,2],[3,2],[3,2],[3,2],[3,2],[3,2],[3,2],[3,2],[3,2],[3,2],[3,2],[3,2],[3,2],[3,2],[3,2],[3,2],[3,2],[3,2],[3,2],[3,2],[3,2],[3,2],[3,2],[3,2],[3,2],[3,2],[3,2],[3,2],[3,2],[3,2],[3,2],[3,2],[3,2],[3,2],[3,2],[3,2],[3,2],[3,2],[3,2],[3,2],[3,2],[3,2],[3,2],[3,2],[3,2],[3,2],[3,2],[3,2],[3,2],[3,2],[3,2],[3,2],[3,2],[3,2],[3,2],[3,2],[3,2],[3,2],[3,2],[3,2],[3,2],[3,2],[3,2],[3,2],[3,2],[3,2],[3,2],[4,2],[3,2],[3,2],[3,2],[3,2],[3,2],[3,2],[3,2],[3,2],[3,2],[3,2],[3,2],[3,2],[3,2],[3,2],[3,2],[3,2],[3,2],[3,2],[3,2],[3,2],[3,2],[3,2],[3,2],[2,2],[3,2],[3,2],[3,2],[3,2],[3,2],[3,2],[3,2],[3,2],[3,2],[3,2],[3,2],[3,2],[3,2],[3,2],[3,2],[3,2],[3,2],[3,2],[3,2],[3,2],[3,2],[3,2],[3,2],[3,3],[3,2],[3,2],[3,2],[3,2],[3,2],[4,2],[3,2],[3,2],[3,2],[3,2],[3,2],[3,2],[3,2],[3,2],[3,2],[3,2],[3,2],[2,3],[3,2],[3,2],[3,2],[4,2],[2,2],[3,2],[3,2],[3,2],[3,2],[3,2],[1,1],[3,2],[1,1],[3,2],[3,2],[3,2],[3,2],[3,2],[3,2],[3,2],[3,2],[3,2],[3,2],[3,2],[3,2],[3,2],[3,2],[3,2],[3,2],[3,2],[3,2],[3,2],[3,2],[3,2],[3,2],[3,2],[3,2],[3,2],[3,2],[3,2],[3,2],[3,2],[3,2],[3,2],[3,2],[3,2],[3,2],[3,2],[3,2],[3,2],[3,2],[3,2],[3,2],[3,2],[3,2],[3,2],[3,2],[3,2],[3,2],[3,2],[3,2],[3,2],[3,2],[3,2],[3,2],[3,2],[3,2],[3,2],[4,2],[4,2],[4,2],[4,2],[9,2],[2,2],[3,2],[1,2],[3,2],[3,2],[3,2],[3,2],[3,2],[3,2],[3,2],[3,2],[3,2],[3,2],[3,2],[3,2],[3,3],[3,2],[3,2],[3,2],[3,2],[3,2],[3,2],[3,2],[3,2],[3,2],[3,2],[3,2],[3,2],[3,2],[3,2],[3,2],[3,2],[3,2],[3,2],[3,2],[3,2],[3,2],[3,2],[3,2],[1,1],[2,2],[3,2],[3,2],[3,2],[3,2],[3,2],[3,2],[3,2],[3,2],[3,2],[3,2],[3,2],[3,2],[3,2],[3,2],[3,2],[3,2],[3,2],[3,2],[3,2],[3,2],[3,2],[3,2],[3,2],[3,2],[3,2],[3,2],[3,2],[3,2],[3,2],[3,2],[3,2],[3,2],[3,2],[3,2],[3,2],[3,2],[3,2],[3,2],[3,2],[3,2],[3,2],[3,2],[3,2],[3,2],[3,2],[3,2],[3,2],[3,2],[3,2],[3,2],[3,2],[3,2],[4,2],[4,3],[4,2],[3,2],[3,2],[3,2],[3,2],[3,2],[3,2],[3,2],[3,2],[3,2],[3,2],[3,2],[3,2],[3,2],[3,2],[3,2],[3,2],[3,2],[3,2],[3,2],[3,2],[3,2],[3,2],[3,2],[3,2],[3,2],[3,2],[4,2],[3,2],[3,2],[2,2],[2,2],[3,2],[3,2],[3,2],[3,2],[3,2],[3,2],[3,2],[3,2],[3,2],[3,2],[1,1],[2,2],[2,2],[2,2],[3,2],[3,2],[3,2],[3,2],[3,2],[3,2],[3,2],[3,2],[3,2],[3,2],[3,2],[3,2],[3,2],[3,2],[3,2],[3,2],[3,2],[3,2],[3,2],[3,2],[3,2],[3,2],[3,2],[3,2],[3,2],[3,2],[3,2],[3,2],[3,2],[3,2],[3,2],[3,2],[3,2],[3,2],[3,2],[3,2],[3,2],[3,2],[3,2],[3,2],[3,2],[3,2],[3,2],[3,2],[3,2],[3,2],[3,2],[3,2],[3,2],[3,2],[3,2],[3,2],[3,2],[4,2],[3,2],[3,2],[2,2],[3,2],[3,2],[3,2],[3,2],[3,2],[3,2],[3,2],[2,2],[3,2],[3,2],[3,2],[3,2],[3,2],[3,2],[3,2],[3,2],[3,2],[4,2],[3,2],[3,2],[3,2],[3,2],[3,2],[3,2],[3,2],[2,2],[3,2],[3,2],[3,2],[3,2],[3,2],[3,2],[3,2],[3,2],[3,2],[3,2],[3,2],[3,2],[3,2],[3,2],[4,2],[3,2],[4,2],[1,1],[2,2],[2,2],[2,2],[2,2],[3,2],[3,2],[3,2],[3,2],[3,2],[3,2],[3,2],[3,2],[3,2],[3,2],[3,2],[3,2],[3,2],[3,2],[3,2],[3,2],[3,2],[3,2],[3,2],[3,2],[3,2],[3,2],[3,2],[3,2],[3,2],[3,2],[3,2],[3,2],[3,2],[4,2],[4,2],[5,3],[3,2],[3,2],[3,2],[3,2],[3,2],[3,2],[3,2],[3,3],[3,2],[3,2],[3,2],[3,2],[3,2],[3,2],[3,2],[3,2],[3,2],[3,2],[3,2],[3,2],[3,2],[3,2],[3,2],[2,2],[2,2],[3,2],[3,2],[3,2],[3,2],[3,2],[3,2],[3,2],[3,2],[3,2],[3,2],[3,2],[3,2],[3,2],[3,2],[3,2],[3,2],[3,2],[3,2],[3,2],[3,2],[3,2],[2,2],[3,2],[3,2],[3,2],[3,2],[3,2],[3,2],[3,2],[3,2],[3,2],[3,2],[3,2],[3,2],[3,2],[3,2],[3,2],[3,2],[3,2],[3,2],[3,2],[3,2],[3,2],[3,2],[3,2],[3,2],[2,2],[2,2],[3,2],[3,2],[3,2],[3,2],[3,2],[3,2],[3,2],[3,2],[3,2],[3,2],[3,2],[3,2],[3,2],[3,2],[3,2],[3,2],[3,2],[3,3],[4,2],[3,2],[3,2],[4,2],[3,2],[3,2],[3,2],[3,2],[3,2],[3,2],[3,2],[3,2],[3,2],[3,2],[3,2],[3,2],[3,2],[3,2],[3,2],[3,2],[3,2],[3,2],[3,2],[3,2],[3,2],[2,2],[2,2],[3,2],[3,2],[3,2],[3,2],[3,2],[3,2],[3,2],[3,2],[3,2],[3,2],[3,2],[3,2],[3,2],[3,2],[3,2],[3,2],[3,2],[3,2],[3,2],[3,2],[3,2],[3,2],[3,2],[3,2],[3,2],[3,2],[3,2],[3,2],[3,2],[3,2],[3,2],[3,2],[3,2],[3,2],[3,2],[3,2],[3,2],[3,2],[3,2],[3,2],[2,3],[3,2],[3,2],[3,2],[3,2],[3,2],[3,2],[3,2],[2,2],[3,2],[3,2],[3,2],[3,2],[3,2],[3,2],[3,2],[3,2],[3,2],[3,2],[3,2],[3,2],[3,2],[3,2],[3,2],[3,2],[3,2],[3,2],[3,2],[3,2],[3,2],[3,2],[3,2],[3,2],[3,2],[3,2],[3,2],[3,2],[3,2],[3,2],[3,2],[3,2],[3,2],[3,2],[2,2],[2,2],[3,2],[2,2],[2,3],[2,2],[2,2],[2,2],[3,2],[3,2],[3,2],[3,2],[3,2],[3,2],[3,2],[3,2],[3,2],[3,2],[3,2],[3,2],[3,2],[3,2],[3,2],[3,2],[3,2],[1,1],[2,2],[2,2],[2,2],[2,2],[2,2],[3,2],[3,2],[3,2],[3,2],[3,2],[3,2],[3,2],[3,2],[3,2],[3,3],[3,2],[3,2],[3,2],[2,2],[2,2],[2,2],[2,2],[2,2],[3,2],[3,2],[3,2],[3,2],[3,2],[3,2],[3,2],[3,2],[3,2],[3,2],[3,2],[3,2],[3,2],[3,2],[4,2],[4,2],[4,2],[4,2],[3,2],[2,3],[3,2],[3,2],[3,2],[3,2],[2,2],[2,2],[3,2],[3,2],[3,2],[3,2],[3,2],[3,2],[4,2],[2,1],[3,2],[3,2],[3,2],[3,2],[3,2],[4,2],[3,2],[1,1],[3,2],[3,2],[3,2],[3,2],[3,2],[3,2],[3,2],[3,2],[3,2],[3,2],[3,2],[3,2],[3,2],[3,2],[3,2],[3,2],[3,2],[3,2],[3,2],[4,2],[4,2],[4,2],[4,2],[4,2],[3,2],[3,2],[2,2],[3,2],[3,2],[3,2],[3,2],[3,2],[3,2],[3,2],[3,2],[3,2],[3,2],[4,2],[4,2],[3,2],[3,2],[3,2],[3,2],[3,2],[3,2],[3,2],[3,2],[3,2],[4,2],[3,2],[3,2],[3,2],[3,2],[3,2],[3,2],[3,2],[2,2],[3,3],[3,2],[3,2],[3,2],[3,2],[3,3],[3,3],[3,2],[3,2],[3,2],[3,2],[3,2],[3,2],[3,2],[3,3],[3,2],[3,2],[3,2],[3,2],[3,2],[3,2],[3,2],[3,2],[3,2],[3,2],[3,2],[3,2],[3,2],[3,2],[3,2],[3,2],[3,2],[3,2],[3,2],[3,2],[3,2],[3,2],[3,2],[3,2],[4,2],[4,3],[4,2],[3,2],[3,2],[3,2],[3,2],[3,2],[4,2],[3,2],[4,2],[4,2],[3,2],[3,2],[3,3],[3,2],[3,2],[4,2],[4,2],[4,2],[3,2],[3,2],[3,2],[3,2],[2,2],[2,2],[3,2],[3,2],[3,2],[3,2],[3,2],[3,2],[3,2],[3,2],[3,2],[3,2],[3,2],[3,2],[3,2],[3,2],[3,2],[3,2],[3,2],[3,2],[3,2],[3,2],[3,2],[3,2],[3,2],[4,2],[4,2],[4,2],[4,2],[4,2],[4,2],[4,4],[4,2],[4,2],[4,2],[3,2],[2,2],[3,2],[3,2],[3,2],[3,2],[3,2],[2,2],[3,2],[3,2],[3,2],[3,2],[3,2],[3,2],[4,2],[3,2],[3,2],[4,2],[2,2],[3,2],[3,2],[3,2],[3,2],[3,2],[3,2],[3,2],[3,2],[3,2],[3,2],[3,2],[3,2],[3,2],[3,2],[3,2],[3,2],[3,2],[3,2],[3,2],[3,2],[3,2],[3,2],[3,2],[3,2],[3,2],[3,3],[3,2],[4,2],[5,3],[3,2],[3,2],[3,2],[3,2],[3,2],[3,2],[3,2],[4,2],[4,2],[5,3],[5,3],[5,3],[5,3],[5,3],[2,2],[3,2],[2,2],[2,2],[3,2],[2,2],[3,2],[1,1],[3,2],[3,2],[3,2],[3,2],[3,3],[3,2],[3,2],[3,2],[3,2],[3,2],[3,2],[3,2],[3,2],[3,2],[3,2],[3,2],[3,2],[3,2],[3,3],[3,2],[3,2],[3,2],[3,2],[3,2],[3,2],[3,2],[3,2],[3,2],[3,2],[3,2],[3,3],[3,2],[3,2],[3,2],[3,2],[3,2],[3,2],[3,2],[3,2],[3,2],[3,2],[3,2],[3,2],[3,2],[3,2],[3,2],[3,3],[3,2],[3,2],[3,2],[3,2],[3,2],[3,2],[3,2],[3,2],[3,2],[3,2],[3,2],[3,2],[4,2],[4,2],[4,2],[4,2],[4,2],[5,3],[5,3],[5,3],[5,3],[5,3],[5,3],[5,3],[5,3],[1,1],[2,2],[3,2],[3,2],[3,2],[3,2],[3,2],[3,2],[3,2],[3,2],[3,2],[4,2],[4,4],[4,4],[3,2],[3,2],[3,2],[3,2],[1,2],[1,2],[3,1],[3,2],[3,2],[3,2],[3,2],[3,2],[3,2],[3,2],[3,2],[3,2],[3,2],[3,2],[3,2],[3,2],[3,2],[3,2],[3,2],[3,2],[3,2],[3,1],[3,1],[3,1],[3,3],[3,2],[3,2],[3,2],[3,2],[3,2],[3,2],[3,2],[3,2],[3,2],[3,2],[3,2],[3,2],[3,1],[3,2],[3,2],[3,2],[3,2],[3,2],[3,2],[3,2],[3,2],[3,2],[3,2],[3,2],[3,2],[3,2],[3,2],[3,2],[4,2],[4,2],[4,2],[4,2],[4,3],[4,2],[5,3],[5,3],[3,2],[3,2],[1,1],[1,1],[2,2],[3,3],[3,2],[3,2],[3,2],[3,2],[3,2],[3,2],[3,2],[3,2],[3,2],[2,2],[3,2],[3,2],[3,2],[3,2],[3,2],[3,3],[3,2],[3,2],[4,2],[1,1],[2,2],[3,2],[3,2],[3,2],[3,2],[3,2],[3,3],[3,2],[3,2],[3,3],[3,2],[3,2],[3,2],[3,2],[3,2],[3,2],[3,2],[3,3],[3,2],[3,2],[3,2],[3,2],[4,2],[4,2],[4,2],[4,2],[4,2],[4,2],[4,2],[3,2],[3,2],[3,2],[1,2],[2,2],[3,2],[3,2],[3,2],[3,2],[4,2],[4,2],[4,3],[4,3],[4,2],[4,2],[4,2],[4,2],[4,2],[4,2],[4,3],[3,3],[3,2],[3,3],[3,2],[3,2],[4,2],[4,2],[3,2],[2,2],[2,2],[2,2],[2,2],[3,2],[3,2],[3,2],[3,2],[3,2],[3,3],[3,2],[3,2],[3,2],[3,2],[3,2],[3,3],[3,2],[3,3],[3,2],[3,2],[3,2],[3,2],[4,2],[4,2],[4,2],[4,2],[4,2],[4,2],[4,2],[4,2],[4,2],[4,2],[4,2],[4,2],[4,2],[4,2],[4,2],[4,2],[4,2],[4,2],[4,2],[4,2],[4,2],[4,2],[4,2],[4,2],[4,2],[4,2],[4,3],[5,3],[5,3],[3,2],[3,2],[3,2],[3,2],[1,2],[1,2],[3,2],[3,3],[3,2],[4,2],[1,2],[3,3],[3,2],[3,2],[3,2],[3,3],[3,2],[3,2],[3,2],[3,2],[3,2],[3,2],[3,3],[3,3],[3,2],[3,2],[3,2],[3,2],[3,2],[3,2],[3,2],[3,2],[3,2],[3,2],[3,2],[3,2],[3,2],[3,2],[3,2],[3,2],[4,2],[4,2],[1,2],[3,2],[3,2],[3,2],[3,2],[4,2],[4,2],[4,2],[3,2],[3,2],[3,2],[4,2],[3,2],[3,2],[3,2],[3,2],[4,3],[4,2],[4,2],[2,2],[2,2],[2,2],[2,2],[3,2],[3,2],[3,2],[3,2],[3,3],[3,3],[3,2],[3,3],[3,3],[3,3],[3,3],[3,2],[3,2],[3,3],[3,3],[3,3],[3,2],[3,2],[3,2],[3,3],[3,3],[3,3],[4,2],[4,2],[4,2],[4,2],[4,2],[4,2],[4,2],[3,2],[3,2],[1,2],[3,2],[3,2],[4,2],[4,2],[3,2],[1,2],[2,2],[2,2],[3,2],[3,3],[3,2],[4,3],[4,3],[4,3],[4,3],[4,2],[4,2],[2,2],[3,2],[3,2],[3,2],[4,3],[2,2],[3,2],[3,2],[2,2],[2,2],[3,2],[3,2],[3,3],[3,2],[3,3],[3,2],[3,2],[3,2],[3,2],[3,3],[3,2],[4,2],[4,2],[4,2],[4,2],[4,2],[4,3],[4,4],[4,2],[4,2],[1,2],[4,2],[4,2],[4,2],[4,2],[3,2],[3,2],[3,3],[3,3],[3,2],[3,2],[3,3],[3,2],[3,3],[3,3],[3,3],[3,3],[3,3],[3,2],[3,2],[3,2],[3,3],[3,3],[4,2],[4,2],[4,2],[4,2],[4,2],[3,2],[3,3],[2,2],[3,2],[3,3],[3,3],[3,2],[3,2],[3,2],[3,3],[3,2],[3,2],[4,3],[4,3],[4,3],[4,2],[4,2],[4,2],[3,2],[3,3],[3,2],[3,2],[4,2],[1,2],[2,2],[2,2],[2,2],[3,2],[3,2],[3,2],[3,2],[3,2],[3,2],[3,2],[3,2],[3,3],[3,2],[3,2],[3,3],[3,3],[3,2],[4,2],[4,2],[4,2],[4,2],[4,2],[4,2],[4,2],[4,2],[4,2],[4,2],[4,2],[5,3],[4,2],[4,2],[3,2],[4,2],[4,2],[3,2],[2,2],[3,2],[3,2],[3,2],[3,3],[3,3],[3,3],[3,3],[4,4],[4,2],[4,2],[4,2],[4,2],[4,2],[5,4],[5,4],[3,2],[2,2],[4,2],[4,2],[2,2],[3,2],[4,2],[1,2],[3,2],[3,2],[3,2],[3,3],[2,2],[2,2],[3,2],[3,2],[3,2],[3,2],[3,2],[3,2],[3,2],[3,2],[3,2],[4,2],[4,2],[4,2],[4,2],[4,2],[4,2],[4,2],[4,2],[4,2],[4,4],[5,4],[3,2],[3,2],[5,3],[5,2],[5,3],[5,3],[3,2],[3,2],[3,2],[3,2],[3,2],[3,2],[4,2],[4,2],[4,2],[4,5],[4,5],[4,2],[4,2],[4,5],[4,5],[4,2],[4,5],[4,5],[4,3],[4,5],[4,5],[4,5],[4,5],[4,5],[4,2],[4,5],[4,5],[4,5],[4,2],[4,5],[4,5],[4,2],[4,5],[4,5],[4,5],[5,5],[3,2],[3,2],[3,3],[4,2],[4,3],[4,2],[4,2],[4,2],[4,2],[4,3],[4,2],[4,2],[3,2],[3,2],[4,2],[4,2],[3,2],[4,5],[4,5],[3,2],[3,2],[3,2],[3,2],[3,2],[3,2],[4,5],[4,2],[4,5],[4,3],[4,3],[4,2],[4,5],[5,4],[1,2],[3,2],[3,2],[4,2],[4,3],[4,2],[4,2],[3,2],[3,2],[4,3],[4,5],[3,2],[3,3],[3,3],[3,3],[3,2],[3,2],[3,2],[3,2],[3,2],[4,3],[4,3],[4,3],[2,2],[4,3],[4,3],[3,2],[4,3],[4,3],[1,2],[2,2],[2,2],[3,2],[3,2],[3,2],[4,3],[4,3],[4,2],[3,2],[3,2],[4,5],[4,2],[2,2],[4,3],[3,2],[3,3],[4,3],[2,2],[3,2],[4,3],[3,2],[4,3],[4,2],[2,2],[4,3],[2,2],[4,3],[4,3],[4,4],[3,3],[5,4],[3,3],[3,4],[3,3],[3,2],[5,4],[3,3],[3,3],[3,2],[4,2],[2,2],[6,7],[2,2],[2,2],[4,3],[6,7],[6,5],[2,2],[5,4],[5,4],[4,3],[2,2],[6,7],[4,3],[3,2],[5,3],[2,2],[2,2],[2,2],[2,2],[4,3],[4,3],[6,5],[5,4],[4,4],[5,4],[2,2],[4,5],[4,3],[4,3],[4,3],[4,3],[4,3],[4,3],[3,2],[4,4],[6,5],[3,3],[4,4],[4,4],[4,4],[5,5],[5,4],[2,2],[10,2]],\"hovertemplate\":\"Area=CHERAS<br>Size (sq.ft.)=%{x}<br>Price (RM)=%{y}<br>Bedrooms=%{customdata[0]}<br>Bathrooms=%{customdata[1]}<extra></extra>\",\"legendgroup\":\"CHERAS\",\"marker\":{\"color\":\"#19d3f3\",\"symbol\":\"circle\"},\"mode\":\"markers\",\"name\":\"CHERAS\",\"showlegend\":true,\"x\":[820,650,484,665,697,665,650,600,540,665,665,600,665,640,650,550,650,576,650,665,550,500,650,696,650,650,650,570,545,615,576,650,650,630,496,615,600,600,650,570,575,650,658,468,500,506,600,600,650,658,650,658,700,660,650,697,660,660,650,650,650,650,805,570,650,650,650,570,570,658,600,650,650,570,600,600,650,650,650,550,550,550,550,550,550,550,570,630,699,575,570,650,600,650,650,570,570,600,517,660,650,669,650,650,650,650,570,570,650,650,650,570,664,650,650,650,650,650,657,652,700,560,569,580,560,570,650,650,570,650,570,650,570,655,689,800,655,750,570,570,570,570,570,550,650,650,650,600,650,625,570,585,616,931,654,570,656,660,650,690,805,650,668,660,650,670,570,657,668,650,650,606,700,646,646,560,654,560,650,570,570,650,650,650,654,616,660,654,570,570,570,770,660,570,662,662,660,680,625,650,650,650,730,600,650,690,650,650,650,650,560,657,650,832,760,853,654,668,560,654,650,925,613,657,613,613,613,613,613,650,613,660,668,668,668,650,650,668,668,668,668,668,668,668,668,650,668,668,668,668,668,668,668,668,176,660,650,650,650,650,670,650,650,650,650,650,650,650,850,680,650,924,750,650,900,807,650,650,650,657,350,350,581,581,661,668,668,668,616,616,616,616,700,660,750,310,650,650,320,1003,1003,1003,650,581,581,581,650,818,650,829,820,818,650,818,650,818,650,650,829,850,818,807,829,280,300,320,320,657,570,1100,750,1100,1100,1100,625,781,730,650,1540,82,650,820,820,820,650,650,650,650,1338,780,650,1538,932,650,1140,650,750,820,936,936,650,820,650,820,820,650,650,820,936,650,659,650,650,650,650,650,650,650,800,967,780,650,650,650,684,670,650,650,650,670,650,650,650,650,650,650,650,650,650,650,650,650,820,650,650,650,650,625,650,526,526,959,650,650,657,650,650,650,650,650,684,650,650,650,650,650,684,650,650,650,650,650,650,650,650,650,650,650,650,650,650,684,780,1538,800,840,666,840,750,753,650,650,650,650,753,646,750,1399,1538,1538,1538,953,657,650,800,624,650,976,844,650,800,850,844,840,650,616,800,650,657,753,616,850,616,500,650,967,753,650,888,851,750,806,890,888,600,856,650,650,753,914,753,730,860,775,790,650,657,883,880,953,953,657,657,880,880,967,1540,830,880,880,851,880,780,650,790,888,550,904,967,967,904,667,780,732,854,980,854,904,650,854,750,854,780,850,994,700,780,888,780,775,1540,980,856,850,856,854,854,854,750,959,869,700,820,980,980,980,980,938,820,861,755,829,937,850,826,750,880,416,780,820,551,800,861,851,700,775,887,820,850,657,755,750,1051,732,980,775,967,732,800,888,650,936,936,887,650,936,936,650,650,1012,850,732,1021,830,610,865,850,850,850,990,760,980,650,900,888,900,610,1138,861,861,844,650,650,852,416,1138,923,1138,750,1012,730,750,800,1138,1538,1138,750,830,1100,1538,1047,1047,890,692,732,732,732,732,732,1100,732,732,732,850,850,753,732,856,755,850,732,850,850,850,732,850,750,732,1100,732,850,732,917,732,920,1138,1141,810,836,1400,1188,695,806,850,960,1017,780,942,850,820,980,960,625,1138,920,732,560,526,580,717,695,859,859,1024,859,850,850,755,860,860,859,859,820,859,850,820,859,800,872,859,1238,859,859,859,650,750,650,850,859,1220,750,1138,850,850,1138,820,859,859,859,750,850,860,860,860,953,850,859,1050,859,858,850,859,1040,860,915,859,859,850,1050,850,1000,967,850,835,850,850,850,830,750,1013,840,1050,1050,1050,1500,1138,936,750,850,850,850,850,850,850,850,850,850,850,850,850,911,1212,1212,720,950,950,872,954,837,820,960,866,810,950,854,825,854,854,854,829,850,865,872,960,810,1138,619,950,526,1050,856,865,960,830,917,748,810,732,828,904,969,1616,717,856,450,766,837,837,935,750,850,837,750,820,995,935,1050,915,935,750,818,750,840,870,580,580,678,695,518,820,820,750,820,950,750,748,820,820,820,820,1216,748,850,748,1138,748,748,820,748,810,820,810,810,750,820,810,817,810,1138,820,820,865,820,820,748,748,820,820,820,865,731,750,748,810,830,830,810,750,1000,748,750,743,526,904,839,865,920,1216,1150,1233,817,1024,1270,1104,1125,750,927,926,619,450,717,750,748,750,750,750,830,750,750,750,750,750,750,750,750,750,748,750,750,820,865,750,869,750,750,750,750,1050,750,950,796,865,750,750,820,865,750,750,750,750,750,1026,750,750,750,750,1150,820,750,750,750,750,750,1050,750,750,1026,820,1100,850,810,750,820,830,916,750,950,750,750,1270,950,830,850,750,995,750,920,750,748,1216,950,965,950,750,839,850,850,798,750,798,750,796,750,904,1100,1100,865,1100,953,945,1017,960,1100,1111,1100,806,750,750,750,750,850,750,953,850,1200,1141,750,1141,830,1141,750,750,750,1173,920,806,750,920,850,810,750,927,750,750,938,755,750,750,750,1270,1126,1006,930,1214,926,830,523,850,610,1100,850,830,1138,920,1000,850,800,800,830,800,966,1138,958,1038,1138,1000,903,830,1026,1000,830,1100,936,963,800,959,950,921,800,970,1100,970,1022,1141,965,810,1324,1288,1138,830,965,980,927,750,1237,750,970,950,1000,862,1100,1150,1237,936,903,1506,1100,1616,921,960,950,549,920,920,920,959,920,1100,920,920,920,920,920,947,920,920,920,920,920,920,820,920,920,920,947,920,920,959,927,806,974,1201,950,820,960,969,1000,1000,619,926,830,820,820,900,820,950,820,1160,1170,969,1200,930,947,810,820,820,820,820,820,1050,820,820,820,784,820,830,820,950,820,820,830,830,820,850,830,830,820,820,947,1112,800,926,830,830,820,1100,830,1111,820,936,947,936,1101,903,1425,990,926,832,926,820,1000,910,927,922,950,922,1250,927,936,820,922,922,936,820,936,922,936,936,936,936,1141,1101,1214,1173,900,825,1120,988,850,1173,1239,920,1120,1231,1123,832,526,753,854,916,1025,950,1025,1120,1050,936,1025,832,830,920,950,1040,936,830,823,748,920,832,832,832,832,1025,832,832,883,1050,832,832,832,832,832,920,748,920,832,832,950,832,920,930,748,832,832,1164,951,748,936,832,1206,930,936,936,828,1142,1211,1200,800,1198,820,820,820,820,1000,1219,900,920,920,920,920,1000,1164,912,900,1164,1101,1199,1209,1224,1210,1218,1218,1212,854,1150,910,800,920,800,1200,920,980,920,1199,1199,1199,1220,1178,1101,1025,1101,526,854,825,854,825,960,960,1025,830,927,1119,950,927,1119,960,920,1098,960,960,960,965,800,92,960,900,830,800,1036,820,830,928,900,926,810,1101,1101,1670,935,1220,1200,1200,1190,1162,1231,1250,1250,980,1245,1231,1256,1225,1240,1250,1267,920,920,920,1244,1260,817,604,602,1040,1300,1250,1300,920,1250,920,1212,920,920,920,927,1243,920,920,920,920,965,927,920,1211,1250,1219,1255,1248,1310,1256,1299,1310,1150,1200,1215,1289,1000,1199,1210,1215,1220,1225,1230,1255,1257,1262,1263,1235,1240,604,900,953,1099,927,900,1028,810,927,920,910,950,1210,1215,1255,1217,1219,1229,1219,1110,1101,1221,1229,1101,1218,1178,1249,1198,1150,1244,1225,1224,1234,1244,1210,1220,1266,1276,1214,1210,1243,1220,1229,1256,1300,825,750,1249,1064,1050,1064,927,1097,1119,920,840,910,850,900,914,1119,1050,1235,1240,1229,1235,1235,1240,1233,1240,1236,1245,1238,1237,1236,1199,1198,1203,1250,1205,1266,1228,1229,1231,1233,1239,1234,1239,1025,1221,1025,1220,1234,1225,1237,1200,950,1199,920,920,920,900,920,920,920,920,920,920,920,920,920,920,920,920,920,920,920,920,920,1100,1210,1210,1220,1215,1230,1225,1220,1230,1302,1052,904,904,1178,900,1312,885,900,885,962,1200,1100,1100,900,1115,1100,1224,1222,1228,1221,1227,1225,1231,1219,1227,1229,526,900,604,900,900,885,1179,1135,1135,1135,850,1097,1097,1135,1135,1119,920,1126,900,885,605,855,885,850,1250,832,851,902,950,920,1100,910,900,960,1030,910,1109,904,1107,1101,1101,1107,868,1160,1379,1300,1327,1209,1073,720,960,1179,902,923,947,1227,1101,635,1327,1050,947,943,850,1101,1100,450,1097,1170,950,1025,1098,1050,1025,1025,959,1025,1119,1050,1119,1170,1170,1170,1170,1170,1170,1107,1101,1170,1025,1107,1050,1304,900,900,1178,950,950,902,902,1098,1173,1173,1270,1150,1107,1350,1213,1168,1278,943,1003,943,947,943,1025,947,1100,900,900,1100,943,1222,885,940,943,1100,972,947,940,940,947,1064,902,947,850,920,923,940,1100,1000,943,950,1250,1250,1400,1250,1093,1056,902,1025,1266,1000,950,902,1050,943,943,920,1100,1100,1097,943,1307,1107,1307,1432,1277,1219,1200,1283,1307,1269,1107,1107,910,1250,1550,943,947,1107,1107,1101,1240,1100,926,998,719,900,943,980,1101,947,1161,1018,1050,1104,900,1200,1200,943,1250,920,1100,1088,1097,979,950,1079,1050,1040,920,1101,1101,1101,1101,1101,1101,1550,1101,1101,1101,1080,868,1389,1000,943,943,1080,980,980,1018,943,1050,943,1097,1142,1135,1222,1142,719,1104,979,1200,923,979,943,850,923,943,1046,979,923,1046,923,1046,1100,923,1046,923,947,950,1000,1046,915,915,1255,1046,1101,1751,1320,945,943,1044,947,1050,1044,1142,1142,1751,1751,1751,1751,1751,1044,1044,720,1000,900,1088,950,1097,943,943,1097,1100,1100,1105,1018,1104,1100,1018,943,850,943,1097,1097,1164,943,943,1010,943,1100,1050,1100,943,1104,980,1097,1097,943,943,1010,1000,943,980,1065,927,943,1097,1097,850,943,1106,1097,1100,1104,1097,1063,1050,1097,1250,1044,943,943,1018,1097,1097,1097,950,1021,1100,1100,1100,1100,1100,1751,1800,1751,1751,1751,1700,1700,1700,596,719,979,979,979,944,979,1104,900,979,923,1142,1968,1968,1150,1050,1104,1307,719,719,922,1104,1000,1100,979,1000,1161,979,1104,979,1000,1104,1018,956,956,1300,1020,1000,956,922,922,922,1020,1104,1000,1104,1104,1000,1018,1000,1104,1000,1104,1104,1000,922,1000,1000,806,1000,900,1000,1104,947,1104,943,1138,945,1160,1097,947,1142,1142,1142,1142,1142,1142,1751,1751,1263,1020,762,596,854,1100,1104,943,1100,943,943,943,1080,943,1064,844,1370,832,1278,1104,1051,1031,1104,979,1200,724,887,1018,1051,943,943,1104,1550,943,1018,1550,1079,832,943,943,1051,1051,1051,1106,1051,832,920,978,1464,1142,1142,1142,1142,1142,1142,1610,1104,1100,762,604,1300,1300,1300,1300,1207,1142,1207,1207,1207,1207,1142,1207,1033,1207,1400,1609,1050,1609,1394,943,1207,1500,1610,850,775,1000,719,1104,1018,979,979,1104,1063,1135,1050,1104,893,830,1065,943,1065,899,893,868,1018,1142,1142,1142,1142,1142,1207,1142,1207,1142,1142,1142,1142,1142,1142,1142,1142,1142,1142,1142,1142,1142,1142,1142,1142,1142,1142,1779,1751,1751,832,979,1250,1050,762,735,1104,1280,979,1033,762,1106,956,900,1062,1106,900,956,910,956,1062,1134,1010,1065,958,958,1134,956,979,956,1050,1051,832,956,960,900,1050,1050,1018,979,1000,1050,762,1394,1300,900,1080,1142,1142,1134,1012,1135,1033,1207,1050,1050,922,1200,1280,1033,1364,803,962,920,1100,920,893,1096,899,1281,1281,1142,1063,1281,1281,1281,1129,910,1281,1281,1281,1050,898,1250,1281,1281,1280,1142,1147,1142,1147,1147,1000,1147,900,865,753,922,1300,1100,1200,920,798,774,742,956,1280,1250,1115,1264,1264,1280,1205,1044,775,1171,1018,1375,1104,844,1064,1064,775,719,1203,774,1106,1276,1106,922,1300,830,956,1010,1257,1203,1203,1364,1464,1203,1280,1203,1203,1203,762,1364,1208,1142,1211,1003,1280,1280,1106,1250,956,1238,1335,1017,1109,1063,1135,1010,947,947,1304,1106,1106,1364,1364,1364,1364,1507,1050,1003,810,1050,1106,1106,1050,947,914,1106,1050,1106,1280,1280,1280,1206,1206,1206,1050,1010,958,1368,1464,762,710,920,962,1225,1106,1200,2217,1072,920,1100,1100,1132,1026,1106,2180,1152,897,1461,1207,1050,1207,1450,1208,1030,1464,2276,1033,1050,1735,1461,1315,914,1026,978,914,897,958,1550,1206,1010,1010,1010,1010,1797,1461,1206,1206,1142,1206,1875,1797,1000,805,1450,1450,800,1049,1364,762,914,1013,910,1460,930,762,996,1280,914,1200,1200,1209,1207,660,1250,1350,1472,1207,1207,1364,1380,1380,1450,1750,1550,1735,1127,941,2185,2185,2185,2185,942,941,1300,1080,1203,1125,1750,1461,1461,1611,1611,1450,1450,1611,1611,1450,1611,1611,1611,1611,1611,1611,1611,1611,1461,1611,1611,1611,1461,1611,1611,1450,1611,1611,1611,1611,1125,1097,1200,1450,1280,1461,1450,1450,1461,1461,1461,1461,1097,914,1478,1364,1469,1611,1611,1094,1162,1285,1602,1127,774,1611,1450,1611,1797,1486,1461,1611,1797,762,1113,916,1450,1450,1450,1450,750,987,1450,1611,1013,1200,1200,1200,1213,1093,1304,916,1213,2123,1792,1361,814,1658,1658,1127,2125,1280,762,700,803,1127,1622,1137,1450,1483,1460,916,1464,1557,978,720,1278,1127,1171,1890,803,1054,1500,2024,1054,1470,1121,1485,1017,1980,1311,1561,1850,1800,1485,1800,1590,1272,1808,1605,1605,1605,1278,1150,4177,915,947,1328,4177,4177,1168,1672,1672,1626,850,4177,1427,1225,3542,915,915,954,1065,1527,1685,2765,1672,1808,2228,1211,2497,1636,2500,2900,4764,3542,4764,1328,1800,2500,1672,1556,1556,1556,2887,3800,1271,1500],\"xaxis\":\"x\",\"y\":[22000,85000,98000,100000,105000,109000,109000,110000,110000,110000,110000,110000,110000,110000,115000,115000,115000,115000,115000,115000,120000,120000,120000,120000,120000,120000,120000,120000,123930,125000,125000,125000,125000,125000,125000,125000,125000,125000,125000,125000,125000,125000,128000,128500,130000,130000,130000,130000,130000,135000,135000,135000,135000,135000,137000,138000,138000,138000,139000,140000,140000,140000,140000,140000,140000,140000,140000,140000,140000,142000,143000,143000,145000,145000,145000,145000,145000,145000,145000,145000,145000,145000,145000,145000,145000,145000,147000,148000,148000,148000,148000,148000,148000,148000,148000,148000,148000,150000,150000,150000,150000,150000,150000,150000,150000,155000,155000,155000,155000,155000,155000,155000,155000,155000,155000,155000,155000,155000,155000,155000,155000,158000,158000,158000,158000,158000,158000,158000,159000,159000,160000,160000,160000,160000,160000,160000,160000,160000,160000,160000,160000,160000,160000,162000,162000,163000,165000,165000,165000,165000,165000,165000,165000,165000,165000,165000,165000,165000,165000,165000,165000,165000,168000,168000,168000,169000,170000,170000,170000,170000,170000,170000,170000,171000,171000,175000,175000,175000,175000,175000,175000,175000,175000,175000,175000,175000,175000,175000,175000,175000,175000,178000,178000,179999,180000,180000,180000,180000,180000,180000,180000,180000,180000,180000,180000,180000,185000,185000,185000,185000,185000,185000,188000,188000,188000,189540,190000,190000,190000,190000,190000,190000,190000,190000,190000,190000,190000,190000,190000,190000,190000,195000,195000,195000,195000,195000,195000,195000,195000,195000,195000,195000,195000,195000,195000,195000,195000,195000,195000,195000,195000,195000,195000,195000,195000,195000,195000,195000,195000,195000,195000,195000,195000,195000,195000,195000,195000,195000,195000,195000,195000,195000,198000,198000,198000,199000,199000,199000,199000,199000,200000,200000,200000,200000,200000,200000,200000,200000,200000,200000,200000,200000,200000,200000,200000,200800,205000,205000,207000,207000,207400,207400,208000,210000,210000,210000,210000,210000,210000,210000,210000,215000,215000,215000,215000,215000,215000,215000,215000,215000,215000,217000,218000,220000,220000,220000,220000,220000,220000,220000,220000,220000,220000,220000,220000,220000,220000,220000,220000,225000,228000,228000,228000,228000,229000,230000,230000,230000,230000,230000,230000,230000,230000,230000,230000,230000,233000,233000,234900,234900,235000,235000,235000,235000,235000,235000,235000,235000,235000,235000,235000,235000,235000,235000,235000,235000,235000,235000,238800,239999,240000,240000,240000,240000,240000,240000,240000,240000,240000,240000,240000,240000,240000,240000,240000,240000,240000,240000,240000,240000,240000,240000,240000,240000,240000,240000,240000,240000,240000,243000,243000,243000,245000,245000,245000,245000,245000,245000,245000,245000,245000,245000,245000,245000,245000,245000,245000,245000,245000,245000,245000,245000,245000,245000,245000,245000,245000,245000,245000,245000,245000,246000,248000,248000,248000,250000,250000,250000,250000,250000,250000,250000,250000,250000,250000,250000,250000,250000,250000,250000,250000,250000,250000,250000,250000,250000,250000,250000,250000,250000,250000,250000,250000,250000,250000,250000,250000,250000,250000,250000,250000,250000,250000,252000,255000,255000,255000,258000,258000,258000,258000,258000,259000,260000,260000,260000,260000,260000,260000,260000,260000,260000,260000,260000,260000,260000,260000,260000,260000,260000,260000,260000,260000,260000,260000,260000,260000,260000,260000,260000,260000,260000,260000,260000,260000,260000,265000,265000,265000,265000,265000,265000,265000,265000,265000,265000,265000,265000,265000,265000,266666,267000,268000,268000,268000,268000,268000,269000,269000,270000,270000,270000,270000,270000,270000,270000,270000,270000,270000,270000,270000,270000,270000,275000,275000,275000,275000,275000,275000,275000,275000,275000,275000,275000,275000,275000,275000,278000,278000,278000,279000,279000,279999,279999,280000,280000,280000,280000,280000,280000,280000,280000,280000,280000,280000,280000,280000,280000,280000,280000,280000,280000,280000,280000,280000,280000,280000,280000,280000,280000,280000,280000,280000,283000,285000,285000,285000,285000,285000,285000,285000,285000,285000,285000,285000,285000,288000,288000,288000,288000,288000,289000,289000,289000,290000,290000,290000,290000,290000,290000,290000,290000,290000,290000,290000,290000,290000,290000,290000,290000,291600,291600,293000,295000,295000,295000,295000,295000,295000,295000,295000,295000,295000,295000,295000,295000,295000,295000,295000,295000,295000,295000,295000,295000,295000,295000,295000,295000,295000,295000,295000,295000,295000,295000,295000,298000,298000,298000,298000,298000,298888,299000,299000,299000,299000,299000,299000,299000,299000,299000,299000,299000,299000,299000,299000,299999,300000,300000,300000,300000,300000,300000,300000,300000,300000,300000,300000,300000,300000,300000,300000,300000,300000,300000,300000,300000,300000,300000,300000,300000,300000,300000,300000,300000,300000,300000,300000,300000,300000,300000,300000,300000,300000,300000,300000,300000,300000,300000,300000,300000,300000,300000,300000,300000,300000,300000,300000,300000,300000,300000,300000,300000,300000,300000,300000,300000,300000,300000,300000,300000,300000,300000,300000,300000,300000,300000,300000,300000,300000,300000,300000,300000,300000,300000,300000,300000,300000,300000,300000,300000,300000,300000,300000,300000,300000,300000,300000,300000,300000,300000,300000,300000,300000,300120,303000,303000,305000,305000,305000,305000,305000,305000,305000,305000,307000,307000,307000,307000,307800,307800,308000,308000,308000,308000,308000,308000,309000,309000,310000,310000,310000,310000,310000,310000,310000,310000,310000,310000,310000,310000,310000,310000,313000,313000,315000,315000,315000,315000,315000,315000,315000,315000,315000,315000,315000,315000,315000,315000,315000,317000,318000,318000,318000,319000,320000,320000,320000,320000,320000,320000,320000,320000,320000,320000,320000,320000,320000,320000,320000,320000,320000,320000,320000,320000,320000,320000,320000,320000,320000,320000,320000,320000,320000,320000,320000,320000,320000,320000,320000,320000,320000,320000,320000,320000,320000,320000,320000,320000,320000,320000,320000,320000,320000,320000,320000,320000,320000,320000,320000,320000,320000,324000,325000,325000,325000,325000,325000,325000,325000,325000,326000,328000,328000,329000,329000,329000,329999,329999,330000,330000,330000,330000,330000,330000,330000,330000,330000,330000,330000,330000,330000,330000,330000,330000,330000,330000,330000,330000,330000,330000,330000,330000,330000,330000,330000,330000,330000,330000,330000,330000,330000,330000,330000,330000,330000,330000,330000,330000,330000,330000,330000,330000,330000,330000,330000,330000,330000,330000,330000,330000,330000,330000,330000,330000,330000,330000,330000,330000,330000,330000,330000,330000,330000,330000,330000,330000,330000,330000,330000,330000,330800,332000,332000,333000,333000,333000,335000,335000,335000,335000,335000,335000,335000,335000,335000,335000,335000,335000,335000,335000,335000,335000,335000,338000,338000,338000,338000,338000,338000,339000,339000,340000,340000,340000,340000,340000,340000,340000,340000,340000,340000,340000,340000,340000,340000,340000,340000,340000,340000,340000,340000,340000,340000,340000,343000,343000,344000,344989,345000,345000,345000,345000,345000,345000,345000,346000,346000,346000,346000,347000,348000,348000,348000,348000,348000,348000,348888,349000,350000,350000,350000,350000,350000,350000,350000,350000,350000,350000,350000,350000,350000,350000,350000,350000,350000,350000,350000,350000,350000,350000,350000,350000,350000,350000,350000,350000,350000,350000,350000,350000,350000,350000,350000,350000,350000,350000,350000,350000,350000,350000,350000,350000,350000,350000,350000,350000,350000,350000,350000,350000,350000,350000,350000,350000,350000,350000,350000,350000,350000,353000,353000,355000,355000,355000,355000,355000,355000,355000,355000,355000,355000,355000,355000,355000,355000,355000,355000,355000,355000,355000,355000,355000,355000,355000,355000,355000,355000,355000,355000,357000,358000,358000,358000,358000,359000,359000,359000,359000,360000,360000,360000,360000,360000,360000,360000,360000,360000,360000,360000,360000,360000,360000,360000,360000,360000,360000,360000,360000,360000,360000,360000,360000,360000,360000,360000,360000,360000,360000,360000,360000,360000,360000,360000,360000,360000,360000,360000,360000,360000,360000,360000,360000,360000,360000,360000,360000,360000,360000,360000,360000,360000,360000,360000,360000,360000,363000,363000,363000,363000,365000,365000,365000,365000,365000,365000,365000,365000,365000,365000,365000,365000,365000,365000,365000,365000,365000,365000,365000,365000,365000,365000,365000,365287,367000,368000,368000,368000,368000,368000,368000,368000,369000,369000,369000,369780,369999,370000,370000,370000,370000,370000,370000,370000,370000,370000,370000,370000,370000,370000,370000,370000,370000,370000,370000,370000,370000,370000,370000,370000,370000,370000,370000,370000,370000,370000,370000,370000,370000,370000,370000,370000,370000,370000,370000,370000,370000,370000,370000,370000,370000,370000,370000,370000,370000,370000,370000,370000,370000,370000,370000,370000,370000,370000,370000,370411,370485,370800,371000,372000,372000,372000,372000,374210,374569,375000,375000,375000,375000,375000,375000,375000,375000,375000,375000,375000,375500,375630,376430,376548,376549,376830,377340,378000,378000,378000,378000,378000,378000,378200,379000,379000,379000,379500,379500,379500,379500,379800,379998,379999,379999,380000,380000,380000,380000,380000,380000,380000,380000,380000,380000,380000,380000,380000,380000,380000,380000,380000,380000,380000,380000,380000,380000,380000,380000,380000,380000,380000,380000,380000,380000,380000,380000,380000,380000,380000,380000,380000,380888,381500,381600,381900,382000,382031,382100,382900,382900,383000,383100,383200,383240,383240,383260,383280,383290,384000,384000,384000,384200,384400,384999,385000,385000,385000,385000,385000,385000,385000,385000,385000,385000,385000,385000,385000,385000,385000,385000,385000,385000,385000,385000,385000,385000,385024,385100,385100,385250,385400,385500,385600,385900,386000,386100,386500,386500,387000,387000,387100,387150,387250,387350,387450,387550,387556,387559,387566,387570,387650,387750,388000,388000,388000,388000,388000,388000,388000,388000,388000,388000,388000,388000,388100,388150,388340,388550,388580,388655,388750,388800,388800,388850,388850,388888,388950,389000,389000,389100,389200,389333,389500,389550,389555,389567,389700,389700,389760,389777,389800,389860,389888,389900,389970,389999,389999,390000,390000,390000,390000,390000,390000,390000,390000,390000,390000,390000,390000,390000,390000,390000,390000,390000,390200,390230,390250,390300,390350,390400,390450,390500,390550,390600,390650,390750,390850,391000,391000,391076,391200,391268,391555,391700,391800,391900,392100,392200,392200,394000,394000,394000,394000,394100,394200,394350,394350,395000,395000,395000,395000,395000,395000,395000,395000,395000,395000,395000,395000,395000,395000,395000,395000,395000,395000,395000,395000,395000,395000,395000,395000,395000,395100,395150,395200,395250,395300,395350,395350,395450,396000,396000,397000,397000,397000,398000,398000,398000,398000,398000,398000,398000,398000,398000,398000,398000,398000,398250,398320,398350,398450,398450,398455,398550,398555,398655,398755,399000,399000,399000,399000,399000,399000,399000,399000,399000,399000,399000,399000,399000,399000,399000,399000,399000,399000,399000,400000,400000,400000,400000,400000,400000,400000,400000,400000,400000,400000,400000,400000,400000,400000,400000,400000,400000,400000,400000,400000,400000,400000,400800,402000,402000,402000,403000,404000,405000,405000,405000,405000,405000,405000,405000,405000,406800,408000,408000,408000,408000,408000,408000,408000,408888,410000,410000,410000,410000,410000,410000,410000,410000,410000,410000,410000,410000,410000,410000,410000,410000,410000,410000,410000,410000,410000,410000,410000,410000,410000,410500,413000,415000,415000,415000,415000,415000,415000,415000,415000,415000,415000,415000,415000,415000,415150,415350,416000,417000,418000,418000,418000,418000,418000,418000,418888,419000,419000,419000,419000,419000,419500,420000,420000,420000,420000,420000,420000,420000,420000,420000,420000,420000,420000,420000,420000,420000,420000,420000,420000,420000,420000,420000,420000,420000,420000,420000,420000,420000,420000,420000,420000,420000,420000,420000,420000,420000,420000,420000,420000,420000,420000,420000,420000,420000,420150,420761,421000,421000,421035,422000,424000,424000,424000,425000,425000,425000,425000,425000,425000,425000,425000,425300,428000,428000,428000,430000,430000,430000,430000,430000,430000,430000,430000,430000,430000,430000,430000,430000,430000,430000,430000,430000,430000,430000,430000,430000,430000,430000,430000,430000,430000,430000,430000,430000,430000,430000,430000,430000,430000,430000,433000,433500,434900,435000,435000,435000,435000,438000,438000,438000,438000,438000,438000,438000,438000,439000,439261,439999,440000,440000,440000,440000,440000,440000,440000,440000,440000,440000,440000,440000,440000,440000,440000,440000,440000,440000,440000,440000,440000,440000,440000,440000,440000,440000,440000,440000,440000,440000,440500,443000,445000,445000,445000,445000,445000,445000,445000,445000,445000,445000,445000,445000,445500,445500,448000,448000,448000,449000,449000,450000,450000,450000,450000,450000,450000,450000,450000,450000,450000,450000,450000,450000,450000,450000,450000,450000,450000,450000,450000,450000,450000,450000,450000,450000,450000,450000,450000,450000,450000,450000,450000,450000,450000,450000,450000,450000,450000,450000,450000,450000,450000,450000,450000,450000,450000,450000,450000,450000,450000,450000,450000,450000,450000,450000,450000,450000,450000,450000,450000,450000,450000,450000,450000,450000,450000,450000,450000,450000,450000,450000,450000,450000,455000,455000,455000,455000,455000,455000,455000,455000,455000,455000,455000,455000,455000,455000,458900,459000,459500,459600,459999,460000,460000,460000,460000,460000,460000,460000,460000,460000,460000,460000,460000,460000,460000,460000,460000,460000,460000,460000,460000,460000,460000,460000,460000,460000,460000,460000,460000,460000,460000,460000,460000,460000,460000,460000,460000,460000,460000,460000,460000,460000,460000,460000,460000,460000,460000,460000,460000,460000,460000,460000,460000,460000,460000,460000,460000,460000,460000,460000,460000,460912,463999,465000,465000,465000,465000,465000,465000,465000,465000,465000,465000,465000,465000,465000,468000,468000,468000,468000,469000,469000,469000,469000,469000,469999,470000,470000,470000,470000,470000,470000,470000,470000,470000,470000,470000,470000,470000,470000,470000,470000,470000,470000,470000,470000,470000,470000,470000,470000,470000,470000,470000,470000,470000,470000,470230,472000,474990,475000,475000,475000,475000,475000,475000,475000,475000,475000,475000,475000,475000,475000,475000,475000,475000,475000,478000,478000,478000,478000,478000,478000,478000,479000,480000,480000,480000,480000,480000,480000,480000,480000,480000,480000,480000,480000,480000,480000,480000,480000,480000,480000,480000,480000,480000,480000,480000,480000,480000,480000,480000,480000,480000,480000,480000,480000,480000,480000,480000,480000,480000,480000,480000,480000,480000,480000,480000,480000,480000,480000,480000,480000,480000,480000,480000,485000,485000,485000,485000,488000,488000,488000,489000,489000,489000,490000,490000,490000,490000,490000,490000,490000,490000,490000,490000,490000,490000,490000,490000,490000,490000,490000,490000,490000,490000,490000,490000,490000,490000,490000,490000,490000,490000,490000,490000,490000,490000,495000,495000,495000,495000,495000,495000,495000,495000,498000,498000,498000,498000,499000,499000,499000,499000,499000,499000,499999,500000,500000,500000,500000,500000,500000,500000,500000,500000,500000,500000,500000,500000,500000,500000,500000,500000,500000,500000,500000,500000,500000,500000,500000,500000,500000,500000,500000,500000,500000,500000,500000,500000,501000,502000,505000,505000,508000,508000,508000,508888,510000,510000,510000,510000,510000,510000,510000,510000,510000,510000,510000,511560,515000,518000,518000,518000,519000,519999,519999,519999,520000,520000,520000,520000,520000,520000,520000,520000,520000,520000,520000,520000,520000,520000,520000,520000,520000,520000,520000,520000,520000,520000,525000,525000,525000,528000,528000,530000,530000,530000,530000,530000,530000,530000,530000,530000,530000,530000,530000,530000,530000,530000,530000,530000,530000,530000,530000,530000,530000,530000,538000,539000,540000,540000,540000,540000,540000,540000,540000,540000,540000,540000,540000,540000,540000,540000,540000,540000,545000,545000,548000,548000,548999,550000,550000,550000,550000,550000,550000,550000,550000,550000,550000,550000,550000,550000,550000,550000,550000,550000,550000,550000,550000,550000,550000,550000,550000,550000,550000,550000,550000,550000,550000,555000,555000,558000,558000,558000,559000,560000,560000,560000,560000,560000,560000,560000,560000,560000,560000,560000,560000,560000,560000,560000,560000,565000,568000,568000,568000,570000,570000,570000,575000,575000,577000,578000,579000,579888,580000,580000,580000,580000,580000,580000,580000,580000,580000,580000,580000,580000,580000,580000,580000,580000,580000,580000,580000,580000,580000,588000,589000,589000,589000,589000,589000,590000,590000,590000,590000,590000,590000,590000,590000,590000,590000,590000,590000,590000,590000,590000,590000,590000,590000,590000,590000,590000,590000,590000,590000,590000,590000,590000,590000,590000,590000,590000,590000,590000,590000,590000,590000,590490,595000,595000,595000,595000,595000,595000,595000,595000,595000,595000,595000,598000,598000,598000,598000,599000,599000,599999,600000,600000,600000,600000,600000,600000,600000,600000,600000,600000,600000,600000,600000,600000,608000,608000,610000,610000,610000,615000,618888,619000,620000,620000,620000,625000,625000,625000,625000,630000,630000,630000,630000,630000,630000,630000,630000,639000,639000,639000,640000,640000,649888,650000,650000,650000,650000,650000,650000,650000,650000,650000,660000,660000,660000,660000,670000,670000,680000,690000,695000,699000,700000,700000,705000,720000,720000,727000,728000,750000,750000,750000,765000,768000,770000,775000,780000,780000,780000,786000,790000,790000,790000,799000,800000,848000,850000,850000,850000,850000,850000,860000,875000,875000,880000,888000,890000,899000,900000,900000,915000,920000,920000,930000,948888,950000,970000,978888,980000,980000,990000,990000,993000,1000000,1000000,1000000,1000000,1000000,1050000,1100000,1180000,1200000,1250000,1250000,1250000,1400000,1600000,2100000,3800000],\"yaxis\":\"y\",\"type\":\"scattergl\"},{\"customdata\":[[2,1],[2,1],[2,1],[2,1],[2,1],[2,1],[2,1],[2,1],[2,1],[2,1],[2,1],[2,1],[2,1],[2,1],[2,1],[2,1],[2,1],[2,1],[2,1],[3,2],[3,2],[3,2],[3,2],[3,2],[3,2],[2,1],[2,1],[2,1],[2,1],[2,1],[2,1],[3,2],[3,2],[3,2],[3,2],[3,2],[3,2],[3,2],[3,2],[3,2],[1,1],[3,2],[3,2],[3,2],[3,2],[3,2],[1,2],[3,2],[3,2],[3,2],[3,2],[3,2],[3,2],[4,2],[3,2],[3,2],[3,2],[3,2],[3,2],[3,2],[3,2],[3,2],[3,2],[3,2],[3,2],[3,2],[3,2],[3,2],[3,2],[3,2],[3,2],[3,2],[3,2],[3,2],[3,2],[3,2],[3,2],[3,2],[3,2],[2,2],[3,2],[3,2],[3,2],[3,2],[3,2],[3,2],[3,2],[3,2],[3,2],[3,2],[3,2],[3,2],[3,2],[3,2],[3,2],[3,2],[3,2],[3,2],[3,2],[3,2],[3,2],[3,2],[3,2],[3,2],[3,2],[3,2],[3,2],[3,2],[3,2],[2,2],[2,2],[3,2],[3,2],[3,2],[3,2],[3,2],[3,2],[3,2],[3,2],[3,2],[3,2],[3,2],[3,2],[3,2],[3,2],[3,2],[3,2],[3,2],[3,2],[3,2],[3,2],[3,2],[3,2],[3,2],[3,2],[3,2],[3,2],[3,2],[3,2],[3,2],[2,2],[2,2],[3,2],[2,2],[3,2],[3,2],[3,2],[3,2],[3,2],[3,2],[3,2],[3,2],[2,2],[2,2],[2,2],[3,2],[3,2],[3,2],[3,2],[3,2],[3,2],[3,2],[3,2],[3,2],[3,2],[3,2],[3,2],[3,2],[3,2],[3,2],[3,2],[3,2],[3,2],[3,2],[3,2],[3,2],[3,2],[3,2],[3,2],[3,2],[3,2],[3,2],[3,2],[3,2],[3,2],[3,2],[3,2],[3,2],[3,2],[2,2],[2,2],[3,2],[3,2],[3,2],[3,2],[3,2],[3,2],[3,2],[3,2],[3,2],[3,2],[3,2],[3,2],[3,2],[3,2],[3,2],[3,2],[3,2],[3,2],[3,2],[3,2],[3,2],[3,2],[4,3],[4,3],[3,2],[3,2],[3,2],[3,2],[3,2],[3,2],[3,2],[3,2],[3,2],[3,2],[3,2],[3,2],[3,2],[3,2],[3,2],[3,2],[3,2],[3,2],[3,2],[3,2],[3,2],[3,2],[3,2],[3,2],[3,2],[4,4],[4,4],[3,2],[5,3],[3,2],[5,2],[5,3],[5,3],[4,3],[5,3],[4,2],[4,2],[5,2]],\"hovertemplate\":\"Area=DESA PETALING<br>Size (sq.ft.)=%{x}<br>Price (RM)=%{y}<br>Bedrooms=%{customdata[0]}<br>Bathrooms=%{customdata[1]}<extra></extra>\",\"legendgroup\":\"DESA PETALING\",\"marker\":{\"color\":\"#FF6692\",\"symbol\":\"circle\"},\"mode\":\"markers\",\"name\":\"DESA PETALING\",\"showlegend\":true,\"x\":[581,620,650,610,603,603,603,603,603,603,602,600,550,600,600,600,600,560,650,650,650,650,650,650,650,600,560,550,560,570,555,650,650,650,650,650,650,650,843,829,320,960,800,960,826,850,836,831,936,829,850,850,886,837,886,886,1000,786,850,850,850,850,850,850,960,850,850,850,850,850,850,850,850,826,826,826,826,831,850,826,850,850,832,831,826,826,831,886,826,826,826,826,826,826,826,826,826,826,886,826,826,826,900,900,826,886,831,830,960,960,960,827,960,827,831,960,827,827,827,895,827,827,827,827,827,827,827,827,883,830,830,886,990,886,886,1109,886,886,886,1021,960,960,866,960,960,960,886,960,774,774,829,774,778,778,778,778,778,778,960,850,830,830,956,926,1050,778,1050,1050,1000,1050,956,950,1001,1015,778,1050,956,936,860,900,916,800,956,956,956,956,1200,956,1198,778,778,778,778,778,778,962,956,778,778,956,778,778,778,778,778,956,778,778,900,900,1246,999,1280,1280,1280,1167,1000,1243,1173,1231,1050,1056,1056,1056,999,1139,1050,1000,1144,1170,1248,1245,1050,1238,1150,1000,900,1144,1246,1246,1800,1862,839,1525,1216,1219,1400,1403,1219,1403,1219,1329,1219],\"xaxis\":\"x\",\"y\":[105000,110000,125000,125000,128000,128000,128000,128000,128000,130000,130000,133888,135000,150000,150000,150000,150000,160000,160000,170000,170000,170000,170000,170000,170000,178000,180000,180000,180000,180000,180000,180000,180000,180000,185000,197000,197000,198000,202662,216000,220000,220000,220000,225000,228000,230000,235000,235000,240000,243000,245000,245000,245000,245000,248000,248000,248000,250000,250000,250000,250000,250000,250000,250000,250000,250000,250000,250000,250000,250000,250000,250000,250000,255000,255000,255000,255000,258000,258000,265000,265000,265000,265000,265000,265000,270000,270000,270000,271000,272000,272000,272000,272000,272000,272000,272000,272000,275000,275000,275000,275000,275000,275000,275000,275000,275000,275000,278000,278000,280000,280000,280000,280000,280000,280000,280000,280000,280000,280000,280000,280000,280000,280000,280000,280000,280000,280000,280000,280000,290000,290000,290000,290000,290000,290000,290000,290000,290000,290000,290000,295000,295000,295000,298000,298000,298000,298000,298000,299000,299000,299000,299000,300000,300000,300000,300000,300000,300000,300000,305000,308000,308000,310000,310000,310000,310000,310000,310000,315000,320000,320000,320000,320000,320000,320000,325000,325000,330000,330000,330000,330000,330000,335000,335000,335000,335000,338000,340000,340000,350000,350000,350000,350000,350000,350000,350000,350000,350000,350000,350000,350000,350000,350000,350000,350000,350000,350000,350000,355000,355000,378000,380000,384999,388000,388000,390000,390000,390000,390123,397000,399000,400000,400000,405000,405000,407000,419000,420000,420000,422382,428000,428000,428000,428000,428000,438000,438000,448000,448000,449000,530000,540000,580000,700000,710000,715000,730000,739999,740000,749999,750000,850000,1100000],\"yaxis\":\"y\",\"type\":\"scattergl\"},{\"customdata\":[[2,1],[3,2],[3,2],[2,2],[3,2],[3,2],[3,2],[2,2],[3,2],[3,2],[3,2],[3,2],[3,2],[3,2],[3,2],[3,2],[3,2],[3,2],[2,2],[3,1],[3,2],[3,2],[2,1],[2,2],[3,1],[3,2],[3,2],[3,2],[3,2],[3,2],[3,2],[3,2],[3,2],[3,2],[3,2],[3,2],[3,2],[3,2],[3,2],[3,2],[3,2],[3,2],[3,2],[3,2],[2,1],[3,2],[3,2],[3,2],[3,2],[3,2],[3,2],[3,2],[3,2],[3,2],[3,2],[3,2],[3,2],[3,2],[3,2],[3,2],[3,2],[3,2],[3,1],[3,2],[3,1],[3,2],[3,2],[3,2],[3,1],[3,2],[3,2],[3,2],[3,2],[3,2],[3,2],[3,2],[3,2],[3,2],[3,2],[3,2],[3,2],[3,2],[3,2],[3,2],[3,2],[3,2],[3,2],[3,2],[3,2],[3,2],[3,2],[3,1],[3,2],[3,2],[3,2],[3,2],[3,2],[3,2],[3,2],[3,1],[3,2],[3,1],[3,2],[2,2],[3,2],[3,1],[3,2],[3,1],[3,2],[3,1],[3,2],[3,1],[3,2],[3,2],[3,1],[3,2],[3,1],[3,2],[3,2],[3,2],[3,2],[3,2],[3,1],[3,2],[3,2],[3,2],[5,2],[2,1],[2,2],[3,2],[3,2],[3,2],[3,2],[3,2],[3,2],[3,2],[3,2],[3,1],[3,2],[3,2],[3,2],[3,2],[3,2],[3,2],[3,3],[3,2],[3,1],[3,1],[3,1],[3,1],[3,2],[3,2],[3,2],[3,1],[3,2],[3,2],[3,2],[2,1],[2,1],[3,2],[3,2],[3,2],[3,1],[3,2],[3,2],[3,1],[3,2],[3,2],[3,2],[2,1],[3,2],[3,2],[3,2],[3,2],[3,2],[3,2],[3,2],[3,2],[3,2],[3,2],[3,2],[3,2],[4,2],[4,2],[3,2],[3,2],[2,1],[3,2],[3,2],[3,2],[3,2],[3,2],[3,2],[3,2],[3,2],[3,2],[3,2],[3,2],[3,2],[3,2],[3,2],[3,2],[3,2],[3,2],[3,2],[3,2],[3,2],[3,2],[3,2],[3,2],[3,2],[3,2],[3,2],[3,2],[3,2],[3,2],[3,2],[3,2],[3,2],[3,2],[3,2],[2,2],[3,2],[3,2],[3,2],[3,2],[3,2],[3,2],[3,2],[3,2],[3,2],[3,1],[3,2],[2,2],[3,2],[3,2],[3,2],[3,2],[3,2],[3,2],[3,2],[3,2],[3,2],[3,1],[3,1],[3,2],[3,2],[3,2],[3,2],[3,2],[3,2],[3,2],[3,2],[3,2],[3,2],[3,2],[3,2],[3,2],[3,2],[1,1],[3,2],[3,2],[3,2],[3,2],[3,2],[3,2],[3,2],[3,2],[3,2],[3,2],[3,2],[3,2],[3,2],[3,2],[3,2],[3,2],[3,2],[3,2],[3,2],[3,2],[3,2],[3,2],[3,2],[3,2],[3,2],[3,2],[3,2],[3,2],[3,2],[3,2],[3,2],[3,2],[3,2],[3,2],[3,2],[3,2],[3,2],[2,1],[3,2],[3,2],[3,2],[3,2],[3,2],[3,2],[3,2],[3,2],[3,2],[3,2],[3,2],[3,2],[3,2],[3,2],[3,2],[3,2],[3,2],[3,2],[3,2],[3,2],[3,2],[3,2],[3,2],[3,2],[3,2],[3,3],[3,2],[3,2],[3,2],[3,2],[3,2],[3,2],[3,2],[3,2],[3,2],[3,2],[3,2],[3,2],[3,2],[3,2],[3,2],[3,2],[3,2],[3,2],[3,1],[3,2],[3,2],[3,2],[3,2],[3,2],[3,2],[3,2],[3,2],[3,2],[3,2],[3,2],[3,2],[3,2],[3,2],[3,2],[3,2],[3,2],[3,2],[3,2],[3,2],[3,2],[3,2],[3,2],[3,2],[3,2],[3,2],[3,2],[3,2],[3,2],[3,2],[3,2],[3,2],[3,2],[3,2],[3,2],[3,2],[3,2],[3,2],[3,1],[3,2],[3,2],[3,2],[3,1],[3,2],[3,1],[3,2],[3,2],[3,2],[3,2],[3,1],[3,1],[3,1],[3,1],[3,1],[3,2],[3,2],[3,2],[3,2],[3,2],[3,2],[3,2],[3,2],[3,2],[3,2],[3,2],[3,2],[3,2],[3,2],[3,2],[3,2],[3,2],[3,2],[3,2],[3,2],[3,2],[3,2],[3,2],[3,2],[3,2],[3,2],[3,2],[3,2],[3,2],[3,2],[3,2],[3,2],[3,2],[3,2],[3,2],[3,2],[3,2],[3,2],[3,2],[3,2],[3,2],[3,2],[3,2],[3,2],[3,2],[3,2],[3,2],[3,2],[3,2],[3,2],[3,2],[3,2],[3,2],[3,2],[3,2],[3,2],[3,2],[3,2],[3,2],[3,2],[3,2],[3,2],[3,2],[3,2],[3,2],[3,2],[3,2],[3,2],[3,2],[3,2],[3,2],[3,2],[3,2],[3,2],[3,2],[3,2],[3,2],[3,2],[3,2],[3,2],[3,2],[3,2],[3,1],[3,2],[3,2],[3,2],[3,2],[3,2],[3,2],[3,2],[3,2],[3,2],[3,2],[3,2],[3,2],[3,2],[3,2],[3,2],[3,2],[3,2],[3,2],[3,2],[3,2],[3,2],[3,2],[3,2],[3,2],[3,2],[3,2],[3,2],[3,2],[3,2],[3,2],[3,2],[3,2],[3,2],[3,2],[3,2],[3,2],[3,2],[3,2],[3,2],[3,2],[3,2],[3,2],[3,2],[3,2],[3,2],[3,2],[3,2],[3,2],[3,2],[3,2],[3,2],[3,2],[3,2],[3,2],[3,2],[3,2],[3,2],[3,2],[3,2],[3,2],[3,2],[3,2],[3,2],[3,2],[3,2],[3,2],[3,2],[3,2],[3,2],[3,2],[3,2],[3,2],[3,2],[3,2],[3,2],[3,2],[3,2],[3,2],[3,2],[3,2],[1,2],[3,2],[3,2],[3,2],[3,2],[3,2],[3,2],[3,2],[3,2],[3,2],[3,2],[3,2],[3,2],[3,2],[3,2],[2,3],[3,2],[3,2],[3,2],[3,2],[3,2],[3,2],[3,2],[3,2],[3,2],[3,2],[3,2],[3,2],[3,2],[3,2],[3,2],[3,2],[3,2],[3,2],[3,2],[3,2],[3,2],[3,2],[3,2],[3,2],[3,2],[3,2],[3,2],[3,2],[3,2],[3,2],[3,2],[3,2],[3,2],[3,2],[3,2],[3,2],[3,2],[3,2],[3,2],[3,1],[3,2],[3,2],[3,2],[2,2],[3,2],[3,2],[3,2],[3,2],[3,2],[2,1],[3,2],[3,2],[1,1],[1,1],[3,2],[3,2],[3,2],[3,2],[3,2],[3,2],[3,2],[3,2],[3,2],[3,2],[3,2],[3,2],[3,2],[3,2],[3,2],[3,2],[1,1],[3,3],[3,2],[3,2],[3,2],[3,2],[2,1],[2,1],[3,2],[3,2],[3,2],[3,2],[3,2],[2,1],[2,2],[3,2],[3,2],[3,2],[3,2],[3,2],[3,2],[3,2],[2,2],[3,2],[2,2],[3,2],[3,2],[3,2],[3,2],[3,2],[3,2],[3,2],[3,2],[3,2],[3,2],[3,2],[3,2],[3,2],[3,2],[3,2],[4,2],[3,2],[3,2],[3,2],[3,2],[2,2],[3,2],[3,2],[3,2],[3,2],[3,2],[3,2],[3,2],[3,2],[2,2],[3,2],[3,2],[3,2],[3,2],[3,2],[3,2],[3,2],[3,2],[3,2],[3,2],[3,2],[3,2],[3,2],[3,2],[3,2],[3,2],[3,2],[3,2],[3,2],[3,2],[3,2],[3,2],[3,2],[3,2],[3,2],[3,2],[3,2],[3,2],[3,2],[3,2],[3,2],[3,2],[3,2],[3,2],[3,2],[3,2],[3,2],[3,2],[3,2],[3,2],[3,2],[3,2],[3,2],[3,2],[3,2],[3,2],[3,2],[2,2],[2,2],[3,2],[3,2],[3,2],[3,2],[3,2],[3,2],[3,2],[3,2],[3,2],[3,2],[3,2],[3,2],[3,2],[3,2],[3,2],[3,2],[3,2],[3,2],[3,2],[3,2],[3,2],[3,2],[3,2],[3,2],[3,2],[3,2],[4,2],[3,2],[3,2],[2,3],[3,2],[3,2],[3,2],[3,2],[3,2],[3,2],[3,2],[3,2],[3,2],[3,2],[3,2],[3,2],[3,2],[3,2],[3,2],[3,2],[3,2],[3,2],[3,2],[3,2],[3,2],[3,2],[3,2],[3,2],[3,2],[3,2],[3,2],[3,2],[3,2],[3,2],[3,2],[3,2],[3,2],[3,2],[4,2],[3,2],[3,2],[4,2],[4,3],[3,2],[3,2],[3,2],[4,2],[4,2],[4,2],[4,2],[5,2],[5,2],[5,2],[5,2],[3,2],[3,2],[3,2],[3,2],[3,2],[3,2],[3,2],[3,2],[3,2],[3,2],[4,2],[3,2],[3,2],[3,2],[3,2],[3,2],[3,2],[3,2],[3,2],[5,2],[4,3],[3,2],[3,2],[3,2],[3,2],[3,2],[3,2],[3,2],[3,2],[3,2],[3,2],[3,2],[3,2],[3,2],[3,2],[3,2],[3,2],[3,2],[3,2],[3,2],[3,2],[4,2],[3,2],[3,2],[3,2],[3,2],[3,2],[3,2],[3,2],[3,2],[3,2],[2,2],[3,2],[2,2],[3,2],[3,2],[3,2],[3,2],[3,2],[3,2],[3,2],[3,2],[3,2],[3,2],[2,2],[3,2],[3,2],[3,2],[3,2],[3,2],[3,2],[2,2],[3,2],[3,2],[3,2],[2,2],[3,2],[3,2],[3,2],[3,2],[3,2],[3,2],[5,2],[3,2],[3,2],[3,2],[2,2],[2,2],[2,2],[2,2],[2,2],[2,2],[3,2],[3,2],[3,2],[3,2],[3,2],[3,2],[3,2],[3,2],[3,2],[3,2],[3,2],[3,2],[3,2],[3,2],[3,2],[3,2],[3,2],[3,2],[3,2],[3,2],[3,2],[3,2],[3,2],[3,2],[3,2],[3,2],[3,2],[3,2],[3,2],[3,2],[3,2],[3,2],[3,2],[3,2],[3,2],[4,2],[3,2],[3,2],[3,3],[3,3],[3,2],[3,2],[1,1],[3,3],[3,3],[3,2],[3,2],[4,2],[3,2],[3,2],[4,2],[4,2],[3,2],[3,2],[3,2],[3,2],[3,3],[3,3],[4,2],[4,2],[4,2],[4,2],[3,2],[3,2],[4,2],[4,2],[3,2],[4,2],[3,2],[3,2],[4,2],[4,2],[3,2],[3,2],[4,2],[4,2],[4,2],[4,2],[4,2],[3,2],[4,2],[3,2],[3,2],[3,2],[3,2],[3,2],[3,2],[3,2],[3,2],[3,2],[3,2],[3,2],[5,3],[3,2],[3,2],[3,2],[3,2],[3,2],[4,2],[4,2],[6,4],[4,2],[4,2],[4,2],[4,3],[4,3],[3,2],[5,4],[5,4],[6,4],[3,2],[4,3],[4,2],[3,2],[3,2],[3,2],[3,2],[4,3],[3,3],[4,3],[4,3],[4,3],[4,3],[4,2],[4,3],[4,3],[4,3],[4,2],[4,3],[4,3],[3,4],[4,3],[4,3],[3,4],[3,4],[4,3],[3,4],[4,5],[3,2]],\"hovertemplate\":\"Area=KEPONG<br>Size (sq.ft.)=%{x}<br>Price (RM)=%{y}<br>Bedrooms=%{customdata[0]}<br>Bathrooms=%{customdata[1]}<extra></extra>\",\"legendgroup\":\"KEPONG\",\"marker\":{\"color\":\"#B6E880\",\"symbol\":\"circle\"},\"mode\":\"markers\",\"name\":\"KEPONG\",\"showlegend\":true,\"x\":[674,680,680,540,650,682,650,700,950,657,700,680,650,650,650,650,650,1200,540,674,650,650,650,650,674,659,659,650,650,650,650,650,650,650,650,650,650,655,694,694,675,657,650,650,650,650,700,655,650,650,650,650,650,657,650,655,650,650,650,650,655,650,660,650,650,650,650,650,650,650,650,730,650,655,650,650,650,655,650,650,700,650,650,721,721,650,650,650,660,650,650,650,650,650,650,650,685,685,650,650,656,660,650,750,650,650,680,650,750,650,650,650,650,650,650,650,650,650,650,650,650,650,660,660,655,655,830,655,650,821,650,655,650,657,655,650,650,714,650,660,660,660,760,935,650,650,650,650,650,650,735,650,650,656,655,850,936,650,606,720,657,650,657,755,750,657,855,855,855,606,650,850,650,650,685,1062,1062,1062,1062,1062,1062,1062,1062,1062,1062,850,650,750,657,750,730,756,756,756,810,750,810,650,855,966,730,650,650,650,650,650,650,650,650,650,650,650,850,650,650,650,650,650,650,720,650,600,650,657,650,720,850,670,810,785,650,720,658,850,823,827,855,850,885,650,650,855,720,720,850,850,850,850,850,855,720,1062,827,657,650,657,935,807,650,330,821,926,650,650,826,650,650,650,850,807,850,850,850,850,720,650,700,962,962,650,907,720,720,850,650,861,855,720,650,720,720,850,850,935,700,935,950,799,850,700,753,1070,930,700,850,850,721,850,950,850,850,855,855,905,650,905,905,650,650,650,837,1066,860,650,850,905,818,905,764,905,905,905,905,882,935,905,905,650,650,850,650,837,650,650,650,650,753,917,917,860,905,650,905,905,905,905,905,650,650,850,837,837,725,657,837,960,905,837,1062,650,650,650,650,650,962,935,963,935,955,967,1062,650,960,837,850,650,980,650,980,650,990,650,650,650,650,650,650,650,904,962,850,947,940,947,905,850,837,850,700,992,947,995,962,962,968,818,753,940,1035,905,962,962,962,850,955,962,962,962,962,962,915,962,987,818,962,962,962,851,962,988,905,818,810,1035,1035,1001,841,837,837,850,825,992,860,910,940,955,904,904,837,940,940,895,900,940,837,904,948,1035,940,837,837,988,940,904,998,904,935,962,1007,837,962,912,962,962,962,962,962,962,962,962,941,962,962,948,948,962,962,962,958,962,962,962,962,962,990,962,962,900,962,962,962,962,948,962,962,962,962,962,940,962,962,962,904,962,962,962,962,962,962,962,904,904,861,904,962,841,800,905,850,962,850,861,1066,1100,1100,861,962,850,955,904,962,850,801,861,861,850,861,950,998,988,861,935,861,965,962,861,990,861,800,976,861,861,861,867,850,976,840,807,932,962,962,948,935,1066,976,1062,805,994,805,850,1066,904,990,859,861,932,1066,932,988,940,940,904,948,978,988,904,855,944,944,962,855,904,904,855,962,850,904,904,976,743,1148,850,958,940,945,460,948,1167,460,463,850,850,990,945,990,988,940,970,988,952,861,970,970,988,970,990,460,850,948,850,948,933,460,460,904,904,861,1148,1184,600,743,1010,935,962,1010,1010,992,992,810,1006,743,980,1020,1020,1001,1200,1006,1001,1001,1001,1001,1100,900,1001,1001,1010,982,921,962,962,962,750,962,962,962,962,1511,962,962,962,700,962,1001,962,965,962,962,962,1001,962,1148,1000,962,962,808,962,962,1148,962,962,962,962,962,962,962,962,962,962,962,962,962,962,962,962,962,962,962,1167,1167,1167,1167,1167,962,962,962,962,962,962,1001,700,965,954,1100,988,988,954,954,954,954,954,954,954,954,1010,1001,1001,1001,965,867,1167,1167,1250,880,980,1167,1167,1250,1150,1148,1150,1050,1050,980,948,1100,1100,1100,1100,1150,1100,1100,1010,1081,1110,850,1121,1100,1100,1100,1100,1100,1100,1010,1010,1044,1044,1148,1001,1081,1004,1010,1121,1150,1100,1250,1121,1121,1320,1250,1128,1167,1150,1330,1330,1300,1300,1370,1150,1150,1150,1076,1121,1121,1076,1076,1121,1001,1121,980,980,1076,1137,1137,1137,1137,1290,946,930,1200,1370,1398,1100,1100,1076,1290,1100,1100,1290,1290,1030,1137,1400,1137,1150,1030,1150,1074,1100,1100,1012,1290,1300,1100,901,1076,1100,1100,1100,901,1076,1100,791,1100,818,1076,1100,1100,1162,1030,1030,1030,1074,1076,1076,775,1100,1100,932,1100,1100,1027,750,1100,1329,1100,775,960,1100,1027,1100,1100,1100,1150,960,1100,1074,818,785,775,775,775,775,1027,932,1100,1027,960,1100,1027,878,1100,1100,901,901,907,901,1184,960,1100,1073,1100,1100,1027,1100,1100,1100,1100,1100,1100,1027,1073,1027,1022,1098,1100,1109,850,1100,1027,1162,1144,1073,1027,1100,614,1144,1144,1100,1073,1300,1162,1073,1162,1162,1162,1100,1100,1182,1073,1144,1162,1162,1162,1162,950,1162,1292,1292,1162,1292,1162,1044,1162,1292,1292,1001,1162,1162,1292,1292,1292,829,1300,880,880,932,978,958,1100,1100,880,1100,1100,958,1215,1019,880,977,1019,880,1027,1300,2125,1300,1300,1300,1152,1152,1291,2125,2125,2125,1358,2400,1292,912,912,1330,1330,1250,1192,1259,1259,1259,1259,1292,1319,1300,1250,1334,1262,1300,1781,1539,1627,2411,2648,2315,3122,3483,880],\"xaxis\":\"x\",\"y\":[94770,98000,105000,110000,110000,115000,117000,119999,120000,121500,122000,125000,125000,125000,125000,125000,125000,126000,128000,128000,128000,128000,129999,130000,130000,130000,130000,130000,130000,130000,130000,130000,130000,135000,135000,135000,135000,135000,137000,137000,138000,138000,138000,138000,139999,139999,140000,140000,140000,140000,140000,140000,140000,140000,140000,142000,145000,145000,145000,145000,145000,145000,145000,145000,145000,145000,145000,145000,145000,147888,148000,148000,148000,148000,148000,148000,148000,149000,149000,149000,149000,149000,150000,150000,150000,150000,150000,150000,150000,150000,150000,150000,150000,150000,150000,150000,150000,150000,150000,150000,150000,152000,153000,155000,155000,155000,155000,155000,155000,155000,155000,155000,155000,155000,155000,155000,155000,155000,155000,155000,155000,155000,158000,158000,158000,159000,159000,160000,160000,160000,160000,160000,160000,160000,160000,160000,160000,160000,160000,160000,160000,160000,162000,165000,165000,165000,165000,165000,165000,165000,165000,165000,168000,168000,168000,168000,168000,169000,170000,170000,170000,170000,170000,170000,170000,170000,173000,173000,173000,175000,175000,175000,175000,175000,175000,177000,177000,177210,177300,177300,177300,177300,177300,177300,178000,178000,179000,180000,180000,180000,180000,180000,180000,180000,185000,185000,185000,185000,185000,185000,185000,188000,188000,188000,188000,188000,188000,188000,188000,188000,188000,188000,188000,188000,188000,188000,188000,188000,188000,188000,188000,190000,190000,190000,190000,190000,190000,190000,190000,190000,190000,193000,193000,195000,195000,195000,195000,195000,195000,195000,195000,195000,195000,195000,195000,195000,195000,195000,195000,195000,195000,196000,198000,198000,198000,198000,198000,198000,198000,200000,200000,200000,200000,200000,200000,200000,200000,200000,200000,200000,200000,200000,200000,200000,200000,200000,200000,202000,202500,205000,208000,208000,209999,210000,210000,210000,210000,210000,210000,210000,210000,210000,210000,215000,215000,218000,218000,220000,220000,220000,220000,220000,220000,220000,220000,220000,220000,220000,220000,220000,220000,222000,222000,225000,225000,225000,225000,225000,225000,225000,228000,228000,228000,229999,230000,230000,230000,230000,230000,230000,230000,230000,230000,230000,230000,230000,230000,230000,230000,230000,230000,230000,230000,230000,230000,230000,230000,233000,233000,234999,235000,235000,235000,235000,235000,235000,235000,235000,235000,235000,238000,238000,238000,238000,238000,238888,240000,240000,240000,240000,240000,240000,240000,240000,245000,245000,245000,245000,245000,245000,245000,245000,248000,248000,248000,249000,249999,249999,249999,250000,250000,250000,250000,250000,250000,250000,250000,250000,250000,250000,250000,250000,250000,250000,250000,250000,250000,250000,250000,250000,250000,250000,250000,250000,255000,255000,258000,258000,258000,260000,260000,260000,260000,260000,260000,260000,260000,260000,260000,260000,260000,260000,260000,260000,260000,260000,260000,260000,260000,260000,260000,260000,260000,260000,260000,265000,265000,265000,265000,265000,265000,265000,267000,268000,268000,269000,269999,269999,270000,270000,270000,270000,270000,270000,270000,270000,270000,270000,273000,275000,275000,275000,275000,275000,275000,275000,278000,278000,278000,279999,280000,280000,280000,280000,280000,280000,280000,280000,280000,280000,280000,280000,280000,280000,280000,280000,280000,280000,280000,280000,280000,280000,280000,280000,280000,280000,280000,280000,280000,280000,280000,280000,280000,280000,280000,280000,280000,280000,280000,280000,280000,280000,280000,280000,280000,280000,280000,280000,280000,280000,285000,285000,285000,285000,285000,285000,288000,288000,288000,290000,290000,290000,290000,290000,290000,290000,290000,290000,290000,290000,290000,290000,290000,290000,290000,290000,290000,290000,292000,293000,295000,295000,295000,295000,295000,295000,295000,295000,295000,295000,295000,295000,295000,296000,297999,298000,298000,298000,298000,299000,299000,299999,299999,300000,300000,300000,300000,300000,300000,300000,300000,300000,300000,300000,300000,300000,300000,300000,300000,300000,300000,303000,305000,305000,305000,305000,308000,310000,310000,310000,310000,310000,310000,310000,310000,310000,310000,310000,310000,313000,315000,315000,315000,315000,315000,318000,318000,318000,320000,320000,320000,320000,320000,320000,320000,320000,320000,320000,320000,320000,320000,320000,320000,320000,320000,320003,325000,330000,330000,330000,330000,330000,335000,335000,335000,335000,335000,338000,338000,340000,340000,340000,340000,340000,340000,340000,340000,340000,345000,345000,347000,348000,348000,348000,348500,348888,349000,350000,350000,350000,350000,350000,350000,350000,350000,350000,350000,355000,356000,356000,357000,358000,358000,358000,358000,358000,358000,359000,359000,359000,360000,360000,360000,360000,360000,360000,360000,360000,360000,360000,360000,360000,360000,360000,360000,360000,360000,360000,360000,360000,360000,360100,360500,361000,361000,361000,361000,361000,361000,361000,361000,361500,362000,362000,362000,362000,362000,362000,362000,362000,362000,362000,362500,363000,363000,363000,364000,364000,365000,365000,365000,365000,365000,365000,365000,365000,365000,365000,365000,365000,365000,365000,365000,368000,368000,368000,368000,368000,368000,368000,369000,370000,370000,370000,370000,370000,370000,373000,373000,375000,376800,377000,379000,379000,380000,380000,380000,380000,380000,380000,380000,380000,380000,380000,380000,380000,380700,380700,380700,380700,380700,380700,385000,385000,390000,390000,390000,390000,390000,390000,390000,390000,390000,390000,390000,395000,395000,395000,395000,398000,399999,400000,400000,400000,400000,400000,400000,400000,400000,400000,407000,408000,408000,408000,408000,408000,410000,410000,415000,415000,418000,419000,419999,420000,420000,420000,420000,420000,420000,420000,422000,423000,423000,425000,425000,425000,425000,428000,428000,430000,430000,430000,430000,430000,430000,430000,430000,430000,430000,430000,430000,430000,435000,435000,435000,439000,440000,440000,440000,440000,441000,445000,445000,450000,450000,450000,450000,450000,450000,450000,450000,450000,458000,458000,460000,460000,460000,460000,460000,460000,463000,465000,465000,467200,468000,470000,470000,470000,470000,470000,470000,470000,470000,475000,475000,475000,480000,480000,480000,480000,480000,480000,480000,480000,480000,480000,480000,480000,480000,480000,480000,485000,488000,488000,488000,488000,490000,490000,490000,490000,490000,490000,495000,500000,500000,500000,500000,500000,500000,510000,510000,510000,510000,510000,515000,520000,521000,525000,530000,530000,530000,530000,530000,530000,535000,535000,535000,538000,538000,538000,540000,540000,540000,540000,550000,550000,550000,550000,550000,550000,550000,550000,550000,550000,560000,560000,560000,563000,565000,568000,570000,570000,570000,575000,579999,580000,580000,580000,580000,580000,580000,585000,585000,590000,591000,600000,600000,600000,600000,600000,600000,600000,600000,600000,610000,620000,620000,620000,620000,630000,630000,630000,630000,638000,639000,640000,648000,648000,650000,650000,650000,650000,700000,700000,700000,715000,720000,720000,720000,720000,730000,738000,760000,760000,760000,765000,798000,799000,800000,845000,880000,890000,899000,926000,975000,1300000,1330000,1390000,1650000,1800000,5900000],\"yaxis\":\"y\",\"type\":\"scattergl\"},{\"customdata\":[[3,1],[2,1],[2,1],[2,1],[3,1],[3,1],[3,1],[3,1],[3,1],[3,1],[3,1],[3,1],[3,1],[3,1],[3,1],[3,2],[3,2],[3,1],[3,1],[3,1],[3,1],[3,1],[3,1],[3,1],[3,1],[3,1],[3,1],[3,1],[3,1],[3,1],[3,2],[3,2],[3,2],[3,2],[3,2],[3,2],[3,2],[3,1],[3,2],[3,1],[3,2],[3,2],[3,1],[3,2],[3,2],[3,1],[3,2],[3,2],[3,2],[3,2],[3,2],[3,2],[3,2],[3,2],[3,2],[3,2],[3,2],[3,2],[3,2],[3,2],[3,2],[3,2],[3,1],[3,2],[3,2],[3,2],[3,2],[3,2],[3,2],[3,2],[3,2],[3,2],[3,2],[3,2],[3,2],[3,2],[3,2],[3,2],[3,2],[3,2],[3,2],[3,2],[2,1],[3,2],[3,2],[3,2],[3,2],[3,2],[3,2],[3,2],[2,1],[3,2],[3,2],[3,2],[3,2],[3,2],[3,2],[3,2],[3,2],[2,2],[3,2],[3,2],[3,2],[2,2],[2,2],[2,2],[2,2],[2,2],[3,2],[2,2],[2,3],[2,3],[3,2],[3,2],[3,2],[3,2],[2,2],[3,2],[3,2],[3,2],[3,2],[3,2],[2,2],[3,2],[3,2],[3,2],[1,1],[2,2],[2,2],[2,2],[3,2],[3,2],[3,2],[3,2],[3,2],[3,2],[3,2],[3,2],[3,2],[3,2],[3,2],[2,2],[2,2],[3,2],[3,2],[3,2],[3,2],[3,2],[2,2],[2,2],[2,2],[3,2],[3,2],[3,2],[3,2],[3,2],[3,2],[3,2],[2,2],[3,2],[3,2],[3,2],[3,2],[4,2],[4,2],[3,2],[4,3],[3,2],[2,2],[3,2],[4,2],[4,2],[4,2],[4,2],[4,2],[3,2],[3,2],[3,2],[3,2],[3,2],[3,2],[3,2],[3,2],[3,2],[3,2],[3,2],[3,2],[3,2],[3,2],[4,3],[3,2],[3,2],[3,2],[3,2],[3,2],[4,3],[3,2],[3,2],[2,2],[3,2],[3,2],[2,2],[3,3],[3,2],[4,3],[3,2],[4,2],[4,2],[4,2],[3,2],[3,2],[3,2],[3,2],[4,5],[4,3],[4,4],[3,3],[3,2],[3,2],[4,3],[4,4],[4,3],[2,2],[4,4],[3,2],[3,2],[3,2],[3,2],[3,2],[4,3],[4,3],[4,3],[3,2],[3,2],[3,3],[4,2],[3,3],[3,3],[3,2],[4,4],[4,4],[3,2],[3,2],[3,2],[4,3],[3,2],[3,2],[3,2],[3,3],[4,3],[3,2],[3,2],[3,2],[3,2],[4,3],[4,3],[4,3],[4,3],[4,3],[4,3],[4,4],[4,3],[3,3],[4,3],[4,3],[5,3],[4,3],[4,4],[4,3],[4,4],[3,2],[4,3],[4,5],[4,3],[3,2],[4,4],[4,4],[4,4],[4,4],[4,4],[4,4],[4,4],[4,4],[4,4],[4,4],[4,4],[4,4],[4,4],[4,3],[4,4],[4,4],[4,3],[4,3],[4,3],[4,4],[4,4],[4,4],[4,4],[4,4],[4,4],[4,4],[4,4],[4,4],[4,4],[4,4],[2,2],[4,4],[4,4],[4,4],[4,4],[4,4],[4,4],[4,4]],\"hovertemplate\":\"Area=KUCHAI LAMA<br>Size (sq.ft.)=%{x}<br>Price (RM)=%{y}<br>Bedrooms=%{customdata[0]}<br>Bathrooms=%{customdata[1]}<extra></extra>\",\"legendgroup\":\"KUCHAI LAMA\",\"marker\":{\"color\":\"#FF97FF\",\"symbol\":\"circle\"},\"mode\":\"markers\",\"name\":\"KUCHAI LAMA\",\"showlegend\":true,\"x\":[560,505,485,506,560,560,508,555,555,555,560,560,560,654,650,703,703,704,703,703,704,703,650,650,650,650,650,650,650,650,970,870,721,896,871,660,950,764,950,710,850,800,764,945,969,764,1067,989,902,1067,1000,932,968,1216,1067,945,1126,932,930,932,1067,1067,765,912,1050,1067,950,950,950,941,950,1000,1004,950,925,1130,1097,1267,1012,1100,935,945,661,1100,1109,935,960,935,1100,1087,656,1257,935,935,935,935,935,935,1050,936,1100,935,950,936,940,930,936,935,935,936,1210,1210,1100,1100,936,935,936,1033,1093,935,1200,935,936,935,935,935,780,658,936,936,925,1222,935,1222,935,1000,1100,1028,935,935,935,936,872,1250,1220,1220,970,947,936,936,936,1120,1120,1120,1120,1120,986,1120,832,1120,1440,916,1120,1600,1600,1053,1385,1120,872,1120,1600,1000,1309,1100,1104,1313,1313,1570,1313,1328,1313,1215,1385,1328,1313,1257,1314,980,986,1350,1215,935,1313,935,986,1350,1313,1313,1025,1215,1328,786,1328,986,1162,1480,1313,1313,1313,1313,1313,1313,1313,1611,1385,1711,1433,1354,864,1496,1440,1440,657,1440,1328,1168,1168,1247,1313,1440,1440,1385,892,1313,1440,1250,1367,1367,1168,2190,2190,1150,1152,1152,1152,1607,1168,1578,1578,1367,1168,1488,1168,1168,2000,1600,1406,1690,1690,1593,1710,1406,1690,1496,1488,1780,2000,1710,1578,1782,1392,2045,1784,1959,1152,1710,1701,1710,1710,1710,1710,1710,1710,1710,1710,1710,1710,1710,1488,1710,1710,2042,1578,1578,1710,1710,1710,1710,1710,1710,1710,1710,1710,1780,1790,1707,1800,1811,1810,1815,2638,2638,1710],\"xaxis\":\"x\",\"y\":[78000,88000,90000,105000,110000,130000,135000,140000,140000,140000,140000,145000,145000,155000,155000,170000,170000,170000,170000,170000,170000,170000,170000,170000,170000,170000,170000,170000,170000,170000,185000,189800,195000,218000,220000,220000,225000,226000,228000,230000,235000,239000,239000,250000,258000,260000,270000,270000,280000,285000,288000,290000,290000,292000,293000,296000,300000,305000,305000,305000,308000,314800,315000,330000,330000,330000,335000,335000,335000,335000,343000,345000,348000,349000,350000,360000,360000,360000,368000,370000,370000,378000,378880,379000,380000,380000,380000,380000,383000,385000,388000,388000,390000,390000,392000,392000,393000,395000,398000,399000,399000,399000,399000,399999,400000,400000,400000,400000,400000,409800,410000,410000,410000,410000,410000,410000,418000,418000,419000,420000,420000,420000,422000,425000,425000,429800,430000,430000,430000,430000,430000,430000,430000,430000,430000,430000,430000,430000,438000,445000,445000,450000,450000,450000,450000,450000,450000,450000,455000,455000,460000,460000,469000,475000,478000,478000,478000,478000,480000,480000,480000,480000,480000,480000,480000,485000,485000,489999,490000,490000,495000,498000,498000,498000,499000,500000,500000,500000,503000,503000,503000,513800,515000,515000,520000,520000,525000,528000,529000,529000,529800,530000,530000,535000,535000,535800,548000,549000,550000,550000,563000,569888,579800,580000,580000,585000,588000,588000,588000,590000,590000,590000,590000,590000,598000,600000,608000,610000,612000,613800,620000,625000,628000,630000,635000,639999,649000,650000,650000,650000,650000,650000,652000,655000,655000,655000,656000,656000,657000,680000,680000,684000,684000,686000,686000,698000,720000,724800,726000,729000,730000,740000,749800,750000,750000,750000,770000,770000,770000,779000,799000,799999,800000,800000,820000,830000,850000,850000,850000,879000,880000,880000,880000,880000,882000,900000,900000,900000,900000,900000,900000,900000,900000,900000,900000,900000,900000,900000,900000,930000,950000,950000,979800,979999,1050000,1050000,1050000,1050000,1050000,1050000,1050000,1100000,1100000,1180000,1190000,1200000,1200000,1230000,1250000,1280000,1600000,1680000,9000000],\"yaxis\":\"y\",\"type\":\"scattergl\"},{\"customdata\":[[2,1],[2,1],[2,1],[2,1],[2,1],[2,1],[2,1],[2,1],[2,1],[3,1],[2,1],[3,1],[3,1],[2,1],[2,1],[3,1],[3,2],[2,1],[3,1],[3,1],[2,1],[2,1],[3,1],[3,1],[3,1],[3,1],[3,1],[3,1],[2,1],[3,1],[3,1],[3,1],[3,1],[2,1],[2,1],[2,1],[3,2],[3,1],[3,1],[3,1],[3,1],[3,1],[3,1],[3,1],[3,1],[3,1],[3,1],[2,1],[3,1],[3,2],[2,1],[2,1],[2,1],[2,1],[3,2],[3,1],[3,1],[3,1],[2,1],[3,1],[3,2],[2,1],[2,1],[2,1],[3,1],[3,1],[3,2],[3,1],[3,1],[2,1],[3,2],[2,1],[2,1],[3,2],[3,2],[3,2],[3,2],[3,2],[3,2],[1,1],[3,1],[3,1],[3,2],[3,2],[2,3],[3,2],[3,2],[3,2],[3,2],[3,2],[3,2],[3,2],[3,2],[3,2],[3,2],[3,2],[3,2],[3,2],[3,2],[3,2],[3,2],[3,2],[3,2],[3,2],[2,2],[3,2],[3,1],[2,2],[3,2],[3,2],[3,2],[3,2],[3,2],[3,2],[1,1],[1,1],[2,2],[3,2],[3,2],[3,2],[3,2],[3,2],[3,2],[3,2],[3,2],[3,2],[3,2],[3,2],[3,2],[3,2],[3,2],[1,1],[3,2],[3,2],[3,2],[3,2],[3,2],[1,1],[3,1],[3,2],[3,2],[3,2],[3,2],[3,2],[3,2],[3,2],[3,2],[3,2],[3,2],[3,2],[3,2],[3,2],[3,2],[3,2],[3,2],[3,2],[3,2],[3,2],[1,1],[3,2],[3,2],[3,2],[3,2],[3,2],[3,2],[3,2],[3,2],[3,2],[3,2],[3,2],[3,2],[2,1],[3,2],[3,1],[3,2],[3,2],[3,2],[3,2],[3,2],[3,2],[3,2],[3,2],[3,2],[1,1],[3,2],[3,2],[3,2],[3,2],[3,2],[3,2],[3,2],[3,2],[3,2],[3,2],[3,2],[3,2],[3,2],[3,2],[3,2],[3,2],[3,2],[2,2],[2,2],[2,2],[2,2],[3,2],[3,2],[3,2],[3,2],[3,2],[3,2],[2,2],[3,2],[3,2],[3,2],[3,2],[3,2],[4,3],[3,2],[3,2],[3,2],[3,2],[3,2],[3,2],[3,2],[3,2],[3,2],[3,2],[3,2],[3,2],[3,2],[3,2],[3,2],[3,2],[3,2],[3,2],[3,2],[3,2],[3,2],[3,2],[3,2],[3,2],[4,5],[4,5],[4,5],[4,5],[4,5],[4,5],[4,5],[4,5],[3,2]],\"hovertemplate\":\"Area=PANDAN INDAH<br>Size (sq.ft.)=%{x}<br>Price (RM)=%{y}<br>Bedrooms=%{customdata[0]}<br>Bathrooms=%{customdata[1]}<extra></extra>\",\"legendgroup\":\"PANDAN INDAH\",\"marker\":{\"color\":\"#FECB52\",\"symbol\":\"circle\"},\"mode\":\"markers\",\"name\":\"PANDAN INDAH\",\"showlegend\":true,\"x\":[572,572,560,600,560,572,572,474,570,507,600,593,593,510,608,630,650,500,750,650,600,510,588,588,588,608,588,750,572,667,786,786,695,500,500,500,588,588,650,588,580,588,588,588,588,588,588,625,751,704,452,550,500,550,720,750,720,625,751,650,650,689,698,669,650,650,838,650,600,778,650,484,727,803,950,803,800,850,892,581,667,667,806,853,782,840,782,900,782,826,850,900,782,826,850,903,800,803,903,850,803,826,862,850,919,800,667,775,782,782,860,861,800,786,603,675,919,800,904,782,916,916,916,782,916,829,915,915,915,915,915,650,861,1049,800,915,861,645,900,915,915,915,915,915,915,915,915,915,915,915,915,915,800,915,915,800,807,836,543,807,850,835,850,820,860,829,782,860,850,958,1020,675,860,710,800,800,800,800,800,850,962,1030,860,675,965,960,965,839,834,834,962,960,839,839,1049,865,1030,865,865,807,807,739,739,739,739,870,1050,1020,1000,1020,1226,740,1238,1258,1119,904,1050,1360,1044,851,851,851,851,1020,1040,905,1020,900,1010,1200,1010,1623,1200,1110,1600,1270,1110,1110,850,1280,1010,1210,1611,1611,1611,1611,1611,1611,1611,1611,1602],\"xaxis\":\"x\",\"y\":[105000,105000,108000,110000,110000,110000,110000,113000,120000,120000,125000,133000,135000,140000,145000,145000,145000,150000,150000,150000,160000,160000,160000,160000,160000,160000,160000,160000,165000,165000,165000,165000,168000,170000,170000,170000,170000,170000,170000,170000,170000,170000,170000,170000,170000,170000,170000,175000,175000,175000,180000,185000,185000,185000,185000,188000,188000,188000,190000,190000,190000,194999,195000,195000,195000,199000,200000,200000,200000,210000,210000,220000,225000,227700,230000,241200,245000,249000,250000,253600,255000,255000,258000,259000,260000,260000,260000,260000,260000,260000,260000,265000,265000,268000,268000,268000,268000,268000,268000,268000,268000,268000,268000,269000,270000,270000,270000,275000,275000,275000,276000,278000,278000,278000,280000,280000,280000,280000,280000,280000,280000,280000,280000,280000,280000,285000,285000,285000,285000,285000,285000,290000,290000,290000,290000,290000,293000,295000,295000,295000,295000,295000,295000,295000,295000,295000,295000,295000,295000,295000,295000,295000,295000,295000,295000,298000,298000,298000,299000,299000,299000,299999,300000,300000,300000,300000,300000,300000,300000,302000,303000,305000,305000,305000,310000,310000,310000,310000,310000,315000,315000,318000,319000,320000,320000,325000,328000,330000,330000,330000,330000,330000,330000,330000,330000,330000,330000,330000,330000,335000,335000,340000,340000,340000,340000,340000,350000,350000,355000,360000,365000,380000,380000,380000,390000,390000,399000,399000,400000,400000,400000,400000,400000,409000,410000,410000,415000,420000,425000,425000,430000,440000,450000,450000,455000,474300,475000,478000,480000,480000,480000,550000,590000,590000,590000,590000,590000,600000,610000,620000,645000],\"yaxis\":\"y\",\"type\":\"scattergl\"},{\"customdata\":[[2,1],[2,1],[2,1],[2,1],[2,1],[2,1],[2,1],[3,2],[2,1],[2,1],[2,1],[3,1],[2,1],[3,1],[2,1],[3,1],[3,1],[3,1],[3,1],[3,1],[3,1],[3,1],[3,1],[3,1],[3,1],[3,1],[2,1],[2,1],[2,1],[2,1],[2,1],[3,1],[1,1],[2,1],[2,1],[2,1],[2,1],[3,1],[3,2],[3,1],[3,1],[3,1],[3,1],[3,1],[3,1],[3,1],[2,1],[1,1],[1,1],[2,1],[2,1],[2,1],[2,1],[3,1],[2,1],[2,1],[2,1],[2,1],[2,1],[3,2],[3,2],[2,1],[2,1],[3,2],[3,2],[3,2],[3,2],[3,2],[3,1],[3,2],[3,2],[3,2],[3,2],[3,2],[3,2],[2,1],[2,1],[2,1],[3,2],[2,1],[3,2],[3,2],[3,2],[3,2],[3,2],[3,2],[2,1],[3,2],[3,2],[3,2],[3,2],[3,2],[3,2],[3,2],[3,2],[3,2],[3,2],[3,2],[3,2],[3,2],[3,2],[3,2],[3,2],[3,2],[1,1],[3,2],[3,2],[1,1],[1,1],[1,1],[2,2],[2,2],[2,2],[2,2],[2,2],[2,2],[2,2],[2,2],[2,2],[2,2],[3,2],[3,2],[3,3],[3,2],[3,2],[2,2],[3,2],[3,2],[3,2],[3,2],[2,2],[3,2],[2,2],[2,2],[3,2],[3,2],[3,2],[3,2],[2,2],[2,2],[2,2],[2,2],[2,3],[3,2],[3,2],[3,2],[3,2],[3,2],[3,2],[3,2],[3,2],[3,2],[3,2],[3,2],[3,2],[3,2],[3,2],[3,2],[3,2],[3,2],[3,2],[3,2],[3,2],[3,2],[3,2],[3,2],[3,2],[3,2],[3,2],[3,2],[3,2],[3,2],[3,2],[3,2],[3,2],[3,2],[3,2],[3,2],[3,2],[3,2],[3,2],[3,2],[3,2],[3,2],[3,2],[3,2],[3,2],[3,2],[3,2],[3,2],[3,2],[3,2],[3,2],[3,2],[3,2],[3,2],[3,2],[3,2],[3,2],[3,2],[3,2],[3,2],[3,2],[3,2],[3,2],[3,2],[3,2],[3,2],[3,2],[3,2],[3,2],[3,2],[3,2],[3,2],[3,2],[3,2],[3,2],[3,2],[3,2],[3,2],[3,2],[3,2],[3,2],[3,2],[3,2],[3,2],[3,2],[3,2],[3,2],[3,2],[3,2],[3,2],[3,2],[3,2],[3,2],[3,2],[3,2],[3,2],[3,2],[3,2],[3,2],[4,3],[3,2],[2,2],[2,2],[4,3],[2,2],[2,2],[2,2],[2,2],[2,2],[2,2],[3,2],[3,2],[3,2],[3,2],[3,2],[3,2],[3,2],[3,2],[3,2],[3,2],[2,1],[2,1],[2,1],[2,1],[3,2],[3,2],[3,2],[3,2],[3,2],[3,2],[3,2],[4,2],[3,2],[2,2],[2,2],[3,2],[3,2],[3,2],[3,2],[3,2],[3,2],[3,2],[3,2],[3,2],[3,2],[3,2],[3,2],[3,2],[3,2],[3,2],[3,2],[3,2],[3,2],[3,2],[3,2],[3,2],[3,2],[3,2],[3,2],[3,2],[3,2],[3,2],[3,2],[4,2],[3,2],[3,2],[2,1],[2,2],[2,2],[3,2],[2,2],[2,2],[2,2],[2,2],[2,2],[3,2],[3,2],[3,2],[3,2],[3,2],[3,2],[3,2],[3,2],[3,2],[3,2],[3,2],[3,2],[3,2],[3,2],[3,1],[3,2],[3,2],[3,2],[3,2],[3,2],[3,2],[3,2],[3,2],[3,2],[3,2],[3,2],[2,2],[3,2],[3,2],[2,2],[3,2],[2,2],[3,2],[3,2],[3,2],[2,2],[2,2],[2,2],[3,2],[3,2],[3,2],[3,2],[3,2],[3,2],[3,2],[4,2],[4,2],[2,2],[2,2],[2,2],[2,2],[3,2],[3,2],[3,2],[3,2],[3,2],[3,2],[3,2],[3,2],[3,2],[3,2],[3,2],[3,2],[3,2],[3,2],[2,2],[2,2],[2,2],[2,2],[2,2],[2,2],[2,2],[2,2],[2,2],[2,2],[2,2],[2,2],[2,2],[2,2],[3,2],[3,2],[3,2],[3,2],[3,2],[3,2],[3,2],[3,2],[3,2],[3,2],[3,2],[3,2],[3,2],[3,2],[3,2],[3,2],[3,2],[3,2],[3,2],[3,2],[3,2],[3,2],[3,2],[3,2],[3,2],[3,2],[3,2],[3,2],[3,2],[3,2],[3,2],[3,2],[3,2],[3,2],[3,2],[3,2],[3,2],[4,3],[4,3],[4,3],[4,3],[4,3],[4,3],[2,2],[2,2],[2,1],[2,2],[2,1],[3,2],[3,2],[3,2],[3,2],[3,2],[3,2],[3,2],[3,2],[3,2],[3,2],[3,2],[3,2],[3,2],[3,2],[3,2],[3,3],[3,2],[3,2],[3,2],[3,2],[3,2],[4,3],[4,3],[4,3],[3,2],[3,2],[3,2],[3,2],[3,2],[3,2],[3,2],[3,2],[4,2],[3,2],[3,2],[3,2],[3,2],[3,2],[3,2],[3,2],[3,2],[3,2],[3,2],[3,2],[3,2],[3,2],[2,2],[3,2],[3,2],[3,2],[1,1],[1,1],[1,1],[1,1],[2,1],[2,2],[2,1],[3,2],[3,2],[3,2],[3,2],[3,2],[3,2],[3,2],[3,2],[3,2],[3,2],[3,2],[3,2],[5,2],[5,2],[1,1],[1,1],[2,2],[3,2],[3,2],[3,2],[2,2],[2,1],[3,2],[3,2],[3,2],[2,2],[2,2],[3,2],[3,2],[3,2],[3,2],[3,2],[3,2],[3,2],[2,2],[2,2],[2,2],[2,2],[3,2],[3,2],[3,2],[3,2],[1,1],[3,2],[3,2],[2,2],[3,2],[3,2],[3,2],[3,2],[3,2],[3,2],[3,2],[3,2],[3,2],[3,2],[3,2],[3,2],[3,2],[3,2],[3,2],[3,2],[3,2],[3,2],[3,2],[1,1],[3,2],[3,2],[3,2],[3,2],[3,2],[3,2],[3,2],[3,2],[3,2],[3,2],[3,2],[3,2],[3,2],[3,2],[3,2],[3,2],[3,2],[3,2],[3,2],[3,2],[3,2],[3,2],[3,2],[3,2],[3,2],[3,2],[3,2],[3,2],[3,2],[3,2],[3,2],[3,2],[3,2],[3,2],[3,2],[3,2],[3,2],[3,2],[3,2],[3,2],[4,2],[4,2],[3,2],[4,2],[3,3],[3,2],[3,2],[3,2],[3,2],[3,2],[3,3],[3,2],[3,2],[3,2],[3,2],[3,2],[3,2],[3,2],[3,2],[3,2],[3,2],[3,2],[4,2],[4,2],[3,2],[3,2],[3,2],[3,2],[3,2],[3,2],[2,2],[3,2],[3,2],[3,2],[3,2],[3,2],[3,2],[3,2],[3,2],[3,2],[3,2],[4,3],[2,1],[2,2],[2,2],[3,2],[3,2],[3,2],[3,2],[3,2],[3,2],[3,2],[3,2],[3,2],[3,2],[3,2],[3,2],[3,2],[3,2],[3,2],[3,2],[3,2],[3,1],[3,2],[3,2],[3,2],[3,2],[3,2],[3,2],[3,2],[3,2],[3,2],[3,2],[3,2],[3,2],[3,2],[3,2],[3,2],[3,2],[3,3],[3,2],[3,2],[4,3],[2,3],[3,2],[3,2],[2,2],[2,1],[2,1],[2,1],[3,2],[3,2],[3,2],[3,2],[3,2],[3,2],[3,2],[3,2],[3,2],[4,3],[4,2],[4,3],[3,2],[3,2],[3,2],[2,1],[4,3],[4,3],[3,3],[4,3],[4,3],[3,2],[4,3],[3,2],[3,2],[3,2],[3,2],[3,2],[3,2],[3,2],[3,2],[3,2],[3,2],[1,1],[3,2],[3,2],[3,2],[3,2],[3,2],[3,2],[3,2],[3,2],[3,2],[3,3],[3,2],[3,2],[3,2],[3,2],[4,2],[4,3],[4,2],[4,3],[3,2],[3,2],[3,2],[2,2],[3,2],[3,2],[3,2],[3,2],[3,2],[3,2],[4,2],[3,2],[3,2],[3,2],[3,2],[3,2],[3,2],[3,2],[3,2],[3,2],[3,2],[3,2],[4,2],[3,2],[3,2],[4,2],[3,2],[3,2],[3,2],[3,2],[3,2],[3,2],[3,2],[3,2],[3,2],[3,2],[3,2],[3,2],[4,3],[4,2],[3,2],[4,3],[3,2],[3,2],[3,2],[3,2],[3,2],[3,2],[3,2],[3,2],[3,2],[3,2],[3,2],[3,2],[3,2],[3,3],[3,2],[3,2],[3,2],[3,2],[3,2],[4,3],[4,3],[4,3],[4,3],[4,3],[4,3],[4,3],[4,3],[3,2],[3,2],[2,2],[2,2],[3,2],[3,2],[3,2],[3,2],[3,2],[4,2],[3,2],[3,2],[2,2],[3,2],[4,3],[2,2],[3,2],[3,2],[3,2],[3,2],[3,2],[4,3],[2,2],[2,2],[3,2],[3,2],[3,2],[3,2],[3,2],[4,3],[4,3],[4,3],[4,3],[4,3],[4,3],[4,3],[4,3],[4,3],[3,2],[3,2],[3,2],[3,2],[3,2],[3,2],[4,3],[4,2],[2,2],[3,2],[3,2],[3,2],[3,2],[3,3],[4,4],[4,2],[4,2],[3,3],[4,3],[4,3],[3,3],[4,3],[4,4],[2,3],[3,2],[3,3],[6,4],[3,2],[3,2],[3,3],[4,4],[3,2],[3,2],[4,3],[3,2],[3,2],[3,2],[4,3],[6,4],[3,2],[2,2],[3,3],[4,4],[3,4],[3,3],[4,4],[4,4],[4,4],[3,3],[3,3],[3,3],[3,4],[3,4],[3,3],[3,3],[3,3],[4,5],[3,3],[3,4],[4,5],[4,4],[3,3],[3,2],[5,5],[5,5],[5,5],[3,2],[2,2]],\"hovertemplate\":\"Area=SENTUL<br>Size (sq.ft.)=%{x}<br>Price (RM)=%{y}<br>Bedrooms=%{customdata[0]}<br>Bathrooms=%{customdata[1]}<extra></extra>\",\"legendgroup\":\"SENTUL\",\"marker\":{\"color\":\"#636efa\",\"symbol\":\"circle\"},\"mode\":\"markers\",\"name\":\"SENTUL\",\"showlegend\":true,\"x\":[650,550,650,560,560,560,580,733,570,570,570,517,650,678,560,678,678,678,678,678,678,678,678,678,678,678,560,560,560,570,560,678,300,600,600,600,600,678,678,678,678,678,678,678,678,678,560,300,320,560,560,560,560,678,530,560,560,550,550,838,838,560,750,752,725,725,725,758,753,753,850,850,850,725,725,650,650,650,838,750,838,750,850,850,838,973,550,850,838,838,850,838,754,838,838,800,733,1012,1012,786,1012,858,838,850,500,838,1066,500,500,500,856,856,860,700,700,650,700,856,856,856,786,877,877,877,838,690,877,877,870,877,690,877,750,856,1007,1007,850,733,856,856,856,856,850,877,850,850,850,877,800,877,850,877,850,850,850,850,733,850,850,850,850,850,850,850,850,850,850,973,850,850,850,877,733,850,850,850,850,877,850,850,850,850,850,850,877,1029,810,850,850,850,874,850,850,877,877,850,850,1007,877,850,850,850,850,850,850,850,850,901,874,850,733,850,733,850,850,733,733,733,850,850,850,850,850,850,850,877,850,850,850,850,850,850,850,838,850,850,850,850,850,850,850,1029,877,856,856,1630,856,856,856,856,856,856,1007,877,1005,1007,1187,1200,1100,1200,1200,979,700,700,700,700,1007,1007,1100,1005,1005,1007,1005,870,1005,856,856,877,879,877,1005,1005,1005,877,877,877,1005,1005,884,1005,1005,1005,877,1005,878,900,1005,884,877,879,878,877,890,900,877,1187,877,1005,721,743,743,877,650,856,996,856,855,1007,1007,1007,1007,877,1005,1007,1068,1007,1071,1017,877,973,870,1000,1226,973,877,660,1007,1226,1226,1071,1007,877,877,856,1016,877,743,973,743,1187,1016,1016,743,743,743,1007,1187,1007,1187,1083,1005,1007,1187,1187,743,743,650,743,853,853,1063,1009,1009,1007,1007,853,1007,1007,818,850,850,850,743,743,877,743,856,856,856,743,856,743,743,743,743,856,1009,1007,1009,1226,1007,1100,1009,1026,870,1007,1005,1009,1006,1016,1009,1009,1007,1025,1009,1009,1009,870,1080,1007,877,1009,1071,853,870,870,979,1005,1009,1009,1007,1100,1095,1029,1029,1029,1029,1029,1029,850,850,700,650,650,870,1095,1005,870,877,877,877,950,1095,877,877,877,874,877,874,870,870,874,874,870,874,1029,1029,1029,1095,1095,1095,1095,1095,1095,1009,1000,1083,877,1007,877,874,1095,1005,1016,1025,1005,1007,1007,1007,973,650,1007,1016,1194,689,689,689,689,947,856,689,980,1009,1016,1009,1009,1009,980,990,980,1007,1312,1312,1533,1533,689,689,943,1007,1060,1016,856,700,891,1223,1092,943,943,1025,1025,1025,1025,877,1025,1000,943,943,943,943,960,960,973,960,689,960,1009,745,1130,950,1092,800,1092,1092,1095,1088,958,1009,1095,1055,1095,1095,1061,1061,1095,900,1080,689,967,967,971,960,955,968,1172,1076,958,1092,1095,901,1092,1207,1172,1172,1008,950,1130,1130,950,1095,948,948,1230,948,950,1092,948,1230,1095,948,1009,1230,948,1230,1009,948,1230,1223,948,948,948,1181,948,1230,948,1223,819,1230,1009,1009,1100,1223,1100,1010,1010,1223,1009,1223,1223,1223,1500,1500,1100,1223,850,1223,950,1250,856,1095,1259,1259,1009,1259,1230,958,850,850,1001,1050,657,743,856,1092,1054,1181,1092,850,948,948,1266,1266,1009,1082,1009,1082,1266,1230,1054,1092,1100,1095,1082,1009,1082,1054,948,1100,1009,1009,808,948,1250,1250,948,1266,1266,850,958,1009,1050,1009,948,1300,675,657,807,700,1266,1001,948,948,1259,1259,1259,1259,1092,1533,948,1050,1363,1363,1363,807,1050,1050,1050,1050,1050,850,1050,850,850,1062,1360,1081,1001,1360,948,1360,1062,700,819,819,1079,1079,948,948,948,819,1081,1231,948,948,948,1062,1355,1050,1355,1050,1360,1363,875,1065,1362,1362,1202,982,1362,1079,1355,1200,1363,1202,1202,1202,1202,1363,1095,1202,1095,1202,1335,1231,948,1231,1202,1202,2002,1202,1095,1202,1202,1202,1202,1200,1202,1202,1231,1335,1202,1231,982,1335,1335,1335,1335,1335,1202,1335,1355,1335,1333,1066,1066,1231,1266,1171,1171,1202,1171,1231,1231,1630,1231,1231,1231,1231,1231,1202,1202,915,915,1335,990,1335,1335,1335,1355,984,1115,819,1202,1345,820,1087,1087,1087,1087,1081,1345,990,900,1000,1345,1000,1081,1363,999,1231,1345,1345,1345,1345,1345,1345,1345,1087,1087,1087,1085,1085,1000,1345,1200,915,1230,1001,1355,1074,999,2650,1355,1355,1345,1400,1350,1345,1345,2650,999,1001,1630,2400,1180,1152,1237,2412,1114,990,2412,1147,1272,1272,1381,2304,1147,1330,1237,1381,1381,1273,1381,1381,1381,1287,1237,1381,1488,1488,1488,1569,1569,1567,1550,1488,1567,1925,1569,2282,1873,3082,2049,877,743],\"xaxis\":\"x\",\"y\":[135000,138000,139000,145000,150000,150000,157989,168000,170000,170000,170000,170000,180000,190000,198000,199000,199000,199000,199000,199000,199000,199000,199000,199000,199000,199000,200000,200000,200000,200000,200000,200000,208888,210000,210000,210000,210000,210000,210000,210000,210000,210000,210000,210000,210000,210000,218000,220000,220000,220000,220000,220000,220000,220000,228000,228000,228000,228000,228000,229000,229500,230000,230000,230000,230000,230000,230000,230000,230000,230000,232000,232800,232800,238000,238000,240000,240000,240000,247989,250000,250000,250000,258000,265000,268000,268000,270000,270000,270000,270000,270000,270000,270000,275000,275000,275000,279000,280000,280000,280000,280000,280000,280000,285000,288000,288000,288684,289000,289000,289000,289000,289000,290000,290000,290000,290000,290000,290000,290000,290000,290000,290000,290000,290000,290000,294000,295000,295000,295000,295000,296800,298000,299000,299000,299000,299000,299000,299999,300000,300000,300000,300000,300000,300000,300000,300000,300000,300000,300000,300000,300000,300000,300000,300000,300000,300000,300000,300000,300000,300000,300000,300000,300000,300000,300000,300000,300000,300000,300000,300000,300000,300000,300000,300000,300000,300000,300000,300000,300000,300000,300000,300000,300000,300000,300000,300000,300000,300000,300000,300000,300000,300000,300000,300000,300000,300000,300000,300000,300000,300000,300000,300000,300000,300000,300000,300000,300000,300000,300000,300000,300000,300000,300000,300000,300000,300000,300000,300000,300000,300000,300000,300000,300000,300000,300000,300000,300000,300000,300000,300000,300000,300000,300000,300000,300000,300000,300000,300000,300000,300000,300000,300000,303000,308000,309000,309000,310000,310000,310000,310000,310000,310000,310000,310000,310000,310000,310000,310000,310000,310000,310000,310000,312900,313000,313000,313000,315000,315000,315000,315000,315000,315000,315000,318000,319000,320000,320000,320000,320000,320000,320000,320000,320000,320000,320000,320000,320000,320000,320000,320000,320000,320000,320000,320000,320000,320000,320000,320000,320000,320000,320000,320000,320000,320000,320000,320000,325000,325000,326800,326800,327000,329000,330000,330000,330000,330000,330000,330000,330000,330000,330000,330000,330000,330000,330000,330000,330000,330000,330000,330000,330000,330000,330000,330000,330000,330000,330000,330000,330000,330000,330000,330000,330000,335000,335000,335000,336000,336000,336800,338000,339000,339000,340000,340000,340000,340000,340000,340000,340000,340000,340000,340000,340000,340000,343528,344800,345000,345000,345000,345000,345000,345000,345000,345000,345000,345000,345000,345000,345690,348300,348300,348300,349000,349000,350000,350000,350000,350000,350000,350000,350000,350000,350000,350000,350000,350000,350000,350000,350000,350000,350000,350000,350000,350000,350000,350000,350000,350000,350000,350000,350000,350000,350000,350000,350000,350000,350000,350000,350000,350000,350000,350000,350000,350000,350000,350000,350000,350000,350000,355000,355000,355000,355000,355000,355000,355000,355000,355000,355000,358000,360000,360000,360000,360000,360000,360000,360000,360000,360000,360000,360000,360000,360000,360000,360000,360000,360000,360000,360000,360000,360000,360000,360000,360000,360000,360000,360000,360000,365000,365000,365000,365000,365000,365000,368000,368000,368000,369000,370000,370000,370000,370000,370000,370000,370000,370000,370000,370000,370000,370000,372888,375000,379000,379080,379800,380000,380000,380000,380000,380000,380000,380000,380000,380000,380000,380000,380000,380000,380000,380000,380000,380000,380000,380000,380000,383000,385000,385000,385000,385000,386000,390000,390000,390000,390000,390000,394989,395000,395000,395000,395000,395000,395000,395000,396000,398000,398000,398000,398000,398000,398000,398000,398000,399000,399000,399000,400000,400000,400000,400000,400000,400000,400000,400000,400000,400000,400000,400000,400000,400000,400000,400000,400000,400000,400000,400000,403000,403000,405000,405000,407000,407000,407000,410000,410000,410000,410000,410000,410000,410000,410000,410000,410000,410000,410000,410000,410000,417000,418800,420000,420000,420000,420000,420000,420000,420000,420000,420000,420000,420000,420000,420000,420000,420000,420000,420000,420000,420000,420000,425000,425000,430000,430000,430000,430000,430000,430000,430000,430000,430000,430000,430000,430000,430000,430000,430000,430000,430000,430000,430000,430000,435000,435000,435000,435000,438000,438000,440000,440000,440000,440000,440000,440000,440000,440000,440000,440000,441000,448000,450000,450000,450000,450000,450000,450000,450000,450000,450000,450000,450000,450000,450000,450000,450000,450000,450000,450000,450000,450000,450000,450000,450000,450000,450000,450000,450000,450000,450000,450000,451888,455000,458000,460000,460000,460000,460000,460000,466000,467100,467800,470000,470000,470000,475000,479000,480000,480000,480000,480000,480000,480000,480000,480000,480000,480000,480000,480000,480000,480000,485000,485000,485000,486000,486700,486700,486800,486900,487600,488000,488600,488888,489000,490000,490000,490000,490000,490000,490000,490000,499000,500000,500000,500000,500000,500000,500000,500000,500000,500000,500000,500000,500000,500000,500000,500000,500000,510000,510000,510000,515000,515000,515000,520000,520000,520000,520000,520000,520000,520000,520000,525000,525000,525000,529000,529000,529000,530000,530000,530000,530000,530000,530000,535000,535000,535000,540000,540000,540000,540000,540000,540000,540000,540000,540000,540000,540000,540000,540000,540000,545000,545000,550000,550000,550000,550000,550000,550000,550000,550000,550000,550000,550000,550000,550000,550000,550000,550000,550000,550000,550000,550000,550000,550000,550000,550000,550000,550000,550000,560000,560000,566800,569800,570000,570000,570000,570000,570000,570000,573000,575000,580000,580000,580000,585000,590000,590000,590000,590000,590000,590000,599500,600000,600000,600000,600000,600000,600000,600000,600000,600000,600000,600000,600000,600000,600000,610000,618000,618000,618000,620000,630000,630000,630000,640000,650000,650000,650000,650000,650000,650000,650000,650000,658000,660000,660000,660000,670000,670000,670000,680000,680000,690000,700000,720000,720000,730000,730000,735000,740000,740000,750000,750000,750000,750000,760000,770000,780000,780000,780000,800000,800000,800000,810000,820000,850000,850000,880000,940000,950000,965000,985000,988000,995000,999000,1000000,1050000,1060000,1100000,1188000,1200000,1252000,1300000,3200000,3470000],\"yaxis\":\"y\",\"type\":\"scattergl\"},{\"customdata\":[[2,1],[2,1],[2,1],[2,1],[1,1],[1,1],[3,2],[3,2],[3,2],[3,2],[3,2],[3,2],[3,2],[3,2],[3,1],[3,2],[3,2],[3,1],[3,2],[4,2],[3,2],[4,2],[2,2],[3,2],[3,1],[3,1],[3,2],[3,2],[3,2],[3,2],[3,2],[3,2],[3,2],[3,2],[3,2],[3,2],[3,2],[3,1],[3,2],[3,2],[3,2],[3,2],[3,2],[3,2],[3,2],[3,2],[3,2],[3,3],[3,2],[3,2],[3,2],[3,2],[3,2],[3,2],[3,2],[3,2],[3,2],[3,2],[3,2],[3,2],[3,2],[3,2],[3,2],[3,2],[3,2],[3,3],[3,2],[3,2],[3,2],[3,2],[3,2],[3,2],[4,3],[3,2],[3,2],[3,2],[3,2],[3,2],[3,2],[3,2],[3,2],[3,2],[3,2],[3,2],[3,2],[3,2],[3,2],[3,2],[3,2],[3,2],[3,2],[3,2],[3,2],[3,2],[3,2],[3,2],[3,2],[3,2],[3,2],[3,2],[3,2],[3,2],[3,2],[3,2],[3,2],[3,2],[3,2],[3,2],[3,2],[3,2],[3,2],[3,2],[3,2],[3,2],[3,2],[3,2],[3,2],[3,2],[3,2],[3,2],[3,2],[3,2],[3,3],[4,2],[4,2],[3,2],[3,2],[3,2],[3,2],[3,2],[3,2],[3,2],[3,2],[3,2],[3,2],[3,2],[3,2],[3,2],[3,2],[3,2],[3,2],[3,2],[3,2],[3,2],[3,2],[3,2],[3,2],[3,2],[3,2],[3,2],[3,2],[3,2],[3,2],[3,2],[3,2],[3,2],[3,2],[3,2],[3,2],[3,2],[3,2],[3,2],[3,2],[3,2],[3,2],[3,2],[3,2],[3,2],[3,2],[3,2],[3,2],[3,2],[3,2],[3,2],[3,2],[3,2],[3,2],[3,2],[3,2],[3,2],[3,2],[3,2],[3,2],[3,2],[3,2],[3,2],[3,2],[3,2],[3,2],[4,2],[3,2],[3,2],[3,2],[3,2],[3,2],[3,2],[3,2],[3,2],[3,2],[3,2],[3,2],[3,2],[3,2],[3,2],[3,2],[3,2],[3,3],[3,2],[3,2],[3,2],[3,2],[3,2],[3,3],[3,2],[3,3],[3,3],[3,3],[3,2],[3,2],[3,2],[3,2],[3,2],[3,2],[3,2],[3,2],[3,2],[3,2],[3,2],[3,2],[4,3],[3,2],[3,3],[3,2],[3,2],[3,2],[3,2],[3,2],[4,4],[3,2],[3,2],[3,2],[3,2],[3,2],[4,2],[4,2],[4,2],[4,2],[4,2],[4,2],[3,2],[3,3],[3,2],[4,3],[3,2],[3,2],[3,2],[3,2],[3,2],[3,2],[4,3],[5,2],[5,5],[3,2],[4,3],[4,5],[5,5]],\"hovertemplate\":\"Area=SETIAWANGSA<br>Size (sq.ft.)=%{x}<br>Price (RM)=%{y}<br>Bedrooms=%{customdata[0]}<br>Bathrooms=%{customdata[1]}<extra></extra>\",\"legendgroup\":\"SETIAWANGSA\",\"marker\":{\"color\":\"#EF553B\",\"symbol\":\"circle\"},\"mode\":\"markers\",\"name\":\"SETIAWANGSA\",\"showlegend\":true,\"x\":[560,560,549,550,280,280,650,650,650,700,850,850,689,685,872,820,820,872,878,900,835,900,720,835,835,820,650,650,650,650,650,650,966,820,835,820,820,820,820,820,820,952,835,977,977,977,977,977,835,952,952,925,952,952,976,925,952,952,952,952,953,1000,953,953,976,952,953,953,950,953,953,953,976,900,988,900,926,926,926,952,926,926,926,926,952,926,926,926,926,926,926,926,926,926,926,926,926,926,926,952,952,952,952,952,820,859,820,1200,908,1200,1042,858,1036,1036,1200,1200,1200,1036,1036,1042,1036,1042,1200,1367,1367,1367,858,1200,1031,1090,1060,1060,1060,1060,1060,1090,1367,1148,1420,1200,1208,1200,1200,1320,1089,1089,1126,1126,1378,1368,1200,1157,1225,1200,1378,1378,1378,1225,1225,1368,1326,1225,1225,1225,1200,1200,1200,1200,1271,1378,1237,1237,1237,1237,1237,1237,1237,1237,1250,1250,1178,1250,1250,1200,1400,1378,1421,1378,1375,1375,1378,1398,1400,1400,1196,1325,1335,1335,1335,1300,1335,1335,1196,1196,1399,1399,1500,1335,1351,1325,1325,1315,1300,1196,1300,1300,1300,1196,1196,1196,1196,1196,1196,1196,1196,1325,1384,1196,1196,1819,1649,1625,1257,1196,1500,1636,1636,2200,1930,1732,1732,1732,1732,1732,1732,1732,1732,1732,1732,1257,1786,1257,1819,1732,1732,1732,1930,1742,1930,1540,2331,2700,1930,2650,3551,3551],\"xaxis\":\"x\",\"y\":[165000,175000,180000,200000,230000,230000,230000,250000,250000,260000,260000,260000,270000,299000,300000,300000,300000,300000,300000,305000,310000,310000,312000,335000,340000,340000,340000,340000,340000,340000,340000,340000,340000,340000,340000,345000,345000,345000,350000,350000,350000,355000,357999,358000,358000,358000,358000,358000,358000,360000,360000,379000,380000,380000,380000,380000,380000,380000,380000,380000,380000,380000,380000,380000,380000,380000,380000,380000,380000,380000,380000,380000,380000,385000,385000,385000,390000,390000,390000,390000,390000,390000,390000,390000,390000,390000,390000,390000,390000,390000,390000,390000,390000,390000,390000,390000,390000,390000,390000,393000,395000,395000,395000,395000,398000,398000,398000,410000,418000,430000,440000,440000,450000,450000,450000,450000,450000,450000,450000,450000,450000,450000,450000,453000,453000,453600,455000,460000,464000,465000,480000,480000,480000,480000,480000,480000,504000,510000,515000,518000,520000,520000,520000,520000,525000,530000,530000,530000,530000,530000,540000,548000,550000,550000,550000,550000,550000,550000,550000,550000,550000,550000,550000,550000,560000,560000,560000,560000,568000,575000,580000,580000,580000,580000,580000,580000,580000,580000,590000,590000,590000,590000,590000,599000,600000,620000,620000,620000,625000,625000,630000,630000,640000,640000,645000,645000,650000,650000,650000,650000,650000,650000,670000,680000,680000,680000,685000,690000,690000,690000,690000,690000,699000,699000,699000,699000,699000,700000,700000,700000,700000,700000,700000,720000,720000,720000,720000,739000,739000,740000,750000,750000,750000,750000,760000,760000,760000,780000,790000,840000,840000,840000,840000,840000,840000,840000,840000,840000,840000,850000,850000,850000,850000,870000,870000,870000,880000,895000,900000,900000,980000,980000,1000000,1180000,1600000,1600000],\"yaxis\":\"y\",\"type\":\"scattergl\"},{\"customdata\":[[2,1],[3,1],[2,1],[2,1],[2,1],[2,1],[2,1],[2,1],[2,1],[2,1],[2,1],[2,1],[3,1],[3,2],[3,1],[3,2],[3,2],[3,2],[3,2],[3,2],[3,2],[2,1],[3,2],[2,1],[3,2],[3,2],[3,2],[3,2],[3,2],[3,2],[3,2],[3,2],[3,2],[3,2],[3,2],[3,2],[3,2],[3,2],[3,2],[3,2],[3,2],[2,2],[3,2],[3,2],[3,2],[3,2],[3,2],[3,2],[2,3],[3,2],[3,2],[3,2],[3,2],[3,2],[3,2],[3,2],[3,2],[3,2],[3,2],[3,2],[3,2],[3,2],[3,2],[3,2],[2,2],[3,2],[3,2],[3,1],[3,2],[3,2],[2,2],[2,1],[3,2],[2,2],[3,2],[2,2],[2,2],[2,2],[2,2],[2,2],[2,2],[2,2],[2,2],[2,2],[2,2],[2,2],[2,2],[2,2],[2,2],[2,2],[2,2],[2,2],[2,2],[2,2],[3,2],[2,3],[3,2],[3,2],[3,2],[3,2],[2,3],[2,3],[3,2],[3,2],[3,2],[3,2],[3,2],[3,2],[3,2],[3,2],[3,2],[3,2],[2,3],[2,3],[2,3],[3,2],[3,2],[3,2],[3,2],[3,2],[3,2],[3,2],[2,3],[3,2],[3,2],[3,2],[3,2],[3,2],[3,2],[3,2],[3,2],[3,2],[3,2],[3,2],[3,2],[3,2],[3,2],[3,2],[3,2],[3,2],[3,3],[3,2],[3,2],[3,2],[2,2],[3,2],[3,2],[3,2],[3,2],[3,2],[3,2],[3,2],[3,2],[3,2],[3,2],[3,3],[3,2],[3,2],[3,2],[3,2],[3,3],[3,2],[3,2],[4,3],[4,3],[4,3],[4,3],[3,3],[4,3],[4,3],[4,3],[4,3],[4,3],[4,3],[4,3],[3,3],[4,3],[4,3],[4,3],[3,2],[4,3],[4,3],[4,4],[4,4],[7,5]],\"hovertemplate\":\"Area=SRI DAMANSARA<br>Size (sq.ft.)=%{x}<br>Price (RM)=%{y}<br>Bedrooms=%{customdata[0]}<br>Bathrooms=%{customdata[1]}<extra></extra>\",\"legendgroup\":\"SRI DAMANSARA\",\"marker\":{\"color\":\"#00cc96\",\"symbol\":\"circle\"},\"mode\":\"markers\",\"name\":\"SRI DAMANSARA\",\"showlegend\":true,\"x\":[634,600,611,611,660,620,624,624,624,624,624,624,650,650,650,650,650,650,660,660,656,650,650,624,650,650,650,650,650,650,650,650,650,650,786,650,660,650,786,811,786,725,811,786,830,811,871,830,811,786,811,811,811,800,962,811,810,830,835,830,830,830,830,830,725,830,811,700,811,948,725,725,830,725,725,725,725,725,725,725,725,725,725,725,725,725,725,725,725,725,725,725,725,725,830,811,811,871,750,811,811,811,871,970,811,850,786,786,786,800,786,811,811,811,811,811,811,1021,1082,811,811,807,955,955,1105,955,811,830,1105,810,811,1105,867,1007,850,850,1105,850,910,1105,1105,1105,1105,1105,829,830,955,1120,811,1105,1105,1080,1080,1080,1080,1210,1066,1120,1120,916,1395,1395,791,1468,1468,1468,1441,1610,1610,1468,1468,1425,1610,1610,1610,1468,1500,1500,1432,1610,1610,1493,1905,2110,3150],\"xaxis\":\"x\",\"y\":[100000,100000,118000,118000,120000,124000,130000,130000,130000,130000,130000,130000,130000,135000,135000,138000,140000,145000,150000,150000,150000,155000,160000,165000,165000,168000,170000,170000,170000,170000,175000,180000,180000,185000,190000,215000,220000,222000,240000,240000,248000,255000,260000,260000,270000,270000,270000,275000,280000,280000,280000,280000,280000,280000,280000,280000,285000,288000,289000,289999,290000,290000,295000,295000,298000,300000,300000,300000,300000,308000,310000,310000,310000,313000,315000,319999,320000,320000,320000,320000,320000,320000,320000,320000,320000,320000,320000,320000,320000,320000,320000,320000,320000,320000,320000,325000,325000,325000,325000,328000,330000,330000,330000,330000,335000,335000,340000,340000,340000,340000,340000,345000,350000,350000,350000,350000,350000,350000,350000,355000,359000,359000,360000,360000,360000,360000,360000,360000,370000,370000,370000,370000,380000,380000,380000,380000,380000,380000,390000,395000,395000,395000,395000,395000,399000,399000,400000,400000,418000,420000,420000,435000,435000,435000,435000,439000,470000,475000,520000,535000,620000,620000,665000,678000,690000,690000,700000,730000,730000,740000,750000,760000,760000,760000,770000,780000,780000,780000,780000,850000,860000,880000,1250000,1388000,1688888],\"yaxis\":\"y\",\"type\":\"scattergl\"},{\"customdata\":[[2,1],[1,1],[1,1],[3,2],[3,2],[1,1],[3,2],[3,2],[4,2],[1,1],[1,1],[1,1],[1,1],[3,2],[3,2],[3,2],[3,2],[1,1],[1,1],[1,1],[1,1],[3,2],[3,2],[3,2],[3,2],[3,2],[3,2],[4,2],[1,1],[1,1],[3,2],[3,2],[3,2],[3,2],[3,2],[3,2],[3,2],[3,2],[3,2],[3,2],[3,2],[1,1],[1,1],[3,2],[3,2],[3,2],[3,2],[3,2],[1,1],[3,2],[3,2],[3,2],[3,2],[3,2],[3,2],[3,2],[3,2],[3,2],[3,2],[3,2],[3,2],[1,1],[4,2],[4,2],[1,1],[1,1],[1,1],[3,2],[3,2],[3,2],[3,2],[1,1],[1,1],[1,1],[1,1],[3,2],[3,2],[3,2],[3,2],[3,2],[3,2],[3,2],[3,2],[2,1],[3,2],[3,2],[3,2],[3,2],[1,1],[1,1],[3,2],[3,2],[3,2],[3,2],[3,2],[3,2],[3,2],[3,2],[3,2],[3,2],[3,2],[3,2],[3,2],[3,2],[3,2],[3,2],[2,2],[3,2],[3,2],[3,2],[3,2],[3,2],[3,2],[3,2],[3,2],[3,2],[2,2],[2,2],[3,2],[2,2],[2,2],[2,2],[2,2],[3,2],[3,2],[3,2],[3,2],[3,2],[3,2],[3,2],[3,2],[3,2],[3,2],[3,2],[3,2],[3,2],[3,2],[3,2],[3,2],[3,2],[3,2],[3,2],[3,2],[3,2],[3,2],[3,2],[3,2],[4,2],[4,2],[4,2],[1,1],[3,2],[1,1],[3,2],[3,2],[3,2],[3,2],[3,2],[3,2],[3,2],[3,2],[3,2],[3,2],[3,3],[3,2],[4,2],[2,2],[3,2],[3,2],[3,2],[3,2],[3,2],[3,2],[3,2],[3,2],[3,2],[3,2],[3,2],[4,3],[4,3],[4,3],[3,2],[3,2],[3,2],[3,2],[3,2],[3,2],[3,2],[3,2],[3,2],[3,2],[3,2],[3,2],[3,2],[3,2],[3,2],[3,2],[3,2],[3,2],[3,2],[3,2],[3,2],[4,2],[4,2],[4,2],[4,2],[4,2],[2,1],[2,1],[2,1],[2,1],[3,2],[3,2],[1,1],[1,1],[1,1],[1,1],[1,1],[1,1],[1,1],[2,2],[2,2],[3,2],[2,2],[3,2],[3,2],[5,4],[4,3],[2,2],[3,2],[3,2],[3,2],[3,2],[3,2],[3,2],[3,3],[4,3],[4,3],[3,2],[3,2],[3,2],[3,2],[3,2],[3,2],[3,2],[3,3],[3,2],[3,2],[3,2],[3,2],[3,2],[3,2],[3,2],[3,2],[3,2],[3,2],[3,2],[2,2],[3,2],[3,2],[3,2],[3,2],[3,2],[3,2],[3,2],[3,2],[3,2],[3,2],[3,2],[3,2],[2,2],[2,2],[3,2],[2,2],[3,3],[2,2],[2,2],[2,2],[2,2],[3,2],[3,2],[3,2],[3,2],[3,2],[3,2],[3,2],[3,2],[3,2],[3,2],[3,2],[4,2],[3,2],[3,2],[3,2],[3,2],[3,2],[3,2],[4,3],[2,2],[2,2],[2,2],[2,2],[2,2],[3,2],[3,2],[3,2],[4,3],[3,2],[3,2],[3,2],[3,2],[3,2],[3,2],[3,2],[3,2],[3,2],[3,2],[3,2],[4,3],[2,2],[3,2],[3,2],[3,2],[3,2],[3,2],[3,2],[3,2],[3,3],[3,2],[3,2],[3,2],[3,2],[3,2],[3,2],[4,3],[4,3],[4,3],[3,2],[3,2],[3,2],[3,2],[2,2],[4,3],[4,4],[3,4],[3,3],[3,4],[3,2],[4,4],[4,4],[4,3],[4,4],[4,4],[4,4],[4,4],[4,4],[4,3],[4,4],[2,2],[3,2],[3,2],[2,2],[2,2],[3,2],[4,5],[3,2],[3,2],[4,4],[4,4],[4,4],[4,4],[4,4],[4,4],[4,3],[3,3],[3,3],[3,2],[4,3],[4,3],[4,3],[4,2],[3,3],[3,3],[3,3],[4,3],[4,3],[4,3],[4,3],[4,3],[3,3],[4,4],[3,3],[4,3],[3,3],[6,5],[4,3]],\"hovertemplate\":\"Area=TAMAN MELAWATI<br>Size (sq.ft.)=%{x}<br>Price (RM)=%{y}<br>Bedrooms=%{customdata[0]}<br>Bathrooms=%{customdata[1]}<extra></extra>\",\"legendgroup\":\"TAMAN MELAWATI\",\"marker\":{\"color\":\"#ab63fa\",\"symbol\":\"circle\"},\"mode\":\"markers\",\"name\":\"TAMAN MELAWATI\",\"showlegend\":true,\"x\":[581,499,499,895,850,499,900,786,850,490,497,490,557,895,900,895,945,497,490,557,499,856,856,856,850,850,786,850,497,577,808,883,883,883,883,883,883,883,883,878,878,490,490,985,985,985,985,985,497,883,883,883,883,883,883,883,883,883,883,883,883,490,1059,1059,490,490,490,985,1176,1086,980,490,490,490,490,856,856,856,1052,1176,1115,1115,1100,669,1187,1007,1176,860,669,669,1007,1007,1086,1086,1086,1086,1086,1198,1198,1198,1000,1187,1187,1200,1187,1187,725,1007,1200,1007,1238,725,1009,1200,1200,1200,1052,1052,1008,972,1052,1052,1052,1200,1200,1200,1200,1007,1200,1021,1200,1200,1200,1187,1200,1272,1200,1178,1178,1200,1200,1200,1200,1200,1178,1021,1200,1272,1272,1464,633,1221,799,1007,1007,1007,1007,1007,1007,1007,1007,1007,1007,1300,1007,1328,1052,1100,1200,1300,1107,1200,1200,1100,1200,1007,1200,1200,1260,1258,1258,1176,1176,1176,1176,1221,1176,1238,1176,1176,1176,1176,1176,1176,1200,1031,1000,1007,1007,1300,1007,1000,1328,1335,1328,1328,1328,633,633,633,633,1200,1007,769,766,769,765,756,769,769,952,972,1100,1115,1170,1086,1922,1269,972,950,1044,1313,950,1313,950,1253,1253,1266,950,1350,1126,1126,1126,1080,1200,1200,1126,1126,1126,1126,1126,1126,1550,1550,1250,1205,1250,967,1007,1209,1209,1209,1209,1209,1209,1209,1209,1209,1209,1209,836,836,1500,836,1253,836,836,836,836,1206,1206,1206,1206,1206,1206,1206,950,950,950,950,1600,1000,1206,1099,1099,1209,1098,1389,1206,1206,1206,1206,1206,1206,1350,1300,1389,1033,1033,1033,1033,1100,1037,1037,1037,1037,1037,1037,1389,1200,1037,1037,1037,1037,1037,1037,1037,1389,1037,1037,1037,1037,1037,1037,1850,1800,1430,1037,1037,1037,1037,865,1850,1600,1560,1600,1600,1446,1560,1600,1560,1560,1600,1600,1600,1580,1600,1580,1446,1840,1960,1443,1442,1442,4876,1442,1985,1600,1600,1600,1600,1600,1600,1854,1948,1948,1948,1948,1948,1948,1948,1985,1945,1945,1945,1790,1948,1948,1948,2300,2700,2271,2271,2900,3556,2271],\"xaxis\":\"x\",\"y\":[175000,250000,250000,250000,265000,270000,270000,270000,270000,275000,275000,275000,275000,275888,278888,278888,280000,285000,290000,290000,290000,299000,299000,299000,300000,300000,300000,300000,310000,310000,310000,310000,310000,310000,310000,310000,310000,310000,310000,312000,312000,320000,320000,320000,320000,320000,320000,320000,325000,325000,325000,325000,325000,325000,325000,325000,325000,325000,325000,325000,325000,330000,338000,338000,340000,340000,340000,340000,350000,350000,350000,358000,360000,360000,360000,360000,360000,360000,369000,370000,370000,370000,370000,390000,390000,390000,390000,398000,400000,400000,400000,400000,400000,400000,400000,400000,400000,403000,403000,403000,415000,415000,415000,415000,415000,415000,420000,420000,420000,420000,420000,420000,420000,420000,420000,420000,425000,425000,428000,430000,430000,430000,430000,430000,430000,430000,430000,430000,430000,430000,430000,430000,430000,430000,430000,430000,430000,430000,430000,430000,430000,430000,430000,430000,430000,430000,430000,430000,430000,438000,439000,445000,450000,450000,450000,450000,450000,450000,450000,450000,450000,450000,450000,450000,450000,450000,455000,455000,458000,458000,459000,459000,460000,460000,460000,460000,460000,460000,463000,463000,463950,465000,465000,465000,465000,465000,465000,465000,465000,465000,465000,465000,465000,465000,468000,470000,475000,475000,480000,480000,480000,480000,480000,480000,480000,480000,480000,485000,485000,485000,485000,485000,499000,500000,500000,500000,500000,500000,500000,500000,500000,500000,500000,520000,520000,520000,520000,525000,530000,530000,530000,530000,530000,530000,530000,530000,530000,530000,540000,545000,550000,550000,550000,550000,550000,550000,555000,559000,559000,559000,559000,559000,560000,560000,565000,565000,565000,570000,580000,580000,580000,580000,580000,580000,580000,580000,580000,580000,580000,580000,585000,585000,588000,590000,590000,595000,595000,595000,595000,595000,595000,595000,595000,595000,595000,595000,600000,600000,600000,600000,600000,610000,630000,630000,630000,630000,630000,635000,650000,650000,650000,650000,650000,650000,650000,650000,650000,680000,680000,680000,680000,690000,690000,690000,690000,690000,690000,690000,690000,700000,700000,700000,700000,700000,700000,700000,710000,716000,718000,718000,718000,725000,725000,740000,750000,750000,765000,788000,788000,788000,788000,800000,830000,890000,900000,900000,900000,900000,900000,900000,900000,900000,900000,900000,900000,900000,900000,900000,980000,980000,990000,1000000,1000000,1000000,1000000,1050000,1050000,1050000,1050000,1050000,1050000,1050000,1050000,1050000,1080000,1080000,1080000,1080000,1080000,1080000,1080000,1100000,1100000,1100000,1100000,1150000,1200000,1200000,1200000,1380000,1390000,1500000,1560000,1588888,1605000,1700000],\"yaxis\":\"y\",\"type\":\"scattergl\"}],                        {\"template\":{\"data\":{\"bar\":[{\"error_x\":{\"color\":\"#2a3f5f\"},\"error_y\":{\"color\":\"#2a3f5f\"},\"marker\":{\"line\":{\"color\":\"#E5ECF6\",\"width\":0.5},\"pattern\":{\"fillmode\":\"overlay\",\"size\":10,\"solidity\":0.2}},\"type\":\"bar\"}],\"barpolar\":[{\"marker\":{\"line\":{\"color\":\"#E5ECF6\",\"width\":0.5},\"pattern\":{\"fillmode\":\"overlay\",\"size\":10,\"solidity\":0.2}},\"type\":\"barpolar\"}],\"carpet\":[{\"aaxis\":{\"endlinecolor\":\"#2a3f5f\",\"gridcolor\":\"white\",\"linecolor\":\"white\",\"minorgridcolor\":\"white\",\"startlinecolor\":\"#2a3f5f\"},\"baxis\":{\"endlinecolor\":\"#2a3f5f\",\"gridcolor\":\"white\",\"linecolor\":\"white\",\"minorgridcolor\":\"white\",\"startlinecolor\":\"#2a3f5f\"},\"type\":\"carpet\"}],\"choropleth\":[{\"colorbar\":{\"outlinewidth\":0,\"ticks\":\"\"},\"type\":\"choropleth\"}],\"contour\":[{\"colorbar\":{\"outlinewidth\":0,\"ticks\":\"\"},\"colorscale\":[[0.0,\"#0d0887\"],[0.1111111111111111,\"#46039f\"],[0.2222222222222222,\"#7201a8\"],[0.3333333333333333,\"#9c179e\"],[0.4444444444444444,\"#bd3786\"],[0.5555555555555556,\"#d8576b\"],[0.6666666666666666,\"#ed7953\"],[0.7777777777777778,\"#fb9f3a\"],[0.8888888888888888,\"#fdca26\"],[1.0,\"#f0f921\"]],\"type\":\"contour\"}],\"contourcarpet\":[{\"colorbar\":{\"outlinewidth\":0,\"ticks\":\"\"},\"type\":\"contourcarpet\"}],\"heatmap\":[{\"colorbar\":{\"outlinewidth\":0,\"ticks\":\"\"},\"colorscale\":[[0.0,\"#0d0887\"],[0.1111111111111111,\"#46039f\"],[0.2222222222222222,\"#7201a8\"],[0.3333333333333333,\"#9c179e\"],[0.4444444444444444,\"#bd3786\"],[0.5555555555555556,\"#d8576b\"],[0.6666666666666666,\"#ed7953\"],[0.7777777777777778,\"#fb9f3a\"],[0.8888888888888888,\"#fdca26\"],[1.0,\"#f0f921\"]],\"type\":\"heatmap\"}],\"heatmapgl\":[{\"colorbar\":{\"outlinewidth\":0,\"ticks\":\"\"},\"colorscale\":[[0.0,\"#0d0887\"],[0.1111111111111111,\"#46039f\"],[0.2222222222222222,\"#7201a8\"],[0.3333333333333333,\"#9c179e\"],[0.4444444444444444,\"#bd3786\"],[0.5555555555555556,\"#d8576b\"],[0.6666666666666666,\"#ed7953\"],[0.7777777777777778,\"#fb9f3a\"],[0.8888888888888888,\"#fdca26\"],[1.0,\"#f0f921\"]],\"type\":\"heatmapgl\"}],\"histogram\":[{\"marker\":{\"pattern\":{\"fillmode\":\"overlay\",\"size\":10,\"solidity\":0.2}},\"type\":\"histogram\"}],\"histogram2d\":[{\"colorbar\":{\"outlinewidth\":0,\"ticks\":\"\"},\"colorscale\":[[0.0,\"#0d0887\"],[0.1111111111111111,\"#46039f\"],[0.2222222222222222,\"#7201a8\"],[0.3333333333333333,\"#9c179e\"],[0.4444444444444444,\"#bd3786\"],[0.5555555555555556,\"#d8576b\"],[0.6666666666666666,\"#ed7953\"],[0.7777777777777778,\"#fb9f3a\"],[0.8888888888888888,\"#fdca26\"],[1.0,\"#f0f921\"]],\"type\":\"histogram2d\"}],\"histogram2dcontour\":[{\"colorbar\":{\"outlinewidth\":0,\"ticks\":\"\"},\"colorscale\":[[0.0,\"#0d0887\"],[0.1111111111111111,\"#46039f\"],[0.2222222222222222,\"#7201a8\"],[0.3333333333333333,\"#9c179e\"],[0.4444444444444444,\"#bd3786\"],[0.5555555555555556,\"#d8576b\"],[0.6666666666666666,\"#ed7953\"],[0.7777777777777778,\"#fb9f3a\"],[0.8888888888888888,\"#fdca26\"],[1.0,\"#f0f921\"]],\"type\":\"histogram2dcontour\"}],\"mesh3d\":[{\"colorbar\":{\"outlinewidth\":0,\"ticks\":\"\"},\"type\":\"mesh3d\"}],\"parcoords\":[{\"line\":{\"colorbar\":{\"outlinewidth\":0,\"ticks\":\"\"}},\"type\":\"parcoords\"}],\"pie\":[{\"automargin\":true,\"type\":\"pie\"}],\"scatter\":[{\"marker\":{\"colorbar\":{\"outlinewidth\":0,\"ticks\":\"\"}},\"type\":\"scatter\"}],\"scatter3d\":[{\"line\":{\"colorbar\":{\"outlinewidth\":0,\"ticks\":\"\"}},\"marker\":{\"colorbar\":{\"outlinewidth\":0,\"ticks\":\"\"}},\"type\":\"scatter3d\"}],\"scattercarpet\":[{\"marker\":{\"colorbar\":{\"outlinewidth\":0,\"ticks\":\"\"}},\"type\":\"scattercarpet\"}],\"scattergeo\":[{\"marker\":{\"colorbar\":{\"outlinewidth\":0,\"ticks\":\"\"}},\"type\":\"scattergeo\"}],\"scattergl\":[{\"marker\":{\"colorbar\":{\"outlinewidth\":0,\"ticks\":\"\"}},\"type\":\"scattergl\"}],\"scattermapbox\":[{\"marker\":{\"colorbar\":{\"outlinewidth\":0,\"ticks\":\"\"}},\"type\":\"scattermapbox\"}],\"scatterpolar\":[{\"marker\":{\"colorbar\":{\"outlinewidth\":0,\"ticks\":\"\"}},\"type\":\"scatterpolar\"}],\"scatterpolargl\":[{\"marker\":{\"colorbar\":{\"outlinewidth\":0,\"ticks\":\"\"}},\"type\":\"scatterpolargl\"}],\"scatterternary\":[{\"marker\":{\"colorbar\":{\"outlinewidth\":0,\"ticks\":\"\"}},\"type\":\"scatterternary\"}],\"surface\":[{\"colorbar\":{\"outlinewidth\":0,\"ticks\":\"\"},\"colorscale\":[[0.0,\"#0d0887\"],[0.1111111111111111,\"#46039f\"],[0.2222222222222222,\"#7201a8\"],[0.3333333333333333,\"#9c179e\"],[0.4444444444444444,\"#bd3786\"],[0.5555555555555556,\"#d8576b\"],[0.6666666666666666,\"#ed7953\"],[0.7777777777777778,\"#fb9f3a\"],[0.8888888888888888,\"#fdca26\"],[1.0,\"#f0f921\"]],\"type\":\"surface\"}],\"table\":[{\"cells\":{\"fill\":{\"color\":\"#EBF0F8\"},\"line\":{\"color\":\"white\"}},\"header\":{\"fill\":{\"color\":\"#C8D4E3\"},\"line\":{\"color\":\"white\"}},\"type\":\"table\"}]},\"layout\":{\"annotationdefaults\":{\"arrowcolor\":\"#2a3f5f\",\"arrowhead\":0,\"arrowwidth\":1},\"autotypenumbers\":\"strict\",\"coloraxis\":{\"colorbar\":{\"outlinewidth\":0,\"ticks\":\"\"}},\"colorscale\":{\"diverging\":[[0,\"#8e0152\"],[0.1,\"#c51b7d\"],[0.2,\"#de77ae\"],[0.3,\"#f1b6da\"],[0.4,\"#fde0ef\"],[0.5,\"#f7f7f7\"],[0.6,\"#e6f5d0\"],[0.7,\"#b8e186\"],[0.8,\"#7fbc41\"],[0.9,\"#4d9221\"],[1,\"#276419\"]],\"sequential\":[[0.0,\"#0d0887\"],[0.1111111111111111,\"#46039f\"],[0.2222222222222222,\"#7201a8\"],[0.3333333333333333,\"#9c179e\"],[0.4444444444444444,\"#bd3786\"],[0.5555555555555556,\"#d8576b\"],[0.6666666666666666,\"#ed7953\"],[0.7777777777777778,\"#fb9f3a\"],[0.8888888888888888,\"#fdca26\"],[1.0,\"#f0f921\"]],\"sequentialminus\":[[0.0,\"#0d0887\"],[0.1111111111111111,\"#46039f\"],[0.2222222222222222,\"#7201a8\"],[0.3333333333333333,\"#9c179e\"],[0.4444444444444444,\"#bd3786\"],[0.5555555555555556,\"#d8576b\"],[0.6666666666666666,\"#ed7953\"],[0.7777777777777778,\"#fb9f3a\"],[0.8888888888888888,\"#fdca26\"],[1.0,\"#f0f921\"]]},\"colorway\":[\"#636efa\",\"#EF553B\",\"#00cc96\",\"#ab63fa\",\"#FFA15A\",\"#19d3f3\",\"#FF6692\",\"#B6E880\",\"#FF97FF\",\"#FECB52\"],\"font\":{\"color\":\"#2a3f5f\"},\"geo\":{\"bgcolor\":\"white\",\"lakecolor\":\"white\",\"landcolor\":\"#E5ECF6\",\"showlakes\":true,\"showland\":true,\"subunitcolor\":\"white\"},\"hoverlabel\":{\"align\":\"left\"},\"hovermode\":\"closest\",\"mapbox\":{\"style\":\"light\"},\"paper_bgcolor\":\"white\",\"plot_bgcolor\":\"#E5ECF6\",\"polar\":{\"angularaxis\":{\"gridcolor\":\"white\",\"linecolor\":\"white\",\"ticks\":\"\"},\"bgcolor\":\"#E5ECF6\",\"radialaxis\":{\"gridcolor\":\"white\",\"linecolor\":\"white\",\"ticks\":\"\"}},\"scene\":{\"xaxis\":{\"backgroundcolor\":\"#E5ECF6\",\"gridcolor\":\"white\",\"gridwidth\":2,\"linecolor\":\"white\",\"showbackground\":true,\"ticks\":\"\",\"zerolinecolor\":\"white\"},\"yaxis\":{\"backgroundcolor\":\"#E5ECF6\",\"gridcolor\":\"white\",\"gridwidth\":2,\"linecolor\":\"white\",\"showbackground\":true,\"ticks\":\"\",\"zerolinecolor\":\"white\"},\"zaxis\":{\"backgroundcolor\":\"#E5ECF6\",\"gridcolor\":\"white\",\"gridwidth\":2,\"linecolor\":\"white\",\"showbackground\":true,\"ticks\":\"\",\"zerolinecolor\":\"white\"}},\"shapedefaults\":{\"line\":{\"color\":\"#2a3f5f\"}},\"ternary\":{\"aaxis\":{\"gridcolor\":\"white\",\"linecolor\":\"white\",\"ticks\":\"\"},\"baxis\":{\"gridcolor\":\"white\",\"linecolor\":\"white\",\"ticks\":\"\"},\"bgcolor\":\"#E5ECF6\",\"caxis\":{\"gridcolor\":\"white\",\"linecolor\":\"white\",\"ticks\":\"\"}},\"title\":{\"x\":0.05},\"xaxis\":{\"automargin\":true,\"gridcolor\":\"white\",\"linecolor\":\"white\",\"ticks\":\"\",\"title\":{\"standoff\":15},\"zerolinecolor\":\"white\",\"zerolinewidth\":2},\"yaxis\":{\"automargin\":true,\"gridcolor\":\"white\",\"linecolor\":\"white\",\"ticks\":\"\",\"title\":{\"standoff\":15},\"zerolinecolor\":\"white\",\"zerolinewidth\":2}}},\"xaxis\":{\"anchor\":\"y\",\"domain\":[0.0,1.0],\"title\":{\"text\":\"Size (sq.ft.)\"}},\"yaxis\":{\"anchor\":\"x\",\"domain\":[0.0,1.0],\"title\":{\"text\":\"Price (RM)\"}},\"legend\":{\"title\":{\"text\":\"Area\"},\"tracegroupgap\":0},\"margin\":{\"t\":60}},                        {\"responsive\": true}                    ).then(function(){\n",
              "                            \n",
              "var gd = document.getElementById('b8d0e430-1979-4257-b6b7-e8019d050895');\n",
              "var x = new MutationObserver(function (mutations, observer) {{\n",
              "        var display = window.getComputedStyle(gd).display;\n",
              "        if (!display || display === 'none') {{\n",
              "            console.log([gd, 'removed!']);\n",
              "            Plotly.purge(gd);\n",
              "            observer.disconnect();\n",
              "        }}\n",
              "}});\n",
              "\n",
              "// Listen for the removal of the full notebook cells\n",
              "var notebookContainer = gd.closest('#notebook-container');\n",
              "if (notebookContainer) {{\n",
              "    x.observe(notebookContainer, {childList: true});\n",
              "}}\n",
              "\n",
              "// Listen for the clearing of the current output cell\n",
              "var outputEl = gd.closest('.output');\n",
              "if (outputEl) {{\n",
              "    x.observe(outputEl, {childList: true});\n",
              "}}\n",
              "\n",
              "                        })                };                            </script>        </div>\n",
              "</body>\n",
              "</html>"
            ]
          },
          "metadata": {}
        }
      ],
      "source": [
        "fig = px.scatter(df, x='Size', y='Price', color='Area', \n",
        "                 hover_data=['Bedrooms','Bathrooms'], # add other columns to hover data\n",
        "                 labels={ # rename x and y labels\n",
        "                     \"Size\": \"Size (sq.ft.)\",\n",
        "                     \"Price\": \"Price (RM)\"\n",
        "                 })\n",
        "fig.show()"
      ]
    },
    {
      "cell_type": "markdown",
      "metadata": {
        "id": "rN1bUu8RVJJ7"
      },
      "source": [
        "#### Number of bedroom and bathroom in a properties <a name=\"violin\"></a>\n",
        "\n",
        "The violin plot below show the density of the number of bedroom and bathroom in the properties. The wider portion of violin indicates the higher density and narrow region represents relatively lower density."
      ]
    },
    {
      "cell_type": "code",
      "execution_count": null,
      "metadata": {
        "id": "kMrm6CiAVJJ8",
        "colab": {
          "base_uri": "https://localhost:8080/",
          "height": 342
        },
        "outputId": "2146826c-4fef-4283-a883-9e4fd055d145"
      },
      "outputs": [
        {
          "output_type": "display_data",
          "data": {
            "text/plain": [
              "<Figure size 648x360 with 1 Axes>"
            ],
            "image/png": "[encoded data removed]"
          },
          "metadata": {
            "needs_background": "light"
          }
        }
      ],
      "source": [
        "sns.violinplot(x = \"Bedrooms\", y = \"Bathrooms\", data=df)\n",
        "plt.show()"
      ]
    },
    {
      "cell_type": "markdown",
      "metadata": {
        "id": "tLNLw0EOVJJ8"
      },
      "source": [
        "####Correlation heatmap <a name=\"heatmap1\"></a>\n",
        "\n",
        "Correlation is a measure of the statistical relationship between two comparable\n",
        "variables or quantities(bivariate data). Correlation is positive when the values increase together, and is negative when one value decreases as the other\n",
        "increases."
      ]
    },
    {
      "cell_type": "code",
      "execution_count": null,
      "metadata": {
        "id": "61sgf555VJJ8",
        "colab": {
          "base_uri": "https://localhost:8080/",
          "height": 206
        },
        "outputId": "65484217-ec61-4243-98d4-1a9c6daedec8"
      },
      "outputs": [
        {
          "output_type": "execute_result",
          "data": {
            "text/plain": [
              "              Price      Size  Bedrooms  Bathrooms  Nor_Price\n",
              "Price      1.000000  0.731858  0.256533   0.447270   0.651852\n",
              "Size       0.731858  1.000000  0.569552   0.686311   0.668029\n",
              "Bedrooms   0.256533  0.569552  1.000000   0.623942   0.322180\n",
              "Bathrooms  0.447270  0.686311  0.623942   1.000000   0.548014\n",
              "Nor_Price  0.651852  0.668029  0.322180   0.548014   1.000000"
            ],
            "text/html": [
              "\n",
              "  <div id=\"df-a7839b57-5b74-478f-aaac-a812bdc5f81c\">\n",
              "    <div class=\"colab-df-container\">\n",
              "      <div>\n",
              "<style scoped>\n",
              "    .dataframe tbody tr th:only-of-type {\n",
              "        vertical-align: middle;\n",
              "    }\n",
              "\n",
              "    .dataframe tbody tr th {\n",
              "        vertical-align: top;\n",
              "    }\n",
              "\n",
              "    .dataframe thead th {\n",
              "        text-align: right;\n",
              "    }\n",
              "</style>\n",
              "<table border=\"1\" class=\"dataframe\">\n",
              "  <thead>\n",
              "    <tr style=\"text-align: right;\">\n",
              "      <th></th>\n",
              "      <th>Price</th>\n",
              "      <th>Size</th>\n",
              "      <th>Bedrooms</th>\n",
              "      <th>Bathrooms</th>\n",
              "      <th>Nor_Price</th>\n",
              "    </tr>\n",
              "  </thead>\n",
              "  <tbody>\n",
              "    <tr>\n",
              "      <th>Price</th>\n",
              "      <td>1.000000</td>\n",
              "      <td>0.731858</td>\n",
              "      <td>0.256533</td>\n",
              "      <td>0.447270</td>\n",
              "      <td>0.651852</td>\n",
              "    </tr>\n",
              "    <tr>\n",
              "      <th>Size</th>\n",
              "      <td>0.731858</td>\n",
              "      <td>1.000000</td>\n",
              "      <td>0.569552</td>\n",
              "      <td>0.686311</td>\n",
              "      <td>0.668029</td>\n",
              "    </tr>\n",
              "    <tr>\n",
              "      <th>Bedrooms</th>\n",
              "      <td>0.256533</td>\n",
              "      <td>0.569552</td>\n",
              "      <td>1.000000</td>\n",
              "      <td>0.623942</td>\n",
              "      <td>0.322180</td>\n",
              "    </tr>\n",
              "    <tr>\n",
              "      <th>Bathrooms</th>\n",
              "      <td>0.447270</td>\n",
              "      <td>0.686311</td>\n",
              "      <td>0.623942</td>\n",
              "      <td>1.000000</td>\n",
              "      <td>0.548014</td>\n",
              "    </tr>\n",
              "    <tr>\n",
              "      <th>Nor_Price</th>\n",
              "      <td>0.651852</td>\n",
              "      <td>0.668029</td>\n",
              "      <td>0.322180</td>\n",
              "      <td>0.548014</td>\n",
              "      <td>1.000000</td>\n",
              "    </tr>\n",
              "  </tbody>\n",
              "</table>\n",
              "</div>\n",
              "      <button class=\"colab-df-convert\" onclick=\"convertToInteractive('df-a7839b57-5b74-478f-aaac-a812bdc5f81c')\"\n",
              "              title=\"Convert this dataframe to an interactive table.\"\n",
              "              style=\"display:none;\">\n",
              "        \n",
              "  <svg xmlns=\"http://www.w3.org/2000/svg\" height=\"24px\"viewBox=\"0 0 24 24\"\n",
              "       width=\"24px\">\n",
              "    <path d=\"M0 0h24v24H0V0z\" fill=\"none\"/>\n",
              "    <path d=\"M18.56 5.44l.94 2.06.94-2.06 2.06-.94-2.06-.94-.94-2.06-.94 2.06-2.06.94zm-11 1L8.5 8.5l.94-2.06 2.06-.94-2.06-.94L8.5 2.5l-.94 2.06-2.06.94zm10 10l.94 2.06.94-2.06 2.06-.94-2.06-.94-.94-2.06-.94 2.06-2.06.94z\"/><path d=\"M17.41 7.96l-1.37-1.37c-.4-.4-.92-.59-1.43-.59-.52 0-1.04.2-1.43.59L10.3 9.45l-7.72 7.72c-.78.78-.78 2.05 0 2.83L4 21.41c.39.39.9.59 1.41.59.51 0 1.02-.2 1.41-.59l7.78-7.78 2.81-2.81c.8-.78.8-2.07 0-2.86zM5.41 20L4 18.59l7.72-7.72 1.47 1.35L5.41 20z\"/>\n",
              "  </svg>\n",
              "      </button>\n",
              "      \n",
              "  <style>\n",
              "    .colab-df-container {\n",
              "      display:flex;\n",
              "      flex-wrap:wrap;\n",
              "      gap: 12px;\n",
              "    }\n",
              "\n",
              "    .colab-df-convert {\n",
              "      background-color: #E8F0FE;\n",
              "      border: none;\n",
              "      border-radius: 50%;\n",
              "      cursor: pointer;\n",
              "      display: none;\n",
              "      fill: #1967D2;\n",
              "      height: 32px;\n",
              "      padding: 0 0 0 0;\n",
              "      width: 32px;\n",
              "    }\n",
              "\n",
              "    .colab-df-convert:hover {\n",
              "      background-color: #E2EBFA;\n",
              "      box-shadow: 0px 1px 2px rgba(60, 64, 67, 0.3), 0px 1px 3px 1px rgba(60, 64, 67, 0.15);\n",
              "      fill: #174EA6;\n",
              "    }\n",
              "\n",
              "    [theme=dark] .colab-df-convert {\n",
              "      background-color: #3B4455;\n",
              "      fill: #D2E3FC;\n",
              "    }\n",
              "\n",
              "    [theme=dark] .colab-df-convert:hover {\n",
              "      background-color: #434B5C;\n",
              "      box-shadow: 0px 1px 3px 1px rgba(0, 0, 0, 0.15);\n",
              "      filter: drop-shadow(0px 1px 2px rgba(0, 0, 0, 0.3));\n",
              "      fill: #FFFFFF;\n",
              "    }\n",
              "  </style>\n",
              "\n",
              "      <script>\n",
              "        const buttonEl =\n",
              "          document.querySelector('#df-a7839b57-5b74-478f-aaac-a812bdc5f81c button.colab-df-convert');\n",
              "        buttonEl.style.display =\n",
              "          google.colab.kernel.accessAllowed ? 'block' : 'none';\n",
              "\n",
              "        async function convertToInteractive(key) {\n",
              "          const element = document.querySelector('#df-a7839b57-5b74-478f-aaac-a812bdc5f81c');\n",
              "          const dataTable =\n",
              "            await google.colab.kernel.invokeFunction('convertToInteractive',\n",
              "                                                     [key], {});\n",
              "          if (!dataTable) return;\n",
              "\n",
              "          const docLinkHtml = 'Like what you see? Visit the ' +\n",
              "            '<a target=\"_blank\" href=https://colab.research.google.com/notebooks/data_table.ipynb>data table notebook</a>'\n",
              "            + ' to learn more about interactive tables.';\n",
              "          element.innerHTML = '';\n",
              "          dataTable['output_type'] = 'display_data';\n",
              "          await google.colab.output.renderOutput(dataTable, element);\n",
              "          const docLink = document.createElement('div');\n",
              "          docLink.innerHTML = docLinkHtml;\n",
              "          element.appendChild(docLink);\n",
              "        }\n",
              "      </script>\n",
              "    </div>\n",
              "  </div>\n",
              "  "
            ]
          },
          "metadata": {},
          "execution_count": 15
        }
      ],
      "source": [
        "# Compute pairwise correlation of columns\n",
        "corr_matrix = df.corr()\n",
        "corr_matrix.head()"
      ]
    },
    {
      "cell_type": "markdown",
      "source": [
        "The heatmap below plots the 2D correlation matrix between each pair of columns, with colors to represent the value."
      ],
      "metadata": {
        "id": "WBKdvOkZAp6C"
      }
    },
    {
      "cell_type": "code",
      "execution_count": null,
      "metadata": {
        "id": "fOQ9cTWiVJJ8",
        "colab": {
          "base_uri": "https://localhost:8080/",
          "height": 346
        },
        "outputId": "e94471cb-3aae-4da1-df11-f10731f075a6"
      },
      "outputs": [
        {
          "output_type": "execute_result",
          "data": {
            "text/plain": [
              "<matplotlib.axes._subplots.AxesSubplot at 0x7f7921906d90>"
            ]
          },
          "metadata": {},
          "execution_count": 16
        },
        {
          "output_type": "display_data",
          "data": {
            "text/plain": [
              "<Figure size 648x360 with 2 Axes>"
            ],
            "image/png": "[encoded data removed]"
          },
          "metadata": {
            "needs_background": "light"
          }
        }
      ],
      "source": [
        "sns.heatmap(corr_matrix, annot=True)"
      ]
    },
    {
      "cell_type": "markdown",
      "metadata": {
        "id": "nt_CVhi-VJJ8"
      },
      "source": [
        "#### Heatmap"
      ]
    },
    {
      "cell_type": "code",
      "execution_count": null,
      "metadata": {
        "id": "Zatc4Si_VJJ8",
        "colab": {
          "base_uri": "https://localhost:8080/",
          "height": 488
        },
        "outputId": "9108befa-dc55-44de-ad13-1ed7864cd26a"
      },
      "outputs": [
        {
          "output_type": "execute_result",
          "data": {
            "text/plain": [
              "                          mean       std       min       25%       50%  \\\n",
              "AMPANG                1.000000  1.000000  0.534689  0.751202  0.762143   \n",
              "BANDAR TASIK SELATAN  0.000000  0.000000  0.607910  0.096154  0.000000   \n",
              "BANGSAR SOUTH         0.434741  0.096609  0.779661  0.961538  0.717857   \n",
              "BUKIT BINTANG         0.844222  0.383992  1.000000  0.769231  1.000000   \n",
              "BUKITJALIL            0.414614  0.142932  0.779661  0.745192  0.682143   \n",
              "CHERAS                0.190866  0.039363  0.000000  0.480769  0.439286   \n",
              "DESA PETALING         0.052284  0.017972  0.468927  0.264423  0.110714   \n",
              "KEPONG                0.085405  0.081079  0.411130  0.024038  0.128571   \n",
              "KUCHAI LAMA           0.500480  0.258273  0.316384  0.831731  0.817857   \n",
              "PANDAN INDAH          0.012651  0.006486  0.468927  0.000000  0.128571   \n",
              "SENTUL                0.242343  0.061940  0.638418  0.504808  0.396429   \n",
              "SETIAWANGSA           0.456022  0.062667  0.807910  0.889423  0.825000   \n",
              "SRI DAMANSARA         0.163832  0.072113  0.440678  0.360577  0.253571   \n",
              "TAMAN MELAWATI        0.508209  0.088563  0.864407  1.000000  0.816071   \n",
              "\n",
              "                           75%       max  \n",
              "AMPANG                0.692041  1.000000  \n",
              "BANDAR TASIK SELATAN  0.000000  0.000205  \n",
              "BANGSAR SOUTH         0.627372  0.083556  \n",
              "BUKIT BINTANG         1.000000  0.228085  \n",
              "BUKITJALIL            0.648461  0.228085  \n",
              "CHERAS                0.342682  0.129542  \n",
              "DESA PETALING         0.121257  0.018682  \n",
              "KEPONG                0.184521  0.215767  \n",
              "KUCHAI LAMA           0.764445  0.343051  \n",
              "PANDAN INDAH          0.079081  0.000000  \n",
              "SENTUL                0.376951  0.115993  \n",
              "SETIAWANGSA           0.753901  0.039212  \n",
              "SRI DAMANSARA         0.205609  0.042861  \n",
              "TAMAN MELAWATI        0.714361  0.043318  "
            ],
            "text/html": [
              "\n",
              "  <div id=\"df-88ee9be2-b563-492f-8730-a353bd94ee9b\">\n",
              "    <div class=\"colab-df-container\">\n",
              "      <div>\n",
              "<style scoped>\n",
              "    .dataframe tbody tr th:only-of-type {\n",
              "        vertical-align: middle;\n",
              "    }\n",
              "\n",
              "    .dataframe tbody tr th {\n",
              "        vertical-align: top;\n",
              "    }\n",
              "\n",
              "    .dataframe thead th {\n",
              "        text-align: right;\n",
              "    }\n",
              "</style>\n",
              "<table border=\"1\" class=\"dataframe\">\n",
              "  <thead>\n",
              "    <tr style=\"text-align: right;\">\n",
              "      <th></th>\n",
              "      <th>mean</th>\n",
              "      <th>std</th>\n",
              "      <th>min</th>\n",
              "      <th>25%</th>\n",
              "      <th>50%</th>\n",
              "      <th>75%</th>\n",
              "      <th>max</th>\n",
              "    </tr>\n",
              "  </thead>\n",
              "  <tbody>\n",
              "    <tr>\n",
              "      <th>AMPANG</th>\n",
              "      <td>1.000000</td>\n",
              "      <td>1.000000</td>\n",
              "      <td>0.534689</td>\n",
              "      <td>0.751202</td>\n",
              "      <td>0.762143</td>\n",
              "      <td>0.692041</td>\n",
              "      <td>1.000000</td>\n",
              "    </tr>\n",
              "    <tr>\n",
              "      <th>BANDAR TASIK SELATAN</th>\n",
              "      <td>0.000000</td>\n",
              "      <td>0.000000</td>\n",
              "      <td>0.607910</td>\n",
              "      <td>0.096154</td>\n",
              "      <td>0.000000</td>\n",
              "      <td>0.000000</td>\n",
              "      <td>0.000205</td>\n",
              "    </tr>\n",
              "    <tr>\n",
              "      <th>BANGSAR SOUTH</th>\n",
              "      <td>0.434741</td>\n",
              "      <td>0.096609</td>\n",
              "      <td>0.779661</td>\n",
              "      <td>0.961538</td>\n",
              "      <td>0.717857</td>\n",
              "      <td>0.627372</td>\n",
              "      <td>0.083556</td>\n",
              "    </tr>\n",
              "    <tr>\n",
              "      <th>BUKIT BINTANG</th>\n",
              "      <td>0.844222</td>\n",
              "      <td>0.383992</td>\n",
              "      <td>1.000000</td>\n",
              "      <td>0.769231</td>\n",
              "      <td>1.000000</td>\n",
              "      <td>1.000000</td>\n",
              "      <td>0.228085</td>\n",
              "    </tr>\n",
              "    <tr>\n",
              "      <th>BUKITJALIL</th>\n",
              "      <td>0.414614</td>\n",
              "      <td>0.142932</td>\n",
              "      <td>0.779661</td>\n",
              "      <td>0.745192</td>\n",
              "      <td>0.682143</td>\n",
              "      <td>0.648461</td>\n",
              "      <td>0.228085</td>\n",
              "    </tr>\n",
              "    <tr>\n",
              "      <th>CHERAS</th>\n",
              "      <td>0.190866</td>\n",
              "      <td>0.039363</td>\n",
              "      <td>0.000000</td>\n",
              "      <td>0.480769</td>\n",
              "      <td>0.439286</td>\n",
              "      <td>0.342682</td>\n",
              "      <td>0.129542</td>\n",
              "    </tr>\n",
              "    <tr>\n",
              "      <th>DESA PETALING</th>\n",
              "      <td>0.052284</td>\n",
              "      <td>0.017972</td>\n",
              "      <td>0.468927</td>\n",
              "      <td>0.264423</td>\n",
              "      <td>0.110714</td>\n",
              "      <td>0.121257</td>\n",
              "      <td>0.018682</td>\n",
              "    </tr>\n",
              "    <tr>\n",
              "      <th>KEPONG</th>\n",
              "      <td>0.085405</td>\n",
              "      <td>0.081079</td>\n",
              "      <td>0.411130</td>\n",
              "      <td>0.024038</td>\n",
              "      <td>0.128571</td>\n",
              "      <td>0.184521</td>\n",
              "      <td>0.215767</td>\n",
              "    </tr>\n",
              "    <tr>\n",
              "      <th>KUCHAI LAMA</th>\n",
              "      <td>0.500480</td>\n",
              "      <td>0.258273</td>\n",
              "      <td>0.316384</td>\n",
              "      <td>0.831731</td>\n",
              "      <td>0.817857</td>\n",
              "      <td>0.764445</td>\n",
              "      <td>0.343051</td>\n",
              "    </tr>\n",
              "    <tr>\n",
              "      <th>PANDAN INDAH</th>\n",
              "      <td>0.012651</td>\n",
              "      <td>0.006486</td>\n",
              "      <td>0.468927</td>\n",
              "      <td>0.000000</td>\n",
              "      <td>0.128571</td>\n",
              "      <td>0.079081</td>\n",
              "      <td>0.000000</td>\n",
              "    </tr>\n",
              "    <tr>\n",
              "      <th>SENTUL</th>\n",
              "      <td>0.242343</td>\n",
              "      <td>0.061940</td>\n",
              "      <td>0.638418</td>\n",
              "      <td>0.504808</td>\n",
              "      <td>0.396429</td>\n",
              "      <td>0.376951</td>\n",
              "      <td>0.115993</td>\n",
              "    </tr>\n",
              "    <tr>\n",
              "      <th>SETIAWANGSA</th>\n",
              "      <td>0.456022</td>\n",
              "      <td>0.062667</td>\n",
              "      <td>0.807910</td>\n",
              "      <td>0.889423</td>\n",
              "      <td>0.825000</td>\n",
              "      <td>0.753901</td>\n",
              "      <td>0.039212</td>\n",
              "    </tr>\n",
              "    <tr>\n",
              "      <th>SRI DAMANSARA</th>\n",
              "      <td>0.163832</td>\n",
              "      <td>0.072113</td>\n",
              "      <td>0.440678</td>\n",
              "      <td>0.360577</td>\n",
              "      <td>0.253571</td>\n",
              "      <td>0.205609</td>\n",
              "      <td>0.042861</td>\n",
              "    </tr>\n",
              "    <tr>\n",
              "      <th>TAMAN MELAWATI</th>\n",
              "      <td>0.508209</td>\n",
              "      <td>0.088563</td>\n",
              "      <td>0.864407</td>\n",
              "      <td>1.000000</td>\n",
              "      <td>0.816071</td>\n",
              "      <td>0.714361</td>\n",
              "      <td>0.043318</td>\n",
              "    </tr>\n",
              "  </tbody>\n",
              "</table>\n",
              "</div>\n",
              "      <button class=\"colab-df-convert\" onclick=\"convertToInteractive('df-88ee9be2-b563-492f-8730-a353bd94ee9b')\"\n",
              "              title=\"Convert this dataframe to an interactive table.\"\n",
              "              style=\"display:none;\">\n",
              "        \n",
              "  <svg xmlns=\"http://www.w3.org/2000/svg\" height=\"24px\"viewBox=\"0 0 24 24\"\n",
              "       width=\"24px\">\n",
              "    <path d=\"M0 0h24v24H0V0z\" fill=\"none\"/>\n",
              "    <path d=\"M18.56 5.44l.94 2.06.94-2.06 2.06-.94-2.06-.94-.94-2.06-.94 2.06-2.06.94zm-11 1L8.5 8.5l.94-2.06 2.06-.94-2.06-.94L8.5 2.5l-.94 2.06-2.06.94zm10 10l.94 2.06.94-2.06 2.06-.94-2.06-.94-.94-2.06-.94 2.06-2.06.94z\"/><path d=\"M17.41 7.96l-1.37-1.37c-.4-.4-.92-.59-1.43-.59-.52 0-1.04.2-1.43.59L10.3 9.45l-7.72 7.72c-.78.78-.78 2.05 0 2.83L4 21.41c.39.39.9.59 1.41.59.51 0 1.02-.2 1.41-.59l7.78-7.78 2.81-2.81c.8-.78.8-2.07 0-2.86zM5.41 20L4 18.59l7.72-7.72 1.47 1.35L5.41 20z\"/>\n",
              "  </svg>\n",
              "      </button>\n",
              "      \n",
              "  <style>\n",
              "    .colab-df-container {\n",
              "      display:flex;\n",
              "      flex-wrap:wrap;\n",
              "      gap: 12px;\n",
              "    }\n",
              "\n",
              "    .colab-df-convert {\n",
              "      background-color: #E8F0FE;\n",
              "      border: none;\n",
              "      border-radius: 50%;\n",
              "      cursor: pointer;\n",
              "      display: none;\n",
              "      fill: #1967D2;\n",
              "      height: 32px;\n",
              "      padding: 0 0 0 0;\n",
              "      width: 32px;\n",
              "    }\n",
              "\n",
              "    .colab-df-convert:hover {\n",
              "      background-color: #E2EBFA;\n",
              "      box-shadow: 0px 1px 2px rgba(60, 64, 67, 0.3), 0px 1px 3px 1px rgba(60, 64, 67, 0.15);\n",
              "      fill: #174EA6;\n",
              "    }\n",
              "\n",
              "    [theme=dark] .colab-df-convert {\n",
              "      background-color: #3B4455;\n",
              "      fill: #D2E3FC;\n",
              "    }\n",
              "\n",
              "    [theme=dark] .colab-df-convert:hover {\n",
              "      background-color: #434B5C;\n",
              "      box-shadow: 0px 1px 3px 1px rgba(0, 0, 0, 0.15);\n",
              "      filter: drop-shadow(0px 1px 2px rgba(0, 0, 0, 0.3));\n",
              "      fill: #FFFFFF;\n",
              "    }\n",
              "  </style>\n",
              "\n",
              "      <script>\n",
              "        const buttonEl =\n",
              "          document.querySelector('#df-88ee9be2-b563-492f-8730-a353bd94ee9b button.colab-df-convert');\n",
              "        buttonEl.style.display =\n",
              "          google.colab.kernel.accessAllowed ? 'block' : 'none';\n",
              "\n",
              "        async function convertToInteractive(key) {\n",
              "          const element = document.querySelector('#df-88ee9be2-b563-492f-8730-a353bd94ee9b');\n",
              "          const dataTable =\n",
              "            await google.colab.kernel.invokeFunction('convertToInteractive',\n",
              "                                                     [key], {});\n",
              "          if (!dataTable) return;\n",
              "\n",
              "          const docLinkHtml = 'Like what you see? Visit the ' +\n",
              "            '<a target=\"_blank\" href=https://colab.research.google.com/notebooks/data_table.ipynb>data table notebook</a>'\n",
              "            + ' to learn more about interactive tables.';\n",
              "          element.innerHTML = '';\n",
              "          dataTable['output_type'] = 'display_data';\n",
              "          await google.colab.output.renderOutput(dataTable, element);\n",
              "          const docLink = document.createElement('div');\n",
              "          docLink.innerHTML = docLinkHtml;\n",
              "          element.appendChild(docLink);\n",
              "        }\n",
              "      </script>\n",
              "    </div>\n",
              "  </div>\n",
              "  "
            ]
          },
          "metadata": {},
          "execution_count": 17
        }
      ],
      "source": [
        "new_df = df.groupby(['Area'])['Price'].describe()\n",
        "new_df.set_index(new_df.columns[1])\n",
        "new_df.index.name = None\n",
        "new_df.drop(columns=['count'], inplace=True)\n",
        "new_df['mean'] = (new_df['mean'] - new_df['mean'].min())/(new_df['mean'].max() - new_df['mean'].min())\n",
        "new_df['std'] = (new_df['std'] - new_df['std'].min())/(new_df['std'].max() - new_df['std'].min())\n",
        "new_df['min'] = (new_df['min'] - new_df['min'].min())/(new_df['min'].max() - new_df['min'].min())\n",
        "new_df['25%'] = (new_df['25%'] - new_df['25%'].min())/(new_df['25%'].max() - new_df['25%'].min())\n",
        "new_df['50%'] = (new_df['50%'] - new_df['50%'].min())/(new_df['50%'].max() - new_df['50%'].min())\n",
        "new_df['75%'] = (new_df['75%'] - new_df['75%'].min())/(new_df['75%'].max() - new_df['75%'].min())\n",
        "new_df['max'] = (new_df['max'] - new_df['max'].min())/(new_df['max'].max() - new_df['max'].min())\n",
        "new_df"
      ]
    },
    {
      "cell_type": "code",
      "execution_count": null,
      "metadata": {
        "id": "RBYoxztOVJJ8",
        "colab": {
          "base_uri": "https://localhost:8080/",
          "height": 346
        },
        "outputId": "b32b097b-4f7f-45f0-ceda-13f237748558"
      },
      "outputs": [
        {
          "output_type": "execute_result",
          "data": {
            "text/plain": [
              "<matplotlib.axes._subplots.AxesSubplot at 0x7f791f052cd0>"
            ]
          },
          "metadata": {},
          "execution_count": 18
        },
        {
          "output_type": "display_data",
          "data": {
            "text/plain": [
              "<Figure size 648x360 with 2 Axes>"
            ],
            "image/png": "[encoded data removed]"
          },
          "metadata": {
            "needs_background": "light"
          }
        }
      ],
      "source": [
        "sns.heatmap(new_df, annot=True)"
      ]
    },
    {
      "cell_type": "markdown",
      "metadata": {
        "id": "E0U3IWm8VJJ9"
      },
      "source": [
        "## Asking and Answering Questions\n",
        "\n",
        "In this section, we ask 5 questions about the dataset and answer them using various Python libraries functions.\n",
        "\n"
      ]
    },
    {
      "cell_type": "markdown",
      "metadata": {
        "id": "7Lor5rHMVJJ9"
      },
      "source": [
        "#### **Q1:** What is the average price of properties in Kuala Lumpur and in each area?"
      ]
    },
    {
      "cell_type": "code",
      "source": [
        "# calculate the average price of all properties\n",
        "df['Price'].mean().round(2)"
      ],
      "metadata": {
        "id": "qnsjp-REWYi2",
        "colab": {
          "base_uri": "https://localhost:8080/"
        },
        "outputId": "04f857ba-ad31-4b65-9637-476a3d3b3ff7"
      },
      "execution_count": null,
      "outputs": [
        {
          "output_type": "execute_result",
          "data": {
            "text/plain": [
              "425260.68"
            ]
          },
          "metadata": {},
          "execution_count": 19
        }
      ]
    },
    {
      "cell_type": "code",
      "execution_count": null,
      "metadata": {
        "id": "D-PdOKqCVJJ9",
        "colab": {
          "base_uri": "https://localhost:8080/",
          "height": 520
        },
        "outputId": "508a7e86-a871-4ce2-8d60-3bbeedca762c"
      },
      "outputs": [
        {
          "output_type": "execute_result",
          "data": {
            "text/plain": [
              "                      Average_Price_RM\n",
              "Area                                  \n",
              "AMPANG                       826767.58\n",
              "BUKIT BINTANG                741131.02\n",
              "TAMAN MELAWATI               556412.88\n",
              "KUCHAI LAMA                  552164.10\n",
              "SETIAWANGSA                  527724.06\n",
              "BANGSAR SOUTH                516024.96\n",
              "BUKITJALIL                   504960.47\n",
              "SENTUL                       410256.82\n",
              "CHERAS                       381958.30\n",
              "SRI DAMANSARA                367096.68\n",
              "KEPONG                       323982.78\n",
              "DESA PETALING                305774.91\n",
              "PANDAN INDAH                 283987.24\n",
              "BANDAR TASIK SELATAN         277032.57"
            ],
            "text/html": [
              "\n",
              "  <div id=\"df-3e188afb-5a55-4a66-8a85-89bc0f5e06fe\">\n",
              "    <div class=\"colab-df-container\">\n",
              "      <div>\n",
              "<style scoped>\n",
              "    .dataframe tbody tr th:only-of-type {\n",
              "        vertical-align: middle;\n",
              "    }\n",
              "\n",
              "    .dataframe tbody tr th {\n",
              "        vertical-align: top;\n",
              "    }\n",
              "\n",
              "    .dataframe thead th {\n",
              "        text-align: right;\n",
              "    }\n",
              "</style>\n",
              "<table border=\"1\" class=\"dataframe\">\n",
              "  <thead>\n",
              "    <tr style=\"text-align: right;\">\n",
              "      <th></th>\n",
              "      <th>Average_Price_RM</th>\n",
              "    </tr>\n",
              "    <tr>\n",
              "      <th>Area</th>\n",
              "      <th></th>\n",
              "    </tr>\n",
              "  </thead>\n",
              "  <tbody>\n",
              "    <tr>\n",
              "      <th>AMPANG</th>\n",
              "      <td>826767.58</td>\n",
              "    </tr>\n",
              "    <tr>\n",
              "      <th>BUKIT BINTANG</th>\n",
              "      <td>741131.02</td>\n",
              "    </tr>\n",
              "    <tr>\n",
              "      <th>TAMAN MELAWATI</th>\n",
              "      <td>556412.88</td>\n",
              "    </tr>\n",
              "    <tr>\n",
              "      <th>KUCHAI LAMA</th>\n",
              "      <td>552164.10</td>\n",
              "    </tr>\n",
              "    <tr>\n",
              "      <th>SETIAWANGSA</th>\n",
              "      <td>527724.06</td>\n",
              "    </tr>\n",
              "    <tr>\n",
              "      <th>BANGSAR SOUTH</th>\n",
              "      <td>516024.96</td>\n",
              "    </tr>\n",
              "    <tr>\n",
              "      <th>BUKITJALIL</th>\n",
              "      <td>504960.47</td>\n",
              "    </tr>\n",
              "    <tr>\n",
              "      <th>SENTUL</th>\n",
              "      <td>410256.82</td>\n",
              "    </tr>\n",
              "    <tr>\n",
              "      <th>CHERAS</th>\n",
              "      <td>381958.30</td>\n",
              "    </tr>\n",
              "    <tr>\n",
              "      <th>SRI DAMANSARA</th>\n",
              "      <td>367096.68</td>\n",
              "    </tr>\n",
              "    <tr>\n",
              "      <th>KEPONG</th>\n",
              "      <td>323982.78</td>\n",
              "    </tr>\n",
              "    <tr>\n",
              "      <th>DESA PETALING</th>\n",
              "      <td>305774.91</td>\n",
              "    </tr>\n",
              "    <tr>\n",
              "      <th>PANDAN INDAH</th>\n",
              "      <td>283987.24</td>\n",
              "    </tr>\n",
              "    <tr>\n",
              "      <th>BANDAR TASIK SELATAN</th>\n",
              "      <td>277032.57</td>\n",
              "    </tr>\n",
              "  </tbody>\n",
              "</table>\n",
              "</div>\n",
              "      <button class=\"colab-df-convert\" onclick=\"convertToInteractive('df-3e188afb-5a55-4a66-8a85-89bc0f5e06fe')\"\n",
              "              title=\"Convert this dataframe to an interactive table.\"\n",
              "              style=\"display:none;\">\n",
              "        \n",
              "  <svg xmlns=\"http://www.w3.org/2000/svg\" height=\"24px\"viewBox=\"0 0 24 24\"\n",
              "       width=\"24px\">\n",
              "    <path d=\"M0 0h24v24H0V0z\" fill=\"none\"/>\n",
              "    <path d=\"M18.56 5.44l.94 2.06.94-2.06 2.06-.94-2.06-.94-.94-2.06-.94 2.06-2.06.94zm-11 1L8.5 8.5l.94-2.06 2.06-.94-2.06-.94L8.5 2.5l-.94 2.06-2.06.94zm10 10l.94 2.06.94-2.06 2.06-.94-2.06-.94-.94-2.06-.94 2.06-2.06.94z\"/><path d=\"M17.41 7.96l-1.37-1.37c-.4-.4-.92-.59-1.43-.59-.52 0-1.04.2-1.43.59L10.3 9.45l-7.72 7.72c-.78.78-.78 2.05 0 2.83L4 21.41c.39.39.9.59 1.41.59.51 0 1.02-.2 1.41-.59l7.78-7.78 2.81-2.81c.8-.78.8-2.07 0-2.86zM5.41 20L4 18.59l7.72-7.72 1.47 1.35L5.41 20z\"/>\n",
              "  </svg>\n",
              "      </button>\n",
              "      \n",
              "  <style>\n",
              "    .colab-df-container {\n",
              "      display:flex;\n",
              "      flex-wrap:wrap;\n",
              "      gap: 12px;\n",
              "    }\n",
              "\n",
              "    .colab-df-convert {\n",
              "      background-color: #E8F0FE;\n",
              "      border: none;\n",
              "      border-radius: 50%;\n",
              "      cursor: pointer;\n",
              "      display: none;\n",
              "      fill: #1967D2;\n",
              "      height: 32px;\n",
              "      padding: 0 0 0 0;\n",
              "      width: 32px;\n",
              "    }\n",
              "\n",
              "    .colab-df-convert:hover {\n",
              "      background-color: #E2EBFA;\n",
              "      box-shadow: 0px 1px 2px rgba(60, 64, 67, 0.3), 0px 1px 3px 1px rgba(60, 64, 67, 0.15);\n",
              "      fill: #174EA6;\n",
              "    }\n",
              "\n",
              "    [theme=dark] .colab-df-convert {\n",
              "      background-color: #3B4455;\n",
              "      fill: #D2E3FC;\n",
              "    }\n",
              "\n",
              "    [theme=dark] .colab-df-convert:hover {\n",
              "      background-color: #434B5C;\n",
              "      box-shadow: 0px 1px 3px 1px rgba(0, 0, 0, 0.15);\n",
              "      filter: drop-shadow(0px 1px 2px rgba(0, 0, 0, 0.3));\n",
              "      fill: #FFFFFF;\n",
              "    }\n",
              "  </style>\n",
              "\n",
              "      <script>\n",
              "        const buttonEl =\n",
              "          document.querySelector('#df-3e188afb-5a55-4a66-8a85-89bc0f5e06fe button.colab-df-convert');\n",
              "        buttonEl.style.display =\n",
              "          google.colab.kernel.accessAllowed ? 'block' : 'none';\n",
              "\n",
              "        async function convertToInteractive(key) {\n",
              "          const element = document.querySelector('#df-3e188afb-5a55-4a66-8a85-89bc0f5e06fe');\n",
              "          const dataTable =\n",
              "            await google.colab.kernel.invokeFunction('convertToInteractive',\n",
              "                                                     [key], {});\n",
              "          if (!dataTable) return;\n",
              "\n",
              "          const docLinkHtml = 'Like what you see? Visit the ' +\n",
              "            '<a target=\"_blank\" href=https://colab.research.google.com/notebooks/data_table.ipynb>data table notebook</a>'\n",
              "            + ' to learn more about interactive tables.';\n",
              "          element.innerHTML = '';\n",
              "          dataTable['output_type'] = 'display_data';\n",
              "          await google.colab.output.renderOutput(dataTable, element);\n",
              "          const docLink = document.createElement('div');\n",
              "          docLink.innerHTML = docLinkHtml;\n",
              "          element.appendChild(docLink);\n",
              "        }\n",
              "      </script>\n",
              "    </div>\n",
              "  </div>\n",
              "  "
            ]
          },
          "metadata": {},
          "execution_count": 20
        }
      ],
      "source": [
        "# group the data by Area\n",
        "# compute mean price for each area and rename the column to \"Average_Price_RM\"\n",
        "# round mean price to 2 decimal places and sort the values in descending order\n",
        "df.groupby(['Area']).agg(Average_Price_RM=('Price', 'mean')).round(2).sort_values(by=['Average_Price_RM'], ascending=False)"
      ]
    },
    {
      "cell_type": "markdown",
      "source": [
        "The average price of properties in Kuala Lumpur is ```RM 425260.68```. Ampang is the area with the highest average property price at ```RM 826767.58``` whereas Bandar Tasik Selatan has the lowest average property price of ```RM 277032.57``` among Kuala Lumpur areas."
      ],
      "metadata": {
        "id": "H_7TxTNIWZul"
      }
    },
    {
      "cell_type": "markdown",
      "metadata": {
        "id": "c_REVnrhVJJ-"
      },
      "source": [
        "#### **Q2:** What are the most common numbers of bedrooms and bathrooms in these properties?"
      ]
    },
    {
      "cell_type": "code",
      "execution_count": null,
      "metadata": {
        "id": "ShA3QyQpVJJ-",
        "colab": {
          "base_uri": "https://localhost:8080/"
        },
        "outputId": "e3772125-8b31-4f20-f794-dd36ed250b6b"
      },
      "outputs": [
        {
          "output_type": "execute_result",
          "data": {
            "text/plain": [
              "Bedrooms  Bathrooms\n",
              "3         2            5262\n",
              "2         2             458\n",
              "4         2             397\n",
              "2         1             342\n",
              "4         3             263\n",
              "1         1             260\n",
              "3         1             251\n",
              "          3             229\n",
              "4         4              97\n",
              "          5              43\n",
              "5         3              42\n",
              "1         2              26\n",
              "2         3              22\n",
              "5         4              21\n",
              "3         4              16\n",
              "5         2              15\n",
              "          5              14\n",
              "6         4               4\n",
              "          5               4\n",
              "5         6               3\n",
              "6         6               3\n",
              "          7               3\n",
              "8         10              1\n",
              "9         2               1\n",
              "4         1               1\n",
              "7         5               1\n",
              "10        2               1\n",
              "dtype: int64"
            ]
          },
          "metadata": {},
          "execution_count": 21
        }
      ],
      "source": [
        "# groupby() splits the data into groups and size() return the number of elements in each groups\n",
        "df.groupby(['Bedrooms','Bathrooms']).size().sort_values(ascending=False)"
      ]
    },
    {
      "cell_type": "markdown",
      "source": [
        "3 bedrooms and 2 bathrooms properties are the most common with a count of 5262 out of 7780. Properties with more than 5 bedrooms or bathrooms are rare in Kuala Lumpur. This can also be seen in the [violin plot](#violin) generated above."
      ],
      "metadata": {
        "id": "MpKu1FTs4q9U"
      }
    },
    {
      "cell_type": "markdown",
      "metadata": {
        "id": "ya3o0SurVJJ-"
      },
      "source": [
        "#### **Q3:** What is the relationship between size and price of the properties?"
      ]
    },
    {
      "cell_type": "code",
      "execution_count": null,
      "metadata": {
        "id": "CaF9SiPeVJJ-",
        "colab": {
          "base_uri": "https://localhost:8080/"
        },
        "outputId": "cdf13de2-70f5-4012-9c06-316d4d3d9701"
      },
      "outputs": [
        {
          "output_type": "execute_result",
          "data": {
            "text/plain": [
              "0.7318581206873379"
            ]
          },
          "metadata": {},
          "execution_count": 22
        }
      ],
      "source": [
        "# import scipy to calculate correlation\n",
        "import scipy.stats\n",
        "\n",
        "# pearsonr() return the correlation coefficient and the p-value\n",
        "# use index [0] to extract the correlation coefficient from the result\n",
        "scipy.stats.pearsonr(df['Size'], df['Price'])[0]"
      ]
    },
    {
      "cell_type": "markdown",
      "source": [
        "By using Pearson correlation, it is found that the properties size and price have a correlation coefficient of ```0.7318581206873379```, indicating a moderate positive linear correlation. It means that the price increases as the size increases. The correlation coefficients are also shown in the [correlation heatmap](#heatmap1) above."
      ],
      "metadata": {
        "id": "JNLmg5iS5Z0S"
      }
    },
    {
      "cell_type": "code",
      "execution_count": null,
      "metadata": {
        "id": "bGV1nEzqVJJ-",
        "colab": {
          "base_uri": "https://localhost:8080/",
          "height": 348
        },
        "outputId": "f57e6ba2-a8fc-44ec-be03-0451f596e358"
      },
      "outputs": [
        {
          "output_type": "display_data",
          "data": {
            "text/plain": [
              "<Figure size 648x360 with 1 Axes>"
            ],
            "image/png": "[encoded data removed]"
          },
          "metadata": {}
        }
      ],
      "source": [
        "x, y = df['Size'], df['Price']\n",
        "\n",
        "# get the slope and the intercept of the regression line, as well as the correlation coefficient\n",
        "slope, intercept, r, p, stderr = scipy.stats.linregress(x,y)\n",
        "\n",
        "# get the string with the equation of the regression line and the value of the correlation coefficient\n",
        "line = f'Regression line: y={intercept:.2f}+{slope:.2f}x, r={r:.2f}'\n",
        "\n",
        "# create the x-y plot with .plot()\n",
        "plt.style.use('ggplot')\n",
        "fig, ax = plt.subplots()\n",
        "ax.plot(x, y, linewidth=0, marker='s', label='Data points')\n",
        "ax.plot(x, intercept + slope * x, label=line)\n",
        "ax.set_xlabel('Size (sq.ft.)')\n",
        "ax.set_ylabel('Price (RM)')\n",
        "ax.legend(facecolor='white')\n",
        "plt.show()"
      ]
    },
    {
      "cell_type": "markdown",
      "source": [
        "The graph above plots the linear regression model between the size and the price of properties in Kuala Lumpur."
      ],
      "metadata": {
        "id": "u1geqQsx8oCR"
      }
    },
    {
      "cell_type": "markdown",
      "metadata": {
        "id": "p4CcVO1TVJJ-"
      },
      "source": [
        "#### **Q4:** What is the highest price in each area and which area has the highest price?"
      ]
    },
    {
      "cell_type": "code",
      "execution_count": null,
      "metadata": {
        "id": "Wa96BGX1VJJ-",
        "colab": {
          "base_uri": "https://localhost:8080/"
        },
        "outputId": "d4dca19b-825c-476d-c507-6e62f0d42691"
      },
      "outputs": [
        {
          "output_type": "execute_result",
          "data": {
            "text/plain": [
              "Area\n",
              "AMPANG                  25000000\n",
              "KUCHAI LAMA              9000000\n",
              "BUKIT BINTANG            6200000\n",
              "BUKITJALIL               6200000\n",
              "KEPONG                   5900000\n",
              "CHERAS                   3800000\n",
              "SENTUL                   3470000\n",
              "BANGSAR SOUTH            2680000\n",
              "TAMAN MELAWATI           1700000\n",
              "SRI DAMANSARA            1688888\n",
              "SETIAWANGSA              1600000\n",
              "DESA PETALING            1100000\n",
              "BANDAR TASIK SELATAN      650000\n",
              "PANDAN INDAH              645000\n",
              "Name: Price, dtype: int64"
            ]
          },
          "metadata": {},
          "execution_count": 24
        }
      ],
      "source": [
        "df.groupby(['Area'])['Price'].max().sort_values(ascending=False)"
      ]
    },
    {
      "cell_type": "markdown",
      "source": [
        "AMPANG has the highest pricing amongs those area"
      ],
      "metadata": {
        "id": "Q7cKQUBOznIx"
      }
    },
    {
      "cell_type": "markdown",
      "metadata": {
        "id": "uFuZBqX1VJJ_"
      },
      "source": [
        "#### **Q5:** Which one, number of bedroom or bathroom, have more impact on the pricing of properties?"
      ]
    },
    {
      "cell_type": "code",
      "execution_count": null,
      "metadata": {
        "id": "0XCOkgIHVJJ_",
        "colab": {
          "base_uri": "https://localhost:8080/"
        },
        "outputId": "bd44d42a-4bb1-4752-be0d-89b0aea11737"
      },
      "outputs": [
        {
          "output_type": "execute_result",
          "data": {
            "text/plain": [
              "0.2565330367747114"
            ]
          },
          "metadata": {},
          "execution_count": 25
        }
      ],
      "source": [
        "scipy.stats.pearsonr(df['Bedrooms'], df['Price'])[0]"
      ]
    },
    {
      "cell_type": "code",
      "execution_count": null,
      "metadata": {
        "id": "xZWIg8jJVJJ_",
        "colab": {
          "base_uri": "https://localhost:8080/"
        },
        "outputId": "77f730ff-8ab5-4fa1-e85d-dc1b79b58b44"
      },
      "outputs": [
        {
          "output_type": "execute_result",
          "data": {
            "text/plain": [
              "0.4472701832419492"
            ]
          },
          "metadata": {},
          "execution_count": 26
        }
      ],
      "source": [
        "scipy.stats.pearsonr(df['Bathrooms'], df['Price'])[0]"
      ]
    },
    {
      "cell_type": "markdown",
      "source": [
        "By using Pearson correlation, it is found that the number of bedroom and price have a correlation coefficient of ```0.2565330367747114```, while on the bathroom and price is ```0.4472701832419492```. Hence we can say the bathroom have more impact on the pricing of properties."
      ],
      "metadata": {
        "id": "LYwzadxR1CTD"
      }
    },
    {
      "cell_type": "markdown",
      "metadata": {
        "id": "VxoO755tVJJ_"
      },
      "source": [
        "<hr>\n",
        "\n",
        "## Inferences and Conclusion\n",
        "\n",
        "To sum up everything that we stated so far, we have find several conclusion :   \n",
        "\n",
        "- Area __AMPANG__ has the highest average pricing while __Bandar Tasik Selatan__ has the lowest average pricing of properties in Kuala Lumpur\n",
        "- Properties having __3 bedrooms and 2 bathrooms are the most common__ in Kuala Lumpur\n",
        "- The properties size and price have a correlation coefficient of ```0.7318581206873379```. The larger the size, the higher the price of properties\n",
        "- Area __AMPANG__ has the highest property price among those area\n",
        "- Correlation coefficient of number of bedroom and price is ```0.2565330367747114``` and for the correlation coefficient of number of bedroom and price is ```0.4472701832419492```. Both have weak correlation but number of bathroom have more impact on the pricing.\n"
      ]
    },
    {
      "cell_type": "markdown",
      "metadata": {
        "id": "xfuc6sJgVJKA"
      },
      "source": [
        "<hr>\n",
        "\n",
        "## References and Future Work\n",
        "\n",
        "In this project, we have learnt how to visualize data starting from cleaning the data. This really help on reporting and analysis for further prediction and decision.\n",
        "\n",
        "Some ideas for future work are:\n",
        "1. Comparison between different property types in Kuala Lumpur\n",
        "2. Prediction of properties pricing in Kuala Lumpur\n",
        "\n",
        "__Reference__:    <br />\n",
        "[A Complete Guide to Data Visualization in Python With Libraries, Chart, Graphs & More](https://www.simplilearn.com/tutorials/python-tutorial/data-visualization-in-python)"
      ]
    }
  ],
  "metadata": {
    "kernelspec": {
      "display_name": "Python 3",
      "language": "python",
      "name": "python3"
    },
    "language_info": {
      "codemirror_mode": {
        "name": "ipython",
        "version": 3
      },
      "file_extension": ".py",
      "mimetype": "text/x-python",
      "name": "python",
      "nbconvert_exporter": "python",
      "pygments_lexer": "ipython3",
      "version": "3.8.5"
    },
    "colab": {
      "provenance": [],
      "include_colab_link": true
    }
  },
  "nbformat": 4,
  "nbformat_minor": 0
}