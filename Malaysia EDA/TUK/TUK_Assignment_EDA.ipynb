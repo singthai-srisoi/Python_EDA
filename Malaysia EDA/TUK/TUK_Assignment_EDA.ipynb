{
  "cells": [
    {
      "cell_type": "markdown",
      "metadata": {
        "id": "view-in-github",
        "colab_type": "text"
      },
      "source": [
        "<a href=\"https://colab.research.google.com/github/drshahizan/Python_EDA/blob/main/Malaysia%20EDA/TUK/TUK_Assignment_EDA.ipynb\" target=\"_parent\"><img src=\"https://colab.research.google.com/assets/colab-badge.svg\" alt=\"Open In Colab\"/></a>"
      ]
    },
    {
      "cell_type": "markdown",
      "metadata": {
        "id": "7F8DQl5dVJJ0"
      },
      "source": [
        "# Number of Government School Pupils by District Education Office and State 2017-2018 \n",
        "\n",
        "Group Members:\n",
        "1. Amirah Raihanah Binti Abdul Rahim (A20EC0182)\n",
        "2. Myza Nazifa Binti Nazry (A20EC0219)\n",
        "\n",
        "For this assignment, we have decided to use the dataset, *Number of Government School Pupils by District Education Office and State 2017-2018* retrieved from Department of Statistics, Malaysia which provides the information regarding the government school in Malaysia such as the type of school, the school stage and the state, the district education office, year, sex and number of pupils. To analyse this dataset, we will be using the Python language with the help of libraries such as Pandas, Numpy, Seaborn and Matplotlib.\n",
        "\n",
        "\n",
        "\n",
        "\n",
        "---\n",
        "\n",
        "Attribute Information:\n",
        "\n",
        "| Attribute | Description |\n",
        "| --- | --- |\n",
        "| **School stage** |    School educational level |\n",
        "|**State** |   The state the school is located at |\n",
        "| **District Education Office** | Location of the District Education Office |\n",
        "| **Year** |  Year of education |\n",
        "| **School type** |  Type of school |\n",
        "| **Sex** |    Student gender |\n",
        "| **Number of pupils** |   The number of students |\n",
        "\n",
        "\n"
      ]
    },
    {
      "cell_type": "markdown",
      "metadata": {
        "id": "LxWzVndBVJJ1"
      },
      "source": [
        "## Downloading the Dataset\n",
        "\n",
        "Before starting the project, we had to find a suitable dataset which satisfies the criteria of containing at least 5 columns and 1500 rows of data.\n",
        "\n",
        "1. For this project, download the dataset from the link [Dataset: Number of government primary and secondary school by District Education Office, and state, 2017 - 2018](https://www.dosm.gov.my/v1/index.php?r=column3/accordion&menu_id=amZNeW9vTXRydTFwTXAxSmdDL1J4dz09)\n",
        "\n",
        "2. As the downloaded dataset is in .xlsx format, convert the dataset into .csv file.\n",
        "\n",
        "3. Upload the dataset into Github repository. The dataset can be opened in this [link](https://github.com/drshahizan/Python_EDA/blob/main/Malaysia%20EDA/TUK/Number_of_government_school_pupils_by_District_Education_Office_and_State_2017-2018.csv)."
      ]
    },
    {
      "cell_type": "markdown",
      "metadata": {
        "id": "u0vucnGFVJJ5"
      },
      "source": [
        "## Data Preparation and Cleaning\n",
        "\n",
        "Data preparation is the process of preparing raw data so that it is suitable for further processing and analysis while data cleaning is the process of fixing or removing incorrect, corrupted, incorrectly formatted, duplicate, or incomplete data within a dataset. Data preparation and cleaning is a critical and important step as having clean data will ultimately increase overall productivity and allow for the highest quality information in decision-making.\n",
        "\n"
      ]
    },
    {
      "cell_type": "markdown",
      "metadata": {
        "id": "X0KZyxGKJpYm"
      },
      "source": [
        "First, import the library. For this assignment, we will be using Pandas and Numpy."
      ]
    },
    {
      "cell_type": "code",
      "execution_count": null,
      "metadata": {
        "id": "df5R-2s3VJJ5"
      },
      "outputs": [],
      "source": [
        "import pandas as pd\n",
        "import numpy as np"
      ]
    },
    {
      "cell_type": "markdown",
      "metadata": {
        "id": "aEkSS69zKyYq"
      },
      "source": [
        "Then, read the CSV file."
      ]
    },
    {
      "cell_type": "code",
      "execution_count": null,
      "metadata": {
        "id": "t26lvNVLVJJ5"
      },
      "outputs": [],
      "source": [
        "df = pd.read_csv('https://raw.githubusercontent.com/drshahizan/Python_EDA/main/Malaysia%20EDA/TUK/Number_of_government_school_pupils_by_District_Education_Office_and_State_2017-2018.csv')"
      ]
    },
    {
      "cell_type": "markdown",
      "metadata": {
        "id": "shlnuYWjLHsJ"
      },
      "source": [
        "We will use head() to show the first five data of the Dataframe for this dataset."
      ]
    },
    {
      "cell_type": "code",
      "execution_count": null,
      "metadata": {
        "colab": {
          "base_uri": "https://localhost:8080/",
          "height": 206
        },
        "id": "KribcC_XVJJ5",
        "outputId": "b24cfcac-283a-4a41-b519-e9ab5e3be0ff"
      },
      "outputs": [
        {
          "data": {
            "text/html": [
              "\n",
              "  <div id=\"df-dffbe5a5-de3b-4c53-9bb5-233eb3e62ce6\">\n",
              "    <div class=\"colab-df-container\">\n",
              "      <div>\n",
              "<style scoped>\n",
              "    .dataframe tbody tr th:only-of-type {\n",
              "        vertical-align: middle;\n",
              "    }\n",
              "\n",
              "    .dataframe tbody tr th {\n",
              "        vertical-align: top;\n",
              "    }\n",
              "\n",
              "    .dataframe thead th {\n",
              "        text-align: right;\n",
              "    }\n",
              "</style>\n",
              "<table border=\"1\" class=\"dataframe\">\n",
              "  <thead>\n",
              "    <tr style=\"text-align: right;\">\n",
              "      <th></th>\n",
              "      <th>School stage</th>\n",
              "      <th>State</th>\n",
              "      <th>District Education Office</th>\n",
              "      <th>Year</th>\n",
              "      <th>School type</th>\n",
              "      <th>Sex</th>\n",
              "      <th>Number of pupils</th>\n",
              "    </tr>\n",
              "  </thead>\n",
              "  <tbody>\n",
              "    <tr>\n",
              "      <th>0</th>\n",
              "      <td>Secondary school</td>\n",
              "      <td>Kedah</td>\n",
              "      <td>Baling</td>\n",
              "      <td>2017</td>\n",
              "      <td>Academic</td>\n",
              "      <td>Male</td>\n",
              "      <td>8184.0</td>\n",
              "    </tr>\n",
              "    <tr>\n",
              "      <th>1</th>\n",
              "      <td>Secondary school</td>\n",
              "      <td>Kedah</td>\n",
              "      <td>Baling</td>\n",
              "      <td>2017</td>\n",
              "      <td>Academic</td>\n",
              "      <td>Female</td>\n",
              "      <td>9433.0</td>\n",
              "    </tr>\n",
              "    <tr>\n",
              "      <th>2</th>\n",
              "      <td>Secondary school</td>\n",
              "      <td>Kedah</td>\n",
              "      <td>Baling</td>\n",
              "      <td>2017</td>\n",
              "      <td>Vocational College</td>\n",
              "      <td>Male</td>\n",
              "      <td>NaN</td>\n",
              "    </tr>\n",
              "    <tr>\n",
              "      <th>3</th>\n",
              "      <td>Secondary school</td>\n",
              "      <td>Kedah</td>\n",
              "      <td>Baling</td>\n",
              "      <td>2017</td>\n",
              "      <td>Vocational College</td>\n",
              "      <td>Female</td>\n",
              "      <td>NaN</td>\n",
              "    </tr>\n",
              "    <tr>\n",
              "      <th>4</th>\n",
              "      <td>Secondary school</td>\n",
              "      <td>Kedah</td>\n",
              "      <td>Baling</td>\n",
              "      <td>2018</td>\n",
              "      <td>Academic</td>\n",
              "      <td>Male</td>\n",
              "      <td>5461.0</td>\n",
              "    </tr>\n",
              "  </tbody>\n",
              "</table>\n",
              "</div>\n",
              "      <button class=\"colab-df-convert\" onclick=\"convertToInteractive('df-dffbe5a5-de3b-4c53-9bb5-233eb3e62ce6')\"\n",
              "              title=\"Convert this dataframe to an interactive table.\"\n",
              "              style=\"display:none;\">\n",
              "        \n",
              "  <svg xmlns=\"http://www.w3.org/2000/svg\" height=\"24px\"viewBox=\"0 0 24 24\"\n",
              "       width=\"24px\">\n",
              "    <path d=\"M0 0h24v24H0V0z\" fill=\"none\"/>\n",
              "    <path d=\"M18.56 5.44l.94 2.06.94-2.06 2.06-.94-2.06-.94-.94-2.06-.94 2.06-2.06.94zm-11 1L8.5 8.5l.94-2.06 2.06-.94-2.06-.94L8.5 2.5l-.94 2.06-2.06.94zm10 10l.94 2.06.94-2.06 2.06-.94-2.06-.94-.94-2.06-.94 2.06-2.06.94z\"/><path d=\"M17.41 7.96l-1.37-1.37c-.4-.4-.92-.59-1.43-.59-.52 0-1.04.2-1.43.59L10.3 9.45l-7.72 7.72c-.78.78-.78 2.05 0 2.83L4 21.41c.39.39.9.59 1.41.59.51 0 1.02-.2 1.41-.59l7.78-7.78 2.81-2.81c.8-.78.8-2.07 0-2.86zM5.41 20L4 18.59l7.72-7.72 1.47 1.35L5.41 20z\"/>\n",
              "  </svg>\n",
              "      </button>\n",
              "      \n",
              "  <style>\n",
              "    .colab-df-container {\n",
              "      display:flex;\n",
              "      flex-wrap:wrap;\n",
              "      gap: 12px;\n",
              "    }\n",
              "\n",
              "    .colab-df-convert {\n",
              "      background-color: #E8F0FE;\n",
              "      border: none;\n",
              "      border-radius: 50%;\n",
              "      cursor: pointer;\n",
              "      display: none;\n",
              "      fill: #1967D2;\n",
              "      height: 32px;\n",
              "      padding: 0 0 0 0;\n",
              "      width: 32px;\n",
              "    }\n",
              "\n",
              "    .colab-df-convert:hover {\n",
              "      background-color: #E2EBFA;\n",
              "      box-shadow: 0px 1px 2px rgba(60, 64, 67, 0.3), 0px 1px 3px 1px rgba(60, 64, 67, 0.15);\n",
              "      fill: #174EA6;\n",
              "    }\n",
              "\n",
              "    [theme=dark] .colab-df-convert {\n",
              "      background-color: #3B4455;\n",
              "      fill: #D2E3FC;\n",
              "    }\n",
              "\n",
              "    [theme=dark] .colab-df-convert:hover {\n",
              "      background-color: #434B5C;\n",
              "      box-shadow: 0px 1px 3px 1px rgba(0, 0, 0, 0.15);\n",
              "      filter: drop-shadow(0px 1px 2px rgba(0, 0, 0, 0.3));\n",
              "      fill: #FFFFFF;\n",
              "    }\n",
              "  </style>\n",
              "\n",
              "      <script>\n",
              "        const buttonEl =\n",
              "          document.querySelector('#df-dffbe5a5-de3b-4c53-9bb5-233eb3e62ce6 button.colab-df-convert');\n",
              "        buttonEl.style.display =\n",
              "          google.colab.kernel.accessAllowed ? 'block' : 'none';\n",
              "\n",
              "        async function convertToInteractive(key) {\n",
              "          const element = document.querySelector('#df-dffbe5a5-de3b-4c53-9bb5-233eb3e62ce6');\n",
              "          const dataTable =\n",
              "            await google.colab.kernel.invokeFunction('convertToInteractive',\n",
              "                                                     [key], {});\n",
              "          if (!dataTable) return;\n",
              "\n",
              "          const docLinkHtml = 'Like what you see? Visit the ' +\n",
              "            '<a target=\"_blank\" href=https://colab.research.google.com/notebooks/data_table.ipynb>data table notebook</a>'\n",
              "            + ' to learn more about interactive tables.';\n",
              "          element.innerHTML = '';\n",
              "          dataTable['output_type'] = 'display_data';\n",
              "          await google.colab.output.renderOutput(dataTable, element);\n",
              "          const docLink = document.createElement('div');\n",
              "          docLink.innerHTML = docLinkHtml;\n",
              "          element.appendChild(docLink);\n",
              "        }\n",
              "      </script>\n",
              "    </div>\n",
              "  </div>\n",
              "  "
            ],
            "text/plain": [
              "       School stage  State District Education Office  Year  \\\n",
              "0  Secondary school  Kedah                    Baling  2017   \n",
              "1  Secondary school  Kedah                    Baling  2017   \n",
              "2  Secondary school  Kedah                    Baling  2017   \n",
              "3  Secondary school  Kedah                    Baling  2017   \n",
              "4  Secondary school  Kedah                    Baling  2018   \n",
              "\n",
              "          School type     Sex  Number of pupils  \n",
              "0            Academic    Male            8184.0  \n",
              "1            Academic  Female            9433.0  \n",
              "2  Vocational College    Male               NaN  \n",
              "3  Vocational College  Female               NaN  \n",
              "4            Academic    Male            5461.0  "
            ]
          },
          "execution_count": 4,
          "metadata": {},
          "output_type": "execute_result"
        }
      ],
      "source": [
        "df.head()"
      ]
    },
    {
      "cell_type": "markdown",
      "metadata": {
        "id": "Be5oAUm8PYJJ"
      },
      "source": [
        "To show the last five data of the Dataframe, we will be using .tail()."
      ]
    },
    {
      "cell_type": "code",
      "execution_count": null,
      "metadata": {
        "colab": {
          "base_uri": "https://localhost:8080/",
          "height": 206
        },
        "id": "p5Ldudo2Phax",
        "outputId": "b33185cd-33be-4303-a6dd-e3134bf658c6"
      },
      "outputs": [
        {
          "data": {
            "text/html": [
              "\n",
              "  <div id=\"df-dc1ddb0e-3943-4155-b78c-0eecce492bb0\">\n",
              "    <div class=\"colab-df-container\">\n",
              "      <div>\n",
              "<style scoped>\n",
              "    .dataframe tbody tr th:only-of-type {\n",
              "        vertical-align: middle;\n",
              "    }\n",
              "\n",
              "    .dataframe tbody tr th {\n",
              "        vertical-align: top;\n",
              "    }\n",
              "\n",
              "    .dataframe thead th {\n",
              "        text-align: right;\n",
              "    }\n",
              "</style>\n",
              "<table border=\"1\" class=\"dataframe\">\n",
              "  <thead>\n",
              "    <tr style=\"text-align: right;\">\n",
              "      <th></th>\n",
              "      <th>School stage</th>\n",
              "      <th>State</th>\n",
              "      <th>District Education Office</th>\n",
              "      <th>Year</th>\n",
              "      <th>School type</th>\n",
              "      <th>Sex</th>\n",
              "      <th>Number of pupils</th>\n",
              "    </tr>\n",
              "  </thead>\n",
              "  <tbody>\n",
              "    <tr>\n",
              "      <th>1735</th>\n",
              "      <td>Primary school</td>\n",
              "      <td>Terengganu</td>\n",
              "      <td>Marang</td>\n",
              "      <td>2018</td>\n",
              "      <td>NaN</td>\n",
              "      <td>Female</td>\n",
              "      <td>5692.0</td>\n",
              "    </tr>\n",
              "    <tr>\n",
              "      <th>1736</th>\n",
              "      <td>Primary school</td>\n",
              "      <td>Terengganu</td>\n",
              "      <td>Setiu</td>\n",
              "      <td>2017</td>\n",
              "      <td>NaN</td>\n",
              "      <td>Male</td>\n",
              "      <td>3986.0</td>\n",
              "    </tr>\n",
              "    <tr>\n",
              "      <th>1737</th>\n",
              "      <td>Primary school</td>\n",
              "      <td>Terengganu</td>\n",
              "      <td>Setiu</td>\n",
              "      <td>2017</td>\n",
              "      <td>NaN</td>\n",
              "      <td>Female</td>\n",
              "      <td>3751.0</td>\n",
              "    </tr>\n",
              "    <tr>\n",
              "      <th>1738</th>\n",
              "      <td>Primary school</td>\n",
              "      <td>Terengganu</td>\n",
              "      <td>Setiu</td>\n",
              "      <td>2018</td>\n",
              "      <td>NaN</td>\n",
              "      <td>Male</td>\n",
              "      <td>4039.0</td>\n",
              "    </tr>\n",
              "    <tr>\n",
              "      <th>1739</th>\n",
              "      <td>Primary school</td>\n",
              "      <td>Terengganu</td>\n",
              "      <td>Setiu</td>\n",
              "      <td>2018</td>\n",
              "      <td>NaN</td>\n",
              "      <td>Female</td>\n",
              "      <td>3793.0</td>\n",
              "    </tr>\n",
              "  </tbody>\n",
              "</table>\n",
              "</div>\n",
              "      <button class=\"colab-df-convert\" onclick=\"convertToInteractive('df-dc1ddb0e-3943-4155-b78c-0eecce492bb0')\"\n",
              "              title=\"Convert this dataframe to an interactive table.\"\n",
              "              style=\"display:none;\">\n",
              "        \n",
              "  <svg xmlns=\"http://www.w3.org/2000/svg\" height=\"24px\"viewBox=\"0 0 24 24\"\n",
              "       width=\"24px\">\n",
              "    <path d=\"M0 0h24v24H0V0z\" fill=\"none\"/>\n",
              "    <path d=\"M18.56 5.44l.94 2.06.94-2.06 2.06-.94-2.06-.94-.94-2.06-.94 2.06-2.06.94zm-11 1L8.5 8.5l.94-2.06 2.06-.94-2.06-.94L8.5 2.5l-.94 2.06-2.06.94zm10 10l.94 2.06.94-2.06 2.06-.94-2.06-.94-.94-2.06-.94 2.06-2.06.94z\"/><path d=\"M17.41 7.96l-1.37-1.37c-.4-.4-.92-.59-1.43-.59-.52 0-1.04.2-1.43.59L10.3 9.45l-7.72 7.72c-.78.78-.78 2.05 0 2.83L4 21.41c.39.39.9.59 1.41.59.51 0 1.02-.2 1.41-.59l7.78-7.78 2.81-2.81c.8-.78.8-2.07 0-2.86zM5.41 20L4 18.59l7.72-7.72 1.47 1.35L5.41 20z\"/>\n",
              "  </svg>\n",
              "      </button>\n",
              "      \n",
              "  <style>\n",
              "    .colab-df-container {\n",
              "      display:flex;\n",
              "      flex-wrap:wrap;\n",
              "      gap: 12px;\n",
              "    }\n",
              "\n",
              "    .colab-df-convert {\n",
              "      background-color: #E8F0FE;\n",
              "      border: none;\n",
              "      border-radius: 50%;\n",
              "      cursor: pointer;\n",
              "      display: none;\n",
              "      fill: #1967D2;\n",
              "      height: 32px;\n",
              "      padding: 0 0 0 0;\n",
              "      width: 32px;\n",
              "    }\n",
              "\n",
              "    .colab-df-convert:hover {\n",
              "      background-color: #E2EBFA;\n",
              "      box-shadow: 0px 1px 2px rgba(60, 64, 67, 0.3), 0px 1px 3px 1px rgba(60, 64, 67, 0.15);\n",
              "      fill: #174EA6;\n",
              "    }\n",
              "\n",
              "    [theme=dark] .colab-df-convert {\n",
              "      background-color: #3B4455;\n",
              "      fill: #D2E3FC;\n",
              "    }\n",
              "\n",
              "    [theme=dark] .colab-df-convert:hover {\n",
              "      background-color: #434B5C;\n",
              "      box-shadow: 0px 1px 3px 1px rgba(0, 0, 0, 0.15);\n",
              "      filter: drop-shadow(0px 1px 2px rgba(0, 0, 0, 0.3));\n",
              "      fill: #FFFFFF;\n",
              "    }\n",
              "  </style>\n",
              "\n",
              "      <script>\n",
              "        const buttonEl =\n",
              "          document.querySelector('#df-dc1ddb0e-3943-4155-b78c-0eecce492bb0 button.colab-df-convert');\n",
              "        buttonEl.style.display =\n",
              "          google.colab.kernel.accessAllowed ? 'block' : 'none';\n",
              "\n",
              "        async function convertToInteractive(key) {\n",
              "          const element = document.querySelector('#df-dc1ddb0e-3943-4155-b78c-0eecce492bb0');\n",
              "          const dataTable =\n",
              "            await google.colab.kernel.invokeFunction('convertToInteractive',\n",
              "                                                     [key], {});\n",
              "          if (!dataTable) return;\n",
              "\n",
              "          const docLinkHtml = 'Like what you see? Visit the ' +\n",
              "            '<a target=\"_blank\" href=https://colab.research.google.com/notebooks/data_table.ipynb>data table notebook</a>'\n",
              "            + ' to learn more about interactive tables.';\n",
              "          element.innerHTML = '';\n",
              "          dataTable['output_type'] = 'display_data';\n",
              "          await google.colab.output.renderOutput(dataTable, element);\n",
              "          const docLink = document.createElement('div');\n",
              "          docLink.innerHTML = docLinkHtml;\n",
              "          element.appendChild(docLink);\n",
              "        }\n",
              "      </script>\n",
              "    </div>\n",
              "  </div>\n",
              "  "
            ],
            "text/plain": [
              "        School stage       State District Education Office  Year School type  \\\n",
              "1735  Primary school  Terengganu                    Marang  2018         NaN   \n",
              "1736  Primary school  Terengganu                     Setiu  2017         NaN   \n",
              "1737  Primary school  Terengganu                     Setiu  2017         NaN   \n",
              "1738  Primary school  Terengganu                     Setiu  2018         NaN   \n",
              "1739  Primary school  Terengganu                     Setiu  2018         NaN   \n",
              "\n",
              "         Sex  Number of pupils  \n",
              "1735  Female            5692.0  \n",
              "1736    Male            3986.0  \n",
              "1737  Female            3751.0  \n",
              "1738    Male            4039.0  \n",
              "1739  Female            3793.0  "
            ]
          },
          "execution_count": 5,
          "metadata": {},
          "output_type": "execute_result"
        }
      ],
      "source": [
        "df.tail()"
      ]
    },
    {
      "cell_type": "markdown",
      "metadata": {
        "id": "IeXqBxGZMiGO"
      },
      "source": [
        "To discover the number of rows and columns this Dataframe has, we will be using the .shape attribute which will return a tuple representing the dimensionality of the DataFrame.\n"
      ]
    },
    {
      "cell_type": "code",
      "execution_count": null,
      "metadata": {
        "colab": {
          "base_uri": "https://localhost:8080/"
        },
        "id": "7mUpY22aVJJ6",
        "outputId": "5abd7b11-d088-46c3-9998-49162fe5563a"
      },
      "outputs": [
        {
          "data": {
            "text/plain": [
              "(1740, 7)"
            ]
          },
          "execution_count": 6,
          "metadata": {},
          "output_type": "execute_result"
        }
      ],
      "source": [
        "df.shape"
      ]
    },
    {
      "cell_type": "markdown",
      "metadata": {
        "id": "bwERGdNgNL_7"
      },
      "source": [
        "So, this Dataframe contains 1740 rows and 7 columns overall."
      ]
    },
    {
      "cell_type": "markdown",
      "metadata": {
        "id": "KoveswswPzVg"
      },
      "source": [
        "Next, we will be using .info attribute to see the overview of information of the Dataframe's columns."
      ]
    },
    {
      "cell_type": "code",
      "execution_count": null,
      "metadata": {
        "colab": {
          "base_uri": "https://localhost:8080/"
        },
        "id": "CrhgY1AOP9cu",
        "outputId": "44933e70-7080-41f7-aa74-4f6d3c3cded0"
      },
      "outputs": [
        {
          "name": "stdout",
          "output_type": "stream",
          "text": [
            "<class 'pandas.core.frame.DataFrame'>\n",
            "RangeIndex: 1740 entries, 0 to 1739\n",
            "Data columns (total 7 columns):\n",
            " #   Column                     Non-Null Count  Dtype  \n",
            "---  ------                     --------------  -----  \n",
            " 0   School stage               1740 non-null   object \n",
            " 1   State                      1740 non-null   object \n",
            " 2   District Education Office  1740 non-null   object \n",
            " 3   Year                       1740 non-null   int64  \n",
            " 4   School type                1160 non-null   object \n",
            " 5   Sex                        1740 non-null   object \n",
            " 6   Number of pupils           1410 non-null   float64\n",
            "dtypes: float64(1), int64(1), object(5)\n",
            "memory usage: 95.3+ KB\n"
          ]
        }
      ],
      "source": [
        "df.info()"
      ]
    },
    {
      "cell_type": "code",
      "execution_count": null,
      "metadata": {
        "colab": {
          "base_uri": "https://localhost:8080/"
        },
        "id": "h46ilQakVJJ6",
        "outputId": "876878c4-badb-4920-89b9-09d929f974c5"
      },
      "outputs": [
        {
          "data": {
            "text/plain": [
              "School stage                   0\n",
              "State                          0\n",
              "District Education Office      0\n",
              "Year                           0\n",
              "School type                  580\n",
              "Sex                            0\n",
              "Number of pupils             330\n",
              "dtype: int64"
            ]
          },
          "execution_count": 8,
          "metadata": {},
          "output_type": "execute_result"
        }
      ],
      "source": [
        "df.isna().sum()"
      ]
    },
    {
      "cell_type": "markdown",
      "metadata": {
        "id": "549DqqlmSiZS"
      },
      "source": [
        "As we can see above, this Dataframe has 580 missing data under the School type column and 330 missing data under the Number of pupils column."
      ]
    },
    {
      "cell_type": "markdown",
      "metadata": {
        "id": "-aG77rmkhcSc"
      },
      "source": [
        "To solve the missing data in Number of Pupils column, the missing value will be replaced with the mean of the number of pupils and convert the data type to integer.\n",
        "\n"
      ]
    },
    {
      "cell_type": "code",
      "execution_count": null,
      "metadata": {
        "id": "cfcSY6YSVJJ6"
      },
      "outputs": [],
      "source": [
        "df['Number of pupils'] = pd.to_numeric(df['Number of pupils'])\n",
        "df['Number of pupils'].fillna(int(df['Number of pupils'].mean()), inplace=True)\n",
        "df['Number of pupils'] = df['Number of pupils'].astype(int)"
      ]
    },
    {
      "cell_type": "markdown",
      "metadata": {
        "id": "vtdPbLYphr0P"
      },
      "source": [
        "Then, we will use .isnull() to display data only with School type = NaN."
      ]
    },
    {
      "cell_type": "code",
      "execution_count": null,
      "metadata": {
        "colab": {
          "base_uri": "https://localhost:8080/",
          "height": 423
        },
        "id": "sBxpKRHlghVA",
        "outputId": "a527df2f-c103-476d-c269-45a991b9aabc"
      },
      "outputs": [
        {
          "data": {
            "text/html": [
              "\n",
              "  <div id=\"df-8b712b5e-0c43-478d-98e1-4ea800d70507\">\n",
              "    <div class=\"colab-df-container\">\n",
              "      <div>\n",
              "<style scoped>\n",
              "    .dataframe tbody tr th:only-of-type {\n",
              "        vertical-align: middle;\n",
              "    }\n",
              "\n",
              "    .dataframe tbody tr th {\n",
              "        vertical-align: top;\n",
              "    }\n",
              "\n",
              "    .dataframe thead th {\n",
              "        text-align: right;\n",
              "    }\n",
              "</style>\n",
              "<table border=\"1\" class=\"dataframe\">\n",
              "  <thead>\n",
              "    <tr style=\"text-align: right;\">\n",
              "      <th></th>\n",
              "      <th>School stage</th>\n",
              "      <th>State</th>\n",
              "      <th>District Education Office</th>\n",
              "      <th>Year</th>\n",
              "      <th>School type</th>\n",
              "      <th>Sex</th>\n",
              "      <th>Number of pupils</th>\n",
              "    </tr>\n",
              "  </thead>\n",
              "  <tbody>\n",
              "    <tr>\n",
              "      <th>1160</th>\n",
              "      <td>Primary school</td>\n",
              "      <td>Sarawak</td>\n",
              "      <td>Baram</td>\n",
              "      <td>2017</td>\n",
              "      <td>NaN</td>\n",
              "      <td>Male</td>\n",
              "      <td>2859</td>\n",
              "    </tr>\n",
              "    <tr>\n",
              "      <th>1161</th>\n",
              "      <td>Primary school</td>\n",
              "      <td>Sarawak</td>\n",
              "      <td>Baram</td>\n",
              "      <td>2017</td>\n",
              "      <td>NaN</td>\n",
              "      <td>Female</td>\n",
              "      <td>2670</td>\n",
              "    </tr>\n",
              "    <tr>\n",
              "      <th>1162</th>\n",
              "      <td>Primary school</td>\n",
              "      <td>Sarawak</td>\n",
              "      <td>Baram</td>\n",
              "      <td>2018</td>\n",
              "      <td>NaN</td>\n",
              "      <td>Male</td>\n",
              "      <td>2789</td>\n",
              "    </tr>\n",
              "    <tr>\n",
              "      <th>1163</th>\n",
              "      <td>Primary school</td>\n",
              "      <td>Sarawak</td>\n",
              "      <td>Baram</td>\n",
              "      <td>2018</td>\n",
              "      <td>NaN</td>\n",
              "      <td>Female</td>\n",
              "      <td>2646</td>\n",
              "    </tr>\n",
              "    <tr>\n",
              "      <th>1164</th>\n",
              "      <td>Primary school</td>\n",
              "      <td>Sarawak</td>\n",
              "      <td>Bau</td>\n",
              "      <td>2017</td>\n",
              "      <td>NaN</td>\n",
              "      <td>Male</td>\n",
              "      <td>2821</td>\n",
              "    </tr>\n",
              "    <tr>\n",
              "      <th>...</th>\n",
              "      <td>...</td>\n",
              "      <td>...</td>\n",
              "      <td>...</td>\n",
              "      <td>...</td>\n",
              "      <td>...</td>\n",
              "      <td>...</td>\n",
              "      <td>...</td>\n",
              "    </tr>\n",
              "    <tr>\n",
              "      <th>1735</th>\n",
              "      <td>Primary school</td>\n",
              "      <td>Terengganu</td>\n",
              "      <td>Marang</td>\n",
              "      <td>2018</td>\n",
              "      <td>NaN</td>\n",
              "      <td>Female</td>\n",
              "      <td>5692</td>\n",
              "    </tr>\n",
              "    <tr>\n",
              "      <th>1736</th>\n",
              "      <td>Primary school</td>\n",
              "      <td>Terengganu</td>\n",
              "      <td>Setiu</td>\n",
              "      <td>2017</td>\n",
              "      <td>NaN</td>\n",
              "      <td>Male</td>\n",
              "      <td>3986</td>\n",
              "    </tr>\n",
              "    <tr>\n",
              "      <th>1737</th>\n",
              "      <td>Primary school</td>\n",
              "      <td>Terengganu</td>\n",
              "      <td>Setiu</td>\n",
              "      <td>2017</td>\n",
              "      <td>NaN</td>\n",
              "      <td>Female</td>\n",
              "      <td>3751</td>\n",
              "    </tr>\n",
              "    <tr>\n",
              "      <th>1738</th>\n",
              "      <td>Primary school</td>\n",
              "      <td>Terengganu</td>\n",
              "      <td>Setiu</td>\n",
              "      <td>2018</td>\n",
              "      <td>NaN</td>\n",
              "      <td>Male</td>\n",
              "      <td>4039</td>\n",
              "    </tr>\n",
              "    <tr>\n",
              "      <th>1739</th>\n",
              "      <td>Primary school</td>\n",
              "      <td>Terengganu</td>\n",
              "      <td>Setiu</td>\n",
              "      <td>2018</td>\n",
              "      <td>NaN</td>\n",
              "      <td>Female</td>\n",
              "      <td>3793</td>\n",
              "    </tr>\n",
              "  </tbody>\n",
              "</table>\n",
              "<p>580 rows × 7 columns</p>\n",
              "</div>\n",
              "      <button class=\"colab-df-convert\" onclick=\"convertToInteractive('df-8b712b5e-0c43-478d-98e1-4ea800d70507')\"\n",
              "              title=\"Convert this dataframe to an interactive table.\"\n",
              "              style=\"display:none;\">\n",
              "        \n",
              "  <svg xmlns=\"http://www.w3.org/2000/svg\" height=\"24px\"viewBox=\"0 0 24 24\"\n",
              "       width=\"24px\">\n",
              "    <path d=\"M0 0h24v24H0V0z\" fill=\"none\"/>\n",
              "    <path d=\"M18.56 5.44l.94 2.06.94-2.06 2.06-.94-2.06-.94-.94-2.06-.94 2.06-2.06.94zm-11 1L8.5 8.5l.94-2.06 2.06-.94-2.06-.94L8.5 2.5l-.94 2.06-2.06.94zm10 10l.94 2.06.94-2.06 2.06-.94-2.06-.94-.94-2.06-.94 2.06-2.06.94z\"/><path d=\"M17.41 7.96l-1.37-1.37c-.4-.4-.92-.59-1.43-.59-.52 0-1.04.2-1.43.59L10.3 9.45l-7.72 7.72c-.78.78-.78 2.05 0 2.83L4 21.41c.39.39.9.59 1.41.59.51 0 1.02-.2 1.41-.59l7.78-7.78 2.81-2.81c.8-.78.8-2.07 0-2.86zM5.41 20L4 18.59l7.72-7.72 1.47 1.35L5.41 20z\"/>\n",
              "  </svg>\n",
              "      </button>\n",
              "      \n",
              "  <style>\n",
              "    .colab-df-container {\n",
              "      display:flex;\n",
              "      flex-wrap:wrap;\n",
              "      gap: 12px;\n",
              "    }\n",
              "\n",
              "    .colab-df-convert {\n",
              "      background-color: #E8F0FE;\n",
              "      border: none;\n",
              "      border-radius: 50%;\n",
              "      cursor: pointer;\n",
              "      display: none;\n",
              "      fill: #1967D2;\n",
              "      height: 32px;\n",
              "      padding: 0 0 0 0;\n",
              "      width: 32px;\n",
              "    }\n",
              "\n",
              "    .colab-df-convert:hover {\n",
              "      background-color: #E2EBFA;\n",
              "      box-shadow: 0px 1px 2px rgba(60, 64, 67, 0.3), 0px 1px 3px 1px rgba(60, 64, 67, 0.15);\n",
              "      fill: #174EA6;\n",
              "    }\n",
              "\n",
              "    [theme=dark] .colab-df-convert {\n",
              "      background-color: #3B4455;\n",
              "      fill: #D2E3FC;\n",
              "    }\n",
              "\n",
              "    [theme=dark] .colab-df-convert:hover {\n",
              "      background-color: #434B5C;\n",
              "      box-shadow: 0px 1px 3px 1px rgba(0, 0, 0, 0.15);\n",
              "      filter: drop-shadow(0px 1px 2px rgba(0, 0, 0, 0.3));\n",
              "      fill: #FFFFFF;\n",
              "    }\n",
              "  </style>\n",
              "\n",
              "      <script>\n",
              "        const buttonEl =\n",
              "          document.querySelector('#df-8b712b5e-0c43-478d-98e1-4ea800d70507 button.colab-df-convert');\n",
              "        buttonEl.style.display =\n",
              "          google.colab.kernel.accessAllowed ? 'block' : 'none';\n",
              "\n",
              "        async function convertToInteractive(key) {\n",
              "          const element = document.querySelector('#df-8b712b5e-0c43-478d-98e1-4ea800d70507');\n",
              "          const dataTable =\n",
              "            await google.colab.kernel.invokeFunction('convertToInteractive',\n",
              "                                                     [key], {});\n",
              "          if (!dataTable) return;\n",
              "\n",
              "          const docLinkHtml = 'Like what you see? Visit the ' +\n",
              "            '<a target=\"_blank\" href=https://colab.research.google.com/notebooks/data_table.ipynb>data table notebook</a>'\n",
              "            + ' to learn more about interactive tables.';\n",
              "          element.innerHTML = '';\n",
              "          dataTable['output_type'] = 'display_data';\n",
              "          await google.colab.output.renderOutput(dataTable, element);\n",
              "          const docLink = document.createElement('div');\n",
              "          docLink.innerHTML = docLinkHtml;\n",
              "          element.appendChild(docLink);\n",
              "        }\n",
              "      </script>\n",
              "    </div>\n",
              "  </div>\n",
              "  "
            ],
            "text/plain": [
              "        School stage       State District Education Office  Year School type  \\\n",
              "1160  Primary school     Sarawak                     Baram  2017         NaN   \n",
              "1161  Primary school     Sarawak                     Baram  2017         NaN   \n",
              "1162  Primary school     Sarawak                     Baram  2018         NaN   \n",
              "1163  Primary school     Sarawak                     Baram  2018         NaN   \n",
              "1164  Primary school     Sarawak                       Bau  2017         NaN   \n",
              "...              ...         ...                       ...   ...         ...   \n",
              "1735  Primary school  Terengganu                    Marang  2018         NaN   \n",
              "1736  Primary school  Terengganu                     Setiu  2017         NaN   \n",
              "1737  Primary school  Terengganu                     Setiu  2017         NaN   \n",
              "1738  Primary school  Terengganu                     Setiu  2018         NaN   \n",
              "1739  Primary school  Terengganu                     Setiu  2018         NaN   \n",
              "\n",
              "         Sex  Number of pupils  \n",
              "1160    Male              2859  \n",
              "1161  Female              2670  \n",
              "1162    Male              2789  \n",
              "1163  Female              2646  \n",
              "1164    Male              2821  \n",
              "...      ...               ...  \n",
              "1735  Female              5692  \n",
              "1736    Male              3986  \n",
              "1737  Female              3751  \n",
              "1738    Male              4039  \n",
              "1739  Female              3793  \n",
              "\n",
              "[580 rows x 7 columns]"
            ]
          },
          "execution_count": 4,
          "metadata": {},
          "output_type": "execute_result"
        }
      ],
      "source": [
        "#df = df.dropna(subset=['School type'])\n",
        "bool_series = pd.isnull(df[\"School type\"])\n",
        "df[bool_series]"
      ]
    },
    {
      "cell_type": "markdown",
      "metadata": {
        "id": "U74HSdAK6Wb1"
      },
      "source": [
        "Now, we are going to fill all the null values in School type column with “No school type\" "
      ]
    },
    {
      "cell_type": "code",
      "execution_count": null,
      "metadata": {
        "id": "m6UmIqEV6L-A"
      },
      "outputs": [],
      "source": [
        "df[\"School type\"].fillna(\"No school type\", inplace = True)"
      ]
    },
    {
      "cell_type": "code",
      "execution_count": null,
      "metadata": {
        "colab": {
          "base_uri": "https://localhost:8080/",
          "height": 423
        },
        "id": "0RYJxs016TwQ",
        "outputId": "14ae8a42-737a-42ef-9712-827bc2d32387"
      },
      "outputs": [
        {
          "data": {
            "text/html": [
              "\n",
              "  <div id=\"df-ebcdaa80-1185-4312-89ed-4672d16b8dec\">\n",
              "    <div class=\"colab-df-container\">\n",
              "      <div>\n",
              "<style scoped>\n",
              "    .dataframe tbody tr th:only-of-type {\n",
              "        vertical-align: middle;\n",
              "    }\n",
              "\n",
              "    .dataframe tbody tr th {\n",
              "        vertical-align: top;\n",
              "    }\n",
              "\n",
              "    .dataframe thead th {\n",
              "        text-align: right;\n",
              "    }\n",
              "</style>\n",
              "<table border=\"1\" class=\"dataframe\">\n",
              "  <thead>\n",
              "    <tr style=\"text-align: right;\">\n",
              "      <th></th>\n",
              "      <th>School stage</th>\n",
              "      <th>State</th>\n",
              "      <th>District Education Office</th>\n",
              "      <th>Year</th>\n",
              "      <th>School type</th>\n",
              "      <th>Sex</th>\n",
              "      <th>Number of pupils</th>\n",
              "    </tr>\n",
              "  </thead>\n",
              "  <tbody>\n",
              "    <tr>\n",
              "      <th>1160</th>\n",
              "      <td>Primary school</td>\n",
              "      <td>Sarawak</td>\n",
              "      <td>Baram</td>\n",
              "      <td>2017</td>\n",
              "      <td>No school type</td>\n",
              "      <td>Male</td>\n",
              "      <td>2859</td>\n",
              "    </tr>\n",
              "    <tr>\n",
              "      <th>1161</th>\n",
              "      <td>Primary school</td>\n",
              "      <td>Sarawak</td>\n",
              "      <td>Baram</td>\n",
              "      <td>2017</td>\n",
              "      <td>No school type</td>\n",
              "      <td>Female</td>\n",
              "      <td>2670</td>\n",
              "    </tr>\n",
              "    <tr>\n",
              "      <th>1162</th>\n",
              "      <td>Primary school</td>\n",
              "      <td>Sarawak</td>\n",
              "      <td>Baram</td>\n",
              "      <td>2018</td>\n",
              "      <td>No school type</td>\n",
              "      <td>Male</td>\n",
              "      <td>2789</td>\n",
              "    </tr>\n",
              "    <tr>\n",
              "      <th>1163</th>\n",
              "      <td>Primary school</td>\n",
              "      <td>Sarawak</td>\n",
              "      <td>Baram</td>\n",
              "      <td>2018</td>\n",
              "      <td>No school type</td>\n",
              "      <td>Female</td>\n",
              "      <td>2646</td>\n",
              "    </tr>\n",
              "    <tr>\n",
              "      <th>1164</th>\n",
              "      <td>Primary school</td>\n",
              "      <td>Sarawak</td>\n",
              "      <td>Bau</td>\n",
              "      <td>2017</td>\n",
              "      <td>No school type</td>\n",
              "      <td>Male</td>\n",
              "      <td>2821</td>\n",
              "    </tr>\n",
              "    <tr>\n",
              "      <th>...</th>\n",
              "      <td>...</td>\n",
              "      <td>...</td>\n",
              "      <td>...</td>\n",
              "      <td>...</td>\n",
              "      <td>...</td>\n",
              "      <td>...</td>\n",
              "      <td>...</td>\n",
              "    </tr>\n",
              "    <tr>\n",
              "      <th>1735</th>\n",
              "      <td>Primary school</td>\n",
              "      <td>Terengganu</td>\n",
              "      <td>Marang</td>\n",
              "      <td>2018</td>\n",
              "      <td>No school type</td>\n",
              "      <td>Female</td>\n",
              "      <td>5692</td>\n",
              "    </tr>\n",
              "    <tr>\n",
              "      <th>1736</th>\n",
              "      <td>Primary school</td>\n",
              "      <td>Terengganu</td>\n",
              "      <td>Setiu</td>\n",
              "      <td>2017</td>\n",
              "      <td>No school type</td>\n",
              "      <td>Male</td>\n",
              "      <td>3986</td>\n",
              "    </tr>\n",
              "    <tr>\n",
              "      <th>1737</th>\n",
              "      <td>Primary school</td>\n",
              "      <td>Terengganu</td>\n",
              "      <td>Setiu</td>\n",
              "      <td>2017</td>\n",
              "      <td>No school type</td>\n",
              "      <td>Female</td>\n",
              "      <td>3751</td>\n",
              "    </tr>\n",
              "    <tr>\n",
              "      <th>1738</th>\n",
              "      <td>Primary school</td>\n",
              "      <td>Terengganu</td>\n",
              "      <td>Setiu</td>\n",
              "      <td>2018</td>\n",
              "      <td>No school type</td>\n",
              "      <td>Male</td>\n",
              "      <td>4039</td>\n",
              "    </tr>\n",
              "    <tr>\n",
              "      <th>1739</th>\n",
              "      <td>Primary school</td>\n",
              "      <td>Terengganu</td>\n",
              "      <td>Setiu</td>\n",
              "      <td>2018</td>\n",
              "      <td>No school type</td>\n",
              "      <td>Female</td>\n",
              "      <td>3793</td>\n",
              "    </tr>\n",
              "  </tbody>\n",
              "</table>\n",
              "<p>580 rows × 7 columns</p>\n",
              "</div>\n",
              "      <button class=\"colab-df-convert\" onclick=\"convertToInteractive('df-ebcdaa80-1185-4312-89ed-4672d16b8dec')\"\n",
              "              title=\"Convert this dataframe to an interactive table.\"\n",
              "              style=\"display:none;\">\n",
              "        \n",
              "  <svg xmlns=\"http://www.w3.org/2000/svg\" height=\"24px\"viewBox=\"0 0 24 24\"\n",
              "       width=\"24px\">\n",
              "    <path d=\"M0 0h24v24H0V0z\" fill=\"none\"/>\n",
              "    <path d=\"M18.56 5.44l.94 2.06.94-2.06 2.06-.94-2.06-.94-.94-2.06-.94 2.06-2.06.94zm-11 1L8.5 8.5l.94-2.06 2.06-.94-2.06-.94L8.5 2.5l-.94 2.06-2.06.94zm10 10l.94 2.06.94-2.06 2.06-.94-2.06-.94-.94-2.06-.94 2.06-2.06.94z\"/><path d=\"M17.41 7.96l-1.37-1.37c-.4-.4-.92-.59-1.43-.59-.52 0-1.04.2-1.43.59L10.3 9.45l-7.72 7.72c-.78.78-.78 2.05 0 2.83L4 21.41c.39.39.9.59 1.41.59.51 0 1.02-.2 1.41-.59l7.78-7.78 2.81-2.81c.8-.78.8-2.07 0-2.86zM5.41 20L4 18.59l7.72-7.72 1.47 1.35L5.41 20z\"/>\n",
              "  </svg>\n",
              "      </button>\n",
              "      \n",
              "  <style>\n",
              "    .colab-df-container {\n",
              "      display:flex;\n",
              "      flex-wrap:wrap;\n",
              "      gap: 12px;\n",
              "    }\n",
              "\n",
              "    .colab-df-convert {\n",
              "      background-color: #E8F0FE;\n",
              "      border: none;\n",
              "      border-radius: 50%;\n",
              "      cursor: pointer;\n",
              "      display: none;\n",
              "      fill: #1967D2;\n",
              "      height: 32px;\n",
              "      padding: 0 0 0 0;\n",
              "      width: 32px;\n",
              "    }\n",
              "\n",
              "    .colab-df-convert:hover {\n",
              "      background-color: #E2EBFA;\n",
              "      box-shadow: 0px 1px 2px rgba(60, 64, 67, 0.3), 0px 1px 3px 1px rgba(60, 64, 67, 0.15);\n",
              "      fill: #174EA6;\n",
              "    }\n",
              "\n",
              "    [theme=dark] .colab-df-convert {\n",
              "      background-color: #3B4455;\n",
              "      fill: #D2E3FC;\n",
              "    }\n",
              "\n",
              "    [theme=dark] .colab-df-convert:hover {\n",
              "      background-color: #434B5C;\n",
              "      box-shadow: 0px 1px 3px 1px rgba(0, 0, 0, 0.15);\n",
              "      filter: drop-shadow(0px 1px 2px rgba(0, 0, 0, 0.3));\n",
              "      fill: #FFFFFF;\n",
              "    }\n",
              "  </style>\n",
              "\n",
              "      <script>\n",
              "        const buttonEl =\n",
              "          document.querySelector('#df-ebcdaa80-1185-4312-89ed-4672d16b8dec button.colab-df-convert');\n",
              "        buttonEl.style.display =\n",
              "          google.colab.kernel.accessAllowed ? 'block' : 'none';\n",
              "\n",
              "        async function convertToInteractive(key) {\n",
              "          const element = document.querySelector('#df-ebcdaa80-1185-4312-89ed-4672d16b8dec');\n",
              "          const dataTable =\n",
              "            await google.colab.kernel.invokeFunction('convertToInteractive',\n",
              "                                                     [key], {});\n",
              "          if (!dataTable) return;\n",
              "\n",
              "          const docLinkHtml = 'Like what you see? Visit the ' +\n",
              "            '<a target=\"_blank\" href=https://colab.research.google.com/notebooks/data_table.ipynb>data table notebook</a>'\n",
              "            + ' to learn more about interactive tables.';\n",
              "          element.innerHTML = '';\n",
              "          dataTable['output_type'] = 'display_data';\n",
              "          await google.colab.output.renderOutput(dataTable, element);\n",
              "          const docLink = document.createElement('div');\n",
              "          docLink.innerHTML = docLinkHtml;\n",
              "          element.appendChild(docLink);\n",
              "        }\n",
              "      </script>\n",
              "    </div>\n",
              "  </div>\n",
              "  "
            ],
            "text/plain": [
              "        School stage       State District Education Office  Year  \\\n",
              "1160  Primary school     Sarawak                     Baram  2017   \n",
              "1161  Primary school     Sarawak                     Baram  2017   \n",
              "1162  Primary school     Sarawak                     Baram  2018   \n",
              "1163  Primary school     Sarawak                     Baram  2018   \n",
              "1164  Primary school     Sarawak                       Bau  2017   \n",
              "...              ...         ...                       ...   ...   \n",
              "1735  Primary school  Terengganu                    Marang  2018   \n",
              "1736  Primary school  Terengganu                     Setiu  2017   \n",
              "1737  Primary school  Terengganu                     Setiu  2017   \n",
              "1738  Primary school  Terengganu                     Setiu  2018   \n",
              "1739  Primary school  Terengganu                     Setiu  2018   \n",
              "\n",
              "         School type     Sex  Number of pupils  \n",
              "1160  No school type    Male              2859  \n",
              "1161  No school type  Female              2670  \n",
              "1162  No school type    Male              2789  \n",
              "1163  No school type  Female              2646  \n",
              "1164  No school type    Male              2821  \n",
              "...              ...     ...               ...  \n",
              "1735  No school type  Female              5692  \n",
              "1736  No school type    Male              3986  \n",
              "1737  No school type  Female              3751  \n",
              "1738  No school type    Male              4039  \n",
              "1739  No school type  Female              3793  \n",
              "\n",
              "[580 rows x 7 columns]"
            ]
          },
          "execution_count": 6,
          "metadata": {},
          "output_type": "execute_result"
        }
      ],
      "source": [
        "df[bool_series]"
      ]
    },
    {
      "cell_type": "markdown",
      "metadata": {
        "id": "0wcFnz42h-nR"
      },
      "source": [
        "Once we have replaced the missing values in both columns, check again to ensure there are no more missing data in the Dataframe."
      ]
    },
    {
      "cell_type": "code",
      "execution_count": null,
      "metadata": {
        "colab": {
          "base_uri": "https://localhost:8080/"
        },
        "id": "HsDyuPIgVJJ6",
        "outputId": "8f81b7c7-e9d0-4f4c-f33d-a91ba1d2363e"
      },
      "outputs": [
        {
          "data": {
            "text/plain": [
              "School stage                 0\n",
              "State                        0\n",
              "District Education Office    0\n",
              "Year                         0\n",
              "School type                  0\n",
              "Sex                          0\n",
              "Number of pupils             0\n",
              "dtype: int64"
            ]
          },
          "execution_count": 7,
          "metadata": {},
          "output_type": "execute_result"
        }
      ],
      "source": [
        "df.isna().sum()\n"
      ]
    },
    {
      "cell_type": "code",
      "execution_count": null,
      "metadata": {
        "colab": {
          "base_uri": "https://localhost:8080/",
          "height": 423
        },
        "id": "1Et9QhCbVJJ6",
        "outputId": "94407014-8523-456a-c81f-5ea51e50ad34"
      },
      "outputs": [
        {
          "data": {
            "text/html": [
              "\n",
              "  <div id=\"df-ed409fb0-4146-40e3-8b88-5c578806eeef\">\n",
              "    <div class=\"colab-df-container\">\n",
              "      <div>\n",
              "<style scoped>\n",
              "    .dataframe tbody tr th:only-of-type {\n",
              "        vertical-align: middle;\n",
              "    }\n",
              "\n",
              "    .dataframe tbody tr th {\n",
              "        vertical-align: top;\n",
              "    }\n",
              "\n",
              "    .dataframe thead th {\n",
              "        text-align: right;\n",
              "    }\n",
              "</style>\n",
              "<table border=\"1\" class=\"dataframe\">\n",
              "  <thead>\n",
              "    <tr style=\"text-align: right;\">\n",
              "      <th></th>\n",
              "      <th>School stage</th>\n",
              "      <th>State</th>\n",
              "      <th>District Education Office</th>\n",
              "      <th>Year</th>\n",
              "      <th>School type</th>\n",
              "      <th>Sex</th>\n",
              "      <th>Number of pupils</th>\n",
              "    </tr>\n",
              "  </thead>\n",
              "  <tbody>\n",
              "    <tr>\n",
              "      <th>0</th>\n",
              "      <td>Secondary school</td>\n",
              "      <td>Kedah</td>\n",
              "      <td>Baling</td>\n",
              "      <td>2017</td>\n",
              "      <td>Academic</td>\n",
              "      <td>Male</td>\n",
              "      <td>8184</td>\n",
              "    </tr>\n",
              "    <tr>\n",
              "      <th>1</th>\n",
              "      <td>Secondary school</td>\n",
              "      <td>Kedah</td>\n",
              "      <td>Baling</td>\n",
              "      <td>2017</td>\n",
              "      <td>Academic</td>\n",
              "      <td>Female</td>\n",
              "      <td>9433</td>\n",
              "    </tr>\n",
              "    <tr>\n",
              "      <th>2</th>\n",
              "      <td>Secondary school</td>\n",
              "      <td>Kedah</td>\n",
              "      <td>Baling</td>\n",
              "      <td>2017</td>\n",
              "      <td>Vocational College</td>\n",
              "      <td>Male</td>\n",
              "      <td>6795</td>\n",
              "    </tr>\n",
              "    <tr>\n",
              "      <th>3</th>\n",
              "      <td>Secondary school</td>\n",
              "      <td>Kedah</td>\n",
              "      <td>Baling</td>\n",
              "      <td>2017</td>\n",
              "      <td>Vocational College</td>\n",
              "      <td>Female</td>\n",
              "      <td>6795</td>\n",
              "    </tr>\n",
              "    <tr>\n",
              "      <th>4</th>\n",
              "      <td>Secondary school</td>\n",
              "      <td>Kedah</td>\n",
              "      <td>Baling</td>\n",
              "      <td>2018</td>\n",
              "      <td>Academic</td>\n",
              "      <td>Male</td>\n",
              "      <td>5461</td>\n",
              "    </tr>\n",
              "    <tr>\n",
              "      <th>...</th>\n",
              "      <td>...</td>\n",
              "      <td>...</td>\n",
              "      <td>...</td>\n",
              "      <td>...</td>\n",
              "      <td>...</td>\n",
              "      <td>...</td>\n",
              "      <td>...</td>\n",
              "    </tr>\n",
              "    <tr>\n",
              "      <th>1735</th>\n",
              "      <td>Primary school</td>\n",
              "      <td>Terengganu</td>\n",
              "      <td>Marang</td>\n",
              "      <td>2018</td>\n",
              "      <td>No school type</td>\n",
              "      <td>Female</td>\n",
              "      <td>5692</td>\n",
              "    </tr>\n",
              "    <tr>\n",
              "      <th>1736</th>\n",
              "      <td>Primary school</td>\n",
              "      <td>Terengganu</td>\n",
              "      <td>Setiu</td>\n",
              "      <td>2017</td>\n",
              "      <td>No school type</td>\n",
              "      <td>Male</td>\n",
              "      <td>3986</td>\n",
              "    </tr>\n",
              "    <tr>\n",
              "      <th>1737</th>\n",
              "      <td>Primary school</td>\n",
              "      <td>Terengganu</td>\n",
              "      <td>Setiu</td>\n",
              "      <td>2017</td>\n",
              "      <td>No school type</td>\n",
              "      <td>Female</td>\n",
              "      <td>3751</td>\n",
              "    </tr>\n",
              "    <tr>\n",
              "      <th>1738</th>\n",
              "      <td>Primary school</td>\n",
              "      <td>Terengganu</td>\n",
              "      <td>Setiu</td>\n",
              "      <td>2018</td>\n",
              "      <td>No school type</td>\n",
              "      <td>Male</td>\n",
              "      <td>4039</td>\n",
              "    </tr>\n",
              "    <tr>\n",
              "      <th>1739</th>\n",
              "      <td>Primary school</td>\n",
              "      <td>Terengganu</td>\n",
              "      <td>Setiu</td>\n",
              "      <td>2018</td>\n",
              "      <td>No school type</td>\n",
              "      <td>Female</td>\n",
              "      <td>3793</td>\n",
              "    </tr>\n",
              "  </tbody>\n",
              "</table>\n",
              "<p>1740 rows × 7 columns</p>\n",
              "</div>\n",
              "      <button class=\"colab-df-convert\" onclick=\"convertToInteractive('df-ed409fb0-4146-40e3-8b88-5c578806eeef')\"\n",
              "              title=\"Convert this dataframe to an interactive table.\"\n",
              "              style=\"display:none;\">\n",
              "        \n",
              "  <svg xmlns=\"http://www.w3.org/2000/svg\" height=\"24px\"viewBox=\"0 0 24 24\"\n",
              "       width=\"24px\">\n",
              "    <path d=\"M0 0h24v24H0V0z\" fill=\"none\"/>\n",
              "    <path d=\"M18.56 5.44l.94 2.06.94-2.06 2.06-.94-2.06-.94-.94-2.06-.94 2.06-2.06.94zm-11 1L8.5 8.5l.94-2.06 2.06-.94-2.06-.94L8.5 2.5l-.94 2.06-2.06.94zm10 10l.94 2.06.94-2.06 2.06-.94-2.06-.94-.94-2.06-.94 2.06-2.06.94z\"/><path d=\"M17.41 7.96l-1.37-1.37c-.4-.4-.92-.59-1.43-.59-.52 0-1.04.2-1.43.59L10.3 9.45l-7.72 7.72c-.78.78-.78 2.05 0 2.83L4 21.41c.39.39.9.59 1.41.59.51 0 1.02-.2 1.41-.59l7.78-7.78 2.81-2.81c.8-.78.8-2.07 0-2.86zM5.41 20L4 18.59l7.72-7.72 1.47 1.35L5.41 20z\"/>\n",
              "  </svg>\n",
              "      </button>\n",
              "      \n",
              "  <style>\n",
              "    .colab-df-container {\n",
              "      display:flex;\n",
              "      flex-wrap:wrap;\n",
              "      gap: 12px;\n",
              "    }\n",
              "\n",
              "    .colab-df-convert {\n",
              "      background-color: #E8F0FE;\n",
              "      border: none;\n",
              "      border-radius: 50%;\n",
              "      cursor: pointer;\n",
              "      display: none;\n",
              "      fill: #1967D2;\n",
              "      height: 32px;\n",
              "      padding: 0 0 0 0;\n",
              "      width: 32px;\n",
              "    }\n",
              "\n",
              "    .colab-df-convert:hover {\n",
              "      background-color: #E2EBFA;\n",
              "      box-shadow: 0px 1px 2px rgba(60, 64, 67, 0.3), 0px 1px 3px 1px rgba(60, 64, 67, 0.15);\n",
              "      fill: #174EA6;\n",
              "    }\n",
              "\n",
              "    [theme=dark] .colab-df-convert {\n",
              "      background-color: #3B4455;\n",
              "      fill: #D2E3FC;\n",
              "    }\n",
              "\n",
              "    [theme=dark] .colab-df-convert:hover {\n",
              "      background-color: #434B5C;\n",
              "      box-shadow: 0px 1px 3px 1px rgba(0, 0, 0, 0.15);\n",
              "      filter: drop-shadow(0px 1px 2px rgba(0, 0, 0, 0.3));\n",
              "      fill: #FFFFFF;\n",
              "    }\n",
              "  </style>\n",
              "\n",
              "      <script>\n",
              "        const buttonEl =\n",
              "          document.querySelector('#df-ed409fb0-4146-40e3-8b88-5c578806eeef button.colab-df-convert');\n",
              "        buttonEl.style.display =\n",
              "          google.colab.kernel.accessAllowed ? 'block' : 'none';\n",
              "\n",
              "        async function convertToInteractive(key) {\n",
              "          const element = document.querySelector('#df-ed409fb0-4146-40e3-8b88-5c578806eeef');\n",
              "          const dataTable =\n",
              "            await google.colab.kernel.invokeFunction('convertToInteractive',\n",
              "                                                     [key], {});\n",
              "          if (!dataTable) return;\n",
              "\n",
              "          const docLinkHtml = 'Like what you see? Visit the ' +\n",
              "            '<a target=\"_blank\" href=https://colab.research.google.com/notebooks/data_table.ipynb>data table notebook</a>'\n",
              "            + ' to learn more about interactive tables.';\n",
              "          element.innerHTML = '';\n",
              "          dataTable['output_type'] = 'display_data';\n",
              "          await google.colab.output.renderOutput(dataTable, element);\n",
              "          const docLink = document.createElement('div');\n",
              "          docLink.innerHTML = docLinkHtml;\n",
              "          element.appendChild(docLink);\n",
              "        }\n",
              "      </script>\n",
              "    </div>\n",
              "  </div>\n",
              "  "
            ],
            "text/plain": [
              "          School stage       State District Education Office  Year  \\\n",
              "0     Secondary school       Kedah                    Baling  2017   \n",
              "1     Secondary school       Kedah                    Baling  2017   \n",
              "2     Secondary school       Kedah                    Baling  2017   \n",
              "3     Secondary school       Kedah                    Baling  2017   \n",
              "4     Secondary school       Kedah                    Baling  2018   \n",
              "...                ...         ...                       ...   ...   \n",
              "1735    Primary school  Terengganu                    Marang  2018   \n",
              "1736    Primary school  Terengganu                     Setiu  2017   \n",
              "1737    Primary school  Terengganu                     Setiu  2017   \n",
              "1738    Primary school  Terengganu                     Setiu  2018   \n",
              "1739    Primary school  Terengganu                     Setiu  2018   \n",
              "\n",
              "             School type     Sex  Number of pupils  \n",
              "0               Academic    Male              8184  \n",
              "1               Academic  Female              9433  \n",
              "2     Vocational College    Male              6795  \n",
              "3     Vocational College  Female              6795  \n",
              "4               Academic    Male              5461  \n",
              "...                  ...     ...               ...  \n",
              "1735      No school type  Female              5692  \n",
              "1736      No school type    Male              3986  \n",
              "1737      No school type  Female              3751  \n",
              "1738      No school type    Male              4039  \n",
              "1739      No school type  Female              3793  \n",
              "\n",
              "[1740 rows x 7 columns]"
            ]
          },
          "execution_count": 8,
          "metadata": {},
          "output_type": "execute_result"
        }
      ],
      "source": [
        "df"
      ]
    },
    {
      "cell_type": "markdown",
      "metadata": {
        "id": "_0m5LkbVVJJ6"
      },
      "source": [
        "## Exploratory Analysis and Visualization\n",
        "\n",
        "Exploratory Data Analysis (EDA) is defined as the essential data investigation process before the formal analysis to spot patterns and anomalies, discover trends, and test hypotheses with summary statistics and visualizations which helps to infer insights easily from massive datasets.\n",
        "\n"
      ]
    },
    {
      "cell_type": "markdown",
      "metadata": {
        "id": "RuPTpsGWVJJ7"
      },
      "source": [
        "Let's begin by importing`matplotlib.pyplot` and `seaborn`."
      ]
    },
    {
      "cell_type": "code",
      "execution_count": null,
      "metadata": {
        "id": "zOTtwqAMVJJ7"
      },
      "outputs": [],
      "source": [
        "import seaborn as sns\n",
        "import matplotlib\n",
        "import matplotlib.pyplot as plt\n",
        "%matplotlib inline\n",
        "\n",
        "sns.set_style('darkgrid')\n",
        "matplotlib.rcParams['font.size'] = 14\n",
        "matplotlib.rcParams['figure.figsize'] = (9, 5)\n",
        "matplotlib.rcParams['figure.facecolor'] = '#00000000'"
      ]
    },
    {
      "cell_type": "code",
      "execution_count": null,
      "metadata": {
        "colab": {
          "base_uri": "https://localhost:8080/"
        },
        "id": "-_P5TU-bw-Dn",
        "outputId": "27645f6a-668a-45f1-9c44-71b547458c07"
      },
      "outputs": [
        {
          "name": "stdout",
          "output_type": "stream",
          "text": [
            "matplotlib: 3.6.2\n"
          ]
        }
      ],
      "source": [
        "print('matplotlib: {}'.format(matplotlib.__version__))"
      ]
    },
    {
      "cell_type": "code",
      "execution_count": null,
      "metadata": {
        "colab": {
          "base_uri": "https://localhost:8080/",
          "height": 558
        },
        "id": "9QMYigJ0xEkP",
        "outputId": "3c74574c-88f4-48e9-e83d-f04ca313bd90"
      },
      "outputs": [
        {
          "name": "stdout",
          "output_type": "stream",
          "text": [
            "Looking in indexes: https://pypi.org/simple, https://us-python.pkg.dev/colab-wheels/public/simple/\n",
            "Requirement already satisfied: matplotlib in /usr/local/lib/python3.8/dist-packages (3.2.2)\n",
            "Collecting matplotlib\n",
            "  Downloading matplotlib-3.6.3-cp38-cp38-manylinux_2_12_x86_64.manylinux2010_x86_64.whl (9.4 MB)\n",
            "\u001b[2K     \u001b[90m━━━━━━━━━━━━━━━━━━━━━━━━━━━━━━━━━━━━━━━━\u001b[0m \u001b[32m9.4/9.4 MB\u001b[0m \u001b[31m50.9 MB/s\u001b[0m eta \u001b[36m0:00:00\u001b[0m\n",
            "\u001b[?25hRequirement already satisfied: kiwisolver>=1.0.1 in /usr/local/lib/python3.8/dist-packages (from matplotlib) (1.4.4)\n",
            "Requirement already satisfied: cycler>=0.10 in /usr/local/lib/python3.8/dist-packages (from matplotlib) (0.11.0)\n",
            "Requirement already satisfied: python-dateutil>=2.7 in /usr/local/lib/python3.8/dist-packages (from matplotlib) (2.8.2)\n",
            "Requirement already satisfied: pillow>=6.2.0 in /usr/local/lib/python3.8/dist-packages (from matplotlib) (7.1.2)\n",
            "Requirement already satisfied: packaging>=20.0 in /usr/local/lib/python3.8/dist-packages (from matplotlib) (21.3)\n",
            "Collecting contourpy>=1.0.1\n",
            "  Downloading contourpy-1.0.7-cp38-cp38-manylinux_2_17_x86_64.manylinux2014_x86_64.whl (300 kB)\n",
            "\u001b[2K     \u001b[90m━━━━━━━━━━━━━━━━━━━━━━━━━━━━━━━━━━━━━━\u001b[0m \u001b[32m300.0/300.0 KB\u001b[0m \u001b[31m34.4 MB/s\u001b[0m eta \u001b[36m0:00:00\u001b[0m\n",
            "\u001b[?25hRequirement already satisfied: numpy>=1.19 in /usr/local/lib/python3.8/dist-packages (from matplotlib) (1.21.6)\n",
            "Collecting fonttools>=4.22.0\n",
            "  Downloading fonttools-4.38.0-py3-none-any.whl (965 kB)\n",
            "\u001b[2K     \u001b[90m━━━━━━━━━━━━━━━━━━━━━━━━━━━━━━━━━━━━━━\u001b[0m \u001b[32m965.4/965.4 KB\u001b[0m \u001b[31m65.5 MB/s\u001b[0m eta \u001b[36m0:00:00\u001b[0m\n",
            "\u001b[?25hRequirement already satisfied: pyparsing>=2.2.1 in /usr/local/lib/python3.8/dist-packages (from matplotlib) (3.0.9)\n",
            "Requirement already satisfied: six>=1.5 in /usr/local/lib/python3.8/dist-packages (from python-dateutil>=2.7->matplotlib) (1.15.0)\n",
            "Installing collected packages: fonttools, contourpy, matplotlib\n",
            "  Attempting uninstall: matplotlib\n",
            "    Found existing installation: matplotlib 3.2.2\n",
            "    Uninstalling matplotlib-3.2.2:\n",
            "      Successfully uninstalled matplotlib-3.2.2\n",
            "Successfully installed contourpy-1.0.7 fonttools-4.38.0 matplotlib-3.6.3\n"
          ]
        },
        {
          "data": {
            "application/vnd.colab-display-data+json": {
              "pip_warning": {
                "packages": [
                  "matplotlib",
                  "mpl_toolkits"
                ]
              }
            }
          },
          "metadata": {},
          "output_type": "display_data"
        }
      ],
      "source": [
        "pip install matplotlib --upgrade"
      ]
    },
    {
      "cell_type": "markdown",
      "metadata": {
        "id": "_1Nj5zqMxUsq"
      },
      "source": [
        "The reason we have to install the upgraded version of matplotlib is because .bar_level can only be used in the newest version of matplotlib."
      ]
    },
    {
      "cell_type": "markdown",
      "metadata": {
        "id": "Db-632TdpZzE"
      },
      "source": [
        "**Descriptive Statistics**"
      ]
    },
    {
      "cell_type": "code",
      "execution_count": null,
      "metadata": {
        "colab": {
          "base_uri": "https://localhost:8080/",
          "height": 300
        },
        "id": "9VMTry8KpeCZ",
        "outputId": "3f3d6c6d-696f-46be-bf31-b4839bc5f0fc"
      },
      "outputs": [
        {
          "data": {
            "text/html": [
              "\n",
              "  <div id=\"df-f98b86f3-c9be-4659-a2e3-a0f93a7dfe56\">\n",
              "    <div class=\"colab-df-container\">\n",
              "      <div>\n",
              "<style scoped>\n",
              "    .dataframe tbody tr th:only-of-type {\n",
              "        vertical-align: middle;\n",
              "    }\n",
              "\n",
              "    .dataframe tbody tr th {\n",
              "        vertical-align: top;\n",
              "    }\n",
              "\n",
              "    .dataframe thead th {\n",
              "        text-align: right;\n",
              "    }\n",
              "</style>\n",
              "<table border=\"1\" class=\"dataframe\">\n",
              "  <thead>\n",
              "    <tr style=\"text-align: right;\">\n",
              "      <th></th>\n",
              "      <th>Year</th>\n",
              "      <th>Number of pupils</th>\n",
              "    </tr>\n",
              "  </thead>\n",
              "  <tbody>\n",
              "    <tr>\n",
              "      <th>count</th>\n",
              "      <td>1740.000000</td>\n",
              "      <td>1740.000000</td>\n",
              "    </tr>\n",
              "    <tr>\n",
              "      <th>mean</th>\n",
              "      <td>2017.500000</td>\n",
              "      <td>6795.804023</td>\n",
              "    </tr>\n",
              "    <tr>\n",
              "      <th>std</th>\n",
              "      <td>0.500144</td>\n",
              "      <td>7738.972507</td>\n",
              "    </tr>\n",
              "    <tr>\n",
              "      <th>min</th>\n",
              "      <td>2017.000000</td>\n",
              "      <td>21.000000</td>\n",
              "    </tr>\n",
              "    <tr>\n",
              "      <th>25%</th>\n",
              "      <td>2017.000000</td>\n",
              "      <td>2029.250000</td>\n",
              "    </tr>\n",
              "    <tr>\n",
              "      <th>50%</th>\n",
              "      <td>2017.500000</td>\n",
              "      <td>6018.500000</td>\n",
              "    </tr>\n",
              "    <tr>\n",
              "      <th>75%</th>\n",
              "      <td>2018.000000</td>\n",
              "      <td>7187.250000</td>\n",
              "    </tr>\n",
              "    <tr>\n",
              "      <th>max</th>\n",
              "      <td>2018.000000</td>\n",
              "      <td>64934.000000</td>\n",
              "    </tr>\n",
              "  </tbody>\n",
              "</table>\n",
              "</div>\n",
              "      <button class=\"colab-df-convert\" onclick=\"convertToInteractive('df-f98b86f3-c9be-4659-a2e3-a0f93a7dfe56')\"\n",
              "              title=\"Convert this dataframe to an interactive table.\"\n",
              "              style=\"display:none;\">\n",
              "        \n",
              "  <svg xmlns=\"http://www.w3.org/2000/svg\" height=\"24px\"viewBox=\"0 0 24 24\"\n",
              "       width=\"24px\">\n",
              "    <path d=\"M0 0h24v24H0V0z\" fill=\"none\"/>\n",
              "    <path d=\"M18.56 5.44l.94 2.06.94-2.06 2.06-.94-2.06-.94-.94-2.06-.94 2.06-2.06.94zm-11 1L8.5 8.5l.94-2.06 2.06-.94-2.06-.94L8.5 2.5l-.94 2.06-2.06.94zm10 10l.94 2.06.94-2.06 2.06-.94-2.06-.94-.94-2.06-.94 2.06-2.06.94z\"/><path d=\"M17.41 7.96l-1.37-1.37c-.4-.4-.92-.59-1.43-.59-.52 0-1.04.2-1.43.59L10.3 9.45l-7.72 7.72c-.78.78-.78 2.05 0 2.83L4 21.41c.39.39.9.59 1.41.59.51 0 1.02-.2 1.41-.59l7.78-7.78 2.81-2.81c.8-.78.8-2.07 0-2.86zM5.41 20L4 18.59l7.72-7.72 1.47 1.35L5.41 20z\"/>\n",
              "  </svg>\n",
              "      </button>\n",
              "      \n",
              "  <style>\n",
              "    .colab-df-container {\n",
              "      display:flex;\n",
              "      flex-wrap:wrap;\n",
              "      gap: 12px;\n",
              "    }\n",
              "\n",
              "    .colab-df-convert {\n",
              "      background-color: #E8F0FE;\n",
              "      border: none;\n",
              "      border-radius: 50%;\n",
              "      cursor: pointer;\n",
              "      display: none;\n",
              "      fill: #1967D2;\n",
              "      height: 32px;\n",
              "      padding: 0 0 0 0;\n",
              "      width: 32px;\n",
              "    }\n",
              "\n",
              "    .colab-df-convert:hover {\n",
              "      background-color: #E2EBFA;\n",
              "      box-shadow: 0px 1px 2px rgba(60, 64, 67, 0.3), 0px 1px 3px 1px rgba(60, 64, 67, 0.15);\n",
              "      fill: #174EA6;\n",
              "    }\n",
              "\n",
              "    [theme=dark] .colab-df-convert {\n",
              "      background-color: #3B4455;\n",
              "      fill: #D2E3FC;\n",
              "    }\n",
              "\n",
              "    [theme=dark] .colab-df-convert:hover {\n",
              "      background-color: #434B5C;\n",
              "      box-shadow: 0px 1px 3px 1px rgba(0, 0, 0, 0.15);\n",
              "      filter: drop-shadow(0px 1px 2px rgba(0, 0, 0, 0.3));\n",
              "      fill: #FFFFFF;\n",
              "    }\n",
              "  </style>\n",
              "\n",
              "      <script>\n",
              "        const buttonEl =\n",
              "          document.querySelector('#df-f98b86f3-c9be-4659-a2e3-a0f93a7dfe56 button.colab-df-convert');\n",
              "        buttonEl.style.display =\n",
              "          google.colab.kernel.accessAllowed ? 'block' : 'none';\n",
              "\n",
              "        async function convertToInteractive(key) {\n",
              "          const element = document.querySelector('#df-f98b86f3-c9be-4659-a2e3-a0f93a7dfe56');\n",
              "          const dataTable =\n",
              "            await google.colab.kernel.invokeFunction('convertToInteractive',\n",
              "                                                     [key], {});\n",
              "          if (!dataTable) return;\n",
              "\n",
              "          const docLinkHtml = 'Like what you see? Visit the ' +\n",
              "            '<a target=\"_blank\" href=https://colab.research.google.com/notebooks/data_table.ipynb>data table notebook</a>'\n",
              "            + ' to learn more about interactive tables.';\n",
              "          element.innerHTML = '';\n",
              "          dataTable['output_type'] = 'display_data';\n",
              "          await google.colab.output.renderOutput(dataTable, element);\n",
              "          const docLink = document.createElement('div');\n",
              "          docLink.innerHTML = docLinkHtml;\n",
              "          element.appendChild(docLink);\n",
              "        }\n",
              "      </script>\n",
              "    </div>\n",
              "  </div>\n",
              "  "
            ],
            "text/plain": [
              "              Year  Number of pupils\n",
              "count  1740.000000       1740.000000\n",
              "mean   2017.500000       6795.804023\n",
              "std       0.500144       7738.972507\n",
              "min    2017.000000         21.000000\n",
              "25%    2017.000000       2029.250000\n",
              "50%    2017.500000       6018.500000\n",
              "75%    2018.000000       7187.250000\n",
              "max    2018.000000      64934.000000"
            ]
          },
          "execution_count": 71,
          "metadata": {},
          "output_type": "execute_result"
        }
      ],
      "source": [
        "df.describe()"
      ]
    },
    {
      "cell_type": "markdown",
      "metadata": {
        "id": "Fv4NPHasVJJ7"
      },
      "source": [
        "**1. BAR CHART : Number of Pupils versus Year** "
      ]
    },
    {
      "cell_type": "code",
      "execution_count": null,
      "metadata": {
        "colab": {
          "base_uri": "https://localhost:8080/",
          "height": 596
        },
        "id": "NKN6RIplVJJ7",
        "outputId": "a5347b72-6022-472c-e6ae-7eceab253c2f"
      },
      "outputs": [
        {
          "data": {
            "text/plain": [
              "[Text(0, 0, '6858.74'), Text(0, 0, '6732.87')]"
            ]
          },
          "execution_count": 72,
          "metadata": {},
          "output_type": "execute_result"
        },
        {
          "data": {
            "image/png": "[encoded data removed]",
            "text/plain": [
              "<Figure size 864x648 with 1 Axes>"
            ]
          },
          "metadata": {},
          "output_type": "display_data"
        }
      ],
      "source": [
        "plt.figure(figsize=(12,9))\n",
        "\n",
        "ax = sns.barplot(x='Year', y='Number of pupils', data= df, ci=None)\n",
        "plt.title(\"Number of Pupils versus Year\")\n",
        "ax.bar_label(ax.containers[0])"
      ]
    },
    {
      "cell_type": "markdown",
      "metadata": {
        "id": "-OITaAffykQq"
      },
      "source": [
        "From the bar graph above, we can see that the number of pupils in 2017 is a bit higher than the year 2018."
      ]
    },
    {
      "cell_type": "markdown",
      "metadata": {
        "id": "Dn_AW-5uVJJ7"
      },
      "source": [
        "**2. SCATTER PLOT : Number of Pupils versus Year versus State**"
      ]
    },
    {
      "cell_type": "code",
      "execution_count": null,
      "metadata": {
        "colab": {
          "base_uri": "https://localhost:8080/",
          "height": 449
        },
        "id": "nqpFZbIU4znY",
        "outputId": "fca2dc5f-7a44-4a54-d5f9-b55ac7d65b84"
      },
      "outputs": [
        {
          "output_type": "execute_result",
          "data": {
            "text/plain": [
              "Text(0.5, 1.0, 'Number of Pupils versus Year versus State')"
            ]
          },
          "metadata": {},
          "execution_count": 40
        },
        {
          "output_type": "display_data",
          "data": {
            "text/plain": [
              "<Figure size 1440x7200 with 0 Axes>"
            ]
          },
          "metadata": {}
        },
        {
          "output_type": "display_data",
          "data": {
            "text/plain": [
              "<Figure size 539.4x360 with 1 Axes>"
            ],
            "image/png": "[encoded data removed]"
          },
          "metadata": {
            "needs_background": "light"
          }
        }
      ],
      "source": [
        "palette = {\n",
        "    'Kedah': '#FF0000',\n",
        "    'Perak': '#00008B',\n",
        "    'Sarawak': '#800080',\n",
        "    'Sabah': '#FFFF00',\n",
        "    'Negeri Sembilan': '#00FF00',\n",
        "    'Kelantan ':'#FF00FF',\n",
        "    'Johor': '#FFC0CB',\n",
        "    'Pahang': '#7FFFD4',\n",
        "    'Melaka': '#800000',\n",
        "    'Perlis': '#808080',\n",
        "    'W.P. Kuala Lumpur': '#F9B7FF',\n",
        "    'W.P. Labuan': '#8C001A',\n",
        "    'W.P. Putrajaya': '#BC8F8F',\n",
        "    'Pulau Pinang': '#F8B88B',\n",
        "    'Selangor': '#5865F2',\n",
        "    'Terengganu': '#F8F6F0',\n",
        "    'MELAKA': '#B666D2',\n",
        "}\n",
        "plt.figure(figsize = (20,100))\n",
        "sns.catplot(x=\"Year\", y=\"Number of pupils\", hue=\"State\", palette=palette, data=df);\n",
        "plt.title(\"Number of Pupils versus Year versus State\")"
      ]
    },
    {
      "cell_type": "markdown",
      "metadata": {
        "id": "exFiLP60BnA4"
      },
      "source": [
        "Based on the scatter plot above, we can see most of the schools in W.P. Kuala Lumpur has the highest amount of pupils for both years while most of the schools in Terengganu has the least amount of pupils for both years."
      ]
    },
    {
      "cell_type": "markdown",
      "metadata": {
        "id": "rN1bUu8RVJJ7"
      },
      "source": [
        "**3. PIE CHART : Number of Pupils versus District Education Office**"
      ]
    },
    {
      "cell_type": "code",
      "execution_count": null,
      "metadata": {
        "colab": {
          "base_uri": "https://localhost:8080/"
        },
        "id": "RSt7KlcfVJJ8",
        "outputId": "5c2d7cbe-60be-4553-d020-d76a74254b99"
      },
      "outputs": [
        {
          "output_type": "execute_result",
          "data": {
            "text/plain": [
              "District Education Office\n",
              "Melaka Tengah            806491\n",
              "Hulu Langat              326302\n",
              "Klang                    306729\n",
              "Pasir Gudang             258162\n",
              "Gombak                   242323\n",
              "Johor Bahru              241652\n",
              "Petaling Perdana         208631\n",
              "Kinta Utara              203734\n",
              "Seremban                 201215\n",
              "Kuala Muda               192425\n",
              "Kota Bharu               178681\n",
              "Petaling Utama           175794\n",
              "Kuantan                  160936\n",
              "Batu Pahat               139791\n",
              "Kulai                    138715\n",
              "Petaling Perdana         137461\n",
              "Kota Kinabalu            130763\n",
              "Kota Setar               129997\n",
              "Daerah Timor Laut        123315\n",
              "Seberang Perai Tengah    122580\n",
              "Name: Number of pupils, dtype: int64"
            ]
          },
          "metadata": {},
          "execution_count": 24
        }
      ],
      "source": [
        "data = df.groupby(\"District Education Office\")[\"Number of pupils\"].agg('sum').sort_values(ascending=False) \n",
        "data = data.head(20)\n",
        "data"
      ]
    },
    {
      "cell_type": "code",
      "source": [
        "plt.figure(figsize = (20,100))\n",
        "plt.title('Number of Pupils versus District Education Office')\n",
        "data.plot.pie(autopct=\"%.1f%%\")"
      ],
      "metadata": {
        "colab": {
          "base_uri": "https://localhost:8080/",
          "height": 1000
        },
        "id": "lFnEzOYBnplk",
        "outputId": "90bce046-8c86-42a8-e935-d5aef82f9789"
      },
      "execution_count": null,
      "outputs": [
        {
          "output_type": "execute_result",
          "data": {
            "text/plain": [
              "<AxesSubplot: title={'center': 'Number of Pupils versus District Education Office'}, ylabel='Number of pupils'>"
            ]
          },
          "metadata": {},
          "execution_count": 25
        },
        {
          "output_type": "display_data",
          "data": {
            "text/plain": [
              "<Figure size 1440x7200 with 1 Axes>"
            ],
            "image/png": "[encoded data removed]"
          },
          "metadata": {}
        }
      ]
    },
    {
      "cell_type": "markdown",
      "metadata": {
        "id": "_BR5PfDWKb-x"
      },
      "source": [
        "From the pie chart above, we can see the top 20 district of education offices with the most number of pupils. As shown above, the district with the most number of pupils is Melaka Tengah with the number of percentage of 18.2%."
      ]
    },
    {
      "cell_type": "markdown",
      "metadata": {
        "id": "tLNLw0EOVJJ8"
      },
      "source": [
        "**4. LINE PLOT : Number of Pupils versus School Type versus Sex**"
      ]
    },
    {
      "cell_type": "code",
      "execution_count": null,
      "metadata": {
        "colab": {
          "base_uri": "https://localhost:8080/",
          "height": 632
        },
        "id": "fOQ9cTWiVJJ8",
        "outputId": "4a90ac11-cdc0-4c93-e6e2-91ffd8f591d3"
      },
      "outputs": [
        {
          "output_type": "execute_result",
          "data": {
            "text/plain": [
              "<matplotlib.legend.Legend at 0x7f7b56ec9490>"
            ]
          },
          "metadata": {},
          "execution_count": 65
        },
        {
          "output_type": "display_data",
          "data": {
            "text/plain": [
              "<Figure size 1296x720 with 1 Axes>"
            ],
            "image/png": "[encoded data removed]"
          },
          "metadata": {
            "needs_background": "light"
          }
        }
      ],
      "source": [
        "plt.figure(figsize = (18,10))\n",
        "sns.lineplot(x='School type', y='Number of pupils', hue='Sex', data=df, err_style=None)\n",
        "plt.legend(loc='upper left')"
      ]
    },
    {
      "cell_type": "markdown",
      "metadata": {
        "id": "-ftrCSeaQ3f4"
      },
      "source": [
        "Based on the line plot above, we can see that Academic schools have more female students compared to male students. However, male students dominate Vocational college and also more likely to not go to any schools."
      ]
    },
    {
      "cell_type": "markdown",
      "metadata": {
        "id": "nt_CVhi-VJJ8"
      },
      "source": [
        "**5. Kernel Density Estimate Chart (KDE)**\n",
        "\n",
        "A kernel density estimate (KDE) plot is a method for visualizing the distribution of observations in a dataset, analogous to a histogram. KDE represents the data using a continuous probability density curve in one or more dimensions.\n",
        "\n"
      ]
    },
    {
      "cell_type": "code",
      "execution_count": null,
      "metadata": {
        "colab": {
          "base_uri": "https://localhost:8080/",
          "height": 373
        },
        "id": "Zatc4Si_VJJ8",
        "outputId": "2b7921f0-b2ec-49c8-dc55-462d45455c3e"
      },
      "outputs": [
        {
          "data": {
            "text/plain": [
              "<AxesSubplot: xlabel='Number of pupils', ylabel='Density'>"
            ]
          },
          "execution_count": 81,
          "metadata": {},
          "output_type": "execute_result"
        },
        {
          "data": {
            "image/png": "[encoded data removed]",
            "text/plain": [
              "<Figure size 648x360 with 1 Axes>"
            ]
          },
          "metadata": {},
          "output_type": "display_data"
        }
      ],
      "source": [
        "sns.kdeplot(df['Number of pupils'], color='green', shade=True)"
      ]
    },
    {
      "cell_type": "markdown",
      "metadata": {
        "id": "RtV3X306E5Up"
      },
      "source": [
        "From the graph above, we can see that the density is more focused on the right side of the graph. Hence, we can conclude the graph is right-skewed which implies that the mean is greater than the median. Below proves that the mean (6795.80) is greater than the median (6018.50)."
      ]
    },
    {
      "cell_type": "code",
      "execution_count": null,
      "metadata": {
        "colab": {
          "base_uri": "https://localhost:8080/",
          "height": 300
        },
        "id": "kMrm6CiAVJJ8",
        "outputId": "924fe768-48a2-4495-eaa3-754203d0d0cb"
      },
      "outputs": [
        {
          "data": {
            "text/html": [
              "\n",
              "  <div id=\"df-824b5064-b08a-4dc6-a18b-05624830e07e\">\n",
              "    <div class=\"colab-df-container\">\n",
              "      <div>\n",
              "<style scoped>\n",
              "    .dataframe tbody tr th:only-of-type {\n",
              "        vertical-align: middle;\n",
              "    }\n",
              "\n",
              "    .dataframe tbody tr th {\n",
              "        vertical-align: top;\n",
              "    }\n",
              "\n",
              "    .dataframe thead th {\n",
              "        text-align: right;\n",
              "    }\n",
              "</style>\n",
              "<table border=\"1\" class=\"dataframe\">\n",
              "  <thead>\n",
              "    <tr style=\"text-align: right;\">\n",
              "      <th></th>\n",
              "      <th>Year</th>\n",
              "      <th>Number of pupils</th>\n",
              "    </tr>\n",
              "  </thead>\n",
              "  <tbody>\n",
              "    <tr>\n",
              "      <th>count</th>\n",
              "      <td>1740.000000</td>\n",
              "      <td>1740.000000</td>\n",
              "    </tr>\n",
              "    <tr>\n",
              "      <th>mean</th>\n",
              "      <td>2017.500000</td>\n",
              "      <td>6795.804023</td>\n",
              "    </tr>\n",
              "    <tr>\n",
              "      <th>std</th>\n",
              "      <td>0.500144</td>\n",
              "      <td>7738.972507</td>\n",
              "    </tr>\n",
              "    <tr>\n",
              "      <th>min</th>\n",
              "      <td>2017.000000</td>\n",
              "      <td>21.000000</td>\n",
              "    </tr>\n",
              "    <tr>\n",
              "      <th>25%</th>\n",
              "      <td>2017.000000</td>\n",
              "      <td>2029.250000</td>\n",
              "    </tr>\n",
              "    <tr>\n",
              "      <th>50%</th>\n",
              "      <td>2017.500000</td>\n",
              "      <td>6018.500000</td>\n",
              "    </tr>\n",
              "    <tr>\n",
              "      <th>75%</th>\n",
              "      <td>2018.000000</td>\n",
              "      <td>7187.250000</td>\n",
              "    </tr>\n",
              "    <tr>\n",
              "      <th>max</th>\n",
              "      <td>2018.000000</td>\n",
              "      <td>64934.000000</td>\n",
              "    </tr>\n",
              "  </tbody>\n",
              "</table>\n",
              "</div>\n",
              "      <button class=\"colab-df-convert\" onclick=\"convertToInteractive('df-824b5064-b08a-4dc6-a18b-05624830e07e')\"\n",
              "              title=\"Convert this dataframe to an interactive table.\"\n",
              "              style=\"display:none;\">\n",
              "        \n",
              "  <svg xmlns=\"http://www.w3.org/2000/svg\" height=\"24px\"viewBox=\"0 0 24 24\"\n",
              "       width=\"24px\">\n",
              "    <path d=\"M0 0h24v24H0V0z\" fill=\"none\"/>\n",
              "    <path d=\"M18.56 5.44l.94 2.06.94-2.06 2.06-.94-2.06-.94-.94-2.06-.94 2.06-2.06.94zm-11 1L8.5 8.5l.94-2.06 2.06-.94-2.06-.94L8.5 2.5l-.94 2.06-2.06.94zm10 10l.94 2.06.94-2.06 2.06-.94-2.06-.94-.94-2.06-.94 2.06-2.06.94z\"/><path d=\"M17.41 7.96l-1.37-1.37c-.4-.4-.92-.59-1.43-.59-.52 0-1.04.2-1.43.59L10.3 9.45l-7.72 7.72c-.78.78-.78 2.05 0 2.83L4 21.41c.39.39.9.59 1.41.59.51 0 1.02-.2 1.41-.59l7.78-7.78 2.81-2.81c.8-.78.8-2.07 0-2.86zM5.41 20L4 18.59l7.72-7.72 1.47 1.35L5.41 20z\"/>\n",
              "  </svg>\n",
              "      </button>\n",
              "      \n",
              "  <style>\n",
              "    .colab-df-container {\n",
              "      display:flex;\n",
              "      flex-wrap:wrap;\n",
              "      gap: 12px;\n",
              "    }\n",
              "\n",
              "    .colab-df-convert {\n",
              "      background-color: #E8F0FE;\n",
              "      border: none;\n",
              "      border-radius: 50%;\n",
              "      cursor: pointer;\n",
              "      display: none;\n",
              "      fill: #1967D2;\n",
              "      height: 32px;\n",
              "      padding: 0 0 0 0;\n",
              "      width: 32px;\n",
              "    }\n",
              "\n",
              "    .colab-df-convert:hover {\n",
              "      background-color: #E2EBFA;\n",
              "      box-shadow: 0px 1px 2px rgba(60, 64, 67, 0.3), 0px 1px 3px 1px rgba(60, 64, 67, 0.15);\n",
              "      fill: #174EA6;\n",
              "    }\n",
              "\n",
              "    [theme=dark] .colab-df-convert {\n",
              "      background-color: #3B4455;\n",
              "      fill: #D2E3FC;\n",
              "    }\n",
              "\n",
              "    [theme=dark] .colab-df-convert:hover {\n",
              "      background-color: #434B5C;\n",
              "      box-shadow: 0px 1px 3px 1px rgba(0, 0, 0, 0.15);\n",
              "      filter: drop-shadow(0px 1px 2px rgba(0, 0, 0, 0.3));\n",
              "      fill: #FFFFFF;\n",
              "    }\n",
              "  </style>\n",
              "\n",
              "      <script>\n",
              "        const buttonEl =\n",
              "          document.querySelector('#df-824b5064-b08a-4dc6-a18b-05624830e07e button.colab-df-convert');\n",
              "        buttonEl.style.display =\n",
              "          google.colab.kernel.accessAllowed ? 'block' : 'none';\n",
              "\n",
              "        async function convertToInteractive(key) {\n",
              "          const element = document.querySelector('#df-824b5064-b08a-4dc6-a18b-05624830e07e');\n",
              "          const dataTable =\n",
              "            await google.colab.kernel.invokeFunction('convertToInteractive',\n",
              "                                                     [key], {});\n",
              "          if (!dataTable) return;\n",
              "\n",
              "          const docLinkHtml = 'Like what you see? Visit the ' +\n",
              "            '<a target=\"_blank\" href=https://colab.research.google.com/notebooks/data_table.ipynb>data table notebook</a>'\n",
              "            + ' to learn more about interactive tables.';\n",
              "          element.innerHTML = '';\n",
              "          dataTable['output_type'] = 'display_data';\n",
              "          await google.colab.output.renderOutput(dataTable, element);\n",
              "          const docLink = document.createElement('div');\n",
              "          docLink.innerHTML = docLinkHtml;\n",
              "          element.appendChild(docLink);\n",
              "        }\n",
              "      </script>\n",
              "    </div>\n",
              "  </div>\n",
              "  "
            ],
            "text/plain": [
              "              Year  Number of pupils\n",
              "count  1740.000000       1740.000000\n",
              "mean   2017.500000       6795.804023\n",
              "std       0.500144       7738.972507\n",
              "min    2017.000000         21.000000\n",
              "25%    2017.000000       2029.250000\n",
              "50%    2017.500000       6018.500000\n",
              "75%    2018.000000       7187.250000\n",
              "max    2018.000000      64934.000000"
            ]
          },
          "execution_count": 82,
          "metadata": {},
          "output_type": "execute_result"
        }
      ],
      "source": [
        "df.describe()"
      ]
    },
    {
      "cell_type": "markdown",
      "metadata": {
        "id": "E0U3IWm8VJJ9"
      },
      "source": [
        "## Asking and Answering Questions\n",
        "\n",
        "For this section, there are 5 questions overall that needs to be answered and we will be using Pandas, T-Test and Visualization(Matplotlib & Seaborn) to answer those questions.\n",
        "\n"
      ]
    },
    {
      "cell_type": "markdown",
      "metadata": {
        "id": "c_REVnrhVJJ-"
      },
      "source": [
        "#### Q1: How many schools are there in each state and which state has the highest amount of schools?"
      ]
    },
    {
      "cell_type": "code",
      "execution_count": null,
      "metadata": {
        "colab": {
          "base_uri": "https://localhost:8080/"
        },
        "id": "ShA3QyQpVJJ-",
        "outputId": "2733dcbc-830f-4c8b-b1d7-a0f75ac014f5"
      },
      "outputs": [
        {
          "data": {
            "text/plain": [
              "Sarawak              360\n",
              "Sabah                288\n",
              "Kedah                144\n",
              "Johor                132\n",
              "Pahang               132\n",
              "Perak                132\n",
              "Kelantan             120\n",
              "Selangor             120\n",
              "Terengganu            96\n",
              "Negeri Sembilan       72\n",
              "Pulau Pinang          60\n",
              "Melaka                24\n",
              "W.P. Putrajaya        12\n",
              "W.P. Labuan           12\n",
              "W.P. Kuala Lumpur     12\n",
              "Perlis                12\n",
              "MELAKA                12\n",
              "Name: State, dtype: int64"
            ]
          },
          "execution_count": 83,
          "metadata": {},
          "output_type": "execute_result"
        }
      ],
      "source": [
        "max = df['State'].value_counts()\n",
        "max"
      ]
    },
    {
      "cell_type": "code",
      "execution_count": null,
      "metadata": {
        "colab": {
          "base_uri": "https://localhost:8080/",
          "height": 324
        },
        "id": "Zle4fsHZzar-",
        "outputId": "c910eee2-9981-434d-ba00-e1db62b64dea"
      },
      "outputs": [
        {
          "data": {
            "image/png": "[encoded data removed]",
            "text/plain": [
              "<Figure size 648x360 with 1 Axes>"
            ]
          },
          "metadata": {},
          "output_type": "display_data"
        }
      ],
      "source": [
        "plt.bar(max.index[:5], max.values[:5], width=0.8)\n",
        "plt.show()"
      ]
    },
    {
      "cell_type": "markdown",
      "metadata": {
        "id": "w6dOO2QvhH16"
      },
      "source": [
        "The state that has the highest amount of schools is Sarawak with 360 schools."
      ]
    },
    {
      "cell_type": "markdown",
      "metadata": {
        "id": "7Lor5rHMVJJ9"
      },
      "source": [
        "#### Q2: What are the top 10 District Education Office according to the average number of pupils?"
      ]
    },
    {
      "cell_type": "code",
      "execution_count": null,
      "metadata": {
        "colab": {
          "base_uri": "https://localhost:8080/"
        },
        "id": "D-PdOKqCVJJ9",
        "outputId": "53eecfc8-0515-4c45-97c3-def77e8292ef"
      },
      "outputs": [
        {
          "name": "stdout",
          "output_type": "stream",
          "text": [
            "District Education Office\n",
            "Petaling Perdana     52157.750000\n",
            "Hulu Langat          27191.833333\n",
            "Klang                25560.750000\n",
            "Pasir Gudang         21513.500000\n",
            "Gombak               20193.583333\n",
            "Johor Bahru          20137.666667\n",
            "Petaling Perdana     17182.625000\n",
            "Kinta Utara          16977.833333\n",
            "Seremban             16767.916667\n",
            "Kuala Muda           16035.416667\n",
            "Name: Number of pupils, dtype: float64\n"
          ]
        }
      ],
      "source": [
        "top_eduoffice = df.groupby('District Education Office')['Number of pupils'].mean().sort_values(ascending=False)[:10]\n",
        "print(top_eduoffice)"
      ]
    },
    {
      "cell_type": "markdown",
      "metadata": {
        "id": "tGZNix8CU9oO"
      },
      "source": [
        "The top 10 District Education Office according to the average number of pupils are Petaling Perdana, Hulu Langat, Klang, Pasir Gudang, Gombak, Johor Bahru, Petaling Perdana, Kinta Utara, Seremban and Kuala Muda with the highest average of 52157.75."
      ]
    },
    {
      "cell_type": "markdown",
      "metadata": {
        "id": "ya3o0SurVJJ-"
      },
      "source": [
        "#### Q3: What is the relationship between the column Year and Number of pupils?"
      ]
    },
    {
      "cell_type": "code",
      "execution_count": null,
      "metadata": {
        "colab": {
          "base_uri": "https://localhost:8080/",
          "height": 424
        },
        "id": "CaF9SiPeVJJ-",
        "outputId": "1e889594-3cce-49ca-a570-8606aba8f495"
      },
      "outputs": [
        {
          "data": {
            "text/html": [
              "\n",
              "  <div id=\"df-4aee119d-6db4-405c-a427-45d77d82f6fe\">\n",
              "    <div class=\"colab-df-container\">\n",
              "      <div>\n",
              "<style scoped>\n",
              "    .dataframe tbody tr th:only-of-type {\n",
              "        vertical-align: middle;\n",
              "    }\n",
              "\n",
              "    .dataframe tbody tr th {\n",
              "        vertical-align: top;\n",
              "    }\n",
              "\n",
              "    .dataframe thead th {\n",
              "        text-align: right;\n",
              "    }\n",
              "</style>\n",
              "<table border=\"1\" class=\"dataframe\">\n",
              "  <thead>\n",
              "    <tr style=\"text-align: right;\">\n",
              "      <th></th>\n",
              "      <th>Year</th>\n",
              "      <th>Number of pupils</th>\n",
              "    </tr>\n",
              "  </thead>\n",
              "  <tbody>\n",
              "    <tr>\n",
              "      <th>Year</th>\n",
              "      <td>1.000000</td>\n",
              "      <td>-0.008134</td>\n",
              "    </tr>\n",
              "    <tr>\n",
              "      <th>Number of pupils</th>\n",
              "      <td>-0.008134</td>\n",
              "      <td>1.000000</td>\n",
              "    </tr>\n",
              "  </tbody>\n",
              "</table>\n",
              "</div>\n",
              "      <button class=\"colab-df-convert\" onclick=\"convertToInteractive('df-4aee119d-6db4-405c-a427-45d77d82f6fe')\"\n",
              "              title=\"Convert this dataframe to an interactive table.\"\n",
              "              style=\"display:none;\">\n",
              "        \n",
              "  <svg xmlns=\"http://www.w3.org/2000/svg\" height=\"24px\"viewBox=\"0 0 24 24\"\n",
              "       width=\"24px\">\n",
              "    <path d=\"M0 0h24v24H0V0z\" fill=\"none\"/>\n",
              "    <path d=\"M18.56 5.44l.94 2.06.94-2.06 2.06-.94-2.06-.94-.94-2.06-.94 2.06-2.06.94zm-11 1L8.5 8.5l.94-2.06 2.06-.94-2.06-.94L8.5 2.5l-.94 2.06-2.06.94zm10 10l.94 2.06.94-2.06 2.06-.94-2.06-.94-.94-2.06-.94 2.06-2.06.94z\"/><path d=\"M17.41 7.96l-1.37-1.37c-.4-.4-.92-.59-1.43-.59-.52 0-1.04.2-1.43.59L10.3 9.45l-7.72 7.72c-.78.78-.78 2.05 0 2.83L4 21.41c.39.39.9.59 1.41.59.51 0 1.02-.2 1.41-.59l7.78-7.78 2.81-2.81c.8-.78.8-2.07 0-2.86zM5.41 20L4 18.59l7.72-7.72 1.47 1.35L5.41 20z\"/>\n",
              "  </svg>\n",
              "      </button>\n",
              "      \n",
              "  <style>\n",
              "    .colab-df-container {\n",
              "      display:flex;\n",
              "      flex-wrap:wrap;\n",
              "      gap: 12px;\n",
              "    }\n",
              "\n",
              "    .colab-df-convert {\n",
              "      background-color: #E8F0FE;\n",
              "      border: none;\n",
              "      border-radius: 50%;\n",
              "      cursor: pointer;\n",
              "      display: none;\n",
              "      fill: #1967D2;\n",
              "      height: 32px;\n",
              "      padding: 0 0 0 0;\n",
              "      width: 32px;\n",
              "    }\n",
              "\n",
              "    .colab-df-convert:hover {\n",
              "      background-color: #E2EBFA;\n",
              "      box-shadow: 0px 1px 2px rgba(60, 64, 67, 0.3), 0px 1px 3px 1px rgba(60, 64, 67, 0.15);\n",
              "      fill: #174EA6;\n",
              "    }\n",
              "\n",
              "    [theme=dark] .colab-df-convert {\n",
              "      background-color: #3B4455;\n",
              "      fill: #D2E3FC;\n",
              "    }\n",
              "\n",
              "    [theme=dark] .colab-df-convert:hover {\n",
              "      background-color: #434B5C;\n",
              "      box-shadow: 0px 1px 3px 1px rgba(0, 0, 0, 0.15);\n",
              "      filter: drop-shadow(0px 1px 2px rgba(0, 0, 0, 0.3));\n",
              "      fill: #FFFFFF;\n",
              "    }\n",
              "  </style>\n",
              "\n",
              "      <script>\n",
              "        const buttonEl =\n",
              "          document.querySelector('#df-4aee119d-6db4-405c-a427-45d77d82f6fe button.colab-df-convert');\n",
              "        buttonEl.style.display =\n",
              "          google.colab.kernel.accessAllowed ? 'block' : 'none';\n",
              "\n",
              "        async function convertToInteractive(key) {\n",
              "          const element = document.querySelector('#df-4aee119d-6db4-405c-a427-45d77d82f6fe');\n",
              "          const dataTable =\n",
              "            await google.colab.kernel.invokeFunction('convertToInteractive',\n",
              "                                                     [key], {});\n",
              "          if (!dataTable) return;\n",
              "\n",
              "          const docLinkHtml = 'Like what you see? Visit the ' +\n",
              "            '<a target=\"_blank\" href=https://colab.research.google.com/notebooks/data_table.ipynb>data table notebook</a>'\n",
              "            + ' to learn more about interactive tables.';\n",
              "          element.innerHTML = '';\n",
              "          dataTable['output_type'] = 'display_data';\n",
              "          await google.colab.output.renderOutput(dataTable, element);\n",
              "          const docLink = document.createElement('div');\n",
              "          docLink.innerHTML = docLinkHtml;\n",
              "          element.appendChild(docLink);\n",
              "        }\n",
              "      </script>\n",
              "    </div>\n",
              "  </div>\n",
              "  "
            ],
            "text/plain": [
              "                      Year  Number of pupils\n",
              "Year              1.000000         -0.008134\n",
              "Number of pupils -0.008134          1.000000"
            ]
          },
          "execution_count": 86,
          "metadata": {},
          "output_type": "execute_result"
        },
        {
          "data": {
            "image/png": "[encoded data removed]",
            "text/plain": [
              "<Figure size 720x360 with 2 Axes>"
            ]
          },
          "metadata": {},
          "output_type": "display_data"
        }
      ],
      "source": [
        "plt.figure(figsize=(10,5))\n",
        "c= df.corr()\n",
        "sns.heatmap(c,cmap=\"crest\",annot=True)\n",
        "c"
      ]
    },
    {
      "cell_type": "markdown",
      "metadata": {
        "id": "-jT-FVpLyNNg"
      },
      "source": [
        "Based on the heatmap above. it shows that the Year and Number of pupils have a negative correlation. Hence, this implies that when one variable increases, the other variable decreases."
      ]
    },
    {
      "cell_type": "markdown",
      "metadata": {
        "id": "p4CcVO1TVJJ-"
      },
      "source": [
        "#### Q4: What gender are the most common in each school types?\n",
        "\n"
      ]
    },
    {
      "cell_type": "code",
      "execution_count": null,
      "metadata": {
        "colab": {
          "base_uri": "https://localhost:8080/",
          "height": 269
        },
        "id": "Wa96BGX1VJJ-",
        "outputId": "e7293301-cf11-44a9-b256-c6e1ef733b4e"
      },
      "outputs": [
        {
          "data": {
            "text/html": [
              "\n",
              "  <div id=\"df-c64fe127-0364-4e12-8a51-f15af08608e8\">\n",
              "    <div class=\"colab-df-container\">\n",
              "      <div>\n",
              "<style scoped>\n",
              "    .dataframe tbody tr th:only-of-type {\n",
              "        vertical-align: middle;\n",
              "    }\n",
              "\n",
              "    .dataframe tbody tr th {\n",
              "        vertical-align: top;\n",
              "    }\n",
              "\n",
              "    .dataframe thead th {\n",
              "        text-align: right;\n",
              "    }\n",
              "</style>\n",
              "<table border=\"1\" class=\"dataframe\">\n",
              "  <thead>\n",
              "    <tr style=\"text-align: right;\">\n",
              "      <th></th>\n",
              "      <th></th>\n",
              "      <th>Number of pupils</th>\n",
              "    </tr>\n",
              "    <tr>\n",
              "      <th>School type</th>\n",
              "      <th>Sex</th>\n",
              "      <th></th>\n",
              "    </tr>\n",
              "  </thead>\n",
              "  <tbody>\n",
              "    <tr>\n",
              "      <th rowspan=\"2\" valign=\"top\">No school type</th>\n",
              "      <th>Male</th>\n",
              "      <td>2810260</td>\n",
              "    </tr>\n",
              "    <tr>\n",
              "      <th>Female</th>\n",
              "      <td>2671868</td>\n",
              "    </tr>\n",
              "    <tr>\n",
              "      <th rowspan=\"2\" valign=\"top\">Academic</th>\n",
              "      <th>Female</th>\n",
              "      <td>2153100</td>\n",
              "    </tr>\n",
              "    <tr>\n",
              "      <th>Male</th>\n",
              "      <td>2044628</td>\n",
              "    </tr>\n",
              "    <tr>\n",
              "      <th rowspan=\"2\" valign=\"top\">Vocational College</th>\n",
              "      <th>Male</th>\n",
              "      <td>1089387</td>\n",
              "    </tr>\n",
              "    <tr>\n",
              "      <th>Female</th>\n",
              "      <td>1055456</td>\n",
              "    </tr>\n",
              "  </tbody>\n",
              "</table>\n",
              "</div>\n",
              "      <button class=\"colab-df-convert\" onclick=\"convertToInteractive('df-c64fe127-0364-4e12-8a51-f15af08608e8')\"\n",
              "              title=\"Convert this dataframe to an interactive table.\"\n",
              "              style=\"display:none;\">\n",
              "        \n",
              "  <svg xmlns=\"http://www.w3.org/2000/svg\" height=\"24px\"viewBox=\"0 0 24 24\"\n",
              "       width=\"24px\">\n",
              "    <path d=\"M0 0h24v24H0V0z\" fill=\"none\"/>\n",
              "    <path d=\"M18.56 5.44l.94 2.06.94-2.06 2.06-.94-2.06-.94-.94-2.06-.94 2.06-2.06.94zm-11 1L8.5 8.5l.94-2.06 2.06-.94-2.06-.94L8.5 2.5l-.94 2.06-2.06.94zm10 10l.94 2.06.94-2.06 2.06-.94-2.06-.94-.94-2.06-.94 2.06-2.06.94z\"/><path d=\"M17.41 7.96l-1.37-1.37c-.4-.4-.92-.59-1.43-.59-.52 0-1.04.2-1.43.59L10.3 9.45l-7.72 7.72c-.78.78-.78 2.05 0 2.83L4 21.41c.39.39.9.59 1.41.59.51 0 1.02-.2 1.41-.59l7.78-7.78 2.81-2.81c.8-.78.8-2.07 0-2.86zM5.41 20L4 18.59l7.72-7.72 1.47 1.35L5.41 20z\"/>\n",
              "  </svg>\n",
              "      </button>\n",
              "      \n",
              "  <style>\n",
              "    .colab-df-container {\n",
              "      display:flex;\n",
              "      flex-wrap:wrap;\n",
              "      gap: 12px;\n",
              "    }\n",
              "\n",
              "    .colab-df-convert {\n",
              "      background-color: #E8F0FE;\n",
              "      border: none;\n",
              "      border-radius: 50%;\n",
              "      cursor: pointer;\n",
              "      display: none;\n",
              "      fill: #1967D2;\n",
              "      height: 32px;\n",
              "      padding: 0 0 0 0;\n",
              "      width: 32px;\n",
              "    }\n",
              "\n",
              "    .colab-df-convert:hover {\n",
              "      background-color: #E2EBFA;\n",
              "      box-shadow: 0px 1px 2px rgba(60, 64, 67, 0.3), 0px 1px 3px 1px rgba(60, 64, 67, 0.15);\n",
              "      fill: #174EA6;\n",
              "    }\n",
              "\n",
              "    [theme=dark] .colab-df-convert {\n",
              "      background-color: #3B4455;\n",
              "      fill: #D2E3FC;\n",
              "    }\n",
              "\n",
              "    [theme=dark] .colab-df-convert:hover {\n",
              "      background-color: #434B5C;\n",
              "      box-shadow: 0px 1px 3px 1px rgba(0, 0, 0, 0.15);\n",
              "      filter: drop-shadow(0px 1px 2px rgba(0, 0, 0, 0.3));\n",
              "      fill: #FFFFFF;\n",
              "    }\n",
              "  </style>\n",
              "\n",
              "      <script>\n",
              "        const buttonEl =\n",
              "          document.querySelector('#df-c64fe127-0364-4e12-8a51-f15af08608e8 button.colab-df-convert');\n",
              "        buttonEl.style.display =\n",
              "          google.colab.kernel.accessAllowed ? 'block' : 'none';\n",
              "\n",
              "        async function convertToInteractive(key) {\n",
              "          const element = document.querySelector('#df-c64fe127-0364-4e12-8a51-f15af08608e8');\n",
              "          const dataTable =\n",
              "            await google.colab.kernel.invokeFunction('convertToInteractive',\n",
              "                                                     [key], {});\n",
              "          if (!dataTable) return;\n",
              "\n",
              "          const docLinkHtml = 'Like what you see? Visit the ' +\n",
              "            '<a target=\"_blank\" href=https://colab.research.google.com/notebooks/data_table.ipynb>data table notebook</a>'\n",
              "            + ' to learn more about interactive tables.';\n",
              "          element.innerHTML = '';\n",
              "          dataTable['output_type'] = 'display_data';\n",
              "          await google.colab.output.renderOutput(dataTable, element);\n",
              "          const docLink = document.createElement('div');\n",
              "          docLink.innerHTML = docLinkHtml;\n",
              "          element.appendChild(docLink);\n",
              "        }\n",
              "      </script>\n",
              "    </div>\n",
              "  </div>\n",
              "  "
            ],
            "text/plain": [
              "                           Number of pupils\n",
              "School type        Sex                     \n",
              "No school type     Male             2810260\n",
              "                   Female           2671868\n",
              "Academic           Female           2153100\n",
              "                   Male             2044628\n",
              "Vocational College Male             1089387\n",
              "                   Female           1055456"
            ]
          },
          "execution_count": 110,
          "metadata": {},
          "output_type": "execute_result"
        }
      ],
      "source": [
        "data = pd.DataFrame(df.groupby(['School type','Sex'])['Number of pupils'].sum().sort_values(ascending=False))\n",
        "data"
      ]
    },
    {
      "cell_type": "markdown",
      "metadata": {
        "id": "AGn2eZ1SB_V5"
      },
      "source": [
        "As you can see, male dominates the no school and vocational college school type while female dominates the academic school type."
      ]
    },
    {
      "cell_type": "markdown",
      "metadata": {
        "id": "uFuZBqX1VJJ_"
      },
      "source": [
        "#### Q5: Is there a significant difference in the means between Number of pupils and Gender?"
      ]
    },
    {
      "cell_type": "code",
      "execution_count": null,
      "metadata": {
        "colab": {
          "base_uri": "https://localhost:8080/"
        },
        "id": "ar2n15FqCuxR",
        "outputId": "ef95888b-6a5f-4e5f-bb34-1da651d50ca2"
      },
      "outputs": [
        {
          "name": "stdout",
          "output_type": "stream",
          "text": [
            "Looking in indexes: https://pypi.org/simple, https://us-python.pkg.dev/colab-wheels/public/simple/\n",
            "Collecting researchpy\n",
            "  Downloading researchpy-0.3.5-py3-none-any.whl (33 kB)\n",
            "Requirement already satisfied: numpy in /usr/local/lib/python3.8/dist-packages (from researchpy) (1.21.6)\n",
            "Requirement already satisfied: pandas in /usr/local/lib/python3.8/dist-packages (from researchpy) (1.3.5)\n",
            "Requirement already satisfied: statsmodels in /usr/local/lib/python3.8/dist-packages (from researchpy) (0.12.2)\n",
            "Requirement already satisfied: patsy in /usr/local/lib/python3.8/dist-packages (from researchpy) (0.5.3)\n",
            "Requirement already satisfied: scipy in /usr/local/lib/python3.8/dist-packages (from researchpy) (1.7.3)\n",
            "Requirement already satisfied: python-dateutil>=2.7.3 in /usr/local/lib/python3.8/dist-packages (from pandas->researchpy) (2.8.2)\n",
            "Requirement already satisfied: pytz>=2017.3 in /usr/local/lib/python3.8/dist-packages (from pandas->researchpy) (2022.6)\n",
            "Requirement already satisfied: six>=1.5 in /usr/local/lib/python3.8/dist-packages (from python-dateutil>=2.7.3->pandas->researchpy) (1.15.0)\n",
            "Installing collected packages: researchpy\n",
            "Successfully installed researchpy-0.3.5\n"
          ]
        }
      ],
      "source": [
        "pip install researchpy"
      ]
    },
    {
      "cell_type": "code",
      "execution_count": null,
      "metadata": {
        "id": "0XCOkgIHVJJ_"
      },
      "outputs": [],
      "source": [
        "import researchpy as rp\n",
        "import scipy.stats as stats"
      ]
    },
    {
      "cell_type": "code",
      "execution_count": null,
      "metadata": {
        "colab": {
          "base_uri": "https://localhost:8080/"
        },
        "id": "MMExemAYVJJ_",
        "outputId": "84f8f141-e1ac-44bb-b363-ee617a3a899b"
      },
      "outputs": [
        {
          "name": "stdout",
          "output_type": "stream",
          "text": [
            "   Variable       N         Mean           SD          SE    95% Conf.  \\\n",
            "0      Male   870.0  6832.500000  7814.385842  264.932492  6312.517630   \n",
            "1    Female   870.0  6759.108046  7667.136937  259.940287  6248.923866   \n",
            "2  combined  1740.0  6795.804023  7738.972507  185.527665  6431.923218   \n",
            "\n",
            "      Interval  \n",
            "0  7352.482370  \n",
            "1  7269.292226  \n",
            "2  7159.684828  \n"
          ]
        }
      ],
      "source": [
        "summary, results = rp.ttest(group1= df['Number of pupils'][df['Sex'] == 'Male'], group1_name= \"Male\",\n",
        "         group2= df['Number of pupils'][df['Sex'] == 'Female'], group2_name= \"Female\")\n",
        "print(summary)"
      ]
    },
    {
      "cell_type": "code",
      "execution_count": null,
      "metadata": {
        "colab": {
          "base_uri": "https://localhost:8080/"
        },
        "id": "UVos1KjKDKQz",
        "outputId": "226a0d55-b4ca-45bd-81be-f0ad868fce39"
      },
      "outputs": [
        {
          "name": "stdout",
          "output_type": "stream",
          "text": [
            "              Independent t-test    results\n",
            "0  Difference (Male - Female) =     73.3920\n",
            "1          Degrees of freedom =   1738.0000\n",
            "2                           t =      0.1977\n",
            "3       Two side test p value =      0.8433\n",
            "4      Difference < 0 p value =      0.5784\n",
            "5      Difference > 0 p value =      0.4216\n",
            "6                   Cohen's d =      0.0095\n",
            "7                   Hedge's g =      0.0095\n",
            "8              Glass's delta1 =      0.0094\n",
            "9            Point-Biserial r =      0.0047\n"
          ]
        }
      ],
      "source": [
        "print(results)"
      ]
    },
    {
      "cell_type": "markdown",
      "metadata": {
        "id": "GhTkrwKKFMtZ"
      },
      "source": [
        "By using T-test method, it returns 2 dataframes where one contains the summary statistical information and the other that contains the statistical test information. The average number of pupils for males, M= 6832.5 (6312.5, 7352.5), is statistically signigicantly higher than females, F= 6759.1 (6248.9, 7269.3); t(1738)= 0.1977, p= 0.8433. "
      ]
    },
    {
      "cell_type": "code",
      "execution_count": null,
      "metadata": {
        "colab": {
          "base_uri": "https://localhost:8080/"
        },
        "id": "VT8JpFlXDak6",
        "outputId": "374a3e01-ce73-4fd6-b657-a68e05e38d0b"
      },
      "outputs": [
        {
          "data": {
            "text/plain": [
              "Ttest_indResult(statistic=0.1977378262401213, pvalue=0.8432733165098442)"
            ]
          },
          "execution_count": 118,
          "metadata": {},
          "output_type": "execute_result"
        }
      ],
      "source": [
        "stats.ttest_ind(df['Number of pupils'][df['Sex'] == 'Male'],\n",
        "                df['Number of pupils'][df['Sex'] == 'Female'])"
      ]
    },
    {
      "cell_type": "markdown",
      "metadata": {
        "id": "PY1bVHWHGYSE"
      },
      "source": [
        "There is a statistically significant difference in the average number of pupils between males and females, t= 0.1977, p= 0.8433.\n",
        "Since this p-value is not less than .05, the two population means are not equal."
      ]
    },
    {
      "cell_type": "markdown",
      "metadata": {
        "id": "VxoO755tVJJ_"
      },
      "source": [
        "## Inferences and Conclusion\n"
      ]
    },
    {
      "cell_type": "markdown",
      "metadata": {
        "id": "_kEpPtEGIcCO"
      },
      "source": [
        "In conclusion, we have done a lot of procedures from finding the dataset until analyzing the data throughout this project. We have also gained deeper understanding of the data by answering the various questions that has been asked by exploring the relationships between variables and also by plotting various graphs to visualise different relationships. . \n",
        "\n",
        "From the analysis above, we can see that the Borneo States has the most highest amount of schools where Sarawak has a total of 360 schools and Sabah has 288 schools. However, the top 10 District Education offices are dominated by the West Malaysia with Petaling Perdana leading with the average of 52157.75. \n",
        "\n",
        "Other than that, we can also see that the male population are significantly higher than the female population overall especially in the Vocational College. This may occur because men are more prone to do heavy and physical task compared to women. Moreover, it is shown that Year and Number of pupils have a negative correlation which indicates that when one variable increases, the other variable decreases. Hence, we can make a hypothesis that in 2019, the number of pupils will also decrease.\n",
        "\n"
      ]
    },
    {
      "cell_type": "markdown",
      "metadata": {
        "id": "xfuc6sJgVJKA"
      },
      "source": [
        "## References and Future Work\n",
        "For this assignment, we have done a lot of research and found a lot of resources to get a better understanding on analysing the dataset. \n",
        "\n",
        "In the upcoming work, we can gain more data regarding the school in Malaysia so we can analyse on improving our education system. By doing so, we can make Malaysias' level of education as par as the first world countries."
      ]
    },
    {
      "cell_type": "markdown",
      "metadata": {
        "id": "kVZ49w7Eh19e"
      },
      "source": [
        "1. Making Data Visualization using Seaborn. https://www.kaggle.com/code/mirjanadmitrovic/data-visualization-using-seaborn-tips-dataset\n",
        "\n",
        "2. Visualization with Seaborn. https://jakevdp.github.io/PythonDataScienceHandbook/04.14-visualization-with-seaborn.html\n",
        "\n",
        "3. Interpreting Violin Plots. https://www.labxchange.org/library/items/lb:LabXchange:46f64d7a:html:1\n",
        "\n",
        "4. INDEPENDENT T-TEST. https://www.pythonfordatascience.org/independent-samples-t-test-python/"
      ]
    }
  ],
  "metadata": {
    "colab": {
      "provenance": [],
      "include_colab_link": true
    },
    "kernelspec": {
      "display_name": "Python 3",
      "language": "python",
      "name": "python3"
    },
    "language_info": {
      "codemirror_mode": {
        "name": "ipython",
        "version": 3
      },
      "file_extension": ".py",
      "mimetype": "text/x-python",
      "name": "python",
      "nbconvert_exporter": "python",
      "pygments_lexer": "ipython3",
      "version": "3.8.5"
    }
  },
  "nbformat": 4,
  "nbformat_minor": 0
}