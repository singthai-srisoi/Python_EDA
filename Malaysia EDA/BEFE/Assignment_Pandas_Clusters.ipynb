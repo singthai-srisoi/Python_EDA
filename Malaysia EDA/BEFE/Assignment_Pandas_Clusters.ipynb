{
  "cells": [
    {
      "cell_type": "markdown",
      "metadata": {
        "id": "view-in-github",
        "colab_type": "text"
      },
      "source": [
        "<a href=\"https://colab.research.google.com/github/drshahizan/Python_EDA/blob/main/Malaysia%20EDA/BEFE/Assignment_Pandas_Clusters.ipynb\" target=\"_parent\"><img src=\"https://colab.research.google.com/assets/colab-badge.svg\" alt=\"Open In Colab\"/></a>"
      ]
    },
    {
      "cell_type": "markdown",
      "metadata": {
        "id": "7F8DQl5dVJJ0"
      },
      "source": [
        "# Covid-19 Clusters in Malaysia <a href=\"https://colab.research.google.com/github/drshahizan/Python_EDA/blob/main/Malaysia%20EDA/BEFE/Assignment_Pandas_Clusters.ipynb\" target=\"_parent\"><img src=\"https://colab.research.google.com/assets/colab-badge.svg\" alt=\"Open In Colab\"/></a>\n",
        "\n",
        "This dataset is about the formation of new clusters of Covid-19 reported in Malaysia. This dataset contains the collection of covid-19 clusters starting from 3rd January 2020 until 21st December 2022. We have attached the dataset file (in .csv) and a python file which contains the souce code for this project in github. Throughout the project, we have used multiple libraries such as pandas, numpy, matplotlib and seaborn."
      ]
    },
    {
      "cell_type": "markdown",
      "source": [
        "# Group Members\n",
        "\n",
        "\n",
        "1.   FARAH IRDINA BINTI AHMAD BAHARUDIN - A20EC0035\n",
        "2.   NAYLI NABIHAH BINTI JASNI - A20EC0105\n",
        "\n"
      ],
      "metadata": {
        "id": "J03pJKv5Aj2G"
      }
    },
    {
      "cell_type": "markdown",
      "metadata": {
        "id": "u0vucnGFVJJ5"
      },
      "source": [
        "## Data Preparation and Cleaning\n",
        "\n",
        "In this part, we are required to perform data preparation and data cleaning of the dataset since we take the raw version which means it is not entirely cleaned yet and there are a lot of null values. We use multiple libraries such as pandas and io.\n"
      ]
    },
    {
      "cell_type": "markdown",
      "source": [
        "1. Using pandas, firstly, we need to read the dataset. "
      ],
      "metadata": {
        "id": "OTIcliKy5zDk"
      }
    },
    {
      "cell_type": "code",
      "execution_count": null,
      "metadata": {
        "id": "90nIoWQtVJJ3"
      },
      "outputs": [],
      "source": [
        "import pandas as pd\n",
        "url = \"https://raw.githubusercontent.com/nellyexey/HPDP_Dataset/main/clusters.csv\"\n",
        "df = pd.read_csv(url)"
      ]
    },
    {
      "cell_type": "markdown",
      "source": [
        "2. Call the DataFrame to check the file."
      ],
      "metadata": {
        "id": "TrmzXXgl6WV1"
      }
    },
    {
      "cell_type": "code",
      "execution_count": null,
      "metadata": {
        "colab": {
          "base_uri": "https://localhost:8080/",
          "height": 1000
        },
        "id": "df5R-2s3VJJ5",
        "outputId": "e32f0577-af67-4644-f69a-f399be89c22f"
      },
      "outputs": [
        {
          "output_type": "execute_result",
          "data": {
            "text/plain": [
              "                                   cluster          state  \\\n",
              "0                      KLUSTER WARGA JEPUN             14   \n",
              "1                     KLUSTER KAMPUNG BARU             14   \n",
              "2                       KLUSTER BENTENG LD             12   \n",
              "3                       KLUSTER JALAN MERU  1,3,6,8,10,14   \n",
              "4                          KLUSTER JOO HWA             12   \n",
              "...                                    ...            ...   \n",
              "7159   KLUSTER INDUSTRI LORONG KELULI SATU             10   \n",
              "7160        KLUSTER TIGA JALAN KOTA RAJA 2             10   \n",
              "7161              KLUSTER JALAN HULUBALANG             14   \n",
              "7162  KLUSTER DUA JALAN DATO ISMAIL HASHIM              7   \n",
              "7163  KLUSTER DUA JALAN DATO AHMAD YUNUS 2              8   \n",
              "\n",
              "                                               district date_announced  \\\n",
              "0                                         LEMBAH PANTAI     2020-01-03   \n",
              "1                                            TITIWANGSA     2020-01-05   \n",
              "2     LAHAD DATU, TAWAU, SANDAKAN, KINABATANGAN & TU...     2020-01-09   \n",
              "3     HULU LANGAT, KLANG, GOMBAK, PETALING, HULU SEL...     2020-01-10   \n",
              "4                                                 TAWAU     2020-01-10   \n",
              "...                                                 ...            ...   \n",
              "7159                                              KLANG     2022-12-11   \n",
              "7160                                              KLANG     2022-12-11   \n",
              "7161                                         TITIWANGSA     2022-12-14   \n",
              "7162                              BARAT DAYA,TIMUR LAUT     2022-12-18   \n",
              "7163                                       PERAK TENGAH     2022-12-21   \n",
              "\n",
              "     date_last_onset   category  status  cases_new  cases_total  cases_active  \\\n",
              "0         2020-09-03     import   ended          0            3             0   \n",
              "1         2020-03-15  community   ended          0           24             0   \n",
              "2         2020-11-15     import   ended          0         1146             0   \n",
              "3         2020-02-11  community   ended          0          143             0   \n",
              "4         2020-03-10  community   ended          0            7             0   \n",
              "...              ...        ...     ...        ...          ...           ...   \n",
              "7159      2022-11-11  workplace   ended          0           13            13   \n",
              "7160      2022-11-11  education   ended          0           48            48   \n",
              "7161      2022-12-14   highRisk  active          0            8             8   \n",
              "7162      2022-12-18   highRisk  active          0           15            14   \n",
              "7163      2022-12-20   highRisk  active          1            6             6   \n",
              "\n",
              "      tests  icu  deaths  recovered  \\\n",
              "0       267    0       0          3   \n",
              "1      5188    0       1         23   \n",
              "2     16592    0       1       1145   \n",
              "3      1139    0       0        143   \n",
              "4       379    0       0          7   \n",
              "...     ...  ...     ...        ...   \n",
              "7159     94    0       0          0   \n",
              "7160     48    0       0          0   \n",
              "7161     37    0       0          0   \n",
              "7162     26    0       1          0   \n",
              "7163      6    0       0          0   \n",
              "\n",
              "                                             summary_bm  \\\n",
              "0                                                   NaN   \n",
              "1                                                   NaN   \n",
              "2                                                   NaN   \n",
              "3                                                   NaN   \n",
              "4                                                   NaN   \n",
              "...                                                 ...   \n",
              "7159  Kluster ini dikenalpasti hasil saringan bersas...   \n",
              "7160  Kluster ini merupakan kluster berulang untuk k...   \n",
              "7161  Kluster ini melibatkan kakitangan sebuah pusat...   \n",
              "7162  Kluster ini melibatkan penghuni-penghuni dan k...   \n",
              "7163  Kluster ini melibatkan kakitangan sebuah pusat...   \n",
              "\n",
              "                                             summary_en  \n",
              "0                                                   NaN  \n",
              "1                                                   NaN  \n",
              "2                                                   NaN  \n",
              "3                                                   NaN  \n",
              "4                                                   NaN  \n",
              "...                                                 ...  \n",
              "7159  This cluster involves staffs of a logistic com...  \n",
              "7160  This cluster is the second repeated cluster  r...  \n",
              "7161  This cluster involves staff of a healthcare fa...  \n",
              "7162  This cluster involves residents and staff at a...  \n",
              "7163  This cluster involves the staff of a health ce...  \n",
              "\n",
              "[7164 rows x 16 columns]"
            ],
            "text/html": [
              "\n",
              "  <div id=\"df-31398302-1d27-4f50-bbb5-32019e591e73\">\n",
              "    <div class=\"colab-df-container\">\n",
              "      <div>\n",
              "<style scoped>\n",
              "    .dataframe tbody tr th:only-of-type {\n",
              "        vertical-align: middle;\n",
              "    }\n",
              "\n",
              "    .dataframe tbody tr th {\n",
              "        vertical-align: top;\n",
              "    }\n",
              "\n",
              "    .dataframe thead th {\n",
              "        text-align: right;\n",
              "    }\n",
              "</style>\n",
              "<table border=\"1\" class=\"dataframe\">\n",
              "  <thead>\n",
              "    <tr style=\"text-align: right;\">\n",
              "      <th></th>\n",
              "      <th>cluster</th>\n",
              "      <th>state</th>\n",
              "      <th>district</th>\n",
              "      <th>date_announced</th>\n",
              "      <th>date_last_onset</th>\n",
              "      <th>category</th>\n",
              "      <th>status</th>\n",
              "      <th>cases_new</th>\n",
              "      <th>cases_total</th>\n",
              "      <th>cases_active</th>\n",
              "      <th>tests</th>\n",
              "      <th>icu</th>\n",
              "      <th>deaths</th>\n",
              "      <th>recovered</th>\n",
              "      <th>summary_bm</th>\n",
              "      <th>summary_en</th>\n",
              "    </tr>\n",
              "  </thead>\n",
              "  <tbody>\n",
              "    <tr>\n",
              "      <th>0</th>\n",
              "      <td>KLUSTER WARGA JEPUN</td>\n",
              "      <td>14</td>\n",
              "      <td>LEMBAH PANTAI</td>\n",
              "      <td>2020-01-03</td>\n",
              "      <td>2020-09-03</td>\n",
              "      <td>import</td>\n",
              "      <td>ended</td>\n",
              "      <td>0</td>\n",
              "      <td>3</td>\n",
              "      <td>0</td>\n",
              "      <td>267</td>\n",
              "      <td>0</td>\n",
              "      <td>0</td>\n",
              "      <td>3</td>\n",
              "      <td>NaN</td>\n",
              "      <td>NaN</td>\n",
              "    </tr>\n",
              "    <tr>\n",
              "      <th>1</th>\n",
              "      <td>KLUSTER KAMPUNG BARU</td>\n",
              "      <td>14</td>\n",
              "      <td>TITIWANGSA</td>\n",
              "      <td>2020-01-05</td>\n",
              "      <td>2020-03-15</td>\n",
              "      <td>community</td>\n",
              "      <td>ended</td>\n",
              "      <td>0</td>\n",
              "      <td>24</td>\n",
              "      <td>0</td>\n",
              "      <td>5188</td>\n",
              "      <td>0</td>\n",
              "      <td>1</td>\n",
              "      <td>23</td>\n",
              "      <td>NaN</td>\n",
              "      <td>NaN</td>\n",
              "    </tr>\n",
              "    <tr>\n",
              "      <th>2</th>\n",
              "      <td>KLUSTER BENTENG LD</td>\n",
              "      <td>12</td>\n",
              "      <td>LAHAD DATU, TAWAU, SANDAKAN, KINABATANGAN &amp; TU...</td>\n",
              "      <td>2020-01-09</td>\n",
              "      <td>2020-11-15</td>\n",
              "      <td>import</td>\n",
              "      <td>ended</td>\n",
              "      <td>0</td>\n",
              "      <td>1146</td>\n",
              "      <td>0</td>\n",
              "      <td>16592</td>\n",
              "      <td>0</td>\n",
              "      <td>1</td>\n",
              "      <td>1145</td>\n",
              "      <td>NaN</td>\n",
              "      <td>NaN</td>\n",
              "    </tr>\n",
              "    <tr>\n",
              "      <th>3</th>\n",
              "      <td>KLUSTER JALAN MERU</td>\n",
              "      <td>1,3,6,8,10,14</td>\n",
              "      <td>HULU LANGAT, KLANG, GOMBAK, PETALING, HULU SEL...</td>\n",
              "      <td>2020-01-10</td>\n",
              "      <td>2020-02-11</td>\n",
              "      <td>community</td>\n",
              "      <td>ended</td>\n",
              "      <td>0</td>\n",
              "      <td>143</td>\n",
              "      <td>0</td>\n",
              "      <td>1139</td>\n",
              "      <td>0</td>\n",
              "      <td>0</td>\n",
              "      <td>143</td>\n",
              "      <td>NaN</td>\n",
              "      <td>NaN</td>\n",
              "    </tr>\n",
              "    <tr>\n",
              "      <th>4</th>\n",
              "      <td>KLUSTER JOO HWA</td>\n",
              "      <td>12</td>\n",
              "      <td>TAWAU</td>\n",
              "      <td>2020-01-10</td>\n",
              "      <td>2020-03-10</td>\n",
              "      <td>community</td>\n",
              "      <td>ended</td>\n",
              "      <td>0</td>\n",
              "      <td>7</td>\n",
              "      <td>0</td>\n",
              "      <td>379</td>\n",
              "      <td>0</td>\n",
              "      <td>0</td>\n",
              "      <td>7</td>\n",
              "      <td>NaN</td>\n",
              "      <td>NaN</td>\n",
              "    </tr>\n",
              "    <tr>\n",
              "      <th>...</th>\n",
              "      <td>...</td>\n",
              "      <td>...</td>\n",
              "      <td>...</td>\n",
              "      <td>...</td>\n",
              "      <td>...</td>\n",
              "      <td>...</td>\n",
              "      <td>...</td>\n",
              "      <td>...</td>\n",
              "      <td>...</td>\n",
              "      <td>...</td>\n",
              "      <td>...</td>\n",
              "      <td>...</td>\n",
              "      <td>...</td>\n",
              "      <td>...</td>\n",
              "      <td>...</td>\n",
              "      <td>...</td>\n",
              "    </tr>\n",
              "    <tr>\n",
              "      <th>7159</th>\n",
              "      <td>KLUSTER INDUSTRI LORONG KELULI SATU</td>\n",
              "      <td>10</td>\n",
              "      <td>KLANG</td>\n",
              "      <td>2022-12-11</td>\n",
              "      <td>2022-11-11</td>\n",
              "      <td>workplace</td>\n",
              "      <td>ended</td>\n",
              "      <td>0</td>\n",
              "      <td>13</td>\n",
              "      <td>13</td>\n",
              "      <td>94</td>\n",
              "      <td>0</td>\n",
              "      <td>0</td>\n",
              "      <td>0</td>\n",
              "      <td>Kluster ini dikenalpasti hasil saringan bersas...</td>\n",
              "      <td>This cluster involves staffs of a logistic com...</td>\n",
              "    </tr>\n",
              "    <tr>\n",
              "      <th>7160</th>\n",
              "      <td>KLUSTER TIGA JALAN KOTA RAJA 2</td>\n",
              "      <td>10</td>\n",
              "      <td>KLANG</td>\n",
              "      <td>2022-12-11</td>\n",
              "      <td>2022-11-11</td>\n",
              "      <td>education</td>\n",
              "      <td>ended</td>\n",
              "      <td>0</td>\n",
              "      <td>48</td>\n",
              "      <td>48</td>\n",
              "      <td>48</td>\n",
              "      <td>0</td>\n",
              "      <td>0</td>\n",
              "      <td>0</td>\n",
              "      <td>Kluster ini merupakan kluster berulang untuk k...</td>\n",
              "      <td>This cluster is the second repeated cluster  r...</td>\n",
              "    </tr>\n",
              "    <tr>\n",
              "      <th>7161</th>\n",
              "      <td>KLUSTER JALAN HULUBALANG</td>\n",
              "      <td>14</td>\n",
              "      <td>TITIWANGSA</td>\n",
              "      <td>2022-12-14</td>\n",
              "      <td>2022-12-14</td>\n",
              "      <td>highRisk</td>\n",
              "      <td>active</td>\n",
              "      <td>0</td>\n",
              "      <td>8</td>\n",
              "      <td>8</td>\n",
              "      <td>37</td>\n",
              "      <td>0</td>\n",
              "      <td>0</td>\n",
              "      <td>0</td>\n",
              "      <td>Kluster ini melibatkan kakitangan sebuah pusat...</td>\n",
              "      <td>This cluster involves staff of a healthcare fa...</td>\n",
              "    </tr>\n",
              "    <tr>\n",
              "      <th>7162</th>\n",
              "      <td>KLUSTER DUA JALAN DATO ISMAIL HASHIM</td>\n",
              "      <td>7</td>\n",
              "      <td>BARAT DAYA,TIMUR LAUT</td>\n",
              "      <td>2022-12-18</td>\n",
              "      <td>2022-12-18</td>\n",
              "      <td>highRisk</td>\n",
              "      <td>active</td>\n",
              "      <td>0</td>\n",
              "      <td>15</td>\n",
              "      <td>14</td>\n",
              "      <td>26</td>\n",
              "      <td>0</td>\n",
              "      <td>1</td>\n",
              "      <td>0</td>\n",
              "      <td>Kluster ini melibatkan penghuni-penghuni dan k...</td>\n",
              "      <td>This cluster involves residents and staff at a...</td>\n",
              "    </tr>\n",
              "    <tr>\n",
              "      <th>7163</th>\n",
              "      <td>KLUSTER DUA JALAN DATO AHMAD YUNUS 2</td>\n",
              "      <td>8</td>\n",
              "      <td>PERAK TENGAH</td>\n",
              "      <td>2022-12-21</td>\n",
              "      <td>2022-12-20</td>\n",
              "      <td>highRisk</td>\n",
              "      <td>active</td>\n",
              "      <td>1</td>\n",
              "      <td>6</td>\n",
              "      <td>6</td>\n",
              "      <td>6</td>\n",
              "      <td>0</td>\n",
              "      <td>0</td>\n",
              "      <td>0</td>\n",
              "      <td>Kluster ini melibatkan kakitangan sebuah pusat...</td>\n",
              "      <td>This cluster involves the staff of a health ce...</td>\n",
              "    </tr>\n",
              "  </tbody>\n",
              "</table>\n",
              "<p>7164 rows × 16 columns</p>\n",
              "</div>\n",
              "      <button class=\"colab-df-convert\" onclick=\"convertToInteractive('df-31398302-1d27-4f50-bbb5-32019e591e73')\"\n",
              "              title=\"Convert this dataframe to an interactive table.\"\n",
              "              style=\"display:none;\">\n",
              "        \n",
              "  <svg xmlns=\"http://www.w3.org/2000/svg\" height=\"24px\"viewBox=\"0 0 24 24\"\n",
              "       width=\"24px\">\n",
              "    <path d=\"M0 0h24v24H0V0z\" fill=\"none\"/>\n",
              "    <path d=\"M18.56 5.44l.94 2.06.94-2.06 2.06-.94-2.06-.94-.94-2.06-.94 2.06-2.06.94zm-11 1L8.5 8.5l.94-2.06 2.06-.94-2.06-.94L8.5 2.5l-.94 2.06-2.06.94zm10 10l.94 2.06.94-2.06 2.06-.94-2.06-.94-.94-2.06-.94 2.06-2.06.94z\"/><path d=\"M17.41 7.96l-1.37-1.37c-.4-.4-.92-.59-1.43-.59-.52 0-1.04.2-1.43.59L10.3 9.45l-7.72 7.72c-.78.78-.78 2.05 0 2.83L4 21.41c.39.39.9.59 1.41.59.51 0 1.02-.2 1.41-.59l7.78-7.78 2.81-2.81c.8-.78.8-2.07 0-2.86zM5.41 20L4 18.59l7.72-7.72 1.47 1.35L5.41 20z\"/>\n",
              "  </svg>\n",
              "      </button>\n",
              "      \n",
              "  <style>\n",
              "    .colab-df-container {\n",
              "      display:flex;\n",
              "      flex-wrap:wrap;\n",
              "      gap: 12px;\n",
              "    }\n",
              "\n",
              "    .colab-df-convert {\n",
              "      background-color: #E8F0FE;\n",
              "      border: none;\n",
              "      border-radius: 50%;\n",
              "      cursor: pointer;\n",
              "      display: none;\n",
              "      fill: #1967D2;\n",
              "      height: 32px;\n",
              "      padding: 0 0 0 0;\n",
              "      width: 32px;\n",
              "    }\n",
              "\n",
              "    .colab-df-convert:hover {\n",
              "      background-color: #E2EBFA;\n",
              "      box-shadow: 0px 1px 2px rgba(60, 64, 67, 0.3), 0px 1px 3px 1px rgba(60, 64, 67, 0.15);\n",
              "      fill: #174EA6;\n",
              "    }\n",
              "\n",
              "    [theme=dark] .colab-df-convert {\n",
              "      background-color: #3B4455;\n",
              "      fill: #D2E3FC;\n",
              "    }\n",
              "\n",
              "    [theme=dark] .colab-df-convert:hover {\n",
              "      background-color: #434B5C;\n",
              "      box-shadow: 0px 1px 3px 1px rgba(0, 0, 0, 0.15);\n",
              "      filter: drop-shadow(0px 1px 2px rgba(0, 0, 0, 0.3));\n",
              "      fill: #FFFFFF;\n",
              "    }\n",
              "  </style>\n",
              "\n",
              "      <script>\n",
              "        const buttonEl =\n",
              "          document.querySelector('#df-31398302-1d27-4f50-bbb5-32019e591e73 button.colab-df-convert');\n",
              "        buttonEl.style.display =\n",
              "          google.colab.kernel.accessAllowed ? 'block' : 'none';\n",
              "\n",
              "        async function convertToInteractive(key) {\n",
              "          const element = document.querySelector('#df-31398302-1d27-4f50-bbb5-32019e591e73');\n",
              "          const dataTable =\n",
              "            await google.colab.kernel.invokeFunction('convertToInteractive',\n",
              "                                                     [key], {});\n",
              "          if (!dataTable) return;\n",
              "\n",
              "          const docLinkHtml = 'Like what you see? Visit the ' +\n",
              "            '<a target=\"_blank\" href=https://colab.research.google.com/notebooks/data_table.ipynb>data table notebook</a>'\n",
              "            + ' to learn more about interactive tables.';\n",
              "          element.innerHTML = '';\n",
              "          dataTable['output_type'] = 'display_data';\n",
              "          await google.colab.output.renderOutput(dataTable, element);\n",
              "          const docLink = document.createElement('div');\n",
              "          docLink.innerHTML = docLinkHtml;\n",
              "          element.appendChild(docLink);\n",
              "        }\n",
              "      </script>\n",
              "    </div>\n",
              "  </div>\n",
              "  "
            ]
          },
          "metadata": {},
          "execution_count": 64
        }
      ],
      "source": [
        "df"
      ]
    },
    {
      "cell_type": "markdown",
      "source": [
        "3. Print the information of the DataFrame."
      ],
      "metadata": {
        "id": "gS2RkBAg6fWC"
      }
    },
    {
      "cell_type": "code",
      "execution_count": null,
      "metadata": {
        "colab": {
          "base_uri": "https://localhost:8080/"
        },
        "id": "t26lvNVLVJJ5",
        "outputId": "06b95e4b-889a-4f0f-aa98-76cf27310d65"
      },
      "outputs": [
        {
          "output_type": "execute_result",
          "data": {
            "text/plain": [
              "<bound method DataFrame.info of                                    cluster          state  \\\n",
              "0                      KLUSTER WARGA JEPUN             14   \n",
              "1                     KLUSTER KAMPUNG BARU             14   \n",
              "2                       KLUSTER BENTENG LD             12   \n",
              "3                       KLUSTER JALAN MERU  1,3,6,8,10,14   \n",
              "4                          KLUSTER JOO HWA             12   \n",
              "...                                    ...            ...   \n",
              "7159   KLUSTER INDUSTRI LORONG KELULI SATU             10   \n",
              "7160        KLUSTER TIGA JALAN KOTA RAJA 2             10   \n",
              "7161              KLUSTER JALAN HULUBALANG             14   \n",
              "7162  KLUSTER DUA JALAN DATO ISMAIL HASHIM              7   \n",
              "7163  KLUSTER DUA JALAN DATO AHMAD YUNUS 2              8   \n",
              "\n",
              "                                               district date_announced  \\\n",
              "0                                         LEMBAH PANTAI     2020-01-03   \n",
              "1                                            TITIWANGSA     2020-01-05   \n",
              "2     LAHAD DATU, TAWAU, SANDAKAN, KINABATANGAN & TU...     2020-01-09   \n",
              "3     HULU LANGAT, KLANG, GOMBAK, PETALING, HULU SEL...     2020-01-10   \n",
              "4                                                 TAWAU     2020-01-10   \n",
              "...                                                 ...            ...   \n",
              "7159                                              KLANG     2022-12-11   \n",
              "7160                                              KLANG     2022-12-11   \n",
              "7161                                         TITIWANGSA     2022-12-14   \n",
              "7162                              BARAT DAYA,TIMUR LAUT     2022-12-18   \n",
              "7163                                       PERAK TENGAH     2022-12-21   \n",
              "\n",
              "     date_last_onset   category  status  cases_new  cases_total  cases_active  \\\n",
              "0         2020-09-03     import   ended          0            3             0   \n",
              "1         2020-03-15  community   ended          0           24             0   \n",
              "2         2020-11-15     import   ended          0         1146             0   \n",
              "3         2020-02-11  community   ended          0          143             0   \n",
              "4         2020-03-10  community   ended          0            7             0   \n",
              "...              ...        ...     ...        ...          ...           ...   \n",
              "7159      2022-11-11  workplace   ended          0           13            13   \n",
              "7160      2022-11-11  education   ended          0           48            48   \n",
              "7161      2022-12-14   highRisk  active          0            8             8   \n",
              "7162      2022-12-18   highRisk  active          0           15            14   \n",
              "7163      2022-12-20   highRisk  active          1            6             6   \n",
              "\n",
              "      tests  icu  deaths  recovered  \\\n",
              "0       267    0       0          3   \n",
              "1      5188    0       1         23   \n",
              "2     16592    0       1       1145   \n",
              "3      1139    0       0        143   \n",
              "4       379    0       0          7   \n",
              "...     ...  ...     ...        ...   \n",
              "7159     94    0       0          0   \n",
              "7160     48    0       0          0   \n",
              "7161     37    0       0          0   \n",
              "7162     26    0       1          0   \n",
              "7163      6    0       0          0   \n",
              "\n",
              "                                             summary_bm  \\\n",
              "0                                                   NaN   \n",
              "1                                                   NaN   \n",
              "2                                                   NaN   \n",
              "3                                                   NaN   \n",
              "4                                                   NaN   \n",
              "...                                                 ...   \n",
              "7159  Kluster ini dikenalpasti hasil saringan bersas...   \n",
              "7160  Kluster ini merupakan kluster berulang untuk k...   \n",
              "7161  Kluster ini melibatkan kakitangan sebuah pusat...   \n",
              "7162  Kluster ini melibatkan penghuni-penghuni dan k...   \n",
              "7163  Kluster ini melibatkan kakitangan sebuah pusat...   \n",
              "\n",
              "                                             summary_en  \n",
              "0                                                   NaN  \n",
              "1                                                   NaN  \n",
              "2                                                   NaN  \n",
              "3                                                   NaN  \n",
              "4                                                   NaN  \n",
              "...                                                 ...  \n",
              "7159  This cluster involves staffs of a logistic com...  \n",
              "7160  This cluster is the second repeated cluster  r...  \n",
              "7161  This cluster involves staff of a healthcare fa...  \n",
              "7162  This cluster involves residents and staff at a...  \n",
              "7163  This cluster involves the staff of a health ce...  \n",
              "\n",
              "[7164 rows x 16 columns]>"
            ]
          },
          "metadata": {},
          "execution_count": 65
        }
      ],
      "source": [
        "df.info"
      ]
    },
    {
      "cell_type": "markdown",
      "source": [
        "4. Change the date_announced and date_last_onset data type from object (string) to datetime."
      ],
      "metadata": {
        "id": "r4a7Xdtl6sOm"
      }
    },
    {
      "cell_type": "code",
      "execution_count": null,
      "metadata": {
        "colab": {
          "base_uri": "https://localhost:8080/"
        },
        "id": "KribcC_XVJJ5",
        "outputId": "407819f9-2938-4fbf-bacc-dea3dc170a3b"
      },
      "outputs": [
        {
          "output_type": "execute_result",
          "data": {
            "text/plain": [
              "cluster                    object\n",
              "state                      object\n",
              "district                   object\n",
              "date_announced     datetime64[ns]\n",
              "date_last_onset    datetime64[ns]\n",
              "category                   object\n",
              "status                     object\n",
              "cases_new                   int64\n",
              "cases_total                 int64\n",
              "cases_active                int64\n",
              "tests                       int64\n",
              "icu                         int64\n",
              "deaths                      int64\n",
              "recovered                   int64\n",
              "summary_bm                 object\n",
              "summary_en                 object\n",
              "dtype: object"
            ]
          },
          "metadata": {},
          "execution_count": 66
        }
      ],
      "source": [
        "df['date_announced'] = pd.to_datetime(df['date_announced'], format='%Y-%m-%d')\n",
        "df['date_last_onset'] = pd.to_datetime(df['date_last_onset'], format='%Y-%m-%d')\n",
        "#df.date_announced.dt.year\n",
        "df.dtypes"
      ]
    },
    {
      "cell_type": "markdown",
      "source": [
        "5. Identify how many null value in each column."
      ],
      "metadata": {
        "id": "vqvgTqDr77aG"
      }
    },
    {
      "cell_type": "code",
      "execution_count": null,
      "metadata": {
        "colab": {
          "base_uri": "https://localhost:8080/"
        },
        "id": "7mUpY22aVJJ6",
        "outputId": "4a18a2f1-cb61-43d6-9e5c-f6c1121f742b"
      },
      "outputs": [
        {
          "output_type": "execute_result",
          "data": {
            "text/plain": [
              "cluster               0\n",
              "state                 0\n",
              "district             13\n",
              "date_announced        0\n",
              "date_last_onset       0\n",
              "category              0\n",
              "status                0\n",
              "cases_new             0\n",
              "cases_total           0\n",
              "cases_active          0\n",
              "tests                 0\n",
              "icu                   0\n",
              "deaths                0\n",
              "recovered             0\n",
              "summary_bm         5611\n",
              "summary_en         5611\n",
              "dtype: int64"
            ]
          },
          "metadata": {},
          "execution_count": 67
        }
      ],
      "source": [
        "df.isna().sum()"
      ]
    },
    {
      "cell_type": "markdown",
      "source": [
        "6. Drop rows that contain null values."
      ],
      "metadata": {
        "id": "b4rXPlqj8ksN"
      }
    },
    {
      "cell_type": "code",
      "execution_count": null,
      "metadata": {
        "id": "h46ilQakVJJ6"
      },
      "outputs": [],
      "source": [
        "df = df.dropna()"
      ]
    },
    {
      "cell_type": "markdown",
      "source": [
        "7. From here, we can see that the total rows has been reduced from 7164 rows to 1540 rows. "
      ],
      "metadata": {
        "id": "EWyWdPGV8xlu"
      }
    },
    {
      "cell_type": "code",
      "execution_count": null,
      "metadata": {
        "colab": {
          "base_uri": "https://localhost:8080/",
          "height": 1000
        },
        "id": "cfcSY6YSVJJ6",
        "outputId": "1cf0c20b-3a4f-4280-9c14-da8afdc23884"
      },
      "outputs": [
        {
          "output_type": "execute_result",
          "data": {
            "text/plain": [
              "                                         cluster state  \\\n",
              "666                 KLUSTER SAWIT KINABATANGAN 2    12   \n",
              "680                                 KLUSTER GIAM    13   \n",
              "682   KLUSTER TAPAK BINA LEBUHRAYA SETIAWANGSA 2    14   \n",
              "683                  KLUSTER INDUSTRI WAWASAN 10     1   \n",
              "684                 KLUSTER JALAN BANK KUANTAN 2     6   \n",
              "...                                          ...   ...   \n",
              "7159         KLUSTER INDUSTRI LORONG KELULI SATU    10   \n",
              "7160              KLUSTER TIGA JALAN KOTA RAJA 2    10   \n",
              "7161                    KLUSTER JALAN HULUBALANG    14   \n",
              "7162        KLUSTER DUA JALAN DATO ISMAIL HASHIM     7   \n",
              "7163        KLUSTER DUA JALAN DATO AHMAD YUNUS 2     8   \n",
              "\n",
              "                        district date_announced date_last_onset   category  \\\n",
              "666                 KINABATANGAN     2021-01-09      2021-10-22  workplace   \n",
              "680                      KUCHING     2021-01-10      2021-10-20  community   \n",
              "682   TITIWANGSA, KEPONG, CHERAS     2021-01-11      2021-02-11  workplace   \n",
              "683                   BATU PAHAT     2021-01-11      2021-04-11  workplace   \n",
              "684            KUANTAN, TEMERLOH     2021-01-11      2021-05-11  workplace   \n",
              "...                          ...            ...             ...        ...   \n",
              "7159                       KLANG     2022-12-11      2022-11-11  workplace   \n",
              "7160                       KLANG     2022-12-11      2022-11-11  education   \n",
              "7161                  TITIWANGSA     2022-12-14      2022-12-14   highRisk   \n",
              "7162       BARAT DAYA,TIMUR LAUT     2022-12-18      2022-12-18   highRisk   \n",
              "7163                PERAK TENGAH     2022-12-21      2022-12-20   highRisk   \n",
              "\n",
              "      status  cases_new  cases_total  cases_active  tests  icu  deaths  \\\n",
              "666    ended          0          244             0    534    0       0   \n",
              "680    ended          0          152             0    179    0       0   \n",
              "682    ended          0           28             0     41    0       0   \n",
              "683    ended          0           16             0     24    0       0   \n",
              "684    ended          0           16             0     81    0       0   \n",
              "...      ...        ...          ...           ...    ...  ...     ...   \n",
              "7159   ended          0           13            13     94    0       0   \n",
              "7160   ended          0           48            48     48    0       0   \n",
              "7161  active          0            8             8     37    0       0   \n",
              "7162  active          0           15            14     26    0       1   \n",
              "7163  active          1            6             6      6    0       0   \n",
              "\n",
              "      recovered                                         summary_bm  \\\n",
              "666         244  Kluster ini merupakan kluster berulang kali ke...   \n",
              "680         152  Kluster ini dikenalpasti hasil saringan bersas...   \n",
              "682          28  Kluster ini merupakan kluster berulang kali ke...   \n",
              "683          16  Kluster ini dikenalpasti hasil saringan bersas...   \n",
              "684          16  Kluster ini merupakan kluster berulang kali ke...   \n",
              "...         ...                                                ...   \n",
              "7159          0  Kluster ini dikenalpasti hasil saringan bersas...   \n",
              "7160          0  Kluster ini merupakan kluster berulang untuk k...   \n",
              "7161          0  Kluster ini melibatkan kakitangan sebuah pusat...   \n",
              "7162          0  Kluster ini melibatkan penghuni-penghuni dan k...   \n",
              "7163          0  Kluster ini melibatkan kakitangan sebuah pusat...   \n",
              "\n",
              "                                             summary_en  \n",
              "666   This cluster is the second recurring cluster i...  \n",
              "680   This cluster identification resulted from targ...  \n",
              "682   This cluster is the second recurring cluster. ...  \n",
              "683   This cluster identification resulted from targ...  \n",
              "684   This cluster is the second recurring cluster i...  \n",
              "...                                                 ...  \n",
              "7159  This cluster involves staffs of a logistic com...  \n",
              "7160  This cluster is the second repeated cluster  r...  \n",
              "7161  This cluster involves staff of a healthcare fa...  \n",
              "7162  This cluster involves residents and staff at a...  \n",
              "7163  This cluster involves the staff of a health ce...  \n",
              "\n",
              "[1540 rows x 16 columns]"
            ],
            "text/html": [
              "\n",
              "  <div id=\"df-ed45257a-5485-4549-a5a3-73b24b1b8b39\">\n",
              "    <div class=\"colab-df-container\">\n",
              "      <div>\n",
              "<style scoped>\n",
              "    .dataframe tbody tr th:only-of-type {\n",
              "        vertical-align: middle;\n",
              "    }\n",
              "\n",
              "    .dataframe tbody tr th {\n",
              "        vertical-align: top;\n",
              "    }\n",
              "\n",
              "    .dataframe thead th {\n",
              "        text-align: right;\n",
              "    }\n",
              "</style>\n",
              "<table border=\"1\" class=\"dataframe\">\n",
              "  <thead>\n",
              "    <tr style=\"text-align: right;\">\n",
              "      <th></th>\n",
              "      <th>cluster</th>\n",
              "      <th>state</th>\n",
              "      <th>district</th>\n",
              "      <th>date_announced</th>\n",
              "      <th>date_last_onset</th>\n",
              "      <th>category</th>\n",
              "      <th>status</th>\n",
              "      <th>cases_new</th>\n",
              "      <th>cases_total</th>\n",
              "      <th>cases_active</th>\n",
              "      <th>tests</th>\n",
              "      <th>icu</th>\n",
              "      <th>deaths</th>\n",
              "      <th>recovered</th>\n",
              "      <th>summary_bm</th>\n",
              "      <th>summary_en</th>\n",
              "    </tr>\n",
              "  </thead>\n",
              "  <tbody>\n",
              "    <tr>\n",
              "      <th>666</th>\n",
              "      <td>KLUSTER SAWIT KINABATANGAN 2</td>\n",
              "      <td>12</td>\n",
              "      <td>KINABATANGAN</td>\n",
              "      <td>2021-01-09</td>\n",
              "      <td>2021-10-22</td>\n",
              "      <td>workplace</td>\n",
              "      <td>ended</td>\n",
              "      <td>0</td>\n",
              "      <td>244</td>\n",
              "      <td>0</td>\n",
              "      <td>534</td>\n",
              "      <td>0</td>\n",
              "      <td>0</td>\n",
              "      <td>244</td>\n",
              "      <td>Kluster ini merupakan kluster berulang kali ke...</td>\n",
              "      <td>This cluster is the second recurring cluster i...</td>\n",
              "    </tr>\n",
              "    <tr>\n",
              "      <th>680</th>\n",
              "      <td>KLUSTER GIAM</td>\n",
              "      <td>13</td>\n",
              "      <td>KUCHING</td>\n",
              "      <td>2021-01-10</td>\n",
              "      <td>2021-10-20</td>\n",
              "      <td>community</td>\n",
              "      <td>ended</td>\n",
              "      <td>0</td>\n",
              "      <td>152</td>\n",
              "      <td>0</td>\n",
              "      <td>179</td>\n",
              "      <td>0</td>\n",
              "      <td>0</td>\n",
              "      <td>152</td>\n",
              "      <td>Kluster ini dikenalpasti hasil saringan bersas...</td>\n",
              "      <td>This cluster identification resulted from targ...</td>\n",
              "    </tr>\n",
              "    <tr>\n",
              "      <th>682</th>\n",
              "      <td>KLUSTER TAPAK BINA LEBUHRAYA SETIAWANGSA 2</td>\n",
              "      <td>14</td>\n",
              "      <td>TITIWANGSA, KEPONG, CHERAS</td>\n",
              "      <td>2021-01-11</td>\n",
              "      <td>2021-02-11</td>\n",
              "      <td>workplace</td>\n",
              "      <td>ended</td>\n",
              "      <td>0</td>\n",
              "      <td>28</td>\n",
              "      <td>0</td>\n",
              "      <td>41</td>\n",
              "      <td>0</td>\n",
              "      <td>0</td>\n",
              "      <td>28</td>\n",
              "      <td>Kluster ini merupakan kluster berulang kali ke...</td>\n",
              "      <td>This cluster is the second recurring cluster. ...</td>\n",
              "    </tr>\n",
              "    <tr>\n",
              "      <th>683</th>\n",
              "      <td>KLUSTER INDUSTRI WAWASAN 10</td>\n",
              "      <td>1</td>\n",
              "      <td>BATU PAHAT</td>\n",
              "      <td>2021-01-11</td>\n",
              "      <td>2021-04-11</td>\n",
              "      <td>workplace</td>\n",
              "      <td>ended</td>\n",
              "      <td>0</td>\n",
              "      <td>16</td>\n",
              "      <td>0</td>\n",
              "      <td>24</td>\n",
              "      <td>0</td>\n",
              "      <td>0</td>\n",
              "      <td>16</td>\n",
              "      <td>Kluster ini dikenalpasti hasil saringan bersas...</td>\n",
              "      <td>This cluster identification resulted from targ...</td>\n",
              "    </tr>\n",
              "    <tr>\n",
              "      <th>684</th>\n",
              "      <td>KLUSTER JALAN BANK KUANTAN 2</td>\n",
              "      <td>6</td>\n",
              "      <td>KUANTAN, TEMERLOH</td>\n",
              "      <td>2021-01-11</td>\n",
              "      <td>2021-05-11</td>\n",
              "      <td>workplace</td>\n",
              "      <td>ended</td>\n",
              "      <td>0</td>\n",
              "      <td>16</td>\n",
              "      <td>0</td>\n",
              "      <td>81</td>\n",
              "      <td>0</td>\n",
              "      <td>0</td>\n",
              "      <td>16</td>\n",
              "      <td>Kluster ini merupakan kluster berulang kali ke...</td>\n",
              "      <td>This cluster is the second recurring cluster i...</td>\n",
              "    </tr>\n",
              "    <tr>\n",
              "      <th>...</th>\n",
              "      <td>...</td>\n",
              "      <td>...</td>\n",
              "      <td>...</td>\n",
              "      <td>...</td>\n",
              "      <td>...</td>\n",
              "      <td>...</td>\n",
              "      <td>...</td>\n",
              "      <td>...</td>\n",
              "      <td>...</td>\n",
              "      <td>...</td>\n",
              "      <td>...</td>\n",
              "      <td>...</td>\n",
              "      <td>...</td>\n",
              "      <td>...</td>\n",
              "      <td>...</td>\n",
              "      <td>...</td>\n",
              "    </tr>\n",
              "    <tr>\n",
              "      <th>7159</th>\n",
              "      <td>KLUSTER INDUSTRI LORONG KELULI SATU</td>\n",
              "      <td>10</td>\n",
              "      <td>KLANG</td>\n",
              "      <td>2022-12-11</td>\n",
              "      <td>2022-11-11</td>\n",
              "      <td>workplace</td>\n",
              "      <td>ended</td>\n",
              "      <td>0</td>\n",
              "      <td>13</td>\n",
              "      <td>13</td>\n",
              "      <td>94</td>\n",
              "      <td>0</td>\n",
              "      <td>0</td>\n",
              "      <td>0</td>\n",
              "      <td>Kluster ini dikenalpasti hasil saringan bersas...</td>\n",
              "      <td>This cluster involves staffs of a logistic com...</td>\n",
              "    </tr>\n",
              "    <tr>\n",
              "      <th>7160</th>\n",
              "      <td>KLUSTER TIGA JALAN KOTA RAJA 2</td>\n",
              "      <td>10</td>\n",
              "      <td>KLANG</td>\n",
              "      <td>2022-12-11</td>\n",
              "      <td>2022-11-11</td>\n",
              "      <td>education</td>\n",
              "      <td>ended</td>\n",
              "      <td>0</td>\n",
              "      <td>48</td>\n",
              "      <td>48</td>\n",
              "      <td>48</td>\n",
              "      <td>0</td>\n",
              "      <td>0</td>\n",
              "      <td>0</td>\n",
              "      <td>Kluster ini merupakan kluster berulang untuk k...</td>\n",
              "      <td>This cluster is the second repeated cluster  r...</td>\n",
              "    </tr>\n",
              "    <tr>\n",
              "      <th>7161</th>\n",
              "      <td>KLUSTER JALAN HULUBALANG</td>\n",
              "      <td>14</td>\n",
              "      <td>TITIWANGSA</td>\n",
              "      <td>2022-12-14</td>\n",
              "      <td>2022-12-14</td>\n",
              "      <td>highRisk</td>\n",
              "      <td>active</td>\n",
              "      <td>0</td>\n",
              "      <td>8</td>\n",
              "      <td>8</td>\n",
              "      <td>37</td>\n",
              "      <td>0</td>\n",
              "      <td>0</td>\n",
              "      <td>0</td>\n",
              "      <td>Kluster ini melibatkan kakitangan sebuah pusat...</td>\n",
              "      <td>This cluster involves staff of a healthcare fa...</td>\n",
              "    </tr>\n",
              "    <tr>\n",
              "      <th>7162</th>\n",
              "      <td>KLUSTER DUA JALAN DATO ISMAIL HASHIM</td>\n",
              "      <td>7</td>\n",
              "      <td>BARAT DAYA,TIMUR LAUT</td>\n",
              "      <td>2022-12-18</td>\n",
              "      <td>2022-12-18</td>\n",
              "      <td>highRisk</td>\n",
              "      <td>active</td>\n",
              "      <td>0</td>\n",
              "      <td>15</td>\n",
              "      <td>14</td>\n",
              "      <td>26</td>\n",
              "      <td>0</td>\n",
              "      <td>1</td>\n",
              "      <td>0</td>\n",
              "      <td>Kluster ini melibatkan penghuni-penghuni dan k...</td>\n",
              "      <td>This cluster involves residents and staff at a...</td>\n",
              "    </tr>\n",
              "    <tr>\n",
              "      <th>7163</th>\n",
              "      <td>KLUSTER DUA JALAN DATO AHMAD YUNUS 2</td>\n",
              "      <td>8</td>\n",
              "      <td>PERAK TENGAH</td>\n",
              "      <td>2022-12-21</td>\n",
              "      <td>2022-12-20</td>\n",
              "      <td>highRisk</td>\n",
              "      <td>active</td>\n",
              "      <td>1</td>\n",
              "      <td>6</td>\n",
              "      <td>6</td>\n",
              "      <td>6</td>\n",
              "      <td>0</td>\n",
              "      <td>0</td>\n",
              "      <td>0</td>\n",
              "      <td>Kluster ini melibatkan kakitangan sebuah pusat...</td>\n",
              "      <td>This cluster involves the staff of a health ce...</td>\n",
              "    </tr>\n",
              "  </tbody>\n",
              "</table>\n",
              "<p>1540 rows × 16 columns</p>\n",
              "</div>\n",
              "      <button class=\"colab-df-convert\" onclick=\"convertToInteractive('df-ed45257a-5485-4549-a5a3-73b24b1b8b39')\"\n",
              "              title=\"Convert this dataframe to an interactive table.\"\n",
              "              style=\"display:none;\">\n",
              "        \n",
              "  <svg xmlns=\"http://www.w3.org/2000/svg\" height=\"24px\"viewBox=\"0 0 24 24\"\n",
              "       width=\"24px\">\n",
              "    <path d=\"M0 0h24v24H0V0z\" fill=\"none\"/>\n",
              "    <path d=\"M18.56 5.44l.94 2.06.94-2.06 2.06-.94-2.06-.94-.94-2.06-.94 2.06-2.06.94zm-11 1L8.5 8.5l.94-2.06 2.06-.94-2.06-.94L8.5 2.5l-.94 2.06-2.06.94zm10 10l.94 2.06.94-2.06 2.06-.94-2.06-.94-.94-2.06-.94 2.06-2.06.94z\"/><path d=\"M17.41 7.96l-1.37-1.37c-.4-.4-.92-.59-1.43-.59-.52 0-1.04.2-1.43.59L10.3 9.45l-7.72 7.72c-.78.78-.78 2.05 0 2.83L4 21.41c.39.39.9.59 1.41.59.51 0 1.02-.2 1.41-.59l7.78-7.78 2.81-2.81c.8-.78.8-2.07 0-2.86zM5.41 20L4 18.59l7.72-7.72 1.47 1.35L5.41 20z\"/>\n",
              "  </svg>\n",
              "      </button>\n",
              "      \n",
              "  <style>\n",
              "    .colab-df-container {\n",
              "      display:flex;\n",
              "      flex-wrap:wrap;\n",
              "      gap: 12px;\n",
              "    }\n",
              "\n",
              "    .colab-df-convert {\n",
              "      background-color: #E8F0FE;\n",
              "      border: none;\n",
              "      border-radius: 50%;\n",
              "      cursor: pointer;\n",
              "      display: none;\n",
              "      fill: #1967D2;\n",
              "      height: 32px;\n",
              "      padding: 0 0 0 0;\n",
              "      width: 32px;\n",
              "    }\n",
              "\n",
              "    .colab-df-convert:hover {\n",
              "      background-color: #E2EBFA;\n",
              "      box-shadow: 0px 1px 2px rgba(60, 64, 67, 0.3), 0px 1px 3px 1px rgba(60, 64, 67, 0.15);\n",
              "      fill: #174EA6;\n",
              "    }\n",
              "\n",
              "    [theme=dark] .colab-df-convert {\n",
              "      background-color: #3B4455;\n",
              "      fill: #D2E3FC;\n",
              "    }\n",
              "\n",
              "    [theme=dark] .colab-df-convert:hover {\n",
              "      background-color: #434B5C;\n",
              "      box-shadow: 0px 1px 3px 1px rgba(0, 0, 0, 0.15);\n",
              "      filter: drop-shadow(0px 1px 2px rgba(0, 0, 0, 0.3));\n",
              "      fill: #FFFFFF;\n",
              "    }\n",
              "  </style>\n",
              "\n",
              "      <script>\n",
              "        const buttonEl =\n",
              "          document.querySelector('#df-ed45257a-5485-4549-a5a3-73b24b1b8b39 button.colab-df-convert');\n",
              "        buttonEl.style.display =\n",
              "          google.colab.kernel.accessAllowed ? 'block' : 'none';\n",
              "\n",
              "        async function convertToInteractive(key) {\n",
              "          const element = document.querySelector('#df-ed45257a-5485-4549-a5a3-73b24b1b8b39');\n",
              "          const dataTable =\n",
              "            await google.colab.kernel.invokeFunction('convertToInteractive',\n",
              "                                                     [key], {});\n",
              "          if (!dataTable) return;\n",
              "\n",
              "          const docLinkHtml = 'Like what you see? Visit the ' +\n",
              "            '<a target=\"_blank\" href=https://colab.research.google.com/notebooks/data_table.ipynb>data table notebook</a>'\n",
              "            + ' to learn more about interactive tables.';\n",
              "          element.innerHTML = '';\n",
              "          dataTable['output_type'] = 'display_data';\n",
              "          await google.colab.output.renderOutput(dataTable, element);\n",
              "          const docLink = document.createElement('div');\n",
              "          docLink.innerHTML = docLinkHtml;\n",
              "          element.appendChild(docLink);\n",
              "        }\n",
              "      </script>\n",
              "    </div>\n",
              "  </div>\n",
              "  "
            ]
          },
          "metadata": {},
          "execution_count": 69
        }
      ],
      "source": [
        "df"
      ]
    },
    {
      "cell_type": "markdown",
      "metadata": {
        "id": "_0m5LkbVVJJ6"
      },
      "source": [
        "## Exploratory Analysis and Visualization\n",
        "In this section, we are going to perform some analysis and visualization based on the dataset using multiple libraries such as seaborn and matplotlib.pyplot.\n",
        "\n",
        "\n"
      ]
    },
    {
      "cell_type": "markdown",
      "metadata": {
        "id": "RuPTpsGWVJJ7"
      },
      "source": [
        "*   Let's begin by importing`matplotlib.pyplot`, `numpy`  and `seaborn`.\n",
        "\n",
        "\n"
      ]
    },
    {
      "cell_type": "code",
      "execution_count": null,
      "metadata": {
        "id": "zOTtwqAMVJJ7"
      },
      "outputs": [],
      "source": [
        "import seaborn as sns\n",
        "import matplotlib\n",
        "import matplotlib.pyplot as plt\n",
        "import numpy as np\n",
        "%matplotlib inline\n",
        "\n",
        "sns.set_style('darkgrid')\n",
        "matplotlib.rcParams['font.size'] = 14\n",
        "matplotlib.rcParams['figure.figsize'] = (9, 5)\n",
        "matplotlib.rcParams['figure.facecolor'] = '#00000000'"
      ]
    },
    {
      "cell_type": "markdown",
      "source": [
        "* Compute and display the summary statistics of the dataframe."
      ],
      "metadata": {
        "id": "BDkmZmfYEZCi"
      }
    },
    {
      "cell_type": "code",
      "execution_count": null,
      "metadata": {
        "colab": {
          "base_uri": "https://localhost:8080/",
          "height": 364
        },
        "id": "NKN6RIplVJJ7",
        "outputId": "b869de9c-777e-411c-f893-2d9102801787"
      },
      "outputs": [
        {
          "output_type": "execute_result",
          "data": {
            "text/plain": [
              "         cases_new  cases_total  cases_active        tests     icu  \\\n",
              "count  1540.000000  1540.000000   1540.000000  1540.000000  1540.0   \n",
              "mean      0.000649    46.351948      1.913636   151.885714     0.0   \n",
              "std       0.025482    71.685424     11.854421   306.966846     0.0   \n",
              "min       0.000000     3.000000      0.000000     3.000000     0.0   \n",
              "25%       0.000000    15.000000      0.000000    36.000000     0.0   \n",
              "50%       0.000000    27.000000      0.000000    70.500000     0.0   \n",
              "75%       0.000000    52.000000      0.000000   148.000000     0.0   \n",
              "max       1.000000  1276.000000    197.000000  5938.000000     0.0   \n",
              "\n",
              "            deaths    recovered  \n",
              "count  1540.000000  1540.000000  \n",
              "mean      0.030519    44.408442  \n",
              "std       0.246569    71.824565  \n",
              "min       0.000000     0.000000  \n",
              "25%       0.000000    14.000000  \n",
              "50%       0.000000    25.000000  \n",
              "75%       0.000000    50.000000  \n",
              "max       4.000000  1273.000000  "
            ],
            "text/html": [
              "\n",
              "  <div id=\"df-a6db7c7d-0694-43b0-84c8-55ede5112d1e\">\n",
              "    <div class=\"colab-df-container\">\n",
              "      <div>\n",
              "<style scoped>\n",
              "    .dataframe tbody tr th:only-of-type {\n",
              "        vertical-align: middle;\n",
              "    }\n",
              "\n",
              "    .dataframe tbody tr th {\n",
              "        vertical-align: top;\n",
              "    }\n",
              "\n",
              "    .dataframe thead th {\n",
              "        text-align: right;\n",
              "    }\n",
              "</style>\n",
              "<table border=\"1\" class=\"dataframe\">\n",
              "  <thead>\n",
              "    <tr style=\"text-align: right;\">\n",
              "      <th></th>\n",
              "      <th>cases_new</th>\n",
              "      <th>cases_total</th>\n",
              "      <th>cases_active</th>\n",
              "      <th>tests</th>\n",
              "      <th>icu</th>\n",
              "      <th>deaths</th>\n",
              "      <th>recovered</th>\n",
              "    </tr>\n",
              "  </thead>\n",
              "  <tbody>\n",
              "    <tr>\n",
              "      <th>count</th>\n",
              "      <td>1540.000000</td>\n",
              "      <td>1540.000000</td>\n",
              "      <td>1540.000000</td>\n",
              "      <td>1540.000000</td>\n",
              "      <td>1540.0</td>\n",
              "      <td>1540.000000</td>\n",
              "      <td>1540.000000</td>\n",
              "    </tr>\n",
              "    <tr>\n",
              "      <th>mean</th>\n",
              "      <td>0.000649</td>\n",
              "      <td>46.351948</td>\n",
              "      <td>1.913636</td>\n",
              "      <td>151.885714</td>\n",
              "      <td>0.0</td>\n",
              "      <td>0.030519</td>\n",
              "      <td>44.408442</td>\n",
              "    </tr>\n",
              "    <tr>\n",
              "      <th>std</th>\n",
              "      <td>0.025482</td>\n",
              "      <td>71.685424</td>\n",
              "      <td>11.854421</td>\n",
              "      <td>306.966846</td>\n",
              "      <td>0.0</td>\n",
              "      <td>0.246569</td>\n",
              "      <td>71.824565</td>\n",
              "    </tr>\n",
              "    <tr>\n",
              "      <th>min</th>\n",
              "      <td>0.000000</td>\n",
              "      <td>3.000000</td>\n",
              "      <td>0.000000</td>\n",
              "      <td>3.000000</td>\n",
              "      <td>0.0</td>\n",
              "      <td>0.000000</td>\n",
              "      <td>0.000000</td>\n",
              "    </tr>\n",
              "    <tr>\n",
              "      <th>25%</th>\n",
              "      <td>0.000000</td>\n",
              "      <td>15.000000</td>\n",
              "      <td>0.000000</td>\n",
              "      <td>36.000000</td>\n",
              "      <td>0.0</td>\n",
              "      <td>0.000000</td>\n",
              "      <td>14.000000</td>\n",
              "    </tr>\n",
              "    <tr>\n",
              "      <th>50%</th>\n",
              "      <td>0.000000</td>\n",
              "      <td>27.000000</td>\n",
              "      <td>0.000000</td>\n",
              "      <td>70.500000</td>\n",
              "      <td>0.0</td>\n",
              "      <td>0.000000</td>\n",
              "      <td>25.000000</td>\n",
              "    </tr>\n",
              "    <tr>\n",
              "      <th>75%</th>\n",
              "      <td>0.000000</td>\n",
              "      <td>52.000000</td>\n",
              "      <td>0.000000</td>\n",
              "      <td>148.000000</td>\n",
              "      <td>0.0</td>\n",
              "      <td>0.000000</td>\n",
              "      <td>50.000000</td>\n",
              "    </tr>\n",
              "    <tr>\n",
              "      <th>max</th>\n",
              "      <td>1.000000</td>\n",
              "      <td>1276.000000</td>\n",
              "      <td>197.000000</td>\n",
              "      <td>5938.000000</td>\n",
              "      <td>0.0</td>\n",
              "      <td>4.000000</td>\n",
              "      <td>1273.000000</td>\n",
              "    </tr>\n",
              "  </tbody>\n",
              "</table>\n",
              "</div>\n",
              "      <button class=\"colab-df-convert\" onclick=\"convertToInteractive('df-a6db7c7d-0694-43b0-84c8-55ede5112d1e')\"\n",
              "              title=\"Convert this dataframe to an interactive table.\"\n",
              "              style=\"display:none;\">\n",
              "        \n",
              "  <svg xmlns=\"http://www.w3.org/2000/svg\" height=\"24px\"viewBox=\"0 0 24 24\"\n",
              "       width=\"24px\">\n",
              "    <path d=\"M0 0h24v24H0V0z\" fill=\"none\"/>\n",
              "    <path d=\"M18.56 5.44l.94 2.06.94-2.06 2.06-.94-2.06-.94-.94-2.06-.94 2.06-2.06.94zm-11 1L8.5 8.5l.94-2.06 2.06-.94-2.06-.94L8.5 2.5l-.94 2.06-2.06.94zm10 10l.94 2.06.94-2.06 2.06-.94-2.06-.94-.94-2.06-.94 2.06-2.06.94z\"/><path d=\"M17.41 7.96l-1.37-1.37c-.4-.4-.92-.59-1.43-.59-.52 0-1.04.2-1.43.59L10.3 9.45l-7.72 7.72c-.78.78-.78 2.05 0 2.83L4 21.41c.39.39.9.59 1.41.59.51 0 1.02-.2 1.41-.59l7.78-7.78 2.81-2.81c.8-.78.8-2.07 0-2.86zM5.41 20L4 18.59l7.72-7.72 1.47 1.35L5.41 20z\"/>\n",
              "  </svg>\n",
              "      </button>\n",
              "      \n",
              "  <style>\n",
              "    .colab-df-container {\n",
              "      display:flex;\n",
              "      flex-wrap:wrap;\n",
              "      gap: 12px;\n",
              "    }\n",
              "\n",
              "    .colab-df-convert {\n",
              "      background-color: #E8F0FE;\n",
              "      border: none;\n",
              "      border-radius: 50%;\n",
              "      cursor: pointer;\n",
              "      display: none;\n",
              "      fill: #1967D2;\n",
              "      height: 32px;\n",
              "      padding: 0 0 0 0;\n",
              "      width: 32px;\n",
              "    }\n",
              "\n",
              "    .colab-df-convert:hover {\n",
              "      background-color: #E2EBFA;\n",
              "      box-shadow: 0px 1px 2px rgba(60, 64, 67, 0.3), 0px 1px 3px 1px rgba(60, 64, 67, 0.15);\n",
              "      fill: #174EA6;\n",
              "    }\n",
              "\n",
              "    [theme=dark] .colab-df-convert {\n",
              "      background-color: #3B4455;\n",
              "      fill: #D2E3FC;\n",
              "    }\n",
              "\n",
              "    [theme=dark] .colab-df-convert:hover {\n",
              "      background-color: #434B5C;\n",
              "      box-shadow: 0px 1px 3px 1px rgba(0, 0, 0, 0.15);\n",
              "      filter: drop-shadow(0px 1px 2px rgba(0, 0, 0, 0.3));\n",
              "      fill: #FFFFFF;\n",
              "    }\n",
              "  </style>\n",
              "\n",
              "      <script>\n",
              "        const buttonEl =\n",
              "          document.querySelector('#df-a6db7c7d-0694-43b0-84c8-55ede5112d1e button.colab-df-convert');\n",
              "        buttonEl.style.display =\n",
              "          google.colab.kernel.accessAllowed ? 'block' : 'none';\n",
              "\n",
              "        async function convertToInteractive(key) {\n",
              "          const element = document.querySelector('#df-a6db7c7d-0694-43b0-84c8-55ede5112d1e');\n",
              "          const dataTable =\n",
              "            await google.colab.kernel.invokeFunction('convertToInteractive',\n",
              "                                                     [key], {});\n",
              "          if (!dataTable) return;\n",
              "\n",
              "          const docLinkHtml = 'Like what you see? Visit the ' +\n",
              "            '<a target=\"_blank\" href=https://colab.research.google.com/notebooks/data_table.ipynb>data table notebook</a>'\n",
              "            + ' to learn more about interactive tables.';\n",
              "          element.innerHTML = '';\n",
              "          dataTable['output_type'] = 'display_data';\n",
              "          await google.colab.output.renderOutput(dataTable, element);\n",
              "          const docLink = document.createElement('div');\n",
              "          docLink.innerHTML = docLinkHtml;\n",
              "          element.appendChild(docLink);\n",
              "        }\n",
              "      </script>\n",
              "    </div>\n",
              "  </div>\n",
              "  "
            ]
          },
          "metadata": {},
          "execution_count": 71
        }
      ],
      "source": [
        "df.describe()"
      ]
    },
    {
      "cell_type": "markdown",
      "metadata": {
        "id": "Fv4NPHasVJJ7"
      },
      "source": [
        "**TODO 1** - Find the count of covid tests performed throughout the frame time (3rd January 2020 - 21st December 2022) "
      ]
    },
    {
      "cell_type": "code",
      "execution_count": null,
      "metadata": {
        "colab": {
          "base_uri": "https://localhost:8080/",
          "height": 359
        },
        "id": "-Scf_lKnVJJ7",
        "outputId": "3c595e6a-790e-4ab5-eba3-808ca4e0f272"
      },
      "outputs": [
        {
          "output_type": "execute_result",
          "data": {
            "text/plain": [
              "<matplotlib.axes._subplots.AxesSubplot at 0x7ff763e985e0>"
            ]
          },
          "metadata": {},
          "execution_count": 72
        },
        {
          "output_type": "display_data",
          "data": {
            "text/plain": [
              "<Figure size 648x360 with 1 Axes>"
            ],
            "image/png": "[encoded data removed]"
          },
          "metadata": {
            "needs_background": "light"
          }
        }
      ],
      "source": [
        "sns.histplot(df['tests'])"
      ]
    },
    {
      "cell_type": "markdown",
      "metadata": {
        "id": "Dn_AW-5uVJJ7"
      },
      "source": [
        "**TODO (2)** - Use kdeplot to find the probability distribution of covid tests performed based on the count of the tests."
      ]
    },
    {
      "cell_type": "code",
      "execution_count": null,
      "metadata": {
        "colab": {
          "base_uri": "https://localhost:8080/",
          "height": 364
        },
        "id": "c7fugjWzVJJ7",
        "outputId": "6aed4a67-c448-4cb9-87c6-a7b412e7b0fe"
      },
      "outputs": [
        {
          "output_type": "execute_result",
          "data": {
            "text/plain": [
              "<matplotlib.axes._subplots.AxesSubplot at 0x7ff76382f220>"
            ]
          },
          "metadata": {},
          "execution_count": 73
        },
        {
          "output_type": "display_data",
          "data": {
            "text/plain": [
              "<Figure size 648x360 with 1 Axes>"
            ],
            "image/png": "[encoded data removed]"
          },
          "metadata": {
            "needs_background": "light"
          }
        }
      ],
      "source": [
        "sns.kdeplot(data=df['tests'], shade=True)"
      ]
    },
    {
      "cell_type": "markdown",
      "metadata": {
        "id": "E0U3IWm8VJJ9"
      },
      "source": [
        "## Asking and Answering Questions\n",
        "\n",
        "In this section, we will answer five possible question that can be asked based on the dataset we chose. We will use multiple libraries to answer the various questions such as numpy, pandas, seaborn and matplotlib.\n",
        "\n"
      ]
    },
    {
      "cell_type": "markdown",
      "metadata": {
        "id": "7Lor5rHMVJJ9"
      },
      "source": [
        "#### Q1: What is the total clusters recorded according to its category?"
      ]
    },
    {
      "cell_type": "code",
      "execution_count": null,
      "metadata": {
        "id": "pR1HdQ4JVJJ9",
        "colab": {
          "base_uri": "https://localhost:8080/"
        },
        "outputId": "6724489a-7d6f-47b9-af05-10ab42e9ee2c"
      },
      "outputs": [
        {
          "output_type": "stream",
          "name": "stdout",
          "text": [
            "['workplace' 'community' 'education' 'highRisk' 'religious'\n",
            " 'detentionCentre' 'import']\n"
          ]
        }
      ],
      "source": [
        "df1 = pd.unique(df['category'])\n",
        "\n",
        "print (pd.unique(df['category']))\n"
      ]
    },
    {
      "cell_type": "code",
      "source": [
        "df['category'].value_counts().plot(kind = 'bar', ylabel = \"Total Number of Clusters\", xlabel = \"Category\", title = \"Total Number of Clusters VS Category\", color = plt.cm.Paired(np.arange(len(df1))))\n"
      ],
      "metadata": {
        "colab": {
          "base_uri": "https://localhost:8080/",
          "height": 479
        },
        "id": "rpfNeyJgYWz4",
        "outputId": "1e670d80-2736-4d47-c22b-12066df793a3"
      },
      "execution_count": null,
      "outputs": [
        {
          "output_type": "execute_result",
          "data": {
            "text/plain": [
              "<matplotlib.axes._subplots.AxesSubplot at 0x7ff763795310>"
            ]
          },
          "metadata": {},
          "execution_count": 76
        },
        {
          "output_type": "display_data",
          "data": {
            "text/plain": [
              "<Figure size 648x360 with 1 Axes>"
            ],
            "image/png": "[encoded data removed]"
          },
          "metadata": {
            "needs_background": "light"
          }
        }
      ]
    },
    {
      "cell_type": "markdown",
      "source": [
        "#### **Answer Description**\n",
        "Based on the bar graph above, we can see the total number of clusters formed according to the category. From here, we can see that most clusters formed is from 'education' and the least clusters formed in from 'religious'."
      ],
      "metadata": {
        "id": "hCmwpkrMHrqR"
      }
    },
    {
      "cell_type": "markdown",
      "metadata": {
        "id": "c_REVnrhVJJ-"
      },
      "source": [
        "#### Q2: What is the trend of the total cases for each year?"
      ]
    },
    {
      "cell_type": "code",
      "execution_count": null,
      "metadata": {
        "id": "dvyLd9MdVJJ-",
        "colab": {
          "base_uri": "https://localhost:8080/"
        },
        "outputId": "cf843324-98a3-4272-a237-860c09218af7"
      },
      "outputs": [
        {
          "output_type": "stream",
          "name": "stderr",
          "text": [
            "<ipython-input-78-73091da1c110>:1: SettingWithCopyWarning: \n",
            "A value is trying to be set on a copy of a slice from a DataFrame.\n",
            "Try using .loc[row_indexer,col_indexer] = value instead\n",
            "\n",
            "See the caveats in the documentation: https://pandas.pydata.org/pandas-docs/stable/user_guide/indexing.html#returning-a-view-versus-a-copy\n",
            "  df['year'] = pd.DatetimeIndex(df['date_announced']).year\n",
            "<ipython-input-78-73091da1c110>:2: SettingWithCopyWarning: \n",
            "A value is trying to be set on a copy of a slice from a DataFrame.\n",
            "Try using .loc[row_indexer,col_indexer] = value instead\n",
            "\n",
            "See the caveats in the documentation: https://pandas.pydata.org/pandas-docs/stable/user_guide/indexing.html#returning-a-view-versus-a-copy\n",
            "  df['month'] = pd.DatetimeIndex(df['date_announced']).month\n"
          ]
        }
      ],
      "source": [
        "df['year'] = pd.DatetimeIndex(df['date_announced']).year\n",
        "df['month'] = pd.DatetimeIndex(df['date_announced']).month"
      ]
    },
    {
      "cell_type": "code",
      "source": [
        "df1 = df.groupby(['year', 'month']).apply(lambda df: df.loc[df.cases_total.idxmax()])"
      ],
      "metadata": {
        "id": "uQbAQ1fs1I1M"
      },
      "execution_count": null,
      "outputs": []
    },
    {
      "cell_type": "code",
      "source": [
        "sns.lineplot(data=df1, x=\"month\", y=\"cases_total\", hue=\"year\")"
      ],
      "metadata": {
        "colab": {
          "base_uri": "https://localhost:8080/",
          "height": 359
        },
        "id": "Dxx4wHRn1u11",
        "outputId": "7726e0d0-7d5a-4ac9-f64b-3d3c723087b8"
      },
      "execution_count": null,
      "outputs": [
        {
          "output_type": "execute_result",
          "data": {
            "text/plain": [
              "<matplotlib.axes._subplots.AxesSubplot at 0x7ff763783970>"
            ]
          },
          "metadata": {},
          "execution_count": 80
        },
        {
          "output_type": "display_data",
          "data": {
            "text/plain": [
              "<Figure size 648x360 with 1 Axes>"
            ],
            "image/png": "[encoded data removed]"
          },
          "metadata": {
            "needs_background": "light"
          }
        }
      ]
    },
    {
      "cell_type": "markdown",
      "source": [
        "#### **Answer Description**\n",
        "We have constructed a line chart to represent the trend based on the year."
      ],
      "metadata": {
        "id": "U1M3jy3HIliM"
      }
    },
    {
      "cell_type": "markdown",
      "metadata": {
        "id": "ya3o0SurVJJ-"
      },
      "source": [
        "#### Q3: What cluster recorded the most cases and how many cases were recorded?"
      ]
    },
    {
      "cell_type": "code",
      "execution_count": null,
      "metadata": {
        "id": "bGV1nEzqVJJ-",
        "colab": {
          "base_uri": "https://localhost:8080/"
        },
        "outputId": "466ca4dd-4fdb-4436-86d1-88629949bcc1"
      },
      "outputs": [
        {
          "output_type": "stream",
          "name": "stdout",
          "text": [
            "                cluster state district date_announced date_last_onset  \\\n",
            "4282  KLUSTER LONG URUN    13   BELAGA     2021-08-20      2021-02-11   \n",
            "\n",
            "       category status  cases_new  cases_total  cases_active  tests  icu  \\\n",
            "4282  community  ended          0         1276             0   5938    0   \n",
            "\n",
            "      deaths  recovered                                         summary_bm  \\\n",
            "4282       3       1273  Kluster ini dikenalpasti hasil saringan bersas...   \n",
            "\n",
            "                                             summary_en  year  month  \n",
            "4282  This cluster identification resulted from targ...  2021      8  \n"
          ]
        }
      ],
      "source": [
        "print(df[df.cases_total == df.cases_total.max()])"
      ]
    },
    {
      "cell_type": "markdown",
      "source": [
        "#### **Answer Description**\n",
        "Based on the answer above, we can see that 'KLUSTER LONG URUN' has the highest cases recorded with 1276 cases."
      ],
      "metadata": {
        "id": "AUXZs_lTJ5kI"
      }
    },
    {
      "cell_type": "markdown",
      "metadata": {
        "id": "p4CcVO1TVJJ-"
      },
      "source": [
        "#### Q4: What cluster(s) recorded the highest death toll?"
      ]
    },
    {
      "cell_type": "code",
      "execution_count": null,
      "metadata": {
        "id": "R_C78KePVJJ-",
        "colab": {
          "base_uri": "https://localhost:8080/"
        },
        "outputId": "ce7fa754-8b9b-456e-c907-a604e0f4ed34"
      },
      "outputs": [
        {
          "output_type": "stream",
          "name": "stdout",
          "text": [
            "                         cluster state    district date_announced  \\\n",
            "4186         KLUSTER MAS PUCHONG    10      SEPANG     2021-08-17   \n",
            "7028  KLUSTER DAH JALAN MENDIDIH     2  KUALA MUDA     2022-09-19   \n",
            "\n",
            "     date_last_onset   category status  cases_new  cases_total  cases_active  \\\n",
            "4186      2021-10-11  community  ended          0          269             0   \n",
            "7028      2022-09-18   highRisk  ended          0           26             0   \n",
            "\n",
            "      tests  icu  deaths  recovered  \\\n",
            "4186    330    0       4        265   \n",
            "7028     30    0       4         22   \n",
            "\n",
            "                                             summary_bm  \\\n",
            "4186  Nama kluster ini merujuk kepada lokaliti di ma...   \n",
            "7028  Kluster ini melibatkan penghuni-penghuni sebua...   \n",
            "\n",
            "                                             summary_en  year  month  \n",
            "4186  The name of this cluster refers to the localit...  2021      8  \n",
            "7028  This cluster involves resident of a care centr...  2022      9  \n"
          ]
        }
      ],
      "source": [
        "print(df[df.deaths == df.deaths.max()])"
      ]
    },
    {
      "cell_type": "markdown",
      "source": [
        "#### **Answer Description**\n",
        "From the answer above, we can see that there are 2 clusters that recorded the highest death toll which were 4. The two clusters are 'KLUSTER MAS PUCHONG' and 'KLUSTER DAH JALAN MENDIDIH'."
      ],
      "metadata": {
        "id": "T_hmESqFKwGi"
      }
    },
    {
      "cell_type": "markdown",
      "metadata": {
        "id": "uFuZBqX1VJJ_"
      },
      "source": [
        "#### Q5: How long the clusters lasts for each category?"
      ]
    },
    {
      "cell_type": "code",
      "execution_count": null,
      "metadata": {
        "id": "xZWIg8jJVJJ_",
        "colab": {
          "base_uri": "https://localhost:8080/",
          "height": 1000
        },
        "outputId": "ebf7c899-6509-4bda-d278-4c47c00f404c"
      },
      "outputs": [
        {
          "output_type": "stream",
          "name": "stderr",
          "text": [
            "<ipython-input-86-03c2b7c7e9c5>:1: SettingWithCopyWarning: \n",
            "A value is trying to be set on a copy of a slice from a DataFrame.\n",
            "Try using .loc[row_indexer,col_indexer] = value instead\n",
            "\n",
            "See the caveats in the documentation: https://pandas.pydata.org/pandas-docs/stable/user_guide/indexing.html#returning-a-view-versus-a-copy\n",
            "  df['duration_days'] = (df['date_last_onset'] - df['date_announced']).abs()\n",
            "<ipython-input-86-03c2b7c7e9c5>:2: SettingWithCopyWarning: \n",
            "A value is trying to be set on a copy of a slice from a DataFrame.\n",
            "Try using .loc[row_indexer,col_indexer] = value instead\n",
            "\n",
            "See the caveats in the documentation: https://pandas.pydata.org/pandas-docs/stable/user_guide/indexing.html#returning-a-view-versus-a-copy\n",
            "  df['duration_days'] = df['duration_days'].dt.days\n"
          ]
        },
        {
          "output_type": "execute_result",
          "data": {
            "text/plain": [
              "                                         cluster state  \\\n",
              "666                 KLUSTER SAWIT KINABATANGAN 2    12   \n",
              "680                                 KLUSTER GIAM    13   \n",
              "682   KLUSTER TAPAK BINA LEBUHRAYA SETIAWANGSA 2    14   \n",
              "683                  KLUSTER INDUSTRI WAWASAN 10     1   \n",
              "684                 KLUSTER JALAN BANK KUANTAN 2     6   \n",
              "...                                          ...   ...   \n",
              "7159         KLUSTER INDUSTRI LORONG KELULI SATU    10   \n",
              "7160              KLUSTER TIGA JALAN KOTA RAJA 2    10   \n",
              "7161                    KLUSTER JALAN HULUBALANG    14   \n",
              "7162        KLUSTER DUA JALAN DATO ISMAIL HASHIM     7   \n",
              "7163        KLUSTER DUA JALAN DATO AHMAD YUNUS 2     8   \n",
              "\n",
              "                        district date_announced date_last_onset   category  \\\n",
              "666                 KINABATANGAN     2021-01-09      2021-10-22  workplace   \n",
              "680                      KUCHING     2021-01-10      2021-10-20  community   \n",
              "682   TITIWANGSA, KEPONG, CHERAS     2021-01-11      2021-02-11  workplace   \n",
              "683                   BATU PAHAT     2021-01-11      2021-04-11  workplace   \n",
              "684            KUANTAN, TEMERLOH     2021-01-11      2021-05-11  workplace   \n",
              "...                          ...            ...             ...        ...   \n",
              "7159                       KLANG     2022-12-11      2022-11-11  workplace   \n",
              "7160                       KLANG     2022-12-11      2022-11-11  education   \n",
              "7161                  TITIWANGSA     2022-12-14      2022-12-14   highRisk   \n",
              "7162       BARAT DAYA,TIMUR LAUT     2022-12-18      2022-12-18   highRisk   \n",
              "7163                PERAK TENGAH     2022-12-21      2022-12-20   highRisk   \n",
              "\n",
              "      status  cases_new  cases_total  cases_active  tests  icu  deaths  \\\n",
              "666    ended          0          244             0    534    0       0   \n",
              "680    ended          0          152             0    179    0       0   \n",
              "682    ended          0           28             0     41    0       0   \n",
              "683    ended          0           16             0     24    0       0   \n",
              "684    ended          0           16             0     81    0       0   \n",
              "...      ...        ...          ...           ...    ...  ...     ...   \n",
              "7159   ended          0           13            13     94    0       0   \n",
              "7160   ended          0           48            48     48    0       0   \n",
              "7161  active          0            8             8     37    0       0   \n",
              "7162  active          0           15            14     26    0       1   \n",
              "7163  active          1            6             6      6    0       0   \n",
              "\n",
              "      recovered                                         summary_bm  \\\n",
              "666         244  Kluster ini merupakan kluster berulang kali ke...   \n",
              "680         152  Kluster ini dikenalpasti hasil saringan bersas...   \n",
              "682          28  Kluster ini merupakan kluster berulang kali ke...   \n",
              "683          16  Kluster ini dikenalpasti hasil saringan bersas...   \n",
              "684          16  Kluster ini merupakan kluster berulang kali ke...   \n",
              "...         ...                                                ...   \n",
              "7159          0  Kluster ini dikenalpasti hasil saringan bersas...   \n",
              "7160          0  Kluster ini merupakan kluster berulang untuk k...   \n",
              "7161          0  Kluster ini melibatkan kakitangan sebuah pusat...   \n",
              "7162          0  Kluster ini melibatkan penghuni-penghuni dan k...   \n",
              "7163          0  Kluster ini melibatkan kakitangan sebuah pusat...   \n",
              "\n",
              "                                             summary_en  year  month  \\\n",
              "666   This cluster is the second recurring cluster i...  2021      1   \n",
              "680   This cluster identification resulted from targ...  2021      1   \n",
              "682   This cluster is the second recurring cluster. ...  2021      1   \n",
              "683   This cluster identification resulted from targ...  2021      1   \n",
              "684   This cluster is the second recurring cluster i...  2021      1   \n",
              "...                                                 ...   ...    ...   \n",
              "7159  This cluster involves staffs of a logistic com...  2022     12   \n",
              "7160  This cluster is the second repeated cluster  r...  2022     12   \n",
              "7161  This cluster involves staff of a healthcare fa...  2022     12   \n",
              "7162  This cluster involves residents and staff at a...  2022     12   \n",
              "7163  This cluster involves the staff of a health ce...  2022     12   \n",
              "\n",
              "      duration_days  \n",
              "666             286  \n",
              "680             283  \n",
              "682              31  \n",
              "683              90  \n",
              "684             120  \n",
              "...             ...  \n",
              "7159             30  \n",
              "7160             30  \n",
              "7161              0  \n",
              "7162              0  \n",
              "7163              1  \n",
              "\n",
              "[1540 rows x 19 columns]"
            ],
            "text/html": [
              "\n",
              "  <div id=\"df-027afa16-6697-40cb-aada-209d8f2f3d7d\">\n",
              "    <div class=\"colab-df-container\">\n",
              "      <div>\n",
              "<style scoped>\n",
              "    .dataframe tbody tr th:only-of-type {\n",
              "        vertical-align: middle;\n",
              "    }\n",
              "\n",
              "    .dataframe tbody tr th {\n",
              "        vertical-align: top;\n",
              "    }\n",
              "\n",
              "    .dataframe thead th {\n",
              "        text-align: right;\n",
              "    }\n",
              "</style>\n",
              "<table border=\"1\" class=\"dataframe\">\n",
              "  <thead>\n",
              "    <tr style=\"text-align: right;\">\n",
              "      <th></th>\n",
              "      <th>cluster</th>\n",
              "      <th>state</th>\n",
              "      <th>district</th>\n",
              "      <th>date_announced</th>\n",
              "      <th>date_last_onset</th>\n",
              "      <th>category</th>\n",
              "      <th>status</th>\n",
              "      <th>cases_new</th>\n",
              "      <th>cases_total</th>\n",
              "      <th>cases_active</th>\n",
              "      <th>tests</th>\n",
              "      <th>icu</th>\n",
              "      <th>deaths</th>\n",
              "      <th>recovered</th>\n",
              "      <th>summary_bm</th>\n",
              "      <th>summary_en</th>\n",
              "      <th>year</th>\n",
              "      <th>month</th>\n",
              "      <th>duration_days</th>\n",
              "    </tr>\n",
              "  </thead>\n",
              "  <tbody>\n",
              "    <tr>\n",
              "      <th>666</th>\n",
              "      <td>KLUSTER SAWIT KINABATANGAN 2</td>\n",
              "      <td>12</td>\n",
              "      <td>KINABATANGAN</td>\n",
              "      <td>2021-01-09</td>\n",
              "      <td>2021-10-22</td>\n",
              "      <td>workplace</td>\n",
              "      <td>ended</td>\n",
              "      <td>0</td>\n",
              "      <td>244</td>\n",
              "      <td>0</td>\n",
              "      <td>534</td>\n",
              "      <td>0</td>\n",
              "      <td>0</td>\n",
              "      <td>244</td>\n",
              "      <td>Kluster ini merupakan kluster berulang kali ke...</td>\n",
              "      <td>This cluster is the second recurring cluster i...</td>\n",
              "      <td>2021</td>\n",
              "      <td>1</td>\n",
              "      <td>286</td>\n",
              "    </tr>\n",
              "    <tr>\n",
              "      <th>680</th>\n",
              "      <td>KLUSTER GIAM</td>\n",
              "      <td>13</td>\n",
              "      <td>KUCHING</td>\n",
              "      <td>2021-01-10</td>\n",
              "      <td>2021-10-20</td>\n",
              "      <td>community</td>\n",
              "      <td>ended</td>\n",
              "      <td>0</td>\n",
              "      <td>152</td>\n",
              "      <td>0</td>\n",
              "      <td>179</td>\n",
              "      <td>0</td>\n",
              "      <td>0</td>\n",
              "      <td>152</td>\n",
              "      <td>Kluster ini dikenalpasti hasil saringan bersas...</td>\n",
              "      <td>This cluster identification resulted from targ...</td>\n",
              "      <td>2021</td>\n",
              "      <td>1</td>\n",
              "      <td>283</td>\n",
              "    </tr>\n",
              "    <tr>\n",
              "      <th>682</th>\n",
              "      <td>KLUSTER TAPAK BINA LEBUHRAYA SETIAWANGSA 2</td>\n",
              "      <td>14</td>\n",
              "      <td>TITIWANGSA, KEPONG, CHERAS</td>\n",
              "      <td>2021-01-11</td>\n",
              "      <td>2021-02-11</td>\n",
              "      <td>workplace</td>\n",
              "      <td>ended</td>\n",
              "      <td>0</td>\n",
              "      <td>28</td>\n",
              "      <td>0</td>\n",
              "      <td>41</td>\n",
              "      <td>0</td>\n",
              "      <td>0</td>\n",
              "      <td>28</td>\n",
              "      <td>Kluster ini merupakan kluster berulang kali ke...</td>\n",
              "      <td>This cluster is the second recurring cluster. ...</td>\n",
              "      <td>2021</td>\n",
              "      <td>1</td>\n",
              "      <td>31</td>\n",
              "    </tr>\n",
              "    <tr>\n",
              "      <th>683</th>\n",
              "      <td>KLUSTER INDUSTRI WAWASAN 10</td>\n",
              "      <td>1</td>\n",
              "      <td>BATU PAHAT</td>\n",
              "      <td>2021-01-11</td>\n",
              "      <td>2021-04-11</td>\n",
              "      <td>workplace</td>\n",
              "      <td>ended</td>\n",
              "      <td>0</td>\n",
              "      <td>16</td>\n",
              "      <td>0</td>\n",
              "      <td>24</td>\n",
              "      <td>0</td>\n",
              "      <td>0</td>\n",
              "      <td>16</td>\n",
              "      <td>Kluster ini dikenalpasti hasil saringan bersas...</td>\n",
              "      <td>This cluster identification resulted from targ...</td>\n",
              "      <td>2021</td>\n",
              "      <td>1</td>\n",
              "      <td>90</td>\n",
              "    </tr>\n",
              "    <tr>\n",
              "      <th>684</th>\n",
              "      <td>KLUSTER JALAN BANK KUANTAN 2</td>\n",
              "      <td>6</td>\n",
              "      <td>KUANTAN, TEMERLOH</td>\n",
              "      <td>2021-01-11</td>\n",
              "      <td>2021-05-11</td>\n",
              "      <td>workplace</td>\n",
              "      <td>ended</td>\n",
              "      <td>0</td>\n",
              "      <td>16</td>\n",
              "      <td>0</td>\n",
              "      <td>81</td>\n",
              "      <td>0</td>\n",
              "      <td>0</td>\n",
              "      <td>16</td>\n",
              "      <td>Kluster ini merupakan kluster berulang kali ke...</td>\n",
              "      <td>This cluster is the second recurring cluster i...</td>\n",
              "      <td>2021</td>\n",
              "      <td>1</td>\n",
              "      <td>120</td>\n",
              "    </tr>\n",
              "    <tr>\n",
              "      <th>...</th>\n",
              "      <td>...</td>\n",
              "      <td>...</td>\n",
              "      <td>...</td>\n",
              "      <td>...</td>\n",
              "      <td>...</td>\n",
              "      <td>...</td>\n",
              "      <td>...</td>\n",
              "      <td>...</td>\n",
              "      <td>...</td>\n",
              "      <td>...</td>\n",
              "      <td>...</td>\n",
              "      <td>...</td>\n",
              "      <td>...</td>\n",
              "      <td>...</td>\n",
              "      <td>...</td>\n",
              "      <td>...</td>\n",
              "      <td>...</td>\n",
              "      <td>...</td>\n",
              "      <td>...</td>\n",
              "    </tr>\n",
              "    <tr>\n",
              "      <th>7159</th>\n",
              "      <td>KLUSTER INDUSTRI LORONG KELULI SATU</td>\n",
              "      <td>10</td>\n",
              "      <td>KLANG</td>\n",
              "      <td>2022-12-11</td>\n",
              "      <td>2022-11-11</td>\n",
              "      <td>workplace</td>\n",
              "      <td>ended</td>\n",
              "      <td>0</td>\n",
              "      <td>13</td>\n",
              "      <td>13</td>\n",
              "      <td>94</td>\n",
              "      <td>0</td>\n",
              "      <td>0</td>\n",
              "      <td>0</td>\n",
              "      <td>Kluster ini dikenalpasti hasil saringan bersas...</td>\n",
              "      <td>This cluster involves staffs of a logistic com...</td>\n",
              "      <td>2022</td>\n",
              "      <td>12</td>\n",
              "      <td>30</td>\n",
              "    </tr>\n",
              "    <tr>\n",
              "      <th>7160</th>\n",
              "      <td>KLUSTER TIGA JALAN KOTA RAJA 2</td>\n",
              "      <td>10</td>\n",
              "      <td>KLANG</td>\n",
              "      <td>2022-12-11</td>\n",
              "      <td>2022-11-11</td>\n",
              "      <td>education</td>\n",
              "      <td>ended</td>\n",
              "      <td>0</td>\n",
              "      <td>48</td>\n",
              "      <td>48</td>\n",
              "      <td>48</td>\n",
              "      <td>0</td>\n",
              "      <td>0</td>\n",
              "      <td>0</td>\n",
              "      <td>Kluster ini merupakan kluster berulang untuk k...</td>\n",
              "      <td>This cluster is the second repeated cluster  r...</td>\n",
              "      <td>2022</td>\n",
              "      <td>12</td>\n",
              "      <td>30</td>\n",
              "    </tr>\n",
              "    <tr>\n",
              "      <th>7161</th>\n",
              "      <td>KLUSTER JALAN HULUBALANG</td>\n",
              "      <td>14</td>\n",
              "      <td>TITIWANGSA</td>\n",
              "      <td>2022-12-14</td>\n",
              "      <td>2022-12-14</td>\n",
              "      <td>highRisk</td>\n",
              "      <td>active</td>\n",
              "      <td>0</td>\n",
              "      <td>8</td>\n",
              "      <td>8</td>\n",
              "      <td>37</td>\n",
              "      <td>0</td>\n",
              "      <td>0</td>\n",
              "      <td>0</td>\n",
              "      <td>Kluster ini melibatkan kakitangan sebuah pusat...</td>\n",
              "      <td>This cluster involves staff of a healthcare fa...</td>\n",
              "      <td>2022</td>\n",
              "      <td>12</td>\n",
              "      <td>0</td>\n",
              "    </tr>\n",
              "    <tr>\n",
              "      <th>7162</th>\n",
              "      <td>KLUSTER DUA JALAN DATO ISMAIL HASHIM</td>\n",
              "      <td>7</td>\n",
              "      <td>BARAT DAYA,TIMUR LAUT</td>\n",
              "      <td>2022-12-18</td>\n",
              "      <td>2022-12-18</td>\n",
              "      <td>highRisk</td>\n",
              "      <td>active</td>\n",
              "      <td>0</td>\n",
              "      <td>15</td>\n",
              "      <td>14</td>\n",
              "      <td>26</td>\n",
              "      <td>0</td>\n",
              "      <td>1</td>\n",
              "      <td>0</td>\n",
              "      <td>Kluster ini melibatkan penghuni-penghuni dan k...</td>\n",
              "      <td>This cluster involves residents and staff at a...</td>\n",
              "      <td>2022</td>\n",
              "      <td>12</td>\n",
              "      <td>0</td>\n",
              "    </tr>\n",
              "    <tr>\n",
              "      <th>7163</th>\n",
              "      <td>KLUSTER DUA JALAN DATO AHMAD YUNUS 2</td>\n",
              "      <td>8</td>\n",
              "      <td>PERAK TENGAH</td>\n",
              "      <td>2022-12-21</td>\n",
              "      <td>2022-12-20</td>\n",
              "      <td>highRisk</td>\n",
              "      <td>active</td>\n",
              "      <td>1</td>\n",
              "      <td>6</td>\n",
              "      <td>6</td>\n",
              "      <td>6</td>\n",
              "      <td>0</td>\n",
              "      <td>0</td>\n",
              "      <td>0</td>\n",
              "      <td>Kluster ini melibatkan kakitangan sebuah pusat...</td>\n",
              "      <td>This cluster involves the staff of a health ce...</td>\n",
              "      <td>2022</td>\n",
              "      <td>12</td>\n",
              "      <td>1</td>\n",
              "    </tr>\n",
              "  </tbody>\n",
              "</table>\n",
              "<p>1540 rows × 19 columns</p>\n",
              "</div>\n",
              "      <button class=\"colab-df-convert\" onclick=\"convertToInteractive('df-027afa16-6697-40cb-aada-209d8f2f3d7d')\"\n",
              "              title=\"Convert this dataframe to an interactive table.\"\n",
              "              style=\"display:none;\">\n",
              "        \n",
              "  <svg xmlns=\"http://www.w3.org/2000/svg\" height=\"24px\"viewBox=\"0 0 24 24\"\n",
              "       width=\"24px\">\n",
              "    <path d=\"M0 0h24v24H0V0z\" fill=\"none\"/>\n",
              "    <path d=\"M18.56 5.44l.94 2.06.94-2.06 2.06-.94-2.06-.94-.94-2.06-.94 2.06-2.06.94zm-11 1L8.5 8.5l.94-2.06 2.06-.94-2.06-.94L8.5 2.5l-.94 2.06-2.06.94zm10 10l.94 2.06.94-2.06 2.06-.94-2.06-.94-.94-2.06-.94 2.06-2.06.94z\"/><path d=\"M17.41 7.96l-1.37-1.37c-.4-.4-.92-.59-1.43-.59-.52 0-1.04.2-1.43.59L10.3 9.45l-7.72 7.72c-.78.78-.78 2.05 0 2.83L4 21.41c.39.39.9.59 1.41.59.51 0 1.02-.2 1.41-.59l7.78-7.78 2.81-2.81c.8-.78.8-2.07 0-2.86zM5.41 20L4 18.59l7.72-7.72 1.47 1.35L5.41 20z\"/>\n",
              "  </svg>\n",
              "      </button>\n",
              "      \n",
              "  <style>\n",
              "    .colab-df-container {\n",
              "      display:flex;\n",
              "      flex-wrap:wrap;\n",
              "      gap: 12px;\n",
              "    }\n",
              "\n",
              "    .colab-df-convert {\n",
              "      background-color: #E8F0FE;\n",
              "      border: none;\n",
              "      border-radius: 50%;\n",
              "      cursor: pointer;\n",
              "      display: none;\n",
              "      fill: #1967D2;\n",
              "      height: 32px;\n",
              "      padding: 0 0 0 0;\n",
              "      width: 32px;\n",
              "    }\n",
              "\n",
              "    .colab-df-convert:hover {\n",
              "      background-color: #E2EBFA;\n",
              "      box-shadow: 0px 1px 2px rgba(60, 64, 67, 0.3), 0px 1px 3px 1px rgba(60, 64, 67, 0.15);\n",
              "      fill: #174EA6;\n",
              "    }\n",
              "\n",
              "    [theme=dark] .colab-df-convert {\n",
              "      background-color: #3B4455;\n",
              "      fill: #D2E3FC;\n",
              "    }\n",
              "\n",
              "    [theme=dark] .colab-df-convert:hover {\n",
              "      background-color: #434B5C;\n",
              "      box-shadow: 0px 1px 3px 1px rgba(0, 0, 0, 0.15);\n",
              "      filter: drop-shadow(0px 1px 2px rgba(0, 0, 0, 0.3));\n",
              "      fill: #FFFFFF;\n",
              "    }\n",
              "  </style>\n",
              "\n",
              "      <script>\n",
              "        const buttonEl =\n",
              "          document.querySelector('#df-027afa16-6697-40cb-aada-209d8f2f3d7d button.colab-df-convert');\n",
              "        buttonEl.style.display =\n",
              "          google.colab.kernel.accessAllowed ? 'block' : 'none';\n",
              "\n",
              "        async function convertToInteractive(key) {\n",
              "          const element = document.querySelector('#df-027afa16-6697-40cb-aada-209d8f2f3d7d');\n",
              "          const dataTable =\n",
              "            await google.colab.kernel.invokeFunction('convertToInteractive',\n",
              "                                                     [key], {});\n",
              "          if (!dataTable) return;\n",
              "\n",
              "          const docLinkHtml = 'Like what you see? Visit the ' +\n",
              "            '<a target=\"_blank\" href=https://colab.research.google.com/notebooks/data_table.ipynb>data table notebook</a>'\n",
              "            + ' to learn more about interactive tables.';\n",
              "          element.innerHTML = '';\n",
              "          dataTable['output_type'] = 'display_data';\n",
              "          await google.colab.output.renderOutput(dataTable, element);\n",
              "          const docLink = document.createElement('div');\n",
              "          docLink.innerHTML = docLinkHtml;\n",
              "          element.appendChild(docLink);\n",
              "        }\n",
              "      </script>\n",
              "    </div>\n",
              "  </div>\n",
              "  "
            ]
          },
          "metadata": {},
          "execution_count": 86
        }
      ],
      "source": [
        "df['duration_days'] = (df['date_last_onset'] - df['date_announced']).abs()\n",
        "df['duration_days'] = df['duration_days'].dt.days\n",
        "df"
      ]
    },
    {
      "cell_type": "code",
      "source": [
        "sns.lineplot(data=df, x=\"duration_days\", y=\"cases_total\", hue=\"category\")"
      ],
      "metadata": {
        "colab": {
          "base_uri": "https://localhost:8080/",
          "height": 359
        },
        "id": "DaHPcg1SvP4T",
        "outputId": "64717189-6fc3-49e6-b260-5b2ac43b1da8"
      },
      "execution_count": null,
      "outputs": [
        {
          "output_type": "execute_result",
          "data": {
            "text/plain": [
              "<matplotlib.axes._subplots.AxesSubplot at 0x7ff763eb4be0>"
            ]
          },
          "metadata": {},
          "execution_count": 87
        },
        {
          "output_type": "display_data",
          "data": {
            "text/plain": [
              "<Figure size 648x360 with 1 Axes>"
            ],
            "image/png": "[encoded data removed]"
          },
          "metadata": {
            "needs_background": "light"
          }
        }
      ]
    },
    {
      "cell_type": "markdown",
      "source": [
        "#### **Answer Description**\n",
        "To find the answer, we choose to visualize it in linechart so that we can observe the result based on each category. Based on the linechart, it can be said that, category 'workplace' recorded the longest time for a cluster to end. "
      ],
      "metadata": {
        "id": "nbiSsJdjNV8f"
      }
    },
    {
      "cell_type": "markdown",
      "metadata": {
        "id": "VxoO755tVJJ_"
      },
      "source": [
        "## Inferences and Conclusion\n",
        "\n",
        "**TODO** - Write some explanation here: a summary of all the inferences drawn from the analysis, and any conclusions you may have drawn by answering various questions."
      ]
    },
    {
      "cell_type": "markdown",
      "source": [
        "Overall, analysis is a valuable tool that can provide insights and understanding of data and help inform decision making. There are many benefits to conducting analysis, including improved decision making, increased efficiency and enhanced understanding. Thus, it can help to turn data into actionable insights and inform better decision making.\n",
        "\n",
        "In conclusion, we have analysed which categories inside the clusters have the largest case numbers. In contrast to other categories, based on the analysis, education has the most cases. This study may result in school closures, a switch to online learning, educational disparities, and a negative impact on both students' and instructors' mental health and wellbeing. Plus, the data was analysed to determine the trend instances for each year. In which months the trend has the most instances and least cases, respectively, could be seen. We might also make comparisons between the years. We may also check to determine which clusters had the most instances and fatalities. Finally, we were able to determine how long each cluster lasted. We were able to forecast which clusters pose the most threat to humans because to our data. As a result, we could rely on the clusters for safety."
      ],
      "metadata": {
        "id": "ZVH6GTZNdJ_Q"
      }
    },
    {
      "cell_type": "markdown",
      "metadata": {
        "id": "xfuc6sJgVJKA"
      },
      "source": [
        "## References and Future Work\n",
        "\n",
        "**TODO** - Write some explanation here: ideas for future projects using this dataset, and links to resources you found useful."
      ]
    },
    {
      "cell_type": "markdown",
      "source": [
        "Below are the links to some useful resources:\n",
        "\n",
        "1.   [Kaggle: Python](https://www.kaggle.com/learn/python)\n",
        "2.   [Kaggle: Pandas](https://www.kaggle.com/learn/pandas)\n",
        "3.   [Kaggle: Data Visualization](https://www.kaggle.com/learn/data-visualization)\n",
        "\n"
      ],
      "metadata": {
        "id": "Hs4FXJVYnQcU"
      }
    }
  ],
  "metadata": {
    "colab": {
      "provenance": [],
      "include_colab_link": true
    },
    "kernelspec": {
      "display_name": "Python 3",
      "language": "python",
      "name": "python3"
    },
    "language_info": {
      "codemirror_mode": {
        "name": "ipython",
        "version": 3
      },
      "file_extension": ".py",
      "mimetype": "text/x-python",
      "name": "python",
      "nbconvert_exporter": "python",
      "pygments_lexer": "ipython3",
      "version": "3.8.5"
    }
  },
  "nbformat": 4,
  "nbformat_minor": 0
}