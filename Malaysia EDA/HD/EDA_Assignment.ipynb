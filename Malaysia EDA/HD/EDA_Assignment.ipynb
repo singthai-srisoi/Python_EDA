{
  "cells": [
    {
      "cell_type": "markdown",
      "metadata": {
        "id": "view-in-github",
        "colab_type": "text"
      },
      "source": [
        "<a href=\"https://colab.research.google.com/github/drshahizan/Python_EDA/blob/main/Malaysia%20EDA/team%208/EDA_Assignment.ipynb\" target=\"_parent\"><img src=\"https://colab.research.google.com/assets/colab-badge.svg\" alt=\"Open In Colab\"/></a>"
      ]
    },
    {
      "cell_type": "markdown",
      "metadata": {
        "id": "XBtcnU6iVJJx"
      },
      "source": [
        "## Assignment: Exploratory Data Analysis using Python\n",
        "\n",
        "\n",
        "*   NUR IRDINA ALIAH BINTI ABDUL WAHAB A20EC0115\n",
        "*   NURFARRAHIN BINTI CHE ALIAS \n",
        "A20EC0121\n",
        "\n",
        "\n",
        "\n",
        "\n"
      ]
    },
    {
      "cell_type": "markdown",
      "metadata": {
        "id": "7F8DQl5dVJJ0"
      },
      "source": [
        "# Project Title - Analysis of Guna Tanah Tampin, Negeri Sembilan <a href=\"https://www.utm.my\" target=\"_parent\"><img src=\"https://colab.research.google.com/assets/colab-badge.svg\" alt=\"Open In Colab\"/></a>\n",
        "\n",
        "This dataset is about land property in Tampin , Negeri Sembilan. It contains 9 column and 54260 rows. this datasets has different usage of land property which is based in only Tampin District.\n",
        "\n",
        "[Senarai Lengkap Maklumat Guna Tanah Semasa (Tampin) Negeri Sembilan](https://www.data.gov.my/data/ms_MY/dataset/senarai-lengkap-maklumat-guna-tanah-semasa-port-dickson-tampin-negeri-sembilan)\n"
      ]
    },
    {
      "cell_type": "markdown",
      "source": [],
      "metadata": {
        "id": "VndHXLa1UkJ1"
      }
    },
    {
      "cell_type": "code",
      "execution_count": null,
      "metadata": {
        "id": "oAVmLuq2VJJ3"
      },
      "outputs": [],
      "source": [
        "import pandas as pd\n",
        "import numpy as np"
      ]
    },
    {
      "cell_type": "markdown",
      "metadata": {
        "id": "XXnPmr-JVJJ3"
      },
      "source": [
        "The dataset has been downloaded and extracted."
      ]
    },
    {
      "cell_type": "code",
      "source": [
        "data = pd.read_csv('https://raw.githubusercontent.com/Deelia99/dataset/main/m-20221201054019_202212010540360_2021-gunatanah_tampin.csv')\n",
        "\n",
        "data.head()"
      ],
      "metadata": {
        "id": "AxF6FReMNLAi"
      },
      "execution_count": null,
      "outputs": []
    },
    {
      "cell_type": "markdown",
      "metadata": {
        "id": "Jnx4zelxVJJ4"
      },
      "source": [
        "Next step :\n",
        "            \n",
        "*   replace Null with nan\n",
        "*  replace nan with specific values like mean or string\n",
        "*   change data type at certain column\n",
        "\n",
        "\n",
        "\n",
        "\n",
        "\n",
        "\n",
        "\n",
        "\n",
        "\n",
        "\n",
        "\n",
        "\n"
      ]
    },
    {
      "cell_type": "code",
      "execution_count": null,
      "metadata": {
        "id": "uowAPeffVJJ4"
      },
      "outputs": [],
      "source": [
        "df=data\n",
        "df=df.replace({'<Null>':np.NaN})\n",
        "\n",
        "df.tail(20)"
      ]
    },
    {
      "cell_type": "code",
      "execution_count": null,
      "metadata": {
        "id": "BEVbTciwVJJ4"
      },
      "outputs": [],
      "source": [
        "#\"College\"].fillna(\"No College\", inplace = True)\n",
        "a=df['LUAS (HEKTAR)'].mean()\n",
        "print(\"%.4f\" % a)\n",
        "df[\"LUAS (HEKTAR)\"].fillna(1.5679, inplace = True)\n"
      ]
    },
    {
      "cell_type": "code",
      "execution_count": null,
      "metadata": {
        "id": "nqciugWLVJJ4"
      },
      "outputs": [],
      "source": [
        "#df['LUAS (HEKTAR)'].isna().sum()\n",
        "print(df['GUNA TANAH 1'].isna().sum())\n",
        "#df.info(54272)\n",
        "\n"
      ]
    },
    {
      "cell_type": "code",
      "execution_count": null,
      "metadata": {
        "id": "Rsgjn7WZVJJ4"
      },
      "outputs": [],
      "source": [
        "print(df.duplicated(subset='LUAS (HEKTAR)'))\n",
        "print(df.duplicated().sum())\n",
        "\n"
      ]
    },
    {
      "cell_type": "code",
      "execution_count": null,
      "metadata": {
        "id": "8BlXZJt_VJJ5"
      },
      "outputs": [],
      "source": [
        " df.drop_duplicates( keep='last')\n",
        "df.tail(5)\n",
        "count_nan = len(df) - df.count()\n",
        "count_nan\n",
        "df.head(5)\n"
      ]
    },
    {
      "cell_type": "code",
      "execution_count": null,
      "metadata": {
        "id": "fVjJerS1VJJ5"
      },
      "outputs": [],
      "source": [
        "df.dropna(thresh=2)"
      ]
    },
    {
      "cell_type": "code",
      "source": [
        "df[\"NAMA\"].fillna(\"Tidak Diketahui\", inplace = True)\n",
        "df.head(10)"
      ],
      "metadata": {
        "id": "N5lxBkF7rN1L"
      },
      "execution_count": null,
      "outputs": []
    },
    {
      "cell_type": "code",
      "source": [
        "#Drop rows that has NaN values on selected column\n",
        "df2=df.dropna(subset=['ID MUKIM','KOD GTN'])"
      ],
      "metadata": {
        "id": "rdqIwphjsLM-"
      },
      "execution_count": null,
      "outputs": []
    },
    {
      "cell_type": "code",
      "source": [
        "print(df['DAERAH'].value_counts())\n",
        "\n",
        "print(df['PIHAK BERKUASA TEMPATAN'].value_counts())\n",
        "\n",
        "print(df['GUNA TANAH 1'].value_counts())\n",
        "\n",
        "print(df['GUNA TANAH 2'].value_counts())\n",
        "print(df['GUNA TANAH 3'].value_counts())\n",
        "print(df['NAMA'].value_counts())\n"
      ],
      "metadata": {
        "id": "bnMF-ZmQvN1Y"
      },
      "execution_count": null,
      "outputs": []
    },
    {
      "cell_type": "code",
      "source": [
        "df.dtypes"
      ],
      "metadata": {
        "id": "bxbHAwiufqol"
      },
      "execution_count": null,
      "outputs": []
    },
    {
      "cell_type": "code",
      "source": [
        "\n",
        "df.info()\n",
        "\n",
        "\n"
      ],
      "metadata": {
        "id": "Xd_MQlvSgRrr"
      },
      "execution_count": null,
      "outputs": []
    },
    {
      "cell_type": "code",
      "source": [
        "df['GUNA TANAH 2'].dtypes"
      ],
      "metadata": {
        "id": "I3pyv7YXlzse"
      },
      "execution_count": null,
      "outputs": []
    },
    {
      "cell_type": "code",
      "source": [
        "df.astype(str)['GUNA TANAH 1'].map(lambda x:  type(x))"
      ],
      "metadata": {
        "id": "tQfSj5uokRVL"
      },
      "execution_count": null,
      "outputs": []
    },
    {
      "cell_type": "markdown",
      "metadata": {
        "id": "_0m5LkbVVJJ6"
      },
      "source": [
        "## Exploratory Analysis and Visualization\n",
        "This section will shows steps and details of the calculation below:\n",
        "\n",
        "> - Determining the mean, sum, range and other interesting statistics for numeric columns\n",
        "> - Calculation distributions of numeric columns using histograms.\n",
        "> - Explaining the relationship between columns using scatter plots and bar charts.\n",
        "\n",
        "\n"
      ]
    },
    {
      "cell_type": "code",
      "source": [
        "df2 = df[[\"LUAS (HEKTAR)\"]].mean()\n",
        "print(df2)"
      ],
      "metadata": {
        "id": "eaMogHr3Z7Jy"
      },
      "execution_count": null,
      "outputs": []
    },
    {
      "cell_type": "code",
      "source": [
        "maxClm_PIHAK_BERKUASA_TEMPATAN = df['PIHAK BERKUASA TEMPATAN'].max()\n",
        "maxClm_PIHAK_BERKUASA_TEMPATAN"
      ],
      "metadata": {
        "id": "n7bn-lMmb9xQ"
      },
      "execution_count": null,
      "outputs": []
    },
    {
      "cell_type": "code",
      "source": [
        "maxClm_GUNA_TANAH1 = df['GUNA TANAH 1'].max()\n",
        "maxClm_GUNA_TANAH1\n"
      ],
      "metadata": {
        "id": "Vqzw2wOtcHGx"
      },
      "execution_count": null,
      "outputs": []
    },
    {
      "cell_type": "code",
      "source": [
        "maxClm_GUNA_TANAH2 = df['GUNA TANAH 2'].max()\n",
        "maxClm_GUNA_TANAH2\n"
      ],
      "metadata": {
        "id": "pSPMSm6aciJ0"
      },
      "execution_count": null,
      "outputs": []
    },
    {
      "cell_type": "code",
      "source": [
        "maxClm_GUNA_TANAH3 = df['GUNA TANAH 3'].max()\n",
        "maxClm_GUNA_TANAH3\n"
      ],
      "metadata": {
        "id": "7N_W0b3Scpw2"
      },
      "execution_count": null,
      "outputs": []
    },
    {
      "cell_type": "code",
      "source": [
        "maxClm_NAMA = df['NAMA'].max()\n",
        "maxClm_NAMA\n"
      ],
      "metadata": {
        "id": "JUEz2y6Wcwb2"
      },
      "execution_count": null,
      "outputs": []
    },
    {
      "cell_type": "code",
      "source": [
        "maxClm_KOD_GTN = df['KOD GTN'].max()\n",
        "maxClm_KOD_GTN\n",
        "\n"
      ],
      "metadata": {
        "id": "pP6K1fXXdEUd"
      },
      "execution_count": null,
      "outputs": []
    },
    {
      "cell_type": "code",
      "source": [
        "Count_Value_GUNA_TANAH_1=df['GUNA TANAH 1'].value_counts()\n",
        "Count_Value_GUNA_TANAH_1\n",
        "Count_Value_GUNA_TANAH_2=df['GUNA TANAH 2'].value_counts()\n",
        "Count_Value_GUNA_TANAH_3=df['GUNA TANAH 3'].value_counts()\n",
        "Count_Value_KOD_GTN=df['KOD GTN'].value_counts()\n",
        "Count_Value_HEKTAR=df['LUAS (HEKTAR)'].value_counts()"
      ],
      "metadata": {
        "id": "urnptWenxvG0"
      },
      "execution_count": null,
      "outputs": []
    },
    {
      "cell_type": "code",
      "source": [
        "import pandas as pd\n",
        "df1 = pd.DataFrame(Count_Value_GUNA_TANAH_1)\n",
        "print(df1.values.tolist())\n",
        "#df2 = pd.DataFrame(Count_Value_GUNA_TANAH_2)\n",
        "#df3 = pd.DataFrame(Count_Value_GUNA_TANAH_3)\n",
        "#dfCount_Value_HEKTAR = pd.DataFrame(Count_Value_HEKTAR)\n",
        "#dfCount_Value_KOD_GTN = pd.DataFrame(Count_Value_KOD_GTN)\n",
        "\n",
        "\n",
        "\n",
        "\n",
        "#df1.columns =['jumlah ']\n",
        "\n",
        "#print(df1.columns)\n",
        "print(df1.index)\n",
        "#print(df1.count(axis='columns'))\n",
        "#print(df1.count(axis='index'))\n",
        "\n",
        "#df1\n",
        "#df1\n",
        "#df1\n",
        "#df2\n",
        "#df3\n",
        "#dfCount_Value_HEKTAR"
      ],
      "metadata": {
        "id": "-yGMMhk8yajH"
      },
      "execution_count": null,
      "outputs": []
    },
    {
      "cell_type": "code",
      "source": [
        "data = {'tanah perusahaan': ['Pertanian', 'Perumahan', 'Komersial', 'Tanah Kosong', 'Pengangkutan',\n",
        "       'Institusi dan Kemudahan Masyarakat', 'Badan Air', 'Industri',\n",
        "       'Tanah Lapang dan Rekreasi', 'Infrastruktur dan Utiliti', 'Hutan'],\n",
        "        'jumlah' : [23634, 23194, 2889, 1345, 974, 621, 600, 389, 282, 272, 72]\n",
        "        }\n",
        "      "
      ],
      "metadata": {
        "id": "DsVM7hhqLQnH"
      },
      "execution_count": null,
      "outputs": []
    },
    {
      "cell_type": "code",
      "source": [
        "df5= pd.DataFrame(data)\n",
        "df5"
      ],
      "metadata": {
        "id": "zinnel-zNRkI"
      },
      "execution_count": null,
      "outputs": []
    },
    {
      "cell_type": "code",
      "execution_count": null,
      "metadata": {
        "id": "zOTtwqAMVJJ7"
      },
      "outputs": [],
      "source": [
        "import seaborn as sns\n",
        "import matplotlib\n",
        "import matplotlib.pyplot as plt\n",
        "%matplotlib inline\n",
        "#C:\\Users\\irdinaaliah>pip install matplotlib\n",
        "\n",
        "sns.set_style('darkgrid')\n",
        "matplotlib.rcParams['font.size'] = 14\n",
        "matplotlib.rcParams['figure.figsize'] = (9, 5)\n",
        "matplotlib.rcParams['figure.facecolor'] = '#00000000'"
      ]
    },
    {
      "cell_type": "code",
      "source": [
        "print(matplotlib.__version__)\n"
      ],
      "metadata": {
        "id": "UC1p7fOfra1U"
      },
      "execution_count": null,
      "outputs": []
    },
    {
      "cell_type": "markdown",
      "metadata": {
        "id": "RuPTpsGWVJJ7"
      },
      "source": [
        "Let's begin by importing`matplotlib.pyplot` and `seaborn`."
      ]
    },
    {
      "cell_type": "code",
      "execution_count": null,
      "metadata": {
        "id": "NKN6RIplVJJ7"
      },
      "outputs": [],
      "source": [
        "import matplotlib.pyplot as plt\n"
      ]
    },
    {
      "cell_type": "code",
      "source": [
        "!pip install seaborn"
      ],
      "metadata": {
        "id": "D0xY2qydkfxp"
      },
      "execution_count": null,
      "outputs": []
    },
    {
      "cell_type": "markdown",
      "metadata": {
        "id": "Fv4NPHasVJJ7"
      },
      "source": [
        "**TODO** - Explore one or more columns by plotting a graph below, and add some explanation about it"
      ]
    },
    {
      "cell_type": "code",
      "source": [
        "df5.plot(x=\"tanah perusahaan\", y=\"jumlah\", kind=\"bar\")\n"
      ],
      "metadata": {
        "id": "4kkMmJauyyKY",
        "colab": {
          "base_uri": "https://localhost:8080/",
          "height": 605
        },
        "outputId": "ff3c91a1-a312-4f04-eb2d-61badb4327b4"
      },
      "execution_count": null,
      "outputs": [
        {
          "output_type": "execute_result",
          "data": {
            "text/plain": [
              "<matplotlib.axes._subplots.AxesSubplot at 0x7f362bebb3a0>"
            ]
          },
          "metadata": {},
          "execution_count": 67
        },
        {
          "output_type": "display_data",
          "data": {
            "text/plain": [
              "<Figure size 648x360 with 1 Axes>"
            ],
            "image/png": "[encoded data removed]"
          },
          "metadata": {
            "needs_background": "light"
          }
        }
      ]
    },
    {
      "cell_type": "markdown",
      "source": [
        " based on the histogram above , we can see that guna tanah 1 is mostly used as in *pertanian industry* and the second highest is for *perumahan*"
      ],
      "metadata": {
        "id": "Xkfg4lczWZ70"
      }
    },
    {
      "cell_type": "code",
      "source": [
        "df2 = pd.DataFrame(Count_Value_GUNA_TANAH_2)\n",
        "print(df2.values.tolist())\n",
        "print(df2.index)"
      ],
      "metadata": {
        "id": "XpjeOV9CR06v"
      },
      "execution_count": null,
      "outputs": []
    },
    {
      "cell_type": "code",
      "source": [
        "data = {'tanah perusahaan': ['Tanaman', 'Perumahan Bukan Strata', 'Kampung', 'Teres',\n",
        "       'Tanah Pembangunan', 'Jalan', 'Semula Jadi', 'Taman Perindustrian',\n",
        "       'Tanah Lapang', 'Pendidikan', 'Bekalan Elektrik', 'Pengangkutan Darat',\n",
        "       'Keagamaan', 'Perkuburan', 'Keselamatan', 'Kemudahan Awam',\n",
        "       'Kawasan Hijau', 'Hutan Simpan Kekal', 'Tanah Tidak Diusahakan',\n",
        "       'Bangunan Sesebuah', 'Penternakan', 'Kegunaan Kerajaan/Badan Berkanun',\n",
        "       'Bekalan Air', 'Pembetungan', 'Bukan Taman Perindustrian', 'Kesihatan',\n",
        "       'Perlombongan/Kuari', 'Kegunaan Khusus', 'Perumahan Strata',\n",
        "       'Pengairan dan Perparitan', 'Telekomunikasi',\n",
        "       'Rumah Persatuan/Pertubuhan', 'Akuakultur',\n",
        "       'Kemudahan Sukan dan Rekreasi', 'Pelupusan Sisa Pepejal', 'Setinggan',\n",
        "       'Rumah Kebajikan', 'Pembangunan Penggunaan Bercampur'],\n",
        "        'jumlah' : [23564,16899, 6273, 2796, 1273, 844, 600, 317, 198, 148, 132, 130, 120, 92, 83, 80, 77, 72, 72, 71, 63, 54, 52, 51, 45, 32, 27, 21, 20, 19, 14, 11, 7, 7, 4, 2, 1, 1]\n",
        "        }"
      ],
      "metadata": {
        "id": "fnZ-OxHrTJgW"
      },
      "execution_count": null,
      "outputs": []
    },
    {
      "cell_type": "code",
      "source": [
        "df6= pd.DataFrame(data)\n",
        "df6"
      ],
      "metadata": {
        "id": "veYdXNTISwk2"
      },
      "execution_count": null,
      "outputs": []
    },
    {
      "cell_type": "code",
      "source": [
        "df6.plot(x=\"tanah perusahaan\", y=\"jumlah\", kind=\"bar\")"
      ],
      "metadata": {
        "colab": {
          "base_uri": "https://localhost:8080/",
          "height": 562
        },
        "id": "GrB6VntWSrjY",
        "outputId": "1200dc7a-8d08-4428-8f81-17085e1491fb"
      },
      "execution_count": null,
      "outputs": [
        {
          "output_type": "execute_result",
          "data": {
            "text/plain": [
              "<matplotlib.axes._subplots.AxesSubplot at 0x7f3619c1aa30>"
            ]
          },
          "metadata": {},
          "execution_count": 88
        },
        {
          "output_type": "display_data",
          "data": {
            "text/plain": [
              "<Figure size 648x360 with 1 Axes>"
            ],
            "image/png": "[encoded data removed]"
          },
          "metadata": {}
        }
      ]
    },
    {
      "cell_type": "markdown",
      "source": [
        " based on the histogram above , we can see that guna tanah 2 is mostly used as in *tanaman* that exceeds 20000 values and the second highest is for *Perumahan Bukan Strata* while most "
      ],
      "metadata": {
        "id": "4L__HIqLS9th"
      }
    },
    {
      "cell_type": "code",
      "source": [
        "df"
      ],
      "metadata": {
        "id": "jJNsCXkllmoW"
      },
      "execution_count": null,
      "outputs": []
    },
    {
      "cell_type": "markdown",
      "source": [
        "Explore relationship between columns using scatter plots, bar charts etc.\n"
      ],
      "metadata": {
        "id": "Mby6MleQm28r"
      }
    },
    {
      "cell_type": "code",
      "execution_count": null,
      "metadata": {
        "id": "c7fugjWzVJJ7"
      },
      "outputs": [],
      "source": [
        "a=df.corr()\n",
        "a\n"
      ]
    },
    {
      "cell_type": "code",
      "execution_count": null,
      "metadata": {
        "id": "pPnlFwy2VJJ7",
        "colab": {
          "base_uri": "https://localhost:8080/",
          "height": 396
        },
        "outputId": "8257dd4e-c327-4a92-892b-1792b6044094"
      },
      "outputs": [
        {
          "output_type": "execute_result",
          "data": {
            "text/plain": [
              "array([[<matplotlib.axes._subplots.AxesSubplot object at 0x7f362be487c0>,\n",
              "        <matplotlib.axes._subplots.AxesSubplot object at 0x7f3623f595e0>]],\n",
              "      dtype=object)"
            ]
          },
          "metadata": {},
          "execution_count": 70
        },
        {
          "output_type": "display_data",
          "data": {
            "text/plain": [
              "<Figure size 648x360 with 2 Axes>"
            ],
            "image/png": "[encoded data removed]"
          },
          "metadata": {
            "needs_background": "light"
          }
        }
      ],
      "source": [
        "a.hist()\n"
      ]
    },
    {
      "cell_type": "code",
      "source": [
        "plt.plot(a, linestyle = 'dashed')"
      ],
      "metadata": {
        "colab": {
          "base_uri": "https://localhost:8080/",
          "height": 359
        },
        "id": "kmxl9RLV4I4t",
        "outputId": "3f51c4c9-6403-4809-fa9e-a9a7cfb6d9dd"
      },
      "execution_count": null,
      "outputs": [
        {
          "output_type": "execute_result",
          "data": {
            "text/plain": [
              "[<matplotlib.lines.Line2D at 0x7f36236db850>,\n",
              " <matplotlib.lines.Line2D at 0x7f36236db8b0>]"
            ]
          },
          "metadata": {},
          "execution_count": 71
        },
        {
          "output_type": "display_data",
          "data": {
            "text/plain": [
              "<Figure size 648x360 with 1 Axes>"
            ],
            "image/png": "[encoded data removed]"
          },
          "metadata": {
            "needs_background": "light"
          }
        }
      ]
    },
    {
      "cell_type": "markdown",
      "source": [
        "based on graph above the lines for ID MUKIM and Luas(Hektar) are intersection , this shows that these two column has corelation "
      ],
      "metadata": {
        "id": "iaUP0wFY5zAL"
      }
    },
    {
      "cell_type": "code",
      "source": [
        "b=df.corr(method='kendall')\n",
        "b"
      ],
      "metadata": {
        "id": "348y2ij6V-na"
      },
      "execution_count": null,
      "outputs": []
    },
    {
      "cell_type": "code",
      "source": [
        "b.hist()"
      ],
      "metadata": {
        "colab": {
          "base_uri": "https://localhost:8080/",
          "height": 390
        },
        "id": "TTM2r99PV-uk",
        "outputId": "e3b56db4-f55e-4a6a-a195-30a2d2454e30"
      },
      "execution_count": null,
      "outputs": [
        {
          "output_type": "execute_result",
          "data": {
            "text/plain": [
              "array([[<matplotlib.axes._subplots.AxesSubplot object at 0x7f3619d59d30>,\n",
              "        <matplotlib.axes._subplots.AxesSubplot object at 0x7f36176129d0>]],\n",
              "      dtype=object)"
            ]
          },
          "metadata": {},
          "execution_count": 92
        },
        {
          "output_type": "display_data",
          "data": {
            "text/plain": [
              "<Figure size 648x360 with 2 Axes>"
            ],
            "image/png": "[encoded data removed]"
          },
          "metadata": {}
        }
      ]
    },
    {
      "cell_type": "code",
      "source": [
        "plt.plot(b, linestyle = 'dashed')"
      ],
      "metadata": {
        "colab": {
          "base_uri": "https://localhost:8080/",
          "height": 357
        },
        "id": "7MCavArlXdqR",
        "outputId": "93278342-2044-4352-e3f4-9408d67db1dd"
      },
      "execution_count": null,
      "outputs": [
        {
          "output_type": "execute_result",
          "data": {
            "text/plain": [
              "[<matplotlib.lines.Line2D at 0x7f3617609cd0>,\n",
              " <matplotlib.lines.Line2D at 0x7f3617609040>]"
            ]
          },
          "metadata": {},
          "execution_count": 93
        },
        {
          "output_type": "display_data",
          "data": {
            "text/plain": [
              "<Figure size 648x360 with 1 Axes>"
            ],
            "image/png": "[encoded data removed]"
          },
          "metadata": {}
        }
      ]
    },
    {
      "cell_type": "markdown",
      "metadata": {
        "id": "rN1bUu8RVJJ7"
      },
      "source": [
        "\n",
        "based on graph above the lines for *ID MUKIM* and* Luas(Hektar)* are intersection , this shows that these two column has corelation "
      ]
    },
    {
      "cell_type": "markdown",
      "metadata": {
        "id": "tLNLw0EOVJJ8"
      },
      "source": [
        "CLUSTERING"
      ]
    },
    {
      "cell_type": "code",
      "execution_count": null,
      "metadata": {
        "id": "61sgf555VJJ8"
      },
      "outputs": [],
      "source": [
        "import numpy as np\n",
        "import pandas as pd\n",
        "import statsmodels.api as sm\n",
        "import matplotlib.pyplot as plt\n",
        "import seaborn as sns\n",
        "sns.set()\n",
        "from sklearn.cluster import KMeans"
      ]
    },
    {
      "cell_type": "code",
      "source": [
        "df.head()"
      ],
      "metadata": {
        "id": "QAS5SQyXBERS"
      },
      "execution_count": null,
      "outputs": []
    },
    {
      "cell_type": "code",
      "execution_count": null,
      "metadata": {
        "id": "fOQ9cTWiVJJ8"
      },
      "outputs": [],
      "source": [
        "plt.scatter(df['GUNA TANAH 1'],df['LUAS (HEKTAR)'])\n",
        "plt.xlim(-180,180)\n",
        "plt.ylim(-90,90)\n",
        "plt.show()"
      ]
    },
    {
      "cell_type": "code",
      "execution_count": null,
      "metadata": {
        "id": "Zatc4Si_VJJ8"
      },
      "outputs": [],
      "source": [
        "plt.scatter(df['GUNA TANAH 1'],df['LUAS (HEKTAR)'])\n",
        "plt.xlim(-180,180)\n",
        "plt.ylim(-90,90)\n",
        "plt.show()"
      ]
    },
    {
      "cell_type": "markdown",
      "source": [
        "As you can see here, Guna Tanah 1 is more scattered on the range 20-40 hektar while the volume decreases as the value goes up."
      ],
      "metadata": {
        "id": "bLDtJdCTL80v"
      }
    },
    {
      "cell_type": "markdown",
      "metadata": {
        "id": "E0U3IWm8VJJ9"
      },
      "source": [
        "## Asking and Answering Questions\n",
        "\n",
        "\n",
        "\n"
      ]
    },
    {
      "cell_type": "markdown",
      "metadata": {
        "id": "7Lor5rHMVJJ9"
      },
      "source": [
        " Q1: **How many Guna Tanah 3 are analyzed in this dataset from Tampin if the tanah 1 is Pertanian?**"
      ]
    },
    {
      "cell_type": "code",
      "source": [
        "import pandas as pd\n",
        "import numpy as np\n",
        "data = pd.read_csv('https://raw.githubusercontent.com/Deelia99/dataset/main/m-20221201054019_202212010540360_2021-gunatanah_tampin.csv')\n",
        "\n",
        "data.head()"
      ],
      "metadata": {
        "id": "QZ_FBuijZ_S1"
      },
      "execution_count": null,
      "outputs": []
    },
    {
      "cell_type": "code",
      "execution_count": null,
      "metadata": {
        "id": "pR1HdQ4JVJJ9",
        "colab": {
          "base_uri": "https://localhost:8080/"
        },
        "outputId": "61efc223-4fe7-49b6-844e-e1d6e23e0ebb"
      },
      "outputs": [
        {
          "output_type": "execute_result",
          "data": {
            "text/plain": [
              "18"
            ]
          },
          "metadata": {},
          "execution_count": 97
        }
      ],
      "source": [
        "len(data.loc[data['GUNA TANAH 1'] == 'Pertanian','GUNA TANAH 3'].unique())"
      ]
    },
    {
      "cell_type": "markdown",
      "metadata": {
        "id": "c_REVnrhVJJ-"
      },
      "source": [
        " Q2: **Which Industry is using the most tanah in Guna Tanah 3?**"
      ]
    },
    {
      "cell_type": "code",
      "execution_count": null,
      "metadata": {
        "id": "LKIZxnawVJJ9"
      },
      "outputs": [],
      "source": [
        "data.groupby('GUNA TANAH 3').size()"
      ]
    },
    {
      "cell_type": "markdown",
      "source": [
        "*Tanaman recorded the highest value of Guna Tanah 3 with 16314 tanah used*"
      ],
      "metadata": {
        "id": "gcMU7aKLdzFq"
      }
    },
    {
      "cell_type": "markdown",
      "metadata": {
        "id": "ya3o0SurVJJ-"
      },
      "source": [
        "*** Q3: What is the model used to predict the average of Luas(Hektar) used and the mean absolute error of the model?***\n",
        "\n"
      ]
    },
    {
      "cell_type": "code",
      "source": [
        "from sklearn.metrics import mean_absolute_error\n",
        "y_train = data[\"LUAS (HEKTAR)\"]\n",
        "y_mean = y_train.mean()\n",
        "\n",
        "\n",
        "y_pred_baseline = [y_mean] * len(y_train)\n",
        "print(\"Mean Luas(Hektar) Used: \", y_mean)\n",
        "print(\"Baseline MAE: \", mean_absolute_error(y_train, y_pred_baseline))"
      ],
      "metadata": {
        "id": "_O0ceW3XkZqL"
      },
      "execution_count": null,
      "outputs": []
    },
    {
      "cell_type": "markdown",
      "source": [
        "* Our naive model has predicted that the average tanah used in Hektar is 1.57 Hectar and the mean absolute error of the model is about 2.15 Hectar.*"
      ],
      "metadata": {
        "id": "xgYnG8eilYBq"
      }
    },
    {
      "cell_type": "markdown",
      "metadata": {
        "id": "p4CcVO1TVJJ-"
      },
      "source": [
        "**Q4:What is the mean and median**\n"
      ]
    },
    {
      "cell_type": "code",
      "source": [
        "pip install seaborn"
      ],
      "metadata": {
        "id": "k5VG98Sln7Md"
      },
      "execution_count": null,
      "outputs": []
    },
    {
      "cell_type": "code",
      "execution_count": null,
      "metadata": {
        "id": "Wa96BGX1VJJ-"
      },
      "outputs": [],
      "source": [
        "import seaborn as sns\n",
        "import matplotlib\n",
        "import matplotlib.pyplot as plt\n"
      ]
    },
    {
      "cell_type": "code",
      "execution_count": null,
      "metadata": {
        "id": "R_C78KePVJJ-"
      },
      "outputs": [],
      "source": [
        "sns.relplot(x=\"ID MUKIM\", y=\"LUAS (HEKTAR)\", data= pd.read_csv('https://raw.githubusercontent.com/Deelia99/dataset/main/m-20221201054019_202212010540360_2021-gunatanah_tampin.csv'), hue = 'GUNA TANAH 1', kind='scatter')"
      ]
    },
    {
      "cell_type": "markdown",
      "source": [
        "*We can see Perusahaan better in the scatter chart above.for ID 50620, there isn't any development in the area while most of the area is used in ID MUKIM 50600*"
      ],
      "metadata": {
        "id": "g7pCFi2CpYbe"
      }
    },
    {
      "cell_type": "markdown",
      "source": [
        "Now, we calculate the mean and median of the Luas Tanah in hectar"
      ],
      "metadata": {
        "id": "YuN99mkFsB4F"
      }
    },
    {
      "cell_type": "code",
      "source": [
        "data= pd.read_csv('https://raw.githubusercontent.com/Deelia99/dataset/main/m-20221201054019_202212010540360_2021-gunatanah_tampin.csv')\n",
        "Area_mean =data['LUAS (HEKTAR)'].mean()\n",
        "print ('Area Tanah Mean:', Area_mean)\n",
        "Area_median =data['LUAS (HEKTAR)'].median()\n",
        "print ('Area Tanah Median:', Area_median)"
      ],
      "metadata": {
        "id": "nQOiVHhBqhdm"
      },
      "execution_count": null,
      "outputs": []
    },
    {
      "cell_type": "markdown",
      "metadata": {
        "id": "uFuZBqX1VJJ_"
      },
      "source": [
        "**Q5: Can you show in graph the comparison of Mean Luas Tanah based on its ID MUKIM?**"
      ]
    },
    {
      "cell_type": "code",
      "source": [
        "import seaborn as sns\n",
        "import matplotlib\n",
        "import matplotlib.pyplot as plt"
      ],
      "metadata": {
        "id": "YzekCXwjx18C"
      },
      "execution_count": null,
      "outputs": []
    },
    {
      "cell_type": "code",
      "source": [
        "# Mean Luas Tanah\n",
        "mean_luas_tanah_size = data.groupby('ID MUKIM')['LUAS (HEKTAR)'].mean().sort_values()\n",
        "print(mean_luas_tanah_size)"
      ],
      "metadata": {
        "id": "TE1WpIMQy2ns"
      },
      "execution_count": null,
      "outputs": []
    },
    {
      "cell_type": "code",
      "source": [
        "data= pd.read_csv('https://raw.githubusercontent.com/Deelia99/dataset/main/m-20221201054019_202212010540360_2021-gunatanah_tampin.csv')"
      ],
      "metadata": {
        "id": "N8eq4Pw-z0Jv"
      },
      "execution_count": null,
      "outputs": []
    },
    {
      "cell_type": "code",
      "source": [
        "plt.figure(figsize=(14, 7))\n",
        "sns.set_palette('spring')\n",
        "\n",
        "plt.subplot(1, 2, 1)\n",
        "ax = sns.barplot(x=mean_luas_tanah_size.index, y=mean_luas_tanah_size)\n",
        "ax.set_title('Mean Luas Tanah vs ID MUKIM', fontdict={'fontsize': 16})\n"
      ],
      "metadata": {
        "id": "VHmhpMh6zbpW"
      },
      "execution_count": null,
      "outputs": []
    },
    {
      "cell_type": "markdown",
      "metadata": {
        "id": "VxoO755tVJJ_"
      },
      "source": [
        "## Inferences and Conclusion\n",
        "\n"
      ]
    },
    {
      "cell_type": "markdown",
      "source": [
        "In a nutshell, we have especially looked into the facts on there are many types of industry/ residencies have used the Lot Tanah according to Majlis Daerah Tampin. The farming industry is the main character in the development of  Tampin District as it recorded the highest number of lot used in Tampin. Not to forget Residencies development also is increasing day by day. By looking at the average of tanah used by every perusahaan marks the increasing number of development in the area."
      ],
      "metadata": {
        "id": "AFy9it3emBqM"
      }
    }
  ],
  "metadata": {
    "kernelspec": {
      "display_name": "Python 3",
      "language": "python",
      "name": "python3"
    },
    "language_info": {
      "codemirror_mode": {
        "name": "ipython",
        "version": 3
      },
      "file_extension": ".py",
      "mimetype": "text/x-python",
      "name": "python",
      "nbconvert_exporter": "python",
      "pygments_lexer": "ipython3",
      "version": "3.8.5"
    },
    "colab": {
      "provenance": [],
      "include_colab_link": true
    }
  },
  "nbformat": 4,
  "nbformat_minor": 0
}
