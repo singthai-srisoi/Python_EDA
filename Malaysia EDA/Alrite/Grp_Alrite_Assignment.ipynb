{
  "cells": [
    {
      "cell_type": "markdown",
      "metadata": {
        "id": "view-in-github",
        "colab_type": "text"
      },
      "source": [
        "<a href=\"https://colab.research.google.com/github/drshahizan/Python_EDA/blob/main/Malaysia%20EDA/team%202/Grp_Alrite_Assignment.ipynb\" target=\"_parent\"><img src=\"https://colab.research.google.com/assets/colab-badge.svg\" alt=\"Open In Colab\"/></a>"
      ]
    },
    {
      "cell_type": "markdown",
      "source": [
        "# Project Title - EDA on The Exportation of Plantation in Sarawak   <a href=\"https://colab.research.google.com/drive/1Hb54DkyUD0bTf5Id9YDp8UgKptd1rKAc?usp=sharingscrollTo=EP-X34iHu-aS\" target=\"_parent\"><img src=\"https://colab.research.google.com/assets/colab-badge.svg\" alt=\"Open In Colab\"/></a>\n",
        "\n",
        "In this project, we are going to do an exploratory data analysis of the Property Listings in Kuala Lumpur. We have found from https://www.data.gov.my/data/ms_MY/dataset/pengeluaran-tanaman-buah-mengikut-daerah-di-sarawak\n",
        "\n",
        "We wish to compare the compare the residential property price in Kuala Lumpur.between different locations.\n",
        "\n",
        "The technique/tool used we used in this EDA such as:\n",
        "\n",
        "*   pandas\n",
        "*   scipy\n",
        "*   numpy\n",
        "*   scikit-learn\n",
        "*   matplotlib.pyplot\n",
        "*   seaborn\n",
        "\n",
        "**Group Members:**\n",
        "1. **CHONG KAI ZHE A20EC0186**\n",
        "2. **RASMIN KAUR SANDHU A19ET0216**"
      ],
      "metadata": {
        "id": "EP-X34iHu-aS"
      }
    },
    {
      "cell_type": "code",
      "execution_count": null,
      "metadata": {
        "colab": {
          "base_uri": "https://localhost:8080/"
        },
        "id": "SfVAKwfHHZj9",
        "outputId": "4870f34e-3b22-4068-f308-b40972f2b615"
      },
      "outputs": [
        {
          "output_type": "stream",
          "name": "stdout",
          "text": [
            "Mounted at /content/drive\n"
          ]
        }
      ],
      "source": [
        "from google.colab import drive\n",
        "drive.mount('/content/drive')"
      ]
    },
    {
      "cell_type": "code",
      "execution_count": null,
      "metadata": {
        "id": "_Q3rQZp0HvKh"
      },
      "outputs": [],
      "source": [
        "import pandas as pd\n",
        "import numpy as np\n",
        "import seaborn as sns\n",
        "import matplotlib.pyplot as plt"
      ]
    },
    {
      "cell_type": "code",
      "execution_count": null,
      "metadata": {
        "colab": {
          "base_uri": "https://localhost:8080/",
          "height": 468
        },
        "id": "2hWoKDwWHx64",
        "outputId": "0f091a2d-3d8c-4315-8c8f-a02feaa63422"
      },
      "outputs": [
        {
          "output_type": "execute_result",
          "data": {
            "text/plain": [
              "       Tahun   Daerah          Butiran  Komoditi Sub Komoditi  \\\n",
              "0       2015  Kuching  Luas Bertanam ha     Buah    Belimbing   \n",
              "1       2015  Kuching  Luas Berhasil ha     Buah    Belimbing   \n",
              "2       2015  Kuching    Pengeluaran Mt     Buah    Belimbing   \n",
              "3       2016  Kuching  Luas Bertanam ha     Buah    Belimbing   \n",
              "4       2016  Kuching  Luas Berhasil ha     Buah    Belimbing   \n",
              "...      ...      ...               ...      ...          ...   \n",
              "14148   2020  Siburan  Luas Berhasil ha     Buah     Tembikai   \n",
              "14149   2020  Siburan    Pengeluaran Mt     Buah     Tembikai   \n",
              "14150   2021  Siburan  Luas Bertanam ha     Buah     Tembikai   \n",
              "14151   2021  Siburan  Luas Berhasil ha     Buah     Tembikai   \n",
              "14152   2021  Siburan    Pengeluaran Mt     Buah     Tembikai   \n",
              "\n",
              "       Kuantiti atau Nilai   \n",
              "0                       0.1  \n",
              "1                       0.1  \n",
              "2                       0.1  \n",
              "3                       0.1  \n",
              "4                       0.1  \n",
              "...                     ...  \n",
              "14148                   NaN  \n",
              "14149                   NaN  \n",
              "14150                   NaN  \n",
              "14151                   NaN  \n",
              "14152                   NaN  \n",
              "\n",
              "[14153 rows x 6 columns]"
            ],
            "text/html": [
              "\n",
              "  <div id=\"df-0a86f3be-60a3-433f-bc3c-29b6f06e79fe\">\n",
              "    <div class=\"colab-df-container\">\n",
              "      <div>\n",
              "<style scoped>\n",
              "    .dataframe tbody tr th:only-of-type {\n",
              "        vertical-align: middle;\n",
              "    }\n",
              "\n",
              "    .dataframe tbody tr th {\n",
              "        vertical-align: top;\n",
              "    }\n",
              "\n",
              "    .dataframe thead th {\n",
              "        text-align: right;\n",
              "    }\n",
              "</style>\n",
              "<table border=\"1\" class=\"dataframe\">\n",
              "  <thead>\n",
              "    <tr style=\"text-align: right;\">\n",
              "      <th></th>\n",
              "      <th>Tahun</th>\n",
              "      <th>Daerah</th>\n",
              "      <th>Butiran</th>\n",
              "      <th>Komoditi</th>\n",
              "      <th>Sub Komoditi</th>\n",
              "      <th>Kuantiti atau Nilai</th>\n",
              "    </tr>\n",
              "  </thead>\n",
              "  <tbody>\n",
              "    <tr>\n",
              "      <th>0</th>\n",
              "      <td>2015</td>\n",
              "      <td>Kuching</td>\n",
              "      <td>Luas Bertanam ha</td>\n",
              "      <td>Buah</td>\n",
              "      <td>Belimbing</td>\n",
              "      <td>0.1</td>\n",
              "    </tr>\n",
              "    <tr>\n",
              "      <th>1</th>\n",
              "      <td>2015</td>\n",
              "      <td>Kuching</td>\n",
              "      <td>Luas Berhasil ha</td>\n",
              "      <td>Buah</td>\n",
              "      <td>Belimbing</td>\n",
              "      <td>0.1</td>\n",
              "    </tr>\n",
              "    <tr>\n",
              "      <th>2</th>\n",
              "      <td>2015</td>\n",
              "      <td>Kuching</td>\n",
              "      <td>Pengeluaran Mt</td>\n",
              "      <td>Buah</td>\n",
              "      <td>Belimbing</td>\n",
              "      <td>0.1</td>\n",
              "    </tr>\n",
              "    <tr>\n",
              "      <th>3</th>\n",
              "      <td>2016</td>\n",
              "      <td>Kuching</td>\n",
              "      <td>Luas Bertanam ha</td>\n",
              "      <td>Buah</td>\n",
              "      <td>Belimbing</td>\n",
              "      <td>0.1</td>\n",
              "    </tr>\n",
              "    <tr>\n",
              "      <th>4</th>\n",
              "      <td>2016</td>\n",
              "      <td>Kuching</td>\n",
              "      <td>Luas Berhasil ha</td>\n",
              "      <td>Buah</td>\n",
              "      <td>Belimbing</td>\n",
              "      <td>0.1</td>\n",
              "    </tr>\n",
              "    <tr>\n",
              "      <th>...</th>\n",
              "      <td>...</td>\n",
              "      <td>...</td>\n",
              "      <td>...</td>\n",
              "      <td>...</td>\n",
              "      <td>...</td>\n",
              "      <td>...</td>\n",
              "    </tr>\n",
              "    <tr>\n",
              "      <th>14148</th>\n",
              "      <td>2020</td>\n",
              "      <td>Siburan</td>\n",
              "      <td>Luas Berhasil ha</td>\n",
              "      <td>Buah</td>\n",
              "      <td>Tembikai</td>\n",
              "      <td>NaN</td>\n",
              "    </tr>\n",
              "    <tr>\n",
              "      <th>14149</th>\n",
              "      <td>2020</td>\n",
              "      <td>Siburan</td>\n",
              "      <td>Pengeluaran Mt</td>\n",
              "      <td>Buah</td>\n",
              "      <td>Tembikai</td>\n",
              "      <td>NaN</td>\n",
              "    </tr>\n",
              "    <tr>\n",
              "      <th>14150</th>\n",
              "      <td>2021</td>\n",
              "      <td>Siburan</td>\n",
              "      <td>Luas Bertanam ha</td>\n",
              "      <td>Buah</td>\n",
              "      <td>Tembikai</td>\n",
              "      <td>NaN</td>\n",
              "    </tr>\n",
              "    <tr>\n",
              "      <th>14151</th>\n",
              "      <td>2021</td>\n",
              "      <td>Siburan</td>\n",
              "      <td>Luas Berhasil ha</td>\n",
              "      <td>Buah</td>\n",
              "      <td>Tembikai</td>\n",
              "      <td>NaN</td>\n",
              "    </tr>\n",
              "    <tr>\n",
              "      <th>14152</th>\n",
              "      <td>2021</td>\n",
              "      <td>Siburan</td>\n",
              "      <td>Pengeluaran Mt</td>\n",
              "      <td>Buah</td>\n",
              "      <td>Tembikai</td>\n",
              "      <td>NaN</td>\n",
              "    </tr>\n",
              "  </tbody>\n",
              "</table>\n",
              "<p>14153 rows × 6 columns</p>\n",
              "</div>\n",
              "      <button class=\"colab-df-convert\" onclick=\"convertToInteractive('df-0a86f3be-60a3-433f-bc3c-29b6f06e79fe')\"\n",
              "              title=\"Convert this dataframe to an interactive table.\"\n",
              "              style=\"display:none;\">\n",
              "        \n",
              "  <svg xmlns=\"http://www.w3.org/2000/svg\" height=\"24px\"viewBox=\"0 0 24 24\"\n",
              "       width=\"24px\">\n",
              "    <path d=\"M0 0h24v24H0V0z\" fill=\"none\"/>\n",
              "    <path d=\"M18.56 5.44l.94 2.06.94-2.06 2.06-.94-2.06-.94-.94-2.06-.94 2.06-2.06.94zm-11 1L8.5 8.5l.94-2.06 2.06-.94-2.06-.94L8.5 2.5l-.94 2.06-2.06.94zm10 10l.94 2.06.94-2.06 2.06-.94-2.06-.94-.94-2.06-.94 2.06-2.06.94z\"/><path d=\"M17.41 7.96l-1.37-1.37c-.4-.4-.92-.59-1.43-.59-.52 0-1.04.2-1.43.59L10.3 9.45l-7.72 7.72c-.78.78-.78 2.05 0 2.83L4 21.41c.39.39.9.59 1.41.59.51 0 1.02-.2 1.41-.59l7.78-7.78 2.81-2.81c.8-.78.8-2.07 0-2.86zM5.41 20L4 18.59l7.72-7.72 1.47 1.35L5.41 20z\"/>\n",
              "  </svg>\n",
              "      </button>\n",
              "      \n",
              "  <style>\n",
              "    .colab-df-container {\n",
              "      display:flex;\n",
              "      flex-wrap:wrap;\n",
              "      gap: 12px;\n",
              "    }\n",
              "\n",
              "    .colab-df-convert {\n",
              "      background-color: #E8F0FE;\n",
              "      border: none;\n",
              "      border-radius: 50%;\n",
              "      cursor: pointer;\n",
              "      display: none;\n",
              "      fill: #1967D2;\n",
              "      height: 32px;\n",
              "      padding: 0 0 0 0;\n",
              "      width: 32px;\n",
              "    }\n",
              "\n",
              "    .colab-df-convert:hover {\n",
              "      background-color: #E2EBFA;\n",
              "      box-shadow: 0px 1px 2px rgba(60, 64, 67, 0.3), 0px 1px 3px 1px rgba(60, 64, 67, 0.15);\n",
              "      fill: #174EA6;\n",
              "    }\n",
              "\n",
              "    [theme=dark] .colab-df-convert {\n",
              "      background-color: #3B4455;\n",
              "      fill: #D2E3FC;\n",
              "    }\n",
              "\n",
              "    [theme=dark] .colab-df-convert:hover {\n",
              "      background-color: #434B5C;\n",
              "      box-shadow: 0px 1px 3px 1px rgba(0, 0, 0, 0.15);\n",
              "      filter: drop-shadow(0px 1px 2px rgba(0, 0, 0, 0.3));\n",
              "      fill: #FFFFFF;\n",
              "    }\n",
              "  </style>\n",
              "\n",
              "      <script>\n",
              "        const buttonEl =\n",
              "          document.querySelector('#df-0a86f3be-60a3-433f-bc3c-29b6f06e79fe button.colab-df-convert');\n",
              "        buttonEl.style.display =\n",
              "          google.colab.kernel.accessAllowed ? 'block' : 'none';\n",
              "\n",
              "        async function convertToInteractive(key) {\n",
              "          const element = document.querySelector('#df-0a86f3be-60a3-433f-bc3c-29b6f06e79fe');\n",
              "          const dataTable =\n",
              "            await google.colab.kernel.invokeFunction('convertToInteractive',\n",
              "                                                     [key], {});\n",
              "          if (!dataTable) return;\n",
              "\n",
              "          const docLinkHtml = 'Like what you see? Visit the ' +\n",
              "            '<a target=\"_blank\" href=https://colab.research.google.com/notebooks/data_table.ipynb>data table notebook</a>'\n",
              "            + ' to learn more about interactive tables.';\n",
              "          element.innerHTML = '';\n",
              "          dataTable['output_type'] = 'display_data';\n",
              "          await google.colab.output.renderOutput(dataTable, element);\n",
              "          const docLink = document.createElement('div');\n",
              "          docLink.innerHTML = docLinkHtml;\n",
              "          element.appendChild(docLink);\n",
              "        }\n",
              "      </script>\n",
              "    </div>\n",
              "  </div>\n",
              "  "
            ]
          },
          "metadata": {},
          "execution_count": 3
        }
      ],
      "source": [
        "df = pd.read_csv('/content/drive/MyDrive/Colab Notebooks/2015 Hingga 2021 Pengeluaran Tanaman Buah Daerah.csv')\n",
        "df"
      ]
    },
    {
      "cell_type": "code",
      "execution_count": null,
      "metadata": {
        "colab": {
          "base_uri": "https://localhost:8080/",
          "height": 468
        },
        "id": "WSCElOGYIgk4",
        "outputId": "589ae570-be88-4258-9002-b7e8b6afccdc"
      },
      "outputs": [
        {
          "output_type": "execute_result",
          "data": {
            "text/plain": [
              "       Tahun   Daerah          Butiran  Komoditi Sub Komoditi  \\\n",
              "0       2015  Kuching  Luas Bertanam ha     Buah    Belimbing   \n",
              "1       2015  Kuching  Luas Berhasil ha     Buah    Belimbing   \n",
              "2       2015  Kuching    Pengeluaran Mt     Buah    Belimbing   \n",
              "3       2016  Kuching  Luas Bertanam ha     Buah    Belimbing   \n",
              "4       2016  Kuching  Luas Berhasil ha     Buah    Belimbing   \n",
              "...      ...      ...               ...      ...          ...   \n",
              "11049   2016    Pakan  Luas Berhasil ha     Buah       Nangka   \n",
              "11050   2016    Pakan    Pengeluaran Mt     Buah       Nangka   \n",
              "11051   2017    Pakan  Luas Bertanam ha     Buah       Nangka   \n",
              "11052   2017    Pakan  Luas Berhasil ha     Buah       Nangka   \n",
              "11053   2017    Pakan    Pengeluaran Mt     Buah       Nangka   \n",
              "\n",
              "       Kuantiti atau Nilai   \n",
              "0                       0.1  \n",
              "1                       0.1  \n",
              "2                       0.1  \n",
              "3                       0.1  \n",
              "4                       0.1  \n",
              "...                     ...  \n",
              "11049              9,005.00  \n",
              "11050              9,362.10  \n",
              "11051             10,817.50  \n",
              "11052             13,766.10  \n",
              "11053             13,784.60  \n",
              "\n",
              "[11054 rows x 6 columns]"
            ],
            "text/html": [
              "\n",
              "  <div id=\"df-3393e306-ac3e-4a2c-92a3-aa758f5c2e24\">\n",
              "    <div class=\"colab-df-container\">\n",
              "      <div>\n",
              "<style scoped>\n",
              "    .dataframe tbody tr th:only-of-type {\n",
              "        vertical-align: middle;\n",
              "    }\n",
              "\n",
              "    .dataframe tbody tr th {\n",
              "        vertical-align: top;\n",
              "    }\n",
              "\n",
              "    .dataframe thead th {\n",
              "        text-align: right;\n",
              "    }\n",
              "</style>\n",
              "<table border=\"1\" class=\"dataframe\">\n",
              "  <thead>\n",
              "    <tr style=\"text-align: right;\">\n",
              "      <th></th>\n",
              "      <th>Tahun</th>\n",
              "      <th>Daerah</th>\n",
              "      <th>Butiran</th>\n",
              "      <th>Komoditi</th>\n",
              "      <th>Sub Komoditi</th>\n",
              "      <th>Kuantiti atau Nilai</th>\n",
              "    </tr>\n",
              "  </thead>\n",
              "  <tbody>\n",
              "    <tr>\n",
              "      <th>0</th>\n",
              "      <td>2015</td>\n",
              "      <td>Kuching</td>\n",
              "      <td>Luas Bertanam ha</td>\n",
              "      <td>Buah</td>\n",
              "      <td>Belimbing</td>\n",
              "      <td>0.1</td>\n",
              "    </tr>\n",
              "    <tr>\n",
              "      <th>1</th>\n",
              "      <td>2015</td>\n",
              "      <td>Kuching</td>\n",
              "      <td>Luas Berhasil ha</td>\n",
              "      <td>Buah</td>\n",
              "      <td>Belimbing</td>\n",
              "      <td>0.1</td>\n",
              "    </tr>\n",
              "    <tr>\n",
              "      <th>2</th>\n",
              "      <td>2015</td>\n",
              "      <td>Kuching</td>\n",
              "      <td>Pengeluaran Mt</td>\n",
              "      <td>Buah</td>\n",
              "      <td>Belimbing</td>\n",
              "      <td>0.1</td>\n",
              "    </tr>\n",
              "    <tr>\n",
              "      <th>3</th>\n",
              "      <td>2016</td>\n",
              "      <td>Kuching</td>\n",
              "      <td>Luas Bertanam ha</td>\n",
              "      <td>Buah</td>\n",
              "      <td>Belimbing</td>\n",
              "      <td>0.1</td>\n",
              "    </tr>\n",
              "    <tr>\n",
              "      <th>4</th>\n",
              "      <td>2016</td>\n",
              "      <td>Kuching</td>\n",
              "      <td>Luas Berhasil ha</td>\n",
              "      <td>Buah</td>\n",
              "      <td>Belimbing</td>\n",
              "      <td>0.1</td>\n",
              "    </tr>\n",
              "    <tr>\n",
              "      <th>...</th>\n",
              "      <td>...</td>\n",
              "      <td>...</td>\n",
              "      <td>...</td>\n",
              "      <td>...</td>\n",
              "      <td>...</td>\n",
              "      <td>...</td>\n",
              "    </tr>\n",
              "    <tr>\n",
              "      <th>11049</th>\n",
              "      <td>2016</td>\n",
              "      <td>Pakan</td>\n",
              "      <td>Luas Berhasil ha</td>\n",
              "      <td>Buah</td>\n",
              "      <td>Nangka</td>\n",
              "      <td>9,005.00</td>\n",
              "    </tr>\n",
              "    <tr>\n",
              "      <th>11050</th>\n",
              "      <td>2016</td>\n",
              "      <td>Pakan</td>\n",
              "      <td>Pengeluaran Mt</td>\n",
              "      <td>Buah</td>\n",
              "      <td>Nangka</td>\n",
              "      <td>9,362.10</td>\n",
              "    </tr>\n",
              "    <tr>\n",
              "      <th>11051</th>\n",
              "      <td>2017</td>\n",
              "      <td>Pakan</td>\n",
              "      <td>Luas Bertanam ha</td>\n",
              "      <td>Buah</td>\n",
              "      <td>Nangka</td>\n",
              "      <td>10,817.50</td>\n",
              "    </tr>\n",
              "    <tr>\n",
              "      <th>11052</th>\n",
              "      <td>2017</td>\n",
              "      <td>Pakan</td>\n",
              "      <td>Luas Berhasil ha</td>\n",
              "      <td>Buah</td>\n",
              "      <td>Nangka</td>\n",
              "      <td>13,766.10</td>\n",
              "    </tr>\n",
              "    <tr>\n",
              "      <th>11053</th>\n",
              "      <td>2017</td>\n",
              "      <td>Pakan</td>\n",
              "      <td>Pengeluaran Mt</td>\n",
              "      <td>Buah</td>\n",
              "      <td>Nangka</td>\n",
              "      <td>13,784.60</td>\n",
              "    </tr>\n",
              "  </tbody>\n",
              "</table>\n",
              "<p>11054 rows × 6 columns</p>\n",
              "</div>\n",
              "      <button class=\"colab-df-convert\" onclick=\"convertToInteractive('df-3393e306-ac3e-4a2c-92a3-aa758f5c2e24')\"\n",
              "              title=\"Convert this dataframe to an interactive table.\"\n",
              "              style=\"display:none;\">\n",
              "        \n",
              "  <svg xmlns=\"http://www.w3.org/2000/svg\" height=\"24px\"viewBox=\"0 0 24 24\"\n",
              "       width=\"24px\">\n",
              "    <path d=\"M0 0h24v24H0V0z\" fill=\"none\"/>\n",
              "    <path d=\"M18.56 5.44l.94 2.06.94-2.06 2.06-.94-2.06-.94-.94-2.06-.94 2.06-2.06.94zm-11 1L8.5 8.5l.94-2.06 2.06-.94-2.06-.94L8.5 2.5l-.94 2.06-2.06.94zm10 10l.94 2.06.94-2.06 2.06-.94-2.06-.94-.94-2.06-.94 2.06-2.06.94z\"/><path d=\"M17.41 7.96l-1.37-1.37c-.4-.4-.92-.59-1.43-.59-.52 0-1.04.2-1.43.59L10.3 9.45l-7.72 7.72c-.78.78-.78 2.05 0 2.83L4 21.41c.39.39.9.59 1.41.59.51 0 1.02-.2 1.41-.59l7.78-7.78 2.81-2.81c.8-.78.8-2.07 0-2.86zM5.41 20L4 18.59l7.72-7.72 1.47 1.35L5.41 20z\"/>\n",
              "  </svg>\n",
              "      </button>\n",
              "      \n",
              "  <style>\n",
              "    .colab-df-container {\n",
              "      display:flex;\n",
              "      flex-wrap:wrap;\n",
              "      gap: 12px;\n",
              "    }\n",
              "\n",
              "    .colab-df-convert {\n",
              "      background-color: #E8F0FE;\n",
              "      border: none;\n",
              "      border-radius: 50%;\n",
              "      cursor: pointer;\n",
              "      display: none;\n",
              "      fill: #1967D2;\n",
              "      height: 32px;\n",
              "      padding: 0 0 0 0;\n",
              "      width: 32px;\n",
              "    }\n",
              "\n",
              "    .colab-df-convert:hover {\n",
              "      background-color: #E2EBFA;\n",
              "      box-shadow: 0px 1px 2px rgba(60, 64, 67, 0.3), 0px 1px 3px 1px rgba(60, 64, 67, 0.15);\n",
              "      fill: #174EA6;\n",
              "    }\n",
              "\n",
              "    [theme=dark] .colab-df-convert {\n",
              "      background-color: #3B4455;\n",
              "      fill: #D2E3FC;\n",
              "    }\n",
              "\n",
              "    [theme=dark] .colab-df-convert:hover {\n",
              "      background-color: #434B5C;\n",
              "      box-shadow: 0px 1px 3px 1px rgba(0, 0, 0, 0.15);\n",
              "      filter: drop-shadow(0px 1px 2px rgba(0, 0, 0, 0.3));\n",
              "      fill: #FFFFFF;\n",
              "    }\n",
              "  </style>\n",
              "\n",
              "      <script>\n",
              "        const buttonEl =\n",
              "          document.querySelector('#df-3393e306-ac3e-4a2c-92a3-aa758f5c2e24 button.colab-df-convert');\n",
              "        buttonEl.style.display =\n",
              "          google.colab.kernel.accessAllowed ? 'block' : 'none';\n",
              "\n",
              "        async function convertToInteractive(key) {\n",
              "          const element = document.querySelector('#df-3393e306-ac3e-4a2c-92a3-aa758f5c2e24');\n",
              "          const dataTable =\n",
              "            await google.colab.kernel.invokeFunction('convertToInteractive',\n",
              "                                                     [key], {});\n",
              "          if (!dataTable) return;\n",
              "\n",
              "          const docLinkHtml = 'Like what you see? Visit the ' +\n",
              "            '<a target=\"_blank\" href=https://colab.research.google.com/notebooks/data_table.ipynb>data table notebook</a>'\n",
              "            + ' to learn more about interactive tables.';\n",
              "          element.innerHTML = '';\n",
              "          dataTable['output_type'] = 'display_data';\n",
              "          await google.colab.output.renderOutput(dataTable, element);\n",
              "          const docLink = document.createElement('div');\n",
              "          docLink.innerHTML = docLinkHtml;\n",
              "          element.appendChild(docLink);\n",
              "        }\n",
              "      </script>\n",
              "    </div>\n",
              "  </div>\n",
              "  "
            ]
          },
          "metadata": {},
          "execution_count": 4
        }
      ],
      "source": [
        "df.dropna(inplace=True)\n",
        "df"
      ]
    },
    {
      "cell_type": "markdown",
      "metadata": {
        "id": "PIBxZxGyIiRR"
      },
      "source": [
        "This is to drop any missing values in the dataset\n",
        "\n",
        "---\n",
        "\n"
      ]
    },
    {
      "cell_type": "code",
      "execution_count": null,
      "metadata": {
        "colab": {
          "base_uri": "https://localhost:8080/"
        },
        "id": "j9-RQfIQJIdz",
        "outputId": "47d3bf08-3ba9-4e57-893a-c8fb505488c6"
      },
      "outputs": [
        {
          "output_type": "stream",
          "name": "stdout",
          "text": [
            "Number of Rows:  11054\n",
            "Number of Columns:  6\n"
          ]
        }
      ],
      "source": [
        "rows = len(df.axes[0])\n",
        "cols = len(df.axes[1])\n",
        "print(\"Number of Rows: \", rows)\n",
        "print(\"Number of Columns: \", cols)"
      ]
    },
    {
      "cell_type": "markdown",
      "metadata": {
        "id": "r3uo4u2TJV7b"
      },
      "source": [
        "This displays the total number of rows and columns"
      ]
    },
    {
      "cell_type": "code",
      "execution_count": null,
      "metadata": {
        "colab": {
          "base_uri": "https://localhost:8080/"
        },
        "id": "QsGjtcUbK1eu",
        "outputId": "87ab009a-843a-4f59-d414-cafa3ba044f0"
      },
      "outputs": [
        {
          "output_type": "stream",
          "name": "stdout",
          "text": [
            "Tahun                     int64\n",
            "Daerah                   object\n",
            "Butiran                  object\n",
            "Komoditi                 object\n",
            "Sub Komoditi             object\n",
            " Kuantiti atau Nilai     object\n",
            "dtype: object\n"
          ]
        }
      ],
      "source": [
        "result=df.dtypes\n",
        "print(result)"
      ]
    },
    {
      "cell_type": "markdown",
      "source": [
        "This shows the data types of each columns"
      ],
      "metadata": {
        "id": "ftHsSKhFd708"
      }
    },
    {
      "cell_type": "code",
      "execution_count": null,
      "metadata": {
        "id": "S_lWLJ__RjXO"
      },
      "outputs": [],
      "source": [
        "df[' Kuantiti atau Nilai ']=pd.to_numeric(df[' Kuantiti atau Nilai '],errors='coerce')"
      ]
    },
    {
      "cell_type": "markdown",
      "source": [
        "Since the data type of the kuantiti column is object , we have to change it to numerical in order to be able to do calculations"
      ],
      "metadata": {
        "id": "D7Obp2XRd_rZ"
      }
    },
    {
      "cell_type": "code",
      "execution_count": null,
      "metadata": {
        "colab": {
          "base_uri": "https://localhost:8080/"
        },
        "id": "6RVDNwRDfx4z",
        "outputId": "b9585649-b809-4901-9f0b-e0938c48db38"
      },
      "outputs": [
        {
          "output_type": "stream",
          "name": "stdout",
          "text": [
            "76.34597796908267\n",
            "824765.6000000001\n"
          ]
        }
      ],
      "source": [
        "mean_kuantiti = df[' Kuantiti atau Nilai '].mean()\n",
        "Sum=df[' Kuantiti atau Nilai '].sum()\n",
        "print(mean_kuantiti)\n",
        "print(Sum)"
      ]
    },
    {
      "cell_type": "code",
      "source": [
        "df.hist(column=' Kuantiti atau Nilai ');"
      ],
      "metadata": {
        "colab": {
          "base_uri": "https://localhost:8080/",
          "height": 281
        },
        "id": "PN4kggUei2qC",
        "outputId": "d4e8b7d9-87b0-4536-ee88-4979ca33c6fe"
      },
      "execution_count": null,
      "outputs": [
        {
          "output_type": "display_data",
          "data": {
            "text/plain": [
              "<Figure size 432x288 with 1 Axes>"
            ],
            "image/png": "[encoded data removed]"
          },
          "metadata": {
            "needs_background": "light"
          }
        }
      ]
    },
    {
      "cell_type": "code",
      "source": [
        "bargraph = df.plot.bar(x = 'Tahun', y = ' Kuantiti atau Nilai ')"
      ],
      "metadata": {
        "colab": {
          "base_uri": "https://localhost:8080/",
          "height": 295
        },
        "id": "EJV7WJPgkRJI",
        "outputId": "a57075fb-421d-495d-d4aa-b44b116bec42"
      },
      "execution_count": null,
      "outputs": [
        {
          "output_type": "display_data",
          "data": {
            "text/plain": [
              "<Figure size 432x288 with 1 Axes>"
            ],
            "image/png": "[encoded data removed]"
          },
          "metadata": {
            "needs_background": "light"
          }
        }
      ]
    },
    {
      "cell_type": "markdown",
      "source": [
        "This shows the relationship between the years and the amount"
      ],
      "metadata": {
        "id": "wEld0KLvnU3v"
      }
    },
    {
      "cell_type": "code",
      "source": [
        "df['Sub Komoditi'].value_counts().plot(kind='bar')"
      ],
      "metadata": {
        "colab": {
          "base_uri": "https://localhost:8080/",
          "height": 335
        },
        "id": "5HG8u9D6mX5V",
        "outputId": "f31cac13-d62c-46ae-d73f-c567a9e790b1"
      },
      "execution_count": null,
      "outputs": [
        {
          "output_type": "execute_result",
          "data": {
            "text/plain": [
              "<matplotlib.axes._subplots.AxesSubplot at 0x7fc7d3e4c760>"
            ]
          },
          "metadata": {},
          "execution_count": 11
        },
        {
          "output_type": "display_data",
          "data": {
            "text/plain": [
              "<Figure size 432x288 with 1 Axes>"
            ],
            "image/png": "[encoded data removed]"
          },
          "metadata": {
            "needs_background": "light"
          }
        }
      ]
    },
    {
      "cell_type": "markdown",
      "source": [
        "This shows the amount of each type of commodities. We can see that nangka has the least. "
      ],
      "metadata": {
        "id": "Pm_eF1d_oU_F"
      }
    },
    {
      "cell_type": "code",
      "source": [
        " sns.boxplot(x=df['Tahun'])"
      ],
      "metadata": {
        "colab": {
          "base_uri": "https://localhost:8080/",
          "height": 296
        },
        "id": "YNK0WYl3ps2y",
        "outputId": "e6069ccb-f8ce-4ddb-a9e1-b613c7262a2a"
      },
      "execution_count": null,
      "outputs": [
        {
          "output_type": "execute_result",
          "data": {
            "text/plain": [
              "<matplotlib.axes._subplots.AxesSubplot at 0x7fc7d90ada00>"
            ]
          },
          "metadata": {},
          "execution_count": 12
        },
        {
          "output_type": "display_data",
          "data": {
            "text/plain": [
              "<Figure size 432x288 with 1 Axes>"
            ],
            "image/png": "[encoded data removed]"
          },
          "metadata": {
            "needs_background": "light"
          }
        }
      ]
    },
    {
      "cell_type": "code",
      "source": [
        "sns.boxplot(x=df[' Kuantiti atau Nilai '])"
      ],
      "metadata": {
        "colab": {
          "base_uri": "https://localhost:8080/",
          "height": 296
        },
        "id": "3lVTV3VzpyB3",
        "outputId": "c37ce792-7273-4fbf-ed38-ab02863da574"
      },
      "execution_count": null,
      "outputs": [
        {
          "output_type": "execute_result",
          "data": {
            "text/plain": [
              "<matplotlib.axes._subplots.AxesSubplot at 0x7fc7cde46760>"
            ]
          },
          "metadata": {},
          "execution_count": 13
        },
        {
          "output_type": "display_data",
          "data": {
            "text/plain": [
              "<Figure size 432x288 with 1 Axes>"
            ],
            "image/png": "[encoded data removed]"
          },
          "metadata": {
            "needs_background": "light"
          }
        }
      ]
    },
    {
      "cell_type": "code",
      "source": [
        "Q1 = df.quantile(0.25)\n",
        "Q3 = df.quantile(0.75)\n",
        "IQR = Q3 - Q1\n",
        "print(IQR)"
      ],
      "metadata": {
        "colab": {
          "base_uri": "https://localhost:8080/"
        },
        "id": "r-XyWtrZp9Oq",
        "outputId": "bccb872f-b65c-4251-800c-1b7c1480c0a9"
      },
      "execution_count": null,
      "outputs": [
        {
          "output_type": "stream",
          "name": "stdout",
          "text": [
            "Tahun                     4.0\n",
            " Kuantiti atau Nilai     73.0\n",
            "dtype: float64\n"
          ]
        }
      ]
    },
    {
      "cell_type": "code",
      "source": [
        "df = df[~((df < (Q1 - 1.5 * IQR)) |(df > (Q3 + 1.5 * IQR))).any(axis=1)]\n",
        "df.shape"
      ],
      "metadata": {
        "colab": {
          "base_uri": "https://localhost:8080/"
        },
        "id": "bhIYnW2VqmiN",
        "outputId": "d91140d7-dcb7-4396-a76a-9c7fc82f945d"
      },
      "execution_count": null,
      "outputs": [
        {
          "output_type": "stream",
          "name": "stderr",
          "text": [
            "<ipython-input-15-f4e1682787c4>:1: FutureWarning: Automatic reindexing on DataFrame vs Series comparisons is deprecated and will raise ValueError in a future version.  Do `left, right = left.align(right, axis=1, copy=False)` before e.g. `left == right`\n",
            "  df = df[~((df < (Q1 - 1.5 * IQR)) |(df > (Q3 + 1.5 * IQR))).any(axis=1)]\n"
          ]
        },
        {
          "output_type": "execute_result",
          "data": {
            "text/plain": [
              "(9756, 6)"
            ]
          },
          "metadata": {},
          "execution_count": 15
        }
      ]
    },
    {
      "cell_type": "code",
      "source": [
        "df.hist(bins=50, figsize=(15,10))\n",
        "plt.show()"
      ],
      "metadata": {
        "colab": {
          "base_uri": "https://localhost:8080/",
          "height": 448
        },
        "id": "d8eN0h8Nqy25",
        "outputId": "44980594-ad67-4aac-af3d-60c56273ef20"
      },
      "execution_count": null,
      "outputs": [
        {
          "output_type": "display_data",
          "data": {
            "text/plain": [
              "<Figure size 1080x720 with 2 Axes>"
            ],
            "image/png": "[encoded data removed]"
          },
          "metadata": {
            "needs_background": "light"
          }
        }
      ]
    },
    {
      "cell_type": "code",
      "source": [
        "df.Tahun.value_counts().nlargest(40)[1:].plot(kind='bar', figsize=(10,5))\n",
        "plt.title(\"Kuantiti by Tahun\")\n",
        "plt.ylabel(' Kuantiti atau Nilai ')\n",
        "plt.xlabel('Tahun')"
      ],
      "metadata": {
        "colab": {
          "base_uri": "https://localhost:8080/",
          "height": 382
        },
        "id": "j-1Q6_hsq2S3",
        "outputId": "f4fa8125-c612-463f-d755-b3d3bf1ebe80"
      },
      "execution_count": null,
      "outputs": [
        {
          "output_type": "execute_result",
          "data": {
            "text/plain": [
              "Text(0.5, 0, 'Tahun')"
            ]
          },
          "metadata": {},
          "execution_count": 17
        },
        {
          "output_type": "display_data",
          "data": {
            "text/plain": [
              "<Figure size 720x360 with 1 Axes>"
            ],
            "image/png": "[encoded data removed]"
          },
          "metadata": {
            "needs_background": "light"
          }
        }
      ]
    },
    {
      "cell_type": "code",
      "source": [
        "for feature_name in df.columns:\n",
        "    plt.figure(figsize=(5, 4));\n",
        "    plt.scatter(df[feature_name], df[' Kuantiti atau Nilai ']);\n",
        "    plt.ylabel(' Kuantiti atau Nilai ', size=12);\n",
        "    plt.xlabel(feature_name, size=12);\n",
        "    plt.xticks(rotation=90)\n",
        "    \n",
        "plt.show();"
      ],
      "metadata": {
        "colab": {
          "base_uri": "https://localhost:8080/",
          "height": 1000
        },
        "id": "3GGctYMfrPPP",
        "outputId": "a19977eb-4d7a-4fa9-d3e3-020cd4411271"
      },
      "execution_count": null,
      "outputs": [
        {
          "output_type": "display_data",
          "data": {
            "text/plain": [
              "<Figure size 360x288 with 1 Axes>"
            ],
            "image/png": "[encoded data removed]"
          },
          "metadata": {
            "needs_background": "light"
          }
        },
        {
          "output_type": "display_data",
          "data": {
            "text/plain": [
              "<Figure size 360x288 with 1 Axes>"
            ],
            "image/png": "[encoded data removed]"
          },
          "metadata": {
            "needs_background": "light"
          }
        },
        {
          "output_type": "display_data",
          "data": {
            "text/plain": [
              "<Figure size 360x288 with 1 Axes>"
            ],
            "image/png": "[encoded data removed]"
          },
          "metadata": {
            "needs_background": "light"
          }
        },
        {
          "output_type": "display_data",
          "data": {
            "text/plain": [
              "<Figure size 360x288 with 1 Axes>"
            ],
            "image/png": "[encoded data removed]"
          },
          "metadata": {
            "needs_background": "light"
          }
        },
        {
          "output_type": "display_data",
          "data": {
            "text/plain": [
              "<Figure size 360x288 with 1 Axes>"
            ],
            "image/png": "[encoded data removed]"
          },
          "metadata": {
            "needs_background": "light"
          }
        },
        {
          "output_type": "display_data",
          "data": {
            "text/plain": [
              "<Figure size 360x288 with 1 Axes>"
            ],
            "image/png": "[encoded data removed]"
          },
          "metadata": {
            "needs_background": "light"
          }
        }
      ]
    },
    {
      "cell_type": "code",
      "source": [
        "plt.figure(figsize=(10,5))\n",
        "c= df.corr()\n",
        "sns.heatmap(c,cmap=\"BrBG\",annot=True)\n",
        "c"
      ],
      "metadata": {
        "colab": {
          "base_uri": "https://localhost:8080/",
          "height": 419
        },
        "id": "aWOcbxekrmHv",
        "outputId": "5fef9d01-91fd-4972-8f25-5a1fc46f3296"
      },
      "execution_count": null,
      "outputs": [
        {
          "output_type": "execute_result",
          "data": {
            "text/plain": [
              "                          Tahun   Kuantiti atau Nilai \n",
              "Tahun                  1.000000              -0.000327\n",
              " Kuantiti atau Nilai  -0.000327               1.000000"
            ],
            "text/html": [
              "\n",
              "  <div id=\"df-ed8f2b64-6209-498f-bff4-5af9c8fef8a3\">\n",
              "    <div class=\"colab-df-container\">\n",
              "      <div>\n",
              "<style scoped>\n",
              "    .dataframe tbody tr th:only-of-type {\n",
              "        vertical-align: middle;\n",
              "    }\n",
              "\n",
              "    .dataframe tbody tr th {\n",
              "        vertical-align: top;\n",
              "    }\n",
              "\n",
              "    .dataframe thead th {\n",
              "        text-align: right;\n",
              "    }\n",
              "</style>\n",
              "<table border=\"1\" class=\"dataframe\">\n",
              "  <thead>\n",
              "    <tr style=\"text-align: right;\">\n",
              "      <th></th>\n",
              "      <th>Tahun</th>\n",
              "      <th>Kuantiti atau Nilai</th>\n",
              "    </tr>\n",
              "  </thead>\n",
              "  <tbody>\n",
              "    <tr>\n",
              "      <th>Tahun</th>\n",
              "      <td>1.000000</td>\n",
              "      <td>-0.000327</td>\n",
              "    </tr>\n",
              "    <tr>\n",
              "      <th>Kuantiti atau Nilai</th>\n",
              "      <td>-0.000327</td>\n",
              "      <td>1.000000</td>\n",
              "    </tr>\n",
              "  </tbody>\n",
              "</table>\n",
              "</div>\n",
              "      <button class=\"colab-df-convert\" onclick=\"convertToInteractive('df-ed8f2b64-6209-498f-bff4-5af9c8fef8a3')\"\n",
              "              title=\"Convert this dataframe to an interactive table.\"\n",
              "              style=\"display:none;\">\n",
              "        \n",
              "  <svg xmlns=\"http://www.w3.org/2000/svg\" height=\"24px\"viewBox=\"0 0 24 24\"\n",
              "       width=\"24px\">\n",
              "    <path d=\"M0 0h24v24H0V0z\" fill=\"none\"/>\n",
              "    <path d=\"M18.56 5.44l.94 2.06.94-2.06 2.06-.94-2.06-.94-.94-2.06-.94 2.06-2.06.94zm-11 1L8.5 8.5l.94-2.06 2.06-.94-2.06-.94L8.5 2.5l-.94 2.06-2.06.94zm10 10l.94 2.06.94-2.06 2.06-.94-2.06-.94-.94-2.06-.94 2.06-2.06.94z\"/><path d=\"M17.41 7.96l-1.37-1.37c-.4-.4-.92-.59-1.43-.59-.52 0-1.04.2-1.43.59L10.3 9.45l-7.72 7.72c-.78.78-.78 2.05 0 2.83L4 21.41c.39.39.9.59 1.41.59.51 0 1.02-.2 1.41-.59l7.78-7.78 2.81-2.81c.8-.78.8-2.07 0-2.86zM5.41 20L4 18.59l7.72-7.72 1.47 1.35L5.41 20z\"/>\n",
              "  </svg>\n",
              "      </button>\n",
              "      \n",
              "  <style>\n",
              "    .colab-df-container {\n",
              "      display:flex;\n",
              "      flex-wrap:wrap;\n",
              "      gap: 12px;\n",
              "    }\n",
              "\n",
              "    .colab-df-convert {\n",
              "      background-color: #E8F0FE;\n",
              "      border: none;\n",
              "      border-radius: 50%;\n",
              "      cursor: pointer;\n",
              "      display: none;\n",
              "      fill: #1967D2;\n",
              "      height: 32px;\n",
              "      padding: 0 0 0 0;\n",
              "      width: 32px;\n",
              "    }\n",
              "\n",
              "    .colab-df-convert:hover {\n",
              "      background-color: #E2EBFA;\n",
              "      box-shadow: 0px 1px 2px rgba(60, 64, 67, 0.3), 0px 1px 3px 1px rgba(60, 64, 67, 0.15);\n",
              "      fill: #174EA6;\n",
              "    }\n",
              "\n",
              "    [theme=dark] .colab-df-convert {\n",
              "      background-color: #3B4455;\n",
              "      fill: #D2E3FC;\n",
              "    }\n",
              "\n",
              "    [theme=dark] .colab-df-convert:hover {\n",
              "      background-color: #434B5C;\n",
              "      box-shadow: 0px 1px 3px 1px rgba(0, 0, 0, 0.15);\n",
              "      filter: drop-shadow(0px 1px 2px rgba(0, 0, 0, 0.3));\n",
              "      fill: #FFFFFF;\n",
              "    }\n",
              "  </style>\n",
              "\n",
              "      <script>\n",
              "        const buttonEl =\n",
              "          document.querySelector('#df-ed8f2b64-6209-498f-bff4-5af9c8fef8a3 button.colab-df-convert');\n",
              "        buttonEl.style.display =\n",
              "          google.colab.kernel.accessAllowed ? 'block' : 'none';\n",
              "\n",
              "        async function convertToInteractive(key) {\n",
              "          const element = document.querySelector('#df-ed8f2b64-6209-498f-bff4-5af9c8fef8a3');\n",
              "          const dataTable =\n",
              "            await google.colab.kernel.invokeFunction('convertToInteractive',\n",
              "                                                     [key], {});\n",
              "          if (!dataTable) return;\n",
              "\n",
              "          const docLinkHtml = 'Like what you see? Visit the ' +\n",
              "            '<a target=\"_blank\" href=https://colab.research.google.com/notebooks/data_table.ipynb>data table notebook</a>'\n",
              "            + ' to learn more about interactive tables.';\n",
              "          element.innerHTML = '';\n",
              "          dataTable['output_type'] = 'display_data';\n",
              "          await google.colab.output.renderOutput(dataTable, element);\n",
              "          const docLink = document.createElement('div');\n",
              "          docLink.innerHTML = docLinkHtml;\n",
              "          element.appendChild(docLink);\n",
              "        }\n",
              "      </script>\n",
              "    </div>\n",
              "  </div>\n",
              "  "
            ]
          },
          "metadata": {},
          "execution_count": 19
        },
        {
          "output_type": "display_data",
          "data": {
            "text/plain": [
              "<Figure size 720x360 with 2 Axes>"
            ],
            "image/png": "[encoded data removed]"
          },
          "metadata": {
            "needs_background": "light"
          }
        }
      ]
    },
    {
      "cell_type": "markdown",
      "source": [
        "1) In Sub Komoditi, which fruit has the highest frequancy"
      ],
      "metadata": {
        "id": "1EbdK-_ZgpVl"
      }
    },
    {
      "cell_type": "code",
      "source": [
        "count = df['Sub Komoditi'].value_counts()\n",
        "print(count)"
      ],
      "metadata": {
        "colab": {
          "base_uri": "https://localhost:8080/"
        },
        "id": "Tn6eJakZrwZ9",
        "outputId": "661a7ec7-c130-423d-9823-5fce651bf29c"
      },
      "execution_count": null,
      "outputs": [
        {
          "output_type": "stream",
          "name": "stdout",
          "text": [
            "Cempedak       924\n",
            "Durian         924\n",
            "Langsat        924\n",
            "Limau Manis    924\n",
            "Mangga         924\n",
            "Jambu Batu     777\n",
            "Betik          714\n",
            "Limau Besar    714\n",
            "Belimbing      693\n",
            "Manggis        693\n",
            "Ciku           525\n",
            "Duku           503\n",
            "Mata Naga      266\n",
            "Nangka         251\n",
            "Name: Sub Komoditi, dtype: int64\n"
          ]
        }
      ]
    },
    {
      "cell_type": "code",
      "source": [
        "df['Sub Komoditi'].value_counts().nlargest(40)[0:].plot(kind='bar', figsize=(10,5))\n",
        "plt.title(\"Frequancy of Sub Komditi\")\n",
        "plt.ylabel(' count ')\n",
        "plt.xlabel('Sub Komditi')"
      ],
      "metadata": {
        "colab": {
          "base_uri": "https://localhost:8080/",
          "height": 420
        },
        "id": "45mxUaXLh-El",
        "outputId": "c4e60f5e-7e07-414b-a717-c64f9fb24176"
      },
      "execution_count": null,
      "outputs": [
        {
          "output_type": "execute_result",
          "data": {
            "text/plain": [
              "Text(0.5, 0, 'Sub Komditi')"
            ]
          },
          "metadata": {},
          "execution_count": 21
        },
        {
          "output_type": "display_data",
          "data": {
            "text/plain": [
              "<Figure size 720x360 with 1 Axes>"
            ],
            "image/png": "[encoded data removed]"
          },
          "metadata": {
            "needs_background": "light"
          }
        }
      ]
    },
    {
      "cell_type": "markdown",
      "source": [
        "Cempedak, Durian, Langsat , Limau Manis and Mangga has the highest frequency "
      ],
      "metadata": {
        "id": "EmaW1m1Wb6D_"
      }
    },
    {
      "cell_type": "markdown",
      "source": [
        "2) In which year Sarawak has the highest number and the lowest number of Kuantiti."
      ],
      "metadata": {
        "id": "o0_ZpoN7i6OC"
      }
    },
    {
      "cell_type": "code",
      "source": [
        "df.loc[df[' Kuantiti atau Nilai '].idxmax()]\n"
      ],
      "metadata": {
        "colab": {
          "base_uri": "https://localhost:8080/"
        },
        "id": "QBcHjE6Fi0zW",
        "outputId": "d4b429bc-9d3e-4e3e-d63f-e37a74ad03f8"
      },
      "execution_count": null,
      "outputs": [
        {
          "output_type": "execute_result",
          "data": {
            "text/plain": [
              "Tahun                                2018\n",
              "Daerah                              Lawas\n",
              "Butiran                  Luas Berhasil ha\n",
              "Komoditi                             Buah\n",
              "Sub Komoditi                    Mata Naga\n",
              " Kuantiti atau Nilai                185.6\n",
              "Name: 9501, dtype: object"
            ]
          },
          "metadata": {},
          "execution_count": 22
        }
      ]
    },
    {
      "cell_type": "code",
      "source": [
        "df.loc[df[' Kuantiti atau Nilai '].idxmin()]"
      ],
      "metadata": {
        "colab": {
          "base_uri": "https://localhost:8080/"
        },
        "id": "U_DHcyWXojIM",
        "outputId": "decda704-5d41-4899-b846-81d065029286"
      },
      "execution_count": null,
      "outputs": [
        {
          "output_type": "execute_result",
          "data": {
            "text/plain": [
              "Tahun                                2015\n",
              "Daerah                            Kuching\n",
              "Butiran                  Luas Bertanam ha\n",
              "Komoditi                             Buah\n",
              "Sub Komoditi                    Belimbing\n",
              " Kuantiti atau Nilai                  0.1\n",
              "Name: 0, dtype: object"
            ]
          },
          "metadata": {},
          "execution_count": 23
        }
      ]
    },
    {
      "cell_type": "markdown",
      "source": [],
      "metadata": {
        "id": "M3AQ2KXJbhD9"
      }
    },
    {
      "cell_type": "markdown",
      "source": [
        "The result shows that Lawas has the most amount of fruit, 185.6 in the year 2018 and Kuching has the least amount of fruit, 0.1 in the year 2015."
      ],
      "metadata": {
        "id": "M3dT9JQZbhPn"
      }
    },
    {
      "cell_type": "markdown",
      "source": [
        "3) In Sarawak, what is the frequancy of each Daerah for the contribution of exporting fruit."
      ],
      "metadata": {
        "id": "13cYggoeoEQG"
      }
    },
    {
      "cell_type": "code",
      "source": [
        "count = df['Daerah'].value_counts()\n",
        "print(count)"
      ],
      "metadata": {
        "colab": {
          "base_uri": "https://localhost:8080/"
        },
        "id": "J24X7becoZQc",
        "outputId": "6059da78-025d-4363-c238-4c9ea9b81b29"
      },
      "execution_count": null,
      "outputs": [
        {
          "output_type": "stream",
          "name": "stdout",
          "text": [
            "Serian           504\n",
            "Limbang          294\n",
            "Miri             294\n",
            "Subis            294\n",
            "Sri Aman         273\n",
            "Sarikei          273\n",
            "Lawas            266\n",
            "Kanowit          262\n",
            "Matu             252\n",
            "Bau              252\n",
            "Julau            252\n",
            "Kuching          252\n",
            "Lundu            252\n",
            "Baram            252\n",
            "Marudi           252\n",
            "Beluru           231\n",
            "Meradong         231\n",
            "Selangau         231\n",
            "Siburan          231\n",
            "Simunjan         231\n",
            "Asajaya          231\n",
            "Bintulu          231\n",
            "Saratok          231\n",
            "Betong           210\n",
            "Kapit            210\n",
            "Pusa             210\n",
            "Telang Usan      210\n",
            "Daro             210\n",
            "Lubok Antu       210\n",
            "Samarahan        210\n",
            "Bukit Mabong     210\n",
            "Sibu             210\n",
            "Pakan            198\n",
            "Mukah            189\n",
            "Kabong           189\n",
            "Dalat            189\n",
            "Belaga           189\n",
            "Tebedu           168\n",
            "Pantu            147\n",
            "Song             147\n",
            "Tanjung Manis    126\n",
            "Tatau            126\n",
            "Sebauh           126\n",
            "Name: Daerah, dtype: int64\n"
          ]
        }
      ]
    },
    {
      "cell_type": "markdown",
      "source": [
        "This shows the frequency of exporting fruit for each area in Sarawak. We can see that Serian has exported fruit the most."
      ],
      "metadata": {
        "id": "MFbanXrRbNub"
      }
    },
    {
      "cell_type": "code",
      "source": [
        "df['Daerah'].value_counts().nlargest(40)[0:].plot(kind='bar', figsize=(10,5))\n",
        "plt.title(\"Frequancy of Daerah\")\n",
        "plt.ylabel(' count ')\n",
        "plt.xlabel('Daerah')"
      ],
      "metadata": {
        "colab": {
          "base_uri": "https://localhost:8080/",
          "height": 425
        },
        "id": "0pH0p2ECpSzN",
        "outputId": "3cd49ec0-c15f-445c-9fe8-e54174bfb89a"
      },
      "execution_count": null,
      "outputs": [
        {
          "output_type": "execute_result",
          "data": {
            "text/plain": [
              "Text(0.5, 0, 'Daerah')"
            ]
          },
          "metadata": {},
          "execution_count": 25
        },
        {
          "output_type": "display_data",
          "data": {
            "text/plain": [
              "<Figure size 720x360 with 1 Axes>"
            ],
            "image/png": "[encoded data removed]"
          },
          "metadata": {
            "needs_background": "light"
          }
        }
      ]
    },
    {
      "cell_type": "markdown",
      "source": [
        "4) what are the elements for Butiran Komoditi"
      ],
      "metadata": {
        "id": "713yf29AtdIn"
      }
    },
    {
      "cell_type": "code",
      "source": [
        "df['Butiran '].unique()\n"
      ],
      "metadata": {
        "colab": {
          "base_uri": "https://localhost:8080/"
        },
        "id": "lH95kqdWtmaw",
        "outputId": "f460a74a-db77-4c89-f8e6-ddab808cda5b"
      },
      "execution_count": null,
      "outputs": [
        {
          "output_type": "execute_result",
          "data": {
            "text/plain": [
              "array(['Luas Bertanam ha', 'Luas Berhasil ha', 'Pengeluaran Mt'],\n",
              "      dtype=object)"
            ]
          },
          "metadata": {},
          "execution_count": 26
        }
      ]
    },
    {
      "cell_type": "code",
      "source": [
        "df['Komoditi'].unique()"
      ],
      "metadata": {
        "colab": {
          "base_uri": "https://localhost:8080/"
        },
        "id": "YRS80qOuX1FR",
        "outputId": "e270062e-37e9-4331-aa89-ac831c171d4a"
      },
      "execution_count": null,
      "outputs": [
        {
          "output_type": "execute_result",
          "data": {
            "text/plain": [
              "array(['Buah'], dtype=object)"
            ]
          },
          "metadata": {},
          "execution_count": 27
        }
      ]
    },
    {
      "cell_type": "markdown",
      "source": [
        "5) Which Daerah brings the positive effect to Sarawak in terms of Kuantiti atau Nilai"
      ],
      "metadata": {
        "id": "_ousftbpvz4c"
      }
    },
    {
      "cell_type": "code",
      "source": [
        "Daerah = df.groupby('Daerah').sum()\n",
        "Daerah"
      ],
      "metadata": {
        "colab": {
          "base_uri": "https://localhost:8080/",
          "height": 1000
        },
        "id": "6UiHybWRwQpe",
        "outputId": "c2dd77e6-32e7-4423-f873-41cfb92b0758"
      },
      "execution_count": null,
      "outputs": [
        {
          "output_type": "execute_result",
          "data": {
            "text/plain": [
              "                 Tahun   Kuantiti atau Nilai \n",
              "Daerah                                       \n",
              "Asajaya         466158                 7244.4\n",
              "Baram           508536                 9598.0\n",
              "Bau             508536                 8558.0\n",
              "Belaga          381402                 3591.7\n",
              "Beluru          466158                 7475.1\n",
              "Betong          423780                 7844.8\n",
              "Bintulu         466158                 7422.8\n",
              "Bukit Mabong    423780                 6637.4\n",
              "Dalat           381402                 7485.0\n",
              "Daro            423780                 4801.3\n",
              "Julau           508536                 6554.8\n",
              "Kabong          381402                 5087.1\n",
              "Kanowit         528737                 9150.0\n",
              "Kapit           423780                 6538.7\n",
              "Kuching         508536                 5394.1\n",
              "Lawas           536772                 6573.6\n",
              "Limbang         593292                10155.1\n",
              "Lubok Antu      423780                 8262.8\n",
              "Lundu           508536                 8654.8\n",
              "Marudi          508536                 9463.2\n",
              "Matu            508536                 7811.5\n",
              "Meradong        466158                 6380.3\n",
              "Miri            593292                 9438.5\n",
              "Mukah           381402                 6515.9\n",
              "Pakan           399546                 6036.4\n",
              "Pantu           296646                 5309.9\n",
              "Pusa            423780                 5054.2\n",
              "Samarahan       423780                 6881.4\n",
              "Saratok         466158                 5104.4\n",
              "Sarikei         550914                 6466.6\n",
              "Sebauh          254268                 4262.8\n",
              "Selangau        466158                 9277.6\n",
              "Serian         1017072                15353.0\n",
              "Sibu            423780                 5587.7\n",
              "Siburan         466158                 7634.7\n",
              "Simunjan        466158                 6534.9\n",
              "Song            296646                 6022.7\n",
              "Sri Aman        550914                 8863.7\n",
              "Subis           593292                 9870.4\n",
              "Tanjung Manis   254268                 3758.8\n",
              "Tatau           254268                 3573.4\n",
              "Tebedu          339024                 7423.0\n",
              "Telang Usan     423780                 3760.8"
            ],
            "text/html": [
              "\n",
              "  <div id=\"df-a54786db-496a-41fd-ae1f-f2a60e477745\">\n",
              "    <div class=\"colab-df-container\">\n",
              "      <div>\n",
              "<style scoped>\n",
              "    .dataframe tbody tr th:only-of-type {\n",
              "        vertical-align: middle;\n",
              "    }\n",
              "\n",
              "    .dataframe tbody tr th {\n",
              "        vertical-align: top;\n",
              "    }\n",
              "\n",
              "    .dataframe thead th {\n",
              "        text-align: right;\n",
              "    }\n",
              "</style>\n",
              "<table border=\"1\" class=\"dataframe\">\n",
              "  <thead>\n",
              "    <tr style=\"text-align: right;\">\n",
              "      <th></th>\n",
              "      <th>Tahun</th>\n",
              "      <th>Kuantiti atau Nilai</th>\n",
              "    </tr>\n",
              "    <tr>\n",
              "      <th>Daerah</th>\n",
              "      <th></th>\n",
              "      <th></th>\n",
              "    </tr>\n",
              "  </thead>\n",
              "  <tbody>\n",
              "    <tr>\n",
              "      <th>Asajaya</th>\n",
              "      <td>466158</td>\n",
              "      <td>7244.4</td>\n",
              "    </tr>\n",
              "    <tr>\n",
              "      <th>Baram</th>\n",
              "      <td>508536</td>\n",
              "      <td>9598.0</td>\n",
              "    </tr>\n",
              "    <tr>\n",
              "      <th>Bau</th>\n",
              "      <td>508536</td>\n",
              "      <td>8558.0</td>\n",
              "    </tr>\n",
              "    <tr>\n",
              "      <th>Belaga</th>\n",
              "      <td>381402</td>\n",
              "      <td>3591.7</td>\n",
              "    </tr>\n",
              "    <tr>\n",
              "      <th>Beluru</th>\n",
              "      <td>466158</td>\n",
              "      <td>7475.1</td>\n",
              "    </tr>\n",
              "    <tr>\n",
              "      <th>Betong</th>\n",
              "      <td>423780</td>\n",
              "      <td>7844.8</td>\n",
              "    </tr>\n",
              "    <tr>\n",
              "      <th>Bintulu</th>\n",
              "      <td>466158</td>\n",
              "      <td>7422.8</td>\n",
              "    </tr>\n",
              "    <tr>\n",
              "      <th>Bukit Mabong</th>\n",
              "      <td>423780</td>\n",
              "      <td>6637.4</td>\n",
              "    </tr>\n",
              "    <tr>\n",
              "      <th>Dalat</th>\n",
              "      <td>381402</td>\n",
              "      <td>7485.0</td>\n",
              "    </tr>\n",
              "    <tr>\n",
              "      <th>Daro</th>\n",
              "      <td>423780</td>\n",
              "      <td>4801.3</td>\n",
              "    </tr>\n",
              "    <tr>\n",
              "      <th>Julau</th>\n",
              "      <td>508536</td>\n",
              "      <td>6554.8</td>\n",
              "    </tr>\n",
              "    <tr>\n",
              "      <th>Kabong</th>\n",
              "      <td>381402</td>\n",
              "      <td>5087.1</td>\n",
              "    </tr>\n",
              "    <tr>\n",
              "      <th>Kanowit</th>\n",
              "      <td>528737</td>\n",
              "      <td>9150.0</td>\n",
              "    </tr>\n",
              "    <tr>\n",
              "      <th>Kapit</th>\n",
              "      <td>423780</td>\n",
              "      <td>6538.7</td>\n",
              "    </tr>\n",
              "    <tr>\n",
              "      <th>Kuching</th>\n",
              "      <td>508536</td>\n",
              "      <td>5394.1</td>\n",
              "    </tr>\n",
              "    <tr>\n",
              "      <th>Lawas</th>\n",
              "      <td>536772</td>\n",
              "      <td>6573.6</td>\n",
              "    </tr>\n",
              "    <tr>\n",
              "      <th>Limbang</th>\n",
              "      <td>593292</td>\n",
              "      <td>10155.1</td>\n",
              "    </tr>\n",
              "    <tr>\n",
              "      <th>Lubok Antu</th>\n",
              "      <td>423780</td>\n",
              "      <td>8262.8</td>\n",
              "    </tr>\n",
              "    <tr>\n",
              "      <th>Lundu</th>\n",
              "      <td>508536</td>\n",
              "      <td>8654.8</td>\n",
              "    </tr>\n",
              "    <tr>\n",
              "      <th>Marudi</th>\n",
              "      <td>508536</td>\n",
              "      <td>9463.2</td>\n",
              "    </tr>\n",
              "    <tr>\n",
              "      <th>Matu</th>\n",
              "      <td>508536</td>\n",
              "      <td>7811.5</td>\n",
              "    </tr>\n",
              "    <tr>\n",
              "      <th>Meradong</th>\n",
              "      <td>466158</td>\n",
              "      <td>6380.3</td>\n",
              "    </tr>\n",
              "    <tr>\n",
              "      <th>Miri</th>\n",
              "      <td>593292</td>\n",
              "      <td>9438.5</td>\n",
              "    </tr>\n",
              "    <tr>\n",
              "      <th>Mukah</th>\n",
              "      <td>381402</td>\n",
              "      <td>6515.9</td>\n",
              "    </tr>\n",
              "    <tr>\n",
              "      <th>Pakan</th>\n",
              "      <td>399546</td>\n",
              "      <td>6036.4</td>\n",
              "    </tr>\n",
              "    <tr>\n",
              "      <th>Pantu</th>\n",
              "      <td>296646</td>\n",
              "      <td>5309.9</td>\n",
              "    </tr>\n",
              "    <tr>\n",
              "      <th>Pusa</th>\n",
              "      <td>423780</td>\n",
              "      <td>5054.2</td>\n",
              "    </tr>\n",
              "    <tr>\n",
              "      <th>Samarahan</th>\n",
              "      <td>423780</td>\n",
              "      <td>6881.4</td>\n",
              "    </tr>\n",
              "    <tr>\n",
              "      <th>Saratok</th>\n",
              "      <td>466158</td>\n",
              "      <td>5104.4</td>\n",
              "    </tr>\n",
              "    <tr>\n",
              "      <th>Sarikei</th>\n",
              "      <td>550914</td>\n",
              "      <td>6466.6</td>\n",
              "    </tr>\n",
              "    <tr>\n",
              "      <th>Sebauh</th>\n",
              "      <td>254268</td>\n",
              "      <td>4262.8</td>\n",
              "    </tr>\n",
              "    <tr>\n",
              "      <th>Selangau</th>\n",
              "      <td>466158</td>\n",
              "      <td>9277.6</td>\n",
              "    </tr>\n",
              "    <tr>\n",
              "      <th>Serian</th>\n",
              "      <td>1017072</td>\n",
              "      <td>15353.0</td>\n",
              "    </tr>\n",
              "    <tr>\n",
              "      <th>Sibu</th>\n",
              "      <td>423780</td>\n",
              "      <td>5587.7</td>\n",
              "    </tr>\n",
              "    <tr>\n",
              "      <th>Siburan</th>\n",
              "      <td>466158</td>\n",
              "      <td>7634.7</td>\n",
              "    </tr>\n",
              "    <tr>\n",
              "      <th>Simunjan</th>\n",
              "      <td>466158</td>\n",
              "      <td>6534.9</td>\n",
              "    </tr>\n",
              "    <tr>\n",
              "      <th>Song</th>\n",
              "      <td>296646</td>\n",
              "      <td>6022.7</td>\n",
              "    </tr>\n",
              "    <tr>\n",
              "      <th>Sri Aman</th>\n",
              "      <td>550914</td>\n",
              "      <td>8863.7</td>\n",
              "    </tr>\n",
              "    <tr>\n",
              "      <th>Subis</th>\n",
              "      <td>593292</td>\n",
              "      <td>9870.4</td>\n",
              "    </tr>\n",
              "    <tr>\n",
              "      <th>Tanjung Manis</th>\n",
              "      <td>254268</td>\n",
              "      <td>3758.8</td>\n",
              "    </tr>\n",
              "    <tr>\n",
              "      <th>Tatau</th>\n",
              "      <td>254268</td>\n",
              "      <td>3573.4</td>\n",
              "    </tr>\n",
              "    <tr>\n",
              "      <th>Tebedu</th>\n",
              "      <td>339024</td>\n",
              "      <td>7423.0</td>\n",
              "    </tr>\n",
              "    <tr>\n",
              "      <th>Telang Usan</th>\n",
              "      <td>423780</td>\n",
              "      <td>3760.8</td>\n",
              "    </tr>\n",
              "  </tbody>\n",
              "</table>\n",
              "</div>\n",
              "      <button class=\"colab-df-convert\" onclick=\"convertToInteractive('df-a54786db-496a-41fd-ae1f-f2a60e477745')\"\n",
              "              title=\"Convert this dataframe to an interactive table.\"\n",
              "              style=\"display:none;\">\n",
              "        \n",
              "  <svg xmlns=\"http://www.w3.org/2000/svg\" height=\"24px\"viewBox=\"0 0 24 24\"\n",
              "       width=\"24px\">\n",
              "    <path d=\"M0 0h24v24H0V0z\" fill=\"none\"/>\n",
              "    <path d=\"M18.56 5.44l.94 2.06.94-2.06 2.06-.94-2.06-.94-.94-2.06-.94 2.06-2.06.94zm-11 1L8.5 8.5l.94-2.06 2.06-.94-2.06-.94L8.5 2.5l-.94 2.06-2.06.94zm10 10l.94 2.06.94-2.06 2.06-.94-2.06-.94-.94-2.06-.94 2.06-2.06.94z\"/><path d=\"M17.41 7.96l-1.37-1.37c-.4-.4-.92-.59-1.43-.59-.52 0-1.04.2-1.43.59L10.3 9.45l-7.72 7.72c-.78.78-.78 2.05 0 2.83L4 21.41c.39.39.9.59 1.41.59.51 0 1.02-.2 1.41-.59l7.78-7.78 2.81-2.81c.8-.78.8-2.07 0-2.86zM5.41 20L4 18.59l7.72-7.72 1.47 1.35L5.41 20z\"/>\n",
              "  </svg>\n",
              "      </button>\n",
              "      \n",
              "  <style>\n",
              "    .colab-df-container {\n",
              "      display:flex;\n",
              "      flex-wrap:wrap;\n",
              "      gap: 12px;\n",
              "    }\n",
              "\n",
              "    .colab-df-convert {\n",
              "      background-color: #E8F0FE;\n",
              "      border: none;\n",
              "      border-radius: 50%;\n",
              "      cursor: pointer;\n",
              "      display: none;\n",
              "      fill: #1967D2;\n",
              "      height: 32px;\n",
              "      padding: 0 0 0 0;\n",
              "      width: 32px;\n",
              "    }\n",
              "\n",
              "    .colab-df-convert:hover {\n",
              "      background-color: #E2EBFA;\n",
              "      box-shadow: 0px 1px 2px rgba(60, 64, 67, 0.3), 0px 1px 3px 1px rgba(60, 64, 67, 0.15);\n",
              "      fill: #174EA6;\n",
              "    }\n",
              "\n",
              "    [theme=dark] .colab-df-convert {\n",
              "      background-color: #3B4455;\n",
              "      fill: #D2E3FC;\n",
              "    }\n",
              "\n",
              "    [theme=dark] .colab-df-convert:hover {\n",
              "      background-color: #434B5C;\n",
              "      box-shadow: 0px 1px 3px 1px rgba(0, 0, 0, 0.15);\n",
              "      filter: drop-shadow(0px 1px 2px rgba(0, 0, 0, 0.3));\n",
              "      fill: #FFFFFF;\n",
              "    }\n",
              "  </style>\n",
              "\n",
              "      <script>\n",
              "        const buttonEl =\n",
              "          document.querySelector('#df-a54786db-496a-41fd-ae1f-f2a60e477745 button.colab-df-convert');\n",
              "        buttonEl.style.display =\n",
              "          google.colab.kernel.accessAllowed ? 'block' : 'none';\n",
              "\n",
              "        async function convertToInteractive(key) {\n",
              "          const element = document.querySelector('#df-a54786db-496a-41fd-ae1f-f2a60e477745');\n",
              "          const dataTable =\n",
              "            await google.colab.kernel.invokeFunction('convertToInteractive',\n",
              "                                                     [key], {});\n",
              "          if (!dataTable) return;\n",
              "\n",
              "          const docLinkHtml = 'Like what you see? Visit the ' +\n",
              "            '<a target=\"_blank\" href=https://colab.research.google.com/notebooks/data_table.ipynb>data table notebook</a>'\n",
              "            + ' to learn more about interactive tables.';\n",
              "          element.innerHTML = '';\n",
              "          dataTable['output_type'] = 'display_data';\n",
              "          await google.colab.output.renderOutput(dataTable, element);\n",
              "          const docLink = document.createElement('div');\n",
              "          docLink.innerHTML = docLinkHtml;\n",
              "          element.appendChild(docLink);\n",
              "        }\n",
              "      </script>\n",
              "    </div>\n",
              "  </div>\n",
              "  "
            ]
          },
          "metadata": {},
          "execution_count": 28
        }
      ]
    },
    {
      "cell_type": "code",
      "source": [
        "plt.pie(Daerah[' Kuantiti atau Nilai '], labels=Daerah[' Kuantiti atau Nilai '])\n",
        "plt.legend(Daerah.index, loc='right', bbox_to_anchor=(2,0.5))\n",
        "plt.show()"
      ],
      "metadata": {
        "colab": {
          "base_uri": "https://localhost:8080/",
          "height": 679
        },
        "id": "GOKP4Px_woH1",
        "outputId": "1e22a1e0-29a1-47e0-f412-69b734f30880"
      },
      "execution_count": null,
      "outputs": [
        {
          "output_type": "display_data",
          "data": {
            "text/plain": [
              "<Figure size 432x288 with 1 Axes>"
            ],
            "image/png": "[encoded data removed]"
          },
          "metadata": {}
        }
      ]
    },
    {
      "cell_type": "markdown",
      "source": [
        "##Inference and Conclusion**\n",
        "\n",
        "**Inferences:** Sarawak has been exporting fruit since 2015, There are total of 43 Daerah has been working of the exportation of fruit. Among all the daerah, Serian has been exported the most fruit, with the total of 15353 of fruit being exported. In the dataset, we also discover that Sarawak has only exported fruit as the main source.\n",
        "\n",
        "**Conclusion**\n",
        "In this dataset, we have discover that Serian has been exported the most fruit throughtout Sarawak. Not only that, Cempedak, Durian, Langsat , Limau Manis and Mangga has the highest frequency for the exportation."
      ],
      "metadata": {
        "id": "sfZkPjyrebWw"
      }
    },
    {
      "cell_type": "markdown",
      "source": [
        "## References and Future Work"
      ],
      "metadata": {
        "id": "pqi2Q2X5wVcl"
      }
    },
    {
      "cell_type": "markdown",
      "source": [
        "References: https://stackoverflow.com/questions/71516740/how-to-convert-object-data-type-into-int64-in-python"
      ],
      "metadata": {
        "id": "_KZaIfm3wYBz"
      }
    }
  ],
  "metadata": {
    "colab": {
      "provenance": [],
      "include_colab_link": true
    },
    "kernelspec": {
      "display_name": "Python 3",
      "name": "python3"
    },
    "language_info": {
      "name": "python"
    }
  },
  "nbformat": 4,
  "nbformat_minor": 0
}
