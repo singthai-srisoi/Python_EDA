{
  "cells": [
    {
      "cell_type": "markdown",
      "source": [
        "# eCommerce behavior data from multi category store\n",
        "This dataset contains 285 million users' events from eCommerce website\n",
        "\n",
        "[**Dataset**: eCommerce behavior data from multi category store](https://www.kaggle.com/datasets/mkechinov/ecommerce-behavior-data-from-multi-category-store)\n",
        "\n",
        "**More datasets**\n",
        "Due to Kaggle's limit to max 20Gb of files per dataset, I can' upload more data to this dataset. [Here you can find additional archives (Dec 2019 - Apr 2020)](https://drive.google.com/drive/folders/1Nan8X33H8xrXS5XhCKZmSpClFTCJsSpE)."
      ],
      "metadata": {
        "id": "tg6MByKJ1res"
      },
      "id": "tg6MByKJ1res"
    },
    {
      "cell_type": "markdown",
      "source": [
        "Installing packages"
      ],
      "metadata": {
        "id": "K_5kUgXI4vZm"
      },
      "id": "K_5kUgXI4vZm"
    },
    {
      "cell_type": "code",
      "source": [
        "\n",
        "!pip install squarify\n",
        "!pip install statsmodels\n",
        "!pip install seaborn\n",
        "!pip install xgboost"
      ],
      "metadata": {
        "id": "4qMGgWA64RXm"
      },
      "id": "4qMGgWA64RXm",
      "execution_count": null,
      "outputs": []
    },
    {
      "cell_type": "markdown",
      "source": [
        "importing libraries"
      ],
      "metadata": {
        "id": "32e1SjjR4rR3"
      },
      "id": "32e1SjjR4rR3"
    },
    {
      "cell_type": "code",
      "source": [
        "\n",
        "import numpy as np \n",
        "import pandas as pd \n",
        "import os\n",
        "from statsmodels import api as sm\n",
        "import pylab as py\n",
        "import matplotlib.pyplot as plt\n",
        "import matplotlib.dates as dates\n",
        "from datetime import datetime\n",
        "import matplotlib.ticker as ticker\n",
        "import matplotlib.cm as cm\n",
        "import matplotlib as mpl\n",
        "from matplotlib.gridspec import GridSpec\n",
        "import seaborn as sns\n",
        "import squarify\n",
        "from scipy.stats import kstest,norm\n",
        "from scipy.stats import norm\n",
        "from sklearn.preprocessing import LabelEncoder\n",
        "from sklearn.preprocessing import MinMaxScaler\n",
        "from sklearn.model_selection import train_test_split\n",
        "from xgboost import plot_importance\n",
        "from sklearn.utils import resample\n",
        "from sklearn import metrics\n",
        "from scipy.stats import chi2_contingency"
      ],
      "metadata": {
        "id": "09gQeF6C4lC5"
      },
      "id": "09gQeF6C4lC5",
      "execution_count": null,
      "outputs": []
    },
    {
      "cell_type": "markdown",
      "source": [
        "## Reduce memory usage"
      ],
      "metadata": {
        "id": "0FiY-AEg5SmK"
      },
      "id": "0FiY-AEg5SmK"
    },
    {
      "cell_type": "code",
      "source": [
        "def reduce_mem_usage(df, verbose=True):\n",
        "    numerics = ['int16', 'int32', 'int64', 'float16', 'float32', 'float64']\n",
        "    start_mem = df.memory_usage().sum() / 1024**2\n",
        "    for col in df.columns:\n",
        "        col_type = df[col].dtypes\n",
        "        if col_type in numerics:\n",
        "            c_min = df[col].min()\n",
        "            c_max = df[col].max()\n",
        "            if str(col_type)[:3] == 'int':\n",
        "                if c_min > np.iinfo(np.int8).min and c_max < np.iinfo(np.int8).max:\n",
        "                    df[col] = df[col].astype(np.int8)\n",
        "                elif c_min > np.iinfo(np.int16).min and c_max < np.iinfo(np.int16).max:\n",
        "                    df[col] = df[col].astype(np.int16)\n",
        "                elif c_min > np.iinfo(np.int32).min and c_max < np.iinfo(np.int32).max:\n",
        "                    df[col] = df[col].astype(np.int32)\n",
        "                elif c_min > np.iinfo(np.int64).min and c_max < np.iinfo(np.int64).max:\n",
        "                    df[col] = df[col].astype(np.int64)\n",
        "            else:\n",
        "                if c_min > np.finfo(np.float16).min and c_max < np.finfo(np.float16).max:\n",
        "                    df[col] = df[col].astype(np.float16)\n",
        "                elif c_min > np.finfo(np.float32).min and c_max < np.finfo(np.float32).max:\n",
        "                    df[col] = df[col].astype(np.float32)\n",
        "                else:\n",
        "                    df[col] = df[col].astype(np.float64)\n",
        "\n",
        "    end_mem = df.memory_usage().sum() / 1024**2\n",
        "    print('Memory usage after optimization is: {:.2f} MB'.format(end_mem))\n",
        "    print('Decreased by {:.1f}%'.format(100 * (start_mem - end_mem) / start_mem))\n",
        "\n",
        "    return df"
      ],
      "metadata": {
        "id": "FmouSVw15N0a"
      },
      "id": "FmouSVw15N0a",
      "execution_count": null,
      "outputs": []
    },
    {
      "cell_type": "markdown",
      "source": [
        "Please enter the file location and name."
      ],
      "metadata": {
        "id": "6lrCp3lc3A62"
      },
      "id": "6lrCp3lc3A62"
    },
    {
      "cell_type": "code",
      "source": [
        "df = pd.read_csv('Nov-2019')\n",
        "df=reduce_mem_usage(df)"
      ],
      "metadata": {
        "id": "xC-ZqIJA52LI"
      },
      "id": "xC-ZqIJA52LI",
      "execution_count": null,
      "outputs": []
    },
    {
      "cell_type": "code",
      "source": [
        "df.head()"
      ],
      "metadata": {
        "id": "drM9z0OS6rf2"
      },
      "id": "drM9z0OS6rf2",
      "execution_count": null,
      "outputs": []
    },
    {
      "cell_type": "code",
      "source": [
        "df.info()"
      ],
      "metadata": {
        "id": "lBV1CGBd6vIW"
      },
      "id": "lBV1CGBd6vIW",
      "execution_count": null,
      "outputs": []
    },
    {
      "cell_type": "markdown",
      "source": [
        "## Column"
      ],
      "metadata": {
        "id": "irD8TL7-685z"
      },
      "id": "irD8TL7-685z"
    },
    {
      "cell_type": "code",
      "source": [
        "#no of rows with null values\n",
        "print(\"category_code \",df['category_code'].isnull().sum())\n",
        "print(\"brand \",df['brand'].isnull().sum())\n",
        "print(\"Both \",(df['category_code'].isnull() & df['brand'].isnull()).sum())"
      ],
      "metadata": {
        "id": "7NMXOQ1e7GKX"
      },
      "id": "7NMXOQ1e7GKX",
      "execution_count": null,
      "outputs": []
    },
    {
      "cell_type": "code",
      "source": [
        "df = df.dropna()"
      ],
      "metadata": {
        "id": "I8ICTfis7Kx2"
      },
      "id": "I8ICTfis7Kx2",
      "execution_count": null,
      "outputs": []
    },
    {
      "cell_type": "code",
      "source": [
        "df.shape"
      ],
      "metadata": {
        "id": "SwkKpL2i7MaP"
      },
      "id": "SwkKpL2i7MaP",
      "execution_count": null,
      "outputs": []
    },
    {
      "cell_type": "markdown",
      "source": [
        "## No of visitors by date\n",
        "To analyze the number of visitors by date we have grouped the dataset by columns event_time and user_id.\n",
        "\n",
        "The no.of visitors on each date is extracted and shown in the graph below."
      ],
      "metadata": {
        "id": "pb-Ov--97Ubs"
      },
      "id": "pb-Ov--97Ubs"
    },
    {
      "cell_type": "code",
      "source": [
        "#No of visitors by date\n",
        "data = df.loc[:,['event_time','user_id']]\n",
        "#Extracting only dates\n",
        "data['event_time'] = data['event_time'].apply(lambda s: str(s)[0:10])\n",
        "visitor_by_date = data.drop_duplicates().groupby(['event_time'])['user_id'].agg(['count']).sort_values(by=['event_time'], ascending=True)\n",
        "x = pd.Series(visitor_by_date.index.values).apply(lambda s: datetime.strptime(s, '%Y-%m-%d').date())\n",
        "y = visitor_by_date['count']\n",
        "plt.rcParams['figure.figsize'] = (20,8)\n",
        "\n",
        "plt.plot(x,y)\n",
        "plt.show()"
      ],
      "metadata": {
        "id": "my1bMyyO7aBR"
      },
      "id": "my1bMyyO7aBR",
      "execution_count": null,
      "outputs": []
    },
    {
      "cell_type": "markdown",
      "source": [
        "## Most bought brand\n"
      ],
      "metadata": {
        "id": "aCdcWy6z7few"
      },
      "id": "aCdcWy6z7few"
    },
    {
      "cell_type": "code",
      "source": [
        "df['brand'].value_counts()\n",
        "df['event_type'].value_counts()"
      ],
      "metadata": {
        "id": "zO_Fl7Iq7kTV"
      },
      "id": "zO_Fl7Iq7kTV",
      "execution_count": null,
      "outputs": []
    },
    {
      "cell_type": "code",
      "source": [
        "title_type = df.groupby('brand').agg('count')\n",
        "print(title_type)\n",
        "type_labels = title_type.user_id.sort_values().index\n",
        "type_counts = title_type.user_id.sort_values()\n",
        "plt.figure(1,figsize =(20,10))\n",
        "the_grid = GridSpec(2,2)\n",
        "cmap = plt.get_cmap('Spectral')\n",
        "colors = [cmap(i) for i in np.linspace(0,1,8)]\n",
        "plt.subplot(the_grid[0,1],aspect=1,title = 'Brand titles')\n",
        "type_show_ids = plt.pie(type_counts,labels = type_labels,autopct = '%1.1f%%',shadow = True,colors = colors)\n",
        "plt.show()"
      ],
      "metadata": {
        "id": "piYiA9h-7qVp"
      },
      "id": "piYiA9h-7qVp",
      "execution_count": null,
      "outputs": []
    },
    {
      "cell_type": "markdown",
      "source": [
        "## Popular product categories\n",
        "A squarify plot is used to visually represent which categories of product has drawn more demand from customer.\n",
        "\n",
        "Most of the items are given two category codes separated by a point.First word depicts the main category of the item whereas the following word depicts its sub category."
      ],
      "metadata": {
        "id": "oFAdfppA7xQN"
      },
      "id": "oFAdfppA7xQN"
    },
    {
      "cell_type": "code",
      "source": [
        "top_category_n = 30\n",
        "top_category = df.loc[:,'category_code'].value_counts()[:top_category_n].sort_values(ascending=False)\n",
        "squarify.plot(sizes=top_category, label=top_category.index.array, color=[\"red\",\"cyan\",\"green\",\"orange\",\"blue\",\"grey\"], alpha=.7  )\n",
        "plt.axis('off')\n",
        "plt.show()"
      ],
      "metadata": {
        "id": "ZXMjHk-X719n"
      },
      "id": "ZXMjHk-X719n",
      "execution_count": null,
      "outputs": []
    },
    {
      "cell_type": "markdown",
      "source": [
        "\"Smartphones\" which comes under electronics goods are more popular.\n",
        "\n",
        "A huge fraction of items bought are electronics which concludes there have been major discounts and price deals available on ecommerce platform."
      ],
      "metadata": {
        "id": "vY6f5oQf79b0"
      },
      "id": "vY6f5oQf79b0"
    },
    {
      "cell_type": "code",
      "source": [
        "labels = ['view', 'cart','purchase']\n",
        "size = df['event_type'].value_counts()\n",
        "colors = ['yellowgreen', 'lightskyblue','lightcoral']\n",
        "explode = [0, 0.1,0.1]\n",
        "\n",
        "plt.rcParams['figure.figsize'] = (8, 8)\n",
        "plt.pie(size, colors = colors, explode = explode, labels = labels, shadow = True, autopct = '%.2f%%')\n",
        "plt.title('Event_Type', fontsize = 20)\n",
        "plt.axis('off')\n",
        "plt.legend()\n",
        "plt.show()"
      ],
      "metadata": {
        "id": "HtVkgwjw8Bie"
      },
      "id": "HtVkgwjw8Bie",
      "execution_count": null,
      "outputs": []
    },
    {
      "cell_type": "markdown",
      "source": [
        "## Conversion Rates\n",
        "We have three type of events view,add to cart and purchase.Not every user view ,add it to the cart and purchase it.Most users tend to have look at the product and its price.\n",
        "\n",
        "Conversion rates gives us the idea of how many users actually purchased the product as opposed to how many times the products are viewed or added to the cart.\n",
        "\n",
        "How many products are actually purchased as opposed to number of products added to the cart.\n",
        "\n",
        "We find\n",
        "\n",
        "1.Count of people who viewed the item.\n",
        "\n",
        "2.Count of people who added the item to cart.\n",
        "\n",
        "3.Count of people who bought the item."
      ],
      "metadata": {
        "id": "NMyeexyU8KEt"
      },
      "id": "NMyeexyU8KEt"
    },
    {
      "cell_type": "code",
      "source": [
        "view_count = df['event_type'].value_counts()[0]\n",
        "cart_count = df['event_type'].value_counts()[1]\n",
        "purchase_count = df['event_type'].value_counts()[2]\n",
        "print(\"Rate of conversion between view and purchase events\" +str((purchase_count/view_count)*100) +'%')\n",
        "print(\"Rate of conversion between view and add to cart events\" +str((cart_count/view_count)*100) +'%')\n",
        "print(\"Rate of conversion between add to cart and purchase events\" +str((purchase_count/cart_count)*100) +'%')"
      ],
      "metadata": {
        "id": "sRXiBSxN8Q0f"
      },
      "id": "sRXiBSxN8Q0f",
      "execution_count": null,
      "outputs": []
    },
    {
      "cell_type": "markdown",
      "source": [
        "## Brandwise sales of all event types¶\n"
      ],
      "metadata": {
        "id": "RkAM0C9e8W5y"
      },
      "id": "RkAM0C9e8W5y"
    },
    {
      "cell_type": "code",
      "source": [
        "#Brandwise sales of all event types\n",
        "df['brand'].value_counts().head(50).plot.bar(figsize = (18,7))\n",
        "plt.title('Top brand',fontsize = 20)\n",
        "plt.xlabel('Names of brand')\n",
        "plt.ylabel('Count')\n",
        "plt.show()"
      ],
      "metadata": {
        "id": "OTdsbo6L8bgW"
      },
      "id": "OTdsbo6L8bgW",
      "execution_count": null,
      "outputs": []
    },
    {
      "cell_type": "markdown",
      "source": [
        "We consider only purchase events which tells us which brand is the first player in the market"
      ],
      "metadata": {
        "id": "5vPGpQRU8gxw"
      },
      "id": "5vPGpQRU8gxw"
    },
    {
      "cell_type": "code",
      "source": [
        "d = df.loc[df['event_type'].isin(['purchase'])].drop_duplicates()\n",
        "print(d['brand'].value_counts())\n",
        "d['brand'].value_counts().head(70).plot.bar(figsize =(18,7))\n",
        "plt.xlabel('Names of brand')\n",
        "plt.ylabel('Count')\n",
        "plt.show()"
      ],
      "metadata": {
        "id": "SAJxAeLH8k-G"
      },
      "id": "SAJxAeLH8k-G",
      "execution_count": null,
      "outputs": []
    },
    {
      "cell_type": "code",
      "source": [
        "top_player = df['brand'].value_counts()[0]\n",
        "second_player = df['brand'].value_counts()[1]\n",
        "last_player = df['brand'].value_counts()[-1]\n",
        "print(\"Top brand saw \" +str((top_player/second_player)*100)+\"%more sales than second_player in the market\")\n",
        "print(\"Top brand saw \" +str((top_player/last_player)*100)+\"%more sales than bottom player in the market\")"
      ],
      "metadata": {
        "id": "S0LjhU-I8rak"
      },
      "id": "S0LjhU-I8rak",
      "execution_count": null,
      "outputs": []
    },
    {
      "cell_type": "markdown",
      "source": [
        "## Purchase path\n",
        "The standard idea is that most people first view an item,compare with other item and add to cart to buy specific item.not many people follow this path.\n",
        "\n",
        "Given below is an example of customer who followed the path view->cart->purchase"
      ],
      "metadata": {
        "id": "tqN8ckUw8xEN"
      },
      "id": "tqN8ckUw8xEN"
    },
    {
      "cell_type": "code",
      "source": [
        "df.loc[df.user_session ==\"ef3daa59-4936-43e5-a530-32902f64b2f4\"].sort_values(by = \"event_time\")"
      ],
      "metadata": {
        "id": "RCNOr_Y182FH"
      },
      "id": "RCNOr_Y182FH",
      "execution_count": null,
      "outputs": []
    },
    {
      "cell_type": "markdown",
      "source": [
        "## User's journey\n",
        "The code below shows the user who purchased a apple product after which he views other products manufactured by the same company \"apple\"."
      ],
      "metadata": {
        "id": "IfNOpEMw87PA"
      },
      "id": "IfNOpEMw87PA"
    },
    {
      "cell_type": "code",
      "source": [
        "user_ID = 518267348\n",
        "df.loc[df['user_id'] == user_ID]"
      ],
      "metadata": {
        "id": "QmUmgOVL9AH3"
      },
      "id": "QmUmgOVL9AH3",
      "execution_count": null,
      "outputs": []
    },
    {
      "cell_type": "markdown",
      "source": [
        "## Chunksize = 10000"
      ],
      "metadata": {
        "id": "UJxsdJMt6DOr"
      },
      "id": "UJxsdJMt6DOr"
    },
    {
      "cell_type": "code",
      "execution_count": null,
      "id": "a43b807e",
      "metadata": {
        "id": "a43b807e"
      },
      "outputs": [],
      "source": [
        "df = pd.read_csv('Nov-2019.csv', chunksize=100000)"
      ]
    },
    {
      "cell_type": "code",
      "execution_count": null,
      "id": "08536df9",
      "metadata": {
        "id": "08536df9",
        "outputId": "7e8bf10d-d65c-4c1e-9fab-5ef4db621686"
      },
      "outputs": [
        {
          "name": "stderr",
          "output_type": "stream",
          "text": [
            "/tmp/ipykernel_497/3846829949.py:5: SettingWithCopyWarning: \n",
            "A value is trying to be set on a copy of a slice from a DataFrame.\n",
            "Try using .loc[row_indexer,col_indexer] = value instead\n",
            "\n",
            "See the caveats in the documentation: https://pandas.pydata.org/pandas-docs/stable/user_guide/indexing.html#returning-a-view-versus-a-copy\n",
            "  details['count'] = 1\n"
          ]
        }
      ],
      "source": [
        "output = pd.DataFrame()\n",
        "for chunk in df:\n",
        "    categories = ['brand','category_code','event_type']\n",
        "    details = chunk[categories]\n",
        "    details['count'] = 1\n",
        "    summary = details.groupby(categories).sum().reset_index()\n",
        "    output = output.append(summary, ignore_index=True)"
      ]
    },
    {
      "cell_type": "code",
      "execution_count": null,
      "id": "3095a991",
      "metadata": {
        "id": "3095a991"
      },
      "outputs": [],
      "source": [
        "final_output = output.groupby(categories).sum().reset_index()"
      ]
    },
    {
      "cell_type": "code",
      "execution_count": null,
      "id": "bf759d7a",
      "metadata": {
        "id": "bf759d7a"
      },
      "outputs": [],
      "source": [
        "final_output.to_csv('aggregated-consumer-info-Nov-2019.csv', index=False)"
      ]
    }
  ],
  "metadata": {
    "kernelspec": {
      "display_name": "Python 3 (ipykernel)",
      "language": "python",
      "name": "python3"
    },
    "language_info": {
      "codemirror_mode": {
        "name": "ipython",
        "version": 3
      },
      "file_extension": ".py",
      "mimetype": "text/x-python",
      "name": "python",
      "nbconvert_exporter": "python",
      "pygments_lexer": "ipython3",
      "version": "3.8.10"
    },
    "colab": {
      "provenance": []
    }
  },
  "nbformat": 4,
  "nbformat_minor": 5
}
