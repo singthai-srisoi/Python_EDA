{
  "cells": [
    {
      "cell_type": "markdown",
      "metadata": {
        "id": "BU7NzzW3qLxh"
      },
      "source": [
        "# Handle Large Data (CSV): 1000000 Sales Records"
      ]
    },
    {
      "cell_type": "markdown",
      "source": [
        "[Dataset: 1000000 Sales Records](https://github.com/drshahizan/dataset/raw/main/1000000%20Sales%20Records.rar). \n",
        "\n",
        "[Youtube: Tutorial](https://youtu.be/bd_1T2JCr4M)\n",
        "\n",
        "Instruction:\n",
        "* Please extract the file *1000000 Sales Records.rar*.\n",
        "* Please enter the file location: *1000000 Sales Records.csv* in code"
      ],
      "metadata": {
        "id": "I3MzJUC1tKID"
      }
    },
    {
      "cell_type": "code",
      "execution_count": null,
      "metadata": {
        "id": "YcfJpUU3qLxh",
        "outputId": "cf09c8fa-06ec-492d-fc01-b3fd74d77285",
        "colab": {
          "base_uri": "https://localhost:8080/"
        }
      },
      "outputs": [
        {
          "output_type": "stream",
          "name": "stdout",
          "text": [
            "Drive already mounted at /content/drive; to attempt to forcibly remount, call drive.mount(\"/content/drive\", force_remount=True).\n"
          ]
        }
      ],
      "source": [
        "from google.colab import drive\n",
        "drive.mount('/content/drive')"
      ]
    },
    {
      "cell_type": "code",
      "source": [
        "import pandas as pd\n",
        "import numpy as np\n",
        "import random\n",
        "\n",
        "\n",
        "df =pd.read_csv(\"/content/drive/MyDrive/1000000 Sales Records.csv\")\n",
        "df"
      ],
      "metadata": {
        "id": "l_QyrU0dEHD3",
        "outputId": "3b72d18e-6804-4233-c4f1-a6925f9348c9",
        "colab": {
          "base_uri": "https://localhost:8080/",
          "height": 817
        }
      },
      "execution_count": null,
      "outputs": [
        {
          "output_type": "execute_result",
          "data": {
            "text/plain": [
              "                                   Region           Country        Item Type  \\\n",
              "0                      Sub-Saharan Africa      South Africa           Fruits   \n",
              "1            Middle East and North Africa           Morocco          Clothes   \n",
              "2                   Australia and Oceania  Papua New Guinea             Meat   \n",
              "3                      Sub-Saharan Africa          Djibouti          Clothes   \n",
              "4                                  Europe          Slovakia        Beverages   \n",
              "...                                   ...               ...              ...   \n",
              "999995                 Sub-Saharan Africa           Senegal        Baby Food   \n",
              "999996  Central America and the Caribbean            Panama  Office Supplies   \n",
              "999997                             Europe            Norway  Office Supplies   \n",
              "999998                             Europe        Montenegro        Beverages   \n",
              "999999  Central America and the Caribbean         Nicaragua             Meat   \n",
              "\n",
              "       Sales Channel Order Priority  Order Date   Order ID   Ship Date  \\\n",
              "0            Offline              M   7/27/2012  443368995   7/28/2012   \n",
              "1             Online              M   9/14/2013  667593514  10/19/2013   \n",
              "2            Offline              M   5/15/2015  940995585    6/4/2015   \n",
              "3            Offline              H   5/17/2017  880811536    7/2/2017   \n",
              "4            Offline              L  10/26/2016  174590194   12/4/2016   \n",
              "...              ...            ...         ...        ...         ...   \n",
              "999995       Offline              L   11/6/2010  575470578  12/11/2010   \n",
              "999996       Offline              C   1/12/2015  766942107    3/1/2015   \n",
              "999997        Online              M  10/25/2011  685472047   12/5/2011   \n",
              "999998       Offline              M  10/31/2010  946734225   12/8/2010   \n",
              "999999        Online              C   3/17/2015  886714971    4/8/2015   \n",
              "\n",
              "        Units Sold  Unit Price  Unit Cost  Total Revenue  Total Cost  \\\n",
              "0             1593        9.33       6.92       14862.69    11023.56   \n",
              "1             4611      109.28      35.84      503890.08   165258.24   \n",
              "2              360      421.89     364.69      151880.40   131288.40   \n",
              "3              562      109.28      35.84       61415.36    20142.08   \n",
              "4             3973       47.45      31.79      188518.85   126301.67   \n",
              "...            ...         ...        ...            ...         ...   \n",
              "999995        3387      255.28     159.42      864633.36   539955.54   \n",
              "999996        4068      651.21     524.96     2649122.28  2135537.28   \n",
              "999997        5266      651.21     524.96     3429271.86  2764439.36   \n",
              "999998        8551       47.45      31.79      405744.95   271836.29   \n",
              "999999        7519      421.89     364.69     3172190.91  2742104.11   \n",
              "\n",
              "        Total Profit  \n",
              "0            3839.13  \n",
              "1          338631.84  \n",
              "2           20592.00  \n",
              "3           41273.28  \n",
              "4           62217.18  \n",
              "...              ...  \n",
              "999995     324677.82  \n",
              "999996     513585.00  \n",
              "999997     664832.50  \n",
              "999998     133908.66  \n",
              "999999     430086.80  \n",
              "\n",
              "[1000000 rows x 14 columns]"
            ],
            "text/html": [
              "\n",
              "  <div id=\"df-91da2759-cf1f-447e-bfa9-6687243abdc2\">\n",
              "    <div class=\"colab-df-container\">\n",
              "      <div>\n",
              "<style scoped>\n",
              "    .dataframe tbody tr th:only-of-type {\n",
              "        vertical-align: middle;\n",
              "    }\n",
              "\n",
              "    .dataframe tbody tr th {\n",
              "        vertical-align: top;\n",
              "    }\n",
              "\n",
              "    .dataframe thead th {\n",
              "        text-align: right;\n",
              "    }\n",
              "</style>\n",
              "<table border=\"1\" class=\"dataframe\">\n",
              "  <thead>\n",
              "    <tr style=\"text-align: right;\">\n",
              "      <th></th>\n",
              "      <th>Region</th>\n",
              "      <th>Country</th>\n",
              "      <th>Item Type</th>\n",
              "      <th>Sales Channel</th>\n",
              "      <th>Order Priority</th>\n",
              "      <th>Order Date</th>\n",
              "      <th>Order ID</th>\n",
              "      <th>Ship Date</th>\n",
              "      <th>Units Sold</th>\n",
              "      <th>Unit Price</th>\n",
              "      <th>Unit Cost</th>\n",
              "      <th>Total Revenue</th>\n",
              "      <th>Total Cost</th>\n",
              "      <th>Total Profit</th>\n",
              "    </tr>\n",
              "  </thead>\n",
              "  <tbody>\n",
              "    <tr>\n",
              "      <th>0</th>\n",
              "      <td>Sub-Saharan Africa</td>\n",
              "      <td>South Africa</td>\n",
              "      <td>Fruits</td>\n",
              "      <td>Offline</td>\n",
              "      <td>M</td>\n",
              "      <td>7/27/2012</td>\n",
              "      <td>443368995</td>\n",
              "      <td>7/28/2012</td>\n",
              "      <td>1593</td>\n",
              "      <td>9.33</td>\n",
              "      <td>6.92</td>\n",
              "      <td>14862.69</td>\n",
              "      <td>11023.56</td>\n",
              "      <td>3839.13</td>\n",
              "    </tr>\n",
              "    <tr>\n",
              "      <th>1</th>\n",
              "      <td>Middle East and North Africa</td>\n",
              "      <td>Morocco</td>\n",
              "      <td>Clothes</td>\n",
              "      <td>Online</td>\n",
              "      <td>M</td>\n",
              "      <td>9/14/2013</td>\n",
              "      <td>667593514</td>\n",
              "      <td>10/19/2013</td>\n",
              "      <td>4611</td>\n",
              "      <td>109.28</td>\n",
              "      <td>35.84</td>\n",
              "      <td>503890.08</td>\n",
              "      <td>165258.24</td>\n",
              "      <td>338631.84</td>\n",
              "    </tr>\n",
              "    <tr>\n",
              "      <th>2</th>\n",
              "      <td>Australia and Oceania</td>\n",
              "      <td>Papua New Guinea</td>\n",
              "      <td>Meat</td>\n",
              "      <td>Offline</td>\n",
              "      <td>M</td>\n",
              "      <td>5/15/2015</td>\n",
              "      <td>940995585</td>\n",
              "      <td>6/4/2015</td>\n",
              "      <td>360</td>\n",
              "      <td>421.89</td>\n",
              "      <td>364.69</td>\n",
              "      <td>151880.40</td>\n",
              "      <td>131288.40</td>\n",
              "      <td>20592.00</td>\n",
              "    </tr>\n",
              "    <tr>\n",
              "      <th>3</th>\n",
              "      <td>Sub-Saharan Africa</td>\n",
              "      <td>Djibouti</td>\n",
              "      <td>Clothes</td>\n",
              "      <td>Offline</td>\n",
              "      <td>H</td>\n",
              "      <td>5/17/2017</td>\n",
              "      <td>880811536</td>\n",
              "      <td>7/2/2017</td>\n",
              "      <td>562</td>\n",
              "      <td>109.28</td>\n",
              "      <td>35.84</td>\n",
              "      <td>61415.36</td>\n",
              "      <td>20142.08</td>\n",
              "      <td>41273.28</td>\n",
              "    </tr>\n",
              "    <tr>\n",
              "      <th>4</th>\n",
              "      <td>Europe</td>\n",
              "      <td>Slovakia</td>\n",
              "      <td>Beverages</td>\n",
              "      <td>Offline</td>\n",
              "      <td>L</td>\n",
              "      <td>10/26/2016</td>\n",
              "      <td>174590194</td>\n",
              "      <td>12/4/2016</td>\n",
              "      <td>3973</td>\n",
              "      <td>47.45</td>\n",
              "      <td>31.79</td>\n",
              "      <td>188518.85</td>\n",
              "      <td>126301.67</td>\n",
              "      <td>62217.18</td>\n",
              "    </tr>\n",
              "    <tr>\n",
              "      <th>...</th>\n",
              "      <td>...</td>\n",
              "      <td>...</td>\n",
              "      <td>...</td>\n",
              "      <td>...</td>\n",
              "      <td>...</td>\n",
              "      <td>...</td>\n",
              "      <td>...</td>\n",
              "      <td>...</td>\n",
              "      <td>...</td>\n",
              "      <td>...</td>\n",
              "      <td>...</td>\n",
              "      <td>...</td>\n",
              "      <td>...</td>\n",
              "      <td>...</td>\n",
              "    </tr>\n",
              "    <tr>\n",
              "      <th>999995</th>\n",
              "      <td>Sub-Saharan Africa</td>\n",
              "      <td>Senegal</td>\n",
              "      <td>Baby Food</td>\n",
              "      <td>Offline</td>\n",
              "      <td>L</td>\n",
              "      <td>11/6/2010</td>\n",
              "      <td>575470578</td>\n",
              "      <td>12/11/2010</td>\n",
              "      <td>3387</td>\n",
              "      <td>255.28</td>\n",
              "      <td>159.42</td>\n",
              "      <td>864633.36</td>\n",
              "      <td>539955.54</td>\n",
              "      <td>324677.82</td>\n",
              "    </tr>\n",
              "    <tr>\n",
              "      <th>999996</th>\n",
              "      <td>Central America and the Caribbean</td>\n",
              "      <td>Panama</td>\n",
              "      <td>Office Supplies</td>\n",
              "      <td>Offline</td>\n",
              "      <td>C</td>\n",
              "      <td>1/12/2015</td>\n",
              "      <td>766942107</td>\n",
              "      <td>3/1/2015</td>\n",
              "      <td>4068</td>\n",
              "      <td>651.21</td>\n",
              "      <td>524.96</td>\n",
              "      <td>2649122.28</td>\n",
              "      <td>2135537.28</td>\n",
              "      <td>513585.00</td>\n",
              "    </tr>\n",
              "    <tr>\n",
              "      <th>999997</th>\n",
              "      <td>Europe</td>\n",
              "      <td>Norway</td>\n",
              "      <td>Office Supplies</td>\n",
              "      <td>Online</td>\n",
              "      <td>M</td>\n",
              "      <td>10/25/2011</td>\n",
              "      <td>685472047</td>\n",
              "      <td>12/5/2011</td>\n",
              "      <td>5266</td>\n",
              "      <td>651.21</td>\n",
              "      <td>524.96</td>\n",
              "      <td>3429271.86</td>\n",
              "      <td>2764439.36</td>\n",
              "      <td>664832.50</td>\n",
              "    </tr>\n",
              "    <tr>\n",
              "      <th>999998</th>\n",
              "      <td>Europe</td>\n",
              "      <td>Montenegro</td>\n",
              "      <td>Beverages</td>\n",
              "      <td>Offline</td>\n",
              "      <td>M</td>\n",
              "      <td>10/31/2010</td>\n",
              "      <td>946734225</td>\n",
              "      <td>12/8/2010</td>\n",
              "      <td>8551</td>\n",
              "      <td>47.45</td>\n",
              "      <td>31.79</td>\n",
              "      <td>405744.95</td>\n",
              "      <td>271836.29</td>\n",
              "      <td>133908.66</td>\n",
              "    </tr>\n",
              "    <tr>\n",
              "      <th>999999</th>\n",
              "      <td>Central America and the Caribbean</td>\n",
              "      <td>Nicaragua</td>\n",
              "      <td>Meat</td>\n",
              "      <td>Online</td>\n",
              "      <td>C</td>\n",
              "      <td>3/17/2015</td>\n",
              "      <td>886714971</td>\n",
              "      <td>4/8/2015</td>\n",
              "      <td>7519</td>\n",
              "      <td>421.89</td>\n",
              "      <td>364.69</td>\n",
              "      <td>3172190.91</td>\n",
              "      <td>2742104.11</td>\n",
              "      <td>430086.80</td>\n",
              "    </tr>\n",
              "  </tbody>\n",
              "</table>\n",
              "<p>1000000 rows × 14 columns</p>\n",
              "</div>\n",
              "      <button class=\"colab-df-convert\" onclick=\"convertToInteractive('df-91da2759-cf1f-447e-bfa9-6687243abdc2')\"\n",
              "              title=\"Convert this dataframe to an interactive table.\"\n",
              "              style=\"display:none;\">\n",
              "        \n",
              "  <svg xmlns=\"http://www.w3.org/2000/svg\" height=\"24px\"viewBox=\"0 0 24 24\"\n",
              "       width=\"24px\">\n",
              "    <path d=\"M0 0h24v24H0V0z\" fill=\"none\"/>\n",
              "    <path d=\"M18.56 5.44l.94 2.06.94-2.06 2.06-.94-2.06-.94-.94-2.06-.94 2.06-2.06.94zm-11 1L8.5 8.5l.94-2.06 2.06-.94-2.06-.94L8.5 2.5l-.94 2.06-2.06.94zm10 10l.94 2.06.94-2.06 2.06-.94-2.06-.94-.94-2.06-.94 2.06-2.06.94z\"/><path d=\"M17.41 7.96l-1.37-1.37c-.4-.4-.92-.59-1.43-.59-.52 0-1.04.2-1.43.59L10.3 9.45l-7.72 7.72c-.78.78-.78 2.05 0 2.83L4 21.41c.39.39.9.59 1.41.59.51 0 1.02-.2 1.41-.59l7.78-7.78 2.81-2.81c.8-.78.8-2.07 0-2.86zM5.41 20L4 18.59l7.72-7.72 1.47 1.35L5.41 20z\"/>\n",
              "  </svg>\n",
              "      </button>\n",
              "      \n",
              "  <style>\n",
              "    .colab-df-container {\n",
              "      display:flex;\n",
              "      flex-wrap:wrap;\n",
              "      gap: 12px;\n",
              "    }\n",
              "\n",
              "    .colab-df-convert {\n",
              "      background-color: #E8F0FE;\n",
              "      border: none;\n",
              "      border-radius: 50%;\n",
              "      cursor: pointer;\n",
              "      display: none;\n",
              "      fill: #1967D2;\n",
              "      height: 32px;\n",
              "      padding: 0 0 0 0;\n",
              "      width: 32px;\n",
              "    }\n",
              "\n",
              "    .colab-df-convert:hover {\n",
              "      background-color: #E2EBFA;\n",
              "      box-shadow: 0px 1px 2px rgba(60, 64, 67, 0.3), 0px 1px 3px 1px rgba(60, 64, 67, 0.15);\n",
              "      fill: #174EA6;\n",
              "    }\n",
              "\n",
              "    [theme=dark] .colab-df-convert {\n",
              "      background-color: #3B4455;\n",
              "      fill: #D2E3FC;\n",
              "    }\n",
              "\n",
              "    [theme=dark] .colab-df-convert:hover {\n",
              "      background-color: #434B5C;\n",
              "      box-shadow: 0px 1px 3px 1px rgba(0, 0, 0, 0.15);\n",
              "      filter: drop-shadow(0px 1px 2px rgba(0, 0, 0, 0.3));\n",
              "      fill: #FFFFFF;\n",
              "    }\n",
              "  </style>\n",
              "\n",
              "      <script>\n",
              "        const buttonEl =\n",
              "          document.querySelector('#df-91da2759-cf1f-447e-bfa9-6687243abdc2 button.colab-df-convert');\n",
              "        buttonEl.style.display =\n",
              "          google.colab.kernel.accessAllowed ? 'block' : 'none';\n",
              "\n",
              "        async function convertToInteractive(key) {\n",
              "          const element = document.querySelector('#df-91da2759-cf1f-447e-bfa9-6687243abdc2');\n",
              "          const dataTable =\n",
              "            await google.colab.kernel.invokeFunction('convertToInteractive',\n",
              "                                                     [key], {});\n",
              "          if (!dataTable) return;\n",
              "\n",
              "          const docLinkHtml = 'Like what you see? Visit the ' +\n",
              "            '<a target=\"_blank\" href=https://colab.research.google.com/notebooks/data_table.ipynb>data table notebook</a>'\n",
              "            + ' to learn more about interactive tables.';\n",
              "          element.innerHTML = '';\n",
              "          dataTable['output_type'] = 'display_data';\n",
              "          await google.colab.output.renderOutput(dataTable, element);\n",
              "          const docLink = document.createElement('div');\n",
              "          docLink.innerHTML = docLinkHtml;\n",
              "          element.appendChild(docLink);\n",
              "        }\n",
              "      </script>\n",
              "    </div>\n",
              "  </div>\n",
              "  "
            ]
          },
          "metadata": {},
          "execution_count": 30
        }
      ]
    },
    {
      "cell_type": "code",
      "execution_count": null,
      "metadata": {
        "id": "3d1yGwF1qLxh",
        "outputId": "8d5cc17b-1489-4db0-a1fd-13a3b8c7b36d",
        "colab": {
          "base_uri": "https://localhost:8080/"
        }
      },
      "outputs": [
        {
          "output_type": "stream",
          "name": "stdout",
          "text": [
            "<class 'pandas.core.frame.DataFrame'>\n",
            "RangeIndex: 1000000 entries, 0 to 999999\n",
            "Columns: 14 entries, Region to Total Profit\n",
            "dtypes: float64(5), int64(2), object(7)\n",
            "memory usage: 489.9 MB\n"
          ]
        }
      ],
      "source": [
        "df.info(verbose=False, memory_usage='deep')"
      ]
    },
    {
      "cell_type": "markdown",
      "metadata": {
        "id": "agyxN95_qLxh"
      },
      "source": [
        "## nrows"
      ]
    },
    {
      "cell_type": "code",
      "execution_count": null,
      "metadata": {
        "id": "WXo_hftlqLxh",
        "outputId": "9d0ceb26-79de-426c-fe5a-15c0bee45deb",
        "colab": {
          "base_uri": "https://localhost:8080/"
        }
      },
      "outputs": [
        {
          "output_type": "stream",
          "name": "stdout",
          "text": [
            "<class 'pandas.core.frame.DataFrame'>\n",
            "RangeIndex: 1000 entries, 0 to 999\n",
            "Columns: 14 entries, Region to Total Profit\n",
            "dtypes: float64(5), int64(2), object(7)\n",
            "memory usage: 502.1 KB\n"
          ]
        }
      ],
      "source": [
        "df = pd.read_csv('/content/drive/MyDrive/1000000 Sales Records.csv', nrows=1000)\n",
        "df.info(verbose=False, memory_usage='deep')"
      ]
    },
    {
      "cell_type": "code",
      "execution_count": null,
      "metadata": {
        "id": "IwLqB4yzqLxh",
        "outputId": "7dfc8006-6d38-4e65-93d9-c1d7f25b56c9",
        "colab": {
          "base_uri": "https://localhost:8080/"
        }
      },
      "outputs": [
        {
          "output_type": "execute_result",
          "data": {
            "text/plain": [
              "array(['Region', 'Country', 'Item Type', 'Sales Channel',\n",
              "       'Order Priority', 'Order Date', 'Order ID', 'Ship Date',\n",
              "       'Units Sold', 'Unit Price', 'Unit Cost', 'Total Revenue',\n",
              "       'Total Cost', 'Total Profit'], dtype=object)"
            ]
          },
          "metadata": {},
          "execution_count": 34
        }
      ],
      "source": [
        "cols = df.columns.values\n",
        "cols"
      ]
    },
    {
      "cell_type": "code",
      "execution_count": null,
      "metadata": {
        "id": "bX1zvXi4qLxh"
      },
      "outputs": [],
      "source": [
        "req_cols = ['Region', 'Country', 'Item Type', 'Sales Channel',\n",
        "       'Order Priority',\n",
        "       'Units Sold', 'Unit Price', 'Unit Cost', 'Total Revenue',\n",
        "       'Total Cost', 'Total Profit']"
      ]
    },
    {
      "cell_type": "code",
      "execution_count": null,
      "metadata": {
        "id": "xwNWzPwsqLxh",
        "outputId": "6668a5d9-452f-419c-da1a-fbb430377bce",
        "colab": {
          "base_uri": "https://localhost:8080/",
          "height": 302
        }
      },
      "outputs": [
        {
          "output_type": "execute_result",
          "data": {
            "text/plain": [
              "                         Region           Country  Item Type Sales Channel  \\\n",
              "0            Sub-Saharan Africa      South Africa     Fruits       Offline   \n",
              "1  Middle East and North Africa           Morocco    Clothes        Online   \n",
              "2         Australia and Oceania  Papua New Guinea       Meat       Offline   \n",
              "3            Sub-Saharan Africa          Djibouti    Clothes       Offline   \n",
              "4                        Europe          Slovakia  Beverages       Offline   \n",
              "\n",
              "  Order Priority  Units Sold  Unit Price  Unit Cost  Total Revenue  \\\n",
              "0              M        1593        9.33       6.92       14862.69   \n",
              "1              M        4611      109.28      35.84      503890.08   \n",
              "2              M         360      421.89     364.69      151880.40   \n",
              "3              H         562      109.28      35.84       61415.36   \n",
              "4              L        3973       47.45      31.79      188518.85   \n",
              "\n",
              "   Total Cost  Total Profit  \n",
              "0    11023.56       3839.13  \n",
              "1   165258.24     338631.84  \n",
              "2   131288.40      20592.00  \n",
              "3    20142.08      41273.28  \n",
              "4   126301.67      62217.18  "
            ],
            "text/html": [
              "\n",
              "  <div id=\"df-1c20db56-0430-4e2f-b0cd-02352a4f86aa\">\n",
              "    <div class=\"colab-df-container\">\n",
              "      <div>\n",
              "<style scoped>\n",
              "    .dataframe tbody tr th:only-of-type {\n",
              "        vertical-align: middle;\n",
              "    }\n",
              "\n",
              "    .dataframe tbody tr th {\n",
              "        vertical-align: top;\n",
              "    }\n",
              "\n",
              "    .dataframe thead th {\n",
              "        text-align: right;\n",
              "    }\n",
              "</style>\n",
              "<table border=\"1\" class=\"dataframe\">\n",
              "  <thead>\n",
              "    <tr style=\"text-align: right;\">\n",
              "      <th></th>\n",
              "      <th>Region</th>\n",
              "      <th>Country</th>\n",
              "      <th>Item Type</th>\n",
              "      <th>Sales Channel</th>\n",
              "      <th>Order Priority</th>\n",
              "      <th>Units Sold</th>\n",
              "      <th>Unit Price</th>\n",
              "      <th>Unit Cost</th>\n",
              "      <th>Total Revenue</th>\n",
              "      <th>Total Cost</th>\n",
              "      <th>Total Profit</th>\n",
              "    </tr>\n",
              "  </thead>\n",
              "  <tbody>\n",
              "    <tr>\n",
              "      <th>0</th>\n",
              "      <td>Sub-Saharan Africa</td>\n",
              "      <td>South Africa</td>\n",
              "      <td>Fruits</td>\n",
              "      <td>Offline</td>\n",
              "      <td>M</td>\n",
              "      <td>1593</td>\n",
              "      <td>9.33</td>\n",
              "      <td>6.92</td>\n",
              "      <td>14862.69</td>\n",
              "      <td>11023.56</td>\n",
              "      <td>3839.13</td>\n",
              "    </tr>\n",
              "    <tr>\n",
              "      <th>1</th>\n",
              "      <td>Middle East and North Africa</td>\n",
              "      <td>Morocco</td>\n",
              "      <td>Clothes</td>\n",
              "      <td>Online</td>\n",
              "      <td>M</td>\n",
              "      <td>4611</td>\n",
              "      <td>109.28</td>\n",
              "      <td>35.84</td>\n",
              "      <td>503890.08</td>\n",
              "      <td>165258.24</td>\n",
              "      <td>338631.84</td>\n",
              "    </tr>\n",
              "    <tr>\n",
              "      <th>2</th>\n",
              "      <td>Australia and Oceania</td>\n",
              "      <td>Papua New Guinea</td>\n",
              "      <td>Meat</td>\n",
              "      <td>Offline</td>\n",
              "      <td>M</td>\n",
              "      <td>360</td>\n",
              "      <td>421.89</td>\n",
              "      <td>364.69</td>\n",
              "      <td>151880.40</td>\n",
              "      <td>131288.40</td>\n",
              "      <td>20592.00</td>\n",
              "    </tr>\n",
              "    <tr>\n",
              "      <th>3</th>\n",
              "      <td>Sub-Saharan Africa</td>\n",
              "      <td>Djibouti</td>\n",
              "      <td>Clothes</td>\n",
              "      <td>Offline</td>\n",
              "      <td>H</td>\n",
              "      <td>562</td>\n",
              "      <td>109.28</td>\n",
              "      <td>35.84</td>\n",
              "      <td>61415.36</td>\n",
              "      <td>20142.08</td>\n",
              "      <td>41273.28</td>\n",
              "    </tr>\n",
              "    <tr>\n",
              "      <th>4</th>\n",
              "      <td>Europe</td>\n",
              "      <td>Slovakia</td>\n",
              "      <td>Beverages</td>\n",
              "      <td>Offline</td>\n",
              "      <td>L</td>\n",
              "      <td>3973</td>\n",
              "      <td>47.45</td>\n",
              "      <td>31.79</td>\n",
              "      <td>188518.85</td>\n",
              "      <td>126301.67</td>\n",
              "      <td>62217.18</td>\n",
              "    </tr>\n",
              "  </tbody>\n",
              "</table>\n",
              "</div>\n",
              "      <button class=\"colab-df-convert\" onclick=\"convertToInteractive('df-1c20db56-0430-4e2f-b0cd-02352a4f86aa')\"\n",
              "              title=\"Convert this dataframe to an interactive table.\"\n",
              "              style=\"display:none;\">\n",
              "        \n",
              "  <svg xmlns=\"http://www.w3.org/2000/svg\" height=\"24px\"viewBox=\"0 0 24 24\"\n",
              "       width=\"24px\">\n",
              "    <path d=\"M0 0h24v24H0V0z\" fill=\"none\"/>\n",
              "    <path d=\"M18.56 5.44l.94 2.06.94-2.06 2.06-.94-2.06-.94-.94-2.06-.94 2.06-2.06.94zm-11 1L8.5 8.5l.94-2.06 2.06-.94-2.06-.94L8.5 2.5l-.94 2.06-2.06.94zm10 10l.94 2.06.94-2.06 2.06-.94-2.06-.94-.94-2.06-.94 2.06-2.06.94z\"/><path d=\"M17.41 7.96l-1.37-1.37c-.4-.4-.92-.59-1.43-.59-.52 0-1.04.2-1.43.59L10.3 9.45l-7.72 7.72c-.78.78-.78 2.05 0 2.83L4 21.41c.39.39.9.59 1.41.59.51 0 1.02-.2 1.41-.59l7.78-7.78 2.81-2.81c.8-.78.8-2.07 0-2.86zM5.41 20L4 18.59l7.72-7.72 1.47 1.35L5.41 20z\"/>\n",
              "  </svg>\n",
              "      </button>\n",
              "      \n",
              "  <style>\n",
              "    .colab-df-container {\n",
              "      display:flex;\n",
              "      flex-wrap:wrap;\n",
              "      gap: 12px;\n",
              "    }\n",
              "\n",
              "    .colab-df-convert {\n",
              "      background-color: #E8F0FE;\n",
              "      border: none;\n",
              "      border-radius: 50%;\n",
              "      cursor: pointer;\n",
              "      display: none;\n",
              "      fill: #1967D2;\n",
              "      height: 32px;\n",
              "      padding: 0 0 0 0;\n",
              "      width: 32px;\n",
              "    }\n",
              "\n",
              "    .colab-df-convert:hover {\n",
              "      background-color: #E2EBFA;\n",
              "      box-shadow: 0px 1px 2px rgba(60, 64, 67, 0.3), 0px 1px 3px 1px rgba(60, 64, 67, 0.15);\n",
              "      fill: #174EA6;\n",
              "    }\n",
              "\n",
              "    [theme=dark] .colab-df-convert {\n",
              "      background-color: #3B4455;\n",
              "      fill: #D2E3FC;\n",
              "    }\n",
              "\n",
              "    [theme=dark] .colab-df-convert:hover {\n",
              "      background-color: #434B5C;\n",
              "      box-shadow: 0px 1px 3px 1px rgba(0, 0, 0, 0.15);\n",
              "      filter: drop-shadow(0px 1px 2px rgba(0, 0, 0, 0.3));\n",
              "      fill: #FFFFFF;\n",
              "    }\n",
              "  </style>\n",
              "\n",
              "      <script>\n",
              "        const buttonEl =\n",
              "          document.querySelector('#df-1c20db56-0430-4e2f-b0cd-02352a4f86aa button.colab-df-convert');\n",
              "        buttonEl.style.display =\n",
              "          google.colab.kernel.accessAllowed ? 'block' : 'none';\n",
              "\n",
              "        async function convertToInteractive(key) {\n",
              "          const element = document.querySelector('#df-1c20db56-0430-4e2f-b0cd-02352a4f86aa');\n",
              "          const dataTable =\n",
              "            await google.colab.kernel.invokeFunction('convertToInteractive',\n",
              "                                                     [key], {});\n",
              "          if (!dataTable) return;\n",
              "\n",
              "          const docLinkHtml = 'Like what you see? Visit the ' +\n",
              "            '<a target=\"_blank\" href=https://colab.research.google.com/notebooks/data_table.ipynb>data table notebook</a>'\n",
              "            + ' to learn more about interactive tables.';\n",
              "          element.innerHTML = '';\n",
              "          dataTable['output_type'] = 'display_data';\n",
              "          await google.colab.output.renderOutput(dataTable, element);\n",
              "          const docLink = document.createElement('div');\n",
              "          docLink.innerHTML = docLinkHtml;\n",
              "          element.appendChild(docLink);\n",
              "        }\n",
              "      </script>\n",
              "    </div>\n",
              "  </div>\n",
              "  "
            ]
          },
          "metadata": {},
          "execution_count": 36
        }
      ],
      "source": [
        "df = pd.read_csv('/content/drive/MyDrive/1000000 Sales Records.csv', usecols=req_cols)\n",
        "df.head()"
      ]
    },
    {
      "cell_type": "code",
      "execution_count": null,
      "metadata": {
        "id": "Aa3wIgV7qLxh",
        "outputId": "d753dd31-160b-495d-d7bb-7933c7dfef87",
        "colab": {
          "base_uri": "https://localhost:8080/"
        }
      },
      "outputs": [
        {
          "output_type": "stream",
          "name": "stdout",
          "text": [
            "<class 'pandas.core.frame.DataFrame'>\n",
            "RangeIndex: 1000000 entries, 0 to 999999\n",
            "Columns: 11 entries, Region to Total Profit\n",
            "dtypes: float64(5), int64(1), object(5)\n",
            "memory usage: 356.5 MB\n"
          ]
        }
      ],
      "source": [
        "df.info(verbose=False, memory_usage='deep')"
      ]
    },
    {
      "cell_type": "markdown",
      "metadata": {
        "id": "uyNPSMSNqLxh"
      },
      "source": [
        "## Convert Datatype of the Columns"
      ]
    },
    {
      "cell_type": "code",
      "execution_count": null,
      "metadata": {
        "id": "JubFENQjqLxh",
        "outputId": "784f28a2-2fe4-4641-8709-9eddd62e82b8",
        "colab": {
          "base_uri": "https://localhost:8080/",
          "height": 300
        }
      },
      "outputs": [
        {
          "output_type": "execute_result",
          "data": {
            "text/plain": [
              "           Units Sold      Unit Price       Unit Cost  Total Revenue  \\\n",
              "count  1000000.000000  1000000.000000  1000000.000000   1.000000e+06   \n",
              "mean      4998.867302      266.025488      187.522978   1.329563e+06   \n",
              "std       2885.334142      216.987966      175.650798   1.468527e+06   \n",
              "min          1.000000        9.330000        6.920000   9.330000e+00   \n",
              "25%       2502.000000       81.730000       35.840000   2.778672e+05   \n",
              "50%       4998.000000      154.060000       97.440000   7.844445e+05   \n",
              "75%       7496.000000      421.890000      263.330000   1.822444e+06   \n",
              "max      10000.000000      668.270000      524.960000   6.682700e+06   \n",
              "\n",
              "         Total Cost  Total Profit  \n",
              "count  1.000000e+06  1.000000e+06  \n",
              "mean   9.372671e+05  3.922956e+05  \n",
              "std    1.148954e+06  3.788199e+05  \n",
              "min    6.920000e+00  2.410000e+00  \n",
              "25%    1.617289e+05  9.510480e+04  \n",
              "50%    4.667818e+05  2.810549e+05  \n",
              "75%    1.196327e+06  5.653076e+05  \n",
              "max    5.249600e+06  1.738700e+06  "
            ],
            "text/html": [
              "\n",
              "  <div id=\"df-f10b3b5a-8fb2-491f-8765-395728f78147\">\n",
              "    <div class=\"colab-df-container\">\n",
              "      <div>\n",
              "<style scoped>\n",
              "    .dataframe tbody tr th:only-of-type {\n",
              "        vertical-align: middle;\n",
              "    }\n",
              "\n",
              "    .dataframe tbody tr th {\n",
              "        vertical-align: top;\n",
              "    }\n",
              "\n",
              "    .dataframe thead th {\n",
              "        text-align: right;\n",
              "    }\n",
              "</style>\n",
              "<table border=\"1\" class=\"dataframe\">\n",
              "  <thead>\n",
              "    <tr style=\"text-align: right;\">\n",
              "      <th></th>\n",
              "      <th>Units Sold</th>\n",
              "      <th>Unit Price</th>\n",
              "      <th>Unit Cost</th>\n",
              "      <th>Total Revenue</th>\n",
              "      <th>Total Cost</th>\n",
              "      <th>Total Profit</th>\n",
              "    </tr>\n",
              "  </thead>\n",
              "  <tbody>\n",
              "    <tr>\n",
              "      <th>count</th>\n",
              "      <td>1000000.000000</td>\n",
              "      <td>1000000.000000</td>\n",
              "      <td>1000000.000000</td>\n",
              "      <td>1.000000e+06</td>\n",
              "      <td>1.000000e+06</td>\n",
              "      <td>1.000000e+06</td>\n",
              "    </tr>\n",
              "    <tr>\n",
              "      <th>mean</th>\n",
              "      <td>4998.867302</td>\n",
              "      <td>266.025488</td>\n",
              "      <td>187.522978</td>\n",
              "      <td>1.329563e+06</td>\n",
              "      <td>9.372671e+05</td>\n",
              "      <td>3.922956e+05</td>\n",
              "    </tr>\n",
              "    <tr>\n",
              "      <th>std</th>\n",
              "      <td>2885.334142</td>\n",
              "      <td>216.987966</td>\n",
              "      <td>175.650798</td>\n",
              "      <td>1.468527e+06</td>\n",
              "      <td>1.148954e+06</td>\n",
              "      <td>3.788199e+05</td>\n",
              "    </tr>\n",
              "    <tr>\n",
              "      <th>min</th>\n",
              "      <td>1.000000</td>\n",
              "      <td>9.330000</td>\n",
              "      <td>6.920000</td>\n",
              "      <td>9.330000e+00</td>\n",
              "      <td>6.920000e+00</td>\n",
              "      <td>2.410000e+00</td>\n",
              "    </tr>\n",
              "    <tr>\n",
              "      <th>25%</th>\n",
              "      <td>2502.000000</td>\n",
              "      <td>81.730000</td>\n",
              "      <td>35.840000</td>\n",
              "      <td>2.778672e+05</td>\n",
              "      <td>1.617289e+05</td>\n",
              "      <td>9.510480e+04</td>\n",
              "    </tr>\n",
              "    <tr>\n",
              "      <th>50%</th>\n",
              "      <td>4998.000000</td>\n",
              "      <td>154.060000</td>\n",
              "      <td>97.440000</td>\n",
              "      <td>7.844445e+05</td>\n",
              "      <td>4.667818e+05</td>\n",
              "      <td>2.810549e+05</td>\n",
              "    </tr>\n",
              "    <tr>\n",
              "      <th>75%</th>\n",
              "      <td>7496.000000</td>\n",
              "      <td>421.890000</td>\n",
              "      <td>263.330000</td>\n",
              "      <td>1.822444e+06</td>\n",
              "      <td>1.196327e+06</td>\n",
              "      <td>5.653076e+05</td>\n",
              "    </tr>\n",
              "    <tr>\n",
              "      <th>max</th>\n",
              "      <td>10000.000000</td>\n",
              "      <td>668.270000</td>\n",
              "      <td>524.960000</td>\n",
              "      <td>6.682700e+06</td>\n",
              "      <td>5.249600e+06</td>\n",
              "      <td>1.738700e+06</td>\n",
              "    </tr>\n",
              "  </tbody>\n",
              "</table>\n",
              "</div>\n",
              "      <button class=\"colab-df-convert\" onclick=\"convertToInteractive('df-f10b3b5a-8fb2-491f-8765-395728f78147')\"\n",
              "              title=\"Convert this dataframe to an interactive table.\"\n",
              "              style=\"display:none;\">\n",
              "        \n",
              "  <svg xmlns=\"http://www.w3.org/2000/svg\" height=\"24px\"viewBox=\"0 0 24 24\"\n",
              "       width=\"24px\">\n",
              "    <path d=\"M0 0h24v24H0V0z\" fill=\"none\"/>\n",
              "    <path d=\"M18.56 5.44l.94 2.06.94-2.06 2.06-.94-2.06-.94-.94-2.06-.94 2.06-2.06.94zm-11 1L8.5 8.5l.94-2.06 2.06-.94-2.06-.94L8.5 2.5l-.94 2.06-2.06.94zm10 10l.94 2.06.94-2.06 2.06-.94-2.06-.94-.94-2.06-.94 2.06-2.06.94z\"/><path d=\"M17.41 7.96l-1.37-1.37c-.4-.4-.92-.59-1.43-.59-.52 0-1.04.2-1.43.59L10.3 9.45l-7.72 7.72c-.78.78-.78 2.05 0 2.83L4 21.41c.39.39.9.59 1.41.59.51 0 1.02-.2 1.41-.59l7.78-7.78 2.81-2.81c.8-.78.8-2.07 0-2.86zM5.41 20L4 18.59l7.72-7.72 1.47 1.35L5.41 20z\"/>\n",
              "  </svg>\n",
              "      </button>\n",
              "      \n",
              "  <style>\n",
              "    .colab-df-container {\n",
              "      display:flex;\n",
              "      flex-wrap:wrap;\n",
              "      gap: 12px;\n",
              "    }\n",
              "\n",
              "    .colab-df-convert {\n",
              "      background-color: #E8F0FE;\n",
              "      border: none;\n",
              "      border-radius: 50%;\n",
              "      cursor: pointer;\n",
              "      display: none;\n",
              "      fill: #1967D2;\n",
              "      height: 32px;\n",
              "      padding: 0 0 0 0;\n",
              "      width: 32px;\n",
              "    }\n",
              "\n",
              "    .colab-df-convert:hover {\n",
              "      background-color: #E2EBFA;\n",
              "      box-shadow: 0px 1px 2px rgba(60, 64, 67, 0.3), 0px 1px 3px 1px rgba(60, 64, 67, 0.15);\n",
              "      fill: #174EA6;\n",
              "    }\n",
              "\n",
              "    [theme=dark] .colab-df-convert {\n",
              "      background-color: #3B4455;\n",
              "      fill: #D2E3FC;\n",
              "    }\n",
              "\n",
              "    [theme=dark] .colab-df-convert:hover {\n",
              "      background-color: #434B5C;\n",
              "      box-shadow: 0px 1px 3px 1px rgba(0, 0, 0, 0.15);\n",
              "      filter: drop-shadow(0px 1px 2px rgba(0, 0, 0, 0.3));\n",
              "      fill: #FFFFFF;\n",
              "    }\n",
              "  </style>\n",
              "\n",
              "      <script>\n",
              "        const buttonEl =\n",
              "          document.querySelector('#df-f10b3b5a-8fb2-491f-8765-395728f78147 button.colab-df-convert');\n",
              "        buttonEl.style.display =\n",
              "          google.colab.kernel.accessAllowed ? 'block' : 'none';\n",
              "\n",
              "        async function convertToInteractive(key) {\n",
              "          const element = document.querySelector('#df-f10b3b5a-8fb2-491f-8765-395728f78147');\n",
              "          const dataTable =\n",
              "            await google.colab.kernel.invokeFunction('convertToInteractive',\n",
              "                                                     [key], {});\n",
              "          if (!dataTable) return;\n",
              "\n",
              "          const docLinkHtml = 'Like what you see? Visit the ' +\n",
              "            '<a target=\"_blank\" href=https://colab.research.google.com/notebooks/data_table.ipynb>data table notebook</a>'\n",
              "            + ' to learn more about interactive tables.';\n",
              "          element.innerHTML = '';\n",
              "          dataTable['output_type'] = 'display_data';\n",
              "          await google.colab.output.renderOutput(dataTable, element);\n",
              "          const docLink = document.createElement('div');\n",
              "          docLink.innerHTML = docLinkHtml;\n",
              "          element.appendChild(docLink);\n",
              "        }\n",
              "      </script>\n",
              "    </div>\n",
              "  </div>\n",
              "  "
            ]
          },
          "metadata": {},
          "execution_count": 38
        }
      ],
      "source": [
        "df.describe()"
      ]
    },
    {
      "cell_type": "code",
      "execution_count": null,
      "metadata": {
        "id": "0bEwcPJ7qLxi"
      },
      "outputs": [],
      "source": [
        "for col in df.columns:\n",
        "    if df[col].dtype == 'float64':\n",
        "        df[col] = df[col].astype('float16')\n",
        "    if df[col].dtype == 'int64':\n",
        "        df[col] = df[col].astype('int16')\n",
        "    if df[col].dtype == 'object':\n",
        "        df[col] = df[col].astype('category')"
      ]
    },
    {
      "cell_type": "code",
      "execution_count": null,
      "metadata": {
        "id": "pj8DkMynqLxi",
        "outputId": "b808d0ae-fa27-451b-bf16-e82b44541b70",
        "colab": {
          "base_uri": "https://localhost:8080/"
        }
      },
      "outputs": [
        {
          "output_type": "stream",
          "name": "stdout",
          "text": [
            "<class 'pandas.core.frame.DataFrame'>\n",
            "RangeIndex: 1000000 entries, 0 to 999999\n",
            "Columns: 11 entries, Region to Total Profit\n",
            "dtypes: category(5), float16(5), int16(1)\n",
            "memory usage: 17.2 MB\n"
          ]
        }
      ],
      "source": [
        "df.info(verbose=False, memory_usage='deep')"
      ]
    },
    {
      "cell_type": "code",
      "execution_count": null,
      "metadata": {
        "id": "gezWDMu7qLxi",
        "outputId": "069caffc-1595-4ce7-b074-d39a8337c0e7",
        "colab": {
          "base_uri": "https://localhost:8080/"
        }
      },
      "outputs": [
        {
          "output_type": "stream",
          "name": "stdout",
          "text": [
            "<class 'pandas.core.frame.DataFrame'>\n",
            "RangeIndex: 1000000 entries, 0 to 999999\n",
            "Columns: 11 entries, Region to Total Profit\n",
            "dtypes: category(1), float64(5), int16(1), object(4)\n",
            "memory usage: 282.3 MB\n"
          ]
        }
      ],
      "source": [
        "df = pd.read_csv('/content/drive/MyDrive/1000000 Sales Records.csv', usecols=req_cols, dtype={'Region': 'category', 'Units Sold': 'int16'})\n",
        "df.info(verbose=False, memory_usage='deep')"
      ]
    },
    {
      "cell_type": "markdown",
      "metadata": {
        "id": "Ss-GnXqDqLxi"
      },
      "source": [
        "## Load Dataset Faster using chunks"
      ]
    },
    {
      "cell_type": "code",
      "execution_count": null,
      "metadata": {
        "id": "a908XV_QqLxi",
        "outputId": "2d1770a6-dc2a-4f2c-980c-45942530ece3",
        "colab": {
          "base_uri": "https://localhost:8080/"
        }
      },
      "outputs": [
        {
          "output_type": "stream",
          "name": "stdout",
          "text": [
            "CPU times: user 2.18 s, sys: 229 ms, total: 2.41 s\n",
            "Wall time: 2.58 s\n"
          ]
        },
        {
          "output_type": "execute_result",
          "data": {
            "text/plain": [
              "1000000"
            ]
          },
          "metadata": {},
          "execution_count": 43
        }
      ],
      "source": [
        "%%time\n",
        "df = pd.read_csv('/content/drive/MyDrive/1000000 Sales Records.csv')\n",
        "len(df)"
      ]
    },
    {
      "cell_type": "code",
      "execution_count": null,
      "metadata": {
        "id": "u5gpk-lGqLxi",
        "outputId": "0810734d-02f5-4582-da54-02ae33c989e7",
        "colab": {
          "base_uri": "https://localhost:8080/"
        }
      },
      "outputs": [
        {
          "output_type": "stream",
          "name": "stdout",
          "text": [
            "CPU times: user 3.48 ms, sys: 17.9 ms, total: 21.4 ms\n",
            "Wall time: 31.4 ms\n"
          ]
        }
      ],
      "source": [
        "%%time\n",
        "chunks = pd.read_csv('/content/drive/MyDrive/1000000 Sales Records.csv', iterator=True, chunksize=1000)\n",
        "# df = pd.concat(chunks, ignore_index=True)\n",
        "# df.head()"
      ]
    },
    {
      "cell_type": "code",
      "execution_count": null,
      "metadata": {
        "id": "27PkGdtVqLxi",
        "outputId": "49af286d-877b-484a-9e0a-b8a98ea515c7",
        "colab": {
          "base_uri": "https://localhost:8080/"
        }
      },
      "outputs": [
        {
          "output_type": "execute_result",
          "data": {
            "text/plain": [
              "1000000"
            ]
          },
          "metadata": {},
          "execution_count": 45
        }
      ],
      "source": [
        "length = 0\n",
        "for chunk in chunks:\n",
        "    length += len(chunk)\n",
        "length"
      ]
    }
  ],
  "metadata": {
    "kernelspec": {
      "display_name": "Python 3",
      "language": "python",
      "name": "python3"
    },
    "language_info": {
      "codemirror_mode": {
        "name": "ipython",
        "version": 3
      },
      "file_extension": ".py",
      "mimetype": "text/x-python",
      "name": "python",
      "nbconvert_exporter": "python",
      "pygments_lexer": "ipython3",
      "version": "3.8.3"
    },
    "colab": {
      "provenance": []
    }
  },
  "nbformat": 4,
  "nbformat_minor": 0
}
